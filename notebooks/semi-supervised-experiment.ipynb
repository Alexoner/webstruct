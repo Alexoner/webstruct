{
 "metadata": {
  "name": "semi-supervised-experiment"
 },
 "nbformat": 3,
 "nbformat_minor": 0,
 "worksheets": [
  {
   "cells": [
    {
     "cell_type": "code",
     "collapsed": false,
     "input": [
      "from gzip import GzipFile\n",
      "import msgpack\n",
      "import os\n",
      "import lxml.html.clean\n",
      "from lxml.html import HTMLParser, document_fromstring, tostring\n",
      "\n",
      "unpacker = msgpack.Unpacker(GzipFile(filename='businesssites-ie_51_168_4.msgpack'))\n",
      "\n",
      "def mkdir(path):\n",
      "    try:\n",
      "        os.makedirs(path)\n",
      "    except OSError:\n",
      "        pass\n",
      "    \n",
      "parser = HTMLParser(encoding='utf8')\n",
      "\n",
      "cleaner = lxml.html.clean.Cleaner(\n",
      "    style=True,\n",
      "    scripts=True,\n",
      "    embedded=True,\n",
      "    links=True,\n",
      "    page_structure=False,\n",
      "    remove_unknown_tags=False,\n",
      "    meta=False,\n",
      "    safe_attrs_only=False\n",
      ")\n",
      "\n",
      "def html2text(html):\n",
      "    doc = document_fromstring(html, parser=parser)\n",
      "    doc = cleaner.clean_html(doc)\n",
      "    return tostring(doc, method='text', encoding='unicode')\n",
      "\n",
      "def normalize_text(text):\n",
      "    return u\" \".join(text.split())\n",
      "\n",
      "mkdir('../webstruct_data/experiments/')\n",
      "\n",
      "with open('../webstruct_data/experiments/ie-pages.txt'.format(i), 'w') as f:\n",
      "    for i, item in enumerate(unpacker):\n",
      "        html = item.get('body', '')\n",
      "        if html:\n",
      "            text = html2text(html)\n",
      "            text = normalize_text(text)\n",
      "            f.write(text.encode('utf8'))\n",
      "            f.write('\\n')\n",
      "    print i, 'pages'\n"
     ],
     "language": "python",
     "metadata": {},
     "outputs": [],
     "prompt_number": "*"
    },
    {
     "cell_type": "code",
     "collapsed": false,
     "input": [
      "!time /Users/tpeng/github/word2vec/bin/word2vec -train ../webstruct_data/experiments/ie-pages.txt -output ../webstruct_data/experiments/ie-pages-vector.bin -cbow 0 -size 200 -window 5 -negative 0 -hs 1 -sample 1e-3 -threads 12 -binary 1"
     ],
     "language": "python",
     "metadata": {},
     "outputs": [
      {
       "output_type": "stream",
       "stream": "stdout",
       "text": [
        "Starting training using file ../webstruct_data/experiments/ie-pages.txt\r\n"
       ]
      },
      {
       "output_type": "stream",
       "stream": "stdout",
       "text": [
        "100K\r",
        "200K\r"
       ]
      },
      {
       "output_type": "stream",
       "stream": "stdout",
       "text": [
        "300K\r",
        "400K\r",
        "500K\r"
       ]
      },
      {
       "output_type": "stream",
       "stream": "stdout",
       "text": [
        "600K\r",
        "700K\r",
        "800K\r"
       ]
      },
      {
       "output_type": "stream",
       "stream": "stdout",
       "text": [
        "900K\r",
        "1000K\r",
        "1100K\r"
       ]
      },
      {
       "output_type": "stream",
       "stream": "stdout",
       "text": [
        "1200K\r",
        "1300K\r",
        "1400K\r"
       ]
      },
      {
       "output_type": "stream",
       "stream": "stdout",
       "text": [
        "1500K\r",
        "1600K\r",
        "1700K\r"
       ]
      },
      {
       "output_type": "stream",
       "stream": "stdout",
       "text": [
        "1800K\r",
        "1900K\r"
       ]
      },
      {
       "output_type": "stream",
       "stream": "stdout",
       "text": [
        "Vocab size: 31773\r\n",
        "Words in train file: 1798692\r\n"
       ]
      },
      {
       "output_type": "stream",
       "stream": "stdout",
       "text": [
        "\r",
        "Alpha: 0.025000  Progress: 0.59%  Words/thread/sec: 0.89k  "
       ]
      },
      {
       "output_type": "stream",
       "stream": "stdout",
       "text": [
        "\r",
        "Alpha: 0.024854  Progress: 1.16%  Words/thread/sec: 1.76k  \r",
        "Alpha: 0.024710  Progress: 1.73%  Words/thread/sec: 2.62k  \r",
        "Alpha: 0.024567  Progress: 2.31%  Words/thread/sec: 3.49k  \r",
        "Alpha: 0.024422  Progress: 2.87%  Words/thread/sec: 4.32k  \r",
        "Alpha: 0.024282  Progress: 3.44%  Words/thread/sec: 5.17k  "
       ]
      },
      {
       "output_type": "stream",
       "stream": "stdout",
       "text": [
        "\r",
        "Alpha: 0.024140  Progress: 4.03%  Words/thread/sec: 6.01k  \r",
        "Alpha: 0.023993  Progress: 4.61%  Words/thread/sec: 6.86k  \r",
        "Alpha: 0.023848  Progress: 5.18%  Words/thread/sec: 7.69k  \r",
        "Alpha: 0.023705  Progress: 5.75%  Words/thread/sec: 8.50k  "
       ]
      },
      {
       "output_type": "stream",
       "stream": "stdout",
       "text": [
        "\r",
        "Alpha: 0.023564  Progress: 6.31%  Words/thread/sec: 9.23k  \r",
        "Alpha: 0.023421  Progress: 6.89%  Words/thread/sec: 10.05k  "
       ]
      },
      {
       "output_type": "stream",
       "stream": "stdout",
       "text": [
        "\r",
        "Alpha: 0.023278  Progress: 7.46%  Words/thread/sec: 5.37k  "
       ]
      },
      {
       "output_type": "stream",
       "stream": "stdout",
       "text": [
        "\r",
        "Alpha: 0.023134  Progress: 8.04%  Words/thread/sec: 5.72k  \r",
        "Alpha: 0.022991  Progress: 8.62%  Words/thread/sec: 6.12k  \r",
        "Alpha: 0.022846  Progress: 9.19%  Words/thread/sec: 6.51k  "
       ]
      },
      {
       "output_type": "stream",
       "stream": "stdout",
       "text": [
        "\r",
        "Alpha: 0.022702  Progress: 9.76%  Words/thread/sec: 6.91k  \r",
        "Alpha: 0.022559  Progress: 10.34%  Words/thread/sec: 7.31k  \r",
        "Alpha: 0.022414  Progress: 10.93%  Words/thread/sec: 7.72k  \r",
        "Alpha: 0.022267  Progress: 11.50%  Words/thread/sec: 8.10k  "
       ]
      },
      {
       "output_type": "stream",
       "stream": "stdout",
       "text": [
        "\r",
        "Alpha: 0.022124  Progress: 12.09%  Words/thread/sec: 8.50k  \r",
        "Alpha: 0.021978  Progress: 12.67%  Words/thread/sec: 8.90k  \r",
        "Alpha: 0.021834  Progress: 13.25%  Words/thread/sec: 9.30k  "
       ]
      },
      {
       "output_type": "stream",
       "stream": "stdout",
       "text": [
        "\r",
        "Alpha: 0.021688  Progress: 13.83%  Words/thread/sec: 9.59k  "
       ]
      },
      {
       "output_type": "stream",
       "stream": "stdout",
       "text": [
        "\r",
        "Alpha: 0.021544  Progress: 14.39%  Words/thread/sec: 6.74k  \r",
        "Alpha: 0.021403  Progress: 14.96%  Words/thread/sec: 7.00k  \r",
        "Alpha: 0.021260  Progress: 15.54%  Words/thread/sec: 7.27k  \r",
        "Alpha: 0.021115  Progress: 16.11%  Words/thread/sec: 7.53k  "
       ]
      },
      {
       "output_type": "stream",
       "stream": "stdout",
       "text": [
        "\r",
        "Alpha: 0.020973  Progress: 16.68%  Words/thread/sec: 7.78k  \r",
        "Alpha: 0.020830  Progress: 17.27%  Words/thread/sec: 8.05k  "
       ]
      },
      {
       "output_type": "stream",
       "stream": "stdout",
       "text": [
        "\r",
        "Alpha: 0.020682  Progress: 17.84%  Words/thread/sec: 8.28k  \r",
        "Alpha: 0.020539  Progress: 18.43%  Words/thread/sec: 8.54k  \r",
        "Alpha: 0.020394  Progress: 19.01%  Words/thread/sec: 8.80k  \r",
        "Alpha: 0.020247  Progress: 19.59%  Words/thread/sec: 9.07k  "
       ]
      },
      {
       "output_type": "stream",
       "stream": "stdout",
       "text": [
        "\r",
        "Alpha: 0.020103  Progress: 20.16%  Words/thread/sec: 9.28k  \r",
        "Alpha: 0.019960  Progress: 20.73%  Words/thread/sec: 9.51k  "
       ]
      },
      {
       "output_type": "stream",
       "stream": "stdout",
       "text": [
        "\r",
        "Alpha: 0.019818  Progress: 21.31%  Words/thread/sec: 7.45k  \r",
        "Alpha: 0.019674  Progress: 21.89%  Words/thread/sec: 7.65k  "
       ]
      },
      {
       "output_type": "stream",
       "stream": "stdout",
       "text": [
        "\r",
        "Alpha: 0.019528  Progress: 22.48%  Words/thread/sec: 7.83k  "
       ]
      },
      {
       "output_type": "stream",
       "stream": "stdout",
       "text": [
        "\r",
        "Alpha: 0.019381  Progress: 23.06%  Words/thread/sec: 8.00k  \r",
        "Alpha: 0.019236  Progress: 23.63%  Words/thread/sec: 8.19k  \r",
        "Alpha: 0.019092  Progress: 24.20%  Words/thread/sec: 8.38k  "
       ]
      },
      {
       "output_type": "stream",
       "stream": "stdout",
       "text": [
        "\r",
        "Alpha: 0.018951  Progress: 24.78%  Words/thread/sec: 8.56k  \r",
        "Alpha: 0.018805  Progress: 25.36%  Words/thread/sec: 8.75k  "
       ]
      },
      {
       "output_type": "stream",
       "stream": "stdout",
       "text": [
        "\r",
        "Alpha: 0.018661  Progress: 25.93%  Words/thread/sec: 8.91k  "
       ]
      },
      {
       "output_type": "stream",
       "stream": "stdout",
       "text": [
        "\r",
        "Alpha: 0.018518  Progress: 26.51%  Words/thread/sec: 9.09k  \r",
        "Alpha: 0.018374  Progress: 27.07%  Words/thread/sec: 9.28k  "
       ]
      },
      {
       "output_type": "stream",
       "stream": "stdout",
       "text": [
        "\r",
        "Alpha: 0.018233  Progress: 27.68%  Words/thread/sec: 9.32k  "
       ]
      },
      {
       "output_type": "stream",
       "stream": "stdout",
       "text": [
        "\r",
        "Alpha: 0.018079  Progress: 28.27%  Words/thread/sec: 7.85k  "
       ]
      },
      {
       "output_type": "stream",
       "stream": "stdout",
       "text": [
        "\r",
        "Alpha: 0.017933  Progress: 28.85%  Words/thread/sec: 7.99k  \r",
        "Alpha: 0.017787  Progress: 29.43%  Words/thread/sec: 8.15k  "
       ]
      },
      {
       "output_type": "stream",
       "stream": "stdout",
       "text": [
        "\r",
        "Alpha: 0.017643  Progress: 30.00%  Words/thread/sec: 8.29k  "
       ]
      },
      {
       "output_type": "stream",
       "stream": "stdout",
       "text": [
        "\r",
        "Alpha: 0.017500  Progress: 30.59%  Words/thread/sec: 8.43k  "
       ]
      },
      {
       "output_type": "stream",
       "stream": "stdout",
       "text": [
        "\r",
        "Alpha: 0.017353  Progress: 31.16%  Words/thread/sec: 8.58k  \r",
        "Alpha: 0.017210  Progress: 31.74%  Words/thread/sec: 8.74k  "
       ]
      },
      {
       "output_type": "stream",
       "stream": "stdout",
       "text": [
        "\r",
        "Alpha: 0.017064  Progress: 32.31%  Words/thread/sec: 8.85k  \r",
        "Alpha: 0.016922  Progress: 32.91%  Words/thread/sec: 9.01k  \r",
        "Alpha: 0.016773  Progress: 33.49%  Words/thread/sec: 9.16k  "
       ]
      },
      {
       "output_type": "stream",
       "stream": "stdout",
       "text": [
        "\r",
        "Alpha: 0.016628  Progress: 34.06%  Words/thread/sec: 9.22k  "
       ]
      },
      {
       "output_type": "stream",
       "stream": "stdout",
       "text": [
        "\r",
        "Alpha: 0.016486  Progress: 34.67%  Words/thread/sec: 9.21k  "
       ]
      },
      {
       "output_type": "stream",
       "stream": "stdout",
       "text": [
        "\r",
        "Alpha: 0.016333  Progress: 35.26%  Words/thread/sec: 8.19k  "
       ]
      },
      {
       "output_type": "stream",
       "stream": "stdout",
       "text": [
        "\r",
        "Alpha: 0.016186  Progress: 35.83%  Words/thread/sec: 8.24k  "
       ]
      },
      {
       "output_type": "stream",
       "stream": "stdout",
       "text": [
        "\r",
        "Alpha: 0.016042  Progress: 36.41%  Words/thread/sec: 8.36k  \r",
        "Alpha: 0.015897  Progress: 36.98%  Words/thread/sec: 8.48k  "
       ]
      },
      {
       "output_type": "stream",
       "stream": "stdout",
       "text": [
        "\r",
        "Alpha: 0.015755  Progress: 37.56%  Words/thread/sec: 8.61k  \r",
        "Alpha: 0.015611  Progress: 38.13%  Words/thread/sec: 8.73k  "
       ]
      },
      {
       "output_type": "stream",
       "stream": "stdout",
       "text": [
        "\r",
        "Alpha: 0.015467  Progress: 38.71%  Words/thread/sec: 8.85k  \r",
        "Alpha: 0.015467  Progress: 39.28%  Words/thread/sec: 8.98k  "
       ]
      },
      {
       "output_type": "stream",
       "stream": "stdout",
       "text": [
        "\r",
        "Alpha: 0.015180  Progress: 39.88%  Words/thread/sec: 9.06k  \r",
        "Alpha: 0.015031  Progress: 40.45%  Words/thread/sec: 9.19k  "
       ]
      },
      {
       "output_type": "stream",
       "stream": "stdout",
       "text": [
        "\r",
        "Alpha: 0.014886  Progress: 41.01%  Words/thread/sec: 9.29k  "
       ]
      },
      {
       "output_type": "stream",
       "stream": "stdout",
       "text": [
        "\r",
        "Alpha: 0.014746  Progress: 41.63%  Words/thread/sec: 9.05k  "
       ]
      },
      {
       "output_type": "stream",
       "stream": "stdout",
       "text": [
        "\r",
        "Alpha: 0.014593  Progress: 42.22%  Words/thread/sec: 8.35k  "
       ]
      },
      {
       "output_type": "stream",
       "stream": "stdout",
       "text": [
        "\r",
        "Alpha: 0.014446  Progress: 42.80%  Words/thread/sec: 8.41k  "
       ]
      },
      {
       "output_type": "stream",
       "stream": "stdout",
       "text": [
        "\r",
        "Alpha: 0.014300  Progress: 43.37%  Words/thread/sec: 8.51k  \r",
        "Alpha: 0.014156  Progress: 43.95%  Words/thread/sec: 8.61k  "
       ]
      },
      {
       "output_type": "stream",
       "stream": "stdout",
       "text": [
        "\r",
        "Alpha: 0.014013  Progress: 44.51%  Words/thread/sec: 8.71k  \r",
        "Alpha: 0.014013  Progress: 45.09%  Words/thread/sec: 8.82k  \r",
        "Alpha: 0.013728  Progress: 45.67%  Words/thread/sec: 8.92k  "
       ]
      },
      {
       "output_type": "stream",
       "stream": "stdout",
       "text": [
        "\r",
        "Alpha: 0.013583  Progress: 46.27%  Words/thread/sec: 9.01k  "
       ]
      },
      {
       "output_type": "stream",
       "stream": "stdout",
       "text": [
        "\r",
        "Alpha: 0.013433  Progress: 46.85%  Words/thread/sec: 9.10k  "
       ]
      },
      {
       "output_type": "stream",
       "stream": "stdout",
       "text": [
        "\r",
        "Alpha: 0.013288  Progress: 47.41%  Words/thread/sec: 9.19k  "
       ]
      },
      {
       "output_type": "stream",
       "stream": "stdout",
       "text": [
        "\r",
        "Alpha: 0.013147  Progress: 48.03%  Words/thread/sec: 9.20k  "
       ]
      },
      {
       "output_type": "stream",
       "stream": "stdout",
       "text": [
        "\r",
        "Alpha: 0.012993  Progress: 48.59%  Words/thread/sec: 9.11k  "
       ]
      },
      {
       "output_type": "stream",
       "stream": "stdout",
       "text": [
        "\r",
        "Alpha: 0.012853  Progress: 49.18%  Words/thread/sec: 8.47k  "
       ]
      },
      {
       "output_type": "stream",
       "stream": "stdout",
       "text": [
        "\r",
        "Alpha: 0.012705  Progress: 49.77%  Words/thread/sec: 8.54k  "
       ]
      },
      {
       "output_type": "stream",
       "stream": "stdout",
       "text": [
        "\r",
        "Alpha: 0.012557  Progress: 50.35%  Words/thread/sec: 8.62k  \r",
        "Alpha: 0.012413  Progress: 50.93%  Words/thread/sec: 8.71k  \r",
        "Alpha: 0.012268  Progress: 51.51%  Words/thread/sec: 8.80k  "
       ]
      },
      {
       "output_type": "stream",
       "stream": "stdout",
       "text": [
        "\r",
        "Alpha: 0.012123  Progress: 52.09%  Words/thread/sec: 8.88k  \r",
        "Alpha: 0.011979  Progress: 52.66%  Words/thread/sec: 8.97k  "
       ]
      },
      {
       "output_type": "stream",
       "stream": "stdout",
       "text": [
        "\r",
        "Alpha: 0.011834  Progress: 53.26%  Words/thread/sec: 9.06k  "
       ]
      },
      {
       "output_type": "stream",
       "stream": "stdout",
       "text": [
        "\r",
        "Alpha: 0.011684  Progress: 53.83%  Words/thread/sec: 9.11k  "
       ]
      },
      {
       "output_type": "stream",
       "stream": "stdout",
       "text": [
        "\r",
        "Alpha: 0.011542  Progress: 54.44%  Words/thread/sec: 9.07k  "
       ]
      },
      {
       "output_type": "stream",
       "stream": "stdout",
       "text": [
        "\r",
        "Alpha: 0.011389  Progress: 55.06%  Words/thread/sec: 9.04k  \r",
        "Alpha: 0.011236  Progress: 55.63%  Words/thread/sec: 9.13k  "
       ]
      },
      {
       "output_type": "stream",
       "stream": "stdout",
       "text": [
        "\r",
        "Alpha: 0.011091  Progress: 56.21%  Words/thread/sec: 8.59k  "
       ]
      },
      {
       "output_type": "stream",
       "stream": "stdout",
       "text": [
        "\r",
        "Alpha: 0.010946  Progress: 56.79%  Words/thread/sec: 8.64k  "
       ]
      },
      {
       "output_type": "stream",
       "stream": "stdout",
       "text": [
        "\r",
        "Alpha: 0.010802  Progress: 57.37%  Words/thread/sec: 8.71k  "
       ]
      },
      {
       "output_type": "stream",
       "stream": "stdout",
       "text": [
        "\r",
        "Alpha: 0.010658  Progress: 57.97%  Words/thread/sec: 8.79k  \r",
        "Alpha: 0.010509  Progress: 58.53%  Words/thread/sec: 8.88k  "
       ]
      },
      {
       "output_type": "stream",
       "stream": "stdout",
       "text": [
        "\r",
        "Alpha: 0.010367  Progress: 59.11%  Words/thread/sec: 8.96k  "
       ]
      },
      {
       "output_type": "stream",
       "stream": "stdout",
       "text": [
        "\r",
        "Alpha: 0.010223  Progress: 59.68%  Words/thread/sec: 9.02k  \r",
        "Alpha: 0.010079  Progress: 60.26%  Words/thread/sec: 9.10k  "
       ]
      },
      {
       "output_type": "stream",
       "stream": "stdout",
       "text": [
        "\r",
        "Alpha: 0.009935  Progress: 60.84%  Words/thread/sec: 9.16k  "
       ]
      },
      {
       "output_type": "stream",
       "stream": "stdout",
       "text": [
        "\r",
        "Alpha: 0.009789  Progress: 61.40%  Words/thread/sec: 9.06k  "
       ]
      },
      {
       "output_type": "stream",
       "stream": "stdout",
       "text": [
        "\r",
        "Alpha: 0.009649  Progress: 61.97%  Words/thread/sec: 9.05k  "
       ]
      },
      {
       "output_type": "stream",
       "stream": "stdout",
       "text": [
        "\r",
        "Alpha: 0.009508  Progress: 62.54%  Words/thread/sec: 9.12k  "
       ]
      },
      {
       "output_type": "stream",
       "stream": "stdout",
       "text": [
        "\r",
        "Alpha: 0.009366  Progress: 63.12%  Words/thread/sec: 8.68k  "
       ]
      },
      {
       "output_type": "stream",
       "stream": "stdout",
       "text": [
        "\r",
        "Alpha: 0.009220  Progress: 63.70%  Words/thread/sec: 8.70k  \r",
        "Alpha: 0.009075  Progress: 64.29%  Words/thread/sec: 8.78k  "
       ]
      },
      {
       "output_type": "stream",
       "stream": "stdout",
       "text": [
        "\r",
        "Alpha: 0.008928  Progress: 64.87%  Words/thread/sec: 8.86k  \r",
        "Alpha: 0.008783  Progress: 65.45%  Words/thread/sec: 8.93k  "
       ]
      },
      {
       "output_type": "stream",
       "stream": "stdout",
       "text": [
        "\r",
        "Alpha: 0.008637  Progress: 66.04%  Words/thread/sec: 9.00k  "
       ]
      },
      {
       "output_type": "stream",
       "stream": "stdout",
       "text": [
        "\r",
        "Alpha: 0.008490  Progress: 66.61%  Words/thread/sec: 9.06k  "
       ]
      },
      {
       "output_type": "stream",
       "stream": "stdout",
       "text": [
        "\r",
        "Alpha: 0.008347  Progress: 67.18%  Words/thread/sec: 9.11k  "
       ]
      },
      {
       "output_type": "stream",
       "stream": "stdout",
       "text": [
        "\r",
        "Alpha: 0.008205  Progress: 67.75%  Words/thread/sec: 9.18k  "
       ]
      },
      {
       "output_type": "stream",
       "stream": "stdout",
       "text": [
        "\r",
        "Alpha: 0.008063  Progress: 68.31%  Words/thread/sec: 9.09k  "
       ]
      },
      {
       "output_type": "stream",
       "stream": "stdout",
       "text": [
        "\r",
        "Alpha: 0.007921  Progress: 68.88%  Words/thread/sec: 9.08k  "
       ]
      },
      {
       "output_type": "stream",
       "stream": "stdout",
       "text": [
        "\r",
        "Alpha: 0.007781  Progress: 69.46%  Words/thread/sec: 9.16k  "
       ]
      },
      {
       "output_type": "stream",
       "stream": "stdout",
       "text": [
        "\r",
        "Alpha: 0.007635  Progress: 70.02%  Words/thread/sec: 8.74k  "
       ]
      },
      {
       "output_type": "stream",
       "stream": "stdout",
       "text": [
        "\r",
        "Alpha: 0.007495  Progress: 70.61%  Words/thread/sec: 8.77k  "
       ]
      },
      {
       "output_type": "stream",
       "stream": "stdout",
       "text": [
        "\r",
        "Alpha: 0.007349  Progress: 71.18%  Words/thread/sec: 8.83k  "
       ]
      },
      {
       "output_type": "stream",
       "stream": "stdout",
       "text": [
        "\r",
        "Alpha: 0.007205  Progress: 71.76%  Words/thread/sec: 8.90k  \r",
        "Alpha: 0.007059  Progress: 72.34%  Words/thread/sec: 8.97k  "
       ]
      },
      {
       "output_type": "stream",
       "stream": "stdout",
       "text": [
        "\r",
        "Alpha: 0.006916  Progress: 72.91%  Words/thread/sec: 9.02k  "
       ]
      },
      {
       "output_type": "stream",
       "stream": "stdout",
       "text": [
        "\r",
        "Alpha: 0.006772  Progress: 73.49%  Words/thread/sec: 9.07k  \r",
        "Alpha: 0.006628  Progress: 74.08%  Words/thread/sec: 9.14k  "
       ]
      },
      {
       "output_type": "stream",
       "stream": "stdout",
       "text": [
        "\r",
        "Alpha: 0.006479  Progress: 74.64%  Words/thread/sec: 9.19k  "
       ]
      },
      {
       "output_type": "stream",
       "stream": "stdout",
       "text": [
        "\r",
        "Alpha: 0.006340  Progress: 75.21%  Words/thread/sec: 9.10k  "
       ]
      },
      {
       "output_type": "stream",
       "stream": "stdout",
       "text": [
        "\r",
        "Alpha: 0.006199  Progress: 75.78%  Words/thread/sec: 9.11k  "
       ]
      },
      {
       "output_type": "stream",
       "stream": "stdout",
       "text": [
        "\r",
        "Alpha: 0.006054  Progress: 76.35%  Words/thread/sec: 9.16k  "
       ]
      },
      {
       "output_type": "stream",
       "stream": "stdout",
       "text": [
        "\r",
        "Alpha: 0.005912  Progress: 76.94%  Words/thread/sec: 8.78k  "
       ]
      },
      {
       "output_type": "stream",
       "stream": "stdout",
       "text": [
        "\r",
        "Alpha: 0.005766  Progress: 77.52%  Words/thread/sec: 8.82k  "
       ]
      },
      {
       "output_type": "stream",
       "stream": "stdout",
       "text": [
        "\r",
        "Alpha: 0.005619  Progress: 78.11%  Words/thread/sec: 8.87k  "
       ]
      },
      {
       "output_type": "stream",
       "stream": "stdout",
       "text": [
        "\r",
        "Alpha: 0.005473  Progress: 78.69%  Words/thread/sec: 8.94k  "
       ]
      },
      {
       "output_type": "stream",
       "stream": "stdout",
       "text": [
        "\r",
        "Alpha: 0.005327  Progress: 79.27%  Words/thread/sec: 8.97k  "
       ]
      },
      {
       "output_type": "stream",
       "stream": "stdout",
       "text": [
        "\r",
        "Alpha: 0.005182  Progress: 79.85%  Words/thread/sec: 9.03k  \r",
        "Alpha: 0.005036  Progress: 80.42%  Words/thread/sec: 9.09k  "
       ]
      },
      {
       "output_type": "stream",
       "stream": "stdout",
       "text": [
        "\r",
        "Alpha: 0.004896  Progress: 80.99%  Words/thread/sec: 9.14k  "
       ]
      },
      {
       "output_type": "stream",
       "stream": "stdout",
       "text": [
        "\r",
        "Alpha: 0.004753  Progress: 81.60%  Words/thread/sec: 9.18k  "
       ]
      },
      {
       "output_type": "stream",
       "stream": "stdout",
       "text": [
        "\r",
        "Alpha: 0.004600  Progress: 82.16%  Words/thread/sec: 9.09k  "
       ]
      },
      {
       "output_type": "stream",
       "stream": "stdout",
       "text": [
        "\r",
        "Alpha: 0.004459  Progress: 82.74%  Words/thread/sec: 9.11k  "
       ]
      },
      {
       "output_type": "stream",
       "stream": "stdout",
       "text": [
        "\r",
        "Alpha: 0.004315  Progress: 83.33%  Words/thread/sec: 9.16k  "
       ]
      },
      {
       "output_type": "stream",
       "stream": "stdout",
       "text": [
        "\r",
        "Alpha: 0.004169  Progress: 83.91%  Words/thread/sec: 8.82k  "
       ]
      },
      {
       "output_type": "stream",
       "stream": "stdout",
       "text": [
        "\r",
        "Alpha: 0.004022  Progress: 84.49%  Words/thread/sec: 8.85k  "
       ]
      },
      {
       "output_type": "stream",
       "stream": "stdout",
       "text": [
        "\r",
        "Alpha: 0.003877  Progress: 85.08%  Words/thread/sec: 8.91k  "
       ]
      },
      {
       "output_type": "stream",
       "stream": "stdout",
       "text": [
        "\r",
        "Alpha: 0.003731  Progress: 85.65%  Words/thread/sec: 8.96k  "
       ]
      },
      {
       "output_type": "stream",
       "stream": "stdout",
       "text": [
        "\r",
        "Alpha: 0.003587  Progress: 86.23%  Words/thread/sec: 8.99k  \r",
        "Alpha: 0.003442  Progress: 86.81%  Words/thread/sec: 9.04k  "
       ]
      },
      {
       "output_type": "stream",
       "stream": "stdout",
       "text": [
        "\r",
        "Alpha: 0.003299  Progress: 87.37%  Words/thread/sec: 9.09k  "
       ]
      },
      {
       "output_type": "stream",
       "stream": "stdout",
       "text": [
        "\r",
        "Alpha: 0.003158  Progress: 87.94%  Words/thread/sec: 9.14k  "
       ]
      },
      {
       "output_type": "stream",
       "stream": "stdout",
       "text": [
        "\r",
        "Alpha: 0.003015  Progress: 88.51%  Words/thread/sec: 9.19k  "
       ]
      },
      {
       "output_type": "stream",
       "stream": "stdout",
       "text": [
        "\r",
        "Alpha: 0.002873  Progress: 89.07%  Words/thread/sec: 9.10k  "
       ]
      },
      {
       "output_type": "stream",
       "stream": "stdout",
       "text": [
        "\r",
        "Alpha: 0.002733  Progress: 89.66%  Words/thread/sec: 9.13k  "
       ]
      },
      {
       "output_type": "stream",
       "stream": "stdout",
       "text": [
        "\r",
        "Alpha: 0.002584  Progress: 90.24%  Words/thread/sec: 9.16k  "
       ]
      },
      {
       "output_type": "stream",
       "stream": "stdout",
       "text": [
        "\r",
        "Alpha: 0.002441  Progress: 90.81%  Words/thread/sec: 8.84k  "
       ]
      },
      {
       "output_type": "stream",
       "stream": "stdout",
       "text": [
        "\r",
        "Alpha: 0.002296  Progress: 91.39%  Words/thread/sec: 8.89k  "
       ]
      },
      {
       "output_type": "stream",
       "stream": "stdout",
       "text": [
        "\r",
        "Alpha: 0.002152  Progress: 91.97%  Words/thread/sec: 8.94k  "
       ]
      },
      {
       "output_type": "stream",
       "stream": "stdout",
       "text": [
        "\r",
        "Alpha: 0.002007  Progress: 92.54%  Words/thread/sec: 8.96k  \r",
        "Alpha: 0.001864  Progress: 93.13%  Words/thread/sec: 9.01k  "
       ]
      },
      {
       "output_type": "stream",
       "stream": "stdout",
       "text": [
        "\r",
        "Alpha: 0.001719  Progress: 93.70%  Words/thread/sec: 9.05k  "
       ]
      },
      {
       "output_type": "stream",
       "stream": "stdout",
       "text": [
        "\r",
        "Alpha: 0.001574  Progress: 94.27%  Words/thread/sec: 9.10k  \r",
        "Alpha: 0.001432  Progress: 94.85%  Words/thread/sec: 9.16k  \r",
        "Alpha: 0.001286  Progress: 95.44%  Words/thread/sec: 9.21k  "
       ]
      },
      {
       "output_type": "stream",
       "stream": "stdout",
       "text": [
        "\r",
        "Alpha: 0.001140  Progress: 96.00%  Words/thread/sec: 9.11k  "
       ]
      },
      {
       "output_type": "stream",
       "stream": "stdout",
       "text": [
        "\r",
        "Alpha: 0.001000  Progress: 96.59%  Words/thread/sec: 9.15k  "
       ]
      },
      {
       "output_type": "stream",
       "stream": "stdout",
       "text": [
        "\r",
        "Alpha: 0.000853  Progress: 97.15%  Words/thread/sec: 9.17k  "
       ]
      },
      {
       "output_type": "stream",
       "stream": "stdout",
       "text": [
        "\r\n",
        "real\t0m56.934s\r\n",
        "user\t3m13.464s\r\n",
        "sys\t0m0.759s\r\n"
       ]
      }
     ],
     "prompt_number": 7
    },
    {
     "cell_type": "code",
     "collapsed": false,
     "input": [
      "!time /Users/tpeng/github/word2vec/bin/word2vec -train ../webstruct_data/experiments/ie-pages.txt -output ../webstruct_data/experiments/ie-pages-vector.txt -cbow 0 -size 200 -window 5 -negative 0 -hs 1 -sample 1e-3 -threads 12 --classes 100"
     ],
     "language": "python",
     "metadata": {},
     "outputs": [
      {
       "output_type": "stream",
       "stream": "stdout",
       "text": [
        "Starting training using file ../webstruct_data/experiments/ie-pages.txt\r\n"
       ]
      },
      {
       "output_type": "stream",
       "stream": "stdout",
       "text": [
        "100K\r"
       ]
      },
      {
       "output_type": "stream",
       "stream": "stdout",
       "text": [
        "200K\r",
        "300K\r",
        "400K\r"
       ]
      },
      {
       "output_type": "stream",
       "stream": "stdout",
       "text": [
        "500K\r",
        "600K\r"
       ]
      },
      {
       "output_type": "stream",
       "stream": "stdout",
       "text": [
        "700K\r",
        "800K\r",
        "900K\r"
       ]
      },
      {
       "output_type": "stream",
       "stream": "stdout",
       "text": [
        "1000K\r",
        "1100K\r",
        "1200K\r"
       ]
      },
      {
       "output_type": "stream",
       "stream": "stdout",
       "text": [
        "1300K\r",
        "1400K\r",
        "1500K\r"
       ]
      },
      {
       "output_type": "stream",
       "stream": "stdout",
       "text": [
        "1600K\r",
        "1700K\r",
        "1800K\r"
       ]
      },
      {
       "output_type": "stream",
       "stream": "stdout",
       "text": [
        "1900K\r"
       ]
      },
      {
       "output_type": "stream",
       "stream": "stdout",
       "text": [
        "Vocab size: 31773\r\n",
        "Words in train file: 1798692\r\n"
       ]
      },
      {
       "output_type": "stream",
       "stream": "stdout",
       "text": [
        "\r",
        "Alpha: 0.025000  Progress: 0.59%  Words/thread/sec: 0.91k  "
       ]
      },
      {
       "output_type": "stream",
       "stream": "stdout",
       "text": [
        "\r",
        "Alpha: 0.024854  Progress: 1.17%  Words/thread/sec: 1.79k  "
       ]
      },
      {
       "output_type": "stream",
       "stream": "stdout",
       "text": [
        "\r",
        "Alpha: 0.024709  Progress: 1.74%  Words/thread/sec: 2.64k  \r",
        "Alpha: 0.024565  Progress: 2.30%  Words/thread/sec: 3.48k  \r",
        "Alpha: 0.024425  Progress: 2.87%  Words/thread/sec: 4.34k  \r",
        "Alpha: 0.024282  Progress: 3.45%  Words/thread/sec: 5.20k  \r",
        "Alpha: 0.024139  Progress: 4.02%  Words/thread/sec: 6.06k  "
       ]
      },
      {
       "output_type": "stream",
       "stream": "stdout",
       "text": [
        "\r",
        "Alpha: 0.023995  Progress: 4.60%  Words/thread/sec: 6.87k  "
       ]
      },
      {
       "output_type": "stream",
       "stream": "stdout",
       "text": [
        "\r",
        "Alpha: 0.023850  Progress: 5.18%  Words/thread/sec: 7.65k  \r",
        "Alpha: 0.023704  Progress: 5.75%  Words/thread/sec: 8.48k  \r",
        "Alpha: 0.023562  Progress: 6.32%  Words/thread/sec: 9.28k  "
       ]
      },
      {
       "output_type": "stream",
       "stream": "stdout",
       "text": [
        "\r",
        "Alpha: 0.023420  Progress: 6.89%  Words/thread/sec: 10.02k  "
       ]
      },
      {
       "output_type": "stream",
       "stream": "stdout",
       "text": [
        "\r",
        "Alpha: 0.023278  Progress: 7.48%  Words/thread/sec: 5.41k  "
       ]
      },
      {
       "output_type": "stream",
       "stream": "stdout",
       "text": [
        "\r",
        "Alpha: 0.023131  Progress: 8.05%  Words/thread/sec: 5.81k  \r",
        "Alpha: 0.022987  Progress: 8.63%  Words/thread/sec: 6.23k  \r",
        "Alpha: 0.022842  Progress: 9.21%  Words/thread/sec: 6.63k  "
       ]
      },
      {
       "output_type": "stream",
       "stream": "stdout",
       "text": [
        "\r",
        "Alpha: 0.022698  Progress: 9.78%  Words/thread/sec: 6.95k  \r",
        "Alpha: 0.022554  Progress: 10.37%  Words/thread/sec: 7.36k  \r",
        "Alpha: 0.022409  Progress: 10.94%  Words/thread/sec: 7.76k  "
       ]
      },
      {
       "output_type": "stream",
       "stream": "stdout",
       "text": [
        "\r",
        "Alpha: 0.022265  Progress: 11.52%  Words/thread/sec: 8.13k  \r",
        "Alpha: 0.022119  Progress: 12.10%  Words/thread/sec: 8.52k  \r",
        "Alpha: 0.021975  Progress: 12.67%  Words/thread/sec: 8.91k  "
       ]
      },
      {
       "output_type": "stream",
       "stream": "stdout",
       "text": [
        "\r",
        "Alpha: 0.021832  Progress: 13.25%  Words/thread/sec: 9.26k  \r",
        "Alpha: 0.021688  Progress: 13.83%  Words/thread/sec: 9.64k  "
       ]
      },
      {
       "output_type": "stream",
       "stream": "stdout",
       "text": [
        "\r",
        "Alpha: 0.021544  Progress: 14.41%  Words/thread/sec: 6.86k  "
       ]
      },
      {
       "output_type": "stream",
       "stream": "stdout",
       "text": [
        "\r",
        "Alpha: 0.021396  Progress: 15.00%  Words/thread/sec: 7.07k  \r",
        "Alpha: 0.021250  Progress: 15.58%  Words/thread/sec: 7.34k  \r",
        "Alpha: 0.021106  Progress: 16.15%  Words/thread/sec: 7.60k  "
       ]
      },
      {
       "output_type": "stream",
       "stream": "stdout",
       "text": [
        "\r",
        "Alpha: 0.020962  Progress: 16.73%  Words/thread/sec: 7.82k  \r",
        "Alpha: 0.020817  Progress: 17.30%  Words/thread/sec: 8.07k  \r",
        "Alpha: 0.020675  Progress: 17.87%  Words/thread/sec: 8.33k  \r",
        "Alpha: 0.020531  Progress: 18.44%  Words/thread/sec: 8.59k  "
       ]
      },
      {
       "output_type": "stream",
       "stream": "stdout",
       "text": [
        "\r",
        "Alpha: 0.020391  Progress: 19.01%  Words/thread/sec: 8.85k  \r",
        "Alpha: 0.020247  Progress: 19.58%  Words/thread/sec: 9.08k  "
       ]
      },
      {
       "output_type": "stream",
       "stream": "stdout",
       "text": [
        "\r",
        "Alpha: 0.020105  Progress: 20.16%  Words/thread/sec: 9.31k  "
       ]
      },
      {
       "output_type": "stream",
       "stream": "stdout",
       "text": [
        "\r",
        "Alpha: 0.019960  Progress: 20.73%  Words/thread/sec: 9.50k  "
       ]
      },
      {
       "output_type": "stream",
       "stream": "stdout",
       "text": [
        "\r",
        "Alpha: 0.019818  Progress: 21.30%  Words/thread/sec: 7.52k  "
       ]
      },
      {
       "output_type": "stream",
       "stream": "stdout",
       "text": [
        "\r",
        "Alpha: 0.019674  Progress: 21.88%  Words/thread/sec: 7.69k  "
       ]
      },
      {
       "output_type": "stream",
       "stream": "stdout",
       "text": [
        "\r",
        "Alpha: 0.019530  Progress: 22.46%  Words/thread/sec: 7.87k  "
       ]
      },
      {
       "output_type": "stream",
       "stream": "stdout",
       "text": [
        "\r",
        "Alpha: 0.019385  Progress: 23.05%  Words/thread/sec: 8.05k  "
       ]
      },
      {
       "output_type": "stream",
       "stream": "stdout",
       "text": [
        "\r",
        "Alpha: 0.019239  Progress: 23.63%  Words/thread/sec: 8.23k  \r",
        "Alpha: 0.019092  Progress: 24.20%  Words/thread/sec: 8.42k  \r",
        "Alpha: 0.018950  Progress: 24.78%  Words/thread/sec: 8.61k  "
       ]
      },
      {
       "output_type": "stream",
       "stream": "stdout",
       "text": [
        "\r",
        "Alpha: 0.018805  Progress: 25.35%  Words/thread/sec: 8.76k  "
       ]
      },
      {
       "output_type": "stream",
       "stream": "stdout",
       "text": [
        "\r",
        "Alpha: 0.018662  Progress: 25.91%  Words/thread/sec: 8.95k  "
       ]
      },
      {
       "output_type": "stream",
       "stream": "stdout",
       "text": [
        "\r",
        "Alpha: 0.018522  Progress: 26.49%  Words/thread/sec: 9.09k  \r",
        "Alpha: 0.018378  Progress: 27.07%  Words/thread/sec: 9.28k  "
       ]
      },
      {
       "output_type": "stream",
       "stream": "stdout",
       "text": [
        "\r",
        "Alpha: 0.018233  Progress: 27.68%  Words/thread/sec: 9.31k  "
       ]
      },
      {
       "output_type": "stream",
       "stream": "stdout",
       "text": [
        "\r",
        "Alpha: 0.018079  Progress: 28.26%  Words/thread/sec: 7.88k  \r",
        "Alpha: 0.017936  Progress: 28.84%  Words/thread/sec: 8.04k  "
       ]
      },
      {
       "output_type": "stream",
       "stream": "stdout",
       "text": [
        "\r",
        "Alpha: 0.017789  Progress: 29.43%  Words/thread/sec: 8.18k  "
       ]
      },
      {
       "output_type": "stream",
       "stream": "stdout",
       "text": [
        "\r",
        "Alpha: 0.017643  Progress: 30.00%  Words/thread/sec: 8.31k  \r",
        "Alpha: 0.017500  Progress: 30.58%  Words/thread/sec: 8.47k  \r",
        "Alpha: 0.017354  Progress: 31.17%  Words/thread/sec: 8.62k  \r",
        "Alpha: 0.017208  Progress: 31.74%  Words/thread/sec: 8.78k  "
       ]
      },
      {
       "output_type": "stream",
       "stream": "stdout",
       "text": [
        "\r",
        "Alpha: 0.017064  Progress: 32.31%  Words/thread/sec: 8.88k  "
       ]
      },
      {
       "output_type": "stream",
       "stream": "stdout",
       "text": [
        "\r",
        "Alpha: 0.016922  Progress: 32.89%  Words/thread/sec: 9.00k  "
       ]
      },
      {
       "output_type": "stream",
       "stream": "stdout",
       "text": [
        "\r",
        "Alpha: 0.016777  Progress: 33.49%  Words/thread/sec: 9.11k  "
       ]
      },
      {
       "output_type": "stream",
       "stream": "stdout",
       "text": [
        "\r",
        "Alpha: 0.016628  Progress: 34.06%  Words/thread/sec: 9.17k  "
       ]
      },
      {
       "output_type": "stream",
       "stream": "stdout",
       "text": [
        "\r",
        "Alpha: 0.016486  Progress: 34.67%  Words/thread/sec: 9.26k  "
       ]
      },
      {
       "output_type": "stream",
       "stream": "stdout",
       "text": [
        "\r",
        "Alpha: 0.016333  Progress: 35.25%  Words/thread/sec: 8.14k  \r",
        "Alpha: 0.016187  Progress: 35.83%  Words/thread/sec: 8.27k  "
       ]
      },
      {
       "output_type": "stream",
       "stream": "stdout",
       "text": [
        "\r",
        "Alpha: 0.016043  Progress: 36.41%  Words/thread/sec: 8.40k  \r",
        "Alpha: 0.015897  Progress: 36.99%  Words/thread/sec: 8.51k  "
       ]
      },
      {
       "output_type": "stream",
       "stream": "stdout",
       "text": [
        "\r",
        "Alpha: 0.015753  Progress: 37.56%  Words/thread/sec: 8.63k  "
       ]
      },
      {
       "output_type": "stream",
       "stream": "stdout",
       "text": [
        "\r",
        "Alpha: 0.015609  Progress: 38.14%  Words/thread/sec: 8.73k  "
       ]
      },
      {
       "output_type": "stream",
       "stream": "stdout",
       "text": [
        "\r",
        "Alpha: 0.015464  Progress: 38.71%  Words/thread/sec: 8.84k  \r",
        "Alpha: 0.015323  Progress: 39.28%  Words/thread/sec: 8.97k  "
       ]
      },
      {
       "output_type": "stream",
       "stream": "stdout",
       "text": [
        "\r",
        "Alpha: 0.015180  Progress: 39.86%  Words/thread/sec: 9.04k  "
       ]
      },
      {
       "output_type": "stream",
       "stream": "stdout",
       "text": [
        "\r",
        "Alpha: 0.015036  Progress: 40.45%  Words/thread/sec: 9.13k  "
       ]
      },
      {
       "output_type": "stream",
       "stream": "stdout",
       "text": [
        "\r",
        "Alpha: 0.014886  Progress: 41.01%  Words/thread/sec: 9.20k  "
       ]
      },
      {
       "output_type": "stream",
       "stream": "stdout",
       "text": [
        "\r",
        "Alpha: 0.014746  Progress: 41.63%  Words/thread/sec: 9.05k  "
       ]
      },
      {
       "output_type": "stream",
       "stream": "stdout",
       "text": [
        "\r",
        "Alpha: 0.014593  Progress: 42.22%  Words/thread/sec: 8.33k  \r",
        "Alpha: 0.014446  Progress: 42.79%  Words/thread/sec: 8.45k  "
       ]
      },
      {
       "output_type": "stream",
       "stream": "stdout",
       "text": [
        "\r",
        "Alpha: 0.014302  Progress: 43.37%  Words/thread/sec: 8.55k  "
       ]
      },
      {
       "output_type": "stream",
       "stream": "stdout",
       "text": [
        "\r",
        "Alpha: 0.014158  Progress: 43.95%  Words/thread/sec: 8.60k  "
       ]
      },
      {
       "output_type": "stream",
       "stream": "stdout",
       "text": [
        "\r",
        "Alpha: 0.014012  Progress: 44.52%  Words/thread/sec: 8.70k  \r",
        "Alpha: 0.013869  Progress: 45.10%  Words/thread/sec: 8.81k  "
       ]
      },
      {
       "output_type": "stream",
       "stream": "stdout",
       "text": [
        "\r",
        "Alpha: 0.013724  Progress: 45.67%  Words/thread/sec: 8.90k  "
       ]
      },
      {
       "output_type": "stream",
       "stream": "stdout",
       "text": [
        "\r",
        "Alpha: 0.013583  Progress: 46.25%  Words/thread/sec: 9.01k  "
       ]
      },
      {
       "output_type": "stream",
       "stream": "stdout",
       "text": [
        "\r",
        "Alpha: 0.013438  Progress: 46.85%  Words/thread/sec: 9.06k  "
       ]
      },
      {
       "output_type": "stream",
       "stream": "stdout",
       "text": [
        "\r",
        "Alpha: 0.013288  Progress: 47.46%  Words/thread/sec: 9.14k  "
       ]
      },
      {
       "output_type": "stream",
       "stream": "stdout",
       "text": [
        "\r",
        "Alpha: 0.013134  Progress: 48.03%  Words/thread/sec: 9.22k  "
       ]
      },
      {
       "output_type": "stream",
       "stream": "stdout",
       "text": [
        "\r",
        "Alpha: 0.012993  Progress: 48.59%  Words/thread/sec: 9.08k  "
       ]
      },
      {
       "output_type": "stream",
       "stream": "stdout",
       "text": [
        "\r",
        "Alpha: 0.012853  Progress: 49.17%  Words/thread/sec: 8.47k  \r",
        "Alpha: 0.012708  Progress: 49.74%  Words/thread/sec: 8.57k  "
       ]
      },
      {
       "output_type": "stream",
       "stream": "stdout",
       "text": [
        "\r",
        "Alpha: 0.012564  Progress: 50.34%  Words/thread/sec: 8.64k  "
       ]
      },
      {
       "output_type": "stream",
       "stream": "stdout",
       "text": [
        "\r",
        "Alpha: 0.012416  Progress: 50.93%  Words/thread/sec: 8.71k  \r",
        "Alpha: 0.012268  Progress: 51.50%  Words/thread/sec: 8.80k  "
       ]
      },
      {
       "output_type": "stream",
       "stream": "stdout",
       "text": [
        "\r",
        "Alpha: 0.012124  Progress: 52.09%  Words/thread/sec: 8.88k  "
       ]
      },
      {
       "output_type": "stream",
       "stream": "stdout",
       "text": [
        "\r",
        "Alpha: 0.011979  Progress: 52.66%  Words/thread/sec: 8.96k  "
       ]
      },
      {
       "output_type": "stream",
       "stream": "stdout",
       "text": [
        "\r",
        "Alpha: 0.011834  Progress: 53.23%  Words/thread/sec: 9.04k  "
       ]
      },
      {
       "output_type": "stream",
       "stream": "stdout",
       "text": [
        "\r",
        "Alpha: 0.011692  Progress: 53.83%  Words/thread/sec: 9.09k  "
       ]
      },
      {
       "output_type": "stream",
       "stream": "stdout",
       "text": [
        "\r",
        "Alpha: 0.011542  Progress: 54.44%  Words/thread/sec: 8.99k  "
       ]
      },
      {
       "output_type": "stream",
       "stream": "stdout",
       "text": [
        "\r",
        "Alpha: 0.011389  Progress: 55.06%  Words/thread/sec: 9.08k  "
       ]
      },
      {
       "output_type": "stream",
       "stream": "stdout",
       "text": [
        "\r",
        "Alpha: 0.011236  Progress: 55.63%  Words/thread/sec: 9.11k  "
       ]
      },
      {
       "output_type": "stream",
       "stream": "stdout",
       "text": [
        "\r",
        "Alpha: 0.011091  Progress: 56.21%  Words/thread/sec: 8.59k  "
       ]
      },
      {
       "output_type": "stream",
       "stream": "stdout",
       "text": [
        "\r",
        "Alpha: 0.010947  Progress: 56.78%  Words/thread/sec: 8.67k  \r",
        "Alpha: 0.010805  Progress: 57.36%  Words/thread/sec: 8.75k  "
       ]
      },
      {
       "output_type": "stream",
       "stream": "stdout",
       "text": [
        "\r",
        "Alpha: 0.010660  Progress: 57.96%  Words/thread/sec: 8.81k  "
       ]
      },
      {
       "output_type": "stream",
       "stream": "stdout",
       "text": [
        "\r",
        "Alpha: 0.010511  Progress: 58.53%  Words/thread/sec: 8.87k  "
       ]
      },
      {
       "output_type": "stream",
       "stream": "stdout",
       "text": [
        "\r",
        "Alpha: 0.010367  Progress: 59.11%  Words/thread/sec: 8.95k  "
       ]
      },
      {
       "output_type": "stream",
       "stream": "stdout",
       "text": [
        "\r",
        "Alpha: 0.010223  Progress: 59.70%  Words/thread/sec: 9.01k  \r",
        "Alpha: 0.010076  Progress: 60.27%  Words/thread/sec: 9.09k  "
       ]
      },
      {
       "output_type": "stream",
       "stream": "stdout",
       "text": [
        "\r",
        "Alpha: 0.009932  Progress: 60.84%  Words/thread/sec: 9.11k  "
       ]
      },
      {
       "output_type": "stream",
       "stream": "stdout",
       "text": [
        "\r",
        "Alpha: 0.009789  Progress: 61.40%  Words/thread/sec: 9.00k  "
       ]
      },
      {
       "output_type": "stream",
       "stream": "stdout",
       "text": [
        "\r",
        "Alpha: 0.009649  Progress: 61.97%  Words/thread/sec: 9.07k  "
       ]
      },
      {
       "output_type": "stream",
       "stream": "stdout",
       "text": [
        "\r",
        "Alpha: 0.009507  Progress: 62.54%  Words/thread/sec: 9.12k  "
       ]
      },
      {
       "output_type": "stream",
       "stream": "stdout",
       "text": [
        "\r",
        "Alpha: 0.009366  Progress: 63.12%  Words/thread/sec: 8.68k  \r",
        "Alpha: 0.009220  Progress: 63.71%  Words/thread/sec: 8.75k  "
       ]
      },
      {
       "output_type": "stream",
       "stream": "stdout",
       "text": [
        "\r",
        "Alpha: 0.009073  Progress: 64.28%  Words/thread/sec: 8.81k  "
       ]
      },
      {
       "output_type": "stream",
       "stream": "stdout",
       "text": [
        "\r",
        "Alpha: 0.008929  Progress: 64.87%  Words/thread/sec: 8.88k  "
       ]
      },
      {
       "output_type": "stream",
       "stream": "stdout",
       "text": [
        "\r",
        "Alpha: 0.008782  Progress: 65.45%  Words/thread/sec: 8.95k  "
       ]
      },
      {
       "output_type": "stream",
       "stream": "stdout",
       "text": [
        "\r",
        "Alpha: 0.008637  Progress: 66.02%  Words/thread/sec: 8.98k  "
       ]
      },
      {
       "output_type": "stream",
       "stream": "stdout",
       "text": [
        "\r",
        "Alpha: 0.008495  Progress: 66.59%  Words/thread/sec: 9.05k  "
       ]
      },
      {
       "output_type": "stream",
       "stream": "stdout",
       "text": [
        "\r",
        "Alpha: 0.008352  Progress: 67.16%  Words/thread/sec: 9.11k  "
       ]
      },
      {
       "output_type": "stream",
       "stream": "stdout",
       "text": [
        "\r",
        "Alpha: 0.008210  Progress: 67.75%  Words/thread/sec: 9.15k  "
       ]
      },
      {
       "output_type": "stream",
       "stream": "stdout",
       "text": [
        "\r",
        "Alpha: 0.008063  Progress: 68.33%  Words/thread/sec: 9.04k  "
       ]
      },
      {
       "output_type": "stream",
       "stream": "stdout",
       "text": [
        "\r",
        "Alpha: 0.007918  Progress: 68.90%  Words/thread/sec: 9.11k  "
       ]
      },
      {
       "output_type": "stream",
       "stream": "stdout",
       "text": [
        "\r",
        "Alpha: 0.007776  Progress: 69.46%  Words/thread/sec: 9.14k  "
       ]
      },
      {
       "output_type": "stream",
       "stream": "stdout",
       "text": [
        "\r",
        "Alpha: 0.007635  Progress: 70.04%  Words/thread/sec: 8.72k  "
       ]
      },
      {
       "output_type": "stream",
       "stream": "stdout",
       "text": [
        "\r",
        "Alpha: 0.007491  Progress: 70.60%  Words/thread/sec: 8.78k  "
       ]
      },
      {
       "output_type": "stream",
       "stream": "stdout",
       "text": [
        "\r",
        "Alpha: 0.007350  Progress: 71.17%  Words/thread/sec: 8.84k  "
       ]
      },
      {
       "output_type": "stream",
       "stream": "stdout",
       "text": [
        "\r",
        "Alpha: 0.007206  Progress: 71.76%  Words/thread/sec: 8.90k  \r",
        "Alpha: 0.007061  Progress: 72.34%  Words/thread/sec: 8.96k  "
       ]
      },
      {
       "output_type": "stream",
       "stream": "stdout",
       "text": [
        "\r",
        "Alpha: 0.006915  Progress: 72.92%  Words/thread/sec: 9.02k  "
       ]
      },
      {
       "output_type": "stream",
       "stream": "stdout",
       "text": [
        "\r",
        "Alpha: 0.006771  Progress: 73.51%  Words/thread/sec: 9.05k  "
       ]
      },
      {
       "output_type": "stream",
       "stream": "stdout",
       "text": [
        "\r",
        "Alpha: 0.006622  Progress: 74.07%  Words/thread/sec: 9.11k  \r",
        "Alpha: 0.006483  Progress: 74.64%  Words/thread/sec: 9.18k  "
       ]
      },
      {
       "output_type": "stream",
       "stream": "stdout",
       "text": [
        "\r",
        "Alpha: 0.006340  Progress: 75.22%  Words/thread/sec: 9.05k  "
       ]
      },
      {
       "output_type": "stream",
       "stream": "stdout",
       "text": [
        "\r",
        "Alpha: 0.006195  Progress: 75.78%  Words/thread/sec: 9.10k  "
       ]
      },
      {
       "output_type": "stream",
       "stream": "stdout",
       "text": [
        "\r",
        "Alpha: 0.006054  Progress: 76.35%  Words/thread/sec: 9.12k  "
       ]
      },
      {
       "output_type": "stream",
       "stream": "stdout",
       "text": [
        "\r",
        "Alpha: 0.005912  Progress: 76.91%  Words/thread/sec: 8.76k  "
       ]
      },
      {
       "output_type": "stream",
       "stream": "stdout",
       "text": [
        "\r",
        "Alpha: 0.005771  Progress: 77.50%  Words/thread/sec: 8.82k  \r",
        "Alpha: 0.005624  Progress: 78.09%  Words/thread/sec: 8.88k  "
       ]
      },
      {
       "output_type": "stream",
       "stream": "stdout",
       "text": [
        "\r",
        "Alpha: 0.005478  Progress: 78.67%  Words/thread/sec: 8.93k  "
       ]
      },
      {
       "output_type": "stream",
       "stream": "stdout",
       "text": [
        "\r",
        "Alpha: 0.005332  Progress: 79.25%  Words/thread/sec: 8.97k  "
       ]
      },
      {
       "output_type": "stream",
       "stream": "stdout",
       "text": [
        "\r",
        "Alpha: 0.005187  Progress: 79.83%  Words/thread/sec: 9.00k  "
       ]
      },
      {
       "output_type": "stream",
       "stream": "stdout",
       "text": [
        "\r",
        "Alpha: 0.005042  Progress: 80.42%  Words/thread/sec: 9.05k  "
       ]
      },
      {
       "output_type": "stream",
       "stream": "stdout",
       "text": [
        "\r",
        "Alpha: 0.004896  Progress: 81.03%  Words/thread/sec: 9.10k  \r",
        "Alpha: 0.004743  Progress: 81.60%  Words/thread/sec: 9.16k  "
       ]
      },
      {
       "output_type": "stream",
       "stream": "stdout",
       "text": [
        "\r",
        "Alpha: 0.004600  Progress: 82.19%  Words/thread/sec: 9.06k  "
       ]
      },
      {
       "output_type": "stream",
       "stream": "stdout",
       "text": [
        "\r",
        "Alpha: 0.004453  Progress: 82.75%  Words/thread/sec: 9.11k  "
       ]
      },
      {
       "output_type": "stream",
       "stream": "stdout",
       "text": [
        "\r",
        "Alpha: 0.004312  Progress: 83.33%  Words/thread/sec: 9.13k  "
       ]
      },
      {
       "output_type": "stream",
       "stream": "stdout",
       "text": [
        "\r",
        "Alpha: 0.004169  Progress: 83.91%  Words/thread/sec: 8.80k  "
       ]
      },
      {
       "output_type": "stream",
       "stream": "stdout",
       "text": [
        "\r",
        "Alpha: 0.004022  Progress: 84.50%  Words/thread/sec: 8.85k  "
       ]
      },
      {
       "output_type": "stream",
       "stream": "stdout",
       "text": [
        "\r",
        "Alpha: 0.003875  Progress: 85.08%  Words/thread/sec: 8.91k  \r",
        "Alpha: 0.003731  Progress: 85.64%  Words/thread/sec: 8.96k  "
       ]
      },
      {
       "output_type": "stream",
       "stream": "stdout",
       "text": [
        "\r",
        "Alpha: 0.003590  Progress: 86.22%  Words/thread/sec: 8.99k  "
       ]
      },
      {
       "output_type": "stream",
       "stream": "stdout",
       "text": [
        "\r",
        "Alpha: 0.003445  Progress: 86.79%  Words/thread/sec: 9.03k  "
       ]
      },
      {
       "output_type": "stream",
       "stream": "stdout",
       "text": [
        "\r",
        "Alpha: 0.003301  Progress: 87.37%  Words/thread/sec: 9.05k  "
       ]
      },
      {
       "output_type": "stream",
       "stream": "stdout",
       "text": [
        "\r",
        "Alpha: 0.003158  Progress: 87.94%  Words/thread/sec: 9.10k  "
       ]
      },
      {
       "output_type": "stream",
       "stream": "stdout",
       "text": [
        "\r",
        "Alpha: 0.003015  Progress: 88.51%  Words/thread/sec: 9.15k  "
       ]
      },
      {
       "output_type": "stream",
       "stream": "stdout",
       "text": [
        "\r",
        "Alpha: 0.002873  Progress: 89.08%  Words/thread/sec: 9.07k  "
       ]
      },
      {
       "output_type": "stream",
       "stream": "stdout",
       "text": [
        "\r",
        "Alpha: 0.002729  Progress: 89.64%  Words/thread/sec: 9.12k  "
       ]
      },
      {
       "output_type": "stream",
       "stream": "stdout",
       "text": [
        "\r",
        "Alpha: 0.002590  Progress: 90.24%  Words/thread/sec: 9.14k  "
       ]
      },
      {
       "output_type": "stream",
       "stream": "stdout",
       "text": [
        "\r",
        "Alpha: 0.002441  Progress: 90.81%  Words/thread/sec: 8.83k  "
       ]
      },
      {
       "output_type": "stream",
       "stream": "stdout",
       "text": [
        "\r",
        "Alpha: 0.002297  Progress: 91.39%  Words/thread/sec: 8.88k  \r",
        "Alpha: 0.002152  Progress: 91.97%  Words/thread/sec: 8.94k  \r",
        "Alpha: 0.002007  Progress: 92.55%  Words/thread/sec: 8.99k  "
       ]
      },
      {
       "output_type": "stream",
       "stream": "stdout",
       "text": [
        "\r",
        "Alpha: 0.001863  Progress: 93.12%  Words/thread/sec: 9.00k  "
       ]
      },
      {
       "output_type": "stream",
       "stream": "stdout",
       "text": [
        "\r",
        "Alpha: 0.001721  Progress: 93.70%  Words/thread/sec: 9.04k  "
       ]
      },
      {
       "output_type": "stream",
       "stream": "stdout",
       "text": [
        "\r",
        "Alpha: 0.001576  Progress: 94.28%  Words/thread/sec: 9.06k  "
       ]
      },
      {
       "output_type": "stream",
       "stream": "stdout",
       "text": [
        "\r",
        "Alpha: 0.001429  Progress: 94.87%  Words/thread/sec: 9.11k  "
       ]
      },
      {
       "output_type": "stream",
       "stream": "stdout",
       "text": [
        "\r",
        "Alpha: 0.001283  Progress: 95.44%  Words/thread/sec: 9.16k  "
       ]
      },
      {
       "output_type": "stream",
       "stream": "stdout",
       "text": [
        "\r",
        "Alpha: 0.001140  Progress: 96.00%  Words/thread/sec: 9.08k  \r",
        "Alpha: 0.001000  Progress: 96.56%  Words/thread/sec: 9.13k  "
       ]
      },
      {
       "output_type": "stream",
       "stream": "stdout",
       "text": [
        "\r",
        "Alpha: 0.000860  Progress: 97.15%  Words/thread/sec: 9.16k  "
       ]
      },
      {
       "output_type": "stream",
       "stream": "stdout",
       "text": [
        "\r\n",
        "real\t0m57.649s\r\n",
        "user\t3m15.793s\r\n",
        "sys\t0m0.854s\r\n"
       ]
      }
     ],
     "prompt_number": 11
    },
    {
     "cell_type": "code",
     "collapsed": false,
     "input": [],
     "language": "python",
     "metadata": {},
     "outputs": []
    },
    {
     "cell_type": "code",
     "collapsed": false,
     "input": [
      "from gensim.models import word2vec\n",
      "model = word2vec.Word2Vec.load_word2vec_format('../webstruct_data/experiments/ie-pages-vector.bin', binary=True)\n"
     ],
     "language": "python",
     "metadata": {},
     "outputs": [],
     "prompt_number": 8
    },
    {
     "cell_type": "code",
     "collapsed": false,
     "input": [
      "print model.most_similar(positive=['Ireland'], topn=10)\n",
      "print model.most_similar(positive=['Ireland', 'Cork'], negative=['Dublin'], topn=10)"
     ],
     "language": "python",
     "metadata": {},
     "outputs": [
      {
       "output_type": "stream",
       "stream": "stdout",
       "text": [
        "[('Ireland.', 0.65406477), ('Cork', 0.49708349), ('Dublin,', 0.49696809), ('Ireland,', 0.47848183), ('Registered', 0.44234625), ('Mayo', 0.43983215), ('Wexford', 0.42589578), ('Limerick', 0.42542791), ('Kildare', 0.42360914), ('Co.', 0.42153937)]"
       ]
      },
      {
       "output_type": "stream",
       "stream": "stdout",
       "text": [
        "\n",
        "[('Limerick', 0.46990463), ('Ireland.', 0.4618544), ('Mayo', 0.45405078), ('County', 0.43294528), ('Ireland,', 0.43208301), ('Cork,', 0.41887397), ('Kilkenny', 0.41718337), ('Clare', 0.41457668), ('Sligo', 0.4128319), ('Co.', 0.41240698)]\n"
       ]
      }
     ],
     "prompt_number": 9
    },
    {
     "cell_type": "code",
     "collapsed": false,
     "input": [],
     "language": "python",
     "metadata": {},
     "outputs": []
    }
   ],
   "metadata": {}
  }
 ]
}