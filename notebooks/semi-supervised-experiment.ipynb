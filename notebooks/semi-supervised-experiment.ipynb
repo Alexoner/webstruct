{
 "metadata": {
  "name": "semi-supervised-experiment"
 },
 "nbformat": 3,
 "nbformat_minor": 0,
 "worksheets": [
  {
   "cells": [
    {
     "cell_type": "code",
     "collapsed": false,
     "input": [
      "from optparse import OptionParser\n",
      "from scrapinghub import Connection\n",
      "\n",
      "conn = Connection(url='http://dash.scrapinghub.com/api/')\n",
      "project = conn['51']\n",
      "\n",
      "# schedule the businessite-ie to collect ireland contact pages\n",
      "# the http://ibc.scrapinghub.com/tmp/Balloon_noWFRL.csv contains ~6200 pages\n",
      "print project.schedule('businesssites-ie', customer_index='http://ibc.scrapinghub.com/tmp/Balloon_noWFRL.csv', storepages=1)"
     ],
     "language": "python",
     "metadata": {},
     "outputs": []
    },
    {
     "cell_type": "code",
     "collapsed": false,
     "input": [
      "!s3cmd get s3://ibc.scrapinghub.com/51/webpages-ie/businesssites-ie/51/168/4.msgpack.gz businesssites-ie_51_168_4.msgpack"
     ],
     "language": "python",
     "metadata": {},
     "outputs": [
      {
       "output_type": "stream",
       "stream": "stdout",
       "text": [
        "s3://ibc.scrapinghub.com/51/webpages-ie/businesssites-ie/51/168/4.msgpack.gz -> businesssites-ie_51_168_4.msgpack  [1 of 1]\r\n"
       ]
      },
      {
       "output_type": "stream",
       "stream": "stdout",
       "text": [
        "\r",
        "     4096 of 30326502     0% in    2s  1946.15 B/s\r",
        "     8192 of 30326502     0% in    2s     3.80 kB/s\r",
        "    12288 of 30326502     0% in    2s     5.70 kB/s"
       ]
      },
      {
       "output_type": "stream",
       "stream": "stdout",
       "text": [
        "\r",
        "    16384 of 30326502     0% in    2s     6.69 kB/s"
       ]
      },
      {
       "output_type": "stream",
       "stream": "stdout",
       "text": [
        "\r",
        "    20480 of 30326502     0% in    2s     7.36 kB/s"
       ]
      },
      {
       "output_type": "stream",
       "stream": "stdout",
       "text": [
        "\r",
        "    24576 of 30326502     0% in    3s     7.67 kB/s"
       ]
      },
      {
       "output_type": "stream",
       "stream": "stdout",
       "text": [
        "\r",
        "    28672 of 30326502     0% in    3s     8.19 kB/s"
       ]
      },
      {
       "output_type": "stream",
       "stream": "stdout",
       "text": [
        "\r",
        "    32768 of 30326502     0% in    3s     8.83 kB/s"
       ]
      },
      {
       "output_type": "stream",
       "stream": "stdout",
       "text": [
        "\r",
        "    36864 of 30326502     0% in    3s     9.70 kB/s"
       ]
      },
      {
       "output_type": "stream",
       "stream": "stdout",
       "text": [
        "\r",
        "    40960 of 30326502     0% in    4s     8.70 kB/s\r",
        "    45056 of 30326502     0% in    4s     9.56 kB/s\r",
        "    49152 of 30326502     0% in    4s    10.43 kB/s"
       ]
      },
      {
       "output_type": "stream",
       "stream": "stdout",
       "text": [
        "\r",
        "    53248 of 30326502     0% in    4s    10.46 kB/s"
       ]
      },
      {
       "output_type": "stream",
       "stream": "stdout",
       "text": [
        "\r",
        "    57344 of 30326502     0% in    5s    10.61 kB/s\r",
        "    61440 of 30326502     0% in    5s    11.37 kB/s"
       ]
      },
      {
       "output_type": "stream",
       "stream": "stdout",
       "text": [
        "\r",
        "    65536 of 30326502     0% in    5s    11.46 kB/s"
       ]
      },
      {
       "output_type": "stream",
       "stream": "stdout",
       "text": [
        "\r",
        "    69632 of 30326502     0% in    5s    11.58 kB/s"
       ]
      },
      {
       "output_type": "stream",
       "stream": "stdout",
       "text": [
        "\r",
        "    73728 of 30326502     0% in    6s    11.70 kB/s\r",
        "    77824 of 30326502     0% in    6s    12.33 kB/s"
       ]
      },
      {
       "output_type": "stream",
       "stream": "stdout",
       "text": [
        "\r",
        "    81920 of 30326502     0% in    6s    12.41 kB/s"
       ]
      },
      {
       "output_type": "stream",
       "stream": "stdout",
       "text": [
        "\r",
        "    86016 of 30326502     0% in    6s    12.73 kB/s"
       ]
      },
      {
       "output_type": "stream",
       "stream": "stdout",
       "text": [
        "\r",
        "    90112 of 30326502     0% in    6s    13.07 kB/s"
       ]
      },
      {
       "output_type": "stream",
       "stream": "stdout",
       "text": [
        "\r",
        "    94208 of 30326502     0% in    6s    13.37 kB/s"
       ]
      },
      {
       "output_type": "stream",
       "stream": "stdout",
       "text": [
        "\r",
        "    98304 of 30326502     0% in    7s    13.69 kB/s"
       ]
      },
      {
       "output_type": "stream",
       "stream": "stdout",
       "text": [
        "\r",
        "   102400 of 30326502     0% in    7s    13.96 kB/s"
       ]
      },
      {
       "output_type": "stream",
       "stream": "stdout",
       "text": [
        "\r",
        "   106496 of 30326502     0% in    7s    14.25 kB/s"
       ]
      },
      {
       "output_type": "stream",
       "stream": "stdout",
       "text": [
        "\r",
        "   110592 of 30326502     0% in    7s    14.77 kB/s"
       ]
      },
      {
       "output_type": "stream",
       "stream": "stdout",
       "text": [
        "\r",
        "   114688 of 30326502     0% in    7s    14.78 kB/s\r",
        "   118784 of 30326502     0% in    7s    15.29 kB/s"
       ]
      },
      {
       "output_type": "stream",
       "stream": "stdout",
       "text": [
        "\r",
        "   122880 of 30326502     0% in    7s    15.52 kB/s"
       ]
      },
      {
       "output_type": "stream",
       "stream": "stdout",
       "text": [
        "\r",
        "   126976 of 30326502     0% in    7s    15.75 kB/s\r",
        "   131072 of 30326502     0% in    7s    16.24 kB/s"
       ]
      },
      {
       "output_type": "stream",
       "stream": "stdout",
       "text": [
        "\r",
        "   135168 of 30326502     0% in    8s    16.19 kB/s\r",
        "   139264 of 30326502     0% in    8s    16.67 kB/s\r",
        "   143360 of 30326502     0% in    8s    17.14 kB/s"
       ]
      },
      {
       "output_type": "stream",
       "stream": "stdout",
       "text": [
        "\r",
        "   147456 of 30326502     0% in    8s    17.07 kB/s\r",
        "   151552 of 30326502     0% in    8s    17.53 kB/s\r",
        "   155648 of 30326502     0% in    8s    17.98 kB/s"
       ]
      },
      {
       "output_type": "stream",
       "stream": "stdout",
       "text": [
        "\r",
        "   159744 of 30326502     0% in    8s    17.89 kB/s"
       ]
      },
      {
       "output_type": "stream",
       "stream": "stdout",
       "text": [
        "\r",
        "   163840 of 30326502     0% in    8s    18.32 kB/s\r",
        "   167936 of 30326502     0% in    8s    18.78 kB/s"
       ]
      },
      {
       "output_type": "stream",
       "stream": "stdout",
       "text": [
        "\r",
        "   172032 of 30326502     0% in    8s    18.85 kB/s"
       ]
      },
      {
       "output_type": "stream",
       "stream": "stdout",
       "text": [
        "\r",
        "   176128 of 30326502     0% in    9s    19.09 kB/s\r",
        "   180224 of 30326502     0% in    9s    19.51 kB/s\r",
        "   184320 of 30326502     0% in    9s    19.94 kB/s"
       ]
      },
      {
       "output_type": "stream",
       "stream": "stdout",
       "text": [
        "\r",
        "   188416 of 30326502     0% in    9s    19.41 kB/s\r",
        "   192512 of 30326502     0% in    9s    19.81 kB/s\r",
        "   196608 of 30326502     0% in    9s    20.22 kB/s"
       ]
      },
      {
       "output_type": "stream",
       "stream": "stdout",
       "text": [
        "\r",
        "   200704 of 30326502     0% in    9s    20.64 kB/s"
       ]
      },
      {
       "output_type": "stream",
       "stream": "stdout",
       "text": [
        "\r",
        "   204800 of 30326502     0% in    9s    20.23 kB/s\r",
        "   208896 of 30326502     0% in    9s    20.64 kB/s\r",
        "   212992 of 30326502     0% in    9s    21.04 kB/s"
       ]
      },
      {
       "output_type": "stream",
       "stream": "stdout",
       "text": [
        "\r",
        "   217088 of 30326502     0% in   10s    20.60 kB/s\r",
        "   221184 of 30326502     0% in   10s    20.98 kB/s\r",
        "   225280 of 30326502     0% in   10s    21.37 kB/s\r",
        "   229376 of 30326502     0% in   10s    21.75 kB/s\r",
        "   233472 of 30326502     0% in   10s    22.14 kB/s"
       ]
      },
      {
       "output_type": "stream",
       "stream": "stdout",
       "text": [
        "\r",
        "   237568 of 30326502     0% in   10s    21.67 kB/s\r",
        "   241664 of 30326502     0% in   10s    22.05 kB/s\r",
        "   245760 of 30326502     0% in   10s    22.42 kB/s\r",
        "   249856 of 30326502     0% in   10s    22.78 kB/s"
       ]
      },
      {
       "output_type": "stream",
       "stream": "stdout",
       "text": [
        "\r",
        "   253952 of 30326502     0% in   11s    22.32 kB/s\r",
        "   258048 of 30326502     0% in   11s    22.67 kB/s\r",
        "   262144 of 30326502     0% in   11s    23.03 kB/s\r",
        "   266240 of 30326502     0% in   11s    23.39 kB/s\r",
        "   270336 of 30326502     0% in   11s    23.74 kB/s"
       ]
      },
      {
       "output_type": "stream",
       "stream": "stdout",
       "text": [
        "\r",
        "   274432 of 30326502     0% in   11s    23.51 kB/s\r",
        "   278528 of 30326502     0% in   11s    23.83 kB/s\r",
        "   282624 of 30326502     0% in   11s    24.17 kB/s\r",
        "   286720 of 30326502     0% in   11s    24.50 kB/s"
       ]
      },
      {
       "output_type": "stream",
       "stream": "stdout",
       "text": [
        "\r",
        "   290816 of 30326502     0% in   11s    24.54 kB/s"
       ]
      },
      {
       "output_type": "stream",
       "stream": "stdout",
       "text": [
        "\r",
        "   294912 of 30326502     0% in   11s    24.64 kB/s\r",
        "   299008 of 30326502     0% in   11s    24.96 kB/s\r",
        "   303104 of 30326502     0% in   11s    25.28 kB/s\r",
        "   307200 of 30326502     1% in   11s    25.60 kB/s"
       ]
      },
      {
       "output_type": "stream",
       "stream": "stdout",
       "text": [
        "\r",
        "   311296 of 30326502     1% in   11s    25.63 kB/s"
       ]
      },
      {
       "output_type": "stream",
       "stream": "stdout",
       "text": [
        "\r",
        "   315392 of 30326502     1% in   11s    25.73 kB/s\r",
        "   319488 of 30326502     1% in   11s    26.04 kB/s\r",
        "   323584 of 30326502     1% in   11s    26.36 kB/s"
       ]
      },
      {
       "output_type": "stream",
       "stream": "stdout",
       "text": [
        "\r",
        "   327680 of 30326502     1% in   11s    26.68 kB/s\r",
        "   331776 of 30326502     1% in   12s    26.98 kB/s"
       ]
      },
      {
       "output_type": "stream",
       "stream": "stdout",
       "text": [
        "\r",
        "   335872 of 30326502     1% in   12s    26.98 kB/s"
       ]
      },
      {
       "output_type": "stream",
       "stream": "stdout",
       "text": [
        "\r",
        "   339968 of 30326502     1% in   12s    27.11 kB/s\r",
        "   344064 of 30326502     1% in   12s    27.40 kB/s\r",
        "   348160 of 30326502     1% in   12s    27.71 kB/s\r",
        "   352256 of 30326502     1% in   12s    28.02 kB/s\r",
        "   356352 of 30326502     1% in   12s    28.32 kB/s\r",
        "   360448 of 30326502     1% in   12s    28.63 kB/s"
       ]
      },
      {
       "output_type": "stream",
       "stream": "stdout",
       "text": [
        "\r",
        "   364544 of 30326502     1% in   12s    28.93 kB/s"
       ]
      },
      {
       "output_type": "stream",
       "stream": "stdout",
       "text": [
        "\r",
        "   368640 of 30326502     1% in   12s    28.93 kB/s"
       ]
      },
      {
       "output_type": "stream",
       "stream": "stdout",
       "text": [
        "\r",
        "   372736 of 30326502     1% in   12s    29.05 kB/s\r",
        "   376832 of 30326502     1% in   12s    29.34 kB/s\r",
        "   380928 of 30326502     1% in   12s    29.64 kB/s"
       ]
      },
      {
       "output_type": "stream",
       "stream": "stdout",
       "text": [
        "\r",
        "   385024 of 30326502     1% in   12s    29.94 kB/s\r",
        "   389120 of 30326502     1% in   12s    30.23 kB/s\r",
        "   393216 of 30326502     1% in   12s    30.52 kB/s\r",
        "   397312 of 30326502     1% in   12s    30.82 kB/s\r",
        "   401408 of 30326502     1% in   12s    31.11 kB/s"
       ]
      },
      {
       "output_type": "stream",
       "stream": "stdout",
       "text": [
        "\r",
        "   405504 of 30326502     1% in   12s    31.42 kB/s"
       ]
      },
      {
       "output_type": "stream",
       "stream": "stdout",
       "text": [
        "\r",
        "   409600 of 30326502     1% in   12s    31.43 kB/s"
       ]
      },
      {
       "output_type": "stream",
       "stream": "stdout",
       "text": [
        "\r",
        "   413696 of 30326502     1% in   12s    31.53 kB/s\r",
        "   417792 of 30326502     1% in   12s    31.83 kB/s\r",
        "   421888 of 30326502     1% in   12s    32.11 kB/s\r",
        "   425984 of 30326502     1% in   12s    32.40 kB/s\r",
        "   430080 of 30326502     1% in   12s    32.70 kB/s\r",
        "   434176 of 30326502     1% in   12s    32.99 kB/s"
       ]
      },
      {
       "output_type": "stream",
       "stream": "stdout",
       "text": [
        "\r",
        "   438272 of 30326502     1% in   12s    33.27 kB/s\r",
        "   442368 of 30326502     1% in   12s    33.56 kB/s\r",
        "   446464 of 30326502     1% in   12s    33.85 kB/s\r",
        "   450560 of 30326502     1% in   12s    34.14 kB/s\r",
        "   454656 of 30326502     1% in   12s    34.43 kB/s\r",
        "   458752 of 30326502     1% in   12s    34.72 kB/s"
       ]
      },
      {
       "output_type": "stream",
       "stream": "stdout",
       "text": [
        "\r",
        "   462848 of 30326502     1% in   13s    34.75 kB/s"
       ]
      },
      {
       "output_type": "stream",
       "stream": "stdout",
       "text": [
        "\r",
        "   466944 of 30326502     1% in   13s    35.04 kB/s"
       ]
      },
      {
       "output_type": "stream",
       "stream": "stdout",
       "text": [
        "\r",
        "   471040 of 30326502     1% in   13s    35.13 kB/s\r",
        "   475136 of 30326502     1% in   13s    35.41 kB/s\r",
        "   479232 of 30326502     1% in   13s    35.69 kB/s"
       ]
      },
      {
       "output_type": "stream",
       "stream": "stdout",
       "text": [
        "\r",
        "   483328 of 30326502     1% in   13s    35.98 kB/s\r",
        "   487424 of 30326502     1% in   13s    36.26 kB/s\r",
        "   491520 of 30326502     1% in   13s    36.54 kB/s\r",
        "   495616 of 30326502     1% in   13s    36.82 kB/s\r",
        "   499712 of 30326502     1% in   13s    37.10 kB/s\r",
        "   503808 of 30326502     1% in   13s    37.38 kB/s"
       ]
      },
      {
       "output_type": "stream",
       "stream": "stdout",
       "text": [
        "\r",
        "   507904 of 30326502     1% in   13s    37.66 kB/s\r",
        "   512000 of 30326502     1% in   13s    37.94 kB/s\r",
        "   516096 of 30326502     1% in   13s    38.22 kB/s\r",
        "   520192 of 30326502     1% in   13s    38.50 kB/s\r",
        "   524288 of 30326502     1% in   13s    38.78 kB/s\r",
        "   528384 of 30326502     1% in   13s    39.05 kB/s"
       ]
      },
      {
       "output_type": "stream",
       "stream": "stdout",
       "text": [
        "\r",
        "   532480 of 30326502     1% in   13s    39.33 kB/s\r",
        "   536576 of 30326502     1% in   13s    39.61 kB/s"
       ]
      },
      {
       "output_type": "stream",
       "stream": "stdout",
       "text": [
        "\r",
        "   540672 of 30326502     1% in   13s    39.71 kB/s\r",
        "   544768 of 30326502     1% in   13s    39.98 kB/s"
       ]
      },
      {
       "output_type": "stream",
       "stream": "stdout",
       "text": [
        "\r",
        "   548864 of 30326502     1% in   13s    40.06 kB/s\r",
        "   552960 of 30326502     1% in   13s    40.34 kB/s"
       ]
      },
      {
       "output_type": "stream",
       "stream": "stdout",
       "text": [
        "\r",
        "   557056 of 30326502     1% in   13s    39.02 kB/s\r",
        "   561152 of 30326502     1% in   13s    39.31 kB/s\r",
        "   565248 of 30326502     1% in   13s    39.59 kB/s\r",
        "   569344 of 30326502     1% in   13s    39.88 kB/s\r",
        "   573440 of 30326502     1% in   13s    40.17 kB/s\r",
        "   577536 of 30326502     1% in   13s    40.45 kB/s\r",
        "   581632 of 30326502     1% in   13s    40.74 kB/s\r",
        "   585728 of 30326502     1% in   13s    41.03 kB/s\r",
        "   589824 of 30326502     1% in   13s    41.31 kB/s\r",
        "   593920 of 30326502     1% in   13s    41.60 kB/s\r",
        "   598016 of 30326502     1% in   13s    41.89 kB/s\r",
        "   602112 of 30326502     1% in   13s    42.17 kB/s\r",
        "   606208 of 30326502     1% in   13s    42.46 kB/s\r",
        "   610304 of 30326502     2% in   13s    42.75 kB/s\r",
        "   614400 of 30326502     2% in   13s    43.03 kB/s\r",
        "   618496 of 30326502     2% in   13s    43.32 kB/s\r",
        "   622592 of 30326502     2% in   13s    43.61 kB/s\r",
        "   626688 of 30326502     2% in   13s    43.89 kB/s\r",
        "   630784 of 30326502     2% in   13s    44.18 kB/s\r",
        "   634880 of 30326502     2% in   13s    44.47 kB/s\r",
        "   638976 of 30326502     2% in   13s    44.75 kB/s\r",
        "   643072 of 30326502     2% in   13s    45.04 kB/s\r",
        "   647168 of 30326502     2% in   13s    45.33 kB/s\r",
        "   651264 of 30326502     2% in   13s    45.61 kB/s\r",
        "   655360 of 30326502     2% in   13s    45.90 kB/s\r",
        "   659456 of 30326502     2% in   13s    46.18 kB/s\r",
        "   663552 of 30326502     2% in   13s    46.47 kB/s\r",
        "   667648 of 30326502     2% in   13s    46.76 kB/s\r",
        "   671744 of 30326502     2% in   13s    47.04 kB/s\r",
        "   675840 of 30326502     2% in   13s    47.33 kB/s\r",
        "   679936 of 30326502     2% in   13s    47.62 kB/s\r",
        "   684032 of 30326502     2% in   13s    47.90 kB/s\r",
        "   688128 of 30326502     2% in   13s    48.19 kB/s\r",
        "   692224 of 30326502     2% in   13s    48.48 kB/s\r",
        "   696320 of 30326502     2% in   13s    48.76 kB/s\r",
        "   700416 of 30326502     2% in   13s    49.05 kB/s\r",
        "   704512 of 30326502     2% in   13s    49.34 kB/s\r",
        "   708608 of 30326502     2% in   13s    49.62 kB/s\r",
        "   712704 of 30326502     2% in   13s    49.91 kB/s\r",
        "   716800 of 30326502     2% in   13s    50.20 kB/s\r",
        "   720896 of 30326502     2% in   13s    50.48 kB/s\r",
        "   724992 of 30326502     2% in   13s    50.77 kB/s\r",
        "   729088 of 30326502     2% in   13s    51.05 kB/s\r",
        "   733184 of 30326502     2% in   13s    51.34 kB/s\r",
        "   737280 of 30326502     2% in   13s    51.63 kB/s\r",
        "   741376 of 30326502     2% in   13s    51.91 kB/s\r",
        "   745472 of 30326502     2% in   13s    52.20 kB/s\r",
        "   749568 of 30326502     2% in   13s    52.39 kB/s"
       ]
      },
      {
       "output_type": "stream",
       "stream": "stdout",
       "text": [
        "\r",
        "   753664 of 30326502     2% in   13s    52.63 kB/s\r",
        "   757760 of 30326502     2% in   14s    52.84 kB/s\r",
        "   761856 of 30326502     2% in   14s    53.06 kB/s"
       ]
      },
      {
       "output_type": "stream",
       "stream": "stdout",
       "text": [
        "\r",
        "   765952 of 30326502     2% in   14s    53.28 kB/s\r",
        "   770048 of 30326502     2% in   14s    53.52 kB/s\r",
        "   774144 of 30326502     2% in   14s    53.79 kB/s\r",
        "   778240 of 30326502     2% in   14s    54.05 kB/s\r",
        "   782336 of 30326502     2% in   14s    54.29 kB/s\r",
        "   786432 of 30326502     2% in   14s    54.54 kB/s"
       ]
      },
      {
       "output_type": "stream",
       "stream": "stdout",
       "text": [
        "\r",
        "   790528 of 30326502     2% in   14s    54.80 kB/s\r",
        "   794624 of 30326502     2% in   14s    55.04 kB/s\r",
        "   798720 of 30326502     2% in   14s    55.30 kB/s\r",
        "   802816 of 30326502     2% in   14s    55.55 kB/s\r",
        "   806912 of 30326502     2% in   14s    55.79 kB/s"
       ]
      },
      {
       "output_type": "stream",
       "stream": "stdout",
       "text": [
        "\r",
        "   811008 of 30326502     2% in   14s    55.98 kB/s\r",
        "   815104 of 30326502     2% in   14s    56.22 kB/s"
       ]
      },
      {
       "output_type": "stream",
       "stream": "stdout",
       "text": [
        "\r",
        "   819200 of 30326502     2% in   14s    56.20 kB/s"
       ]
      },
      {
       "output_type": "stream",
       "stream": "stdout",
       "text": [
        "\r",
        "   823296 of 30326502     2% in   14s    56.47 kB/s\r",
        "   827392 of 30326502     2% in   14s    56.68 kB/s\r",
        "   831488 of 30326502     2% in   14s    56.92 kB/s\r",
        "   835584 of 30326502     2% in   14s    57.15 kB/s"
       ]
      },
      {
       "output_type": "stream",
       "stream": "stdout",
       "text": [
        "\r",
        "   839680 of 30326502     2% in   14s    57.36 kB/s\r",
        "   843776 of 30326502     2% in   14s    57.54 kB/s"
       ]
      },
      {
       "output_type": "stream",
       "stream": "stdout",
       "text": [
        "\r",
        "   847872 of 30326502     2% in   14s    57.72 kB/s\r",
        "   851968 of 30326502     2% in   14s    57.97 kB/s\r",
        "   856064 of 30326502     2% in   14s    58.22 kB/s\r",
        "   860160 of 30326502     2% in   14s    58.46 kB/s\r",
        "   864256 of 30326502     2% in   14s    58.70 kB/s\r",
        "   868352 of 30326502     2% in   14s    58.94 kB/s"
       ]
      },
      {
       "output_type": "stream",
       "stream": "stdout",
       "text": [
        "\r",
        "   872448 of 30326502     2% in   14s    59.18 kB/s\r",
        "   876544 of 30326502     2% in   14s    59.44 kB/s\r",
        "   880640 of 30326502     2% in   14s    59.68 kB/s\r",
        "   884736 of 30326502     2% in   14s    59.92 kB/s\r",
        "   888832 of 30326502     2% in   14s    60.16 kB/s\r",
        "   892928 of 30326502     2% in   14s    60.39 kB/s"
       ]
      },
      {
       "output_type": "stream",
       "stream": "stdout",
       "text": [
        "\r",
        "   897024 of 30326502     2% in   14s    60.64 kB/s"
       ]
      },
      {
       "output_type": "stream",
       "stream": "stdout",
       "text": [
        "\r",
        "   901120 of 30326502     2% in   14s    60.64 kB/s\r",
        "   905216 of 30326502     2% in   14s    60.89 kB/s\r",
        "   909312 of 30326502     2% in   14s    61.09 kB/s\r",
        "   913408 of 30326502     3% in   14s    61.32 kB/s"
       ]
      },
      {
       "output_type": "stream",
       "stream": "stdout",
       "text": [
        "\r",
        "   917504 of 30326502     3% in   14s    61.57 kB/s\r",
        "   921600 of 30326502     3% in   14s    61.79 kB/s\r",
        "   925696 of 30326502     3% in   14s    61.98 kB/s"
       ]
      },
      {
       "output_type": "stream",
       "stream": "stdout",
       "text": [
        "\r",
        "   929792 of 30326502     3% in   14s    62.17 kB/s\r",
        "   933888 of 30326502     3% in   14s    62.35 kB/s\r",
        "   937984 of 30326502     3% in   14s    62.58 kB/s\r",
        "   942080 of 30326502     3% in   14s    62.81 kB/s"
       ]
      },
      {
       "output_type": "stream",
       "stream": "stdout",
       "text": [
        "\r",
        "   946176 of 30326502     3% in   14s    63.05 kB/s\r",
        "   950272 of 30326502     3% in   14s    63.28 kB/s\r",
        "   954368 of 30326502     3% in   14s    63.52 kB/s\r",
        "   958464 of 30326502     3% in   14s    63.76 kB/s\r",
        "   962560 of 30326502     3% in   14s    64.00 kB/s\r",
        "   966656 of 30326502     3% in   14s    64.23 kB/s"
       ]
      },
      {
       "output_type": "stream",
       "stream": "stdout",
       "text": [
        "\r",
        "   970752 of 30326502     3% in   14s    64.46 kB/s\r",
        "   974848 of 30326502     3% in   14s    64.69 kB/s\r",
        "   978944 of 30326502     3% in   14s    64.93 kB/s\r",
        "   983040 of 30326502     3% in   14s    65.17 kB/s\r",
        "   987136 of 30326502     3% in   14s    65.41 kB/s"
       ]
      },
      {
       "output_type": "stream",
       "stream": "stdout",
       "text": [
        "\r",
        "   991232 of 30326502     3% in   14s    65.40 kB/s"
       ]
      },
      {
       "output_type": "stream",
       "stream": "stdout",
       "text": [
        "\r",
        "   995328 of 30326502     3% in   14s    65.63 kB/s\r",
        "   999424 of 30326502     3% in   14s    65.81 kB/s\r",
        "  1003520 of 30326502     3% in   14s    66.04 kB/s\r",
        "  1007616 of 30326502     3% in   14s    66.27 kB/s"
       ]
      },
      {
       "output_type": "stream",
       "stream": "stdout",
       "text": [
        "\r",
        "  1011712 of 30326502     3% in   14s    66.51 kB/s\r",
        "  1015808 of 30326502     3% in   14s    66.72 kB/s\r",
        "  1019904 of 30326502     3% in   14s    66.87 kB/s"
       ]
      },
      {
       "output_type": "stream",
       "stream": "stdout",
       "text": [
        "\r",
        "  1024000 of 30326502     3% in   14s    67.04 kB/s\r",
        "  1028096 of 30326502     3% in   14s    67.26 kB/s\r",
        "  1032192 of 30326502     3% in   14s    67.48 kB/s\r",
        "  1036288 of 30326502     3% in   14s    67.73 kB/s\r",
        "  1040384 of 30326502     3% in   14s    67.96 kB/s"
       ]
      },
      {
       "output_type": "stream",
       "stream": "stdout",
       "text": [
        "\r",
        "  1044480 of 30326502     3% in   14s    68.18 kB/s\r",
        "  1048576 of 30326502     3% in   14s    68.41 kB/s\r",
        "  1052672 of 30326502     3% in   14s    68.64 kB/s\r",
        "  1056768 of 30326502     3% in   14s    68.86 kB/s\r",
        "  1060864 of 30326502     3% in   14s    69.10 kB/s\r",
        "  1064960 of 30326502     3% in   15s    69.33 kB/s"
       ]
      },
      {
       "output_type": "stream",
       "stream": "stdout",
       "text": [
        "\r",
        "  1069056 of 30326502     3% in   15s    69.55 kB/s\r",
        "  1073152 of 30326502     3% in   15s    69.77 kB/s"
       ]
      },
      {
       "output_type": "stream",
       "stream": "stdout",
       "text": [
        "\r",
        "  1077248 of 30326502     3% in   15s    69.79 kB/s\r",
        "  1081344 of 30326502     3% in   15s    70.00 kB/s\r",
        "  1085440 of 30326502     3% in   15s    70.17 kB/s"
       ]
      },
      {
       "output_type": "stream",
       "stream": "stdout",
       "text": [
        "\r",
        "  1089536 of 30326502     3% in   15s    70.39 kB/s\r",
        "  1093632 of 30326502     3% in   15s    70.62 kB/s\r",
        "  1097728 of 30326502     3% in   15s    70.85 kB/s\r",
        "  1101824 of 30326502     3% in   15s    71.05 kB/s\r",
        "  1105920 of 30326502     3% in   15s    71.26 kB/s"
       ]
      },
      {
       "output_type": "stream",
       "stream": "stdout",
       "text": [
        "\r",
        "  1110016 of 30326502     3% in   15s    71.42 kB/s\r",
        "  1114112 of 30326502     3% in   15s    71.58 kB/s\r",
        "  1118208 of 30326502     3% in   15s    71.80 kB/s"
       ]
      },
      {
       "output_type": "stream",
       "stream": "stdout",
       "text": [
        "\r",
        "  1122304 of 30326502     3% in   15s    72.01 kB/s\r",
        "  1126400 of 30326502     3% in   15s    72.23 kB/s\r",
        "  1130496 of 30326502     3% in   15s    72.45 kB/s\r",
        "  1134592 of 30326502     3% in   15s    72.66 kB/s\r",
        "  1138688 of 30326502     3% in   15s    72.88 kB/s"
       ]
      },
      {
       "output_type": "stream",
       "stream": "stdout",
       "text": [
        "\r",
        "  1142784 of 30326502     3% in   15s    73.12 kB/s\r",
        "  1146880 of 30326502     3% in   15s    73.33 kB/s\r",
        "  1150976 of 30326502     3% in   15s    73.55 kB/s\r",
        "  1155072 of 30326502     3% in   15s    73.75 kB/s\r",
        "  1159168 of 30326502     3% in   15s    73.97 kB/s\r",
        "  1163264 of 30326502     3% in   15s    74.20 kB/s"
       ]
      },
      {
       "output_type": "stream",
       "stream": "stdout",
       "text": [
        "\r",
        "  1167360 of 30326502     3% in   15s    74.24 kB/s"
       ]
      },
      {
       "output_type": "stream",
       "stream": "stdout",
       "text": [
        "\r",
        "  1171456 of 30326502     3% in   15s    74.44 kB/s\r",
        "  1175552 of 30326502     3% in   15s    74.66 kB/s\r",
        "  1179648 of 30326502     3% in   15s    74.82 kB/s\r",
        "  1183744 of 30326502     3% in   15s    75.03 kB/s"
       ]
      },
      {
       "output_type": "stream",
       "stream": "stdout",
       "text": [
        "\r",
        "  1187840 of 30326502     3% in   15s    75.25 kB/s\r",
        "  1191936 of 30326502     3% in   15s    75.46 kB/s\r",
        "  1196032 of 30326502     3% in   15s    75.67 kB/s\r",
        "  1200128 of 30326502     3% in   15s    75.79 kB/s"
       ]
      },
      {
       "output_type": "stream",
       "stream": "stdout",
       "text": [
        "\r",
        "  1204224 of 30326502     3% in   15s    75.94 kB/s\r",
        "  1208320 of 30326502     3% in   15s    76.16 kB/s\r",
        "  1212416 of 30326502     3% in   15s    76.35 kB/s"
       ]
      },
      {
       "output_type": "stream",
       "stream": "stdout",
       "text": [
        "\r",
        "  1216512 of 30326502     4% in   15s    76.56 kB/s\r",
        "  1220608 of 30326502     4% in   15s    76.78 kB/s\r",
        "  1224704 of 30326502     4% in   15s    77.00 kB/s\r",
        "  1228800 of 30326502     4% in   15s    77.22 kB/s\r",
        "  1232896 of 30326502     4% in   15s    77.43 kB/s\r",
        "  1236992 of 30326502     4% in   15s    77.64 kB/s"
       ]
      },
      {
       "output_type": "stream",
       "stream": "stdout",
       "text": [
        "\r",
        "  1241088 of 30326502     4% in   15s    77.85 kB/s\r",
        "  1245184 of 30326502     4% in   15s    78.05 kB/s\r",
        "  1249280 of 30326502     4% in   15s    78.27 kB/s\r",
        "  1253376 of 30326502     4% in   15s    78.49 kB/s"
       ]
      },
      {
       "output_type": "stream",
       "stream": "stdout",
       "text": [
        "\r",
        "  1257472 of 30326502     4% in   15s    78.48 kB/s\r",
        "  1261568 of 30326502     4% in   15s    78.69 kB/s"
       ]
      },
      {
       "output_type": "stream",
       "stream": "stdout",
       "text": [
        "\r",
        "  1265664 of 30326502     4% in   15s    78.86 kB/s\r",
        "  1269760 of 30326502     4% in   15s    79.07 kB/s\r",
        "  1273856 of 30326502     4% in   15s    79.29 kB/s\r",
        "  1277952 of 30326502     4% in   15s    79.50 kB/s\r",
        "  1282048 of 30326502     4% in   15s    79.70 kB/s\r",
        "  1286144 of 30326502     4% in   15s    79.90 kB/s"
       ]
      },
      {
       "output_type": "stream",
       "stream": "stdout",
       "text": [
        "\r",
        "  1290240 of 30326502     4% in   15s    79.99 kB/s\r",
        "  1294336 of 30326502     4% in   15s    80.15 kB/s"
       ]
      },
      {
       "output_type": "stream",
       "stream": "stdout",
       "text": [
        "\r",
        "  1298432 of 30326502     4% in   15s    80.37 kB/s\r",
        "  1302528 of 30326502     4% in   15s    80.56 kB/s\r",
        "  1306624 of 30326502     4% in   15s    80.76 kB/s\r",
        "  1310720 of 30326502     4% in   15s    80.97 kB/s\r",
        "  1314816 of 30326502     4% in   15s    81.18 kB/s"
       ]
      },
      {
       "output_type": "stream",
       "stream": "stdout",
       "text": [
        "\r",
        "  1318912 of 30326502     4% in   15s    81.39 kB/s\r",
        "  1323008 of 30326502     4% in   15s    81.59 kB/s\r",
        "  1327104 of 30326502     4% in   15s    81.81 kB/s\r",
        "  1331200 of 30326502     4% in   15s    82.01 kB/s\r",
        "  1335296 of 30326502     4% in   15s    82.20 kB/s"
       ]
      },
      {
       "output_type": "stream",
       "stream": "stdout",
       "text": [
        "\r",
        "  1339392 of 30326502     4% in   15s    82.38 kB/s\r",
        "  1343488 of 30326502     4% in   15s    82.61 kB/s"
       ]
      },
      {
       "output_type": "stream",
       "stream": "stdout",
       "text": [
        "\r",
        "  1347584 of 30326502     4% in   15s    82.60 kB/s\r",
        "  1351680 of 30326502     4% in   15s    82.82 kB/s\r",
        "  1355776 of 30326502     4% in   15s    83.02 kB/s\r",
        "  1359872 of 30326502     4% in   15s    83.18 kB/s\r",
        "  1363968 of 30326502     4% in   15s    83.38 kB/s"
       ]
      },
      {
       "output_type": "stream",
       "stream": "stdout",
       "text": [
        "\r",
        "  1368064 of 30326502     4% in   15s    83.59 kB/s\r",
        "  1372160 of 30326502     4% in   15s    83.78 kB/s\r",
        "  1376256 of 30326502     4% in   16s    83.98 kB/s"
       ]
      },
      {
       "output_type": "stream",
       "stream": "stdout",
       "text": [
        "\r",
        "  1380352 of 30326502     4% in   16s    84.09 kB/s\r",
        "  1384448 of 30326502     4% in   16s    84.25 kB/s\r",
        "  1388544 of 30326502     4% in   16s    84.45 kB/s\r",
        "  1392640 of 30326502     4% in   16s    84.64 kB/s"
       ]
      },
      {
       "output_type": "stream",
       "stream": "stdout",
       "text": [
        "\r",
        "  1396736 of 30326502     4% in   16s    84.82 kB/s\r",
        "  1400832 of 30326502     4% in   16s    85.01 kB/s\r",
        "  1404928 of 30326502     4% in   16s    85.24 kB/s\r",
        "  1409024 of 30326502     4% in   16s    85.43 kB/s\r",
        "  1413120 of 30326502     4% in   16s    85.63 kB/s\r",
        "  1417216 of 30326502     4% in   16s    85.83 kB/s"
       ]
      },
      {
       "output_type": "stream",
       "stream": "stdout",
       "text": [
        "\r",
        "  1421312 of 30326502     4% in   16s    86.02 kB/s\r",
        "  1425408 of 30326502     4% in   16s    86.20 kB/s\r",
        "  1429504 of 30326502     4% in   16s    86.43 kB/s\r",
        "  1433600 of 30326502     4% in   16s    86.61 kB/s\r",
        "  1437696 of 30326502     4% in   16s    86.79 kB/s"
       ]
      },
      {
       "output_type": "stream",
       "stream": "stdout",
       "text": [
        "\r",
        "  1441792 of 30326502     4% in   16s    86.78 kB/s\r",
        "  1445888 of 30326502     4% in   16s    86.99 kB/s"
       ]
      },
      {
       "output_type": "stream",
       "stream": "stdout",
       "text": [
        "\r",
        "  1449984 of 30326502     4% in   16s    87.16 kB/s\r",
        "  1454080 of 30326502     4% in   16s    87.32 kB/s\r",
        "  1458176 of 30326502     4% in   16s    87.53 kB/s\r",
        "  1462272 of 30326502     4% in   16s    87.73 kB/s"
       ]
      },
      {
       "output_type": "stream",
       "stream": "stdout",
       "text": [
        "\r",
        "  1466368 of 30326502     4% in   16s    87.92 kB/s\r",
        "  1470464 of 30326502     4% in   16s    88.03 kB/s\r",
        "  1474560 of 30326502     4% in   16s    88.18 kB/s"
       ]
      },
      {
       "output_type": "stream",
       "stream": "stdout",
       "text": [
        "\r",
        "  1478656 of 30326502     4% in   16s    88.37 kB/s\r",
        "  1482752 of 30326502     4% in   16s    88.59 kB/s\r",
        "  1486848 of 30326502     4% in   16s    88.76 kB/s\r",
        "  1490944 of 30326502     4% in   16s    88.95 kB/s\r",
        "  1495040 of 30326502     4% in   16s    89.11 kB/s"
       ]
      },
      {
       "output_type": "stream",
       "stream": "stdout",
       "text": [
        "\r",
        "  1499136 of 30326502     4% in   16s    89.33 kB/s\r",
        "  1503232 of 30326502     4% in   16s    89.52 kB/s\r",
        "  1507328 of 30326502     4% in   16s    89.68 kB/s\r",
        "  1511424 of 30326502     4% in   16s    89.92 kB/s\r",
        "  1515520 of 30326502     4% in   16s    90.11 kB/s\r",
        "  1519616 of 30326502     5% in   16s    90.29 kB/s"
       ]
      },
      {
       "output_type": "stream",
       "stream": "stdout",
       "text": [
        "\r",
        "  1523712 of 30326502     5% in   16s    90.47 kB/s\r",
        "  1527808 of 30326502     5% in   16s    90.65 kB/s"
       ]
      },
      {
       "output_type": "stream",
       "stream": "stdout",
       "text": [
        "\r",
        "  1531904 of 30326502     5% in   16s    90.62 kB/s\r",
        "  1536000 of 30326502     5% in   16s    90.83 kB/s\r",
        "  1540096 of 30326502     5% in   16s    91.00 kB/s\r",
        "  1544192 of 30326502     5% in   16s    91.19 kB/s"
       ]
      },
      {
       "output_type": "stream",
       "stream": "stdout",
       "text": [
        "\r",
        "  1548288 of 30326502     5% in   16s    91.35 kB/s\r",
        "  1552384 of 30326502     5% in   16s    91.55 kB/s\r",
        "  1556480 of 30326502     5% in   16s    91.72 kB/s\r",
        "  1560576 of 30326502     5% in   16s    91.93 kB/s"
       ]
      },
      {
       "output_type": "stream",
       "stream": "stdout",
       "text": [
        "\r",
        "  1564672 of 30326502     5% in   16s    92.04 kB/s\r",
        "  1568768 of 30326502     5% in   16s    92.19 kB/s"
       ]
      },
      {
       "output_type": "stream",
       "stream": "stdout",
       "text": [
        "\r",
        "  1572864 of 30326502     5% in   16s    92.28 kB/s\r",
        "  1576960 of 30326502     5% in   16s    92.47 kB/s\r",
        "  1581056 of 30326502     5% in   16s    92.67 kB/s\r",
        "  1585152 of 30326502     5% in   16s    92.86 kB/s\r",
        "  1589248 of 30326502     5% in   16s    93.06 kB/s"
       ]
      },
      {
       "output_type": "stream",
       "stream": "stdout",
       "text": [
        "\r",
        "  1593344 of 30326502     5% in   16s    93.17 kB/s\r",
        "  1597440 of 30326502     5% in   16s    93.36 kB/s\r",
        "  1601536 of 30326502     5% in   16s    93.55 kB/s\r",
        "  1605632 of 30326502     5% in   16s    93.71 kB/s\r",
        "  1609728 of 30326502     5% in   16s    93.89 kB/s"
       ]
      },
      {
       "output_type": "stream",
       "stream": "stdout",
       "text": [
        "\r",
        "  1613824 of 30326502     5% in   16s    94.11 kB/s\r",
        "  1617920 of 30326502     5% in   16s    94.08 kB/s"
       ]
      },
      {
       "output_type": "stream",
       "stream": "stdout",
       "text": [
        "\r",
        "  1622016 of 30326502     5% in   16s    94.27 kB/s\r",
        "  1626112 of 30326502     5% in   16s    94.46 kB/s\r",
        "  1630208 of 30326502     5% in   16s    94.65 kB/s\r",
        "  1634304 of 30326502     5% in   16s    94.83 kB/s\r",
        "  1638400 of 30326502     5% in   16s    95.02 kB/s"
       ]
      },
      {
       "output_type": "stream",
       "stream": "stdout",
       "text": [
        "\r",
        "  1642496 of 30326502     5% in   16s    95.16 kB/s\r",
        "  1646592 of 30326502     5% in   16s    95.34 kB/s\r",
        "  1650688 of 30326502     5% in   16s    95.53 kB/s"
       ]
      },
      {
       "output_type": "stream",
       "stream": "stdout",
       "text": [
        "\r",
        "  1654784 of 30326502     5% in   16s    95.55 kB/s\r",
        "  1658880 of 30326502     5% in   16s    95.74 kB/s\r",
        "  1662976 of 30326502     5% in   16s    95.91 kB/s\r",
        "  1667072 of 30326502     5% in   16s    96.11 kB/s\r",
        "  1671168 of 30326502     5% in   16s    96.30 kB/s"
       ]
      },
      {
       "output_type": "stream",
       "stream": "stdout",
       "text": [
        "\r",
        "  1675264 of 30326502     5% in   16s    96.49 kB/s\r",
        "  1679360 of 30326502     5% in   16s    96.52 kB/s"
       ]
      },
      {
       "output_type": "stream",
       "stream": "stdout",
       "text": [
        "\r",
        "  1683456 of 30326502     5% in   17s    96.69 kB/s\r",
        "  1687552 of 30326502     5% in   17s    96.89 kB/s\r",
        "  1691648 of 30326502     5% in   17s    97.04 kB/s\r",
        "  1695744 of 30326502     5% in   17s    97.26 kB/s"
       ]
      },
      {
       "output_type": "stream",
       "stream": "stdout",
       "text": [
        "\r",
        "  1699840 of 30326502     5% in   17s    94.71 kB/s\r",
        "  1703936 of 30326502     5% in   17s    94.94 kB/s"
       ]
      },
      {
       "output_type": "stream",
       "stream": "stdout",
       "text": [
        "\r",
        "  1708032 of 30326502     5% in   17s    93.60 kB/s\r",
        "  1712128 of 30326502     5% in   17s    93.82 kB/s\r",
        "  1716224 of 30326502     5% in   17s    94.04 kB/s\r",
        "  1720320 of 30326502     5% in   17s    94.27 kB/s\r",
        "  1724416 of 30326502     5% in   17s    94.49 kB/s\r",
        "  1728512 of 30326502     5% in   17s    94.71 kB/s\r",
        "  1732608 of 30326502     5% in   17s    94.94 kB/s\r",
        "  1736704 of 30326502     5% in   17s    95.16 kB/s\r",
        "  1740800 of 30326502     5% in   17s    95.39 kB/s\r",
        "  1744896 of 30326502     5% in   17s    95.61 kB/s\r",
        "  1748992 of 30326502     5% in   17s    95.83 kB/s\r",
        "  1753088 of 30326502     5% in   17s    96.06 kB/s\r",
        "  1757184 of 30326502     5% in   17s    96.28 kB/s\r",
        "  1761280 of 30326502     5% in   17s    96.51 kB/s\r",
        "  1765376 of 30326502     5% in   17s    96.73 kB/s\r",
        "  1769472 of 30326502     5% in   17s    96.95 kB/s\r",
        "  1773568 of 30326502     5% in   17s    97.18 kB/s\r",
        "  1777664 of 30326502     5% in   17s    97.40 kB/s\r",
        "  1781760 of 30326502     5% in   17s    97.63 kB/s\r",
        "  1785856 of 30326502     5% in   17s    97.85 kB/s\r",
        "  1789952 of 30326502     5% in   17s    98.07 kB/s\r",
        "  1794048 of 30326502     5% in   17s    98.30 kB/s\r",
        "  1798144 of 30326502     5% in   17s    98.52 kB/s\r",
        "  1802240 of 30326502     5% in   17s    98.74 kB/s\r",
        "  1806336 of 30326502     5% in   17s    98.97 kB/s\r",
        "  1810432 of 30326502     5% in   17s    99.19 kB/s\r",
        "  1814528 of 30326502     5% in   17s    99.42 kB/s\r",
        "  1818624 of 30326502     5% in   17s    99.64 kB/s\r",
        "  1822720 of 30326502     6% in   17s    99.86 kB/s\r",
        "  1826816 of 30326502     6% in   17s   100.09 kB/s\r",
        "  1830912 of 30326502     6% in   17s   100.31 kB/s\r",
        "  1835008 of 30326502     6% in   17s   100.54 kB/s\r",
        "  1839104 of 30326502     6% in   17s   100.76 kB/s\r",
        "  1843200 of 30326502     6% in   17s   100.98 kB/s\r",
        "  1847296 of 30326502     6% in   17s   101.21 kB/s\r",
        "  1851392 of 30326502     6% in   17s   101.43 kB/s\r",
        "  1855488 of 30326502     6% in   17s   101.66 kB/s\r",
        "  1859584 of 30326502     6% in   17s   101.88 kB/s\r",
        "  1863680 of 30326502     6% in   17s   102.10 kB/s\r",
        "  1867776 of 30326502     6% in   17s   102.33 kB/s\r",
        "  1871872 of 30326502     6% in   17s   102.55 kB/s\r",
        "  1875968 of 30326502     6% in   17s   102.78 kB/s\r",
        "  1880064 of 30326502     6% in   17s   103.00 kB/s\r",
        "  1884160 of 30326502     6% in   17s   103.22 kB/s\r",
        "  1888256 of 30326502     6% in   17s   103.45 kB/s\r",
        "  1892352 of 30326502     6% in   17s   103.67 kB/s\r",
        "  1896448 of 30326502     6% in   17s   103.90 kB/s\r",
        "  1900544 of 30326502     6% in   17s   104.12 kB/s\r",
        "  1904640 of 30326502     6% in   17s   104.34 kB/s\r",
        "  1908736 of 30326502     6% in   17s   104.57 kB/s\r",
        "  1912832 of 30326502     6% in   17s   104.71 kB/s\r",
        "  1916928 of 30326502     6% in   17s   104.82 kB/s"
       ]
      },
      {
       "output_type": "stream",
       "stream": "stdout",
       "text": [
        "\r",
        "  1921024 of 30326502     6% in   17s   104.92 kB/s\r",
        "  1925120 of 30326502     6% in   17s   105.02 kB/s\r",
        "  1929216 of 30326502     6% in   17s   105.18 kB/s"
       ]
      },
      {
       "output_type": "stream",
       "stream": "stdout",
       "text": [
        "\r",
        "  1933312 of 30326502     6% in   17s   105.27 kB/s\r",
        "  1937408 of 30326502     6% in   17s   105.31 kB/s"
       ]
      },
      {
       "output_type": "stream",
       "stream": "stdout",
       "text": [
        "\r",
        "  1941504 of 30326502     6% in   17s   105.48 kB/s\r",
        "  1945600 of 30326502     6% in   17s   105.65 kB/s\r",
        "  1949696 of 30326502     6% in   18s   105.77 kB/s\r",
        "  1953792 of 30326502     6% in   18s   105.89 kB/s\r",
        "  1957888 of 30326502     6% in   18s   106.11 kB/s"
       ]
      },
      {
       "output_type": "stream",
       "stream": "stdout",
       "text": [
        "\r",
        "  1961984 of 30326502     6% in   18s   106.26 kB/s\r",
        "  1966080 of 30326502     6% in   18s   106.44 kB/s"
       ]
      },
      {
       "output_type": "stream",
       "stream": "stdout",
       "text": [
        "\r",
        "  1970176 of 30326502     6% in   18s   106.27 kB/s\r",
        "  1974272 of 30326502     6% in   18s   106.39 kB/s"
       ]
      },
      {
       "output_type": "stream",
       "stream": "stdout",
       "text": [
        "\r",
        "  1978368 of 30326502     6% in   18s   106.50 kB/s\r",
        "  1982464 of 30326502     6% in   18s   106.67 kB/s\r",
        "  1986560 of 30326502     6% in   18s   106.84 kB/s\r",
        "  1990656 of 30326502     6% in   18s   107.02 kB/s"
       ]
      },
      {
       "output_type": "stream",
       "stream": "stdout",
       "text": [
        "\r",
        "  1994752 of 30326502     6% in   18s   107.10 kB/s\r",
        "  1998848 of 30326502     6% in   18s   107.26 kB/s\r",
        "  2002944 of 30326502     6% in   18s   107.37 kB/s"
       ]
      },
      {
       "output_type": "stream",
       "stream": "stdout",
       "text": [
        "\r",
        "  2007040 of 30326502     6% in   18s   107.41 kB/s\r",
        "  2011136 of 30326502     6% in   18s   107.60 kB/s\r",
        "  2015232 of 30326502     6% in   18s   107.76 kB/s\r",
        "  2019328 of 30326502     6% in   18s   107.90 kB/s"
       ]
      },
      {
       "output_type": "stream",
       "stream": "stdout",
       "text": [
        "\r",
        "  2023424 of 30326502     6% in   18s   108.04 kB/s\r",
        "  2027520 of 30326502     6% in   18s   108.17 kB/s\r",
        "  2031616 of 30326502     6% in   18s   108.29 kB/s\r",
        "  2035712 of 30326502     6% in   18s   108.49 kB/s"
       ]
      },
      {
       "output_type": "stream",
       "stream": "stdout",
       "text": [
        "\r",
        "  2039808 of 30326502     6% in   18s   108.64 kB/s"
       ]
      },
      {
       "output_type": "stream",
       "stream": "stdout",
       "text": [
        "\r",
        "  2043904 of 30326502     6% in   18s   108.52 kB/s\r",
        "  2048000 of 30326502     6% in   18s   108.57 kB/s"
       ]
      },
      {
       "output_type": "stream",
       "stream": "stdout",
       "text": [
        "\r",
        "  2052096 of 30326502     6% in   18s   108.73 kB/s\r",
        "  2056192 of 30326502     6% in   18s   108.89 kB/s\r",
        "  2060288 of 30326502     6% in   18s   109.06 kB/s\r",
        "  2064384 of 30326502     6% in   18s   109.16 kB/s\r",
        "  2068480 of 30326502     6% in   18s   109.32 kB/s"
       ]
      },
      {
       "output_type": "stream",
       "stream": "stdout",
       "text": [
        "\r",
        "  2072576 of 30326502     6% in   18s   109.48 kB/s\r",
        "  2076672 of 30326502     6% in   18s   109.59 kB/s"
       ]
      },
      {
       "output_type": "stream",
       "stream": "stdout",
       "text": [
        "\r",
        "  2080768 of 30326502     6% in   18s   109.60 kB/s\r",
        "  2084864 of 30326502     6% in   18s   109.76 kB/s\r",
        "  2088960 of 30326502     6% in   18s   109.95 kB/s\r",
        "  2093056 of 30326502     6% in   18s   110.11 kB/s\r",
        "  2097152 of 30326502     6% in   18s   110.23 kB/s"
       ]
      },
      {
       "output_type": "stream",
       "stream": "stdout",
       "text": [
        "\r",
        "  2101248 of 30326502     6% in   18s   110.34 kB/s\r",
        "  2105344 of 30326502     6% in   18s   110.48 kB/s\r",
        "  2109440 of 30326502     6% in   18s   110.60 kB/s\r",
        "  2113536 of 30326502     6% in   18s   110.78 kB/s"
       ]
      },
      {
       "output_type": "stream",
       "stream": "stdout",
       "text": [
        "\r",
        "  2117632 of 30326502     6% in   18s   110.69 kB/s"
       ]
      },
      {
       "output_type": "stream",
       "stream": "stdout",
       "text": [
        "\r",
        "  2121728 of 30326502     6% in   18s   110.75 kB/s\r",
        "  2125824 of 30326502     7% in   18s   110.89 kB/s\r",
        "  2129920 of 30326502     7% in   18s   111.05 kB/s"
       ]
      },
      {
       "output_type": "stream",
       "stream": "stdout",
       "text": [
        "\r",
        "  2134016 of 30326502     7% in   18s   111.15 kB/s\r",
        "  2138112 of 30326502     7% in   18s   111.30 kB/s\r",
        "  2142208 of 30326502     7% in   18s   111.47 kB/s\r",
        "  2146304 of 30326502     7% in   18s   111.62 kB/s"
       ]
      },
      {
       "output_type": "stream",
       "stream": "stdout",
       "text": [
        "\r",
        "  2150400 of 30326502     7% in   18s   111.75 kB/s\r",
        "  2154496 of 30326502     7% in   18s   111.75 kB/s\r",
        "  2158592 of 30326502     7% in   18s   111.91 kB/s"
       ]
      },
      {
       "output_type": "stream",
       "stream": "stdout",
       "text": [
        "\r",
        "  2162688 of 30326502     7% in   18s   112.07 kB/s\r",
        "  2166784 of 30326502     7% in   18s   112.22 kB/s\r",
        "  2170880 of 30326502     7% in   18s   112.34 kB/s\r",
        "  2174976 of 30326502     7% in   18s   112.45 kB/s"
       ]
      },
      {
       "output_type": "stream",
       "stream": "stdout",
       "text": [
        "\r",
        "  2179072 of 30326502     7% in   18s   112.57 kB/s\r",
        "  2183168 of 30326502     7% in   18s   112.73 kB/s"
       ]
      },
      {
       "output_type": "stream",
       "stream": "stdout",
       "text": [
        "\r",
        "  2187264 of 30326502     7% in   18s   112.63 kB/s\r",
        "  2191360 of 30326502     7% in   18s   112.68 kB/s"
       ]
      },
      {
       "output_type": "stream",
       "stream": "stdout",
       "text": [
        "\r",
        "  2195456 of 30326502     7% in   18s   112.85 kB/s\r",
        "  2199552 of 30326502     7% in   19s   113.00 kB/s\r",
        "  2203648 of 30326502     7% in   19s   113.15 kB/s\r",
        "  2207744 of 30326502     7% in   19s   113.23 kB/s"
       ]
      },
      {
       "output_type": "stream",
       "stream": "stdout",
       "text": [
        "\r",
        "  2211840 of 30326502     7% in   19s   113.37 kB/s\r",
        "  2215936 of 30326502     7% in   19s   113.53 kB/s\r",
        "  2220032 of 30326502     7% in   19s   113.67 kB/s"
       ]
      },
      {
       "output_type": "stream",
       "stream": "stdout",
       "text": [
        "\r",
        "  2224128 of 30326502     7% in   19s   113.67 kB/s\r",
        "  2228224 of 30326502     7% in   19s   113.82 kB/s\r",
        "  2232320 of 30326502     7% in   19s   113.99 kB/s\r",
        "  2236416 of 30326502     7% in   19s   114.14 kB/s"
       ]
      },
      {
       "output_type": "stream",
       "stream": "stdout",
       "text": [
        "\r",
        "  2240512 of 30326502     7% in   19s   114.26 kB/s\r",
        "  2244608 of 30326502     7% in   19s   114.40 kB/s\r",
        "  2248704 of 30326502     7% in   19s   114.50 kB/s\r",
        "  2252800 of 30326502     7% in   19s   114.62 kB/s"
       ]
      },
      {
       "output_type": "stream",
       "stream": "stdout",
       "text": [
        "\r",
        "  2256896 of 30326502     7% in   19s   114.78 kB/s"
       ]
      },
      {
       "output_type": "stream",
       "stream": "stdout",
       "text": [
        "\r",
        "  2260992 of 30326502     7% in   19s   114.64 kB/s\r",
        "  2265088 of 30326502     7% in   19s   114.73 kB/s\r",
        "  2269184 of 30326502     7% in   19s   114.88 kB/s\r",
        "  2273280 of 30326502     7% in   19s   115.05 kB/s"
       ]
      },
      {
       "output_type": "stream",
       "stream": "stdout",
       "text": [
        "\r",
        "  2277376 of 30326502     7% in   19s   115.21 kB/s\r",
        "  2281472 of 30326502     7% in   19s   115.27 kB/s\r",
        "  2285568 of 30326502     7% in   19s   115.41 kB/s\r",
        "  2289664 of 30326502     7% in   19s   115.55 kB/s"
       ]
      },
      {
       "output_type": "stream",
       "stream": "stdout",
       "text": [
        "\r",
        "  2293760 of 30326502     7% in   19s   115.68 kB/s\r",
        "  2297856 of 30326502     7% in   19s   115.72 kB/s\r",
        "  2301952 of 30326502     7% in   19s   115.87 kB/s"
       ]
      },
      {
       "output_type": "stream",
       "stream": "stdout",
       "text": [
        "\r",
        "  2306048 of 30326502     7% in   19s   116.02 kB/s\r",
        "  2310144 of 30326502     7% in   19s   116.17 kB/s\r",
        "  2314240 of 30326502     7% in   19s   116.29 kB/s"
       ]
      },
      {
       "output_type": "stream",
       "stream": "stdout",
       "text": [
        "\r",
        "  2318336 of 30326502     7% in   19s   116.32 kB/s\r",
        "  2322432 of 30326502     7% in   19s   116.47 kB/s\r",
        "  2326528 of 30326502     7% in   19s   116.64 kB/s\r",
        "  2330624 of 30326502     7% in   19s   116.79 kB/s"
       ]
      },
      {
       "output_type": "stream",
       "stream": "stdout",
       "text": [
        "\r",
        "  2334720 of 30326502     7% in   19s   116.66 kB/s"
       ]
      },
      {
       "output_type": "stream",
       "stream": "stdout",
       "text": [
        "\r",
        "  2338816 of 30326502     7% in   19s   116.74 kB/s\r",
        "  2342912 of 30326502     7% in   19s   116.88 kB/s\r",
        "  2347008 of 30326502     7% in   19s   117.03 kB/s\r",
        "  2351104 of 30326502     7% in   19s   117.19 kB/s"
       ]
      },
      {
       "output_type": "stream",
       "stream": "stdout",
       "text": [
        "\r",
        "  2355200 of 30326502     7% in   19s   117.26 kB/s\r",
        "  2359296 of 30326502     7% in   19s   117.40 kB/s\r",
        "  2363392 of 30326502     7% in   19s   117.46 kB/s\r",
        "  2367488 of 30326502     7% in   19s   117.61 kB/s"
       ]
      },
      {
       "output_type": "stream",
       "stream": "stdout",
       "text": [
        "\r",
        "  2371584 of 30326502     7% in   19s   117.69 kB/s\r",
        "  2375680 of 30326502     7% in   19s   117.84 kB/s\r",
        "  2379776 of 30326502     7% in   19s   117.98 kB/s"
       ]
      },
      {
       "output_type": "stream",
       "stream": "stdout",
       "text": [
        "\r",
        "  2383872 of 30326502     7% in   19s   118.12 kB/s\r",
        "  2387968 of 30326502     7% in   19s   118.24 kB/s\r",
        "  2392064 of 30326502     7% in   19s   118.29 kB/s"
       ]
      },
      {
       "output_type": "stream",
       "stream": "stdout",
       "text": [
        "\r",
        "  2396160 of 30326502     7% in   19s   118.42 kB/s\r",
        "  2400256 of 30326502     7% in   19s   118.55 kB/s\r",
        "  2404352 of 30326502     7% in   19s   118.75 kB/s"
       ]
      },
      {
       "output_type": "stream",
       "stream": "stdout",
       "text": [
        "\r",
        "  2408448 of 30326502     7% in   19s   118.61 kB/s\r",
        "  2412544 of 30326502     7% in   19s   118.69 kB/s\r",
        "  2416640 of 30326502     7% in   19s   118.83 kB/s\r",
        "  2420736 of 30326502     7% in   19s   118.97 kB/s"
       ]
      },
      {
       "output_type": "stream",
       "stream": "stdout",
       "text": [
        "\r",
        "  2424832 of 30326502     7% in   19s   119.01 kB/s\r",
        "  2428928 of 30326502     8% in   19s   119.16 kB/s"
       ]
      },
      {
       "output_type": "stream",
       "stream": "stdout",
       "text": [
        "\r",
        "  2433024 of 30326502     8% in   19s   119.23 kB/s\r",
        "  2437120 of 30326502     8% in   19s   119.38 kB/s\r",
        "  2441216 of 30326502     8% in   19s   119.44 kB/s\r",
        "  2445312 of 30326502     8% in   19s   119.56 kB/s\r",
        "  2449408 of 30326502     8% in   19s   119.74 kB/s"
       ]
      },
      {
       "output_type": "stream",
       "stream": "stdout",
       "text": [
        "\r",
        "  2453504 of 30326502     8% in   19s   119.88 kB/s\r",
        "  2457600 of 30326502     8% in   19s   120.03 kB/s\r",
        "  2461696 of 30326502     8% in   20s   120.15 kB/s"
       ]
      },
      {
       "output_type": "stream",
       "stream": "stdout",
       "text": [
        "\r",
        "  2465792 of 30326502     8% in   20s   120.21 kB/s\r",
        "  2469888 of 30326502     8% in   20s   120.33 kB/s\r",
        "  2473984 of 30326502     8% in   20s   120.47 kB/s"
       ]
      },
      {
       "output_type": "stream",
       "stream": "stdout",
       "text": [
        "\r",
        "  2478080 of 30326502     8% in   20s   120.36 kB/s\r",
        "  2482176 of 30326502     8% in   20s   120.51 kB/s"
       ]
      },
      {
       "output_type": "stream",
       "stream": "stdout",
       "text": [
        "\r",
        "  2486272 of 30326502     8% in   20s   120.59 kB/s\r",
        "  2490368 of 30326502     8% in   20s   120.73 kB/s\r",
        "  2494464 of 30326502     8% in   20s   120.87 kB/s\r",
        "  2498560 of 30326502     8% in   20s   120.90 kB/s"
       ]
      },
      {
       "output_type": "stream",
       "stream": "stdout",
       "text": [
        "\r",
        "  2502656 of 30326502     8% in   20s   121.04 kB/s\r",
        "  2506752 of 30326502     8% in   20s   121.08 kB/s\r",
        "  2510848 of 30326502     8% in   20s   121.24 kB/s"
       ]
      },
      {
       "output_type": "stream",
       "stream": "stdout",
       "text": [
        "\r",
        "  2514944 of 30326502     8% in   20s   121.32 kB/s\r",
        "  2519040 of 30326502     8% in   20s   121.43 kB/s\r",
        "  2523136 of 30326502     8% in   20s   121.57 kB/s\r",
        "  2527232 of 30326502     8% in   20s   121.70 kB/s"
       ]
      },
      {
       "output_type": "stream",
       "stream": "stdout",
       "text": [
        "\r",
        "  2531328 of 30326502     8% in   20s   121.85 kB/s\r",
        "  2535424 of 30326502     8% in   20s   122.01 kB/s"
       ]
      },
      {
       "output_type": "stream",
       "stream": "stdout",
       "text": [
        "\r",
        "  2539520 of 30326502     8% in   20s   119.18 kB/s\r",
        "  2543616 of 30326502     8% in   20s   119.37 kB/s\r",
        "  2547712 of 30326502     8% in   20s   119.56 kB/s\r",
        "  2551808 of 30326502     8% in   20s   119.75 kB/s\r",
        "  2555904 of 30326502     8% in   20s   119.94 kB/s\r",
        "  2560000 of 30326502     8% in   20s   120.13 kB/s\r",
        "  2564096 of 30326502     8% in   20s   120.33 kB/s\r",
        "  2568192 of 30326502     8% in   20s   120.52 kB/s\r",
        "  2572288 of 30326502     8% in   20s   120.71 kB/s\r",
        "  2576384 of 30326502     8% in   20s   120.90 kB/s\r",
        "  2580480 of 30326502     8% in   20s   121.09 kB/s\r",
        "  2584576 of 30326502     8% in   20s   121.28 kB/s\r",
        "  2588672 of 30326502     8% in   20s   121.47 kB/s\r",
        "  2592768 of 30326502     8% in   20s   121.67 kB/s\r",
        "  2596864 of 30326502     8% in   20s   121.86 kB/s\r",
        "  2600960 of 30326502     8% in   20s   122.05 kB/s\r",
        "  2605056 of 30326502     8% in   20s   122.24 kB/s\r",
        "  2609152 of 30326502     8% in   20s   122.43 kB/s\r",
        "  2613248 of 30326502     8% in   20s   122.62 kB/s\r",
        "  2617344 of 30326502     8% in   20s   122.81 kB/s\r",
        "  2621440 of 30326502     8% in   20s   123.01 kB/s\r",
        "  2625536 of 30326502     8% in   20s   123.20 kB/s\r",
        "  2629632 of 30326502     8% in   20s   123.39 kB/s\r",
        "  2633728 of 30326502     8% in   20s   123.58 kB/s\r",
        "  2637824 of 30326502     8% in   20s   123.77 kB/s\r",
        "  2641920 of 30326502     8% in   20s   123.96 kB/s\r",
        "  2646016 of 30326502     8% in   20s   124.16 kB/s\r",
        "  2650112 of 30326502     8% in   20s   124.35 kB/s\r",
        "  2654208 of 30326502     8% in   20s   124.54 kB/s\r",
        "  2658304 of 30326502     8% in   20s   124.73 kB/s\r",
        "  2662400 of 30326502     8% in   20s   124.80 kB/s\r",
        "  2666496 of 30326502     8% in   20s   124.93 kB/s"
       ]
      },
      {
       "output_type": "stream",
       "stream": "stdout",
       "text": [
        "\r",
        "  2670592 of 30326502     8% in   20s   124.88 kB/s"
       ]
      },
      {
       "output_type": "stream",
       "stream": "stdout",
       "text": [
        "\r",
        "  2674688 of 30326502     8% in   20s   124.96 kB/s\r",
        "  2678784 of 30326502     8% in   20s   125.10 kB/s\r",
        "  2682880 of 30326502     8% in   20s   125.24 kB/s"
       ]
      },
      {
       "output_type": "stream",
       "stream": "stdout",
       "text": [
        "\r",
        "  2686976 of 30326502     8% in   20s   125.15 kB/s\r",
        "  2691072 of 30326502     8% in   20s   125.19 kB/s\r",
        "  2695168 of 30326502     8% in   20s   125.35 kB/s"
       ]
      },
      {
       "output_type": "stream",
       "stream": "stdout",
       "text": [
        "\r",
        "  2699264 of 30326502     8% in   21s   125.48 kB/s"
       ]
      },
      {
       "output_type": "stream",
       "stream": "stdout",
       "text": [
        "\r",
        "  2703360 of 30326502     8% in   21s   122.65 kB/s\r",
        "  2707456 of 30326502     8% in   21s   122.84 kB/s\r",
        "  2711552 of 30326502     8% in   21s   123.02 kB/s\r",
        "  2715648 of 30326502     8% in   21s   123.21 kB/s\r",
        "  2719744 of 30326502     8% in   21s   123.39 kB/s\r",
        "  2723840 of 30326502     8% in   21s   123.58 kB/s\r",
        "  2727936 of 30326502     8% in   21s   123.77 kB/s\r",
        "  2732032 of 30326502     9% in   21s   123.95 kB/s\r",
        "  2736128 of 30326502     9% in   21s   124.14 kB/s\r",
        "  2740224 of 30326502     9% in   21s   124.32 kB/s\r",
        "  2744320 of 30326502     9% in   21s   124.51 kB/s\r",
        "  2748416 of 30326502     9% in   21s   124.69 kB/s\r",
        "  2752512 of 30326502     9% in   21s   124.88 kB/s\r",
        "  2756608 of 30326502     9% in   21s   125.06 kB/s\r",
        "  2760704 of 30326502     9% in   21s   125.25 kB/s\r",
        "  2764800 of 30326502     9% in   21s   125.43 kB/s\r",
        "  2768896 of 30326502     9% in   21s   125.62 kB/s\r",
        "  2772992 of 30326502     9% in   21s   125.80 kB/s\r",
        "  2777088 of 30326502     9% in   21s   125.99 kB/s\r",
        "  2781184 of 30326502     9% in   21s   126.17 kB/s\r",
        "  2785280 of 30326502     9% in   21s   126.36 kB/s\r",
        "  2789376 of 30326502     9% in   21s   126.54 kB/s\r",
        "  2793472 of 30326502     9% in   21s   126.73 kB/s\r",
        "  2797568 of 30326502     9% in   21s   126.91 kB/s\r",
        "  2801664 of 30326502     9% in   21s   127.10 kB/s\r",
        "  2805760 of 30326502     9% in   21s   127.09 kB/s"
       ]
      },
      {
       "output_type": "stream",
       "stream": "stdout",
       "text": [
        "\r",
        "  2809856 of 30326502     9% in   21s   126.98 kB/s"
       ]
      },
      {
       "output_type": "stream",
       "stream": "stdout",
       "text": [
        "\r",
        "  2813952 of 30326502     9% in   21s   127.07 kB/s\r",
        "  2818048 of 30326502     9% in   21s   127.19 kB/s"
       ]
      },
      {
       "output_type": "stream",
       "stream": "stdout",
       "text": [
        "\r",
        "  2822144 of 30326502     9% in   21s   127.19 kB/s\r",
        "  2826240 of 30326502     9% in   21s   127.35 kB/s\r",
        "  2830336 of 30326502     9% in   21s   127.40 kB/s"
       ]
      },
      {
       "output_type": "stream",
       "stream": "stdout",
       "text": [
        "\r",
        "  2834432 of 30326502     9% in   21s   127.48 kB/s"
       ]
      },
      {
       "output_type": "stream",
       "stream": "stdout",
       "text": [
        "\r",
        "  2838528 of 30326502     9% in   22s   124.66 kB/s\r",
        "  2842624 of 30326502     9% in   22s   124.84 kB/s\r",
        "  2846720 of 30326502     9% in   22s   125.02 kB/s\r",
        "  2850816 of 30326502     9% in   22s   125.20 kB/s\r",
        "  2854912 of 30326502     9% in   22s   125.38 kB/s\r",
        "  2859008 of 30326502     9% in   22s   125.56 kB/s\r",
        "  2863104 of 30326502     9% in   22s   125.74 kB/s\r",
        "  2867200 of 30326502     9% in   22s   125.92 kB/s\r",
        "  2871296 of 30326502     9% in   22s   126.10 kB/s\r",
        "  2875392 of 30326502     9% in   22s   126.28 kB/s\r",
        "  2879488 of 30326502     9% in   22s   126.46 kB/s\r",
        "  2883584 of 30326502     9% in   22s   126.63 kB/s"
       ]
      },
      {
       "output_type": "stream",
       "stream": "stdout",
       "text": [
        "\r",
        "  2887680 of 30326502     9% in   22s   125.09 kB/s\r",
        "  2891776 of 30326502     9% in   22s   125.27 kB/s\r",
        "  2895872 of 30326502     9% in   22s   125.44 kB/s\r",
        "  2899968 of 30326502     9% in   22s   125.62 kB/s\r",
        "  2904064 of 30326502     9% in   22s   125.80 kB/s\r",
        "  2908160 of 30326502     9% in   22s   125.97 kB/s\r",
        "  2912256 of 30326502     9% in   22s   126.15 kB/s\r",
        "  2916352 of 30326502     9% in   22s   126.33 kB/s\r",
        "  2920448 of 30326502     9% in   22s   126.51 kB/s\r",
        "  2924544 of 30326502     9% in   22s   126.68 kB/s\r",
        "  2928640 of 30326502     9% in   22s   126.86 kB/s\r",
        "  2932736 of 30326502     9% in   22s   127.04 kB/s\r",
        "  2936832 of 30326502     9% in   22s   127.21 kB/s\r",
        "  2940928 of 30326502     9% in   22s   127.39 kB/s\r",
        "  2945024 of 30326502     9% in   22s   127.57 kB/s\r",
        "  2949120 of 30326502     9% in   22s   127.74 kB/s\r",
        "  2953216 of 30326502     9% in   22s   127.92 kB/s\r",
        "  2957312 of 30326502     9% in   22s   128.10 kB/s"
       ]
      },
      {
       "output_type": "stream",
       "stream": "stdout",
       "text": [
        "\r",
        "  2961408 of 30326502     9% in   22s   127.94 kB/s\r",
        "  2965504 of 30326502     9% in   22s   128.00 kB/s"
       ]
      },
      {
       "output_type": "stream",
       "stream": "stdout",
       "text": [
        "\r",
        "  2969600 of 30326502     9% in   22s   127.97 kB/s"
       ]
      },
      {
       "output_type": "stream",
       "stream": "stdout",
       "text": [
        "\r",
        "  2973696 of 30326502     9% in   22s   127.97 kB/s"
       ]
      },
      {
       "output_type": "stream",
       "stream": "stdout",
       "text": [
        "\r",
        "  2977792 of 30326502     9% in   22s   127.86 kB/s\r",
        "  2981888 of 30326502     9% in   22s   127.94 kB/s\r",
        "  2985984 of 30326502     9% in   22s   128.06 kB/s\r",
        "  2990080 of 30326502     9% in   22s   128.16 kB/s"
       ]
      },
      {
       "output_type": "stream",
       "stream": "stdout",
       "text": [
        "\r",
        "  2994176 of 30326502     9% in   22s   128.10 kB/s"
       ]
      },
      {
       "output_type": "stream",
       "stream": "stdout",
       "text": [
        "\r",
        "  2998272 of 30326502     9% in   22s   127.93 kB/s"
       ]
      },
      {
       "output_type": "stream",
       "stream": "stdout",
       "text": [
        "\r",
        "  3002368 of 30326502     9% in   22s   128.05 kB/s\r",
        "  3006464 of 30326502     9% in   22s   128.14 kB/s"
       ]
      },
      {
       "output_type": "stream",
       "stream": "stdout",
       "text": [
        "\r",
        "  3010560 of 30326502     9% in   22s   128.13 kB/s\r",
        "  3014656 of 30326502     9% in   22s   128.11 kB/s"
       ]
      },
      {
       "output_type": "stream",
       "stream": "stdout",
       "text": [
        "\r",
        "  3018752 of 30326502     9% in   23s   128.00 kB/s"
       ]
      },
      {
       "output_type": "stream",
       "stream": "stdout",
       "text": [
        "\r",
        "  3022848 of 30326502     9% in   23s   128.10 kB/s\r",
        "  3026944 of 30326502     9% in   23s   128.18 kB/s\r",
        "  3031040 of 30326502     9% in   23s   128.20 kB/s"
       ]
      },
      {
       "output_type": "stream",
       "stream": "stdout",
       "text": [
        "\r",
        "  3035136 of 30326502    10% in   23s   128.18 kB/s"
       ]
      },
      {
       "output_type": "stream",
       "stream": "stdout",
       "text": [
        "\r",
        "  3039232 of 30326502    10% in   23s   128.09 kB/s\r",
        "  3043328 of 30326502    10% in   23s   128.16 kB/s"
       ]
      },
      {
       "output_type": "stream",
       "stream": "stdout",
       "text": [
        "\r",
        "  3047424 of 30326502    10% in   23s   128.13 kB/s"
       ]
      },
      {
       "output_type": "stream",
       "stream": "stdout",
       "text": [
        "\r",
        "  3051520 of 30326502    10% in   23s   128.12 kB/s"
       ]
      },
      {
       "output_type": "stream",
       "stream": "stdout",
       "text": [
        "\r",
        "  3055616 of 30326502    10% in   23s   127.98 kB/s\r",
        "  3059712 of 30326502    10% in   23s   128.10 kB/s\r",
        "  3063808 of 30326502    10% in   23s   128.24 kB/s\r",
        "  3067904 of 30326502    10% in   23s   128.33 kB/s"
       ]
      },
      {
       "output_type": "stream",
       "stream": "stdout",
       "text": [
        "\r",
        "  3072000 of 30326502    10% in   23s   128.35 kB/s"
       ]
      },
      {
       "output_type": "stream",
       "stream": "stdout",
       "text": [
        "\r",
        "  3076096 of 30326502    10% in   23s   128.32 kB/s"
       ]
      },
      {
       "output_type": "stream",
       "stream": "stdout",
       "text": [
        "\r",
        "  3080192 of 30326502    10% in   23s   128.18 kB/s\r",
        "  3084288 of 30326502    10% in   23s   128.29 kB/s"
       ]
      },
      {
       "output_type": "stream",
       "stream": "stdout",
       "text": [
        "\r",
        "  3088384 of 30326502    10% in   23s   128.28 kB/s\r",
        "  3092480 of 30326502    10% in   23s   128.27 kB/s"
       ]
      },
      {
       "output_type": "stream",
       "stream": "stdout",
       "text": [
        "\r",
        "  3096576 of 30326502    10% in   23s   128.14 kB/s\r",
        "  3100672 of 30326502    10% in   23s   128.26 kB/s"
       ]
      },
      {
       "output_type": "stream",
       "stream": "stdout",
       "text": [
        "\r",
        "  3104768 of 30326502    10% in   23s   128.37 kB/s\r",
        "  3108864 of 30326502    10% in   23s   128.45 kB/s"
       ]
      },
      {
       "output_type": "stream",
       "stream": "stdout",
       "text": [
        "\r",
        "  3112960 of 30326502    10% in   23s   128.47 kB/s\r",
        "  3117056 of 30326502    10% in   23s   128.47 kB/s"
       ]
      },
      {
       "output_type": "stream",
       "stream": "stdout",
       "text": [
        "\r",
        "  3121152 of 30326502    10% in   23s   128.30 kB/s"
       ]
      },
      {
       "output_type": "stream",
       "stream": "stdout",
       "text": [
        "\r",
        "  3125248 of 30326502    10% in   23s   128.43 kB/s\r",
        "  3129344 of 30326502    10% in   23s   128.38 kB/s"
       ]
      },
      {
       "output_type": "stream",
       "stream": "stdout",
       "text": [
        "\r",
        "  3133440 of 30326502    10% in   23s   128.39 kB/s"
       ]
      },
      {
       "output_type": "stream",
       "stream": "stdout",
       "text": [
        "\r",
        "  3137536 of 30326502    10% in   23s   128.27 kB/s\r",
        "  3141632 of 30326502    10% in   23s   128.39 kB/s\r",
        "  3145728 of 30326502    10% in   23s   128.50 kB/s"
       ]
      },
      {
       "output_type": "stream",
       "stream": "stdout",
       "text": [
        "\r",
        "  3149824 of 30326502    10% in   23s   128.59 kB/s\r",
        "  3153920 of 30326502    10% in   23s   128.60 kB/s"
       ]
      },
      {
       "output_type": "stream",
       "stream": "stdout",
       "text": [
        "\r",
        "  3158016 of 30326502    10% in   23s   128.59 kB/s"
       ]
      },
      {
       "output_type": "stream",
       "stream": "stdout",
       "text": [
        "\r",
        "  3162112 of 30326502    10% in   24s   128.40 kB/s\r",
        "  3166208 of 30326502    10% in   24s   128.54 kB/s"
       ]
      },
      {
       "output_type": "stream",
       "stream": "stdout",
       "text": [
        "\r",
        "  3170304 of 30326502    10% in   24s   128.53 kB/s\r",
        "  3174400 of 30326502    10% in   24s   128.55 kB/s"
       ]
      },
      {
       "output_type": "stream",
       "stream": "stdout",
       "text": [
        "\r",
        "  3178496 of 30326502    10% in   24s   128.44 kB/s"
       ]
      },
      {
       "output_type": "stream",
       "stream": "stdout",
       "text": [
        "\r",
        "  3182592 of 30326502    10% in   24s   128.53 kB/s\r",
        "  3186688 of 30326502    10% in   24s   128.47 kB/s"
       ]
      },
      {
       "output_type": "stream",
       "stream": "stdout",
       "text": [
        "\r",
        "  3190784 of 30326502    10% in   24s   128.63 kB/s\r",
        "  3194880 of 30326502    10% in   24s   128.75 kB/s\r",
        "  3198976 of 30326502    10% in   24s   128.69 kB/s"
       ]
      },
      {
       "output_type": "stream",
       "stream": "stdout",
       "text": [
        "\r",
        "  3203072 of 30326502    10% in   24s   128.54 kB/s\r",
        "  3207168 of 30326502    10% in   24s   128.64 kB/s\r",
        "  3211264 of 30326502    10% in   24s   128.68 kB/s"
       ]
      },
      {
       "output_type": "stream",
       "stream": "stdout",
       "text": [
        "\r",
        "  3215360 of 30326502    10% in   24s   128.69 kB/s\r",
        "  3219456 of 30326502    10% in   24s   128.81 kB/s"
       ]
      },
      {
       "output_type": "stream",
       "stream": "stdout",
       "text": [
        "\r",
        "  3223552 of 30326502    10% in   24s   128.69 kB/s"
       ]
      },
      {
       "output_type": "stream",
       "stream": "stdout",
       "text": [
        "\r",
        "  3227648 of 30326502    10% in   24s   128.56 kB/s\r",
        "  3231744 of 30326502    10% in   24s   128.69 kB/s"
       ]
      },
      {
       "output_type": "stream",
       "stream": "stdout",
       "text": [
        "\r",
        "  3235840 of 30326502    10% in   24s   128.79 kB/s\r",
        "  3239936 of 30326502    10% in   24s   128.84 kB/s"
       ]
      },
      {
       "output_type": "stream",
       "stream": "stdout",
       "text": [
        "\r",
        "  3244032 of 30326502    10% in   24s   128.67 kB/s\r",
        "  3248128 of 30326502    10% in   24s   128.79 kB/s"
       ]
      },
      {
       "output_type": "stream",
       "stream": "stdout",
       "text": [
        "\r",
        "  3252224 of 30326502    10% in   24s   128.83 kB/s"
       ]
      },
      {
       "output_type": "stream",
       "stream": "stdout",
       "text": [
        "\r",
        "  3256320 of 30326502    10% in   24s   128.81 kB/s"
       ]
      },
      {
       "output_type": "stream",
       "stream": "stdout",
       "text": [
        "\r",
        "  3260416 of 30326502    10% in   24s   128.66 kB/s"
       ]
      },
      {
       "output_type": "stream",
       "stream": "stdout",
       "text": [
        "\r",
        "  3264512 of 30326502    10% in   24s   128.59 kB/s\r",
        "  3268608 of 30326502    10% in   24s   128.69 kB/s\r",
        "  3272704 of 30326502    10% in   24s   128.73 kB/s\r",
        "  3276800 of 30326502    10% in   24s   128.89 kB/s\r",
        "  3280896 of 30326502    10% in   24s   129.01 kB/s"
       ]
      },
      {
       "output_type": "stream",
       "stream": "stdout",
       "text": [
        "\r",
        "  3284992 of 30326502    10% in   24s   128.81 kB/s\r",
        "  3289088 of 30326502    10% in   24s   128.92 kB/s\r",
        "  3293184 of 30326502    10% in   24s   128.96 kB/s"
       ]
      },
      {
       "output_type": "stream",
       "stream": "stdout",
       "text": [
        "\r",
        "  3297280 of 30326502    10% in   24s   128.94 kB/s"
       ]
      },
      {
       "output_type": "stream",
       "stream": "stdout",
       "text": [
        "\r",
        "  3301376 of 30326502    10% in   25s   128.80 kB/s"
       ]
      },
      {
       "output_type": "stream",
       "stream": "stdout",
       "text": [
        "\r",
        "  3305472 of 30326502    10% in   25s   126.37 kB/s\r",
        "  3309568 of 30326502    10% in   25s   126.52 kB/s\r",
        "  3313664 of 30326502    10% in   25s   126.68 kB/s\r",
        "  3317760 of 30326502    10% in   25s   126.84 kB/s\r",
        "  3321856 of 30326502    10% in   25s   126.99 kB/s\r",
        "  3325952 of 30326502    10% in   25s   127.15 kB/s\r",
        "  3330048 of 30326502    10% in   25s   127.30 kB/s\r",
        "  3334144 of 30326502    10% in   25s   127.45 kB/s\r",
        "  3338240 of 30326502    11% in   25s   127.61 kB/s\r",
        "  3342336 of 30326502    11% in   25s   127.77 kB/s\r",
        "  3346432 of 30326502    11% in   25s   127.92 kB/s\r",
        "  3350528 of 30326502    11% in   25s   128.08 kB/s\r",
        "  3354624 of 30326502    11% in   25s   128.23 kB/s\r",
        "  3358720 of 30326502    11% in   25s   128.39 kB/s\r",
        "  3362816 of 30326502    11% in   25s   128.55 kB/s\r",
        "  3366912 of 30326502    11% in   25s   128.70 kB/s\r",
        "  3371008 of 30326502    11% in   25s   128.86 kB/s\r",
        "  3375104 of 30326502    11% in   25s   129.01 kB/s\r",
        "  3379200 of 30326502    11% in   25s   129.17 kB/s"
       ]
      },
      {
       "output_type": "stream",
       "stream": "stdout",
       "text": [
        "\r",
        "  3383296 of 30326502    11% in   25s   129.08 kB/s"
       ]
      },
      {
       "output_type": "stream",
       "stream": "stdout",
       "text": [
        "\r",
        "  3387392 of 30326502    11% in   25s   128.91 kB/s\r",
        "  3391488 of 30326502    11% in   25s   128.88 kB/s"
       ]
      },
      {
       "output_type": "stream",
       "stream": "stdout",
       "text": [
        "\r",
        "  3395584 of 30326502    11% in   25s   128.98 kB/s\r",
        "  3399680 of 30326502    11% in   25s   128.91 kB/s"
       ]
      },
      {
       "output_type": "stream",
       "stream": "stdout",
       "text": [
        "\r",
        "  3403776 of 30326502    11% in   25s   129.02 kB/s\r",
        "  3407872 of 30326502    11% in   25s   129.07 kB/s"
       ]
      },
      {
       "output_type": "stream",
       "stream": "stdout",
       "text": [
        "\r",
        "  3411968 of 30326502    11% in   25s   129.07 kB/s"
       ]
      },
      {
       "output_type": "stream",
       "stream": "stdout",
       "text": [
        "\r",
        "  3416064 of 30326502    11% in   25s   128.91 kB/s"
       ]
      },
      {
       "output_type": "stream",
       "stream": "stdout",
       "text": [
        "\r",
        "  3420160 of 30326502    11% in   25s   128.74 kB/s"
       ]
      },
      {
       "output_type": "stream",
       "stream": "stdout",
       "text": [
        "\r",
        "  3424256 of 30326502    11% in   25s   128.70 kB/s\r",
        "  3428352 of 30326502    11% in   25s   128.81 kB/s\r",
        "  3432448 of 30326502    11% in   25s   128.94 kB/s"
       ]
      },
      {
       "output_type": "stream",
       "stream": "stdout",
       "text": [
        "\r",
        "  3436544 of 30326502    11% in   26s   128.85 kB/s\r",
        "  3440640 of 30326502    11% in   26s   128.94 kB/s"
       ]
      },
      {
       "output_type": "stream",
       "stream": "stdout",
       "text": [
        "\r",
        "  3444736 of 30326502    11% in   26s   129.02 kB/s\r",
        "  3448832 of 30326502    11% in   26s   129.00 kB/s"
       ]
      },
      {
       "output_type": "stream",
       "stream": "stdout",
       "text": [
        "\r",
        "  3452928 of 30326502    11% in   26s   128.63 kB/s"
       ]
      },
      {
       "output_type": "stream",
       "stream": "stdout",
       "text": [
        "\r",
        "  3457024 of 30326502    11% in   26s   128.56 kB/s"
       ]
      },
      {
       "output_type": "stream",
       "stream": "stdout",
       "text": [
        "\r",
        "  3461120 of 30326502    11% in   26s   128.66 kB/s\r",
        "  3465216 of 30326502    11% in   26s   128.76 kB/s"
       ]
      },
      {
       "output_type": "stream",
       "stream": "stdout",
       "text": [
        "\r",
        "  3469312 of 30326502    11% in   26s   128.66 kB/s\r",
        "  3473408 of 30326502    11% in   26s   128.78 kB/s\r",
        "  3477504 of 30326502    11% in   26s   128.84 kB/s"
       ]
      },
      {
       "output_type": "stream",
       "stream": "stdout",
       "text": [
        "\r",
        "  3481600 of 30326502    11% in   26s   128.83 kB/s"
       ]
      },
      {
       "output_type": "stream",
       "stream": "stdout",
       "text": [
        "\r",
        "  3485696 of 30326502    11% in   26s   128.71 kB/s"
       ]
      },
      {
       "output_type": "stream",
       "stream": "stdout",
       "text": [
        "\r",
        "  3489792 of 30326502    11% in   26s   128.54 kB/s"
       ]
      },
      {
       "output_type": "stream",
       "stream": "stdout",
       "text": [
        "\r",
        "  3493888 of 30326502    11% in   26s   128.51 kB/s\r",
        "  3497984 of 30326502    11% in   26s   128.61 kB/s"
       ]
      },
      {
       "output_type": "stream",
       "stream": "stdout",
       "text": [
        "\r",
        "  3502080 of 30326502    11% in   26s   128.54 kB/s"
       ]
      },
      {
       "output_type": "stream",
       "stream": "stdout",
       "text": [
        "\r",
        "  3506176 of 30326502    11% in   26s   128.58 kB/s\r",
        "  3510272 of 30326502    11% in   26s   128.68 kB/s\r",
        "  3514368 of 30326502    11% in   26s   128.69 kB/s"
       ]
      },
      {
       "output_type": "stream",
       "stream": "stdout",
       "text": [
        "\r",
        "  3518464 of 30326502    11% in   26s   128.54 kB/s"
       ]
      },
      {
       "output_type": "stream",
       "stream": "stdout",
       "text": [
        "\r",
        "  3522560 of 30326502    11% in   26s   128.37 kB/s\r",
        "  3526656 of 30326502    11% in   26s   128.35 kB/s"
       ]
      },
      {
       "output_type": "stream",
       "stream": "stdout",
       "text": [
        "\r",
        "  3530752 of 30326502    11% in   26s   128.45 kB/s"
       ]
      },
      {
       "output_type": "stream",
       "stream": "stdout",
       "text": [
        "\r",
        "  3534848 of 30326502    11% in   26s   128.34 kB/s\r",
        "  3538944 of 30326502    11% in   26s   128.45 kB/s\r",
        "  3543040 of 30326502    11% in   26s   128.52 kB/s\r",
        "  3547136 of 30326502    11% in   26s   128.63 kB/s"
       ]
      },
      {
       "output_type": "stream",
       "stream": "stdout",
       "text": [
        "\r",
        "  3551232 of 30326502    11% in   26s   128.65 kB/s"
       ]
      },
      {
       "output_type": "stream",
       "stream": "stdout",
       "text": [
        "\r",
        "  3555328 of 30326502    11% in   27s   128.30 kB/s"
       ]
      },
      {
       "output_type": "stream",
       "stream": "stdout",
       "text": [
        "\r",
        "  3559424 of 30326502    11% in   27s   128.24 kB/s\r",
        "  3563520 of 30326502    11% in   27s   128.34 kB/s"
       ]
      },
      {
       "output_type": "stream",
       "stream": "stdout",
       "text": [
        "\r",
        "  3567616 of 30326502    11% in   27s   128.23 kB/s\r",
        "  3571712 of 30326502    11% in   27s   128.34 kB/s"
       ]
      },
      {
       "output_type": "stream",
       "stream": "stdout",
       "text": [
        "\r",
        "  3575808 of 30326502    11% in   27s   128.39 kB/s\r",
        "  3579904 of 30326502    11% in   27s   128.49 kB/s\r",
        "  3584000 of 30326502    11% in   27s   128.48 kB/s"
       ]
      },
      {
       "output_type": "stream",
       "stream": "stdout",
       "text": [
        "\r",
        "  3588096 of 30326502    11% in   27s   128.54 kB/s"
       ]
      },
      {
       "output_type": "stream",
       "stream": "stdout",
       "text": [
        "\r",
        "  3592192 of 30326502    11% in   27s   128.29 kB/s"
       ]
      },
      {
       "output_type": "stream",
       "stream": "stdout",
       "text": [
        "\r",
        "  3596288 of 30326502    11% in   27s   128.19 kB/s"
       ]
      },
      {
       "output_type": "stream",
       "stream": "stdout",
       "text": [
        "\r",
        "  3600384 of 30326502    11% in   27s   128.30 kB/s"
       ]
      },
      {
       "output_type": "stream",
       "stream": "stdout",
       "text": [
        "\r",
        "  3604480 of 30326502    11% in   27s   128.11 kB/s"
       ]
      },
      {
       "output_type": "stream",
       "stream": "stdout",
       "text": [
        "\r",
        "  3608576 of 30326502    11% in   27s   125.97 kB/s\r",
        "  3612672 of 30326502    11% in   27s   126.11 kB/s\r",
        "  3616768 of 30326502    11% in   27s   126.25 kB/s\r",
        "  3620864 of 30326502    11% in   27s   126.39 kB/s\r",
        "  3624960 of 30326502    11% in   27s   126.53 kB/s\r",
        "  3629056 of 30326502    11% in   27s   126.68 kB/s\r",
        "  3633152 of 30326502    11% in   27s   126.82 kB/s\r",
        "  3637248 of 30326502    11% in   27s   126.96 kB/s\r",
        "  3641344 of 30326502    12% in   27s   127.10 kB/s\r",
        "  3645440 of 30326502    12% in   27s   127.25 kB/s\r",
        "  3649536 of 30326502    12% in   27s   127.39 kB/s\r",
        "  3653632 of 30326502    12% in   27s   127.53 kB/s\r",
        "  3657728 of 30326502    12% in   27s   127.67 kB/s\r",
        "  3661824 of 30326502    12% in   27s   127.82 kB/s\r",
        "  3665920 of 30326502    12% in   27s   127.96 kB/s"
       ]
      },
      {
       "output_type": "stream",
       "stream": "stdout",
       "text": [
        "\r",
        "  3670016 of 30326502    12% in   28s   127.66 kB/s\r",
        "  3674112 of 30326502    12% in   28s   127.71 kB/s\r",
        "  3678208 of 30326502    12% in   28s   127.81 kB/s\r",
        "  3682304 of 30326502    12% in   28s   127.91 kB/s"
       ]
      },
      {
       "output_type": "stream",
       "stream": "stdout",
       "text": [
        "\r",
        "  3686400 of 30326502    12% in   28s   127.88 kB/s"
       ]
      },
      {
       "output_type": "stream",
       "stream": "stdout",
       "text": [
        "\r",
        "  3690496 of 30326502    12% in   28s   127.58 kB/s\r",
        "  3694592 of 30326502    12% in   28s   127.69 kB/s"
       ]
      },
      {
       "output_type": "stream",
       "stream": "stdout",
       "text": [
        "\r",
        "  3698688 of 30326502    12% in   28s   127.37 kB/s"
       ]
      },
      {
       "output_type": "stream",
       "stream": "stdout",
       "text": [
        "\r",
        "  3702784 of 30326502    12% in   28s   127.41 kB/s\r",
        "  3706880 of 30326502    12% in   28s   127.51 kB/s"
       ]
      },
      {
       "output_type": "stream",
       "stream": "stdout",
       "text": [
        "\r",
        "  3710976 of 30326502    12% in   28s   127.48 kB/s"
       ]
      },
      {
       "output_type": "stream",
       "stream": "stdout",
       "text": [
        "\r",
        "  3715072 of 30326502    12% in   28s   127.20 kB/s"
       ]
      },
      {
       "output_type": "stream",
       "stream": "stdout",
       "text": [
        "\r",
        "  3719168 of 30326502    12% in   28s   127.28 kB/s\r",
        "  3723264 of 30326502    12% in   28s   127.40 kB/s"
       ]
      },
      {
       "output_type": "stream",
       "stream": "stdout",
       "text": [
        "\r",
        "  3727360 of 30326502    12% in   28s   127.07 kB/s\r",
        "  3731456 of 30326502    12% in   28s   127.13 kB/s\r",
        "  3735552 of 30326502    12% in   28s   127.21 kB/s"
       ]
      },
      {
       "output_type": "stream",
       "stream": "stdout",
       "text": [
        "\r",
        "  3739648 of 30326502    12% in   28s   127.19 kB/s"
       ]
      },
      {
       "output_type": "stream",
       "stream": "stdout",
       "text": [
        "\r",
        "  3743744 of 30326502    12% in   28s   126.91 kB/s\r",
        "  3747840 of 30326502    12% in   28s   126.99 kB/s"
       ]
      },
      {
       "output_type": "stream",
       "stream": "stdout",
       "text": [
        "\r",
        "  3751936 of 30326502    12% in   28s   126.68 kB/s\r",
        "  3756032 of 30326502    12% in   28s   126.77 kB/s"
       ]
      },
      {
       "output_type": "stream",
       "stream": "stdout",
       "text": [
        "\r",
        "  3760128 of 30326502    12% in   28s   126.84 kB/s\r",
        "  3764224 of 30326502    12% in   28s   126.92 kB/s"
       ]
      },
      {
       "output_type": "stream",
       "stream": "stdout",
       "text": [
        "\r",
        "  3768320 of 30326502    12% in   28s   126.90 kB/s"
       ]
      },
      {
       "output_type": "stream",
       "stream": "stdout",
       "text": [
        "\r",
        "  3772416 of 30326502    12% in   29s   126.66 kB/s"
       ]
      },
      {
       "output_type": "stream",
       "stream": "stdout",
       "text": [
        "\r",
        "  3776512 of 30326502    12% in   29s   126.71 kB/s"
       ]
      },
      {
       "output_type": "stream",
       "stream": "stdout",
       "text": [
        "\r",
        "  3780608 of 30326502    12% in   29s   126.41 kB/s\r",
        "  3784704 of 30326502    12% in   29s   126.48 kB/s\r",
        "  3788800 of 30326502    12% in   29s   126.56 kB/s"
       ]
      },
      {
       "output_type": "stream",
       "stream": "stdout",
       "text": [
        "\r",
        "  3792896 of 30326502    12% in   29s   126.63 kB/s\r",
        "  3796992 of 30326502    12% in   29s   126.61 kB/s"
       ]
      },
      {
       "output_type": "stream",
       "stream": "stdout",
       "text": [
        "\r",
        "  3801088 of 30326502    12% in   29s   126.36 kB/s\r",
        "  3805184 of 30326502    12% in   29s   126.43 kB/s"
       ]
      },
      {
       "output_type": "stream",
       "stream": "stdout",
       "text": [
        "\r",
        "  3809280 of 30326502    12% in   29s   126.16 kB/s"
       ]
      },
      {
       "output_type": "stream",
       "stream": "stdout",
       "text": [
        "\r",
        "  3813376 of 30326502    12% in   29s   126.24 kB/s\r",
        "  3817472 of 30326502    12% in   29s   126.30 kB/s\r",
        "  3821568 of 30326502    12% in   29s   126.35 kB/s"
       ]
      },
      {
       "output_type": "stream",
       "stream": "stdout",
       "text": [
        "\r",
        "  3825664 of 30326502    12% in   29s   126.38 kB/s"
       ]
      },
      {
       "output_type": "stream",
       "stream": "stdout",
       "text": [
        "\r",
        "  3829760 of 30326502    12% in   29s   126.08 kB/s\r",
        "  3833856 of 30326502    12% in   29s   126.17 kB/s"
       ]
      },
      {
       "output_type": "stream",
       "stream": "stdout",
       "text": [
        "\r",
        "  3837952 of 30326502    12% in   29s   125.90 kB/s\r",
        "  3842048 of 30326502    12% in   29s   125.97 kB/s\r",
        "  3846144 of 30326502    12% in   29s   126.06 kB/s"
       ]
      },
      {
       "output_type": "stream",
       "stream": "stdout",
       "text": [
        "\r",
        "  3850240 of 30326502    12% in   29s   126.11 kB/s\r",
        "  3854336 of 30326502    12% in   29s   126.21 kB/s\r",
        "  3858432 of 30326502    12% in   29s   126.21 kB/s"
       ]
      },
      {
       "output_type": "stream",
       "stream": "stdout",
       "text": [
        "\r",
        "  3862528 of 30326502    12% in   29s   125.93 kB/s"
       ]
      },
      {
       "output_type": "stream",
       "stream": "stdout",
       "text": [
        "\r",
        "  3866624 of 30326502    12% in   29s   126.02 kB/s"
       ]
      },
      {
       "output_type": "stream",
       "stream": "stdout",
       "text": [
        "\r",
        "  3870720 of 30326502    12% in   30s   125.75 kB/s"
       ]
      },
      {
       "output_type": "stream",
       "stream": "stdout",
       "text": [
        "\r",
        "  3874816 of 30326502    12% in   30s   125.80 kB/s\r",
        "  3878912 of 30326502    12% in   30s   125.90 kB/s\r",
        "  3883008 of 30326502    12% in   30s   125.96 kB/s"
       ]
      },
      {
       "output_type": "stream",
       "stream": "stdout",
       "text": [
        "\r",
        "  3887104 of 30326502    12% in   30s   125.96 kB/s"
       ]
      },
      {
       "output_type": "stream",
       "stream": "stdout",
       "text": [
        "\r",
        "  3891200 of 30326502    12% in   30s   125.68 kB/s\r",
        "  3895296 of 30326502    12% in   30s   125.74 kB/s"
       ]
      },
      {
       "output_type": "stream",
       "stream": "stdout",
       "text": [
        "\r",
        "  3899392 of 30326502    12% in   30s   125.50 kB/s\r",
        "  3903488 of 30326502    12% in   30s   125.57 kB/s\r",
        "  3907584 of 30326502    12% in   30s   125.66 kB/s"
       ]
      },
      {
       "output_type": "stream",
       "stream": "stdout",
       "text": [
        "\r",
        "  3911680 of 30326502    12% in   30s   125.74 kB/s\r",
        "  3915776 of 30326502    12% in   30s   125.72 kB/s"
       ]
      },
      {
       "output_type": "stream",
       "stream": "stdout",
       "text": [
        "\r",
        "  3919872 of 30326502    12% in   30s   125.44 kB/s"
       ]
      },
      {
       "output_type": "stream",
       "stream": "stdout",
       "text": [
        "\r",
        "  3923968 of 30326502    12% in   30s   125.51 kB/s"
       ]
      },
      {
       "output_type": "stream",
       "stream": "stdout",
       "text": [
        "\r",
        "  3928064 of 30326502    12% in   30s   125.29 kB/s\r",
        "  3932160 of 30326502    12% in   30s   125.38 kB/s"
       ]
      },
      {
       "output_type": "stream",
       "stream": "stdout",
       "text": [
        "\r",
        "  3936256 of 30326502    12% in   30s   125.44 kB/s\r",
        "  3940352 of 30326502    12% in   30s   125.52 kB/s\r",
        "  3944448 of 30326502    13% in   30s   125.57 kB/s"
       ]
      },
      {
       "output_type": "stream",
       "stream": "stdout",
       "text": [
        "\r",
        "  3948544 of 30326502    13% in   30s   125.59 kB/s"
       ]
      },
      {
       "output_type": "stream",
       "stream": "stdout",
       "text": [
        "\r",
        "  3952640 of 30326502    13% in   30s   125.31 kB/s\r",
        "  3956736 of 30326502    13% in   30s   125.39 kB/s"
       ]
      },
      {
       "output_type": "stream",
       "stream": "stdout",
       "text": [
        "\r",
        "  3960832 of 30326502    13% in   30s   125.18 kB/s\r",
        "  3964928 of 30326502    13% in   30s   125.24 kB/s\r",
        "  3969024 of 30326502    13% in   30s   125.31 kB/s"
       ]
      },
      {
       "output_type": "stream",
       "stream": "stdout",
       "text": [
        "\r",
        "  3973120 of 30326502    13% in   30s   125.39 kB/s"
       ]
      },
      {
       "output_type": "stream",
       "stream": "stdout",
       "text": [
        "\r",
        "  3977216 of 30326502    13% in   30s   125.33 kB/s"
       ]
      },
      {
       "output_type": "stream",
       "stream": "stdout",
       "text": [
        "\r",
        "  3981312 of 30326502    13% in   31s   124.92 kB/s\r",
        "  3985408 of 30326502    13% in   31s   125.01 kB/s"
       ]
      },
      {
       "output_type": "stream",
       "stream": "stdout",
       "text": [
        "\r",
        "  3989504 of 30326502    13% in   31s   125.11 kB/s"
       ]
      },
      {
       "output_type": "stream",
       "stream": "stdout",
       "text": [
        "\r",
        "  3993600 of 30326502    13% in   31s   125.03 kB/s\r",
        "  3997696 of 30326502    13% in   31s   125.08 kB/s\r",
        "  4001792 of 30326502    13% in   31s   125.16 kB/s"
       ]
      },
      {
       "output_type": "stream",
       "stream": "stdout",
       "text": [
        "\r",
        "  4005888 of 30326502    13% in   31s   125.18 kB/s"
       ]
      },
      {
       "output_type": "stream",
       "stream": "stdout",
       "text": [
        "\r",
        "  4009984 of 30326502    13% in   31s   125.12 kB/s"
       ]
      },
      {
       "output_type": "stream",
       "stream": "stdout",
       "text": [
        "\r",
        "  4014080 of 30326502    13% in   31s   124.82 kB/s"
       ]
      },
      {
       "output_type": "stream",
       "stream": "stdout",
       "text": [
        "\r",
        "  4018176 of 30326502    13% in   31s   122.72 kB/s\r",
        "  4022272 of 30326502    13% in   31s   122.85 kB/s\r",
        "  4026368 of 30326502    13% in   31s   122.97 kB/s\r",
        "  4030464 of 30326502    13% in   31s   123.10 kB/s\r",
        "  4034560 of 30326502    13% in   31s   123.22 kB/s\r",
        "  4038656 of 30326502    13% in   31s   123.34 kB/s\r",
        "  4042752 of 30326502    13% in   31s   123.47 kB/s\r",
        "  4046848 of 30326502    13% in   31s   123.59 kB/s\r",
        "  4050944 of 30326502    13% in   31s   123.72 kB/s\r",
        "  4055040 of 30326502    13% in   31s   123.84 kB/s"
       ]
      },
      {
       "output_type": "stream",
       "stream": "stdout",
       "text": [
        "\r",
        "  4059136 of 30326502    13% in   32s   122.81 kB/s"
       ]
      },
      {
       "output_type": "stream",
       "stream": "stdout",
       "text": [
        "\r",
        "  4063232 of 30326502    13% in   32s   121.87 kB/s\r",
        "  4067328 of 30326502    13% in   32s   121.99 kB/s\r",
        "  4071424 of 30326502    13% in   32s   122.08 kB/s"
       ]
      },
      {
       "output_type": "stream",
       "stream": "stdout",
       "text": [
        "\r",
        "  4075520 of 30326502    13% in   32s   121.93 kB/s\r",
        "  4079616 of 30326502    13% in   32s   122.05 kB/s\r",
        "  4083712 of 30326502    13% in   32s   122.18 kB/s\r",
        "  4087808 of 30326502    13% in   32s   122.30 kB/s\r",
        "  4091904 of 30326502    13% in   32s   122.42 kB/s\r",
        "  4096000 of 30326502    13% in   32s   122.54 kB/s\r",
        "  4100096 of 30326502    13% in   32s   122.66 kB/s\r",
        "  4104192 of 30326502    13% in   32s   122.79 kB/s\r",
        "  4108288 of 30326502    13% in   32s   122.91 kB/s\r",
        "  4112384 of 30326502    13% in   32s   123.00 kB/s"
       ]
      },
      {
       "output_type": "stream",
       "stream": "stdout",
       "text": [
        "\r",
        "  4116480 of 30326502    13% in   32s   123.01 kB/s"
       ]
      },
      {
       "output_type": "stream",
       "stream": "stdout",
       "text": [
        "\r",
        "  4120576 of 30326502    13% in   32s   122.57 kB/s"
       ]
      },
      {
       "output_type": "stream",
       "stream": "stdout",
       "text": [
        "\r",
        "  4124672 of 30326502    13% in   32s   122.47 kB/s"
       ]
      },
      {
       "output_type": "stream",
       "stream": "stdout",
       "text": [
        "\r",
        "  4128768 of 30326502    13% in   32s   122.44 kB/s\r",
        "  4132864 of 30326502    13% in   32s   122.52 kB/s"
       ]
      },
      {
       "output_type": "stream",
       "stream": "stdout",
       "text": [
        "\r",
        "  4136960 of 30326502    13% in   33s   122.39 kB/s\r",
        "  4141056 of 30326502    13% in   33s   122.48 kB/s"
       ]
      },
      {
       "output_type": "stream",
       "stream": "stdout",
       "text": [
        "\r",
        "  4145152 of 30326502    13% in   33s   122.21 kB/s"
       ]
      },
      {
       "output_type": "stream",
       "stream": "stdout",
       "text": [
        "\r",
        "  4149248 of 30326502    13% in   33s   122.28 kB/s"
       ]
      },
      {
       "output_type": "stream",
       "stream": "stdout",
       "text": [
        "\r",
        "  4153344 of 30326502    13% in   33s   122.12 kB/s\r",
        "  4157440 of 30326502    13% in   33s   122.21 kB/s\r",
        "  4161536 of 30326502    13% in   33s   122.30 kB/s"
       ]
      },
      {
       "output_type": "stream",
       "stream": "stdout",
       "text": [
        "\r",
        "  4165632 of 30326502    13% in   33s   122.16 kB/s\r",
        "  4169728 of 30326502    13% in   33s   122.26 kB/s"
       ]
      },
      {
       "output_type": "stream",
       "stream": "stdout",
       "text": [
        "\r",
        "  4173824 of 30326502    13% in   33s   121.99 kB/s"
       ]
      },
      {
       "output_type": "stream",
       "stream": "stdout",
       "text": [
        "\r",
        "  4177920 of 30326502    13% in   33s   121.83 kB/s"
       ]
      },
      {
       "output_type": "stream",
       "stream": "stdout",
       "text": [
        "\r",
        "  4182016 of 30326502    13% in   33s   121.91 kB/s\r",
        "  4186112 of 30326502    13% in   33s   122.00 kB/s"
       ]
      },
      {
       "output_type": "stream",
       "stream": "stdout",
       "text": [
        "\r",
        "  4190208 of 30326502    13% in   33s   121.86 kB/s\r",
        "  4194304 of 30326502    13% in   33s   121.95 kB/s"
       ]
      },
      {
       "output_type": "stream",
       "stream": "stdout",
       "text": [
        "\r",
        "  4198400 of 30326502    13% in   33s   122.04 kB/s"
       ]
      },
      {
       "output_type": "stream",
       "stream": "stdout",
       "text": [
        "\r",
        "  4202496 of 30326502    13% in   33s   121.77 kB/s"
       ]
      },
      {
       "output_type": "stream",
       "stream": "stdout",
       "text": [
        "\r",
        "  4206592 of 30326502    13% in   33s   121.62 kB/s\r",
        "  4210688 of 30326502    13% in   33s   121.70 kB/s\r",
        "  4214784 of 30326502    13% in   33s   121.78 kB/s"
       ]
      },
      {
       "output_type": "stream",
       "stream": "stdout",
       "text": [
        "\r",
        "  4218880 of 30326502    13% in   33s   121.65 kB/s\r",
        "  4222976 of 30326502    13% in   33s   121.74 kB/s"
       ]
      },
      {
       "output_type": "stream",
       "stream": "stdout",
       "text": [
        "\r",
        "  4227072 of 30326502    13% in   33s   121.48 kB/s"
       ]
      },
      {
       "output_type": "stream",
       "stream": "stdout",
       "text": [
        "\r",
        "  4231168 of 30326502    13% in   34s   121.32 kB/s\r",
        "  4235264 of 30326502    13% in   34s   121.40 kB/s\r",
        "  4239360 of 30326502    13% in   34s   121.49 kB/s\r",
        "  4243456 of 30326502    13% in   34s   121.57 kB/s"
       ]
      },
      {
       "output_type": "stream",
       "stream": "stdout",
       "text": [
        "\r",
        "  4247552 of 30326502    14% in   34s   121.45 kB/s"
       ]
      },
      {
       "output_type": "stream",
       "stream": "stdout",
       "text": [
        "\r",
        "  4251648 of 30326502    14% in   34s   121.53 kB/s"
       ]
      },
      {
       "output_type": "stream",
       "stream": "stdout",
       "text": [
        "\r",
        "  4255744 of 30326502    14% in   34s   121.28 kB/s"
       ]
      },
      {
       "output_type": "stream",
       "stream": "stdout",
       "text": [
        "\r",
        "  4259840 of 30326502    14% in   34s   121.14 kB/s\r",
        "  4263936 of 30326502    14% in   34s   121.21 kB/s"
       ]
      },
      {
       "output_type": "stream",
       "stream": "stdout",
       "text": [
        "\r",
        "  4268032 of 30326502    14% in   34s   121.28 kB/s"
       ]
      },
      {
       "output_type": "stream",
       "stream": "stdout",
       "text": [
        "\r",
        "  4272128 of 30326502    14% in   34s   121.16 kB/s"
       ]
      },
      {
       "output_type": "stream",
       "stream": "stdout",
       "text": [
        "\r",
        "  4276224 of 30326502    14% in   35s   119.31 kB/s\r",
        "  4280320 of 30326502    14% in   35s   119.42 kB/s\r",
        "  4284416 of 30326502    14% in   35s   119.54 kB/s\r",
        "  4288512 of 30326502    14% in   35s   119.65 kB/s\r",
        "  4292608 of 30326502    14% in   35s   119.76 kB/s\r",
        "  4296704 of 30326502    14% in   35s   119.88 kB/s\r",
        "  4300800 of 30326502    14% in   35s   119.99 kB/s\r",
        "  4304896 of 30326502    14% in   35s   120.11 kB/s\r",
        "  4308992 of 30326502    14% in   35s   120.22 kB/s\r",
        "  4313088 of 30326502    14% in   35s   120.33 kB/s\r",
        "  4317184 of 30326502    14% in   35s   120.45 kB/s\r",
        "  4321280 of 30326502    14% in   35s   120.56 kB/s\r",
        "  4325376 of 30326502    14% in   35s   120.68 kB/s\r",
        "  4329472 of 30326502    14% in   35s   120.71 kB/s"
       ]
      },
      {
       "output_type": "stream",
       "stream": "stdout",
       "text": [
        "\r",
        "  4333568 of 30326502    14% in   35s   120.48 kB/s"
       ]
      },
      {
       "output_type": "stream",
       "stream": "stdout",
       "text": [
        "\r",
        "  4337664 of 30326502    14% in   35s   120.35 kB/s\r",
        "  4341760 of 30326502    14% in   35s   120.43 kB/s\r",
        "  4345856 of 30326502    14% in   35s   120.50 kB/s"
       ]
      },
      {
       "output_type": "stream",
       "stream": "stdout",
       "text": [
        "\r",
        "  4349952 of 30326502    14% in   35s   120.37 kB/s\r",
        "  4354048 of 30326502    14% in   35s   120.42 kB/s"
       ]
      },
      {
       "output_type": "stream",
       "stream": "stdout",
       "text": [
        "\r",
        "  4358144 of 30326502    14% in   35s   119.95 kB/s"
       ]
      },
      {
       "output_type": "stream",
       "stream": "stdout",
       "text": [
        "\r",
        "  4362240 of 30326502    14% in   35s   120.04 kB/s\r",
        "  4366336 of 30326502    14% in   35s   120.11 kB/s"
       ]
      },
      {
       "output_type": "stream",
       "stream": "stdout",
       "text": [
        "\r",
        "  4370432 of 30326502    14% in   35s   119.98 kB/s"
       ]
      },
      {
       "output_type": "stream",
       "stream": "stdout",
       "text": [
        "\r",
        "  4374528 of 30326502    14% in   35s   120.02 kB/s"
       ]
      },
      {
       "output_type": "stream",
       "stream": "stdout",
       "text": [
        "\r",
        "  4378624 of 30326502    14% in   35s   119.82 kB/s"
       ]
      },
      {
       "output_type": "stream",
       "stream": "stdout",
       "text": [
        "\r",
        "  4382720 of 30326502    14% in   35s   119.66 kB/s\r",
        "  4386816 of 30326502    14% in   35s   119.74 kB/s\r",
        "  4390912 of 30326502    14% in   35s   119.81 kB/s"
       ]
      },
      {
       "output_type": "stream",
       "stream": "stdout",
       "text": [
        "\r",
        "  4395008 of 30326502    14% in   35s   119.68 kB/s\r",
        "  4399104 of 30326502    14% in   35s   119.73 kB/s"
       ]
      },
      {
       "output_type": "stream",
       "stream": "stdout",
       "text": [
        "\r",
        "  4403200 of 30326502    14% in   36s   119.27 kB/s\r",
        "  4407296 of 30326502    14% in   36s   119.37 kB/s\r",
        "  4411392 of 30326502    14% in   36s   119.43 kB/s"
       ]
      },
      {
       "output_type": "stream",
       "stream": "stdout",
       "text": [
        "\r",
        "  4415488 of 30326502    14% in   36s   119.32 kB/s"
       ]
      },
      {
       "output_type": "stream",
       "stream": "stdout",
       "text": [
        "\r",
        "  4419584 of 30326502    14% in   36s   119.38 kB/s"
       ]
      },
      {
       "output_type": "stream",
       "stream": "stdout",
       "text": [
        "\r",
        "  4423680 of 30326502    14% in   36s   119.16 kB/s"
       ]
      },
      {
       "output_type": "stream",
       "stream": "stdout",
       "text": [
        "\r",
        "  4427776 of 30326502    14% in   36s   118.98 kB/s\r",
        "  4431872 of 30326502    14% in   36s   119.06 kB/s"
       ]
      },
      {
       "output_type": "stream",
       "stream": "stdout",
       "text": [
        "\r",
        "  4435968 of 30326502    14% in   36s   119.15 kB/s"
       ]
      },
      {
       "output_type": "stream",
       "stream": "stdout",
       "text": [
        "\r",
        "  4440064 of 30326502    14% in   36s   119.03 kB/s\r",
        "  4444160 of 30326502    14% in   36s   119.08 kB/s"
       ]
      },
      {
       "output_type": "stream",
       "stream": "stdout",
       "text": [
        "\r",
        "  4448256 of 30326502    14% in   36s   118.63 kB/s\r",
        "  4452352 of 30326502    14% in   36s   118.71 kB/s\r",
        "  4456448 of 30326502    14% in   36s   118.77 kB/s\r",
        "  4460544 of 30326502    14% in   36s   118.87 kB/s"
       ]
      },
      {
       "output_type": "stream",
       "stream": "stdout",
       "text": [
        "\r",
        "  4464640 of 30326502    14% in   36s   118.76 kB/s"
       ]
      },
      {
       "output_type": "stream",
       "stream": "stdout",
       "text": [
        "\r",
        "  4468736 of 30326502    14% in   36s   118.81 kB/s"
       ]
      },
      {
       "output_type": "stream",
       "stream": "stdout",
       "text": [
        "\r",
        "  4472832 of 30326502    14% in   36s   118.37 kB/s\r",
        "  4476928 of 30326502    14% in   36s   118.43 kB/s"
       ]
      },
      {
       "output_type": "stream",
       "stream": "stdout",
       "text": [
        "\r",
        "  4481024 of 30326502    14% in   36s   118.51 kB/s\r",
        "  4485120 of 30326502    14% in   36s   118.59 kB/s"
       ]
      },
      {
       "output_type": "stream",
       "stream": "stdout",
       "text": [
        "\r",
        "  4489216 of 30326502    14% in   36s   118.50 kB/s\r",
        "  4493312 of 30326502    14% in   37s   118.54 kB/s"
       ]
      },
      {
       "output_type": "stream",
       "stream": "stdout",
       "text": [
        "\r",
        "  4497408 of 30326502    14% in   37s   118.10 kB/s\r",
        "  4501504 of 30326502    14% in   37s   118.18 kB/s\r",
        "  4505600 of 30326502    14% in   37s   118.22 kB/s\r",
        "  4509696 of 30326502    14% in   37s   118.31 kB/s"
       ]
      },
      {
       "output_type": "stream",
       "stream": "stdout",
       "text": [
        "\r",
        "  4513792 of 30326502    14% in   37s   118.24 kB/s\r",
        "  4517888 of 30326502    14% in   37s   118.28 kB/s"
       ]
      },
      {
       "output_type": "stream",
       "stream": "stdout",
       "text": [
        "\r",
        "  4521984 of 30326502    14% in   37s   117.84 kB/s"
       ]
      },
      {
       "output_type": "stream",
       "stream": "stdout",
       "text": [
        "\r",
        "  4526080 of 30326502    14% in   37s   117.88 kB/s\r",
        "  4530176 of 30326502    14% in   37s   117.95 kB/s\r",
        "  4534272 of 30326502    14% in   37s   118.03 kB/s"
       ]
      },
      {
       "output_type": "stream",
       "stream": "stdout",
       "text": [
        "\r",
        "  4538368 of 30326502    14% in   37s   117.99 kB/s"
       ]
      },
      {
       "output_type": "stream",
       "stream": "stdout",
       "text": [
        "\r",
        "  4542464 of 30326502    14% in   38s   116.48 kB/s\r",
        "  4546560 of 30326502    14% in   38s   116.59 kB/s\r",
        "  4550656 of 30326502    15% in   38s   116.69 kB/s"
       ]
      },
      {
       "output_type": "stream",
       "stream": "stdout",
       "text": [
        "\r",
        "  4554752 of 30326502    15% in   38s   114.47 kB/s"
       ]
      },
      {
       "output_type": "stream",
       "stream": "stdout",
       "text": [
        "\r",
        "  4558848 of 30326502    15% in   38s   114.57 kB/s\r",
        "  4562944 of 30326502    15% in   38s   114.67 kB/s\r",
        "  4567040 of 30326502    15% in   38s   114.77 kB/s"
       ]
      },
      {
       "output_type": "stream",
       "stream": "stdout",
       "text": [
        "\r",
        "  4571136 of 30326502    15% in   39s   113.67 kB/s\r",
        "  4575232 of 30326502    15% in   39s   113.77 kB/s\r",
        "  4579328 of 30326502    15% in   39s   113.88 kB/s\r",
        "  4583424 of 30326502    15% in   39s   113.98 kB/s\r",
        "  4587520 of 30326502    15% in   39s   114.08 kB/s\r",
        "  4591616 of 30326502    15% in   39s   114.18 kB/s\r",
        "  4595712 of 30326502    15% in   39s   114.28 kB/s\r",
        "  4599808 of 30326502    15% in   39s   114.38 kB/s\r",
        "  4603904 of 30326502    15% in   39s   114.48 kB/s\r",
        "  4608000 of 30326502    15% in   39s   114.59 kB/s\r",
        "  4612096 of 30326502    15% in   39s   114.68 kB/s"
       ]
      },
      {
       "output_type": "stream",
       "stream": "stdout",
       "text": [
        "\r",
        "  4616192 of 30326502    15% in   39s   113.90 kB/s"
       ]
      },
      {
       "output_type": "stream",
       "stream": "stdout",
       "text": [
        "\r",
        "  4620288 of 30326502    15% in   39s   113.18 kB/s"
       ]
      },
      {
       "output_type": "stream",
       "stream": "stdout",
       "text": [
        "\r",
        "  4624384 of 30326502    15% in   39s   113.24 kB/s"
       ]
      },
      {
       "output_type": "stream",
       "stream": "stdout",
       "text": [
        "\r",
        "  4628480 of 30326502    15% in   39s   113.05 kB/s"
       ]
      },
      {
       "output_type": "stream",
       "stream": "stdout",
       "text": [
        "\r",
        "  4632576 of 30326502    15% in   40s   112.65 kB/s\r",
        "  4636672 of 30326502    15% in   40s   112.73 kB/s"
       ]
      },
      {
       "output_type": "stream",
       "stream": "stdout",
       "text": [
        "\r",
        "  4640768 of 30326502    15% in   40s   112.57 kB/s"
       ]
      },
      {
       "output_type": "stream",
       "stream": "stdout",
       "text": [
        "\r",
        "  4644864 of 30326502    15% in   40s   112.33 kB/s"
       ]
      },
      {
       "output_type": "stream",
       "stream": "stdout",
       "text": [
        "\r",
        "  4648960 of 30326502    15% in   40s   112.26 kB/s"
       ]
      },
      {
       "output_type": "stream",
       "stream": "stdout",
       "text": [
        "\r",
        "  4653056 of 30326502    15% in   41s   110.23 kB/s\r",
        "  4657152 of 30326502    15% in   41s   110.33 kB/s\r",
        "  4661248 of 30326502    15% in   41s   110.43 kB/s\r",
        "  4665344 of 30326502    15% in   41s   110.52 kB/s\r",
        "  4669440 of 30326502    15% in   41s   110.62 kB/s\r",
        "  4673536 of 30326502    15% in   41s   110.72 kB/s\r",
        "  4677632 of 30326502    15% in   41s   110.81 kB/s\r",
        "  4681728 of 30326502    15% in   41s   110.91 kB/s\r",
        "  4685824 of 30326502    15% in   41s   111.01 kB/s\r",
        "  4689920 of 30326502    15% in   41s   111.10 kB/s\r",
        "  4694016 of 30326502    15% in   41s   111.20 kB/s\r",
        "  4698112 of 30326502    15% in   41s   111.29 kB/s\r",
        "  4702208 of 30326502    15% in   41s   111.38 kB/s"
       ]
      },
      {
       "output_type": "stream",
       "stream": "stdout",
       "text": [
        "\r",
        "  4706304 of 30326502    15% in   41s   110.71 kB/s\r",
        "  4710400 of 30326502    15% in   41s   110.78 kB/s\r",
        "  4714496 of 30326502    15% in   41s   110.86 kB/s\r",
        "  4718592 of 30326502    15% in   41s   110.92 kB/s\r",
        "  4722688 of 30326502    15% in   41s   111.01 kB/s"
       ]
      },
      {
       "output_type": "stream",
       "stream": "stdout",
       "text": [
        "\r",
        "  4726784 of 30326502    15% in   41s   110.44 kB/s\r",
        "  4730880 of 30326502    15% in   41s   110.50 kB/s"
       ]
      },
      {
       "output_type": "stream",
       "stream": "stdout",
       "text": [
        "\r",
        "  4734976 of 30326502    15% in   41s   110.56 kB/s\r",
        "  4739072 of 30326502    15% in   41s   110.64 kB/s"
       ]
      },
      {
       "output_type": "stream",
       "stream": "stdout",
       "text": [
        "\r",
        "  4743168 of 30326502    15% in   41s   110.38 kB/s"
       ]
      },
      {
       "output_type": "stream",
       "stream": "stdout",
       "text": [
        "\r",
        "  4747264 of 30326502    15% in   42s   110.18 kB/s\r",
        "  4751360 of 30326502    15% in   42s   110.23 kB/s\r",
        "  4755456 of 30326502    15% in   42s   110.30 kB/s\r",
        "  4759552 of 30326502    15% in   42s   110.37 kB/s"
       ]
      },
      {
       "output_type": "stream",
       "stream": "stdout",
       "text": [
        "\r",
        "  4763648 of 30326502    15% in   42s   110.44 kB/s"
       ]
      },
      {
       "output_type": "stream",
       "stream": "stdout",
       "text": [
        "\r",
        "  4767744 of 30326502    15% in   42s   109.87 kB/s\r",
        "  4771840 of 30326502    15% in   42s   109.94 kB/s\r",
        "  4775936 of 30326502    15% in   42s   110.02 kB/s\r",
        "  4780032 of 30326502    15% in   42s   110.10 kB/s\r",
        "  4784128 of 30326502    15% in   42s   110.17 kB/s"
       ]
      },
      {
       "output_type": "stream",
       "stream": "stdout",
       "text": [
        "\r",
        "  4788224 of 30326502    15% in   42s   109.61 kB/s\r",
        "  4792320 of 30326502    15% in   42s   109.68 kB/s"
       ]
      },
      {
       "output_type": "stream",
       "stream": "stdout",
       "text": [
        "\r",
        "  4796416 of 30326502    15% in   42s   109.75 kB/s\r",
        "  4800512 of 30326502    15% in   42s   109.83 kB/s\r",
        "  4804608 of 30326502    15% in   42s   109.90 kB/s\r",
        "  4808704 of 30326502    15% in   42s   109.96 kB/s"
       ]
      },
      {
       "output_type": "stream",
       "stream": "stdout",
       "text": [
        "\r",
        "  4812800 of 30326502    15% in   42s   109.44 kB/s\r",
        "  4816896 of 30326502    15% in   42s   109.51 kB/s\r",
        "  4820992 of 30326502    15% in   42s   109.57 kB/s\r",
        "  4825088 of 30326502    15% in   42s   109.64 kB/s\r",
        "  4829184 of 30326502    15% in   42s   109.72 kB/s"
       ]
      },
      {
       "output_type": "stream",
       "stream": "stdout",
       "text": [
        "\r",
        "  4833280 of 30326502    15% in   43s   109.48 kB/s"
       ]
      },
      {
       "output_type": "stream",
       "stream": "stdout",
       "text": [
        "\r",
        "  4837376 of 30326502    15% in   43s   109.26 kB/s"
       ]
      },
      {
       "output_type": "stream",
       "stream": "stdout",
       "text": [
        "\r",
        "  4841472 of 30326502    15% in   43s   109.30 kB/s\r",
        "  4845568 of 30326502    15% in   43s   109.37 kB/s\r",
        "  4849664 of 30326502    15% in   43s   109.44 kB/s\r",
        "  4853760 of 30326502    16% in   43s   109.52 kB/s"
       ]
      },
      {
       "output_type": "stream",
       "stream": "stdout",
       "text": [
        "\r",
        "  4857856 of 30326502    16% in   43s   109.00 kB/s\r",
        "  4861952 of 30326502    16% in   43s   109.08 kB/s\r",
        "  4866048 of 30326502    16% in   43s   109.13 kB/s"
       ]
      },
      {
       "output_type": "stream",
       "stream": "stdout",
       "text": [
        "\r",
        "  4870144 of 30326502    16% in   43s   109.18 kB/s\r",
        "  4874240 of 30326502    16% in   43s   109.25 kB/s\r",
        "  4878336 of 30326502    16% in   43s   109.33 kB/s"
       ]
      },
      {
       "output_type": "stream",
       "stream": "stdout",
       "text": [
        "\r",
        "  4882432 of 30326502    16% in   44s   108.15 kB/s\r",
        "  4886528 of 30326502    16% in   44s   108.24 kB/s\r",
        "  4890624 of 30326502    16% in   44s   108.33 kB/s\r",
        "  4894720 of 30326502    16% in   44s   108.42 kB/s\r",
        "  4898816 of 30326502    16% in   44s   108.50 kB/s"
       ]
      },
      {
       "output_type": "stream",
       "stream": "stdout",
       "text": [
        "\r",
        "  4902912 of 30326502    16% in   44s   107.91 kB/s\r",
        "  4907008 of 30326502    16% in   44s   107.98 kB/s\r",
        "  4911104 of 30326502    16% in   44s   108.05 kB/s\r",
        "  4915200 of 30326502    16% in   44s   108.12 kB/s\r",
        "  4919296 of 30326502    16% in   44s   108.19 kB/s"
       ]
      },
      {
       "output_type": "stream",
       "stream": "stdout",
       "text": [
        "\r",
        "  4923392 of 30326502    16% in   44s   108.25 kB/s"
       ]
      },
      {
       "output_type": "stream",
       "stream": "stdout",
       "text": [
        "\r",
        "  4927488 of 30326502    16% in   44s   107.76 kB/s\r",
        "  4931584 of 30326502    16% in   44s   107.83 kB/s"
       ]
      },
      {
       "output_type": "stream",
       "stream": "stdout",
       "text": [
        "\r",
        "  4935680 of 30326502    16% in   44s   107.90 kB/s\r",
        "  4939776 of 30326502    16% in   44s   107.96 kB/s\r",
        "  4943872 of 30326502    16% in   44s   108.02 kB/s\r",
        "  4947968 of 30326502    16% in   44s   108.08 kB/s"
       ]
      },
      {
       "output_type": "stream",
       "stream": "stdout",
       "text": [
        "\r",
        "  4952064 of 30326502    16% in   44s   107.61 kB/s\r",
        "  4956160 of 30326502    16% in   44s   107.68 kB/s\r",
        "  4960256 of 30326502    16% in   44s   107.74 kB/s\r",
        "  4964352 of 30326502    16% in   44s   107.81 kB/s"
       ]
      },
      {
       "output_type": "stream",
       "stream": "stdout",
       "text": [
        "\r",
        "  4968448 of 30326502    16% in   44s   107.88 kB/s"
       ]
      },
      {
       "output_type": "stream",
       "stream": "stdout",
       "text": [
        "\r",
        "  4972544 of 30326502    16% in   45s   107.76 kB/s"
       ]
      },
      {
       "output_type": "stream",
       "stream": "stdout",
       "text": [
        "\r",
        "  4976640 of 30326502    16% in   45s   107.45 kB/s"
       ]
      },
      {
       "output_type": "stream",
       "stream": "stdout",
       "text": [
        "\r",
        "  4980736 of 30326502    16% in   45s   107.53 kB/s\r",
        "  4984832 of 30326502    16% in   45s   107.60 kB/s\r",
        "  4988928 of 30326502    16% in   45s   107.66 kB/s\r",
        "  4993024 of 30326502    16% in   45s   107.73 kB/s\r",
        "  4997120 of 30326502    16% in   45s   107.80 kB/s"
       ]
      },
      {
       "output_type": "stream",
       "stream": "stdout",
       "text": [
        "\r",
        "  5001216 of 30326502    16% in   45s   107.65 kB/s"
       ]
      },
      {
       "output_type": "stream",
       "stream": "stdout",
       "text": [
        "\r",
        "  5005312 of 30326502    16% in   45s   107.38 kB/s\r",
        "  5009408 of 30326502    16% in   45s   107.45 kB/s\r",
        "  5013504 of 30326502    16% in   45s   107.52 kB/s"
       ]
      },
      {
       "output_type": "stream",
       "stream": "stdout",
       "text": [
        "\r",
        "  5017600 of 30326502    16% in   45s   107.59 kB/s\r",
        "  5021696 of 30326502    16% in   45s   107.66 kB/s"
       ]
      },
      {
       "output_type": "stream",
       "stream": "stdout",
       "text": [
        "\r",
        "  5025792 of 30326502    16% in   45s   107.54 kB/s"
       ]
      },
      {
       "output_type": "stream",
       "stream": "stdout",
       "text": [
        "\r",
        "  5029888 of 30326502    16% in   45s   107.25 kB/s\r",
        "  5033984 of 30326502    16% in   45s   107.29 kB/s\r",
        "  5038080 of 30326502    16% in   45s   107.36 kB/s\r",
        "  5042176 of 30326502    16% in   45s   107.43 kB/s"
       ]
      },
      {
       "output_type": "stream",
       "stream": "stdout",
       "text": [
        "\r",
        "  5046272 of 30326502    16% in   45s   107.50 kB/s"
       ]
      },
      {
       "output_type": "stream",
       "stream": "stdout",
       "text": [
        "\r",
        "  5050368 of 30326502    16% in   45s   107.40 kB/s"
       ]
      },
      {
       "output_type": "stream",
       "stream": "stdout",
       "text": [
        "\r",
        "  5054464 of 30326502    16% in   46s   107.12 kB/s"
       ]
      },
      {
       "output_type": "stream",
       "stream": "stdout",
       "text": [
        "\r",
        "  5058560 of 30326502    16% in   46s   107.15 kB/s\r",
        "  5062656 of 30326502    16% in   46s   107.23 kB/s\r",
        "  5066752 of 30326502    16% in   46s   107.28 kB/s\r",
        "  5070848 of 30326502    16% in   46s   107.35 kB/s"
       ]
      },
      {
       "output_type": "stream",
       "stream": "stdout",
       "text": [
        "\r",
        "  5074944 of 30326502    16% in   46s   107.28 kB/s"
       ]
      },
      {
       "output_type": "stream",
       "stream": "stdout",
       "text": [
        "\r",
        "  5079040 of 30326502    16% in   46s   107.00 kB/s\r",
        "  5083136 of 30326502    16% in   46s   107.05 kB/s\r",
        "  5087232 of 30326502    16% in   46s   107.08 kB/s\r",
        "  5091328 of 30326502    16% in   46s   107.15 kB/s"
       ]
      },
      {
       "output_type": "stream",
       "stream": "stdout",
       "text": [
        "\r",
        "  5095424 of 30326502    16% in   46s   107.22 kB/s\r",
        "  5099520 of 30326502    16% in   46s   107.28 kB/s"
       ]
      },
      {
       "output_type": "stream",
       "stream": "stdout",
       "text": [
        "\r",
        "  5103616 of 30326502    16% in   46s   107.22 kB/s"
       ]
      },
      {
       "output_type": "stream",
       "stream": "stdout",
       "text": [
        "\r",
        "  5107712 of 30326502    16% in   46s   106.92 kB/s"
       ]
      },
      {
       "output_type": "stream",
       "stream": "stdout",
       "text": [
        "\r",
        "  5111808 of 30326502    16% in   46s   106.97 kB/s\r",
        "  5115904 of 30326502    16% in   46s   107.03 kB/s\r",
        "  5120000 of 30326502    16% in   46s   107.09 kB/s\r",
        "  5124096 of 30326502    16% in   46s   107.15 kB/s"
       ]
      },
      {
       "output_type": "stream",
       "stream": "stdout",
       "text": [
        "\r",
        "  5128192 of 30326502    16% in   46s   107.09 kB/s"
       ]
      },
      {
       "output_type": "stream",
       "stream": "stdout",
       "text": [
        "\r",
        "  5132288 of 30326502    16% in   46s   106.78 kB/s\r",
        "  5136384 of 30326502    16% in   46s   106.84 kB/s\r",
        "  5140480 of 30326502    16% in   46s   106.89 kB/s"
       ]
      },
      {
       "output_type": "stream",
       "stream": "stdout",
       "text": [
        "\r",
        "  5144576 of 30326502    16% in   46s   106.96 kB/s\r",
        "  5148672 of 30326502    16% in   46s   107.02 kB/s\r",
        "  5152768 of 30326502    16% in   46s   107.08 kB/s"
       ]
      },
      {
       "output_type": "stream",
       "stream": "stdout",
       "text": [
        "\r",
        "  5156864 of 30326502    17% in   47s   107.03 kB/s"
       ]
      },
      {
       "output_type": "stream",
       "stream": "stdout",
       "text": [
        "\r",
        "  5160960 of 30326502    17% in   47s   106.72 kB/s\r",
        "  5165056 of 30326502    17% in   47s   106.78 kB/s\r",
        "  5169152 of 30326502    17% in   47s   106.84 kB/s\r",
        "  5173248 of 30326502    17% in   47s   106.90 kB/s\r",
        "  5177344 of 30326502    17% in   47s   106.96 kB/s"
       ]
      },
      {
       "output_type": "stream",
       "stream": "stdout",
       "text": [
        "\r",
        "  5181440 of 30326502    17% in   47s   106.89 kB/s\r",
        "  5185536 of 30326502    17% in   47s   106.96 kB/s"
       ]
      },
      {
       "output_type": "stream",
       "stream": "stdout",
       "text": [
        "\r",
        "  5189632 of 30326502    17% in   47s   106.65 kB/s\r",
        "  5193728 of 30326502    17% in   47s   106.72 kB/s"
       ]
      },
      {
       "output_type": "stream",
       "stream": "stdout",
       "text": [
        "\r",
        "  5197824 of 30326502    17% in   47s   106.79 kB/s\r",
        "  5201920 of 30326502    17% in   47s   106.85 kB/s\r",
        "  5206016 of 30326502    17% in   47s   106.90 kB/s"
       ]
      },
      {
       "output_type": "stream",
       "stream": "stdout",
       "text": [
        "\r",
        "  5210112 of 30326502    17% in   47s   106.82 kB/s"
       ]
      },
      {
       "output_type": "stream",
       "stream": "stdout",
       "text": [
        "\r",
        "  5214208 of 30326502    17% in   47s   106.53 kB/s\r",
        "  5218304 of 30326502    17% in   47s   106.59 kB/s\r",
        "  5222400 of 30326502    17% in   47s   106.66 kB/s\r",
        "  5226496 of 30326502    17% in   47s   106.72 kB/s"
       ]
      },
      {
       "output_type": "stream",
       "stream": "stdout",
       "text": [
        "\r",
        "  5230592 of 30326502    17% in   47s   106.78 kB/s\r",
        "  5234688 of 30326502    17% in   47s   106.85 kB/s"
       ]
      },
      {
       "output_type": "stream",
       "stream": "stdout",
       "text": [
        "\r",
        "  5238784 of 30326502    17% in   47s   106.78 kB/s"
       ]
      },
      {
       "output_type": "stream",
       "stream": "stdout",
       "text": [
        "\r",
        "  5242880 of 30326502    17% in   48s   106.48 kB/s"
       ]
      },
      {
       "output_type": "stream",
       "stream": "stdout",
       "text": [
        "\r",
        "  5246976 of 30326502    17% in   48s   106.55 kB/s\r",
        "  5251072 of 30326502    17% in   48s   106.61 kB/s\r",
        "  5255168 of 30326502    17% in   48s   106.67 kB/s\r",
        "  5259264 of 30326502    17% in   48s   106.73 kB/s"
       ]
      },
      {
       "output_type": "stream",
       "stream": "stdout",
       "text": [
        "\r",
        "  5263360 of 30326502    17% in   48s   106.66 kB/s"
       ]
      },
      {
       "output_type": "stream",
       "stream": "stdout",
       "text": [
        "\r",
        "  5267456 of 30326502    17% in   48s   106.72 kB/s"
       ]
      },
      {
       "output_type": "stream",
       "stream": "stdout",
       "text": [
        "\r",
        "  5271552 of 30326502    17% in   48s   106.43 kB/s\r",
        "  5275648 of 30326502    17% in   48s   106.50 kB/s\r",
        "  5279744 of 30326502    17% in   48s   106.56 kB/s"
       ]
      },
      {
       "output_type": "stream",
       "stream": "stdout",
       "text": [
        "\r",
        "  5283840 of 30326502    17% in   48s   106.62 kB/s\r",
        "  5287936 of 30326502    17% in   48s   106.68 kB/s"
       ]
      },
      {
       "output_type": "stream",
       "stream": "stdout",
       "text": [
        "\r",
        "  5292032 of 30326502    17% in   48s   106.61 kB/s\r",
        "  5296128 of 30326502    17% in   48s   106.67 kB/s\r",
        "  5300224 of 30326502    17% in   48s   106.74 kB/s"
       ]
      },
      {
       "output_type": "stream",
       "stream": "stdout",
       "text": [
        "\r",
        "  5304320 of 30326502    17% in   48s   106.45 kB/s\r",
        "  5308416 of 30326502    17% in   48s   106.51 kB/s\r",
        "  5312512 of 30326502    17% in   48s   106.57 kB/s\r",
        "  5316608 of 30326502    17% in   48s   106.63 kB/s"
       ]
      },
      {
       "output_type": "stream",
       "stream": "stdout",
       "text": [
        "\r",
        "  5320704 of 30326502    17% in   48s   106.57 kB/s\r",
        "  5324800 of 30326502    17% in   48s   106.63 kB/s\r",
        "  5328896 of 30326502    17% in   48s   106.70 kB/s"
       ]
      },
      {
       "output_type": "stream",
       "stream": "stdout",
       "text": [
        "\r",
        "  5332992 of 30326502    17% in   48s   106.40 kB/s\r",
        "  5337088 of 30326502    17% in   48s   106.47 kB/s"
       ]
      },
      {
       "output_type": "stream",
       "stream": "stdout",
       "text": [
        "\r",
        "  5341184 of 30326502    17% in   48s   106.52 kB/s\r",
        "  5345280 of 30326502    17% in   48s   106.59 kB/s"
       ]
      },
      {
       "output_type": "stream",
       "stream": "stdout",
       "text": [
        "\r",
        "  5349376 of 30326502    17% in   49s   106.53 kB/s\r",
        "  5353472 of 30326502    17% in   49s   106.58 kB/s\r",
        "  5357568 of 30326502    17% in   49s   106.65 kB/s"
       ]
      },
      {
       "output_type": "stream",
       "stream": "stdout",
       "text": [
        "\r",
        "  5361664 of 30326502    17% in   49s   106.44 kB/s"
       ]
      },
      {
       "output_type": "stream",
       "stream": "stdout",
       "text": [
        "\r",
        "  5365760 of 30326502    17% in   49s   106.42 kB/s\r",
        "  5369856 of 30326502    17% in   49s   106.48 kB/s\r",
        "  5373952 of 30326502    17% in   49s   106.54 kB/s"
       ]
      },
      {
       "output_type": "stream",
       "stream": "stdout",
       "text": [
        "\r",
        "  5378048 of 30326502    17% in   49s   106.60 kB/s"
       ]
      },
      {
       "output_type": "stream",
       "stream": "stdout",
       "text": [
        "\r",
        "  5382144 of 30326502    17% in   49s   106.53 kB/s\r",
        "  5386240 of 30326502    17% in   49s   106.59 kB/s"
       ]
      },
      {
       "output_type": "stream",
       "stream": "stdout",
       "text": [
        "\r",
        "  5390336 of 30326502    17% in   49s   106.40 kB/s\r",
        "  5394432 of 30326502    17% in   49s   106.39 kB/s"
       ]
      },
      {
       "output_type": "stream",
       "stream": "stdout",
       "text": [
        "\r",
        "  5398528 of 30326502    17% in   49s   106.44 kB/s\r",
        "  5402624 of 30326502    17% in   49s   106.50 kB/s\r",
        "  5406720 of 30326502    17% in   49s   106.57 kB/s"
       ]
      },
      {
       "output_type": "stream",
       "stream": "stdout",
       "text": [
        "\r",
        "  5410816 of 30326502    17% in   49s   106.51 kB/s"
       ]
      },
      {
       "output_type": "stream",
       "stream": "stdout",
       "text": [
        "\r",
        "  5414912 of 30326502    17% in   49s   106.54 kB/s\r",
        "  5419008 of 30326502    17% in   49s   106.59 kB/s"
       ]
      },
      {
       "output_type": "stream",
       "stream": "stdout",
       "text": [
        "\r",
        "  5423104 of 30326502    17% in   49s   106.36 kB/s\r",
        "  5427200 of 30326502    17% in   49s   106.41 kB/s\r",
        "  5431296 of 30326502    17% in   49s   106.48 kB/s\r",
        "  5435392 of 30326502    17% in   49s   106.54 kB/s"
       ]
      },
      {
       "output_type": "stream",
       "stream": "stdout",
       "text": [
        "\r",
        "  5439488 of 30326502    17% in   49s   106.60 kB/s"
       ]
      },
      {
       "output_type": "stream",
       "stream": "stdout",
       "text": [
        "\r",
        "  5443584 of 30326502    17% in   49s   106.54 kB/s\r",
        "  5447680 of 30326502    17% in   49s   106.58 kB/s\r",
        "  5451776 of 30326502    17% in   49s   106.64 kB/s"
       ]
      },
      {
       "output_type": "stream",
       "stream": "stdout",
       "text": [
        "\r",
        "  5455872 of 30326502    17% in   50s   106.48 kB/s\r",
        "  5459968 of 30326502    18% in   50s   106.47 kB/s"
       ]
      },
      {
       "output_type": "stream",
       "stream": "stdout",
       "text": [
        "\r",
        "  5464064 of 30326502    18% in   50s   106.52 kB/s\r",
        "  5468160 of 30326502    18% in   50s   106.58 kB/s"
       ]
      },
      {
       "output_type": "stream",
       "stream": "stdout",
       "text": [
        "\r",
        "  5472256 of 30326502    18% in   50s   106.47 kB/s\r",
        "  5476352 of 30326502    18% in   50s   106.52 kB/s\r",
        "  5480448 of 30326502    18% in   50s   106.59 kB/s\r",
        "  5484544 of 30326502    18% in   50s   106.67 kB/s\r",
        "  5488640 of 30326502    18% in   50s   106.72 kB/s"
       ]
      },
      {
       "output_type": "stream",
       "stream": "stdout",
       "text": [
        "\r",
        "  5492736 of 30326502    18% in   50s   106.57 kB/s"
       ]
      },
      {
       "output_type": "stream",
       "stream": "stdout",
       "text": [
        "\r",
        "  5496832 of 30326502    18% in   50s   106.58 kB/s\r",
        "  5500928 of 30326502    18% in   50s   106.62 kB/s\r",
        "  5505024 of 30326502    18% in   50s   106.69 kB/s"
       ]
      },
      {
       "output_type": "stream",
       "stream": "stdout",
       "text": [
        "\r",
        "  5509120 of 30326502    18% in   50s   106.74 kB/s"
       ]
      },
      {
       "output_type": "stream",
       "stream": "stdout",
       "text": [
        "\r",
        "  5513216 of 30326502    18% in   50s   106.67 kB/s\r",
        "  5517312 of 30326502    18% in   50s   106.72 kB/s\r",
        "  5521408 of 30326502    18% in   50s   106.78 kB/s"
       ]
      },
      {
       "output_type": "stream",
       "stream": "stdout",
       "text": [
        "\r",
        "  5525504 of 30326502    18% in   50s   106.59 kB/s\r",
        "  5529600 of 30326502    18% in   50s   106.65 kB/s\r",
        "  5533696 of 30326502    18% in   50s   106.71 kB/s\r",
        "  5537792 of 30326502    18% in   50s   106.77 kB/s"
       ]
      },
      {
       "output_type": "stream",
       "stream": "stdout",
       "text": [
        "\r",
        "  5541888 of 30326502    18% in   50s   106.82 kB/s\r",
        "  5545984 of 30326502    18% in   50s   106.87 kB/s\r",
        "  5550080 of 30326502    18% in   50s   106.93 kB/s"
       ]
      },
      {
       "output_type": "stream",
       "stream": "stdout",
       "text": [
        "\r",
        "  5554176 of 30326502    18% in   50s   106.85 kB/s\r",
        "  5558272 of 30326502    18% in   50s   106.91 kB/s\r",
        "  5562368 of 30326502    18% in   50s   106.97 kB/s\r",
        "  5566464 of 30326502    18% in   50s   107.04 kB/s"
       ]
      },
      {
       "output_type": "stream",
       "stream": "stdout",
       "text": [
        "\r",
        "  5570560 of 30326502    18% in   50s   106.86 kB/s\r",
        "  5574656 of 30326502    18% in   50s   106.92 kB/s\r",
        "  5578752 of 30326502    18% in   50s   106.98 kB/s\r",
        "  5582848 of 30326502    18% in   50s   106.99 kB/s"
       ]
      },
      {
       "output_type": "stream",
       "stream": "stdout",
       "text": [
        "\r",
        "  5586944 of 30326502    18% in   50s   107.05 kB/s\r",
        "  5591040 of 30326502    18% in   50s   107.12 kB/s"
       ]
      },
      {
       "output_type": "stream",
       "stream": "stdout",
       "text": [
        "\r",
        "  5595136 of 30326502    18% in   51s   107.03 kB/s"
       ]
      },
      {
       "output_type": "stream",
       "stream": "stdout",
       "text": [
        "\r",
        "  5599232 of 30326502    18% in   51s   106.48 kB/s\r",
        "  5603328 of 30326502    18% in   51s   106.55 kB/s\r",
        "  5607424 of 30326502    18% in   51s   106.63 kB/s\r",
        "  5611520 of 30326502    18% in   51s   106.71 kB/s\r",
        "  5615616 of 30326502    18% in   51s   106.79 kB/s\r",
        "  5619712 of 30326502    18% in   51s   106.86 kB/s\r",
        "  5623808 of 30326502    18% in   51s   106.94 kB/s\r",
        "  5627904 of 30326502    18% in   51s   107.02 kB/s\r",
        "  5632000 of 30326502    18% in   51s   107.10 kB/s\r",
        "  5636096 of 30326502    18% in   51s   107.17 kB/s\r",
        "  5640192 of 30326502    18% in   51s   107.25 kB/s\r",
        "  5644288 of 30326502    18% in   51s   107.33 kB/s\r",
        "  5648384 of 30326502    18% in   51s   107.41 kB/s\r",
        "  5652480 of 30326502    18% in   51s   107.48 kB/s\r",
        "  5656576 of 30326502    18% in   51s   107.55 kB/s"
       ]
      },
      {
       "output_type": "stream",
       "stream": "stdout",
       "text": [
        "\r",
        "  5660672 of 30326502    18% in   51s   107.38 kB/s\r",
        "  5664768 of 30326502    18% in   51s   107.42 kB/s\r",
        "  5668864 of 30326502    18% in   51s   107.49 kB/s\r",
        "  5672960 of 30326502    18% in   51s   107.55 kB/s"
       ]
      },
      {
       "output_type": "stream",
       "stream": "stdout",
       "text": [
        "\r",
        "  5677056 of 30326502    18% in   51s   107.57 kB/s\r",
        "  5681152 of 30326502    18% in   51s   107.62 kB/s\r",
        "  5685248 of 30326502    18% in   51s   107.68 kB/s"
       ]
      },
      {
       "output_type": "stream",
       "stream": "stdout",
       "text": [
        "\r",
        "  5689344 of 30326502    18% in   51s   107.62 kB/s\r",
        "  5693440 of 30326502    18% in   51s   107.68 kB/s\r",
        "  5697536 of 30326502    18% in   51s   107.74 kB/s\r",
        "  5701632 of 30326502    18% in   51s   107.80 kB/s"
       ]
      },
      {
       "output_type": "stream",
       "stream": "stdout",
       "text": [
        "\r",
        "  5705728 of 30326502    18% in   51s   107.64 kB/s"
       ]
      },
      {
       "output_type": "stream",
       "stream": "stdout",
       "text": [
        "\r",
        "  5709824 of 30326502    18% in   51s   107.68 kB/s\r",
        "  5713920 of 30326502    18% in   51s   107.73 kB/s\r",
        "  5718016 of 30326502    18% in   51s   107.79 kB/s\r",
        "  5722112 of 30326502    18% in   51s   107.82 kB/s"
       ]
      },
      {
       "output_type": "stream",
       "stream": "stdout",
       "text": [
        "\r",
        "  5726208 of 30326502    18% in   51s   107.88 kB/s\r",
        "  5730304 of 30326502    18% in   51s   107.94 kB/s"
       ]
      },
      {
       "output_type": "stream",
       "stream": "stdout",
       "text": [
        "\r",
        "  5734400 of 30326502    18% in   51s   107.88 kB/s\r",
        "  5738496 of 30326502    18% in   51s   107.94 kB/s\r",
        "  5742592 of 30326502    18% in   51s   107.99 kB/s"
       ]
      },
      {
       "output_type": "stream",
       "stream": "stdout",
       "text": [
        "\r",
        "  5746688 of 30326502    18% in   52s   107.83 kB/s\r",
        "  5750784 of 30326502    18% in   52s   107.90 kB/s\r",
        "  5754880 of 30326502    18% in   52s   107.93 kB/s\r",
        "  5758976 of 30326502    18% in   52s   107.98 kB/s"
       ]
      },
      {
       "output_type": "stream",
       "stream": "stdout",
       "text": [
        "\r",
        "  5763072 of 30326502    19% in   52s   108.04 kB/s\r",
        "  5767168 of 30326502    19% in   52s   108.06 kB/s\r",
        "  5771264 of 30326502    19% in   52s   108.12 kB/s\r",
        "  5775360 of 30326502    19% in   52s   108.18 kB/s"
       ]
      },
      {
       "output_type": "stream",
       "stream": "stdout",
       "text": [
        "\r",
        "  5779456 of 30326502    19% in   52s   107.99 kB/s\r",
        "  5783552 of 30326502    19% in   52s   108.05 kB/s\r",
        "  5787648 of 30326502    19% in   52s   108.10 kB/s"
       ]
      },
      {
       "output_type": "stream",
       "stream": "stdout",
       "text": [
        "\r",
        "  5791744 of 30326502    19% in   52s   108.08 kB/s"
       ]
      },
      {
       "output_type": "stream",
       "stream": "stdout",
       "text": [
        "\r",
        "  5795840 of 30326502    19% in   52s   108.12 kB/s\r",
        "  5799936 of 30326502    19% in   52s   108.18 kB/s\r",
        "  5804032 of 30326502    19% in   52s   108.23 kB/s\r",
        "  5808128 of 30326502    19% in   52s   108.29 kB/s"
       ]
      },
      {
       "output_type": "stream",
       "stream": "stdout",
       "text": [
        "\r",
        "  5812224 of 30326502    19% in   52s   108.31 kB/s\r",
        "  5816320 of 30326502    19% in   52s   108.37 kB/s\r",
        "  5820416 of 30326502    19% in   52s   108.42 kB/s"
       ]
      },
      {
       "output_type": "stream",
       "stream": "stdout",
       "text": [
        "\r",
        "  5824512 of 30326502    19% in   52s   108.23 kB/s\r",
        "  5828608 of 30326502    19% in   52s   108.29 kB/s\r",
        "  5832704 of 30326502    19% in   52s   108.35 kB/s"
       ]
      },
      {
       "output_type": "stream",
       "stream": "stdout",
       "text": [
        "\r",
        "  5836800 of 30326502    19% in   52s   108.34 kB/s\r",
        "  5840896 of 30326502    19% in   52s   108.37 kB/s\r",
        "  5844992 of 30326502    19% in   52s   108.42 kB/s"
       ]
      },
      {
       "output_type": "stream",
       "stream": "stdout",
       "text": [
        "\r",
        "  5849088 of 30326502    19% in   52s   108.47 kB/s\r",
        "  5853184 of 30326502    19% in   52s   108.53 kB/s"
       ]
      },
      {
       "output_type": "stream",
       "stream": "stdout",
       "text": [
        "\r",
        "  5857280 of 30326502    19% in   52s   107.95 kB/s\r",
        "  5861376 of 30326502    19% in   52s   108.03 kB/s\r",
        "  5865472 of 30326502    19% in   52s   108.10 kB/s"
       ]
      },
      {
       "output_type": "stream",
       "stream": "stdout",
       "text": [
        "\r",
        "  5869568 of 30326502    19% in   53s   107.60 kB/s\r",
        "  5873664 of 30326502    19% in   53s   107.68 kB/s\r",
        "  5877760 of 30326502    19% in   53s   107.75 kB/s\r",
        "  5881856 of 30326502    19% in   53s   107.83 kB/s\r",
        "  5885952 of 30326502    19% in   53s   107.90 kB/s\r",
        "  5890048 of 30326502    19% in   53s   107.98 kB/s\r",
        "  5894144 of 30326502    19% in   53s   108.05 kB/s\r",
        "  5898240 of 30326502    19% in   53s   108.13 kB/s\r",
        "  5902336 of 30326502    19% in   53s   108.20 kB/s\r",
        "  5906432 of 30326502    19% in   53s   108.27 kB/s\r",
        "  5910528 of 30326502    19% in   53s   108.35 kB/s\r",
        "  5914624 of 30326502    19% in   53s   108.42 kB/s\r",
        "  5918720 of 30326502    19% in   53s   108.50 kB/s\r",
        "  5922816 of 30326502    19% in   53s   108.57 kB/s\r",
        "  5926912 of 30326502    19% in   53s   108.65 kB/s\r",
        "  5931008 of 30326502    19% in   53s   108.72 kB/s\r",
        "  5935104 of 30326502    19% in   53s   108.80 kB/s\r",
        "  5939200 of 30326502    19% in   53s   108.87 kB/s"
       ]
      },
      {
       "output_type": "stream",
       "stream": "stdout",
       "text": [
        "\r",
        "  5943296 of 30326502    19% in   53s   108.66 kB/s"
       ]
      },
      {
       "output_type": "stream",
       "stream": "stdout",
       "text": [
        "\r",
        "  5947392 of 30326502    19% in   53s   108.71 kB/s"
       ]
      },
      {
       "output_type": "stream",
       "stream": "stdout",
       "text": [
        "\r",
        "  5951488 of 30326502    19% in   53s   108.67 kB/s"
       ]
      },
      {
       "output_type": "stream",
       "stream": "stdout",
       "text": [
        "\r",
        "  5955584 of 30326502    19% in   53s   108.64 kB/s\r",
        "  5959680 of 30326502    19% in   53s   108.70 kB/s\r",
        "  5963776 of 30326502    19% in   53s   108.76 kB/s\r",
        "  5967872 of 30326502    19% in   53s   108.81 kB/s\r",
        "  5971968 of 30326502    19% in   53s   108.87 kB/s"
       ]
      },
      {
       "output_type": "stream",
       "stream": "stdout",
       "text": [
        "\r",
        "  5976064 of 30326502    19% in   53s   108.93 kB/s"
       ]
      },
      {
       "output_type": "stream",
       "stream": "stdout",
       "text": [
        "\r",
        "  5980160 of 30326502    19% in   53s   108.71 kB/s"
       ]
      },
      {
       "output_type": "stream",
       "stream": "stdout",
       "text": [
        "\r",
        "  5984256 of 30326502    19% in   53s   108.76 kB/s"
       ]
      },
      {
       "output_type": "stream",
       "stream": "stdout",
       "text": [
        "\r",
        "  5988352 of 30326502    19% in   53s   108.73 kB/s\r",
        "  5992448 of 30326502    19% in   53s   108.74 kB/s\r",
        "  5996544 of 30326502    19% in   53s   108.79 kB/s"
       ]
      },
      {
       "output_type": "stream",
       "stream": "stdout",
       "text": [
        "\r",
        "  6000640 of 30326502    19% in   53s   108.85 kB/s\r",
        "  6004736 of 30326502    19% in   53s   108.90 kB/s\r",
        "  6008832 of 30326502    19% in   53s   108.95 kB/s\r",
        "  6012928 of 30326502    19% in   53s   109.01 kB/s"
       ]
      },
      {
       "output_type": "stream",
       "stream": "stdout",
       "text": [
        "\r",
        "  6017024 of 30326502    19% in   54s   108.73 kB/s\r",
        "  6021120 of 30326502    19% in   54s   108.76 kB/s"
       ]
      },
      {
       "output_type": "stream",
       "stream": "stdout",
       "text": [
        "\r",
        "  6025216 of 30326502    19% in   54s   108.77 kB/s\r",
        "  6029312 of 30326502    19% in   54s   108.83 kB/s\r",
        "  6033408 of 30326502    19% in   54s   108.88 kB/s\r",
        "  6037504 of 30326502    19% in   54s   108.94 kB/s"
       ]
      },
      {
       "output_type": "stream",
       "stream": "stdout",
       "text": [
        "\r",
        "  6041600 of 30326502    19% in   54s   108.95 kB/s\r",
        "  6045696 of 30326502    19% in   54s   109.00 kB/s\r",
        "  6049792 of 30326502    19% in   54s   109.06 kB/s"
       ]
      },
      {
       "output_type": "stream",
       "stream": "stdout",
       "text": [
        "\r",
        "  6053888 of 30326502    19% in   54s   108.83 kB/s"
       ]
      },
      {
       "output_type": "stream",
       "stream": "stdout",
       "text": [
        "\r",
        "  6057984 of 30326502    19% in   54s   108.82 kB/s\r",
        "  6062080 of 30326502    19% in   54s   108.87 kB/s\r",
        "  6066176 of 30326502    20% in   54s   108.93 kB/s"
       ]
      },
      {
       "output_type": "stream",
       "stream": "stdout",
       "text": [
        "\r",
        "  6070272 of 30326502    20% in   54s   108.98 kB/s\r",
        "  6074368 of 30326502    20% in   54s   109.03 kB/s\r",
        "  6078464 of 30326502    20% in   54s   109.04 kB/s\r",
        "  6082560 of 30326502    20% in   54s   109.09 kB/s"
       ]
      },
      {
       "output_type": "stream",
       "stream": "stdout",
       "text": [
        "\r",
        "  6086656 of 30326502    20% in   54s   108.87 kB/s"
       ]
      },
      {
       "output_type": "stream",
       "stream": "stdout",
       "text": [
        "\r",
        "  6090752 of 30326502    20% in   54s   108.93 kB/s\r",
        "  6094848 of 30326502    20% in   54s   108.91 kB/s"
       ]
      },
      {
       "output_type": "stream",
       "stream": "stdout",
       "text": [
        "\r",
        "  6098944 of 30326502    20% in   54s   108.96 kB/s\r",
        "  6103040 of 30326502    20% in   54s   109.01 kB/s\r",
        "  6107136 of 30326502    20% in   54s   109.06 kB/s\r",
        "  6111232 of 30326502    20% in   54s   109.11 kB/s"
       ]
      },
      {
       "output_type": "stream",
       "stream": "stdout",
       "text": [
        "\r",
        "  6115328 of 30326502    20% in   54s   109.12 kB/s\r",
        "  6119424 of 30326502    20% in   54s   109.18 kB/s\r",
        "  6123520 of 30326502    20% in   54s   109.24 kB/s"
       ]
      },
      {
       "output_type": "stream",
       "stream": "stdout",
       "text": [
        "\r",
        "  6127616 of 30326502    20% in   54s   109.02 kB/s"
       ]
      },
      {
       "output_type": "stream",
       "stream": "stdout",
       "text": [
        "\r",
        "  6131712 of 30326502    20% in   54s   109.01 kB/s\r",
        "  6135808 of 30326502    20% in   54s   109.05 kB/s\r",
        "  6139904 of 30326502    20% in   54s   109.11 kB/s"
       ]
      },
      {
       "output_type": "stream",
       "stream": "stdout",
       "text": [
        "\r",
        "  6144000 of 30326502    20% in   54s   109.17 kB/s\r",
        "  6148096 of 30326502    20% in   54s   109.22 kB/s\r",
        "  6152192 of 30326502    20% in   55s   109.22 kB/s"
       ]
      },
      {
       "output_type": "stream",
       "stream": "stdout",
       "text": [
        "\r",
        "  6156288 of 30326502    20% in   55s   109.27 kB/s\r",
        "  6160384 of 30326502    20% in   55s   109.33 kB/s"
       ]
      },
      {
       "output_type": "stream",
       "stream": "stdout",
       "text": [
        "\r",
        "  6164480 of 30326502    20% in   55s   109.11 kB/s\r",
        "  6168576 of 30326502    20% in   55s   109.11 kB/s"
       ]
      },
      {
       "output_type": "stream",
       "stream": "stdout",
       "text": [
        "\r",
        "  6172672 of 30326502    20% in   55s   109.16 kB/s\r",
        "  6176768 of 30326502    20% in   55s   109.21 kB/s\r",
        "  6180864 of 30326502    20% in   55s   109.26 kB/s\r",
        "  6184960 of 30326502    20% in   55s   109.32 kB/s"
       ]
      },
      {
       "output_type": "stream",
       "stream": "stdout",
       "text": [
        "\r",
        "  6189056 of 30326502    20% in   55s   109.29 kB/s\r",
        "  6193152 of 30326502    20% in   55s   109.34 kB/s"
       ]
      },
      {
       "output_type": "stream",
       "stream": "stdout",
       "text": [
        "\r",
        "  6197248 of 30326502    20% in   55s   109.40 kB/s"
       ]
      },
      {
       "output_type": "stream",
       "stream": "stdout",
       "text": [
        "\r",
        "  6201344 of 30326502    20% in   55s   109.22 kB/s"
       ]
      },
      {
       "output_type": "stream",
       "stream": "stdout",
       "text": [
        "\r",
        "  6205440 of 30326502    20% in   55s   109.21 kB/s\r",
        "  6209536 of 30326502    20% in   55s   109.25 kB/s\r",
        "  6213632 of 30326502    20% in   55s   109.30 kB/s"
       ]
      },
      {
       "output_type": "stream",
       "stream": "stdout",
       "text": [
        "\r",
        "  6217728 of 30326502    20% in   55s   109.35 kB/s\r",
        "  6221824 of 30326502    20% in   55s   109.41 kB/s\r",
        "  6225920 of 30326502    20% in   55s   109.47 kB/s"
       ]
      },
      {
       "output_type": "stream",
       "stream": "stdout",
       "text": [
        "\r",
        "  6230016 of 30326502    20% in   55s   109.44 kB/s\r",
        "  6234112 of 30326502    20% in   55s   109.49 kB/s\r",
        "  6238208 of 30326502    20% in   55s   109.55 kB/s"
       ]
      },
      {
       "output_type": "stream",
       "stream": "stdout",
       "text": [
        "\r",
        "  6242304 of 30326502    20% in   55s   109.36 kB/s"
       ]
      },
      {
       "output_type": "stream",
       "stream": "stdout",
       "text": [
        "\r",
        "  6246400 of 30326502    20% in   55s   109.36 kB/s\r",
        "  6250496 of 30326502    20% in   55s   109.41 kB/s\r",
        "  6254592 of 30326502    20% in   55s   109.46 kB/s\r",
        "  6258688 of 30326502    20% in   55s   109.51 kB/s\r",
        "  6262784 of 30326502    20% in   55s   109.56 kB/s"
       ]
      },
      {
       "output_type": "stream",
       "stream": "stdout",
       "text": [
        "\r",
        "  6266880 of 30326502    20% in   55s   109.54 kB/s\r",
        "  6270976 of 30326502    20% in   55s   109.59 kB/s"
       ]
      },
      {
       "output_type": "stream",
       "stream": "stdout",
       "text": [
        "\r",
        "  6275072 of 30326502    20% in   55s   109.65 kB/s"
       ]
      },
      {
       "output_type": "stream",
       "stream": "stdout",
       "text": [
        "\r",
        "  6279168 of 30326502    20% in   56s   109.48 kB/s"
       ]
      },
      {
       "output_type": "stream",
       "stream": "stdout",
       "text": [
        "\r",
        "  6283264 of 30326502    20% in   56s   109.46 kB/s\r",
        "  6287360 of 30326502    20% in   56s   109.51 kB/s\r",
        "  6291456 of 30326502    20% in   56s   109.55 kB/s"
       ]
      },
      {
       "output_type": "stream",
       "stream": "stdout",
       "text": [
        "\r",
        "  6295552 of 30326502    20% in   56s   109.60 kB/s\r",
        "  6299648 of 30326502    20% in   56s   109.65 kB/s\r",
        "  6303744 of 30326502    20% in   56s   109.71 kB/s"
       ]
      },
      {
       "output_type": "stream",
       "stream": "stdout",
       "text": [
        "\r",
        "  6307840 of 30326502    20% in   56s   109.70 kB/s\r",
        "  6311936 of 30326502    20% in   56s   109.75 kB/s\r",
        "  6316032 of 30326502    20% in   56s   109.80 kB/s"
       ]
      },
      {
       "output_type": "stream",
       "stream": "stdout",
       "text": [
        "\r",
        "  6320128 of 30326502    20% in   56s   109.61 kB/s"
       ]
      },
      {
       "output_type": "stream",
       "stream": "stdout",
       "text": [
        "\r",
        "  6324224 of 30326502    20% in   56s   109.60 kB/s\r",
        "  6328320 of 30326502    20% in   56s   109.66 kB/s\r",
        "  6332416 of 30326502    20% in   56s   109.70 kB/s\r",
        "  6336512 of 30326502    20% in   56s   109.76 kB/s\r",
        "  6340608 of 30326502    20% in   56s   109.80 kB/s"
       ]
      },
      {
       "output_type": "stream",
       "stream": "stdout",
       "text": [
        "\r",
        "  6344704 of 30326502    20% in   56s   109.86 kB/s"
       ]
      },
      {
       "output_type": "stream",
       "stream": "stdout",
       "text": [
        "\r",
        "  6348800 of 30326502    20% in   56s   109.84 kB/s\r",
        "  6352896 of 30326502    20% in   56s   109.90 kB/s\r",
        "  6356992 of 30326502    20% in   56s   109.95 kB/s"
       ]
      },
      {
       "output_type": "stream",
       "stream": "stdout",
       "text": [
        "\r",
        "  6361088 of 30326502    20% in   56s   109.76 kB/s"
       ]
      },
      {
       "output_type": "stream",
       "stream": "stdout",
       "text": [
        "\r",
        "  6365184 of 30326502    20% in   56s   109.76 kB/s\r",
        "  6369280 of 30326502    21% in   56s   109.81 kB/s"
       ]
      },
      {
       "output_type": "stream",
       "stream": "stdout",
       "text": [
        "\r",
        "  6373376 of 30326502    21% in   56s   109.84 kB/s\r",
        "  6377472 of 30326502    21% in   56s   109.90 kB/s\r",
        "  6381568 of 30326502    21% in   56s   109.96 kB/s\r",
        "  6385664 of 30326502    21% in   56s   110.00 kB/s"
       ]
      },
      {
       "output_type": "stream",
       "stream": "stdout",
       "text": [
        "\r",
        "  6389760 of 30326502    21% in   56s   109.99 kB/s\r",
        "  6393856 of 30326502    21% in   56s   110.04 kB/s"
       ]
      },
      {
       "output_type": "stream",
       "stream": "stdout",
       "text": [
        "\r",
        "  6397952 of 30326502    21% in   56s   110.10 kB/s"
       ]
      },
      {
       "output_type": "stream",
       "stream": "stdout",
       "text": [
        "\r",
        "  6402048 of 30326502    21% in   56s   109.91 kB/s"
       ]
      },
      {
       "output_type": "stream",
       "stream": "stdout",
       "text": [
        "\r",
        "  6406144 of 30326502    21% in   56s   109.91 kB/s\r",
        "  6410240 of 30326502    21% in   56s   109.96 kB/s\r",
        "  6414336 of 30326502    21% in   56s   109.99 kB/s"
       ]
      },
      {
       "output_type": "stream",
       "stream": "stdout",
       "text": [
        "\r",
        "  6418432 of 30326502    21% in   56s   110.05 kB/s\r",
        "  6422528 of 30326502    21% in   56s   110.10 kB/s\r",
        "  6426624 of 30326502    21% in   56s   110.15 kB/s"
       ]
      },
      {
       "output_type": "stream",
       "stream": "stdout",
       "text": [
        "\r",
        "  6430720 of 30326502    21% in   57s   110.14 kB/s\r",
        "  6434816 of 30326502    21% in   57s   110.20 kB/s\r",
        "  6438912 of 30326502    21% in   57s   110.24 kB/s"
       ]
      },
      {
       "output_type": "stream",
       "stream": "stdout",
       "text": [
        "\r",
        "  6443008 of 30326502    21% in   57s   110.06 kB/s\r",
        "  6447104 of 30326502    21% in   57s   110.06 kB/s"
       ]
      },
      {
       "output_type": "stream",
       "stream": "stdout",
       "text": [
        "\r",
        "  6451200 of 30326502    21% in   57s   110.11 kB/s\r",
        "  6455296 of 30326502    21% in   57s   110.15 kB/s\r",
        "  6459392 of 30326502    21% in   57s   110.20 kB/s\r",
        "  6463488 of 30326502    21% in   57s   110.26 kB/s\r",
        "  6467584 of 30326502    21% in   57s   110.31 kB/s"
       ]
      },
      {
       "output_type": "stream",
       "stream": "stdout",
       "text": [
        "\r",
        "  6471680 of 30326502    21% in   57s   110.29 kB/s\r",
        "  6475776 of 30326502    21% in   57s   110.35 kB/s"
       ]
      },
      {
       "output_type": "stream",
       "stream": "stdout",
       "text": [
        "\r",
        "  6479872 of 30326502    21% in   57s   110.39 kB/s"
       ]
      },
      {
       "output_type": "stream",
       "stream": "stdout",
       "text": [
        "\r",
        "  6483968 of 30326502    21% in   57s   110.21 kB/s"
       ]
      },
      {
       "output_type": "stream",
       "stream": "stdout",
       "text": [
        "\r",
        "  6488064 of 30326502    21% in   57s   110.22 kB/s\r",
        "  6492160 of 30326502    21% in   57s   110.27 kB/s"
       ]
      },
      {
       "output_type": "stream",
       "stream": "stdout",
       "text": [
        "\r",
        "  6496256 of 30326502    21% in   57s   110.30 kB/s\r",
        "  6500352 of 30326502    21% in   57s   110.35 kB/s\r",
        "  6504448 of 30326502    21% in   57s   110.40 kB/s"
       ]
      },
      {
       "output_type": "stream",
       "stream": "stdout",
       "text": [
        "\r",
        "  6508544 of 30326502    21% in   57s   110.39 kB/s\r",
        "  6512640 of 30326502    21% in   57s   110.45 kB/s\r",
        "  6516736 of 30326502    21% in   57s   110.50 kB/s\r",
        "  6520832 of 30326502    21% in   57s   110.55 kB/s"
       ]
      },
      {
       "output_type": "stream",
       "stream": "stdout",
       "text": [
        "\r",
        "  6524928 of 30326502    21% in   57s   110.36 kB/s\r",
        "  6529024 of 30326502    21% in   57s   110.37 kB/s"
       ]
      },
      {
       "output_type": "stream",
       "stream": "stdout",
       "text": [
        "\r",
        "  6533120 of 30326502    21% in   58s   109.84 kB/s\r",
        "  6537216 of 30326502    21% in   58s   109.91 kB/s"
       ]
      },
      {
       "output_type": "stream",
       "stream": "stdout",
       "text": [
        "\r",
        "  6541312 of 30326502    21% in   58s   109.44 kB/s\r",
        "  6545408 of 30326502    21% in   58s   109.51 kB/s\r",
        "  6549504 of 30326502    21% in   58s   109.58 kB/s\r",
        "  6553600 of 30326502    21% in   58s   109.65 kB/s\r",
        "  6557696 of 30326502    21% in   58s   109.72 kB/s\r",
        "  6561792 of 30326502    21% in   58s   109.79 kB/s\r",
        "  6565888 of 30326502    21% in   58s   109.85 kB/s\r",
        "  6569984 of 30326502    21% in   58s   109.92 kB/s\r",
        "  6574080 of 30326502    21% in   58s   109.99 kB/s"
       ]
      },
      {
       "output_type": "stream",
       "stream": "stdout",
       "text": [
        "\r",
        "  6578176 of 30326502    21% in   58s   110.01 kB/s\r",
        "  6582272 of 30326502    21% in   58s   110.08 kB/s\r",
        "  6586368 of 30326502    21% in   58s   110.15 kB/s\r",
        "  6590464 of 30326502    21% in   58s   110.22 kB/s\r",
        "  6594560 of 30326502    21% in   58s   110.29 kB/s\r",
        "  6598656 of 30326502    21% in   58s   110.35 kB/s\r",
        "  6602752 of 30326502    21% in   58s   110.42 kB/s\r",
        "  6606848 of 30326502    21% in   58s   110.49 kB/s"
       ]
      },
      {
       "output_type": "stream",
       "stream": "stdout",
       "text": [
        "\r",
        "  6610944 of 30326502    21% in   58s   110.48 kB/s\r",
        "  6615040 of 30326502    21% in   58s   110.52 kB/s\r",
        "  6619136 of 30326502    21% in   58s   110.56 kB/s"
       ]
      },
      {
       "output_type": "stream",
       "stream": "stdout",
       "text": [
        "\r",
        "  6623232 of 30326502    21% in   58s   110.40 kB/s\r",
        "  6627328 of 30326502    21% in   58s   110.40 kB/s\r",
        "  6631424 of 30326502    21% in   58s   110.45 kB/s"
       ]
      },
      {
       "output_type": "stream",
       "stream": "stdout",
       "text": [
        "\r",
        "  6635520 of 30326502    21% in   58s   110.49 kB/s\r",
        "  6639616 of 30326502    21% in   58s   110.50 kB/s"
       ]
      },
      {
       "output_type": "stream",
       "stream": "stdout",
       "text": [
        "\r",
        "  6643712 of 30326502    21% in   58s   110.48 kB/s\r",
        "  6647808 of 30326502    21% in   58s   110.52 kB/s"
       ]
      },
      {
       "output_type": "stream",
       "stream": "stdout",
       "text": [
        "\r",
        "  6651904 of 30326502    21% in   58s   110.58 kB/s"
       ]
      },
      {
       "output_type": "stream",
       "stream": "stdout",
       "text": [
        "\r",
        "  6656000 of 30326502    21% in   58s   110.42 kB/s"
       ]
      },
      {
       "output_type": "stream",
       "stream": "stdout",
       "text": [
        "\r",
        "  6660096 of 30326502    21% in   58s   110.41 kB/s\r",
        "  6664192 of 30326502    21% in   58s   110.46 kB/s\r",
        "  6668288 of 30326502    21% in   58s   110.50 kB/s"
       ]
      },
      {
       "output_type": "stream",
       "stream": "stdout",
       "text": [
        "\r",
        "  6672384 of 30326502    22% in   58s   110.53 kB/s"
       ]
      },
      {
       "output_type": "stream",
       "stream": "stdout",
       "text": [
        "\r",
        "  6676480 of 30326502    22% in   59s   110.51 kB/s\r",
        "  6680576 of 30326502    22% in   59s   110.52 kB/s\r",
        "  6684672 of 30326502    22% in   59s   110.58 kB/s\r",
        "  6688768 of 30326502    22% in   59s   110.63 kB/s"
       ]
      },
      {
       "output_type": "stream",
       "stream": "stdout",
       "text": [
        "\r",
        "  6692864 of 30326502    22% in   59s   110.48 kB/s\r",
        "  6696960 of 30326502    22% in   59s   110.48 kB/s"
       ]
      },
      {
       "output_type": "stream",
       "stream": "stdout",
       "text": [
        "\r",
        "  6701056 of 30326502    22% in   59s   110.53 kB/s\r",
        "  6705152 of 30326502    22% in   59s   110.55 kB/s"
       ]
      },
      {
       "output_type": "stream",
       "stream": "stdout",
       "text": [
        "\r",
        "  6709248 of 30326502    22% in   59s   110.52 kB/s"
       ]
      },
      {
       "output_type": "stream",
       "stream": "stdout",
       "text": [
        "\r",
        "  6713344 of 30326502    22% in   59s   110.54 kB/s\r",
        "  6717440 of 30326502    22% in   59s   110.59 kB/s\r",
        "  6721536 of 30326502    22% in   59s   110.64 kB/s"
       ]
      },
      {
       "output_type": "stream",
       "stream": "stdout",
       "text": [
        "\r",
        "  6725632 of 30326502    22% in   59s   110.45 kB/s\r",
        "  6729728 of 30326502    22% in   59s   110.51 kB/s\r",
        "  6733824 of 30326502    22% in   59s   110.54 kB/s\r",
        "  6737920 of 30326502    22% in   59s   110.59 kB/s"
       ]
      },
      {
       "output_type": "stream",
       "stream": "stdout",
       "text": [
        "\r",
        "  6742016 of 30326502    22% in   59s   110.59 kB/s"
       ]
      },
      {
       "output_type": "stream",
       "stream": "stdout",
       "text": [
        "\r",
        "  6746112 of 30326502    22% in   59s   110.56 kB/s\r",
        "  6750208 of 30326502    22% in   59s   110.60 kB/s\r",
        "  6754304 of 30326502    22% in   59s   110.66 kB/s"
       ]
      },
      {
       "output_type": "stream",
       "stream": "stdout",
       "text": [
        "\r",
        "  6758400 of 30326502    22% in   59s   110.46 kB/s\r",
        "  6762496 of 30326502    22% in   59s   110.51 kB/s"
       ]
      },
      {
       "output_type": "stream",
       "stream": "stdout",
       "text": [
        "\r",
        "  6766592 of 30326502    22% in   59s   110.56 kB/s\r",
        "  6770688 of 30326502    22% in   59s   110.60 kB/s\r",
        "  6774784 of 30326502    22% in   59s   110.63 kB/s"
       ]
      },
      {
       "output_type": "stream",
       "stream": "stdout",
       "text": [
        "\r",
        "  6778880 of 30326502    22% in   59s   110.61 kB/s"
       ]
      },
      {
       "output_type": "stream",
       "stream": "stdout",
       "text": [
        "\r",
        "  6782976 of 30326502    22% in   59s   110.63 kB/s\r",
        "  6787072 of 30326502    22% in   59s   110.67 kB/s"
       ]
      },
      {
       "output_type": "stream",
       "stream": "stdout",
       "text": [
        "\r",
        "  6791168 of 30326502    22% in   59s   110.67 kB/s"
       ]
      },
      {
       "output_type": "stream",
       "stream": "stdout",
       "text": [
        "\r",
        "  6795264 of 30326502    22% in   60s   110.00 kB/s\r",
        "  6799360 of 30326502    22% in   60s   110.07 kB/s\r",
        "  6803456 of 30326502    22% in   60s   110.13 kB/s\r",
        "  6807552 of 30326502    22% in   60s   110.20 kB/s\r",
        "  6811648 of 30326502    22% in   60s   110.26 kB/s"
       ]
      },
      {
       "output_type": "stream",
       "stream": "stdout",
       "text": [
        "\r",
        "  6815744 of 30326502    22% in   60s   109.82 kB/s\r",
        "  6819840 of 30326502    22% in   60s   109.88 kB/s\r",
        "  6823936 of 30326502    22% in   60s   109.95 kB/s\r",
        "  6828032 of 30326502    22% in   60s   110.01 kB/s\r",
        "  6832128 of 30326502    22% in   60s   110.08 kB/s\r",
        "  6836224 of 30326502    22% in   60s   110.15 kB/s\r",
        "  6840320 of 30326502    22% in   60s   110.21 kB/s\r",
        "  6844416 of 30326502    22% in   60s   110.28 kB/s\r",
        "  6848512 of 30326502    22% in   60s   110.34 kB/s\r",
        "  6852608 of 30326502    22% in   60s   110.41 kB/s\r",
        "  6856704 of 30326502    22% in   60s   110.47 kB/s\r",
        "  6860800 of 30326502    22% in   60s   110.51 kB/s"
       ]
      },
      {
       "output_type": "stream",
       "stream": "stdout",
       "text": [
        "\r",
        "  6864896 of 30326502    22% in   60s   110.42 kB/s\r",
        "  6868992 of 30326502    22% in   60s   110.46 kB/s"
       ]
      },
      {
       "output_type": "stream",
       "stream": "stdout",
       "text": [
        "\r",
        "  6873088 of 30326502    22% in   60s   110.50 kB/s\r",
        "  6877184 of 30326502    22% in   60s   110.50 kB/s"
       ]
      },
      {
       "output_type": "stream",
       "stream": "stdout",
       "text": [
        "\r",
        "  6881280 of 30326502    22% in   60s   110.37 kB/s\r",
        "  6885376 of 30326502    22% in   60s   110.41 kB/s\r",
        "  6889472 of 30326502    22% in   60s   110.44 kB/s"
       ]
      },
      {
       "output_type": "stream",
       "stream": "stdout",
       "text": [
        "\r",
        "  6893568 of 30326502    22% in   60s   110.36 kB/s\r",
        "  6897664 of 30326502    22% in   61s   110.41 kB/s\r",
        "  6901760 of 30326502    22% in   61s   110.44 kB/s"
       ]
      },
      {
       "output_type": "stream",
       "stream": "stdout",
       "text": [
        "\r",
        "  6905856 of 30326502    22% in   61s   110.45 kB/s"
       ]
      },
      {
       "output_type": "stream",
       "stream": "stdout",
       "text": [
        "\r",
        "  6909952 of 30326502    22% in   61s   110.31 kB/s\r",
        "  6914048 of 30326502    22% in   61s   110.35 kB/s"
       ]
      },
      {
       "output_type": "stream",
       "stream": "stdout",
       "text": [
        "\r",
        "  6918144 of 30326502    22% in   61s   110.38 kB/s"
       ]
      },
      {
       "output_type": "stream",
       "stream": "stdout",
       "text": [
        "\r",
        "  6922240 of 30326502    22% in   61s   110.31 kB/s"
       ]
      },
      {
       "output_type": "stream",
       "stream": "stdout",
       "text": [
        "\r",
        "  6926336 of 30326502    22% in   61s   110.35 kB/s\r",
        "  6930432 of 30326502    22% in   61s   110.38 kB/s\r",
        "  6934528 of 30326502    22% in   61s   110.39 kB/s"
       ]
      },
      {
       "output_type": "stream",
       "stream": "stdout",
       "text": [
        "\r",
        "  6938624 of 30326502    22% in   61s   110.26 kB/s\r",
        "  6942720 of 30326502    22% in   61s   110.28 kB/s"
       ]
      },
      {
       "output_type": "stream",
       "stream": "stdout",
       "text": [
        "\r",
        "  6946816 of 30326502    22% in   61s   110.20 kB/s\r",
        "  6950912 of 30326502    22% in   61s   110.23 kB/s\r",
        "  6955008 of 30326502    22% in   61s   110.28 kB/s\r",
        "  6959104 of 30326502    22% in   61s   110.33 kB/s"
       ]
      },
      {
       "output_type": "stream",
       "stream": "stdout",
       "text": [
        "\r",
        "  6963200 of 30326502    22% in   61s   110.15 kB/s\r",
        "  6967296 of 30326502    22% in   61s   110.19 kB/s"
       ]
      },
      {
       "output_type": "stream",
       "stream": "stdout",
       "text": [
        "\r",
        "  6971392 of 30326502    22% in   61s   110.22 kB/s"
       ]
      },
      {
       "output_type": "stream",
       "stream": "stdout",
       "text": [
        "\r",
        "  6975488 of 30326502    23% in   61s   110.15 kB/s"
       ]
      },
      {
       "output_type": "stream",
       "stream": "stdout",
       "text": [
        "\r",
        "  6979584 of 30326502    23% in   61s   110.17 kB/s\r",
        "  6983680 of 30326502    23% in   61s   110.23 kB/s\r",
        "  6987776 of 30326502    23% in   61s   110.28 kB/s"
       ]
      },
      {
       "output_type": "stream",
       "stream": "stdout",
       "text": [
        "\r",
        "  6991872 of 30326502    23% in   62s   110.09 kB/s\r",
        "  6995968 of 30326502    23% in   62s   110.14 kB/s\r",
        "  7000064 of 30326502    23% in   62s   110.19 kB/s"
       ]
      },
      {
       "output_type": "stream",
       "stream": "stdout",
       "text": [
        "\r",
        "  7004160 of 30326502    23% in   62s   110.22 kB/s"
       ]
      },
      {
       "output_type": "stream",
       "stream": "stdout",
       "text": [
        "\r",
        "  7008256 of 30326502    23% in   62s   110.13 kB/s\r",
        "  7012352 of 30326502    23% in   62s   110.18 kB/s\r",
        "  7016448 of 30326502    23% in   62s   110.23 kB/s"
       ]
      },
      {
       "output_type": "stream",
       "stream": "stdout",
       "text": [
        "\r",
        "  7020544 of 30326502    23% in   62s   110.04 kB/s"
       ]
      },
      {
       "output_type": "stream",
       "stream": "stdout",
       "text": [
        "\r",
        "  7024640 of 30326502    23% in   62s   110.08 kB/s\r",
        "  7028736 of 30326502    23% in   62s   110.13 kB/s\r",
        "  7032832 of 30326502    23% in   62s   110.17 kB/s"
       ]
      },
      {
       "output_type": "stream",
       "stream": "stdout",
       "text": [
        "\r",
        "  7036928 of 30326502    23% in   62s   110.07 kB/s\r",
        "  7041024 of 30326502    23% in   62s   110.13 kB/s\r",
        "  7045120 of 30326502    23% in   62s   110.17 kB/s\r",
        "  7049216 of 30326502    23% in   62s   110.22 kB/s"
       ]
      },
      {
       "output_type": "stream",
       "stream": "stdout",
       "text": [
        "\r",
        "  7053312 of 30326502    23% in   62s   110.04 kB/s\r",
        "  7057408 of 30326502    23% in   62s   110.08 kB/s\r",
        "  7061504 of 30326502    23% in   62s   110.12 kB/s"
       ]
      },
      {
       "output_type": "stream",
       "stream": "stdout",
       "text": [
        "\r",
        "  7065600 of 30326502    23% in   62s   110.05 kB/s\r",
        "  7069696 of 30326502    23% in   62s   110.08 kB/s"
       ]
      },
      {
       "output_type": "stream",
       "stream": "stdout",
       "text": [
        "\r",
        "  7073792 of 30326502    23% in   62s   110.12 kB/s\r",
        "  7077888 of 30326502    23% in   62s   110.17 kB/s"
       ]
      },
      {
       "output_type": "stream",
       "stream": "stdout",
       "text": [
        "\r",
        "  7081984 of 30326502    23% in   62s   109.99 kB/s\r",
        "  7086080 of 30326502    23% in   62s   110.03 kB/s\r",
        "  7090176 of 30326502    23% in   62s   110.08 kB/s\r",
        "  7094272 of 30326502    23% in   62s   110.12 kB/s"
       ]
      },
      {
       "output_type": "stream",
       "stream": "stdout",
       "text": [
        "\r",
        "  7098368 of 30326502    23% in   62s   110.04 kB/s\r",
        "  7102464 of 30326502    23% in   63s   110.08 kB/s\r",
        "  7106560 of 30326502    23% in   63s   110.12 kB/s"
       ]
      },
      {
       "output_type": "stream",
       "stream": "stdout",
       "text": [
        "\r",
        "  7110656 of 30326502    23% in   63s   109.96 kB/s\r",
        "  7114752 of 30326502    23% in   63s   110.00 kB/s\r",
        "  7118848 of 30326502    23% in   63s   110.04 kB/s"
       ]
      },
      {
       "output_type": "stream",
       "stream": "stdout",
       "text": [
        "\r",
        "  7122944 of 30326502    23% in   63s   110.09 kB/s"
       ]
      },
      {
       "output_type": "stream",
       "stream": "stdout",
       "text": [
        "\r",
        "  7127040 of 30326502    23% in   63s   110.00 kB/s"
       ]
      },
      {
       "output_type": "stream",
       "stream": "stdout",
       "text": [
        "\r",
        "  7131136 of 30326502    23% in   63s   110.04 kB/s\r",
        "  7135232 of 30326502    23% in   63s   110.08 kB/s\r",
        "  7139328 of 30326502    23% in   63s   110.12 kB/s"
       ]
      },
      {
       "output_type": "stream",
       "stream": "stdout",
       "text": [
        "\r",
        "  7143424 of 30326502    23% in   63s   109.97 kB/s"
       ]
      },
      {
       "output_type": "stream",
       "stream": "stdout",
       "text": [
        "\r",
        "  7147520 of 30326502    23% in   63s   110.01 kB/s\r",
        "  7151616 of 30326502    23% in   63s   110.04 kB/s"
       ]
      },
      {
       "output_type": "stream",
       "stream": "stdout",
       "text": [
        "\r",
        "  7155712 of 30326502    23% in   63s   109.96 kB/s\r",
        "  7159808 of 30326502    23% in   63s   110.01 kB/s\r",
        "  7163904 of 30326502    23% in   63s   110.04 kB/s\r",
        "  7168000 of 30326502    23% in   63s   110.09 kB/s"
       ]
      },
      {
       "output_type": "stream",
       "stream": "stdout",
       "text": [
        "\r",
        "  7172096 of 30326502    23% in   63s   110.13 kB/s"
       ]
      },
      {
       "output_type": "stream",
       "stream": "stdout",
       "text": [
        "\r",
        "  7176192 of 30326502    23% in   63s   109.98 kB/s\r",
        "  7180288 of 30326502    23% in   63s   110.01 kB/s"
       ]
      },
      {
       "output_type": "stream",
       "stream": "stdout",
       "text": [
        "\r",
        "  7184384 of 30326502    23% in   63s   110.05 kB/s"
       ]
      },
      {
       "output_type": "stream",
       "stream": "stdout",
       "text": [
        "\r",
        "  7188480 of 30326502    23% in   63s   109.97 kB/s"
       ]
      },
      {
       "output_type": "stream",
       "stream": "stdout",
       "text": [
        "\r",
        "  7192576 of 30326502    23% in   63s   109.99 kB/s\r",
        "  7196672 of 30326502    23% in   63s   110.05 kB/s\r",
        "  7200768 of 30326502    23% in   63s   110.10 kB/s\r",
        "  7204864 of 30326502    23% in   63s   110.13 kB/s"
       ]
      },
      {
       "output_type": "stream",
       "stream": "stdout",
       "text": [
        "\r",
        "  7208960 of 30326502    23% in   64s   109.98 kB/s\r",
        "  7213056 of 30326502    23% in   64s   110.02 kB/s\r",
        "  7217152 of 30326502    23% in   64s   110.05 kB/s"
       ]
      },
      {
       "output_type": "stream",
       "stream": "stdout",
       "text": [
        "\r",
        "  7221248 of 30326502    23% in   64s   109.98 kB/s\r",
        "  7225344 of 30326502    23% in   64s   110.00 kB/s\r",
        "  7229440 of 30326502    23% in   64s   110.05 kB/s"
       ]
      },
      {
       "output_type": "stream",
       "stream": "stdout",
       "text": [
        "\r",
        "  7233536 of 30326502    23% in   64s   110.09 kB/s\r",
        "  7237632 of 30326502    23% in   64s   110.14 kB/s"
       ]
      },
      {
       "output_type": "stream",
       "stream": "stdout",
       "text": [
        "\r",
        "  7241728 of 30326502    23% in   64s   109.98 kB/s"
       ]
      },
      {
       "output_type": "stream",
       "stream": "stdout",
       "text": [
        "\r",
        "  7245824 of 30326502    23% in   64s   110.03 kB/s\r",
        "  7249920 of 30326502    23% in   64s   110.05 kB/s"
       ]
      },
      {
       "output_type": "stream",
       "stream": "stdout",
       "text": [
        "\r",
        "  7254016 of 30326502    23% in   64s   109.99 kB/s"
       ]
      },
      {
       "output_type": "stream",
       "stream": "stdout",
       "text": [
        "\r",
        "  7258112 of 30326502    23% in   64s   110.01 kB/s"
       ]
      },
      {
       "output_type": "stream",
       "stream": "stdout",
       "text": [
        "\r",
        "  7262208 of 30326502    23% in   64s   109.97 kB/s\r",
        "  7266304 of 30326502    23% in   64s   110.01 kB/s"
       ]
      },
      {
       "output_type": "stream",
       "stream": "stdout",
       "text": [
        "\r",
        "  7270400 of 30326502    23% in   64s   109.97 kB/s"
       ]
      },
      {
       "output_type": "stream",
       "stream": "stdout",
       "text": [
        "\r",
        "  7274496 of 30326502    23% in   64s   110.00 kB/s\r",
        "  7278592 of 30326502    24% in   64s   110.04 kB/s"
       ]
      },
      {
       "output_type": "stream",
       "stream": "stdout",
       "text": [
        "\r",
        "  7282688 of 30326502    24% in   64s   110.06 kB/s"
       ]
      },
      {
       "output_type": "stream",
       "stream": "stdout",
       "text": [
        "\r",
        "  7286784 of 30326502    24% in   64s   110.00 kB/s\r",
        "  7290880 of 30326502    24% in   64s   110.02 kB/s"
       ]
      },
      {
       "output_type": "stream",
       "stream": "stdout",
       "text": [
        "\r",
        "  7294976 of 30326502    24% in   64s   109.98 kB/s\r",
        "  7299072 of 30326502    24% in   64s   110.02 kB/s"
       ]
      },
      {
       "output_type": "stream",
       "stream": "stdout",
       "text": [
        "\r",
        "  7303168 of 30326502    24% in   64s   109.98 kB/s\r",
        "  7307264 of 30326502    24% in   64s   110.01 kB/s"
       ]
      },
      {
       "output_type": "stream",
       "stream": "stdout",
       "text": [
        "\r",
        "  7311360 of 30326502    24% in   64s   110.05 kB/s\r",
        "  7315456 of 30326502    24% in   64s   110.04 kB/s"
       ]
      },
      {
       "output_type": "stream",
       "stream": "stdout",
       "text": [
        "\r",
        "  7319552 of 30326502    24% in   64s   110.01 kB/s"
       ]
      },
      {
       "output_type": "stream",
       "stream": "stdout",
       "text": [
        "\r",
        "  7323648 of 30326502    24% in   65s   109.95 kB/s\r",
        "  7327744 of 30326502    24% in   65s   109.99 kB/s\r",
        "  7331840 of 30326502    24% in   65s   110.04 kB/s"
       ]
      },
      {
       "output_type": "stream",
       "stream": "stdout",
       "text": [
        "\r",
        "  7335936 of 30326502    24% in   65s   110.00 kB/s\r",
        "  7340032 of 30326502    24% in   65s   110.03 kB/s\r",
        "  7344128 of 30326502    24% in   65s   110.06 kB/s"
       ]
      },
      {
       "output_type": "stream",
       "stream": "stdout",
       "text": [
        "\r",
        "  7348224 of 30326502    24% in   65s   110.08 kB/s"
       ]
      },
      {
       "output_type": "stream",
       "stream": "stdout",
       "text": [
        "\r",
        "  7352320 of 30326502    24% in   65s   110.02 kB/s\r",
        "  7356416 of 30326502    24% in   65s   110.07 kB/s"
       ]
      },
      {
       "output_type": "stream",
       "stream": "stdout",
       "text": [
        "\r",
        "  7360512 of 30326502    24% in   65s   110.01 kB/s\r",
        "  7364608 of 30326502    24% in   65s   110.05 kB/s\r",
        "  7368704 of 30326502    24% in   65s   110.10 kB/s"
       ]
      },
      {
       "output_type": "stream",
       "stream": "stdout",
       "text": [
        "\r",
        "  7372800 of 30326502    24% in   65s   110.04 kB/s"
       ]
      },
      {
       "output_type": "stream",
       "stream": "stdout",
       "text": [
        "\r",
        "  7376896 of 30326502    24% in   65s   110.07 kB/s\r",
        "  7380992 of 30326502    24% in   65s   110.10 kB/s"
       ]
      },
      {
       "output_type": "stream",
       "stream": "stdout",
       "text": [
        "\r",
        "  7385088 of 30326502    24% in   65s   110.03 kB/s\r",
        "  7389184 of 30326502    24% in   65s   110.08 kB/s"
       ]
      },
      {
       "output_type": "stream",
       "stream": "stdout",
       "text": [
        "\r",
        "  7393280 of 30326502    24% in   65s   110.03 kB/s\r",
        "  7397376 of 30326502    24% in   65s   110.07 kB/s\r",
        "  7401472 of 30326502    24% in   65s   110.11 kB/s"
       ]
      },
      {
       "output_type": "stream",
       "stream": "stdout",
       "text": [
        "\r",
        "  7405568 of 30326502    24% in   65s   110.06 kB/s\r",
        "  7409664 of 30326502    24% in   65s   110.10 kB/s\r",
        "  7413760 of 30326502    24% in   65s   110.14 kB/s"
       ]
      },
      {
       "output_type": "stream",
       "stream": "stdout",
       "text": [
        "\r",
        "  7417856 of 30326502    24% in   65s   110.16 kB/s"
       ]
      },
      {
       "output_type": "stream",
       "stream": "stdout",
       "text": [
        "\r",
        "  7421952 of 30326502    24% in   65s   110.09 kB/s"
       ]
      },
      {
       "output_type": "stream",
       "stream": "stdout",
       "text": [
        "\r",
        "  7426048 of 30326502    24% in   65s   110.04 kB/s\r",
        "  7430144 of 30326502    24% in   65s   110.08 kB/s\r",
        "  7434240 of 30326502    24% in   65s   110.13 kB/s"
       ]
      },
      {
       "output_type": "stream",
       "stream": "stdout",
       "text": [
        "\r",
        "  7438336 of 30326502    24% in   65s   110.08 kB/s"
       ]
      },
      {
       "output_type": "stream",
       "stream": "stdout",
       "text": [
        "\r",
        "  7442432 of 30326502    24% in   66s   110.12 kB/s\r",
        "  7446528 of 30326502    24% in   66s   110.15 kB/s\r",
        "  7450624 of 30326502    24% in   66s   110.18 kB/s"
       ]
      },
      {
       "output_type": "stream",
       "stream": "stdout",
       "text": [
        "\r",
        "  7454720 of 30326502    24% in   66s   110.11 kB/s\r",
        "  7458816 of 30326502    24% in   66s   110.16 kB/s"
       ]
      },
      {
       "output_type": "stream",
       "stream": "stdout",
       "text": [
        "\r",
        "  7462912 of 30326502    24% in   66s   109.62 kB/s\r",
        "  7467008 of 30326502    24% in   66s   109.68 kB/s\r",
        "  7471104 of 30326502    24% in   66s   109.74 kB/s\r",
        "  7475200 of 30326502    24% in   66s   109.80 kB/s\r",
        "  7479296 of 30326502    24% in   66s   109.86 kB/s\r",
        "  7483392 of 30326502    24% in   66s   109.92 kB/s\r",
        "  7487488 of 30326502    24% in   66s   109.98 kB/s\r",
        "  7491584 of 30326502    24% in   66s   110.04 kB/s\r",
        "  7495680 of 30326502    24% in   66s   110.10 kB/s\r",
        "  7499776 of 30326502    24% in   66s   110.16 kB/s"
       ]
      },
      {
       "output_type": "stream",
       "stream": "stdout",
       "text": [
        "\r",
        "  7503872 of 30326502    24% in   66s   110.09 kB/s\r",
        "  7507968 of 30326502    24% in   66s   110.10 kB/s\r",
        "  7512064 of 30326502    24% in   66s   110.14 kB/s"
       ]
      },
      {
       "output_type": "stream",
       "stream": "stdout",
       "text": [
        "\r",
        "  7516160 of 30326502    24% in   66s   110.08 kB/s"
       ]
      },
      {
       "output_type": "stream",
       "stream": "stdout",
       "text": [
        "\r",
        "  7520256 of 30326502    24% in   66s   110.03 kB/s\r",
        "  7524352 of 30326502    24% in   66s   110.06 kB/s"
       ]
      },
      {
       "output_type": "stream",
       "stream": "stdout",
       "text": [
        "\r",
        "  7528448 of 30326502    24% in   66s   110.10 kB/s"
       ]
      },
      {
       "output_type": "stream",
       "stream": "stdout",
       "text": [
        "\r",
        "  7532544 of 30326502    24% in   66s   110.04 kB/s"
       ]
      },
      {
       "output_type": "stream",
       "stream": "stdout",
       "text": [
        "\r",
        "  7536640 of 30326502    24% in   66s   110.05 kB/s\r",
        "  7540736 of 30326502    24% in   66s   110.09 kB/s"
       ]
      },
      {
       "output_type": "stream",
       "stream": "stdout",
       "text": [
        "\r",
        "  7544832 of 30326502    24% in   66s   110.02 kB/s"
       ]
      },
      {
       "output_type": "stream",
       "stream": "stdout",
       "text": [
        "\r",
        "  7548928 of 30326502    24% in   67s   109.98 kB/s\r",
        "  7553024 of 30326502    24% in   67s   110.01 kB/s\r",
        "  7557120 of 30326502    24% in   67s   110.05 kB/s"
       ]
      },
      {
       "output_type": "stream",
       "stream": "stdout",
       "text": [
        "\r",
        "  7561216 of 30326502    24% in   67s   109.99 kB/s\r",
        "  7565312 of 30326502    24% in   67s   110.00 kB/s"
       ]
      },
      {
       "output_type": "stream",
       "stream": "stdout",
       "text": [
        "\r",
        "  7569408 of 30326502    24% in   67s   110.04 kB/s"
       ]
      },
      {
       "output_type": "stream",
       "stream": "stdout",
       "text": [
        "\r",
        "  7573504 of 30326502    24% in   67s   109.96 kB/s"
       ]
      },
      {
       "output_type": "stream",
       "stream": "stdout",
       "text": [
        "\r",
        "  7577600 of 30326502    24% in   67s   109.94 kB/s"
       ]
      },
      {
       "output_type": "stream",
       "stream": "stdout",
       "text": [
        "\r",
        "  7581696 of 30326502    25% in   67s   109.97 kB/s\r",
        "  7585792 of 30326502    25% in   67s   110.00 kB/s"
       ]
      },
      {
       "output_type": "stream",
       "stream": "stdout",
       "text": [
        "\r",
        "  7589888 of 30326502    25% in   67s   109.90 kB/s\r",
        "  7593984 of 30326502    25% in   67s   109.95 kB/s\r",
        "  7598080 of 30326502    25% in   67s   109.99 kB/s"
       ]
      },
      {
       "output_type": "stream",
       "stream": "stdout",
       "text": [
        "\r",
        "  7602176 of 30326502    25% in   67s   109.91 kB/s"
       ]
      },
      {
       "output_type": "stream",
       "stream": "stdout",
       "text": [
        "\r",
        "  7606272 of 30326502    25% in   67s   109.88 kB/s\r",
        "  7610368 of 30326502    25% in   67s   109.92 kB/s\r",
        "  7614464 of 30326502    25% in   67s   109.94 kB/s"
       ]
      },
      {
       "output_type": "stream",
       "stream": "stdout",
       "text": [
        "\r",
        "  7618560 of 30326502    25% in   67s   109.90 kB/s\r",
        "  7622656 of 30326502    25% in   67s   109.90 kB/s"
       ]
      },
      {
       "output_type": "stream",
       "stream": "stdout",
       "text": [
        "\r",
        "  7626752 of 30326502    25% in   67s   109.81 kB/s"
       ]
      },
      {
       "output_type": "stream",
       "stream": "stdout",
       "text": [
        "\r",
        "  7630848 of 30326502    25% in   67s   109.79 kB/s\r",
        "  7634944 of 30326502    25% in   67s   109.82 kB/s"
       ]
      },
      {
       "output_type": "stream",
       "stream": "stdout",
       "text": [
        "\r",
        "  7639040 of 30326502    25% in   67s   109.87 kB/s\r",
        "  7643136 of 30326502    25% in   67s   109.90 kB/s"
       ]
      },
      {
       "output_type": "stream",
       "stream": "stdout",
       "text": [
        "\r",
        "  7647232 of 30326502    25% in   67s   109.86 kB/s"
       ]
      },
      {
       "output_type": "stream",
       "stream": "stdout",
       "text": [
        "\r",
        "  7651328 of 30326502    25% in   68s   109.86 kB/s\r",
        "  7655424 of 30326502    25% in   68s   109.90 kB/s"
       ]
      },
      {
       "output_type": "stream",
       "stream": "stdout",
       "text": [
        "\r",
        "  7659520 of 30326502    25% in   68s   109.81 kB/s"
       ]
      },
      {
       "output_type": "stream",
       "stream": "stdout",
       "text": [
        "\r",
        "  7663616 of 30326502    25% in   68s   109.78 kB/s\r",
        "  7667712 of 30326502    25% in   68s   109.83 kB/s\r",
        "  7671808 of 30326502    25% in   68s   109.87 kB/s"
       ]
      },
      {
       "output_type": "stream",
       "stream": "stdout",
       "text": [
        "\r",
        "  7675904 of 30326502    25% in   68s   109.82 kB/s\r",
        "  7680000 of 30326502    25% in   68s   109.82 kB/s"
       ]
      },
      {
       "output_type": "stream",
       "stream": "stdout",
       "text": [
        "\r",
        "  7684096 of 30326502    25% in   68s   109.86 kB/s"
       ]
      },
      {
       "output_type": "stream",
       "stream": "stdout",
       "text": [
        "\r",
        "  7688192 of 30326502    25% in   68s   109.76 kB/s\r",
        "  7692288 of 30326502    25% in   68s   109.75 kB/s"
       ]
      },
      {
       "output_type": "stream",
       "stream": "stdout",
       "text": [
        "\r",
        "  7696384 of 30326502    25% in   68s   109.78 kB/s\r",
        "  7700480 of 30326502    25% in   68s   109.82 kB/s"
       ]
      },
      {
       "output_type": "stream",
       "stream": "stdout",
       "text": [
        "\r",
        "  7704576 of 30326502    25% in   68s   109.77 kB/s"
       ]
      },
      {
       "output_type": "stream",
       "stream": "stdout",
       "text": [
        "\r",
        "  7708672 of 30326502    25% in   68s   109.78 kB/s\r",
        "  7712768 of 30326502    25% in   68s   109.81 kB/s"
       ]
      },
      {
       "output_type": "stream",
       "stream": "stdout",
       "text": [
        "\r",
        "  7716864 of 30326502    25% in   68s   109.72 kB/s"
       ]
      },
      {
       "output_type": "stream",
       "stream": "stdout",
       "text": [
        "\r",
        "  7720960 of 30326502    25% in   68s   109.70 kB/s\r",
        "  7725056 of 30326502    25% in   68s   109.75 kB/s\r",
        "  7729152 of 30326502    25% in   68s   109.78 kB/s"
       ]
      },
      {
       "output_type": "stream",
       "stream": "stdout",
       "text": [
        "\r",
        "  7733248 of 30326502    25% in   68s   109.82 kB/s"
       ]
      },
      {
       "output_type": "stream",
       "stream": "stdout",
       "text": [
        "\r",
        "  7737344 of 30326502    25% in   68s   109.78 kB/s"
       ]
      },
      {
       "output_type": "stream",
       "stream": "stdout",
       "text": [
        "\r",
        "  7741440 of 30326502    25% in   68s   109.77 kB/s"
       ]
      },
      {
       "output_type": "stream",
       "stream": "stdout",
       "text": [
        "\r",
        "  7745536 of 30326502    25% in   68s   109.69 kB/s"
       ]
      },
      {
       "output_type": "stream",
       "stream": "stdout",
       "text": [
        "\r",
        "  7749632 of 30326502    25% in   69s   109.68 kB/s"
       ]
      },
      {
       "output_type": "stream",
       "stream": "stdout",
       "text": [
        "\r",
        "  7753728 of 30326502    25% in   69s   109.24 kB/s\r",
        "  7757824 of 30326502    25% in   69s   109.30 kB/s\r",
        "  7761920 of 30326502    25% in   69s   109.35 kB/s\r",
        "  7766016 of 30326502    25% in   69s   109.41 kB/s\r",
        "  7770112 of 30326502    25% in   69s   109.47 kB/s\r",
        "  7774208 of 30326502    25% in   69s   109.53 kB/s\r",
        "  7778304 of 30326502    25% in   69s   109.58 kB/s\r",
        "  7782400 of 30326502    25% in   69s   109.64 kB/s"
       ]
      },
      {
       "output_type": "stream",
       "stream": "stdout",
       "text": [
        "\r",
        "  7786496 of 30326502    25% in   69s   109.69 kB/s"
       ]
      },
      {
       "output_type": "stream",
       "stream": "stdout",
       "text": [
        "\r",
        "  7790592 of 30326502    25% in   69s   109.63 kB/s"
       ]
      },
      {
       "output_type": "stream",
       "stream": "stdout",
       "text": [
        "\r",
        "  7794688 of 30326502    25% in   69s   109.63 kB/s"
       ]
      },
      {
       "output_type": "stream",
       "stream": "stdout",
       "text": [
        "\r",
        "  7798784 of 30326502    25% in   69s   109.55 kB/s"
       ]
      },
      {
       "output_type": "stream",
       "stream": "stdout",
       "text": [
        "\r",
        "  7802880 of 30326502    25% in   69s   109.59 kB/s"
       ]
      },
      {
       "output_type": "stream",
       "stream": "stdout",
       "text": [
        "\r",
        "  7806976 of 30326502    25% in   69s   109.55 kB/s\r",
        "  7811072 of 30326502    25% in   69s   109.59 kB/s\r",
        "  7815168 of 30326502    25% in   69s   109.62 kB/s"
       ]
      },
      {
       "output_type": "stream",
       "stream": "stdout",
       "text": [
        "\r",
        "  7819264 of 30326502    25% in   69s   109.54 kB/s\r",
        "  7823360 of 30326502    25% in   69s   109.57 kB/s"
       ]
      },
      {
       "output_type": "stream",
       "stream": "stdout",
       "text": [
        "\r",
        "  7827456 of 30326502    25% in   69s   109.49 kB/s"
       ]
      },
      {
       "output_type": "stream",
       "stream": "stdout",
       "text": [
        "\r",
        "  7831552 of 30326502    25% in   69s   109.45 kB/s"
       ]
      },
      {
       "output_type": "stream",
       "stream": "stdout",
       "text": [
        "\r",
        "  7835648 of 30326502    25% in   69s   109.49 kB/s\r",
        "  7839744 of 30326502    25% in   69s   109.53 kB/s"
       ]
      },
      {
       "output_type": "stream",
       "stream": "stdout",
       "text": [
        "\r",
        "  7843840 of 30326502    25% in   69s   109.45 kB/s\r",
        "  7847936 of 30326502    25% in   70s   109.47 kB/s"
       ]
      },
      {
       "output_type": "stream",
       "stream": "stdout",
       "text": [
        "\r",
        "  7852032 of 30326502    25% in   70s   109.38 kB/s\r",
        "  7856128 of 30326502    25% in   70s   109.39 kB/s"
       ]
      },
      {
       "output_type": "stream",
       "stream": "stdout",
       "text": [
        "\r",
        "  7860224 of 30326502    25% in   70s   109.39 kB/s\r",
        "  7864320 of 30326502    25% in   70s   109.44 kB/s"
       ]
      },
      {
       "output_type": "stream",
       "stream": "stdout",
       "text": [
        "\r",
        "  7868416 of 30326502    25% in   70s   109.37 kB/s\r",
        "  7872512 of 30326502    25% in   70s   109.39 kB/s"
       ]
      },
      {
       "output_type": "stream",
       "stream": "stdout",
       "text": [
        "\r",
        "  7876608 of 30326502    25% in   70s   108.80 kB/s\r",
        "  7880704 of 30326502    25% in   70s   108.85 kB/s\r",
        "  7884800 of 30326502    25% in   70s   108.91 kB/s\r",
        "  7888896 of 30326502    26% in   70s   108.97 kB/s\r",
        "  7892992 of 30326502    26% in   70s   109.02 kB/s\r",
        "  7897088 of 30326502    26% in   70s   109.08 kB/s\r",
        "  7901184 of 30326502    26% in   70s   109.14 kB/s\r",
        "  7905280 of 30326502    26% in   70s   109.13 kB/s\r",
        "  7909376 of 30326502    26% in   70s   109.17 kB/s"
       ]
      },
      {
       "output_type": "stream",
       "stream": "stdout",
       "text": [
        "\r",
        "  7913472 of 30326502    26% in   70s   109.09 kB/s\r",
        "  7917568 of 30326502    26% in   70s   109.13 kB/s"
       ]
      },
      {
       "output_type": "stream",
       "stream": "stdout",
       "text": [
        "\r",
        "  7921664 of 30326502    26% in   70s   109.03 kB/s"
       ]
      },
      {
       "output_type": "stream",
       "stream": "stdout",
       "text": [
        "\r",
        "  7925760 of 30326502    26% in   71s   108.99 kB/s\r",
        "  7929856 of 30326502    26% in   71s   109.02 kB/s"
       ]
      },
      {
       "output_type": "stream",
       "stream": "stdout",
       "text": [
        "\r",
        "  7933952 of 30326502    26% in   71s   108.93 kB/s\r",
        "  7938048 of 30326502    26% in   71s   108.98 kB/s"
       ]
      },
      {
       "output_type": "stream",
       "stream": "stdout",
       "text": [
        "\r",
        "  7942144 of 30326502    26% in   71s   108.88 kB/s"
       ]
      },
      {
       "output_type": "stream",
       "stream": "stdout",
       "text": [
        "\r",
        "  7946240 of 30326502    26% in   71s   108.84 kB/s"
       ]
      },
      {
       "output_type": "stream",
       "stream": "stdout",
       "text": [
        "\r",
        "  7950336 of 30326502    26% in   71s   108.87 kB/s"
       ]
      },
      {
       "output_type": "stream",
       "stream": "stdout",
       "text": [
        "\r",
        "  7954432 of 30326502    26% in   71s   108.77 kB/s\r",
        "  7958528 of 30326502    26% in   71s   108.82 kB/s"
       ]
      },
      {
       "output_type": "stream",
       "stream": "stdout",
       "text": [
        "\r",
        "  7962624 of 30326502    26% in   71s   108.73 kB/s"
       ]
      },
      {
       "output_type": "stream",
       "stream": "stdout",
       "text": [
        "\r",
        "  7966720 of 30326502    26% in   71s   108.73 kB/s"
       ]
      },
      {
       "output_type": "stream",
       "stream": "stdout",
       "text": [
        "\r",
        "  7970816 of 30326502    26% in   71s   108.72 kB/s"
       ]
      },
      {
       "output_type": "stream",
       "stream": "stdout",
       "text": [
        "\r",
        "  7974912 of 30326502    26% in   71s   108.62 kB/s\r",
        "  7979008 of 30326502    26% in   71s   108.67 kB/s"
       ]
      },
      {
       "output_type": "stream",
       "stream": "stdout",
       "text": [
        "\r",
        "  7983104 of 30326502    26% in   71s   108.58 kB/s"
       ]
      },
      {
       "output_type": "stream",
       "stream": "stdout",
       "text": [
        "\r",
        "  7987200 of 30326502    26% in   71s   108.58 kB/s"
       ]
      },
      {
       "output_type": "stream",
       "stream": "stdout",
       "text": [
        "\r",
        "  7991296 of 30326502    26% in   71s   108.57 kB/s"
       ]
      },
      {
       "output_type": "stream",
       "stream": "stdout",
       "text": [
        "\r",
        "  7995392 of 30326502    26% in   71s   108.48 kB/s\r",
        "  7999488 of 30326502    26% in   71s   108.52 kB/s"
       ]
      },
      {
       "output_type": "stream",
       "stream": "stdout",
       "text": [
        "\r",
        "  8003584 of 30326502    26% in   72s   108.44 kB/s"
       ]
      },
      {
       "output_type": "stream",
       "stream": "stdout",
       "text": [
        "\r",
        "  8007680 of 30326502    26% in   72s   108.47 kB/s"
       ]
      },
      {
       "output_type": "stream",
       "stream": "stdout",
       "text": [
        "\r",
        "  8011776 of 30326502    26% in   72s   108.44 kB/s\r",
        "  8015872 of 30326502    26% in   72s   108.47 kB/s"
       ]
      },
      {
       "output_type": "stream",
       "stream": "stdout",
       "text": [
        "\r",
        "  8019968 of 30326502    26% in   72s   108.38 kB/s\r",
        "  8024064 of 30326502    26% in   72s   108.42 kB/s"
       ]
      },
      {
       "output_type": "stream",
       "stream": "stdout",
       "text": [
        "\r",
        "  8028160 of 30326502    26% in   72s   108.33 kB/s"
       ]
      },
      {
       "output_type": "stream",
       "stream": "stdout",
       "text": [
        "\r",
        "  8032256 of 30326502    26% in   72s   108.34 kB/s"
       ]
      },
      {
       "output_type": "stream",
       "stream": "stdout",
       "text": [
        "\r",
        "  8036352 of 30326502    26% in   72s   108.33 kB/s"
       ]
      },
      {
       "output_type": "stream",
       "stream": "stdout",
       "text": [
        "\r",
        "  8040448 of 30326502    26% in   72s   108.24 kB/s\r",
        "  8044544 of 30326502    26% in   72s   108.27 kB/s"
       ]
      },
      {
       "output_type": "stream",
       "stream": "stdout",
       "text": [
        "\r",
        "  8048640 of 30326502    26% in   72s   108.20 kB/s\r",
        "  8052736 of 30326502    26% in   72s   108.23 kB/s"
       ]
      },
      {
       "output_type": "stream",
       "stream": "stdout",
       "text": [
        "\r",
        "  8056832 of 30326502    26% in   73s   107.62 kB/s\r",
        "  8060928 of 30326502    26% in   73s   107.68 kB/s\r",
        "  8065024 of 30326502    26% in   73s   107.73 kB/s\r",
        "  8069120 of 30326502    26% in   73s   107.79 kB/s"
       ]
      },
      {
       "output_type": "stream",
       "stream": "stdout",
       "text": [
        "\r",
        "  8073216 of 30326502    26% in   73s   107.39 kB/s\r",
        "  8077312 of 30326502    26% in   73s   107.45 kB/s\r",
        "  8081408 of 30326502    26% in   73s   107.50 kB/s\r",
        "  8085504 of 30326502    26% in   73s   107.56 kB/s\r",
        "  8089600 of 30326502    26% in   73s   107.61 kB/s\r",
        "  8093696 of 30326502    26% in   73s   107.67 kB/s"
       ]
      },
      {
       "output_type": "stream",
       "stream": "stdout",
       "text": [
        "\r",
        "  8097792 of 30326502    26% in   73s   107.55 kB/s"
       ]
      },
      {
       "output_type": "stream",
       "stream": "stdout",
       "text": [
        "\r",
        "  8101888 of 30326502    26% in   73s   107.52 kB/s"
       ]
      },
      {
       "output_type": "stream",
       "stream": "stdout",
       "text": [
        "\r",
        "  8105984 of 30326502    26% in   73s   107.41 kB/s"
       ]
      },
      {
       "output_type": "stream",
       "stream": "stdout",
       "text": [
        "\r",
        "  8110080 of 30326502    26% in   73s   107.31 kB/s"
       ]
      },
      {
       "output_type": "stream",
       "stream": "stdout",
       "text": [
        "\r",
        "  8114176 of 30326502    26% in   73s   107.27 kB/s\r",
        "  8118272 of 30326502    26% in   73s   107.32 kB/s"
       ]
      },
      {
       "output_type": "stream",
       "stream": "stdout",
       "text": [
        "\r",
        "  8122368 of 30326502    26% in   73s   107.25 kB/s"
       ]
      },
      {
       "output_type": "stream",
       "stream": "stdout",
       "text": [
        "\r",
        "  8126464 of 30326502    26% in   74s   107.13 kB/s\r",
        "  8130560 of 30326502    26% in   74s   107.16 kB/s"
       ]
      },
      {
       "output_type": "stream",
       "stream": "stdout",
       "text": [
        "\r",
        "  8134656 of 30326502    26% in   74s   107.12 kB/s"
       ]
      },
      {
       "output_type": "stream",
       "stream": "stdout",
       "text": [
        "\r",
        "  8138752 of 30326502    26% in   74s   107.06 kB/s"
       ]
      },
      {
       "output_type": "stream",
       "stream": "stdout",
       "text": [
        "\r",
        "  8142848 of 30326502    26% in   74s   106.94 kB/s"
       ]
      },
      {
       "output_type": "stream",
       "stream": "stdout",
       "text": [
        "\r",
        "  8146944 of 30326502    26% in   74s   106.97 kB/s\r",
        "  8151040 of 30326502    26% in   74s   107.01 kB/s"
       ]
      },
      {
       "output_type": "stream",
       "stream": "stdout",
       "text": [
        "\r",
        "  8155136 of 30326502    26% in   74s   106.98 kB/s"
       ]
      },
      {
       "output_type": "stream",
       "stream": "stdout",
       "text": [
        "\r",
        "  8159232 of 30326502    26% in   74s   106.92 kB/s"
       ]
      },
      {
       "output_type": "stream",
       "stream": "stdout",
       "text": [
        "\r",
        "  8163328 of 30326502    26% in   74s   106.80 kB/s\r",
        "  8167424 of 30326502    26% in   74s   106.82 kB/s"
       ]
      },
      {
       "output_type": "stream",
       "stream": "stdout",
       "text": [
        "\r",
        "  8171520 of 30326502    26% in   74s   106.80 kB/s\r",
        "  8175616 of 30326502    26% in   74s   106.83 kB/s"
       ]
      },
      {
       "output_type": "stream",
       "stream": "stdout",
       "text": [
        "\r",
        "  8179712 of 30326502    26% in   74s   106.78 kB/s"
       ]
      },
      {
       "output_type": "stream",
       "stream": "stdout",
       "text": [
        "\r",
        "  8183808 of 30326502    26% in   74s   106.66 kB/s"
       ]
      },
      {
       "output_type": "stream",
       "stream": "stdout",
       "text": [
        "\r",
        "  8187904 of 30326502    26% in   74s   106.69 kB/s"
       ]
      },
      {
       "output_type": "stream",
       "stream": "stdout",
       "text": [
        "\r",
        "  8192000 of 30326502    27% in   75s   105.80 kB/s\r",
        "  8196096 of 30326502    27% in   75s   105.85 kB/s\r",
        "  8200192 of 30326502    27% in   75s   105.90 kB/s\r",
        "  8204288 of 30326502    27% in   75s   105.96 kB/s\r",
        "  8208384 of 30326502    27% in   75s   106.01 kB/s\r",
        "  8212480 of 30326502    27% in   75s   106.06 kB/s\r",
        "  8216576 of 30326502    27% in   75s   106.11 kB/s\r",
        "  8220672 of 30326502    27% in   75s   106.17 kB/s\r",
        "  8224768 of 30326502    27% in   75s   106.22 kB/s"
       ]
      },
      {
       "output_type": "stream",
       "stream": "stdout",
       "text": [
        "\r",
        "  8228864 of 30326502    27% in   75s   106.22 kB/s"
       ]
      },
      {
       "output_type": "stream",
       "stream": "stdout",
       "text": [
        "\r",
        "  8232960 of 30326502    27% in   75s   106.08 kB/s\r",
        "  8237056 of 30326502    27% in   75s   106.12 kB/s"
       ]
      },
      {
       "output_type": "stream",
       "stream": "stdout",
       "text": [
        "\r",
        "  8241152 of 30326502    27% in   75s   106.00 kB/s"
       ]
      },
      {
       "output_type": "stream",
       "stream": "stdout",
       "text": [
        "\r",
        "  8245248 of 30326502    27% in   76s   105.87 kB/s\r",
        "  8249344 of 30326502    27% in   76s   105.90 kB/s\r",
        "  8253440 of 30326502    27% in   76s   105.93 kB/s"
       ]
      },
      {
       "output_type": "stream",
       "stream": "stdout",
       "text": [
        "\r",
        "  8257536 of 30326502    27% in   76s   105.85 kB/s"
       ]
      },
      {
       "output_type": "stream",
       "stream": "stdout",
       "text": [
        "\r",
        "  8261632 of 30326502    27% in   76s   105.69 kB/s\r",
        "  8265728 of 30326502    27% in   76s   105.71 kB/s"
       ]
      },
      {
       "output_type": "stream",
       "stream": "stdout",
       "text": [
        "\r",
        "  8269824 of 30326502    27% in   76s   105.75 kB/s"
       ]
      },
      {
       "output_type": "stream",
       "stream": "stdout",
       "text": [
        "\r",
        "  8273920 of 30326502    27% in   76s   105.67 kB/s"
       ]
      },
      {
       "output_type": "stream",
       "stream": "stdout",
       "text": [
        "\r",
        "  8278016 of 30326502    27% in   76s   105.68 kB/s"
       ]
      },
      {
       "output_type": "stream",
       "stream": "stdout",
       "text": [
        "\r",
        "  8282112 of 30326502    27% in   76s   105.53 kB/s\r",
        "  8286208 of 30326502    27% in   76s   105.57 kB/s"
       ]
      },
      {
       "output_type": "stream",
       "stream": "stdout",
       "text": [
        "\r",
        "  8290304 of 30326502    27% in   77s   105.05 kB/s\r",
        "  8294400 of 30326502    27% in   77s   105.10 kB/s\r",
        "  8298496 of 30326502    27% in   77s   105.15 kB/s\r",
        "  8302592 of 30326502    27% in   77s   105.20 kB/s\r",
        "  8306688 of 30326502    27% in   77s   105.25 kB/s\r",
        "  8310784 of 30326502    27% in   77s   105.30 kB/s"
       ]
      },
      {
       "output_type": "stream",
       "stream": "stdout",
       "text": [
        "\r",
        "  8314880 of 30326502    27% in   77s   105.17 kB/s\r",
        "  8318976 of 30326502    27% in   77s   105.20 kB/s"
       ]
      },
      {
       "output_type": "stream",
       "stream": "stdout",
       "text": [
        "\r",
        "  8323072 of 30326502    27% in   77s   105.07 kB/s"
       ]
      },
      {
       "output_type": "stream",
       "stream": "stdout",
       "text": [
        "\r",
        "  8327168 of 30326502    27% in   77s   104.94 kB/s\r",
        "  8331264 of 30326502    27% in   77s   104.97 kB/s"
       ]
      },
      {
       "output_type": "stream",
       "stream": "stdout",
       "text": [
        "\r",
        "  8335360 of 30326502    27% in   77s   104.84 kB/s"
       ]
      },
      {
       "output_type": "stream",
       "stream": "stdout",
       "text": [
        "\r",
        "  8339456 of 30326502    27% in   77s   104.71 kB/s"
       ]
      },
      {
       "output_type": "stream",
       "stream": "stdout",
       "text": [
        "\r",
        "  8343552 of 30326502    27% in   77s   104.60 kB/s"
       ]
      },
      {
       "output_type": "stream",
       "stream": "stdout",
       "text": [
        "\r",
        "  8347648 of 30326502    27% in   77s   104.61 kB/s"
       ]
      },
      {
       "output_type": "stream",
       "stream": "stdout",
       "text": [
        "\r",
        "  8351744 of 30326502    27% in   78s   104.47 kB/s\r",
        "  8355840 of 30326502    27% in   78s   104.52 kB/s"
       ]
      },
      {
       "output_type": "stream",
       "stream": "stdout",
       "text": [
        "\r",
        "  8359936 of 30326502    27% in   78s   104.40 kB/s"
       ]
      },
      {
       "output_type": "stream",
       "stream": "stdout",
       "text": [
        "\r",
        "  8364032 of 30326502    27% in   78s   104.26 kB/s"
       ]
      },
      {
       "output_type": "stream",
       "stream": "stdout",
       "text": [
        "\r",
        "  8368128 of 30326502    27% in   78s   104.29 kB/s"
       ]
      },
      {
       "output_type": "stream",
       "stream": "stdout",
       "text": [
        "\r",
        "  8372224 of 30326502    27% in   78s   104.18 kB/s"
       ]
      },
      {
       "output_type": "stream",
       "stream": "stdout",
       "text": [
        "\r",
        "  8376320 of 30326502    27% in   78s   104.04 kB/s\r",
        "  8380416 of 30326502    27% in   78s   104.08 kB/s\r",
        "  8384512 of 30326502    27% in   78s   104.11 kB/s"
       ]
      },
      {
       "output_type": "stream",
       "stream": "stdout",
       "text": [
        "\r",
        "  8388608 of 30326502    27% in   78s   104.00 kB/s"
       ]
      },
      {
       "output_type": "stream",
       "stream": "stdout",
       "text": [
        "\r",
        "  8392704 of 30326502    27% in   78s   103.86 kB/s"
       ]
      },
      {
       "output_type": "stream",
       "stream": "stdout",
       "text": [
        "\r",
        "  8396800 of 30326502    27% in   78s   103.89 kB/s"
       ]
      },
      {
       "output_type": "stream",
       "stream": "stdout",
       "text": [
        "\r",
        "  8400896 of 30326502    27% in   79s   103.78 kB/s"
       ]
      },
      {
       "output_type": "stream",
       "stream": "stdout",
       "text": [
        "\r",
        "  8404992 of 30326502    27% in   79s   103.66 kB/s\r",
        "  8409088 of 30326502    27% in   79s   103.69 kB/s\r",
        "  8413184 of 30326502    27% in   79s   103.71 kB/s"
       ]
      },
      {
       "output_type": "stream",
       "stream": "stdout",
       "text": [
        "\r",
        "  8417280 of 30326502    27% in   79s   103.07 kB/s\r",
        "  8421376 of 30326502    27% in   79s   103.12 kB/s\r",
        "  8425472 of 30326502    27% in   79s   103.17 kB/s\r",
        "  8429568 of 30326502    27% in   79s   103.22 kB/s\r",
        "  8433664 of 30326502    27% in   79s   103.27 kB/s\r",
        "  8437760 of 30326502    27% in   79s   103.31 kB/s"
       ]
      },
      {
       "output_type": "stream",
       "stream": "stdout",
       "text": [
        "\r",
        "  8441856 of 30326502    27% in   79s   103.31 kB/s"
       ]
      },
      {
       "output_type": "stream",
       "stream": "stdout",
       "text": [
        "\r",
        "  8445952 of 30326502    27% in   80s   103.04 kB/s\r",
        "  8450048 of 30326502    27% in   80s   103.05 kB/s"
       ]
      },
      {
       "output_type": "stream",
       "stream": "stdout",
       "text": [
        "\r",
        "  8454144 of 30326502    27% in   80s   102.79 kB/s"
       ]
      },
      {
       "output_type": "stream",
       "stream": "stdout",
       "text": [
        "\r",
        "  8458240 of 30326502    27% in   80s   102.78 kB/s"
       ]
      },
      {
       "output_type": "stream",
       "stream": "stdout",
       "text": [
        "\r",
        "  8462336 of 30326502    27% in   80s   102.67 kB/s"
       ]
      },
      {
       "output_type": "stream",
       "stream": "stdout",
       "text": [
        "\r",
        "  8466432 of 30326502    27% in   80s   102.58 kB/s"
       ]
      },
      {
       "output_type": "stream",
       "stream": "stdout",
       "text": [
        "\r",
        "  8470528 of 30326502    27% in   80s   102.56 kB/s"
       ]
      },
      {
       "output_type": "stream",
       "stream": "stdout",
       "text": [
        "\r",
        "  8474624 of 30326502    27% in   80s   102.44 kB/s"
       ]
      },
      {
       "output_type": "stream",
       "stream": "stdout",
       "text": [
        "\r",
        "  8478720 of 30326502    27% in   80s   102.34 kB/s\r",
        "  8482816 of 30326502    27% in   80s   102.34 kB/s"
       ]
      },
      {
       "output_type": "stream",
       "stream": "stdout",
       "text": [
        "\r",
        "  8486912 of 30326502    27% in   81s   102.23 kB/s"
       ]
      },
      {
       "output_type": "stream",
       "stream": "stdout",
       "text": [
        "\r",
        "  8491008 of 30326502    27% in   81s   102.13 kB/s"
       ]
      },
      {
       "output_type": "stream",
       "stream": "stdout",
       "text": [
        "\r",
        "  8495104 of 30326502    28% in   81s   102.12 kB/s"
       ]
      },
      {
       "output_type": "stream",
       "stream": "stdout",
       "text": [
        "\r",
        "  8499200 of 30326502    28% in   81s   102.02 kB/s"
       ]
      },
      {
       "output_type": "stream",
       "stream": "stdout",
       "text": [
        "\r",
        "  8503296 of 30326502    28% in   81s   101.93 kB/s"
       ]
      },
      {
       "output_type": "stream",
       "stream": "stdout",
       "text": [
        "\r",
        "  8507392 of 30326502    28% in   81s   101.90 kB/s"
       ]
      },
      {
       "output_type": "stream",
       "stream": "stdout",
       "text": [
        "\r",
        "  8511488 of 30326502    28% in   81s   101.81 kB/s"
       ]
      },
      {
       "output_type": "stream",
       "stream": "stdout",
       "text": [
        "\r",
        "  8515584 of 30326502    28% in   81s   101.74 kB/s"
       ]
      },
      {
       "output_type": "stream",
       "stream": "stdout",
       "text": [
        "\r",
        "  8519680 of 30326502    28% in   81s   101.69 kB/s\r",
        "  8523776 of 30326502    28% in   81s   101.73 kB/s"
       ]
      },
      {
       "output_type": "stream",
       "stream": "stdout",
       "text": [
        "\r",
        "  8527872 of 30326502    28% in   81s   101.65 kB/s"
       ]
      },
      {
       "output_type": "stream",
       "stream": "stdout",
       "text": [
        "\r",
        "  8531968 of 30326502    28% in   82s   101.56 kB/s"
       ]
      },
      {
       "output_type": "stream",
       "stream": "stdout",
       "text": [
        "\r",
        "  8536064 of 30326502    28% in   82s   101.54 kB/s"
       ]
      },
      {
       "output_type": "stream",
       "stream": "stdout",
       "text": [
        "\r",
        "  8540160 of 30326502    28% in   82s   101.45 kB/s"
       ]
      },
      {
       "output_type": "stream",
       "stream": "stdout",
       "text": [
        "\r",
        "  8544256 of 30326502    28% in   82s   101.36 kB/s\r",
        "  8548352 of 30326502    28% in   82s   101.40 kB/s"
       ]
      },
      {
       "output_type": "stream",
       "stream": "stdout",
       "text": [
        "\r",
        "  8552448 of 30326502    28% in   82s   101.38 kB/s"
       ]
      },
      {
       "output_type": "stream",
       "stream": "stdout",
       "text": [
        "\r",
        "  8556544 of 30326502    28% in   82s   101.29 kB/s"
       ]
      },
      {
       "output_type": "stream",
       "stream": "stdout",
       "text": [
        "\r",
        "  8560640 of 30326502    28% in   82s   101.20 kB/s"
       ]
      },
      {
       "output_type": "stream",
       "stream": "stdout",
       "text": [
        "\r",
        "  8564736 of 30326502    28% in   82s   101.24 kB/s"
       ]
      },
      {
       "output_type": "stream",
       "stream": "stdout",
       "text": [
        "\r",
        "  8568832 of 30326502    28% in   82s   101.23 kB/s"
       ]
      },
      {
       "output_type": "stream",
       "stream": "stdout",
       "text": [
        "\r",
        "  8572928 of 30326502    28% in   82s   101.13 kB/s"
       ]
      },
      {
       "output_type": "stream",
       "stream": "stdout",
       "text": [
        "\r",
        "  8577024 of 30326502    28% in   82s   101.05 kB/s\r",
        "  8581120 of 30326502    28% in   82s   101.09 kB/s"
       ]
      },
      {
       "output_type": "stream",
       "stream": "stdout",
       "text": [
        "\r",
        "  8585216 of 30326502    28% in   82s   101.08 kB/s"
       ]
      },
      {
       "output_type": "stream",
       "stream": "stdout",
       "text": [
        "\r",
        "  8589312 of 30326502    28% in   83s   100.98 kB/s\r",
        "  8593408 of 30326502    28% in   83s   101.02 kB/s"
       ]
      },
      {
       "output_type": "stream",
       "stream": "stdout",
       "text": [
        "\r",
        "  8597504 of 30326502    28% in   83s   100.94 kB/s\r",
        "  8601600 of 30326502    28% in   83s   100.93 kB/s"
       ]
      },
      {
       "output_type": "stream",
       "stream": "stdout",
       "text": [
        "\r",
        "  8605696 of 30326502    28% in   83s   100.83 kB/s\r",
        "  8609792 of 30326502    28% in   83s   100.87 kB/s"
       ]
      },
      {
       "output_type": "stream",
       "stream": "stdout",
       "text": [
        "\r",
        "  8613888 of 30326502    28% in   83s   100.78 kB/s\r",
        "  8617984 of 30326502    28% in   83s   100.82 kB/s"
       ]
      },
      {
       "output_type": "stream",
       "stream": "stdout",
       "text": [
        "\r",
        "  8622080 of 30326502    28% in   83s   100.83 kB/s"
       ]
      },
      {
       "output_type": "stream",
       "stream": "stdout",
       "text": [
        "\r",
        "  8626176 of 30326502    28% in   83s   100.73 kB/s\r",
        "  8630272 of 30326502    28% in   83s   100.76 kB/s"
       ]
      },
      {
       "output_type": "stream",
       "stream": "stdout",
       "text": [
        "\r",
        "  8634368 of 30326502    28% in   83s   100.68 kB/s\r",
        "  8638464 of 30326502    28% in   83s   100.68 kB/s"
       ]
      },
      {
       "output_type": "stream",
       "stream": "stdout",
       "text": [
        "\r",
        "  8642560 of 30326502    28% in   83s   100.71 kB/s"
       ]
      },
      {
       "output_type": "stream",
       "stream": "stdout",
       "text": [
        "\r",
        "  8646656 of 30326502    28% in   83s   100.62 kB/s\r",
        "  8650752 of 30326502    28% in   83s   100.66 kB/s\r",
        "  8654848 of 30326502    28% in   83s   100.69 kB/s"
       ]
      },
      {
       "output_type": "stream",
       "stream": "stdout",
       "text": [
        "\r",
        "  8658944 of 30326502    28% in   84s   100.61 kB/s"
       ]
      },
      {
       "output_type": "stream",
       "stream": "stdout",
       "text": [
        "\r",
        "  8663040 of 30326502    28% in   84s   100.62 kB/s\r",
        "  8667136 of 30326502    28% in   84s   100.65 kB/s"
       ]
      },
      {
       "output_type": "stream",
       "stream": "stdout",
       "text": [
        "\r",
        "  8671232 of 30326502    28% in   84s   100.56 kB/s\r",
        "  8675328 of 30326502    28% in   84s   100.59 kB/s"
       ]
      },
      {
       "output_type": "stream",
       "stream": "stdout",
       "text": [
        "\r",
        "  8679424 of 30326502    28% in   84s   100.52 kB/s\r",
        "  8683520 of 30326502    28% in   84s   100.53 kB/s"
       ]
      },
      {
       "output_type": "stream",
       "stream": "stdout",
       "text": [
        "\r",
        "  8687616 of 30326502    28% in   84s   100.56 kB/s\r",
        "  8691712 of 30326502    28% in   84s   100.60 kB/s"
       ]
      },
      {
       "output_type": "stream",
       "stream": "stdout",
       "text": [
        "\r",
        "  8695808 of 30326502    28% in   84s   100.50 kB/s\r",
        "  8699904 of 30326502    28% in   84s   100.54 kB/s\r",
        "  8704000 of 30326502    28% in   84s   100.58 kB/s"
       ]
      },
      {
       "output_type": "stream",
       "stream": "stdout",
       "text": [
        "\r",
        "  8708096 of 30326502    28% in   84s   100.51 kB/s"
       ]
      },
      {
       "output_type": "stream",
       "stream": "stdout",
       "text": [
        "\r",
        "  8712192 of 30326502    28% in   84s   100.52 kB/s\r",
        "  8716288 of 30326502    28% in   84s   100.55 kB/s"
       ]
      },
      {
       "output_type": "stream",
       "stream": "stdout",
       "text": [
        "\r",
        "  8720384 of 30326502    28% in   84s   100.58 kB/s\r",
        "  8724480 of 30326502    28% in   84s   100.62 kB/s"
       ]
      },
      {
       "output_type": "stream",
       "stream": "stdout",
       "text": [
        "\r",
        "  8728576 of 30326502    28% in   84s   100.54 kB/s\r",
        "  8732672 of 30326502    28% in   84s   100.58 kB/s\r",
        "  8736768 of 30326502    28% in   84s   100.61 kB/s"
       ]
      },
      {
       "output_type": "stream",
       "stream": "stdout",
       "text": [
        "\r",
        "  8740864 of 30326502    28% in   84s   100.55 kB/s\r",
        "  8744960 of 30326502    28% in   84s   100.57 kB/s"
       ]
      },
      {
       "output_type": "stream",
       "stream": "stdout",
       "text": [
        "\r",
        "  8749056 of 30326502    28% in   84s   100.61 kB/s\r",
        "  8753152 of 30326502    28% in   84s   100.64 kB/s\r",
        "  8757248 of 30326502    28% in   84s   100.68 kB/s\r",
        "  8761344 of 30326502    28% in   84s   100.71 kB/s"
       ]
      },
      {
       "output_type": "stream",
       "stream": "stdout",
       "text": [
        "\r",
        "  8765440 of 30326502    28% in   85s   100.63 kB/s"
       ]
      },
      {
       "output_type": "stream",
       "stream": "stdout",
       "text": [
        "\r",
        "  8769536 of 30326502    28% in   85s   100.66 kB/s\r",
        "  8773632 of 30326502    28% in   85s   100.70 kB/s\r",
        "  8777728 of 30326502    28% in   85s   100.74 kB/s"
       ]
      },
      {
       "output_type": "stream",
       "stream": "stdout",
       "text": [
        "\r",
        "  8781824 of 30326502    28% in   85s   100.69 kB/s"
       ]
      },
      {
       "output_type": "stream",
       "stream": "stdout",
       "text": [
        "\r",
        "  8785920 of 30326502    28% in   85s   100.72 kB/s\r",
        "  8790016 of 30326502    28% in   85s   100.74 kB/s\r",
        "  8794112 of 30326502    28% in   85s   100.78 kB/s\r",
        "  8798208 of 30326502    29% in   85s   100.81 kB/s"
       ]
      },
      {
       "output_type": "stream",
       "stream": "stdout",
       "text": [
        "\r",
        "  8802304 of 30326502    29% in   85s   100.85 kB/s\r",
        "  8806400 of 30326502    29% in   85s   100.89 kB/s"
       ]
      },
      {
       "output_type": "stream",
       "stream": "stdout",
       "text": [
        "\r",
        "  8810496 of 30326502    29% in   85s   100.82 kB/s\r",
        "  8814592 of 30326502    29% in   85s   100.85 kB/s\r",
        "  8818688 of 30326502    29% in   85s   100.89 kB/s\r",
        "  8822784 of 30326502    29% in   85s   100.92 kB/s"
       ]
      },
      {
       "output_type": "stream",
       "stream": "stdout",
       "text": [
        "\r",
        "  8826880 of 30326502    29% in   85s   100.96 kB/s"
       ]
      },
      {
       "output_type": "stream",
       "stream": "stdout",
       "text": [
        "\r",
        "  8830976 of 30326502    29% in   85s   100.92 kB/s\r",
        "  8835072 of 30326502    29% in   85s   100.95 kB/s"
       ]
      },
      {
       "output_type": "stream",
       "stream": "stdout",
       "text": [
        "\r",
        "  8839168 of 30326502    29% in   85s   100.98 kB/s\r",
        "  8843264 of 30326502    29% in   85s   101.01 kB/s\r",
        "  8847360 of 30326502    29% in   85s   101.04 kB/s\r",
        "  8851456 of 30326502    29% in   85s   101.09 kB/s\r",
        "  8855552 of 30326502    29% in   85s   101.12 kB/s\r",
        "  8859648 of 30326502    29% in   85s   101.16 kB/s"
       ]
      },
      {
       "output_type": "stream",
       "stream": "stdout",
       "text": [
        "\r",
        "  8863744 of 30326502    29% in   85s   101.20 kB/s"
       ]
      },
      {
       "output_type": "stream",
       "stream": "stdout",
       "text": [
        "\r",
        "  8867840 of 30326502    29% in   85s   101.14 kB/s\r",
        "  8871936 of 30326502    29% in   85s   101.17 kB/s"
       ]
      },
      {
       "output_type": "stream",
       "stream": "stdout",
       "text": [
        "\r",
        "  8876032 of 30326502    29% in   85s   101.21 kB/s\r",
        "  8880128 of 30326502    29% in   85s   101.24 kB/s\r",
        "  8884224 of 30326502    29% in   85s   101.28 kB/s\r",
        "  8888320 of 30326502    29% in   85s   101.32 kB/s\r",
        "  8892416 of 30326502    29% in   85s   101.36 kB/s"
       ]
      },
      {
       "output_type": "stream",
       "stream": "stdout",
       "text": [
        "\r",
        "  8896512 of 30326502    29% in   85s   101.32 kB/s\r",
        "  8900608 of 30326502    29% in   85s   101.36 kB/s\r",
        "  8904704 of 30326502    29% in   85s   101.39 kB/s\r",
        "  8908800 of 30326502    29% in   85s   101.43 kB/s\r",
        "  8912896 of 30326502    29% in   85s   101.47 kB/s"
       ]
      },
      {
       "output_type": "stream",
       "stream": "stdout",
       "text": [
        "\r",
        "  8916992 of 30326502    29% in   85s   101.50 kB/s\r",
        "  8921088 of 30326502    29% in   85s   101.54 kB/s\r",
        "  8925184 of 30326502    29% in   85s   101.57 kB/s\r",
        "  8929280 of 30326502    29% in   85s   101.61 kB/s\r",
        "  8933376 of 30326502    29% in   85s   101.65 kB/s\r",
        "  8937472 of 30326502    29% in   85s   101.68 kB/s"
       ]
      },
      {
       "output_type": "stream",
       "stream": "stdout",
       "text": [
        "\r",
        "  8941568 of 30326502    29% in   85s   101.72 kB/s"
       ]
      },
      {
       "output_type": "stream",
       "stream": "stdout",
       "text": [
        "\r",
        "  8945664 of 30326502    29% in   85s   101.69 kB/s\r",
        "  8949760 of 30326502    29% in   85s   101.72 kB/s\r",
        "  8953856 of 30326502    29% in   85s   101.76 kB/s\r",
        "  8957952 of 30326502    29% in   85s   101.79 kB/s\r",
        "  8962048 of 30326502    29% in   85s   101.83 kB/s"
       ]
      },
      {
       "output_type": "stream",
       "stream": "stdout",
       "text": [
        "\r",
        "  8966144 of 30326502    29% in   85s   101.87 kB/s\r",
        "  8970240 of 30326502    29% in   85s   101.91 kB/s\r",
        "  8974336 of 30326502    29% in   85s   101.94 kB/s\r",
        "  8978432 of 30326502    29% in   85s   101.98 kB/s"
       ]
      },
      {
       "output_type": "stream",
       "stream": "stdout",
       "text": [
        "\r",
        "  8982528 of 30326502    29% in   86s   101.96 kB/s\r",
        "  8986624 of 30326502    29% in   86s   102.00 kB/s"
       ]
      },
      {
       "output_type": "stream",
       "stream": "stdout",
       "text": [
        "\r",
        "  8990720 of 30326502    29% in   86s   102.04 kB/s\r",
        "  8994816 of 30326502    29% in   86s   102.07 kB/s\r",
        "  8998912 of 30326502    29% in   86s   102.11 kB/s\r",
        "  9003008 of 30326502    29% in   86s   102.15 kB/s\r",
        "  9007104 of 30326502    29% in   86s   102.18 kB/s\r",
        "  9011200 of 30326502    29% in   86s   102.22 kB/s"
       ]
      },
      {
       "output_type": "stream",
       "stream": "stdout",
       "text": [
        "\r",
        "  9015296 of 30326502    29% in   86s   102.26 kB/s\r",
        "  9019392 of 30326502    29% in   86s   102.29 kB/s\r",
        "  9023488 of 30326502    29% in   86s   102.33 kB/s\r",
        "  9027584 of 30326502    29% in   86s   102.36 kB/s\r",
        "  9031680 of 30326502    29% in   86s   102.40 kB/s\r",
        "  9035776 of 30326502    29% in   86s   102.43 kB/s"
       ]
      },
      {
       "output_type": "stream",
       "stream": "stdout",
       "text": [
        "\r",
        "  9039872 of 30326502    29% in   86s   102.47 kB/s\r",
        "  9043968 of 30326502    29% in   86s   102.47 kB/s"
       ]
      },
      {
       "output_type": "stream",
       "stream": "stdout",
       "text": [
        "\r",
        "  9048064 of 30326502    29% in   86s   102.51 kB/s\r",
        "  9052160 of 30326502    29% in   86s   102.54 kB/s\r",
        "  9056256 of 30326502    29% in   86s   102.58 kB/s\r",
        "  9060352 of 30326502    29% in   86s   102.61 kB/s\r",
        "  9064448 of 30326502    29% in   86s   102.65 kB/s\r",
        "  9068544 of 30326502    29% in   86s   102.69 kB/s"
       ]
      },
      {
       "output_type": "stream",
       "stream": "stdout",
       "text": [
        "\r",
        "  9072640 of 30326502    29% in   86s   102.72 kB/s\r",
        "  9076736 of 30326502    29% in   86s   102.76 kB/s\r",
        "  9080832 of 30326502    29% in   86s   102.80 kB/s\r",
        "  9084928 of 30326502    29% in   86s   102.83 kB/s"
       ]
      },
      {
       "output_type": "stream",
       "stream": "stdout",
       "text": [
        "\r",
        "  9089024 of 30326502    29% in   86s   102.83 kB/s\r",
        "  9093120 of 30326502    29% in   86s   102.87 kB/s\r",
        "  9097216 of 30326502    29% in   86s   102.90 kB/s\r",
        "  9101312 of 30326502    30% in   86s   102.94 kB/s"
       ]
      },
      {
       "output_type": "stream",
       "stream": "stdout",
       "text": [
        "\r",
        "  9105408 of 30326502    30% in   86s   102.97 kB/s\r",
        "  9109504 of 30326502    30% in   86s   103.01 kB/s\r",
        "  9113600 of 30326502    30% in   86s   103.04 kB/s\r",
        "  9117696 of 30326502    30% in   86s   103.08 kB/s\r",
        "  9121792 of 30326502    30% in   86s   103.12 kB/s\r",
        "  9125888 of 30326502    30% in   86s   103.15 kB/s"
       ]
      },
      {
       "output_type": "stream",
       "stream": "stdout",
       "text": [
        "\r",
        "  9129984 of 30326502    30% in   86s   103.19 kB/s\r",
        "  9134080 of 30326502    30% in   86s   103.23 kB/s\r",
        "  9138176 of 30326502    30% in   86s   103.26 kB/s\r",
        "  9142272 of 30326502    30% in   86s   103.29 kB/s\r",
        "  9146368 of 30326502    30% in   86s   103.33 kB/s\r",
        "  9150464 of 30326502    30% in   86s   103.37 kB/s"
       ]
      },
      {
       "output_type": "stream",
       "stream": "stdout",
       "text": [
        "\r",
        "  9154560 of 30326502    30% in   86s   103.41 kB/s\r",
        "  9158656 of 30326502    30% in   86s   103.44 kB/s\r",
        "  9162752 of 30326502    30% in   86s   103.48 kB/s\r",
        "  9166848 of 30326502    30% in   86s   103.51 kB/s\r",
        "  9170944 of 30326502    30% in   86s   103.55 kB/s\r",
        "  9175040 of 30326502    30% in   86s   103.59 kB/s"
       ]
      },
      {
       "output_type": "stream",
       "stream": "stdout",
       "text": [
        "\r",
        "  9179136 of 30326502    30% in   86s   103.62 kB/s\r",
        "  9183232 of 30326502    30% in   86s   103.66 kB/s\r",
        "  9187328 of 30326502    30% in   86s   103.69 kB/s\r",
        "  9191424 of 30326502    30% in   86s   103.73 kB/s\r",
        "  9195520 of 30326502    30% in   86s   103.77 kB/s\r",
        "  9199616 of 30326502    30% in   86s   103.80 kB/s"
       ]
      },
      {
       "output_type": "stream",
       "stream": "stdout",
       "text": [
        "\r",
        "  9203712 of 30326502    30% in   86s   103.84 kB/s\r",
        "  9207808 of 30326502    30% in   86s   103.87 kB/s\r",
        "  9211904 of 30326502    30% in   86s   103.91 kB/s\r",
        "  9216000 of 30326502    30% in   86s   103.95 kB/s\r",
        "  9220096 of 30326502    30% in   86s   103.97 kB/s\r",
        "  9224192 of 30326502    30% in   86s   104.01 kB/s"
       ]
      },
      {
       "output_type": "stream",
       "stream": "stdout",
       "text": [
        "\r",
        "  9228288 of 30326502    30% in   86s   104.05 kB/s\r",
        "  9232384 of 30326502    30% in   86s   104.08 kB/s\r",
        "  9236480 of 30326502    30% in   86s   104.12 kB/s\r",
        "  9240576 of 30326502    30% in   86s   104.15 kB/s\r",
        "  9244672 of 30326502    30% in   86s   104.19 kB/s"
       ]
      },
      {
       "output_type": "stream",
       "stream": "stdout",
       "text": [
        "\r",
        "  9248768 of 30326502    30% in   86s   104.22 kB/s\r",
        "  9252864 of 30326502    30% in   86s   104.26 kB/s\r",
        "  9256960 of 30326502    30% in   86s   104.30 kB/s\r",
        "  9261056 of 30326502    30% in   86s   104.33 kB/s\r",
        "  9265152 of 30326502    30% in   86s   104.37 kB/s\r",
        "  9269248 of 30326502    30% in   86s   104.40 kB/s"
       ]
      },
      {
       "output_type": "stream",
       "stream": "stdout",
       "text": [
        "\r",
        "  9273344 of 30326502    30% in   86s   104.44 kB/s\r",
        "  9277440 of 30326502    30% in   86s   104.48 kB/s\r",
        "  9281536 of 30326502    30% in   86s   104.51 kB/s\r",
        "  9285632 of 30326502    30% in   86s   104.55 kB/s\r",
        "  9289728 of 30326502    30% in   86s   104.58 kB/s\r",
        "  9293824 of 30326502    30% in   86s   104.62 kB/s"
       ]
      },
      {
       "output_type": "stream",
       "stream": "stdout",
       "text": [
        "\r",
        "  9297920 of 30326502    30% in   86s   104.65 kB/s\r",
        "  9302016 of 30326502    30% in   86s   104.69 kB/s\r",
        "  9306112 of 30326502    30% in   86s   104.73 kB/s\r",
        "  9310208 of 30326502    30% in   86s   104.76 kB/s\r",
        "  9314304 of 30326502    30% in   86s   104.80 kB/s\r",
        "  9318400 of 30326502    30% in   86s   104.83 kB/s\r",
        "  9322496 of 30326502    30% in   86s   104.87 kB/s"
       ]
      },
      {
       "output_type": "stream",
       "stream": "stdout",
       "text": [
        "\r",
        "  9326592 of 30326502    30% in   86s   104.91 kB/s\r",
        "  9330688 of 30326502    30% in   86s   104.94 kB/s\r",
        "  9334784 of 30326502    30% in   86s   104.98 kB/s\r",
        "  9338880 of 30326502    30% in   86s   105.00 kB/s\r",
        "  9342976 of 30326502    30% in   86s   105.04 kB/s"
       ]
      },
      {
       "output_type": "stream",
       "stream": "stdout",
       "text": [
        "\r",
        "  9347072 of 30326502    30% in   86s   105.07 kB/s\r",
        "  9351168 of 30326502    30% in   86s   105.11 kB/s\r",
        "  9355264 of 30326502    30% in   86s   105.15 kB/s\r",
        "  9359360 of 30326502    30% in   86s   105.18 kB/s\r",
        "  9363456 of 30326502    30% in   86s   105.22 kB/s\r",
        "  9367552 of 30326502    30% in   86s   105.25 kB/s"
       ]
      },
      {
       "output_type": "stream",
       "stream": "stdout",
       "text": [
        "\r",
        "  9371648 of 30326502    30% in   86s   105.29 kB/s\r",
        "  9375744 of 30326502    30% in   86s   105.32 kB/s\r",
        "  9379840 of 30326502    30% in   86s   105.36 kB/s\r",
        "  9383936 of 30326502    30% in   86s   105.40 kB/s\r",
        "  9388032 of 30326502    30% in   86s   105.43 kB/s"
       ]
      },
      {
       "output_type": "stream",
       "stream": "stdout",
       "text": [
        "\r",
        "  9392128 of 30326502    30% in   86s   105.47 kB/s\r",
        "  9396224 of 30326502    30% in   86s   105.50 kB/s\r",
        "  9400320 of 30326502    30% in   86s   105.54 kB/s\r",
        "  9404416 of 30326502    31% in   86s   105.57 kB/s\r",
        "  9408512 of 30326502    31% in   86s   105.61 kB/s\r",
        "  9412608 of 30326502    31% in   87s   105.65 kB/s"
       ]
      },
      {
       "output_type": "stream",
       "stream": "stdout",
       "text": [
        "\r",
        "  9416704 of 30326502    31% in   87s   104.96 kB/s\r",
        "  9420800 of 30326502    31% in   87s   105.01 kB/s\r",
        "  9424896 of 30326502    31% in   87s   105.06 kB/s\r",
        "  9428992 of 30326502    31% in   87s   105.10 kB/s\r",
        "  9433088 of 30326502    31% in   87s   105.15 kB/s\r",
        "  9437184 of 30326502    31% in   87s   105.19 kB/s\r",
        "  9441280 of 30326502    31% in   87s   105.24 kB/s\r",
        "  9445376 of 30326502    31% in   87s   105.27 kB/s\r",
        "  9449472 of 30326502    31% in   87s   105.32 kB/s\r",
        "  9453568 of 30326502    31% in   87s   105.36 kB/s\r",
        "  9457664 of 30326502    31% in   87s   105.41 kB/s\r",
        "  9461760 of 30326502    31% in   87s   105.45 kB/s\r",
        "  9465856 of 30326502    31% in   87s   105.50 kB/s\r",
        "  9469952 of 30326502    31% in   87s   105.54 kB/s\r",
        "  9474048 of 30326502    31% in   87s   105.59 kB/s\r",
        "  9478144 of 30326502    31% in   87s   105.63 kB/s\r",
        "  9482240 of 30326502    31% in   87s   105.68 kB/s\r",
        "  9486336 of 30326502    31% in   87s   105.72 kB/s\r",
        "  9490432 of 30326502    31% in   87s   105.77 kB/s\r",
        "  9494528 of 30326502    31% in   87s   105.81 kB/s\r",
        "  9498624 of 30326502    31% in   87s   105.86 kB/s\r",
        "  9502720 of 30326502    31% in   87s   105.90 kB/s\r",
        "  9506816 of 30326502    31% in   87s   105.95 kB/s\r",
        "  9510912 of 30326502    31% in   87s   106.00 kB/s\r",
        "  9515008 of 30326502    31% in   87s   106.04 kB/s\r",
        "  9519104 of 30326502    31% in   87s   106.09 kB/s\r",
        "  9523200 of 30326502    31% in   87s   106.13 kB/s\r",
        "  9527296 of 30326502    31% in   87s   106.18 kB/s\r",
        "  9531392 of 30326502    31% in   87s   106.22 kB/s\r",
        "  9535488 of 30326502    31% in   87s   106.27 kB/s\r",
        "  9539584 of 30326502    31% in   87s   106.31 kB/s\r",
        "  9543680 of 30326502    31% in   87s   106.36 kB/s\r",
        "  9547776 of 30326502    31% in   87s   106.41 kB/s\r",
        "  9551872 of 30326502    31% in   87s   106.45 kB/s\r",
        "  9555968 of 30326502    31% in   87s   106.50 kB/s\r",
        "  9560064 of 30326502    31% in   87s   106.54 kB/s\r",
        "  9564160 of 30326502    31% in   87s   106.59 kB/s\r",
        "  9568256 of 30326502    31% in   87s   106.63 kB/s\r",
        "  9572352 of 30326502    31% in   87s   106.68 kB/s\r",
        "  9576448 of 30326502    31% in   87s   106.72 kB/s\r",
        "  9580544 of 30326502    31% in   87s   106.77 kB/s"
       ]
      },
      {
       "output_type": "stream",
       "stream": "stdout",
       "text": [
        "\r",
        "  9584640 of 30326502    31% in   87s   106.76 kB/s\r",
        "  9588736 of 30326502    31% in   87s   106.80 kB/s\r",
        "  9592832 of 30326502    31% in   87s   106.85 kB/s\r",
        "  9596928 of 30326502    31% in   87s   106.89 kB/s\r",
        "  9601024 of 30326502    31% in   87s   106.94 kB/s\r",
        "  9605120 of 30326502    31% in   87s   106.98 kB/s\r",
        "  9609216 of 30326502    31% in   87s   107.03 kB/s\r",
        "  9613312 of 30326502    31% in   87s   107.07 kB/s\r",
        "  9617408 of 30326502    31% in   87s   107.12 kB/s\r",
        "  9621504 of 30326502    31% in   87s   107.16 kB/s\r",
        "  9625600 of 30326502    31% in   87s   107.21 kB/s\r",
        "  9629696 of 30326502    31% in   87s   107.25 kB/s\r",
        "  9633792 of 30326502    31% in   87s   107.30 kB/s\r",
        "  9637888 of 30326502    31% in   87s   107.35 kB/s\r",
        "  9641984 of 30326502    31% in   87s   107.39 kB/s\r",
        "  9646080 of 30326502    31% in   87s   107.44 kB/s\r",
        "  9650176 of 30326502    31% in   87s   107.48 kB/s"
       ]
      },
      {
       "output_type": "stream",
       "stream": "stdout",
       "text": [
        "\r",
        "  9654272 of 30326502    31% in   87s   107.53 kB/s\r",
        "  9658368 of 30326502    31% in   87s   107.57 kB/s\r",
        "  9662464 of 30326502    31% in   87s   107.62 kB/s\r",
        "  9666560 of 30326502    31% in   87s   107.66 kB/s\r",
        "  9670656 of 30326502    31% in   87s   107.71 kB/s\r",
        "  9674752 of 30326502    31% in   87s   107.75 kB/s"
       ]
      },
      {
       "output_type": "stream",
       "stream": "stdout",
       "text": [
        "\r",
        "  9678848 of 30326502    31% in   87s   107.51 kB/s"
       ]
      },
      {
       "output_type": "stream",
       "stream": "stdout",
       "text": [
        "\r",
        "  9682944 of 30326502    31% in   87s   107.50 kB/s\r",
        "  9687040 of 30326502    31% in   87s   107.54 kB/s"
       ]
      },
      {
       "output_type": "stream",
       "stream": "stdout",
       "text": [
        "\r",
        "  9691136 of 30326502    31% in   88s   107.15 kB/s\r",
        "  9695232 of 30326502    31% in   88s   107.20 kB/s\r",
        "  9699328 of 30326502    31% in   88s   107.24 kB/s\r",
        "  9703424 of 30326502    31% in   88s   107.29 kB/s\r",
        "  9707520 of 30326502    32% in   88s   107.33 kB/s"
       ]
      },
      {
       "output_type": "stream",
       "stream": "stdout",
       "text": [
        "\r",
        "  9711616 of 30326502    32% in   88s   106.89 kB/s\r",
        "  9715712 of 30326502    32% in   88s   106.93 kB/s\r",
        "  9719808 of 30326502    32% in   88s   106.97 kB/s\r",
        "  9723904 of 30326502    32% in   88s   107.02 kB/s\r",
        "  9728000 of 30326502    32% in   88s   107.06 kB/s\r",
        "  9732096 of 30326502    32% in   88s   107.10 kB/s\r",
        "  9736192 of 30326502    32% in   88s   107.14 kB/s\r",
        "  9740288 of 30326502    32% in   88s   107.19 kB/s\r",
        "  9744384 of 30326502    32% in   88s   107.23 kB/s"
       ]
      },
      {
       "output_type": "stream",
       "stream": "stdout",
       "text": [
        "\r",
        "  9748480 of 30326502    32% in   89s   106.94 kB/s\r",
        "  9752576 of 30326502    32% in   89s   106.98 kB/s\r",
        "  9756672 of 30326502    32% in   89s   107.01 kB/s\r",
        "  9760768 of 30326502    32% in   89s   107.04 kB/s\r",
        "  9764864 of 30326502    32% in   89s   107.08 kB/s"
       ]
      },
      {
       "output_type": "stream",
       "stream": "stdout",
       "text": [
        "\r",
        "  9768960 of 30326502    32% in   89s   107.12 kB/s\r",
        "  9773056 of 30326502    32% in   89s   107.15 kB/s\r",
        "  9777152 of 30326502    32% in   89s   107.19 kB/s\r",
        "  9781248 of 30326502    32% in   89s   107.22 kB/s\r",
        "  9785344 of 30326502    32% in   89s   107.26 kB/s\r",
        "  9789440 of 30326502    32% in   89s   107.29 kB/s"
       ]
      },
      {
       "output_type": "stream",
       "stream": "stdout",
       "text": [
        "\r",
        "  9793536 of 30326502    32% in   89s   107.32 kB/s\r",
        "  9797632 of 30326502    32% in   89s   107.36 kB/s\r",
        "  9801728 of 30326502    32% in   89s   107.39 kB/s\r",
        "  9805824 of 30326502    32% in   89s   107.43 kB/s"
       ]
      },
      {
       "output_type": "stream",
       "stream": "stdout",
       "text": [
        "\r",
        "  9809920 of 30326502    32% in   89s   107.27 kB/s"
       ]
      },
      {
       "output_type": "stream",
       "stream": "stdout",
       "text": [
        "\r",
        "  9814016 of 30326502    32% in   89s   107.31 kB/s\r",
        "  9818112 of 30326502    32% in   89s   107.32 kB/s\r",
        "  9822208 of 30326502    32% in   89s   107.36 kB/s\r",
        "  9826304 of 30326502    32% in   89s   107.40 kB/s\r",
        "  9830400 of 30326502    32% in   89s   107.44 kB/s\r",
        "  9834496 of 30326502    32% in   89s   107.48 kB/s\r",
        "  9838592 of 30326502    32% in   89s   107.52 kB/s"
       ]
      },
      {
       "output_type": "stream",
       "stream": "stdout",
       "text": [
        "\r",
        "  9842688 of 30326502    32% in   89s   107.55 kB/s\r",
        "  9846784 of 30326502    32% in   89s   107.59 kB/s\r",
        "  9850880 of 30326502    32% in   89s   107.62 kB/s\r",
        "  9854976 of 30326502    32% in   89s   107.65 kB/s\r",
        "  9859072 of 30326502    32% in   89s   107.69 kB/s\r",
        "  9863168 of 30326502    32% in   89s   107.73 kB/s"
       ]
      },
      {
       "output_type": "stream",
       "stream": "stdout",
       "text": [
        "\r",
        "  9867264 of 30326502    32% in   89s   107.76 kB/s\r",
        "  9871360 of 30326502    32% in   89s   107.79 kB/s\r",
        "  9875456 of 30326502    32% in   89s   107.83 kB/s\r",
        "  9879552 of 30326502    32% in   89s   107.86 kB/s\r",
        "  9883648 of 30326502    32% in   89s   107.90 kB/s\r",
        "  9887744 of 30326502    32% in   89s   107.93 kB/s"
       ]
      },
      {
       "output_type": "stream",
       "stream": "stdout",
       "text": [
        "\r",
        "  9891840 of 30326502    32% in   89s   107.96 kB/s\r",
        "  9895936 of 30326502    32% in   89s   108.00 kB/s\r",
        "  9900032 of 30326502    32% in   89s   108.03 kB/s\r",
        "  9904128 of 30326502    32% in   89s   108.06 kB/s"
       ]
      },
      {
       "output_type": "stream",
       "stream": "stdout",
       "text": [
        "\r",
        "  9908224 of 30326502    32% in   89s   108.07 kB/s"
       ]
      },
      {
       "output_type": "stream",
       "stream": "stdout",
       "text": [
        "\r",
        "  9912320 of 30326502    32% in   89s   108.04 kB/s\r",
        "  9916416 of 30326502    32% in   89s   108.08 kB/s\r",
        "  9920512 of 30326502    32% in   89s   108.11 kB/s"
       ]
      },
      {
       "output_type": "stream",
       "stream": "stdout",
       "text": [
        "\r",
        "  9924608 of 30326502    32% in   89s   108.12 kB/s\r",
        "  9928704 of 30326502    32% in   89s   108.15 kB/s\r",
        "  9932800 of 30326502    32% in   89s   108.18 kB/s\r",
        "  9936896 of 30326502    32% in   89s   108.22 kB/s"
       ]
      },
      {
       "output_type": "stream",
       "stream": "stdout",
       "text": [
        "\r",
        "  9940992 of 30326502    32% in   89s   108.26 kB/s\r",
        "  9945088 of 30326502    32% in   89s   108.29 kB/s\r",
        "  9949184 of 30326502    32% in   89s   108.33 kB/s\r",
        "  9953280 of 30326502    32% in   89s   108.35 kB/s\r",
        "  9957376 of 30326502    32% in   89s   108.39 kB/s\r",
        "  9961472 of 30326502    32% in   89s   108.43 kB/s"
       ]
      },
      {
       "output_type": "stream",
       "stream": "stdout",
       "text": [
        "\r",
        "  9965568 of 30326502    32% in   89s   108.47 kB/s\r",
        "  9969664 of 30326502    32% in   89s   108.50 kB/s\r",
        "  9973760 of 30326502    32% in   89s   108.53 kB/s\r",
        "  9977856 of 30326502    32% in   89s   108.57 kB/s\r",
        "  9981952 of 30326502    32% in   89s   108.60 kB/s\r",
        "  9986048 of 30326502    32% in   89s   108.63 kB/s"
       ]
      },
      {
       "output_type": "stream",
       "stream": "stdout",
       "text": [
        "\r",
        "  9990144 of 30326502    32% in   89s   108.67 kB/s"
       ]
      },
      {
       "output_type": "stream",
       "stream": "stdout",
       "text": [
        "\r",
        "  9994240 of 30326502    32% in   90s   107.99 kB/s"
       ]
      },
      {
       "output_type": "stream",
       "stream": "stdout",
       "text": [
        "\r",
        "  9998336 of 30326502    32% in   90s   108.03 kB/s\r",
        " 10002432 of 30326502    32% in   90s   108.07 kB/s\r",
        " 10006528 of 30326502    32% in   90s   108.11 kB/s\r",
        " 10010624 of 30326502    33% in   90s   108.15 kB/s\r",
        " 10014720 of 30326502    33% in   90s   108.20 kB/s\r",
        " 10018816 of 30326502    33% in   90s   108.24 kB/s\r",
        " 10022912 of 30326502    33% in   90s   108.29 kB/s\r",
        " 10027008 of 30326502    33% in   90s   108.33 kB/s\r",
        " 10031104 of 30326502    33% in   90s   108.37 kB/s\r",
        " 10035200 of 30326502    33% in   90s   108.42 kB/s\r",
        " 10039296 of 30326502    33% in   90s   108.46 kB/s\r",
        " 10043392 of 30326502    33% in   90s   108.51 kB/s\r",
        " 10047488 of 30326502    33% in   90s   108.55 kB/s\r",
        " 10051584 of 30326502    33% in   90s   108.60 kB/s\r",
        " 10055680 of 30326502    33% in   90s   108.64 kB/s\r",
        " 10059776 of 30326502    33% in   90s   108.68 kB/s\r",
        " 10063872 of 30326502    33% in   90s   108.73 kB/s\r",
        " 10067968 of 30326502    33% in   90s   108.77 kB/s\r",
        " 10072064 of 30326502    33% in   90s   108.82 kB/s\r",
        " 10076160 of 30326502    33% in   90s   108.86 kB/s\r",
        " 10080256 of 30326502    33% in   90s   108.90 kB/s\r",
        " 10084352 of 30326502    33% in   90s   108.95 kB/s\r",
        " 10088448 of 30326502    33% in   90s   108.99 kB/s\r",
        " 10092544 of 30326502    33% in   90s   109.04 kB/s\r",
        " 10096640 of 30326502    33% in   90s   109.08 kB/s\r",
        " 10100736 of 30326502    33% in   90s   109.12 kB/s\r",
        " 10104832 of 30326502    33% in   90s   109.17 kB/s\r",
        " 10108928 of 30326502    33% in   90s   109.21 kB/s\r",
        " 10113024 of 30326502    33% in   90s   109.26 kB/s\r",
        " 10117120 of 30326502    33% in   90s   109.30 kB/s\r",
        " 10121216 of 30326502    33% in   90s   109.34 kB/s\r",
        " 10125312 of 30326502    33% in   90s   109.39 kB/s\r",
        " 10129408 of 30326502    33% in   90s   109.43 kB/s\r",
        " 10133504 of 30326502    33% in   90s   109.48 kB/s\r",
        " 10137600 of 30326502    33% in   90s   109.52 kB/s\r",
        " 10141696 of 30326502    33% in   90s   109.57 kB/s\r",
        " 10145792 of 30326502    33% in   90s   109.61 kB/s\r",
        " 10149888 of 30326502    33% in   90s   109.65 kB/s\r",
        " 10153984 of 30326502    33% in   90s   109.70 kB/s\r",
        " 10158080 of 30326502    33% in   90s   109.74 kB/s\r",
        " 10162176 of 30326502    33% in   90s   109.79 kB/s\r",
        " 10166272 of 30326502    33% in   90s   109.83 kB/s\r",
        " 10170368 of 30326502    33% in   90s   109.87 kB/s\r",
        " 10174464 of 30326502    33% in   90s   109.92 kB/s\r",
        " 10178560 of 30326502    33% in   90s   109.96 kB/s\r",
        " 10182656 of 30326502    33% in   90s   110.01 kB/s\r",
        " 10186752 of 30326502    33% in   90s   110.05 kB/s\r",
        " 10190848 of 30326502    33% in   90s   110.09 kB/s\r",
        " 10194944 of 30326502    33% in   90s   110.14 kB/s\r",
        " 10199040 of 30326502    33% in   90s   110.18 kB/s\r",
        " 10203136 of 30326502    33% in   90s   110.23 kB/s\r",
        " 10207232 of 30326502    33% in   90s   110.27 kB/s\r",
        " 10211328 of 30326502    33% in   90s   110.32 kB/s\r",
        " 10215424 of 30326502    33% in   90s   110.36 kB/s\r",
        " 10219520 of 30326502    33% in   90s   110.40 kB/s\r",
        " 10223616 of 30326502    33% in   90s   110.45 kB/s\r",
        " 10227712 of 30326502    33% in   90s   110.49 kB/s\r",
        " 10231808 of 30326502    33% in   90s   110.54 kB/s\r",
        " 10235904 of 30326502    33% in   90s   110.58 kB/s\r",
        " 10240000 of 30326502    33% in   90s   110.62 kB/s\r",
        " 10244096 of 30326502    33% in   90s   110.67 kB/s\r",
        " 10248192 of 30326502    33% in   90s   110.71 kB/s\r",
        " 10252288 of 30326502    33% in   90s   110.74 kB/s"
       ]
      },
      {
       "output_type": "stream",
       "stream": "stdout",
       "text": [
        "\r",
        " 10256384 of 30326502    33% in   91s   110.00 kB/s\r",
        " 10260480 of 30326502    33% in   91s   110.03 kB/s"
       ]
      },
      {
       "output_type": "stream",
       "stream": "stdout",
       "text": [
        "\r",
        " 10264576 of 30326502    33% in   91s   109.19 kB/s\r",
        " 10268672 of 30326502    33% in   91s   109.23 kB/s\r",
        " 10272768 of 30326502    33% in   91s   109.28 kB/s\r",
        " 10276864 of 30326502    33% in   91s   109.32 kB/s\r",
        " 10280960 of 30326502    33% in   91s   109.36 kB/s\r",
        " 10285056 of 30326502    33% in   91s   109.41 kB/s"
       ]
      },
      {
       "output_type": "stream",
       "stream": "stdout",
       "text": [
        "\r",
        " 10289152 of 30326502    33% in   92s   109.11 kB/s\r",
        " 10293248 of 30326502    33% in   92s   109.15 kB/s\r",
        " 10297344 of 30326502    33% in   92s   109.18 kB/s"
       ]
      },
      {
       "output_type": "stream",
       "stream": "stdout",
       "text": [
        "\r",
        " 10301440 of 30326502    33% in   92s   109.05 kB/s"
       ]
      },
      {
       "output_type": "stream",
       "stream": "stdout",
       "text": [
        "\r",
        " 10305536 of 30326502    33% in   92s   108.95 kB/s"
       ]
      },
      {
       "output_type": "stream",
       "stream": "stdout",
       "text": [
        "\r",
        " 10309632 of 30326502    33% in   92s   108.98 kB/s\r",
        " 10313728 of 30326502    34% in   92s   109.01 kB/s"
       ]
      },
      {
       "output_type": "stream",
       "stream": "stdout",
       "text": [
        "\r",
        " 10317824 of 30326502    34% in   92s   108.90 kB/s"
       ]
      },
      {
       "output_type": "stream",
       "stream": "stdout",
       "text": [
        "\r",
        " 10321920 of 30326502    34% in   92s   108.78 kB/s\r",
        " 10326016 of 30326502    34% in   92s   108.82 kB/s\r",
        " 10330112 of 30326502    34% in   92s   108.85 kB/s"
       ]
      },
      {
       "output_type": "stream",
       "stream": "stdout",
       "text": [
        "\r",
        " 10334208 of 30326502    34% in   92s   108.74 kB/s"
       ]
      },
      {
       "output_type": "stream",
       "stream": "stdout",
       "text": [
        "\r",
        " 10338304 of 30326502    34% in   92s   108.64 kB/s"
       ]
      },
      {
       "output_type": "stream",
       "stream": "stdout",
       "text": [
        "\r",
        " 10342400 of 30326502    34% in   92s   108.66 kB/s\r",
        " 10346496 of 30326502    34% in   92s   108.69 kB/s\r",
        " 10350592 of 30326502    34% in   92s   108.72 kB/s"
       ]
      },
      {
       "output_type": "stream",
       "stream": "stdout",
       "text": [
        "\r",
        " 10354688 of 30326502    34% in   93s   108.61 kB/s"
       ]
      },
      {
       "output_type": "stream",
       "stream": "stdout",
       "text": [
        "\r",
        " 10358784 of 30326502    34% in   93s   108.50 kB/s\r",
        " 10362880 of 30326502    34% in   93s   108.53 kB/s"
       ]
      },
      {
       "output_type": "stream",
       "stream": "stdout",
       "text": [
        "\r",
        " 10366976 of 30326502    34% in   93s   108.56 kB/s"
       ]
      },
      {
       "output_type": "stream",
       "stream": "stdout",
       "text": [
        "\r",
        " 10371072 of 30326502    34% in   93s   108.46 kB/s"
       ]
      },
      {
       "output_type": "stream",
       "stream": "stdout",
       "text": [
        "\r",
        " 10375168 of 30326502    34% in   93s   108.34 kB/s\r",
        " 10379264 of 30326502    34% in   93s   108.37 kB/s\r",
        " 10383360 of 30326502    34% in   93s   108.41 kB/s\r",
        " 10387456 of 30326502    34% in   93s   108.44 kB/s"
       ]
      },
      {
       "output_type": "stream",
       "stream": "stdout",
       "text": [
        "\r",
        " 10391552 of 30326502    34% in   93s   108.34 kB/s"
       ]
      },
      {
       "output_type": "stream",
       "stream": "stdout",
       "text": [
        "\r",
        " 10395648 of 30326502    34% in   93s   108.22 kB/s\r",
        " 10399744 of 30326502    34% in   93s   108.26 kB/s"
       ]
      },
      {
       "output_type": "stream",
       "stream": "stdout",
       "text": [
        "\r",
        " 10403840 of 30326502    34% in   93s   108.29 kB/s\r",
        " 10407936 of 30326502    34% in   93s   108.32 kB/s"
       ]
      },
      {
       "output_type": "stream",
       "stream": "stdout",
       "text": [
        "\r",
        " 10412032 of 30326502    34% in   93s   108.24 kB/s\r",
        " 10416128 of 30326502    34% in   93s   108.26 kB/s"
       ]
      },
      {
       "output_type": "stream",
       "stream": "stdout",
       "text": [
        "\r",
        " 10420224 of 30326502    34% in   94s   108.14 kB/s\r",
        " 10424320 of 30326502    34% in   94s   108.17 kB/s\r",
        " 10428416 of 30326502    34% in   94s   108.21 kB/s"
       ]
      },
      {
       "output_type": "stream",
       "stream": "stdout",
       "text": [
        "\r",
        " 10432512 of 30326502    34% in   94s   108.12 kB/s"
       ]
      },
      {
       "output_type": "stream",
       "stream": "stdout",
       "text": [
        "\r",
        " 10436608 of 30326502    34% in   94s   108.15 kB/s"
       ]
      },
      {
       "output_type": "stream",
       "stream": "stdout",
       "text": [
        "\r",
        " 10440704 of 30326502    34% in   94s   108.03 kB/s\r",
        " 10444800 of 30326502    34% in   94s   108.06 kB/s\r",
        " 10448896 of 30326502    34% in   94s   108.09 kB/s"
       ]
      },
      {
       "output_type": "stream",
       "stream": "stdout",
       "text": [
        "\r",
        " 10452992 of 30326502    34% in   94s   108.01 kB/s\r",
        " 10457088 of 30326502    34% in   94s   108.04 kB/s"
       ]
      },
      {
       "output_type": "stream",
       "stream": "stdout",
       "text": [
        "\r",
        " 10461184 of 30326502    34% in   94s   107.93 kB/s\r",
        " 10465280 of 30326502    34% in   94s   107.95 kB/s\r",
        " 10469376 of 30326502    34% in   94s   107.98 kB/s"
       ]
      },
      {
       "output_type": "stream",
       "stream": "stdout",
       "text": [
        "\r",
        " 10473472 of 30326502    34% in   94s   108.01 kB/s"
       ]
      },
      {
       "output_type": "stream",
       "stream": "stdout",
       "text": [
        "\r",
        " 10477568 of 30326502    34% in   94s   107.93 kB/s"
       ]
      },
      {
       "output_type": "stream",
       "stream": "stdout",
       "text": [
        "\r",
        " 10481664 of 30326502    34% in   94s   107.81 kB/s\r",
        " 10485760 of 30326502    34% in   94s   107.84 kB/s\r",
        " 10489856 of 30326502    34% in   94s   107.88 kB/s"
       ]
      },
      {
       "output_type": "stream",
       "stream": "stdout",
       "text": [
        "\r",
        " 10493952 of 30326502    34% in   94s   107.89 kB/s"
       ]
      },
      {
       "output_type": "stream",
       "stream": "stdout",
       "text": [
        "\r",
        " 10498048 of 30326502    34% in   95s   107.83 kB/s\r",
        " 10502144 of 30326502    34% in   95s   107.86 kB/s"
       ]
      },
      {
       "output_type": "stream",
       "stream": "stdout",
       "text": [
        "\r",
        " 10506240 of 30326502    34% in   95s   107.73 kB/s"
       ]
      },
      {
       "output_type": "stream",
       "stream": "stdout",
       "text": [
        "\r",
        " 10510336 of 30326502    34% in   95s   107.77 kB/s\r",
        " 10514432 of 30326502    34% in   95s   107.80 kB/s\r",
        " 10518528 of 30326502    34% in   95s   107.81 kB/s"
       ]
      },
      {
       "output_type": "stream",
       "stream": "stdout",
       "text": [
        "\r",
        " 10522624 of 30326502    34% in   95s   107.75 kB/s"
       ]
      },
      {
       "output_type": "stream",
       "stream": "stdout",
       "text": [
        "\r",
        " 10526720 of 30326502    34% in   95s   107.62 kB/s\r",
        " 10530816 of 30326502    34% in   95s   107.65 kB/s\r",
        " 10534912 of 30326502    34% in   95s   107.68 kB/s"
       ]
      },
      {
       "output_type": "stream",
       "stream": "stdout",
       "text": [
        "\r",
        " 10539008 of 30326502    34% in   95s   107.71 kB/s\r",
        " 10543104 of 30326502    34% in   95s   107.74 kB/s"
       ]
      },
      {
       "output_type": "stream",
       "stream": "stdout",
       "text": [
        "\r",
        " 10547200 of 30326502    34% in   95s   107.68 kB/s"
       ]
      },
      {
       "output_type": "stream",
       "stream": "stdout",
       "text": [
        "\r",
        " 10551296 of 30326502    34% in   95s   107.52 kB/s\r",
        " 10555392 of 30326502    34% in   95s   107.55 kB/s"
       ]
      },
      {
       "output_type": "stream",
       "stream": "stdout",
       "text": [
        "\r",
        " 10559488 of 30326502    34% in   95s   107.58 kB/s\r",
        " 10563584 of 30326502    34% in   95s   107.61 kB/s"
       ]
      },
      {
       "output_type": "stream",
       "stream": "stdout",
       "text": [
        "\r",
        " 10567680 of 30326502    34% in   95s   107.57 kB/s\r",
        " 10571776 of 30326502    34% in   95s   107.60 kB/s"
       ]
      },
      {
       "output_type": "stream",
       "stream": "stdout",
       "text": [
        "\r",
        " 10575872 of 30326502    34% in   96s   107.45 kB/s\r",
        " 10579968 of 30326502    34% in   96s   107.48 kB/s\r",
        " 10584064 of 30326502    34% in   96s   107.51 kB/s\r",
        " 10588160 of 30326502    34% in   96s   107.54 kB/s\r",
        " 10592256 of 30326502    34% in   96s   107.57 kB/s"
       ]
      },
      {
       "output_type": "stream",
       "stream": "stdout",
       "text": [
        "\r",
        " 10596352 of 30326502    34% in   96s   107.54 kB/s"
       ]
      },
      {
       "output_type": "stream",
       "stream": "stdout",
       "text": [
        "\r",
        " 10600448 of 30326502    34% in   96s   107.38 kB/s\r",
        " 10604544 of 30326502    34% in   96s   107.42 kB/s"
       ]
      },
      {
       "output_type": "stream",
       "stream": "stdout",
       "text": [
        "\r",
        " 10608640 of 30326502    34% in   96s   107.45 kB/s\r",
        " 10612736 of 30326502    34% in   96s   107.48 kB/s\r",
        " 10616832 of 30326502    35% in   96s   107.51 kB/s\r",
        " 10620928 of 30326502    35% in   96s   107.55 kB/s"
       ]
      },
      {
       "output_type": "stream",
       "stream": "stdout",
       "text": [
        "\r",
        " 10625024 of 30326502    35% in   96s   107.51 kB/s"
       ]
      },
      {
       "output_type": "stream",
       "stream": "stdout",
       "text": [
        "\r",
        " 10629120 of 30326502    35% in   96s   107.36 kB/s\r",
        " 10633216 of 30326502    35% in   96s   107.39 kB/s\r",
        " 10637312 of 30326502    35% in   96s   107.42 kB/s\r",
        " 10641408 of 30326502    35% in   96s   107.45 kB/s\r",
        " 10645504 of 30326502    35% in   96s   107.49 kB/s"
       ]
      },
      {
       "output_type": "stream",
       "stream": "stdout",
       "text": [
        "\r",
        " 10649600 of 30326502    35% in   96s   107.52 kB/s\r",
        " 10653696 of 30326502    35% in   96s   107.55 kB/s"
       ]
      },
      {
       "output_type": "stream",
       "stream": "stdout",
       "text": [
        "\r",
        " 10657792 of 30326502    35% in   96s   107.52 kB/s\r",
        " 10661888 of 30326502    35% in   96s   107.55 kB/s"
       ]
      },
      {
       "output_type": "stream",
       "stream": "stdout",
       "text": [
        "\r",
        " 10665984 of 30326502    35% in   96s   107.40 kB/s\r",
        " 10670080 of 30326502    35% in   96s   107.44 kB/s\r",
        " 10674176 of 30326502    35% in   96s   107.47 kB/s\r",
        " 10678272 of 30326502    35% in   96s   107.51 kB/s\r",
        " 10682368 of 30326502    35% in   97s   107.53 kB/s\r",
        " 10686464 of 30326502    35% in   97s   107.57 kB/s\r",
        " 10690560 of 30326502    35% in   97s   107.60 kB/s\r",
        " 10694656 of 30326502    35% in   97s   107.63 kB/s"
       ]
      },
      {
       "output_type": "stream",
       "stream": "stdout",
       "text": [
        "\r",
        " 10698752 of 30326502    35% in   97s   107.62 kB/s"
       ]
      },
      {
       "output_type": "stream",
       "stream": "stdout",
       "text": [
        "\r",
        " 10702848 of 30326502    35% in   97s   107.65 kB/s"
       ]
      },
      {
       "output_type": "stream",
       "stream": "stdout",
       "text": [
        "\r",
        " 10706944 of 30326502    35% in   97s   107.50 kB/s\r",
        " 10711040 of 30326502    35% in   97s   107.54 kB/s\r",
        " 10715136 of 30326502    35% in   97s   107.57 kB/s\r",
        " 10719232 of 30326502    35% in   97s   107.60 kB/s"
       ]
      },
      {
       "output_type": "stream",
       "stream": "stdout",
       "text": [
        "\r",
        " 10723328 of 30326502    35% in   97s   107.63 kB/s\r",
        " 10727424 of 30326502    35% in   97s   107.66 kB/s\r",
        " 10731520 of 30326502    35% in   97s   107.69 kB/s\r",
        " 10735616 of 30326502    35% in   97s   107.72 kB/s\r",
        " 10739712 of 30326502    35% in   97s   107.76 kB/s\r",
        " 10743808 of 30326502    35% in   97s   107.79 kB/s"
       ]
      },
      {
       "output_type": "stream",
       "stream": "stdout",
       "text": [
        "\r",
        " 10747904 of 30326502    35% in   97s   107.80 kB/s\r",
        " 10752000 of 30326502    35% in   97s   107.83 kB/s"
       ]
      },
      {
       "output_type": "stream",
       "stream": "stdout",
       "text": [
        "\r",
        " 10756096 of 30326502    35% in   97s   107.74 kB/s"
       ]
      },
      {
       "output_type": "stream",
       "stream": "stdout",
       "text": [
        "\r",
        " 10760192 of 30326502    35% in   97s   107.71 kB/s\r",
        " 10764288 of 30326502    35% in   97s   107.75 kB/s\r",
        " 10768384 of 30326502    35% in   97s   107.77 kB/s\r",
        " 10772480 of 30326502    35% in   97s   107.80 kB/s\r",
        " 10776576 of 30326502    35% in   97s   107.83 kB/s\r",
        " 10780672 of 30326502    35% in   97s   107.87 kB/s"
       ]
      },
      {
       "output_type": "stream",
       "stream": "stdout",
       "text": [
        "\r",
        " 10784768 of 30326502    35% in   97s   107.90 kB/s\r",
        " 10788864 of 30326502    35% in   97s   107.93 kB/s\r",
        " 10792960 of 30326502    35% in   97s   107.96 kB/s\r",
        " 10797056 of 30326502    35% in   97s   107.99 kB/s\r",
        " 10801152 of 30326502    35% in   97s   108.02 kB/s\r",
        " 10805248 of 30326502    35% in   97s   108.06 kB/s"
       ]
      },
      {
       "output_type": "stream",
       "stream": "stdout",
       "text": [
        "\r",
        " 10809344 of 30326502    35% in   97s   108.09 kB/s"
       ]
      },
      {
       "output_type": "stream",
       "stream": "stdout",
       "text": [
        "\r",
        " 10813440 of 30326502    35% in   97s   108.01 kB/s\r",
        " 10817536 of 30326502    35% in   97s   108.04 kB/s"
       ]
      },
      {
       "output_type": "stream",
       "stream": "stdout",
       "text": [
        "\r",
        " 10821632 of 30326502    35% in   97s   108.02 kB/s\r",
        " 10825728 of 30326502    35% in   97s   108.05 kB/s\r",
        " 10829824 of 30326502    35% in   97s   108.08 kB/s\r",
        " 10833920 of 30326502    35% in   97s   108.11 kB/s"
       ]
      },
      {
       "output_type": "stream",
       "stream": "stdout",
       "text": [
        "\r",
        " 10838016 of 30326502    35% in   97s   108.14 kB/s\r",
        " 10842112 of 30326502    35% in   97s   108.17 kB/s\r",
        " 10846208 of 30326502    35% in   97s   108.20 kB/s\r",
        " 10850304 of 30326502    35% in   97s   108.23 kB/s\r",
        " 10854400 of 30326502    35% in   97s   108.26 kB/s\r",
        " 10858496 of 30326502    35% in   97s   108.30 kB/s"
       ]
      },
      {
       "output_type": "stream",
       "stream": "stdout",
       "text": [
        "\r",
        " 10862592 of 30326502    35% in   97s   108.33 kB/s\r",
        " 10866688 of 30326502    35% in   97s   108.36 kB/s\r",
        " 10870784 of 30326502    35% in   97s   108.39 kB/s\r",
        " 10874880 of 30326502    35% in   97s   108.41 kB/s\r",
        " 10878976 of 30326502    35% in   97s   108.45 kB/s"
       ]
      },
      {
       "output_type": "stream",
       "stream": "stdout",
       "text": [
        "\r",
        " 10883072 of 30326502    35% in   97s   108.49 kB/s\r",
        " 10887168 of 30326502    35% in   97s   108.52 kB/s"
       ]
      },
      {
       "output_type": "stream",
       "stream": "stdout",
       "text": [
        "\r",
        " 10891264 of 30326502    35% in   98s   108.47 kB/s"
       ]
      },
      {
       "output_type": "stream",
       "stream": "stdout",
       "text": [
        "\r",
        " 10895360 of 30326502    35% in   98s   108.49 kB/s"
       ]
      },
      {
       "output_type": "stream",
       "stream": "stdout",
       "text": [
        "\r",
        " 10899456 of 30326502    35% in   98s   108.47 kB/s\r",
        " 10903552 of 30326502    35% in   98s   108.50 kB/s\r",
        " 10907648 of 30326502    35% in   98s   108.53 kB/s\r",
        " 10911744 of 30326502    35% in   98s   108.57 kB/s\r",
        " 10915840 of 30326502    35% in   98s   108.60 kB/s\r",
        " 10919936 of 30326502    36% in   98s   108.63 kB/s"
       ]
      },
      {
       "output_type": "stream",
       "stream": "stdout",
       "text": [
        "\r",
        " 10924032 of 30326502    36% in   98s   108.66 kB/s\r",
        " 10928128 of 30326502    36% in   98s   108.69 kB/s\r",
        " 10932224 of 30326502    36% in   98s   108.72 kB/s\r",
        " 10936320 of 30326502    36% in   98s   108.75 kB/s\r",
        " 10940416 of 30326502    36% in   98s   108.79 kB/s\r",
        " 10944512 of 30326502    36% in   98s   108.82 kB/s"
       ]
      },
      {
       "output_type": "stream",
       "stream": "stdout",
       "text": [
        "\r",
        " 10948608 of 30326502    36% in   98s   108.85 kB/s\r",
        " 10952704 of 30326502    36% in   98s   108.88 kB/s\r",
        " 10956800 of 30326502    36% in   98s   108.91 kB/s\r",
        " 10960896 of 30326502    36% in   98s   108.94 kB/s\r",
        " 10964992 of 30326502    36% in   98s   108.98 kB/s\r",
        " 10969088 of 30326502    36% in   98s   109.00 kB/s"
       ]
      },
      {
       "output_type": "stream",
       "stream": "stdout",
       "text": [
        "\r",
        " 10973184 of 30326502    36% in   98s   109.04 kB/s\r",
        " 10977280 of 30326502    36% in   98s   109.07 kB/s\r",
        " 10981376 of 30326502    36% in   98s   109.10 kB/s"
       ]
      },
      {
       "output_type": "stream",
       "stream": "stdout",
       "text": [
        "\r",
        " 10985472 of 30326502    36% in   98s   109.09 kB/s\r",
        " 10989568 of 30326502    36% in   98s   109.12 kB/s\r",
        " 10993664 of 30326502    36% in   98s   109.16 kB/s"
       ]
      },
      {
       "output_type": "stream",
       "stream": "stdout",
       "text": [
        "\r",
        " 10997760 of 30326502    36% in   98s   109.14 kB/s"
       ]
      },
      {
       "output_type": "stream",
       "stream": "stdout",
       "text": [
        "\r",
        " 11001856 of 30326502    36% in   98s   109.14 kB/s\r",
        " 11005952 of 30326502    36% in   98s   109.17 kB/s\r",
        " 11010048 of 30326502    36% in   98s   109.20 kB/s\r",
        " 11014144 of 30326502    36% in   98s   109.23 kB/s\r",
        " 11018240 of 30326502    36% in   98s   109.27 kB/s"
       ]
      },
      {
       "output_type": "stream",
       "stream": "stdout",
       "text": [
        "\r",
        " 11022336 of 30326502    36% in   98s   109.30 kB/s\r",
        " 11026432 of 30326502    36% in   98s   109.33 kB/s\r",
        " 11030528 of 30326502    36% in   98s   109.36 kB/s\r",
        " 11034624 of 30326502    36% in   98s   109.39 kB/s\r",
        " 11038720 of 30326502    36% in   98s   109.42 kB/s"
       ]
      },
      {
       "output_type": "stream",
       "stream": "stdout",
       "text": [
        "\r",
        " 11042816 of 30326502    36% in   98s   109.44 kB/s"
       ]
      },
      {
       "output_type": "stream",
       "stream": "stdout",
       "text": [
        "\r",
        " 11046912 of 30326502    36% in   98s   109.34 kB/s\r",
        " 11051008 of 30326502    36% in   98s   109.38 kB/s\r",
        " 11055104 of 30326502    36% in   98s   109.42 kB/s\r",
        " 11059200 of 30326502    36% in   98s   109.46 kB/s\r",
        " 11063296 of 30326502    36% in   98s   109.50 kB/s\r",
        " 11067392 of 30326502    36% in   98s   109.54 kB/s\r",
        " 11071488 of 30326502    36% in   98s   109.57 kB/s\r",
        " 11075584 of 30326502    36% in   98s   109.61 kB/s\r",
        " 11079680 of 30326502    36% in   98s   109.65 kB/s\r",
        " 11083776 of 30326502    36% in   98s   109.68 kB/s\r",
        " 11087872 of 30326502    36% in   98s   109.72 kB/s"
       ]
      },
      {
       "output_type": "stream",
       "stream": "stdout",
       "text": [
        "\r",
        " 11091968 of 30326502    36% in   98s   109.76 kB/s\r",
        " 11096064 of 30326502    36% in   98s   109.80 kB/s\r",
        " 11100160 of 30326502    36% in   98s   109.84 kB/s\r",
        " 11104256 of 30326502    36% in   98s   109.88 kB/s\r",
        " 11108352 of 30326502    36% in   98s   109.92 kB/s\r",
        " 11112448 of 30326502    36% in   98s   109.96 kB/s\r",
        " 11116544 of 30326502    36% in   98s   110.00 kB/s\r",
        " 11120640 of 30326502    36% in   98s   110.04 kB/s\r",
        " 11124736 of 30326502    36% in   98s   110.07 kB/s"
       ]
      },
      {
       "output_type": "stream",
       "stream": "stdout",
       "text": [
        "\r",
        " 11128832 of 30326502    36% in   98s   109.98 kB/s\r",
        " 11132928 of 30326502    36% in   98s   110.01 kB/s\r",
        " 11137024 of 30326502    36% in   98s   110.05 kB/s\r",
        " 11141120 of 30326502    36% in   98s   110.09 kB/s\r",
        " 11145216 of 30326502    36% in   98s   110.13 kB/s\r",
        " 11149312 of 30326502    36% in   98s   110.17 kB/s\r",
        " 11153408 of 30326502    36% in   98s   110.20 kB/s\r",
        " 11157504 of 30326502    36% in   98s   110.24 kB/s"
       ]
      },
      {
       "output_type": "stream",
       "stream": "stdout",
       "text": [
        "\r",
        " 11161600 of 30326502    36% in   98s   110.28 kB/s\r",
        " 11165696 of 30326502    36% in   98s   110.32 kB/s\r",
        " 11169792 of 30326502    36% in   98s   110.36 kB/s"
       ]
      },
      {
       "output_type": "stream",
       "stream": "stdout",
       "text": [
        "\r",
        " 11173888 of 30326502    36% in   98s   110.23 kB/s"
       ]
      },
      {
       "output_type": "stream",
       "stream": "stdout",
       "text": [
        "\r",
        " 11177984 of 30326502    36% in   98s   110.27 kB/s\r",
        " 11182080 of 30326502    36% in   98s   110.31 kB/s\r",
        " 11186176 of 30326502    36% in   99s   110.34 kB/s\r",
        " 11190272 of 30326502    36% in   99s   110.37 kB/s\r",
        " 11194368 of 30326502    36% in   99s   110.40 kB/s\r",
        " 11198464 of 30326502    36% in   99s   110.43 kB/s"
       ]
      },
      {
       "output_type": "stream",
       "stream": "stdout",
       "text": [
        "\r",
        " 11202560 of 30326502    36% in   99s   110.35 kB/s\r",
        " 11206656 of 30326502    36% in   99s   110.39 kB/s\r",
        " 11210752 of 30326502    36% in   99s   110.43 kB/s\r",
        " 11214848 of 30326502    36% in   99s   110.47 kB/s\r",
        " 11218944 of 30326502    36% in   99s   110.51 kB/s"
       ]
      },
      {
       "output_type": "stream",
       "stream": "stdout",
       "text": [
        "\r",
        " 11223040 of 30326502    37% in   99s   110.54 kB/s"
       ]
      },
      {
       "output_type": "stream",
       "stream": "stdout",
       "text": [
        "\r",
        " 11227136 of 30326502    37% in   99s   110.20 kB/s"
       ]
      },
      {
       "output_type": "stream",
       "stream": "stdout",
       "text": [
        "\r",
        " 11231232 of 30326502    37% in  101s   108.39 kB/s"
       ]
      },
      {
       "output_type": "stream",
       "stream": "stdout",
       "text": [
        "\r",
        " 11235328 of 30326502    37% in  101s   108.06 kB/s\r",
        " 11239424 of 30326502    37% in  101s   108.10 kB/s\r",
        " 11243520 of 30326502    37% in  101s   108.14 kB/s\r",
        " 11247616 of 30326502    37% in  101s   108.18 kB/s\r",
        " 11251712 of 30326502    37% in  101s   108.22 kB/s\r",
        " 11255808 of 30326502    37% in  101s   108.26 kB/s\r",
        " 11259904 of 30326502    37% in  101s   108.30 kB/s\r",
        " 11264000 of 30326502    37% in  101s   108.34 kB/s\r",
        " 11268096 of 30326502    37% in  101s   108.38 kB/s\r",
        " 11272192 of 30326502    37% in  101s   108.42 kB/s\r",
        " 11276288 of 30326502    37% in  101s   108.45 kB/s\r",
        " 11280384 of 30326502    37% in  101s   108.49 kB/s\r",
        " 11284480 of 30326502    37% in  101s   108.53 kB/s\r",
        " 11288576 of 30326502    37% in  101s   108.57 kB/s\r",
        " 11292672 of 30326502    37% in  101s   108.61 kB/s\r",
        " 11296768 of 30326502    37% in  101s   108.65 kB/s\r",
        " 11300864 of 30326502    37% in  101s   108.69 kB/s\r",
        " 11304960 of 30326502    37% in  101s   108.73 kB/s\r",
        " 11309056 of 30326502    37% in  101s   108.77 kB/s\r",
        " 11313152 of 30326502    37% in  101s   108.81 kB/s\r",
        " 11317248 of 30326502    37% in  101s   108.85 kB/s\r",
        " 11321344 of 30326502    37% in  101s   108.89 kB/s\r",
        " 11325440 of 30326502    37% in  101s   108.93 kB/s\r",
        " 11329536 of 30326502    37% in  101s   108.96 kB/s\r",
        " 11333632 of 30326502    37% in  101s   109.00 kB/s\r",
        " 11337728 of 30326502    37% in  101s   109.04 kB/s\r",
        " 11341824 of 30326502    37% in  101s   109.08 kB/s\r",
        " 11345920 of 30326502    37% in  101s   109.12 kB/s\r",
        " 11350016 of 30326502    37% in  101s   109.16 kB/s\r",
        " 11354112 of 30326502    37% in  101s   109.20 kB/s\r",
        " 11358208 of 30326502    37% in  101s   109.24 kB/s\r",
        " 11362304 of 30326502    37% in  101s   109.28 kB/s\r",
        " 11366400 of 30326502    37% in  101s   109.32 kB/s\r",
        " 11370496 of 30326502    37% in  101s   109.36 kB/s\r",
        " 11374592 of 30326502    37% in  101s   109.40 kB/s\r",
        " 11378688 of 30326502    37% in  101s   109.44 kB/s\r",
        " 11382784 of 30326502    37% in  101s   109.48 kB/s\r",
        " 11386880 of 30326502    37% in  101s   109.51 kB/s\r",
        " 11390976 of 30326502    37% in  101s   109.55 kB/s\r",
        " 11395072 of 30326502    37% in  101s   109.59 kB/s\r",
        " 11399168 of 30326502    37% in  101s   109.63 kB/s\r",
        " 11403264 of 30326502    37% in  101s   109.67 kB/s\r",
        " 11407360 of 30326502    37% in  101s   109.71 kB/s\r",
        " 11411456 of 30326502    37% in  101s   109.75 kB/s\r",
        " 11415552 of 30326502    37% in  101s   109.79 kB/s\r",
        " 11419648 of 30326502    37% in  101s   109.83 kB/s\r",
        " 11423744 of 30326502    37% in  101s   109.87 kB/s\r",
        " 11427840 of 30326502    37% in  101s   109.91 kB/s\r",
        " 11431936 of 30326502    37% in  101s   109.95 kB/s\r",
        " 11436032 of 30326502    37% in  101s   109.99 kB/s\r",
        " 11440128 of 30326502    37% in  101s   110.02 kB/s\r",
        " 11444224 of 30326502    37% in  101s   110.06 kB/s\r",
        " 11448320 of 30326502    37% in  101s   110.10 kB/s\r",
        " 11452416 of 30326502    37% in  101s   110.14 kB/s\r",
        " 11456512 of 30326502    37% in  101s   110.18 kB/s\r",
        " 11460608 of 30326502    37% in  101s   110.22 kB/s"
       ]
      },
      {
       "output_type": "stream",
       "stream": "stdout",
       "text": [
        "\r",
        " 11464704 of 30326502    37% in  101s   109.94 kB/s\r",
        " 11468800 of 30326502    37% in  101s   109.98 kB/s\r",
        " 11472896 of 30326502    37% in  101s   110.02 kB/s"
       ]
      },
      {
       "output_type": "stream",
       "stream": "stdout",
       "text": [
        "\r",
        " 11476992 of 30326502    37% in  102s   109.75 kB/s\r",
        " 11481088 of 30326502    37% in  102s   109.77 kB/s\r",
        " 11485184 of 30326502    37% in  102s   109.81 kB/s\r",
        " 11489280 of 30326502    37% in  102s   109.84 kB/s"
       ]
      },
      {
       "output_type": "stream",
       "stream": "stdout",
       "text": [
        "\r",
        " 11493376 of 30326502    37% in  102s   109.69 kB/s"
       ]
      },
      {
       "output_type": "stream",
       "stream": "stdout",
       "text": [
        "\r",
        " 11497472 of 30326502    37% in  102s   109.64 kB/s\r",
        " 11501568 of 30326502    37% in  102s   109.67 kB/s\r",
        " 11505664 of 30326502    37% in  102s   109.70 kB/s\r",
        " 11509760 of 30326502    37% in  102s   109.73 kB/s\r",
        " 11513856 of 30326502    37% in  102s   109.76 kB/s\r",
        " 11517952 of 30326502    37% in  102s   109.79 kB/s"
       ]
      },
      {
       "output_type": "stream",
       "stream": "stdout",
       "text": [
        "\r",
        " 11522048 of 30326502    37% in  102s   109.82 kB/s"
       ]
      },
      {
       "output_type": "stream",
       "stream": "stdout",
       "text": [
        "\r",
        " 11526144 of 30326502    38% in  102s   109.69 kB/s"
       ]
      },
      {
       "output_type": "stream",
       "stream": "stdout",
       "text": [
        "\r",
        " 11530240 of 30326502    38% in  102s   109.65 kB/s\r",
        " 11534336 of 30326502    38% in  102s   109.67 kB/s\r",
        " 11538432 of 30326502    38% in  102s   109.70 kB/s"
       ]
      },
      {
       "output_type": "stream",
       "stream": "stdout",
       "text": [
        "\r",
        " 11542528 of 30326502    38% in  102s   109.74 kB/s\r",
        " 11546624 of 30326502    38% in  102s   109.76 kB/s\r",
        " 11550720 of 30326502    38% in  102s   109.80 kB/s\r",
        " 11554816 of 30326502    38% in  102s   109.83 kB/s\r",
        " 11558912 of 30326502    38% in  102s   109.85 kB/s\r",
        " 11563008 of 30326502    38% in  102s   109.88 kB/s"
       ]
      },
      {
       "output_type": "stream",
       "stream": "stdout",
       "text": [
        "\r",
        " 11567104 of 30326502    38% in  102s   109.92 kB/s\r",
        " 11571200 of 30326502    38% in  102s   109.95 kB/s\r",
        " 11575296 of 30326502    38% in  102s   109.98 kB/s"
       ]
      },
      {
       "output_type": "stream",
       "stream": "stdout",
       "text": [
        "\r",
        " 11579392 of 30326502    38% in  102s   109.90 kB/s"
       ]
      },
      {
       "output_type": "stream",
       "stream": "stdout",
       "text": [
        "\r",
        " 11583488 of 30326502    38% in  102s   109.85 kB/s\r",
        " 11587584 of 30326502    38% in  102s   109.88 kB/s\r",
        " 11591680 of 30326502    38% in  102s   109.91 kB/s\r",
        " 11595776 of 30326502    38% in  103s   109.94 kB/s\r",
        " 11599872 of 30326502    38% in  103s   109.97 kB/s\r",
        " 11603968 of 30326502    38% in  103s   110.00 kB/s"
       ]
      },
      {
       "output_type": "stream",
       "stream": "stdout",
       "text": [
        "\r",
        " 11608064 of 30326502    38% in  103s   110.03 kB/s\r",
        " 11612160 of 30326502    38% in  103s   110.06 kB/s\r",
        " 11616256 of 30326502    38% in  103s   110.09 kB/s\r",
        " 11620352 of 30326502    38% in  103s   110.12 kB/s\r",
        " 11624448 of 30326502    38% in  103s   110.15 kB/s\r",
        " 11628544 of 30326502    38% in  103s   110.18 kB/s"
       ]
      },
      {
       "output_type": "stream",
       "stream": "stdout",
       "text": [
        "\r",
        " 11632640 of 30326502    38% in  103s   110.21 kB/s\r",
        " 11636736 of 30326502    38% in  103s   110.24 kB/s\r",
        " 11640832 of 30326502    38% in  103s   110.27 kB/s\r",
        " 11644928 of 30326502    38% in  103s   110.30 kB/s\r",
        " 11649024 of 30326502    38% in  103s   110.33 kB/s\r",
        " 11653120 of 30326502    38% in  103s   110.36 kB/s"
       ]
      },
      {
       "output_type": "stream",
       "stream": "stdout",
       "text": [
        "\r",
        " 11657216 of 30326502    38% in  103s   110.38 kB/s\r",
        " 11661312 of 30326502    38% in  103s   110.42 kB/s\r",
        " 11665408 of 30326502    38% in  103s   110.45 kB/s"
       ]
      },
      {
       "output_type": "stream",
       "stream": "stdout",
       "text": [
        "\r",
        " 11669504 of 30326502    38% in  103s   110.37 kB/s\r",
        " 11673600 of 30326502    38% in  103s   110.40 kB/s\r",
        " 11677696 of 30326502    38% in  103s   110.42 kB/s"
       ]
      },
      {
       "output_type": "stream",
       "stream": "stdout",
       "text": [
        "\r",
        " 11681792 of 30326502    38% in  103s   110.45 kB/s\r",
        " 11685888 of 30326502    38% in  103s   110.48 kB/s\r",
        " 11689984 of 30326502    38% in  103s   110.51 kB/s\r",
        " 11694080 of 30326502    38% in  103s   110.54 kB/s\r",
        " 11698176 of 30326502    38% in  103s   110.57 kB/s\r",
        " 11702272 of 30326502    38% in  103s   110.60 kB/s"
       ]
      },
      {
       "output_type": "stream",
       "stream": "stdout",
       "text": [
        "\r",
        " 11706368 of 30326502    38% in  103s   110.63 kB/s\r",
        " 11710464 of 30326502    38% in  103s   110.66 kB/s\r",
        " 11714560 of 30326502    38% in  103s   110.69 kB/s\r",
        " 11718656 of 30326502    38% in  103s   110.72 kB/s\r",
        " 11722752 of 30326502    38% in  103s   110.75 kB/s\r",
        " 11726848 of 30326502    38% in  103s   110.78 kB/s"
       ]
      },
      {
       "output_type": "stream",
       "stream": "stdout",
       "text": [
        "\r",
        " 11730944 of 30326502    38% in  103s   110.81 kB/s\r",
        " 11735040 of 30326502    38% in  103s   110.84 kB/s\r",
        " 11739136 of 30326502    38% in  103s   110.87 kB/s\r",
        " 11743232 of 30326502    38% in  103s   110.90 kB/s\r",
        " 11747328 of 30326502    38% in  103s   110.93 kB/s"
       ]
      },
      {
       "output_type": "stream",
       "stream": "stdout",
       "text": [
        "\r",
        " 11751424 of 30326502    38% in  103s   110.96 kB/s\r",
        " 11755520 of 30326502    38% in  103s   110.99 kB/s\r",
        " 11759616 of 30326502    38% in  103s   111.02 kB/s\r",
        " 11763712 of 30326502    38% in  103s   111.05 kB/s\r",
        " 11767808 of 30326502    38% in  103s   111.08 kB/s\r",
        " 11771904 of 30326502    38% in  103s   111.11 kB/s\r",
        " 11776000 of 30326502    38% in  103s   111.13 kB/s"
       ]
      },
      {
       "output_type": "stream",
       "stream": "stdout",
       "text": [
        "\r",
        " 11780096 of 30326502    38% in  103s   111.17 kB/s\r",
        " 11784192 of 30326502    38% in  103s   111.19 kB/s"
       ]
      },
      {
       "output_type": "stream",
       "stream": "stdout",
       "text": [
        "\r",
        " 11788288 of 30326502    38% in  103s   110.87 kB/s\r",
        " 11792384 of 30326502    38% in  103s   110.91 kB/s"
       ]
      },
      {
       "output_type": "stream",
       "stream": "stdout",
       "text": [
        "\r",
        " 11796480 of 30326502    38% in  104s   110.65 kB/s\r",
        " 11800576 of 30326502    38% in  104s   110.69 kB/s\r",
        " 11804672 of 30326502    38% in  104s   110.73 kB/s\r",
        " 11808768 of 30326502    38% in  104s   110.77 kB/s\r",
        " 11812864 of 30326502    38% in  104s   110.80 kB/s\r",
        " 11816960 of 30326502    38% in  104s   110.84 kB/s\r",
        " 11821056 of 30326502    38% in  104s   110.88 kB/s\r",
        " 11825152 of 30326502    38% in  104s   110.92 kB/s\r",
        " 11829248 of 30326502    39% in  104s   110.96 kB/s\r",
        " 11833344 of 30326502    39% in  104s   110.99 kB/s\r",
        " 11837440 of 30326502    39% in  104s   111.03 kB/s\r",
        " 11841536 of 30326502    39% in  104s   111.07 kB/s\r",
        " 11845632 of 30326502    39% in  104s   111.11 kB/s\r",
        " 11849728 of 30326502    39% in  104s   111.15 kB/s\r",
        " 11853824 of 30326502    39% in  104s   111.18 kB/s\r",
        " 11857920 of 30326502    39% in  104s   111.21 kB/s\r",
        " 11862016 of 30326502    39% in  104s   111.25 kB/s\r",
        " 11866112 of 30326502    39% in  104s   111.29 kB/s\r",
        " 11870208 of 30326502    39% in  104s   111.33 kB/s\r",
        " 11874304 of 30326502    39% in  104s   111.37 kB/s\r",
        " 11878400 of 30326502    39% in  104s   111.41 kB/s\r",
        " 11882496 of 30326502    39% in  104s   111.44 kB/s\r",
        " 11886592 of 30326502    39% in  104s   111.48 kB/s\r",
        " 11890688 of 30326502    39% in  104s   111.52 kB/s\r",
        " 11894784 of 30326502    39% in  104s   111.56 kB/s\r",
        " 11898880 of 30326502    39% in  104s   111.60 kB/s\r",
        " 11902976 of 30326502    39% in  104s   111.64 kB/s\r",
        " 11907072 of 30326502    39% in  104s   111.67 kB/s\r",
        " 11911168 of 30326502    39% in  104s   111.71 kB/s\r",
        " 11915264 of 30326502    39% in  104s   111.75 kB/s\r",
        " 11919360 of 30326502    39% in  104s   111.79 kB/s\r",
        " 11923456 of 30326502    39% in  104s   111.83 kB/s\r",
        " 11927552 of 30326502    39% in  104s   111.87 kB/s\r",
        " 11931648 of 30326502    39% in  104s   111.90 kB/s\r",
        " 11935744 of 30326502    39% in  104s   111.94 kB/s\r",
        " 11939840 of 30326502    39% in  104s   111.98 kB/s\r",
        " 11943936 of 30326502    39% in  104s   112.02 kB/s\r",
        " 11948032 of 30326502    39% in  104s   112.06 kB/s\r",
        " 11952128 of 30326502    39% in  104s   112.10 kB/s\r",
        " 11956224 of 30326502    39% in  104s   112.13 kB/s\r",
        " 11960320 of 30326502    39% in  104s   112.17 kB/s\r",
        " 11964416 of 30326502    39% in  104s   112.21 kB/s\r",
        " 11968512 of 30326502    39% in  104s   112.25 kB/s\r",
        " 11972608 of 30326502    39% in  104s   112.29 kB/s\r",
        " 11976704 of 30326502    39% in  104s   112.33 kB/s\r",
        " 11980800 of 30326502    39% in  104s   112.36 kB/s\r",
        " 11984896 of 30326502    39% in  104s   112.40 kB/s\r",
        " 11988992 of 30326502    39% in  104s   112.44 kB/s\r",
        " 11993088 of 30326502    39% in  104s   112.48 kB/s\r",
        " 11997184 of 30326502    39% in  104s   112.52 kB/s\r",
        " 12001280 of 30326502    39% in  104s   112.56 kB/s\r",
        " 12005376 of 30326502    39% in  104s   112.59 kB/s\r",
        " 12009472 of 30326502    39% in  104s   112.63 kB/s\r",
        " 12013568 of 30326502    39% in  104s   112.67 kB/s\r",
        " 12017664 of 30326502    39% in  104s   112.71 kB/s\r",
        " 12021760 of 30326502    39% in  104s   112.75 kB/s\r",
        " 12025856 of 30326502    39% in  104s   112.78 kB/s\r",
        " 12029952 of 30326502    39% in  104s   112.82 kB/s\r",
        " 12034048 of 30326502    39% in  104s   112.86 kB/s\r",
        " 12038144 of 30326502    39% in  104s   112.90 kB/s\r",
        " 12042240 of 30326502    39% in  104s   112.94 kB/s\r",
        " 12046336 of 30326502    39% in  104s   112.98 kB/s\r",
        " 12050432 of 30326502    39% in  104s   113.00 kB/s"
       ]
      },
      {
       "output_type": "stream",
       "stream": "stdout",
       "text": [
        "\r",
        " 12054528 of 30326502    39% in  104s   113.03 kB/s"
       ]
      },
      {
       "output_type": "stream",
       "stream": "stdout",
       "text": [
        "\r",
        " 12058624 of 30326502    39% in  104s   112.69 kB/s\r",
        " 12062720 of 30326502    39% in  104s   112.73 kB/s\r",
        " 12066816 of 30326502    39% in  104s   112.76 kB/s\r",
        " 12070912 of 30326502    39% in  104s   112.80 kB/s\r",
        " 12075008 of 30326502    39% in  104s   112.83 kB/s"
       ]
      },
      {
       "output_type": "stream",
       "stream": "stdout",
       "text": [
        "\r",
        " 12079104 of 30326502    39% in  104s   112.44 kB/s\r",
        " 12083200 of 30326502    39% in  104s   112.47 kB/s\r",
        " 12087296 of 30326502    39% in  104s   112.51 kB/s\r",
        " 12091392 of 30326502    39% in  104s   112.54 kB/s\r",
        " 12095488 of 30326502    39% in  104s   112.58 kB/s\r",
        " 12099584 of 30326502    39% in  104s   112.62 kB/s\r",
        " 12103680 of 30326502    39% in  104s   112.65 kB/s\r",
        " 12107776 of 30326502    39% in  104s   112.67 kB/s\r",
        " 12111872 of 30326502    39% in  104s   112.71 kB/s"
       ]
      },
      {
       "output_type": "stream",
       "stream": "stdout",
       "text": [
        "\r",
        " 12115968 of 30326502    39% in  105s   112.34 kB/s\r",
        " 12120064 of 30326502    39% in  105s   112.38 kB/s\r",
        " 12124160 of 30326502    39% in  105s   112.42 kB/s\r",
        " 12128256 of 30326502    39% in  105s   112.45 kB/s\r",
        " 12132352 of 30326502    40% in  105s   112.48 kB/s\r",
        " 12136448 of 30326502    40% in  105s   112.52 kB/s\r",
        " 12140544 of 30326502    40% in  105s   112.56 kB/s\r",
        " 12144640 of 30326502    40% in  105s   112.59 kB/s\r",
        " 12148736 of 30326502    40% in  105s   112.63 kB/s\r",
        " 12152832 of 30326502    40% in  105s   112.67 kB/s\r",
        " 12156928 of 30326502    40% in  105s   112.70 kB/s\r",
        " 12161024 of 30326502    40% in  105s   112.74 kB/s\r",
        " 12165120 of 30326502    40% in  105s   112.77 kB/s\r",
        " 12169216 of 30326502    40% in  105s   112.81 kB/s\r",
        " 12173312 of 30326502    40% in  105s   112.84 kB/s"
       ]
      },
      {
       "output_type": "stream",
       "stream": "stdout",
       "text": [
        "\r",
        " 12177408 of 30326502    40% in  105s   112.48 kB/s"
       ]
      },
      {
       "output_type": "stream",
       "stream": "stdout",
       "text": [
        "\r",
        " 12181504 of 30326502    40% in  105s   112.52 kB/s\r",
        " 12185600 of 30326502    40% in  105s   112.56 kB/s\r",
        " 12189696 of 30326502    40% in  105s   112.59 kB/s\r",
        " 12193792 of 30326502    40% in  105s   112.63 kB/s\r",
        " 12197888 of 30326502    40% in  105s   112.65 kB/s\r",
        " 12201984 of 30326502    40% in  105s   112.69 kB/s\r",
        " 12206080 of 30326502    40% in  105s   112.73 kB/s\r",
        " 12210176 of 30326502    40% in  105s   112.75 kB/s\r",
        " 12214272 of 30326502    40% in  105s   112.79 kB/s\r",
        " 12218368 of 30326502    40% in  105s   112.82 kB/s\r",
        " 12222464 of 30326502    40% in  105s   112.86 kB/s\r",
        " 12226560 of 30326502    40% in  105s   112.89 kB/s\r",
        " 12230656 of 30326502    40% in  105s   112.93 kB/s\r",
        " 12234752 of 30326502    40% in  105s   112.96 kB/s\r",
        " 12238848 of 30326502    40% in  105s   113.00 kB/s"
       ]
      },
      {
       "output_type": "stream",
       "stream": "stdout",
       "text": [
        "\r",
        " 12242944 of 30326502    40% in  106s   111.78 kB/s\r",
        " 12247040 of 30326502    40% in  106s   111.81 kB/s\r",
        " 12251136 of 30326502    40% in  106s   111.85 kB/s\r",
        " 12255232 of 30326502    40% in  106s   111.89 kB/s\r",
        " 12259328 of 30326502    40% in  106s   111.93 kB/s\r",
        " 12263424 of 30326502    40% in  106s   111.96 kB/s\r",
        " 12267520 of 30326502    40% in  106s   112.00 kB/s\r",
        " 12271616 of 30326502    40% in  106s   112.04 kB/s\r",
        " 12275712 of 30326502    40% in  106s   112.08 kB/s\r",
        " 12279808 of 30326502    40% in  106s   112.11 kB/s\r",
        " 12283904 of 30326502    40% in  106s   112.15 kB/s\r",
        " 12288000 of 30326502    40% in  106s   112.19 kB/s\r",
        " 12292096 of 30326502    40% in  106s   112.22 kB/s\r",
        " 12296192 of 30326502    40% in  106s   112.26 kB/s\r",
        " 12300288 of 30326502    40% in  106s   112.30 kB/s\r",
        " 12304384 of 30326502    40% in  106s   112.34 kB/s\r",
        " 12308480 of 30326502    40% in  106s   112.37 kB/s\r",
        " 12312576 of 30326502    40% in  106s   112.41 kB/s\r",
        " 12316672 of 30326502    40% in  106s   112.45 kB/s\r",
        " 12320768 of 30326502    40% in  106s   112.49 kB/s"
       ]
      },
      {
       "output_type": "stream",
       "stream": "stdout",
       "text": [
        "\r",
        " 12324864 of 30326502    40% in  107s   112.10 kB/s"
       ]
      },
      {
       "output_type": "stream",
       "stream": "stdout",
       "text": [
        "\r",
        " 12328960 of 30326502    40% in  107s   111.71 kB/s"
       ]
      },
      {
       "output_type": "stream",
       "stream": "stdout",
       "text": [
        "\r",
        " 12333056 of 30326502    40% in  108s   111.33 kB/s\r",
        " 12337152 of 30326502    40% in  108s   111.36 kB/s\r",
        " 12341248 of 30326502    40% in  108s   111.40 kB/s"
       ]
      },
      {
       "output_type": "stream",
       "stream": "stdout",
       "text": [
        "\r",
        " 12345344 of 30326502    40% in  108s   111.01 kB/s\r",
        " 12349440 of 30326502    40% in  108s   111.05 kB/s\r",
        " 12353536 of 30326502    40% in  108s   111.08 kB/s\r",
        " 12357632 of 30326502    40% in  108s   111.12 kB/s\r",
        " 12361728 of 30326502    40% in  108s   111.15 kB/s\r",
        " 12365824 of 30326502    40% in  108s   111.19 kB/s\r",
        " 12369920 of 30326502    40% in  108s   111.23 kB/s\r",
        " 12374016 of 30326502    40% in  108s   111.26 kB/s\r",
        " 12378112 of 30326502    40% in  108s   111.30 kB/s\r",
        " 12382208 of 30326502    40% in  108s   111.34 kB/s\r",
        " 12386304 of 30326502    40% in  108s   111.37 kB/s\r",
        " 12390400 of 30326502    40% in  108s   111.41 kB/s\r",
        " 12394496 of 30326502    40% in  108s   111.45 kB/s"
       ]
      },
      {
       "output_type": "stream",
       "stream": "stdout",
       "text": [
        "\r",
        " 12398592 of 30326502    40% in  109s   110.84 kB/s"
       ]
      },
      {
       "output_type": "stream",
       "stream": "stdout",
       "text": [
        "\r",
        " 12402688 of 30326502    40% in  109s   110.87 kB/s\r",
        " 12406784 of 30326502    40% in  109s   110.91 kB/s"
       ]
      },
      {
       "output_type": "stream",
       "stream": "stdout",
       "text": [
        "\r",
        " 12410880 of 30326502    40% in  109s   110.36 kB/s\r",
        " 12414976 of 30326502    40% in  109s   110.39 kB/s\r",
        " 12419072 of 30326502    40% in  109s   110.43 kB/s\r",
        " 12423168 of 30326502    40% in  109s   110.46 kB/s\r",
        " 12427264 of 30326502    40% in  109s   110.50 kB/s"
       ]
      },
      {
       "output_type": "stream",
       "stream": "stdout",
       "text": [
        "\r",
        " 12431360 of 30326502    40% in  110s   110.13 kB/s\r",
        " 12435456 of 30326502    41% in  110s   110.16 kB/s\r",
        " 12439552 of 30326502    41% in  110s   110.20 kB/s\r",
        " 12443648 of 30326502    41% in  110s   110.23 kB/s\r",
        " 12447744 of 30326502    41% in  110s   110.27 kB/s\r",
        " 12451840 of 30326502    41% in  110s   110.30 kB/s\r",
        " 12455936 of 30326502    41% in  110s   110.34 kB/s"
       ]
      },
      {
       "output_type": "stream",
       "stream": "stdout",
       "text": [
        "\r",
        " 12460032 of 30326502    41% in  110s   110.09 kB/s\r",
        " 12464128 of 30326502    41% in  110s   110.12 kB/s\r",
        " 12468224 of 30326502    41% in  110s   110.15 kB/s\r",
        " 12472320 of 30326502    41% in  110s   110.18 kB/s\r",
        " 12476416 of 30326502    41% in  110s   110.21 kB/s\r",
        " 12480512 of 30326502    41% in  110s   110.24 kB/s"
       ]
      },
      {
       "output_type": "stream",
       "stream": "stdout",
       "text": [
        "\r",
        " 12484608 of 30326502    41% in  110s   110.26 kB/s\r",
        " 12488704 of 30326502    41% in  110s   110.29 kB/s\r",
        " 12492800 of 30326502    41% in  110s   110.32 kB/s\r",
        " 12496896 of 30326502    41% in  110s   110.35 kB/s\r",
        " 12500992 of 30326502    41% in  110s   110.37 kB/s"
       ]
      },
      {
       "output_type": "stream",
       "stream": "stdout",
       "text": [
        "\r",
        " 12505088 of 30326502    41% in  110s   110.05 kB/s\r",
        " 12509184 of 30326502    41% in  110s   110.08 kB/s\r",
        " 12513280 of 30326502    41% in  110s   110.12 kB/s\r",
        " 12517376 of 30326502    41% in  110s   110.15 kB/s\r",
        " 12521472 of 30326502    41% in  110s   110.19 kB/s\r",
        " 12525568 of 30326502    41% in  110s   110.23 kB/s\r",
        " 12529664 of 30326502    41% in  110s   110.26 kB/s\r",
        " 12533760 of 30326502    41% in  110s   110.30 kB/s\r",
        " 12537856 of 30326502    41% in  110s   110.33 kB/s\r",
        " 12541952 of 30326502    41% in  110s   110.37 kB/s\r",
        " 12546048 of 30326502    41% in  110s   110.41 kB/s\r",
        " 12550144 of 30326502    41% in  110s   110.44 kB/s\r",
        " 12554240 of 30326502    41% in  110s   110.48 kB/s\r",
        " 12558336 of 30326502    41% in  110s   110.51 kB/s\r",
        " 12562432 of 30326502    41% in  110s   110.55 kB/s\r",
        " 12566528 of 30326502    41% in  110s   110.59 kB/s\r",
        " 12570624 of 30326502    41% in  110s   110.62 kB/s\r",
        " 12574720 of 30326502    41% in  110s   110.66 kB/s\r",
        " 12578816 of 30326502    41% in  110s   110.69 kB/s\r",
        " 12582912 of 30326502    41% in  110s   110.73 kB/s\r",
        " 12587008 of 30326502    41% in  110s   110.77 kB/s\r",
        " 12591104 of 30326502    41% in  110s   110.80 kB/s"
       ]
      },
      {
       "output_type": "stream",
       "stream": "stdout",
       "text": [
        "\r",
        " 12595200 of 30326502    41% in  111s   110.71 kB/s\r",
        " 12599296 of 30326502    41% in  111s   110.72 kB/s"
       ]
      },
      {
       "output_type": "stream",
       "stream": "stdout",
       "text": [
        "\r",
        " 12603392 of 30326502    41% in  111s   110.75 kB/s\r",
        " 12607488 of 30326502    41% in  111s   110.77 kB/s\r",
        " 12611584 of 30326502    41% in  111s   110.79 kB/s\r",
        " 12615680 of 30326502    41% in  111s   110.82 kB/s\r",
        " 12619776 of 30326502    41% in  111s   110.85 kB/s"
       ]
      },
      {
       "output_type": "stream",
       "stream": "stdout",
       "text": [
        "\r",
        " 12623872 of 30326502    41% in  111s   110.87 kB/s\r",
        " 12627968 of 30326502    41% in  111s   110.90 kB/s\r",
        " 12632064 of 30326502    41% in  111s   110.93 kB/s\r",
        " 12636160 of 30326502    41% in  111s   110.96 kB/s\r",
        " 12640256 of 30326502    41% in  111s   110.98 kB/s"
       ]
      },
      {
       "output_type": "stream",
       "stream": "stdout",
       "text": [
        "\r",
        " 12644352 of 30326502    41% in  111s   111.01 kB/s\r",
        " 12648448 of 30326502    41% in  111s   111.04 kB/s\r",
        " 12652544 of 30326502    41% in  111s   111.07 kB/s\r",
        " 12656640 of 30326502    41% in  111s   111.09 kB/s"
       ]
      },
      {
       "output_type": "stream",
       "stream": "stdout",
       "text": [
        "\r",
        " 12660736 of 30326502    41% in  111s   111.00 kB/s\r",
        " 12664832 of 30326502    41% in  111s   111.02 kB/s\r",
        " 12668928 of 30326502    41% in  111s   111.04 kB/s\r",
        " 12673024 of 30326502    41% in  111s   111.07 kB/s"
       ]
      },
      {
       "output_type": "stream",
       "stream": "stdout",
       "text": [
        "\r",
        " 12677120 of 30326502    41% in  111s   111.09 kB/s\r",
        " 12681216 of 30326502    41% in  111s   111.11 kB/s\r",
        " 12685312 of 30326502    41% in  111s   111.14 kB/s\r",
        " 12689408 of 30326502    41% in  111s   111.17 kB/s\r",
        " 12693504 of 30326502    41% in  111s   111.19 kB/s"
       ]
      },
      {
       "output_type": "stream",
       "stream": "stdout",
       "text": [
        "\r",
        " 12697600 of 30326502    41% in  111s   111.22 kB/s\r",
        " 12701696 of 30326502    41% in  111s   111.25 kB/s\r",
        " 12705792 of 30326502    41% in  111s   111.28 kB/s\r",
        " 12709888 of 30326502    41% in  111s   111.30 kB/s\r",
        " 12713984 of 30326502    41% in  111s   111.33 kB/s\r",
        " 12718080 of 30326502    41% in  111s   111.36 kB/s"
       ]
      },
      {
       "output_type": "stream",
       "stream": "stdout",
       "text": [
        "\r",
        " 12722176 of 30326502    41% in  111s   111.38 kB/s\r",
        " 12726272 of 30326502    41% in  111s   111.41 kB/s"
       ]
      },
      {
       "output_type": "stream",
       "stream": "stdout",
       "text": [
        "\r",
        " 12730368 of 30326502    41% in  111s   111.33 kB/s\r",
        " 12734464 of 30326502    41% in  111s   111.35 kB/s"
       ]
      },
      {
       "output_type": "stream",
       "stream": "stdout",
       "text": [
        "\r",
        " 12738560 of 30326502    42% in  111s   111.37 kB/s\r",
        " 12742656 of 30326502    42% in  111s   111.39 kB/s\r",
        " 12746752 of 30326502    42% in  111s   111.42 kB/s\r",
        " 12750848 of 30326502    42% in  111s   111.44 kB/s"
       ]
      },
      {
       "output_type": "stream",
       "stream": "stdout",
       "text": [
        "\r",
        " 12754944 of 30326502    42% in  111s   111.47 kB/s\r",
        " 12759040 of 30326502    42% in  111s   111.49 kB/s\r",
        " 12763136 of 30326502    42% in  111s   111.52 kB/s\r",
        " 12767232 of 30326502    42% in  111s   111.55 kB/s\r",
        " 12771328 of 30326502    42% in  111s   111.57 kB/s\r",
        " 12775424 of 30326502    42% in  111s   111.60 kB/s"
       ]
      },
      {
       "output_type": "stream",
       "stream": "stdout",
       "text": [
        "\r",
        " 12779520 of 30326502    42% in  111s   111.63 kB/s\r",
        " 12783616 of 30326502    42% in  111s   111.66 kB/s\r",
        " 12787712 of 30326502    42% in  111s   111.69 kB/s\r",
        " 12791808 of 30326502    42% in  111s   111.71 kB/s\r",
        " 12795904 of 30326502    42% in  111s   111.74 kB/s\r",
        " 12800000 of 30326502    42% in  111s   111.77 kB/s"
       ]
      },
      {
       "output_type": "stream",
       "stream": "stdout",
       "text": [
        "\r",
        " 12804096 of 30326502    42% in  111s   111.69 kB/s\r",
        " 12808192 of 30326502    42% in  111s   111.71 kB/s\r",
        " 12812288 of 30326502    42% in  111s   111.73 kB/s"
       ]
      },
      {
       "output_type": "stream",
       "stream": "stdout",
       "text": [
        "\r",
        " 12816384 of 30326502    42% in  111s   111.75 kB/s\r",
        " 12820480 of 30326502    42% in  112s   111.77 kB/s\r",
        " 12824576 of 30326502    42% in  112s   111.80 kB/s\r",
        " 12828672 of 30326502    42% in  112s   111.82 kB/s\r",
        " 12832768 of 30326502    42% in  112s   111.85 kB/s"
       ]
      },
      {
       "output_type": "stream",
       "stream": "stdout",
       "text": [
        "\r",
        " 12836864 of 30326502    42% in  112s   111.88 kB/s\r",
        " 12840960 of 30326502    42% in  112s   111.90 kB/s\r",
        " 12845056 of 30326502    42% in  112s   111.93 kB/s\r",
        " 12849152 of 30326502    42% in  112s   111.96 kB/s\r",
        " 12853248 of 30326502    42% in  112s   111.98 kB/s\r",
        " 12857344 of 30326502    42% in  112s   112.02 kB/s"
       ]
      },
      {
       "output_type": "stream",
       "stream": "stdout",
       "text": [
        "\r",
        " 12861440 of 30326502    42% in  112s   112.04 kB/s\r",
        " 12865536 of 30326502    42% in  112s   112.07 kB/s\r",
        " 12869632 of 30326502    42% in  112s   112.10 kB/s\r",
        " 12873728 of 30326502    42% in  112s   112.12 kB/s"
       ]
      },
      {
       "output_type": "stream",
       "stream": "stdout",
       "text": [
        "\r",
        " 12877824 of 30326502    42% in  112s   112.04 kB/s"
       ]
      },
      {
       "output_type": "stream",
       "stream": "stdout",
       "text": [
        "\r",
        " 12881920 of 30326502    42% in  112s   112.06 kB/s\r",
        " 12886016 of 30326502    42% in  112s   112.08 kB/s\r",
        " 12890112 of 30326502    42% in  112s   112.11 kB/s\r",
        " 12894208 of 30326502    42% in  112s   112.13 kB/s"
       ]
      },
      {
       "output_type": "stream",
       "stream": "stdout",
       "text": [
        "\r",
        " 12898304 of 30326502    42% in  112s   112.15 kB/s\r",
        " 12902400 of 30326502    42% in  112s   112.18 kB/s\r",
        " 12906496 of 30326502    42% in  112s   112.20 kB/s\r",
        " 12910592 of 30326502    42% in  112s   112.23 kB/s\r",
        " 12914688 of 30326502    42% in  112s   112.26 kB/s"
       ]
      },
      {
       "output_type": "stream",
       "stream": "stdout",
       "text": [
        "\r",
        " 12918784 of 30326502    42% in  112s   112.29 kB/s\r",
        " 12922880 of 30326502    42% in  112s   112.31 kB/s\r",
        " 12926976 of 30326502    42% in  112s   112.34 kB/s\r",
        " 12931072 of 30326502    42% in  112s   112.37 kB/s\r",
        " 12935168 of 30326502    42% in  112s   112.39 kB/s\r",
        " 12939264 of 30326502    42% in  112s   112.42 kB/s"
       ]
      },
      {
       "output_type": "stream",
       "stream": "stdout",
       "text": [
        "\r",
        " 12943360 of 30326502    42% in  112s   112.45 kB/s\r",
        " 12947456 of 30326502    42% in  112s   112.48 kB/s"
       ]
      },
      {
       "output_type": "stream",
       "stream": "stdout",
       "text": [
        "\r",
        " 12951552 of 30326502    42% in  112s   112.39 kB/s\r",
        " 12955648 of 30326502    42% in  112s   112.42 kB/s"
       ]
      },
      {
       "output_type": "stream",
       "stream": "stdout",
       "text": [
        "\r",
        " 12959744 of 30326502    42% in  112s   112.43 kB/s\r",
        " 12963840 of 30326502    42% in  112s   112.46 kB/s\r",
        " 12967936 of 30326502    42% in  112s   112.48 kB/s\r",
        " 12972032 of 30326502    42% in  112s   112.51 kB/s"
       ]
      },
      {
       "output_type": "stream",
       "stream": "stdout",
       "text": [
        "\r",
        " 12976128 of 30326502    42% in  112s   112.53 kB/s\r",
        " 12980224 of 30326502    42% in  112s   112.56 kB/s\r",
        " 12984320 of 30326502    42% in  112s   112.58 kB/s\r",
        " 12988416 of 30326502    42% in  112s   112.61 kB/s\r",
        " 12992512 of 30326502    42% in  112s   112.64 kB/s\r",
        " 12996608 of 30326502    42% in  112s   112.67 kB/s"
       ]
      },
      {
       "output_type": "stream",
       "stream": "stdout",
       "text": [
        "\r",
        " 13000704 of 30326502    42% in  112s   112.69 kB/s\r",
        " 13004800 of 30326502    42% in  112s   112.72 kB/s\r",
        " 13008896 of 30326502    42% in  112s   112.73 kB/s\r",
        " 13012992 of 30326502    42% in  112s   112.76 kB/s\r",
        " 13017088 of 30326502    42% in  112s   112.79 kB/s"
       ]
      },
      {
       "output_type": "stream",
       "stream": "stdout",
       "text": [
        "\r",
        " 13021184 of 30326502    42% in  112s   112.82 kB/s"
       ]
      },
      {
       "output_type": "stream",
       "stream": "stdout",
       "text": [
        "\r",
        " 13025280 of 30326502    42% in  112s   112.75 kB/s\r",
        " 13029376 of 30326502    42% in  112s   112.77 kB/s\r",
        " 13033472 of 30326502    42% in  112s   112.79 kB/s\r",
        " 13037568 of 30326502    42% in  112s   112.81 kB/s"
       ]
      },
      {
       "output_type": "stream",
       "stream": "stdout",
       "text": [
        "\r",
        " 13041664 of 30326502    43% in  112s   112.83 kB/s\r",
        " 13045760 of 30326502    43% in  112s   112.86 kB/s\r",
        " 13049856 of 30326502    43% in  112s   112.87 kB/s"
       ]
      },
      {
       "output_type": "stream",
       "stream": "stdout",
       "text": [
        "\r",
        " 13053952 of 30326502    43% in  112s   112.90 kB/s\r",
        " 13058048 of 30326502    43% in  112s   112.92 kB/s\r",
        " 13062144 of 30326502    43% in  112s   112.94 kB/s\r",
        " 13066240 of 30326502    43% in  112s   112.97 kB/s\r",
        " 13070336 of 30326502    43% in  112s   113.00 kB/s"
       ]
      },
      {
       "output_type": "stream",
       "stream": "stdout",
       "text": [
        "\r",
        " 13074432 of 30326502    43% in  112s   113.03 kB/s\r",
        " 13078528 of 30326502    43% in  112s   113.05 kB/s\r",
        " 13082624 of 30326502    43% in  112s   113.08 kB/s\r",
        " 13086720 of 30326502    43% in  112s   113.11 kB/s\r",
        " 13090816 of 30326502    43% in  113s   113.13 kB/s\r",
        " 13094912 of 30326502    43% in  113s   113.16 kB/s"
       ]
      },
      {
       "output_type": "stream",
       "stream": "stdout",
       "text": [
        "\r",
        " 13099008 of 30326502    43% in  113s   113.10 kB/s"
       ]
      },
      {
       "output_type": "stream",
       "stream": "stdout",
       "text": [
        "\r",
        " 13103104 of 30326502    43% in  113s   113.12 kB/s\r",
        " 13107200 of 30326502    43% in  113s   113.14 kB/s\r",
        " 13111296 of 30326502    43% in  113s   113.16 kB/s\r",
        " 13115392 of 30326502    43% in  113s   113.19 kB/s"
       ]
      },
      {
       "output_type": "stream",
       "stream": "stdout",
       "text": [
        "\r",
        " 13119488 of 30326502    43% in  113s   113.21 kB/s\r",
        " 13123584 of 30326502    43% in  113s   113.24 kB/s\r",
        " 13127680 of 30326502    43% in  113s   113.25 kB/s\r",
        " 13131776 of 30326502    43% in  113s   113.28 kB/s"
       ]
      },
      {
       "output_type": "stream",
       "stream": "stdout",
       "text": [
        "\r",
        " 13135872 of 30326502    43% in  113s   113.30 kB/s\r",
        " 13139968 of 30326502    43% in  113s   113.32 kB/s\r",
        " 13144064 of 30326502    43% in  113s   113.34 kB/s\r",
        " 13148160 of 30326502    43% in  113s   113.37 kB/s\r",
        " 13152256 of 30326502    43% in  113s   113.40 kB/s"
       ]
      },
      {
       "output_type": "stream",
       "stream": "stdout",
       "text": [
        "\r",
        " 13156352 of 30326502    43% in  113s   113.43 kB/s\r",
        " 13160448 of 30326502    43% in  113s   113.45 kB/s\r",
        " 13164544 of 30326502    43% in  113s   113.48 kB/s\r",
        " 13168640 of 30326502    43% in  113s   113.51 kB/s\r",
        " 13172736 of 30326502    43% in  113s   113.54 kB/s"
       ]
      },
      {
       "output_type": "stream",
       "stream": "stdout",
       "text": [
        "\r",
        " 13176832 of 30326502    43% in  113s   113.48 kB/s\r",
        " 13180928 of 30326502    43% in  113s   113.50 kB/s"
       ]
      },
      {
       "output_type": "stream",
       "stream": "stdout",
       "text": [
        "\r",
        " 13185024 of 30326502    43% in  113s   113.52 kB/s\r",
        " 13189120 of 30326502    43% in  113s   113.54 kB/s\r",
        " 13193216 of 30326502    43% in  113s   113.56 kB/s\r",
        " 13197312 of 30326502    43% in  113s   113.58 kB/s"
       ]
      },
      {
       "output_type": "stream",
       "stream": "stdout",
       "text": [
        "\r",
        " 13201408 of 30326502    43% in  113s   113.61 kB/s\r",
        " 13205504 of 30326502    43% in  113s   113.63 kB/s\r",
        " 13209600 of 30326502    43% in  113s   113.65 kB/s\r",
        " 13213696 of 30326502    43% in  113s   113.67 kB/s"
       ]
      },
      {
       "output_type": "stream",
       "stream": "stdout",
       "text": [
        "\r",
        " 13217792 of 30326502    43% in  113s   113.70 kB/s\r",
        " 13221888 of 30326502    43% in  113s   113.72 kB/s\r",
        " 13225984 of 30326502    43% in  113s   113.75 kB/s\r",
        " 13230080 of 30326502    43% in  113s   113.78 kB/s\r",
        " 13234176 of 30326502    43% in  113s   113.80 kB/s\r",
        " 13238272 of 30326502    43% in  113s   113.83 kB/s"
       ]
      },
      {
       "output_type": "stream",
       "stream": "stdout",
       "text": [
        "\r",
        " 13242368 of 30326502    43% in  113s   113.85 kB/s"
       ]
      },
      {
       "output_type": "stream",
       "stream": "stdout",
       "text": [
        "\r",
        " 13246464 of 30326502    43% in  113s   113.81 kB/s\r",
        " 13250560 of 30326502    43% in  113s   113.83 kB/s"
       ]
      },
      {
       "output_type": "stream",
       "stream": "stdout",
       "text": [
        "\r",
        " 13254656 of 30326502    43% in  113s   113.85 kB/s\r",
        " 13258752 of 30326502    43% in  113s   113.87 kB/s\r",
        " 13262848 of 30326502    43% in  113s   113.89 kB/s"
       ]
      },
      {
       "output_type": "stream",
       "stream": "stdout",
       "text": [
        "\r",
        " 13266944 of 30326502    43% in  113s   113.92 kB/s\r",
        " 13271040 of 30326502    43% in  113s   113.94 kB/s\r",
        " 13275136 of 30326502    43% in  113s   113.95 kB/s\r",
        " 13279232 of 30326502    43% in  113s   113.98 kB/s"
       ]
      },
      {
       "output_type": "stream",
       "stream": "stdout",
       "text": [
        "\r",
        " 13283328 of 30326502    43% in  113s   114.00 kB/s\r",
        " 13287424 of 30326502    43% in  113s   114.03 kB/s\r",
        " 13291520 of 30326502    43% in  113s   114.05 kB/s\r",
        " 13295616 of 30326502    43% in  113s   114.07 kB/s\r",
        " 13299712 of 30326502    43% in  113s   114.10 kB/s"
       ]
      },
      {
       "output_type": "stream",
       "stream": "stdout",
       "text": [
        "\r",
        " 13303808 of 30326502    43% in  113s   114.12 kB/s\r",
        " 13307904 of 30326502    43% in  113s   114.15 kB/s\r",
        " 13312000 of 30326502    43% in  113s   114.18 kB/s\r",
        " 13316096 of 30326502    43% in  113s   114.20 kB/s\r",
        " 13320192 of 30326502    43% in  113s   114.23 kB/s"
       ]
      },
      {
       "output_type": "stream",
       "stream": "stdout",
       "text": [
        "\r",
        " 13324288 of 30326502    43% in  113s   114.18 kB/s\r",
        " 13328384 of 30326502    43% in  113s   114.20 kB/s"
       ]
      },
      {
       "output_type": "stream",
       "stream": "stdout",
       "text": [
        "\r",
        " 13332480 of 30326502    43% in  113s   114.22 kB/s\r",
        " 13336576 of 30326502    43% in  113s   114.25 kB/s\r",
        " 13340672 of 30326502    43% in  114s   114.27 kB/s\r",
        " 13344768 of 30326502    44% in  114s   114.29 kB/s"
       ]
      },
      {
       "output_type": "stream",
       "stream": "stdout",
       "text": [
        "\r",
        " 13348864 of 30326502    44% in  114s   114.31 kB/s\r",
        " 13352960 of 30326502    44% in  114s   114.33 kB/s\r",
        " 13357056 of 30326502    44% in  114s   114.36 kB/s\r",
        " 13361152 of 30326502    44% in  114s   114.38 kB/s\r",
        " 13365248 of 30326502    44% in  114s   114.40 kB/s"
       ]
      },
      {
       "output_type": "stream",
       "stream": "stdout",
       "text": [
        "\r",
        " 13369344 of 30326502    44% in  114s   114.43 kB/s\r",
        " 13373440 of 30326502    44% in  114s   114.45 kB/s\r",
        " 13377536 of 30326502    44% in  114s   114.48 kB/s\r",
        " 13381632 of 30326502    44% in  114s   114.50 kB/s\r",
        " 13385728 of 30326502    44% in  114s   114.53 kB/s"
       ]
      },
      {
       "output_type": "stream",
       "stream": "stdout",
       "text": [
        "\r",
        " 13389824 of 30326502    44% in  114s   114.55 kB/s\r",
        " 13393920 of 30326502    44% in  114s   114.58 kB/s"
       ]
      },
      {
       "output_type": "stream",
       "stream": "stdout",
       "text": [
        "\r",
        " 13398016 of 30326502    44% in  114s   114.54 kB/s"
       ]
      },
      {
       "output_type": "stream",
       "stream": "stdout",
       "text": [
        "\r",
        " 13402112 of 30326502    44% in  114s   114.55 kB/s\r",
        " 13406208 of 30326502    44% in  114s   114.57 kB/s"
       ]
      },
      {
       "output_type": "stream",
       "stream": "stdout",
       "text": [
        "\r",
        " 13410304 of 30326502    44% in  114s   114.58 kB/s\r",
        " 13414400 of 30326502    44% in  114s   114.60 kB/s\r",
        " 13418496 of 30326502    44% in  114s   114.63 kB/s"
       ]
      },
      {
       "output_type": "stream",
       "stream": "stdout",
       "text": [
        "\r",
        " 13422592 of 30326502    44% in  114s   114.63 kB/s\r",
        " 13426688 of 30326502    44% in  114s   114.66 kB/s\r",
        " 13430784 of 30326502    44% in  114s   114.69 kB/s\r",
        " 13434880 of 30326502    44% in  114s   114.71 kB/s\r",
        " 13438976 of 30326502    44% in  114s   114.74 kB/s\r",
        " 13443072 of 30326502    44% in  114s   114.77 kB/s"
       ]
      },
      {
       "output_type": "stream",
       "stream": "stdout",
       "text": [
        "\r",
        " 13447168 of 30326502    44% in  114s   114.78 kB/s\r",
        " 13451264 of 30326502    44% in  114s   114.81 kB/s\r",
        " 13455360 of 30326502    44% in  114s   114.83 kB/s\r",
        " 13459456 of 30326502    44% in  114s   114.86 kB/s\r",
        " 13463552 of 30326502    44% in  114s   114.89 kB/s"
       ]
      },
      {
       "output_type": "stream",
       "stream": "stdout",
       "text": [
        "\r",
        " 13467648 of 30326502    44% in  114s   114.91 kB/s"
       ]
      },
      {
       "output_type": "stream",
       "stream": "stdout",
       "text": [
        "\r",
        " 13471744 of 30326502    44% in  114s   114.87 kB/s\r",
        " 13475840 of 30326502    44% in  114s   114.90 kB/s\r",
        " 13479936 of 30326502    44% in  114s   114.93 kB/s"
       ]
      },
      {
       "output_type": "stream",
       "stream": "stdout",
       "text": [
        "\r",
        " 13484032 of 30326502    44% in  114s   114.94 kB/s"
       ]
      },
      {
       "output_type": "stream",
       "stream": "stdout",
       "text": [
        "\r",
        " 13488128 of 30326502    44% in  114s   114.93 kB/s\r",
        " 13492224 of 30326502    44% in  114s   114.96 kB/s\r",
        " 13496320 of 30326502    44% in  114s   114.98 kB/s\r",
        " 13500416 of 30326502    44% in  114s   115.01 kB/s\r",
        " 13504512 of 30326502    44% in  114s   115.03 kB/s"
       ]
      },
      {
       "output_type": "stream",
       "stream": "stdout",
       "text": [
        "\r",
        " 13508608 of 30326502    44% in  114s   115.04 kB/s\r",
        " 13512704 of 30326502    44% in  114s   115.07 kB/s\r",
        " 13516800 of 30326502    44% in  114s   115.09 kB/s\r",
        " 13520896 of 30326502    44% in  114s   115.11 kB/s"
       ]
      },
      {
       "output_type": "stream",
       "stream": "stdout",
       "text": [
        "\r",
        " 13524992 of 30326502    44% in  114s   115.14 kB/s\r",
        " 13529088 of 30326502    44% in  114s   115.16 kB/s\r",
        " 13533184 of 30326502    44% in  114s   115.19 kB/s\r",
        " 13537280 of 30326502    44% in  114s   115.22 kB/s"
       ]
      },
      {
       "output_type": "stream",
       "stream": "stdout",
       "text": [
        "\r",
        " 13541376 of 30326502    44% in  114s   115.19 kB/s"
       ]
      },
      {
       "output_type": "stream",
       "stream": "stdout",
       "text": [
        "\r",
        " 13545472 of 30326502    44% in  114s   115.21 kB/s\r",
        " 13549568 of 30326502    44% in  114s   115.24 kB/s\r",
        " 13553664 of 30326502    44% in  114s   115.27 kB/s"
       ]
      },
      {
       "output_type": "stream",
       "stream": "stdout",
       "text": [
        "\r",
        " 13557760 of 30326502    44% in  114s   115.23 kB/s\r",
        " 13561856 of 30326502    44% in  114s   115.26 kB/s"
       ]
      },
      {
       "output_type": "stream",
       "stream": "stdout",
       "text": [
        "\r",
        " 13565952 of 30326502    44% in  114s   115.29 kB/s\r",
        " 13570048 of 30326502    44% in  114s   115.31 kB/s\r",
        " 13574144 of 30326502    44% in  114s   115.34 kB/s\r",
        " 13578240 of 30326502    44% in  114s   115.37 kB/s\r",
        " 13582336 of 30326502    44% in  114s   115.39 kB/s"
       ]
      },
      {
       "output_type": "stream",
       "stream": "stdout",
       "text": [
        "\r",
        " 13586432 of 30326502    44% in  114s   115.39 kB/s\r",
        " 13590528 of 30326502    44% in  114s   115.41 kB/s\r",
        " 13594624 of 30326502    44% in  115s   115.44 kB/s\r",
        " 13598720 of 30326502    44% in  115s   115.47 kB/s"
       ]
      },
      {
       "output_type": "stream",
       "stream": "stdout",
       "text": [
        "\r",
        " 13602816 of 30326502    44% in  115s   115.49 kB/s\r",
        " 13606912 of 30326502    44% in  115s   115.52 kB/s\r",
        " 13611008 of 30326502    44% in  115s   115.54 kB/s"
       ]
      },
      {
       "output_type": "stream",
       "stream": "stdout",
       "text": [
        "\r",
        " 13615104 of 30326502    44% in  115s   115.53 kB/s\r",
        " 13619200 of 30326502    44% in  115s   115.55 kB/s\r",
        " 13623296 of 30326502    44% in  115s   115.58 kB/s\r",
        " 13627392 of 30326502    44% in  115s   115.61 kB/s"
       ]
      },
      {
       "output_type": "stream",
       "stream": "stdout",
       "text": [
        "\r",
        " 13631488 of 30326502    44% in  115s   115.57 kB/s\r",
        " 13635584 of 30326502    44% in  115s   115.60 kB/s\r",
        " 13639680 of 30326502    44% in  115s   115.62 kB/s\r",
        " 13643776 of 30326502    44% in  115s   115.65 kB/s"
       ]
      },
      {
       "output_type": "stream",
       "stream": "stdout",
       "text": [
        "\r",
        " 13647872 of 30326502    45% in  115s   115.68 kB/s\r",
        " 13651968 of 30326502    45% in  115s   115.69 kB/s\r",
        " 13656064 of 30326502    45% in  115s   115.72 kB/s\r",
        " 13660160 of 30326502    45% in  115s   115.75 kB/s"
       ]
      },
      {
       "output_type": "stream",
       "stream": "stdout",
       "text": [
        "\r",
        " 13664256 of 30326502    45% in  115s   115.74 kB/s\r",
        " 13668352 of 30326502    45% in  115s   115.77 kB/s\r",
        " 13672448 of 30326502    45% in  115s   115.79 kB/s\r",
        " 13676544 of 30326502    45% in  115s   115.82 kB/s"
       ]
      },
      {
       "output_type": "stream",
       "stream": "stdout",
       "text": [
        "\r",
        " 13680640 of 30326502    45% in  115s   115.85 kB/s\r",
        " 13684736 of 30326502    45% in  115s   115.87 kB/s"
       ]
      },
      {
       "output_type": "stream",
       "stream": "stdout",
       "text": [
        "\r",
        " 13688832 of 30326502    45% in  115s   115.85 kB/s\r",
        " 13692928 of 30326502    45% in  115s   115.88 kB/s\r",
        " 13697024 of 30326502    45% in  115s   115.90 kB/s"
       ]
      },
      {
       "output_type": "stream",
       "stream": "stdout",
       "text": [
        "\r",
        " 13701120 of 30326502    45% in  115s   115.88 kB/s"
       ]
      },
      {
       "output_type": "stream",
       "stream": "stdout",
       "text": [
        "\r",
        " 13705216 of 30326502    45% in  115s   115.90 kB/s\r",
        " 13709312 of 30326502    45% in  115s   115.93 kB/s\r",
        " 13713408 of 30326502    45% in  115s   115.95 kB/s\r",
        " 13717504 of 30326502    45% in  115s   115.98 kB/s\r",
        " 13721600 of 30326502    45% in  115s   116.00 kB/s"
       ]
      },
      {
       "output_type": "stream",
       "stream": "stdout",
       "text": [
        "\r",
        " 13725696 of 30326502    45% in  115s   116.03 kB/s\r",
        " 13729792 of 30326502    45% in  115s   116.05 kB/s"
       ]
      },
      {
       "output_type": "stream",
       "stream": "stdout",
       "text": [
        "\r",
        " 13733888 of 30326502    45% in  115s   116.04 kB/s\r",
        " 13737984 of 30326502    45% in  115s   116.07 kB/s\r",
        " 13742080 of 30326502    45% in  115s   116.10 kB/s\r",
        " 13746176 of 30326502    45% in  115s   116.12 kB/s\r",
        " 13750272 of 30326502    45% in  115s   116.15 kB/s\r",
        " 13754368 of 30326502    45% in  115s   116.18 kB/s"
       ]
      },
      {
       "output_type": "stream",
       "stream": "stdout",
       "text": [
        "\r",
        " 13758464 of 30326502    45% in  115s   116.16 kB/s"
       ]
      },
      {
       "output_type": "stream",
       "stream": "stdout",
       "text": [
        "\r",
        " 13762560 of 30326502    45% in  115s   116.18 kB/s\r",
        " 13766656 of 30326502    45% in  115s   116.21 kB/s"
       ]
      },
      {
       "output_type": "stream",
       "stream": "stdout",
       "text": [
        "\r",
        " 13770752 of 30326502    45% in  115s   116.18 kB/s\r",
        " 13774848 of 30326502    45% in  115s   116.21 kB/s\r",
        " 13778944 of 30326502    45% in  115s   116.24 kB/s\r",
        " 13783040 of 30326502    45% in  115s   116.26 kB/s"
       ]
      },
      {
       "output_type": "stream",
       "stream": "stdout",
       "text": [
        "\r",
        " 13787136 of 30326502    45% in  115s   116.29 kB/s\r",
        " 13791232 of 30326502    45% in  115s   116.31 kB/s\r",
        " 13795328 of 30326502    45% in  115s   116.33 kB/s\r",
        " 13799424 of 30326502    45% in  115s   116.36 kB/s\r",
        " 13803520 of 30326502    45% in  115s   116.38 kB/s"
       ]
      },
      {
       "output_type": "stream",
       "stream": "stdout",
       "text": [
        "\r",
        " 13807616 of 30326502    45% in  115s   116.40 kB/s\r",
        " 13811712 of 30326502    45% in  115s   116.40 kB/s"
       ]
      },
      {
       "output_type": "stream",
       "stream": "stdout",
       "text": [
        "\r",
        " 13815808 of 30326502    45% in  115s   116.42 kB/s\r",
        " 13819904 of 30326502    45% in  115s   116.45 kB/s\r",
        " 13824000 of 30326502    45% in  115s   116.47 kB/s\r",
        " 13828096 of 30326502    45% in  115s   116.50 kB/s"
       ]
      },
      {
       "output_type": "stream",
       "stream": "stdout",
       "text": [
        "\r",
        " 13832192 of 30326502    45% in  115s   116.49 kB/s\r",
        " 13836288 of 30326502    45% in  115s   116.51 kB/s\r",
        " 13840384 of 30326502    45% in  115s   116.54 kB/s"
       ]
      },
      {
       "output_type": "stream",
       "stream": "stdout",
       "text": [
        "\r",
        " 13844480 of 30326502    45% in  115s   116.57 kB/s"
       ]
      },
      {
       "output_type": "stream",
       "stream": "stdout",
       "text": [
        "\r",
        " 13848576 of 30326502    45% in  116s   116.53 kB/s\r",
        " 13852672 of 30326502    45% in  116s   116.56 kB/s\r",
        " 13856768 of 30326502    45% in  116s   116.58 kB/s\r",
        " 13860864 of 30326502    45% in  116s   116.61 kB/s"
       ]
      },
      {
       "output_type": "stream",
       "stream": "stdout",
       "text": [
        "\r",
        " 13864960 of 30326502    45% in  116s   116.63 kB/s\r",
        " 13869056 of 30326502    45% in  116s   116.66 kB/s\r",
        " 13873152 of 30326502    45% in  116s   116.69 kB/s\r",
        " 13877248 of 30326502    45% in  116s   116.69 kB/s"
       ]
      },
      {
       "output_type": "stream",
       "stream": "stdout",
       "text": [
        "\r",
        " 13881344 of 30326502    45% in  116s   116.72 kB/s\r",
        " 13885440 of 30326502    45% in  116s   116.75 kB/s\r",
        " 13889536 of 30326502    45% in  116s   116.75 kB/s"
       ]
      },
      {
       "output_type": "stream",
       "stream": "stdout",
       "text": [
        "\r",
        " 13893632 of 30326502    45% in  116s   116.77 kB/s\r",
        " 13897728 of 30326502    45% in  116s   116.80 kB/s\r",
        " 13901824 of 30326502    45% in  116s   116.82 kB/s\r",
        " 13905920 of 30326502    45% in  116s   116.85 kB/s"
       ]
      },
      {
       "output_type": "stream",
       "stream": "stdout",
       "text": [
        "\r",
        " 13910016 of 30326502    45% in  116s   116.86 kB/s"
       ]
      },
      {
       "output_type": "stream",
       "stream": "stdout",
       "text": [
        "\r",
        " 13914112 of 30326502    45% in  116s   116.84 kB/s\r",
        " 13918208 of 30326502    45% in  116s   116.87 kB/s\r",
        " 13922304 of 30326502    45% in  116s   116.89 kB/s\r",
        " 13926400 of 30326502    45% in  116s   116.90 kB/s"
       ]
      },
      {
       "output_type": "stream",
       "stream": "stdout",
       "text": [
        "\r",
        " 13930496 of 30326502    45% in  116s   116.92 kB/s\r",
        " 13934592 of 30326502    45% in  116s   116.95 kB/s\r",
        " 13938688 of 30326502    45% in  116s   116.98 kB/s\r",
        " 13942784 of 30326502    45% in  116s   116.99 kB/s"
       ]
      },
      {
       "output_type": "stream",
       "stream": "stdout",
       "text": [
        "\r",
        " 13946880 of 30326502    45% in  116s   117.01 kB/s\r",
        " 13950976 of 30326502    46% in  116s   117.04 kB/s\r",
        " 13955072 of 30326502    46% in  116s   117.05 kB/s\r",
        " 13959168 of 30326502    46% in  116s   117.07 kB/s"
       ]
      },
      {
       "output_type": "stream",
       "stream": "stdout",
       "text": [
        "\r",
        " 13963264 of 30326502    46% in  116s   117.10 kB/s\r",
        " 13967360 of 30326502    46% in  116s   117.11 kB/s\r",
        " 13971456 of 30326502    46% in  116s   117.13 kB/s\r",
        " 13975552 of 30326502    46% in  116s   117.15 kB/s"
       ]
      },
      {
       "output_type": "stream",
       "stream": "stdout",
       "text": [
        "\r",
        " 13979648 of 30326502    46% in  116s   117.16 kB/s\r",
        " 13983744 of 30326502    46% in  116s   117.18 kB/s\r",
        " 13987840 of 30326502    46% in  116s   117.21 kB/s"
       ]
      },
      {
       "output_type": "stream",
       "stream": "stdout",
       "text": [
        "\r",
        " 13991936 of 30326502    46% in  116s   117.20 kB/s\r",
        " 13996032 of 30326502    46% in  116s   117.23 kB/s"
       ]
      },
      {
       "output_type": "stream",
       "stream": "stdout",
       "text": [
        "\r",
        " 14000128 of 30326502    46% in  116s   117.25 kB/s\r",
        " 14004224 of 30326502    46% in  116s   117.26 kB/s\r",
        " 14008320 of 30326502    46% in  116s   117.29 kB/s"
       ]
      },
      {
       "output_type": "stream",
       "stream": "stdout",
       "text": [
        "\r",
        " 14012416 of 30326502    46% in  116s   117.28 kB/s\r",
        " 14016512 of 30326502    46% in  116s   117.31 kB/s\r",
        " 14020608 of 30326502    46% in  116s   117.34 kB/s\r",
        " 14024704 of 30326502    46% in  116s   117.36 kB/s"
       ]
      },
      {
       "output_type": "stream",
       "stream": "stdout",
       "text": [
        "\r",
        " 14028800 of 30326502    46% in  116s   117.39 kB/s\r",
        " 14032896 of 30326502    46% in  116s   117.41 kB/s"
       ]
      },
      {
       "output_type": "stream",
       "stream": "stdout",
       "text": [
        "\r",
        " 14036992 of 30326502    46% in  116s   117.41 kB/s\r",
        " 14041088 of 30326502    46% in  116s   117.43 kB/s\r",
        " 14045184 of 30326502    46% in  116s   117.46 kB/s\r",
        " 14049280 of 30326502    46% in  116s   117.48 kB/s\r",
        " 14053376 of 30326502    46% in  116s   117.50 kB/s"
       ]
      },
      {
       "output_type": "stream",
       "stream": "stdout",
       "text": [
        "\r",
        " 14057472 of 30326502    46% in  116s   117.53 kB/s\r",
        " 14061568 of 30326502    46% in  116s   117.53 kB/s\r",
        " 14065664 of 30326502    46% in  116s   117.56 kB/s\r",
        " 14069760 of 30326502    46% in  116s   117.59 kB/s"
       ]
      },
      {
       "output_type": "stream",
       "stream": "stdout",
       "text": [
        "\r",
        " 14073856 of 30326502    46% in  116s   117.59 kB/s"
       ]
      },
      {
       "output_type": "stream",
       "stream": "stdout",
       "text": [
        "\r",
        " 14077952 of 30326502    46% in  117s   117.31 kB/s\r",
        " 14082048 of 30326502    46% in  117s   117.34 kB/s\r",
        " 14086144 of 30326502    46% in  117s   117.38 kB/s\r",
        " 14090240 of 30326502    46% in  117s   117.41 kB/s\r",
        " 14094336 of 30326502    46% in  117s   117.44 kB/s\r",
        " 14098432 of 30326502    46% in  117s   117.48 kB/s\r",
        " 14102528 of 30326502    46% in  117s   117.51 kB/s\r",
        " 14106624 of 30326502    46% in  117s   117.55 kB/s\r",
        " 14110720 of 30326502    46% in  117s   117.58 kB/s\r",
        " 14114816 of 30326502    46% in  117s   117.61 kB/s\r",
        " 14118912 of 30326502    46% in  117s   117.65 kB/s\r",
        " 14123008 of 30326502    46% in  117s   117.68 kB/s\r",
        " 14127104 of 30326502    46% in  117s   117.72 kB/s\r",
        " 14131200 of 30326502    46% in  117s   117.75 kB/s\r",
        " 14135296 of 30326502    46% in  117s   117.78 kB/s\r",
        " 14139392 of 30326502    46% in  117s   117.82 kB/s\r",
        " 14143488 of 30326502    46% in  117s   117.85 kB/s\r",
        " 14147584 of 30326502    46% in  117s   117.89 kB/s\r",
        " 14151680 of 30326502    46% in  117s   117.92 kB/s\r",
        " 14155776 of 30326502    46% in  117s   117.95 kB/s"
       ]
      },
      {
       "output_type": "stream",
       "stream": "stdout",
       "text": [
        "\r",
        " 14159872 of 30326502    46% in  117s   117.94 kB/s"
       ]
      },
      {
       "output_type": "stream",
       "stream": "stdout",
       "text": [
        "\r",
        " 14163968 of 30326502    46% in  117s   117.95 kB/s\r",
        " 14168064 of 30326502    46% in  117s   117.94 kB/s"
       ]
      },
      {
       "output_type": "stream",
       "stream": "stdout",
       "text": [
        "\r",
        " 14172160 of 30326502    46% in  117s   117.96 kB/s\r",
        " 14176256 of 30326502    46% in  117s   117.98 kB/s\r",
        " 14180352 of 30326502    46% in  117s   118.00 kB/s"
       ]
      },
      {
       "output_type": "stream",
       "stream": "stdout",
       "text": [
        "\r",
        " 14184448 of 30326502    46% in  117s   118.03 kB/s\r",
        " 14188544 of 30326502    46% in  117s   118.05 kB/s\r",
        " 14192640 of 30326502    46% in  117s   118.07 kB/s\r",
        " 14196736 of 30326502    46% in  117s   118.10 kB/s\r",
        " 14200832 of 30326502    46% in  117s   118.13 kB/s"
       ]
      },
      {
       "output_type": "stream",
       "stream": "stdout",
       "text": [
        "\r",
        " 14204928 of 30326502    46% in  117s   118.11 kB/s\r",
        " 14209024 of 30326502    46% in  117s   118.14 kB/s"
       ]
      },
      {
       "output_type": "stream",
       "stream": "stdout",
       "text": [
        "\r",
        " 14213120 of 30326502    46% in  117s   118.16 kB/s\r",
        " 14217216 of 30326502    46% in  117s   118.19 kB/s"
       ]
      },
      {
       "output_type": "stream",
       "stream": "stdout",
       "text": [
        "\r",
        " 14221312 of 30326502    46% in  117s   118.16 kB/s\r",
        " 14225408 of 30326502    46% in  117s   118.18 kB/s\r",
        " 14229504 of 30326502    46% in  117s   118.20 kB/s"
       ]
      },
      {
       "output_type": "stream",
       "stream": "stdout",
       "text": [
        "\r",
        " 14233600 of 30326502    46% in  117s   118.19 kB/s"
       ]
      },
      {
       "output_type": "stream",
       "stream": "stdout",
       "text": [
        "\r",
        " 14237696 of 30326502    46% in  117s   118.20 kB/s\r",
        " 14241792 of 30326502    46% in  117s   118.23 kB/s\r",
        " 14245888 of 30326502    46% in  117s   118.25 kB/s\r",
        " 14249984 of 30326502    46% in  117s   118.28 kB/s\r",
        " 14254080 of 30326502    47% in  117s   118.30 kB/s"
       ]
      },
      {
       "output_type": "stream",
       "stream": "stdout",
       "text": [
        "\r",
        " 14258176 of 30326502    47% in  117s   118.32 kB/s\r",
        " 14262272 of 30326502    47% in  117s   118.35 kB/s"
       ]
      },
      {
       "output_type": "stream",
       "stream": "stdout",
       "text": [
        "\r",
        " 14266368 of 30326502    47% in  117s   118.34 kB/s\r",
        " 14270464 of 30326502    47% in  117s   118.36 kB/s\r",
        " 14274560 of 30326502    47% in  117s   118.39 kB/s\r",
        " 14278656 of 30326502    47% in  117s   118.41 kB/s\r",
        " 14282752 of 30326502    47% in  117s   118.44 kB/s"
       ]
      },
      {
       "output_type": "stream",
       "stream": "stdout",
       "text": [
        "\r",
        " 14286848 of 30326502    47% in  117s   118.41 kB/s"
       ]
      },
      {
       "output_type": "stream",
       "stream": "stdout",
       "text": [
        "\r",
        " 14290944 of 30326502    47% in  117s   118.44 kB/s\r",
        " 14295040 of 30326502    47% in  117s   118.43 kB/s"
       ]
      },
      {
       "output_type": "stream",
       "stream": "stdout",
       "text": [
        "\r",
        " 14299136 of 30326502    47% in  117s   118.44 kB/s\r",
        " 14303232 of 30326502    47% in  117s   118.45 kB/s\r",
        " 14307328 of 30326502    47% in  117s   118.48 kB/s"
       ]
      },
      {
       "output_type": "stream",
       "stream": "stdout",
       "text": [
        "\r",
        " 14311424 of 30326502    47% in  117s   118.51 kB/s\r",
        " 14315520 of 30326502    47% in  117s   118.53 kB/s\r",
        " 14319616 of 30326502    47% in  117s   118.56 kB/s\r",
        " 14323712 of 30326502    47% in  117s   118.57 kB/s"
       ]
      },
      {
       "output_type": "stream",
       "stream": "stdout",
       "text": [
        "\r",
        " 14327808 of 30326502    47% in  118s   118.57 kB/s"
       ]
      },
      {
       "output_type": "stream",
       "stream": "stdout",
       "text": [
        "\r",
        " 14331904 of 30326502    47% in  118s   118.58 kB/s\r",
        " 14336000 of 30326502    47% in  118s   118.61 kB/s\r",
        " 14340096 of 30326502    47% in  118s   118.63 kB/s\r",
        " 14344192 of 30326502    47% in  118s   118.65 kB/s"
       ]
      },
      {
       "output_type": "stream",
       "stream": "stdout",
       "text": [
        "\r",
        " 14348288 of 30326502    47% in  118s   118.64 kB/s\r",
        " 14352384 of 30326502    47% in  118s   118.66 kB/s"
       ]
      },
      {
       "output_type": "stream",
       "stream": "stdout",
       "text": [
        "\r",
        " 14356480 of 30326502    47% in  118s   118.66 kB/s\r",
        " 14360576 of 30326502    47% in  118s   118.67 kB/s"
       ]
      },
      {
       "output_type": "stream",
       "stream": "stdout",
       "text": [
        "\r",
        " 14364672 of 30326502    47% in  118s   118.69 kB/s\r",
        " 14368768 of 30326502    47% in  118s   118.71 kB/s\r",
        " 14372864 of 30326502    47% in  118s   118.73 kB/s\r",
        " 14376960 of 30326502    47% in  118s   118.75 kB/s"
       ]
      },
      {
       "output_type": "stream",
       "stream": "stdout",
       "text": [
        "\r",
        " 14381056 of 30326502    47% in  118s   118.78 kB/s\r",
        " 14385152 of 30326502    47% in  118s   118.80 kB/s\r",
        " 14389248 of 30326502    47% in  118s   118.83 kB/s"
       ]
      },
      {
       "output_type": "stream",
       "stream": "stdout",
       "text": [
        "\r",
        " 14393344 of 30326502    47% in  118s   118.81 kB/s\r",
        " 14397440 of 30326502    47% in  118s   118.83 kB/s\r",
        " 14401536 of 30326502    47% in  118s   118.85 kB/s"
       ]
      },
      {
       "output_type": "stream",
       "stream": "stdout",
       "text": [
        "\r",
        " 14405632 of 30326502    47% in  118s   118.88 kB/s"
       ]
      },
      {
       "output_type": "stream",
       "stream": "stdout",
       "text": [
        "\r",
        " 14409728 of 30326502    47% in  118s   118.86 kB/s\r",
        " 14413824 of 30326502    47% in  118s   118.89 kB/s\r",
        " 14417920 of 30326502    47% in  118s   118.91 kB/s"
       ]
      },
      {
       "output_type": "stream",
       "stream": "stdout",
       "text": [
        "\r",
        " 14422016 of 30326502    47% in  118s   118.91 kB/s\r",
        " 14426112 of 30326502    47% in  118s   118.92 kB/s"
       ]
      },
      {
       "output_type": "stream",
       "stream": "stdout",
       "text": [
        "\r",
        " 14430208 of 30326502    47% in  118s   118.93 kB/s\r",
        " 14434304 of 30326502    47% in  118s   118.95 kB/s\r",
        " 14438400 of 30326502    47% in  118s   118.98 kB/s\r",
        " 14442496 of 30326502    47% in  118s   119.01 kB/s\r",
        " 14446592 of 30326502    47% in  118s   119.03 kB/s\r",
        " 14450688 of 30326502    47% in  118s   119.05 kB/s"
       ]
      },
      {
       "output_type": "stream",
       "stream": "stdout",
       "text": [
        "\r",
        " 14454784 of 30326502    47% in  118s   119.03 kB/s\r",
        " 14458880 of 30326502    47% in  118s   119.05 kB/s\r",
        " 14462976 of 30326502    47% in  118s   119.08 kB/s\r",
        " 14467072 of 30326502    47% in  118s   119.11 kB/s\r",
        " 14471168 of 30326502    47% in  118s   119.13 kB/s"
       ]
      },
      {
       "output_type": "stream",
       "stream": "stdout",
       "text": [
        "\r",
        " 14475264 of 30326502    47% in  118s   119.12 kB/s\r",
        " 14479360 of 30326502    47% in  118s   119.14 kB/s"
       ]
      },
      {
       "output_type": "stream",
       "stream": "stdout",
       "text": [
        "\r",
        " 14483456 of 30326502    47% in  118s   119.13 kB/s"
       ]
      },
      {
       "output_type": "stream",
       "stream": "stdout",
       "text": [
        "\r",
        " 14487552 of 30326502    47% in  118s   119.14 kB/s\r",
        " 14491648 of 30326502    47% in  118s   119.17 kB/s\r",
        " 14495744 of 30326502    47% in  118s   119.18 kB/s\r",
        " 14499840 of 30326502    47% in  118s   119.20 kB/s\r",
        " 14503936 of 30326502    47% in  118s   119.23 kB/s"
       ]
      },
      {
       "output_type": "stream",
       "stream": "stdout",
       "text": [
        "\r",
        " 14508032 of 30326502    47% in  118s   119.25 kB/s\r",
        " 14512128 of 30326502    47% in  118s   119.27 kB/s\r",
        " 14516224 of 30326502    47% in  118s   119.30 kB/s"
       ]
      },
      {
       "output_type": "stream",
       "stream": "stdout",
       "text": [
        "\r",
        " 14520320 of 30326502    47% in  118s   119.28 kB/s\r",
        " 14524416 of 30326502    47% in  118s   119.31 kB/s\r",
        " 14528512 of 30326502    47% in  118s   119.33 kB/s"
       ]
      },
      {
       "output_type": "stream",
       "stream": "stdout",
       "text": [
        "\r",
        " 14532608 of 30326502    47% in  118s   119.35 kB/s\r",
        " 14536704 of 30326502    47% in  118s   119.38 kB/s"
       ]
      },
      {
       "output_type": "stream",
       "stream": "stdout",
       "text": [
        "\r",
        " 14540800 of 30326502    47% in  118s   119.37 kB/s\r",
        " 14544896 of 30326502    47% in  118s   119.39 kB/s"
       ]
      },
      {
       "output_type": "stream",
       "stream": "stdout",
       "text": [
        "\r",
        " 14548992 of 30326502    47% in  119s   119.38 kB/s\r",
        " 14553088 of 30326502    47% in  119s   119.39 kB/s"
       ]
      },
      {
       "output_type": "stream",
       "stream": "stdout",
       "text": [
        "\r",
        " 14557184 of 30326502    48% in  119s   119.40 kB/s\r",
        " 14561280 of 30326502    48% in  119s   119.43 kB/s\r",
        " 14565376 of 30326502    48% in  119s   119.45 kB/s\r",
        " 14569472 of 30326502    48% in  119s   119.48 kB/s\r",
        " 14573568 of 30326502    48% in  119s   119.50 kB/s"
       ]
      },
      {
       "output_type": "stream",
       "stream": "stdout",
       "text": [
        "\r",
        " 14577664 of 30326502    48% in  119s   119.52 kB/s\r",
        " 14581760 of 30326502    48% in  119s   119.55 kB/s"
       ]
      },
      {
       "output_type": "stream",
       "stream": "stdout",
       "text": [
        "\r",
        " 14585856 of 30326502    48% in  119s   119.53 kB/s\r",
        " 14589952 of 30326502    48% in  119s   119.55 kB/s\r",
        " 14594048 of 30326502    48% in  119s   119.58 kB/s\r",
        " 14598144 of 30326502    48% in  119s   119.60 kB/s\r",
        " 14602240 of 30326502    48% in  119s   119.63 kB/s"
       ]
      },
      {
       "output_type": "stream",
       "stream": "stdout",
       "text": [
        "\r",
        " 14606336 of 30326502    48% in  119s   119.62 kB/s"
       ]
      },
      {
       "output_type": "stream",
       "stream": "stdout",
       "text": [
        "\r",
        " 14610432 of 30326502    48% in  119s   119.59 kB/s"
       ]
      },
      {
       "output_type": "stream",
       "stream": "stdout",
       "text": [
        "\r",
        " 14614528 of 30326502    48% in  119s   119.61 kB/s\r",
        " 14618624 of 30326502    48% in  119s   119.62 kB/s\r",
        " 14622720 of 30326502    48% in  119s   119.65 kB/s\r",
        " 14626816 of 30326502    48% in  119s   119.67 kB/s"
       ]
      },
      {
       "output_type": "stream",
       "stream": "stdout",
       "text": [
        "\r",
        " 14630912 of 30326502    48% in  119s   119.70 kB/s\r",
        " 14635008 of 30326502    48% in  119s   119.72 kB/s\r",
        " 14639104 of 30326502    48% in  119s   119.75 kB/s\r",
        " 14643200 of 30326502    48% in  119s   119.77 kB/s"
       ]
      },
      {
       "output_type": "stream",
       "stream": "stdout",
       "text": [
        "\r",
        " 14647296 of 30326502    48% in  119s   119.75 kB/s\r",
        " 14651392 of 30326502    48% in  119s   119.78 kB/s\r",
        " 14655488 of 30326502    48% in  119s   119.80 kB/s"
       ]
      },
      {
       "output_type": "stream",
       "stream": "stdout",
       "text": [
        "\r",
        " 14659584 of 30326502    48% in  119s   119.83 kB/s\r",
        " 14663680 of 30326502    48% in  119s   119.85 kB/s"
       ]
      },
      {
       "output_type": "stream",
       "stream": "stdout",
       "text": [
        "\r",
        " 14667776 of 30326502    48% in  119s   119.84 kB/s\r",
        " 14671872 of 30326502    48% in  119s   119.86 kB/s"
       ]
      },
      {
       "output_type": "stream",
       "stream": "stdout",
       "text": [
        "\r",
        " 14675968 of 30326502    48% in  119s   119.84 kB/s\r",
        " 14680064 of 30326502    48% in  119s   119.86 kB/s"
       ]
      },
      {
       "output_type": "stream",
       "stream": "stdout",
       "text": [
        "\r",
        " 14684160 of 30326502    48% in  119s   119.87 kB/s\r",
        " 14688256 of 30326502    48% in  119s   119.89 kB/s\r",
        " 14692352 of 30326502    48% in  119s   119.92 kB/s\r",
        " 14696448 of 30326502    48% in  119s   119.95 kB/s\r",
        " 14700544 of 30326502    48% in  119s   119.97 kB/s"
       ]
      },
      {
       "output_type": "stream",
       "stream": "stdout",
       "text": [
        "\r",
        " 14704640 of 30326502    48% in  119s   119.99 kB/s\r",
        " 14708736 of 30326502    48% in  119s   120.02 kB/s"
       ]
      },
      {
       "output_type": "stream",
       "stream": "stdout",
       "text": [
        "\r",
        " 14712832 of 30326502    48% in  119s   120.00 kB/s\r",
        " 14716928 of 30326502    48% in  119s   120.03 kB/s\r",
        " 14721024 of 30326502    48% in  119s   120.05 kB/s\r",
        " 14725120 of 30326502    48% in  119s   120.08 kB/s\r",
        " 14729216 of 30326502    48% in  119s   120.10 kB/s"
       ]
      },
      {
       "output_type": "stream",
       "stream": "stdout",
       "text": [
        "\r",
        " 14733312 of 30326502    48% in  119s   120.09 kB/s\r",
        " 14737408 of 30326502    48% in  119s   120.11 kB/s"
       ]
      },
      {
       "output_type": "stream",
       "stream": "stdout",
       "text": [
        "\r",
        " 14741504 of 30326502    48% in  119s   120.09 kB/s\r",
        " 14745600 of 30326502    48% in  119s   120.11 kB/s\r",
        " 14749696 of 30326502    48% in  119s   120.12 kB/s\r",
        " 14753792 of 30326502    48% in  119s   120.15 kB/s"
       ]
      },
      {
       "output_type": "stream",
       "stream": "stdout",
       "text": [
        "\r",
        " 14757888 of 30326502    48% in  119s   120.17 kB/s\r",
        " 14761984 of 30326502    48% in  119s   120.20 kB/s\r",
        " 14766080 of 30326502    48% in  119s   120.22 kB/s\r",
        " 14770176 of 30326502    48% in  119s   120.24 kB/s\r",
        " 14774272 of 30326502    48% in  119s   120.27 kB/s"
       ]
      },
      {
       "output_type": "stream",
       "stream": "stdout",
       "text": [
        "\r",
        " 14778368 of 30326502    48% in  120s   120.25 kB/s\r",
        " 14782464 of 30326502    48% in  120s   120.28 kB/s"
       ]
      },
      {
       "output_type": "stream",
       "stream": "stdout",
       "text": [
        "\r",
        " 14786560 of 30326502    48% in  120s   120.30 kB/s\r",
        " 14790656 of 30326502    48% in  120s   120.33 kB/s\r",
        " 14794752 of 30326502    48% in  120s   120.34 kB/s"
       ]
      },
      {
       "output_type": "stream",
       "stream": "stdout",
       "text": [
        "\r",
        " 14798848 of 30326502    48% in  120s   120.34 kB/s\r",
        " 14802944 of 30326502    48% in  120s   120.36 kB/s\r",
        " 14807040 of 30326502    48% in  120s   120.39 kB/s"
       ]
      },
      {
       "output_type": "stream",
       "stream": "stdout",
       "text": [
        "\r",
        " 14811136 of 30326502    48% in  120s   120.36 kB/s"
       ]
      },
      {
       "output_type": "stream",
       "stream": "stdout",
       "text": [
        "\r",
        " 14815232 of 30326502    48% in  120s   120.38 kB/s\r",
        " 14819328 of 30326502    48% in  120s   120.40 kB/s\r",
        " 14823424 of 30326502    48% in  120s   120.42 kB/s\r",
        " 14827520 of 30326502    48% in  120s   120.44 kB/s\r",
        " 14831616 of 30326502    48% in  120s   120.47 kB/s"
       ]
      },
      {
       "output_type": "stream",
       "stream": "stdout",
       "text": [
        "\r",
        " 14835712 of 30326502    48% in  120s   120.49 kB/s\r",
        " 14839808 of 30326502    48% in  120s   120.52 kB/s"
       ]
      },
      {
       "output_type": "stream",
       "stream": "stdout",
       "text": [
        "\r",
        " 14843904 of 30326502    48% in  120s   120.50 kB/s\r",
        " 14848000 of 30326502    48% in  120s   120.52 kB/s\r",
        " 14852096 of 30326502    48% in  120s   120.55 kB/s\r",
        " 14856192 of 30326502    48% in  120s   120.57 kB/s\r",
        " 14860288 of 30326502    49% in  120s   120.60 kB/s"
       ]
      },
      {
       "output_type": "stream",
       "stream": "stdout",
       "text": [
        "\r",
        " 14864384 of 30326502    49% in  120s   120.59 kB/s"
       ]
      },
      {
       "output_type": "stream",
       "stream": "stdout",
       "text": [
        "\r",
        " 14868480 of 30326502    49% in  120s   120.61 kB/s"
       ]
      },
      {
       "output_type": "stream",
       "stream": "stdout",
       "text": [
        "\r",
        " 14872576 of 30326502    49% in  120s   120.58 kB/s\r",
        " 14876672 of 30326502    49% in  120s   120.61 kB/s\r",
        " 14880768 of 30326502    49% in  120s   120.62 kB/s\r",
        " 14884864 of 30326502    49% in  120s   120.64 kB/s"
       ]
      },
      {
       "output_type": "stream",
       "stream": "stdout",
       "text": [
        "\r",
        " 14888960 of 30326502    49% in  120s   120.67 kB/s\r",
        " 14893056 of 30326502    49% in  120s   120.69 kB/s\r",
        " 14897152 of 30326502    49% in  120s   120.72 kB/s\r",
        " 14901248 of 30326502    49% in  120s   120.74 kB/s\r",
        " 14905344 of 30326502    49% in  120s   120.76 kB/s"
       ]
      },
      {
       "output_type": "stream",
       "stream": "stdout",
       "text": [
        "\r",
        " 14909440 of 30326502    49% in  120s   120.74 kB/s\r",
        " 14913536 of 30326502    49% in  120s   120.77 kB/s"
       ]
      },
      {
       "output_type": "stream",
       "stream": "stdout",
       "text": [
        "\r",
        " 14917632 of 30326502    49% in  120s   120.79 kB/s\r",
        " 14921728 of 30326502    49% in  120s   120.81 kB/s\r",
        " 14925824 of 30326502    49% in  120s   120.83 kB/s"
       ]
      },
      {
       "output_type": "stream",
       "stream": "stdout",
       "text": [
        "\r",
        " 14929920 of 30326502    49% in  120s   120.83 kB/s\r",
        " 14934016 of 30326502    49% in  120s   120.86 kB/s\r",
        " 14938112 of 30326502    49% in  120s   120.88 kB/s"
       ]
      },
      {
       "output_type": "stream",
       "stream": "stdout",
       "text": [
        "\r",
        " 14942208 of 30326502    49% in  120s   120.86 kB/s"
       ]
      },
      {
       "output_type": "stream",
       "stream": "stdout",
       "text": [
        "\r",
        " 14946304 of 30326502    49% in  120s   120.88 kB/s\r",
        " 14950400 of 30326502    49% in  120s   120.89 kB/s\r",
        " 14954496 of 30326502    49% in  120s   120.91 kB/s\r",
        " 14958592 of 30326502    49% in  120s   120.94 kB/s"
       ]
      },
      {
       "output_type": "stream",
       "stream": "stdout",
       "text": [
        "\r",
        " 14962688 of 30326502    49% in  120s   120.95 kB/s\r",
        " 14966784 of 30326502    49% in  120s   120.97 kB/s\r",
        " 14970880 of 30326502    49% in  120s   120.99 kB/s"
       ]
      },
      {
       "output_type": "stream",
       "stream": "stdout",
       "text": [
        "\r",
        " 14974976 of 30326502    49% in  120s   120.98 kB/s\r",
        " 14979072 of 30326502    49% in  120s   121.01 kB/s\r",
        " 14983168 of 30326502    49% in  120s   121.03 kB/s"
       ]
      },
      {
       "output_type": "stream",
       "stream": "stdout",
       "text": [
        "\r",
        " 14987264 of 30326502    49% in  120s   121.01 kB/s\r",
        " 14991360 of 30326502    49% in  120s   121.04 kB/s"
       ]
      },
      {
       "output_type": "stream",
       "stream": "stdout",
       "text": [
        "\r",
        " 14995456 of 30326502    49% in  120s   121.06 kB/s"
       ]
      },
      {
       "output_type": "stream",
       "stream": "stdout",
       "text": [
        "\r",
        " 14999552 of 30326502    49% in  121s   121.04 kB/s\r",
        " 15003648 of 30326502    49% in  121s   121.07 kB/s\r",
        " 15007744 of 30326502    49% in  121s   121.09 kB/s\r",
        " 15011840 of 30326502    49% in  121s   121.11 kB/s\r",
        " 15015936 of 30326502    49% in  121s   121.14 kB/s"
       ]
      },
      {
       "output_type": "stream",
       "stream": "stdout",
       "text": [
        "\r",
        " 15020032 of 30326502    49% in  121s   121.14 kB/s\r",
        " 15024128 of 30326502    49% in  121s   121.17 kB/s\r",
        " 15028224 of 30326502    49% in  121s   121.19 kB/s"
       ]
      },
      {
       "output_type": "stream",
       "stream": "stdout",
       "text": [
        "\r",
        " 15032320 of 30326502    49% in  121s   121.15 kB/s\r",
        " 15036416 of 30326502    49% in  121s   121.17 kB/s\r",
        " 15040512 of 30326502    49% in  121s   121.20 kB/s\r",
        " 15044608 of 30326502    49% in  121s   121.23 kB/s\r",
        " 15048704 of 30326502    49% in  121s   121.25 kB/s"
       ]
      },
      {
       "output_type": "stream",
       "stream": "stdout",
       "text": [
        "\r",
        " 15052800 of 30326502    49% in  121s   121.24 kB/s\r",
        " 15056896 of 30326502    49% in  121s   121.27 kB/s"
       ]
      },
      {
       "output_type": "stream",
       "stream": "stdout",
       "text": [
        "\r",
        " 15060992 of 30326502    49% in  121s   121.25 kB/s\r",
        " 15065088 of 30326502    49% in  121s   121.28 kB/s\r",
        " 15069184 of 30326502    49% in  121s   121.30 kB/s"
       ]
      },
      {
       "output_type": "stream",
       "stream": "stdout",
       "text": [
        "\r",
        " 15073280 of 30326502    49% in  121s   121.33 kB/s\r",
        " 15077376 of 30326502    49% in  121s   121.35 kB/s"
       ]
      },
      {
       "output_type": "stream",
       "stream": "stdout",
       "text": [
        "\r",
        " 15081472 of 30326502    49% in  121s   121.35 kB/s\r",
        " 15085568 of 30326502    49% in  121s   121.37 kB/s\r",
        " 15089664 of 30326502    49% in  121s   121.39 kB/s"
       ]
      },
      {
       "output_type": "stream",
       "stream": "stdout",
       "text": [
        "\r",
        " 15093760 of 30326502    49% in  121s   121.36 kB/s\r",
        " 15097856 of 30326502    49% in  121s   121.39 kB/s"
       ]
      },
      {
       "output_type": "stream",
       "stream": "stdout",
       "text": [
        "\r",
        " 15101952 of 30326502    49% in  121s   121.41 kB/s\r",
        " 15106048 of 30326502    49% in  121s   121.43 kB/s\r",
        " 15110144 of 30326502    49% in  121s   121.46 kB/s\r",
        " 15114240 of 30326502    49% in  121s   121.48 kB/s"
       ]
      },
      {
       "output_type": "stream",
       "stream": "stdout",
       "text": [
        "\r",
        " 15118336 of 30326502    49% in  121s   121.46 kB/s\r",
        " 15122432 of 30326502    49% in  121s   121.49 kB/s\r",
        " 15126528 of 30326502    49% in  121s   121.52 kB/s"
       ]
      },
      {
       "output_type": "stream",
       "stream": "stdout",
       "text": [
        "\r",
        " 15130624 of 30326502    49% in  121s   121.52 kB/s\r",
        " 15134720 of 30326502    49% in  121s   121.55 kB/s\r",
        " 15138816 of 30326502    49% in  121s   121.56 kB/s"
       ]
      },
      {
       "output_type": "stream",
       "stream": "stdout",
       "text": [
        "\r",
        " 15142912 of 30326502    49% in  122s   120.90 kB/s\r",
        " 15147008 of 30326502    49% in  122s   120.93 kB/s\r",
        " 15151104 of 30326502    49% in  122s   120.96 kB/s\r",
        " 15155200 of 30326502    49% in  122s   120.99 kB/s\r",
        " 15159296 of 30326502    49% in  122s   121.02 kB/s\r",
        " 15163392 of 30326502    50% in  122s   121.06 kB/s\r",
        " 15167488 of 30326502    50% in  122s   121.09 kB/s\r",
        " 15171584 of 30326502    50% in  122s   121.12 kB/s\r",
        " 15175680 of 30326502    50% in  122s   121.15 kB/s\r",
        " 15179776 of 30326502    50% in  122s   121.19 kB/s\r",
        " 15183872 of 30326502    50% in  122s   121.22 kB/s\r",
        " 15187968 of 30326502    50% in  122s   121.25 kB/s\r",
        " 15192064 of 30326502    50% in  122s   121.28 kB/s\r",
        " 15196160 of 30326502    50% in  122s   121.32 kB/s\r",
        " 15200256 of 30326502    50% in  122s   121.35 kB/s\r",
        " 15204352 of 30326502    50% in  122s   121.38 kB/s\r",
        " 15208448 of 30326502    50% in  122s   121.41 kB/s\r",
        " 15212544 of 30326502    50% in  122s   121.45 kB/s"
       ]
      },
      {
       "output_type": "stream",
       "stream": "stdout",
       "text": [
        "\r",
        " 15216640 of 30326502    50% in  122s   121.20 kB/s\r",
        " 15220736 of 30326502    50% in  122s   121.23 kB/s\r",
        " 15224832 of 30326502    50% in  122s   121.26 kB/s\r",
        " 15228928 of 30326502    50% in  122s   121.30 kB/s\r",
        " 15233024 of 30326502    50% in  122s   121.33 kB/s\r",
        " 15237120 of 30326502    50% in  122s   121.36 kB/s\r",
        " 15241216 of 30326502    50% in  122s   121.39 kB/s\r",
        " 15245312 of 30326502    50% in  122s   121.43 kB/s\r",
        " 15249408 of 30326502    50% in  122s   121.46 kB/s\r",
        " 15253504 of 30326502    50% in  122s   121.49 kB/s\r",
        " 15257600 of 30326502    50% in  122s   121.52 kB/s\r",
        " 15261696 of 30326502    50% in  122s   121.56 kB/s\r",
        " 15265792 of 30326502    50% in  122s   121.59 kB/s\r",
        " 15269888 of 30326502    50% in  122s   121.62 kB/s\r",
        " 15273984 of 30326502    50% in  122s   121.65 kB/s"
       ]
      },
      {
       "output_type": "stream",
       "stream": "stdout",
       "text": [
        "\r",
        " 15278080 of 30326502    50% in  122s   121.40 kB/s\r",
        " 15282176 of 30326502    50% in  122s   121.43 kB/s\r",
        " 15286272 of 30326502    50% in  122s   121.46 kB/s\r",
        " 15290368 of 30326502    50% in  122s   121.49 kB/s"
       ]
      },
      {
       "output_type": "stream",
       "stream": "stdout",
       "text": [
        "\r",
        " 15294464 of 30326502    50% in  122s   121.47 kB/s"
       ]
      },
      {
       "output_type": "stream",
       "stream": "stdout",
       "text": [
        "\r",
        " 15298560 of 30326502    50% in  122s   121.50 kB/s\r",
        " 15302656 of 30326502    50% in  122s   121.53 kB/s\r",
        " 15306752 of 30326502    50% in  122s   121.56 kB/s\r",
        " 15310848 of 30326502    50% in  122s   121.60 kB/s\r",
        " 15314944 of 30326502    50% in  122s   121.63 kB/s\r",
        " 15319040 of 30326502    50% in  122s   121.66 kB/s\r",
        " 15323136 of 30326502    50% in  122s   121.69 kB/s\r",
        " 15327232 of 30326502    50% in  122s   121.72 kB/s\r",
        " 15331328 of 30326502    50% in  122s   121.76 kB/s\r",
        " 15335424 of 30326502    50% in  122s   121.79 kB/s\r",
        " 15339520 of 30326502    50% in  122s   121.82 kB/s\r",
        " 15343616 of 30326502    50% in  122s   121.83 kB/s"
       ]
      },
      {
       "output_type": "stream",
       "stream": "stdout",
       "text": [
        "\r",
        " 15347712 of 30326502    50% in  123s   121.82 kB/s\r",
        " 15351808 of 30326502    50% in  123s   121.84 kB/s\r",
        " 15355904 of 30326502    50% in  123s   121.86 kB/s"
       ]
      },
      {
       "output_type": "stream",
       "stream": "stdout",
       "text": [
        "\r",
        " 15360000 of 30326502    50% in  123s   121.88 kB/s"
       ]
      },
      {
       "output_type": "stream",
       "stream": "stdout",
       "text": [
        "\r",
        " 15364096 of 30326502    50% in  123s   121.81 kB/s"
       ]
      },
      {
       "output_type": "stream",
       "stream": "stdout",
       "text": [
        "\r",
        " 15368192 of 30326502    50% in  123s   121.79 kB/s\r",
        " 15372288 of 30326502    50% in  123s   121.80 kB/s\r",
        " 15376384 of 30326502    50% in  123s   121.83 kB/s\r",
        " 15380480 of 30326502    50% in  123s   121.84 kB/s"
       ]
      },
      {
       "output_type": "stream",
       "stream": "stdout",
       "text": [
        "\r",
        " 15384576 of 30326502    50% in  123s   121.87 kB/s\r",
        " 15388672 of 30326502    50% in  123s   121.86 kB/s"
       ]
      },
      {
       "output_type": "stream",
       "stream": "stdout",
       "text": [
        "\r",
        " 15392768 of 30326502    50% in  123s   121.88 kB/s\r",
        " 15396864 of 30326502    50% in  123s   121.90 kB/s"
       ]
      },
      {
       "output_type": "stream",
       "stream": "stdout",
       "text": [
        "\r",
        " 15400960 of 30326502    50% in  123s   121.83 kB/s\r",
        " 15405056 of 30326502    50% in  123s   121.84 kB/s"
       ]
      },
      {
       "output_type": "stream",
       "stream": "stdout",
       "text": [
        "\r",
        " 15409152 of 30326502    50% in  123s   121.82 kB/s\r",
        " 15413248 of 30326502    50% in  123s   121.85 kB/s"
       ]
      },
      {
       "output_type": "stream",
       "stream": "stdout",
       "text": [
        "\r",
        " 15417344 of 30326502    50% in  123s   121.87 kB/s\r",
        " 15421440 of 30326502    50% in  123s   121.89 kB/s"
       ]
      },
      {
       "output_type": "stream",
       "stream": "stdout",
       "text": [
        "\r",
        " 15425536 of 30326502    50% in  123s   121.88 kB/s\r",
        " 15429632 of 30326502    50% in  123s   121.90 kB/s\r",
        " 15433728 of 30326502    50% in  123s   121.92 kB/s\r",
        " 15437824 of 30326502    50% in  123s   121.94 kB/s"
       ]
      },
      {
       "output_type": "stream",
       "stream": "stdout",
       "text": [
        "\r",
        " 15441920 of 30326502    50% in  123s   121.87 kB/s"
       ]
      },
      {
       "output_type": "stream",
       "stream": "stdout",
       "text": [
        "\r",
        " 15446016 of 30326502    50% in  123s   121.89 kB/s"
       ]
      },
      {
       "output_type": "stream",
       "stream": "stdout",
       "text": [
        "\r",
        " 15450112 of 30326502    50% in  123s   121.86 kB/s\r",
        " 15454208 of 30326502    50% in  123s   121.88 kB/s\r",
        " 15458304 of 30326502    50% in  123s   121.90 kB/s"
       ]
      },
      {
       "output_type": "stream",
       "stream": "stdout",
       "text": [
        "\r",
        " 15462400 of 30326502    50% in  123s   121.93 kB/s\r",
        " 15466496 of 30326502    50% in  123s   121.92 kB/s"
       ]
      },
      {
       "output_type": "stream",
       "stream": "stdout",
       "text": [
        "\r",
        " 15470592 of 30326502    51% in  123s   121.94 kB/s\r",
        " 15474688 of 30326502    51% in  123s   121.96 kB/s\r",
        " 15478784 of 30326502    51% in  123s   121.98 kB/s"
       ]
      },
      {
       "output_type": "stream",
       "stream": "stdout",
       "text": [
        "\r",
        " 15482880 of 30326502    51% in  124s   121.91 kB/s"
       ]
      },
      {
       "output_type": "stream",
       "stream": "stdout",
       "text": [
        "\r",
        " 15486976 of 30326502    51% in  124s   121.89 kB/s"
       ]
      },
      {
       "output_type": "stream",
       "stream": "stdout",
       "text": [
        "\r",
        " 15491072 of 30326502    51% in  124s   121.90 kB/s\r",
        " 15495168 of 30326502    51% in  124s   121.92 kB/s\r",
        " 15499264 of 30326502    51% in  124s   121.94 kB/s\r",
        " 15503360 of 30326502    51% in  124s   121.96 kB/s"
       ]
      },
      {
       "output_type": "stream",
       "stream": "stdout",
       "text": [
        "\r",
        " 15507456 of 30326502    51% in  124s   121.96 kB/s\r",
        " 15511552 of 30326502    51% in  124s   121.97 kB/s"
       ]
      },
      {
       "output_type": "stream",
       "stream": "stdout",
       "text": [
        "\r",
        " 15515648 of 30326502    51% in  124s   121.99 kB/s\r",
        " 15519744 of 30326502    51% in  124s   122.01 kB/s"
       ]
      },
      {
       "output_type": "stream",
       "stream": "stdout",
       "text": [
        "\r",
        " 15523840 of 30326502    51% in  124s   121.95 kB/s"
       ]
      },
      {
       "output_type": "stream",
       "stream": "stdout",
       "text": [
        "\r",
        " 15527936 of 30326502    51% in  124s   121.93 kB/s"
       ]
      },
      {
       "output_type": "stream",
       "stream": "stdout",
       "text": [
        "\r",
        " 15532032 of 30326502    51% in  124s   121.66 kB/s\r",
        " 15536128 of 30326502    51% in  124s   121.70 kB/s\r",
        " 15540224 of 30326502    51% in  124s   121.73 kB/s\r",
        " 15544320 of 30326502    51% in  124s   121.76 kB/s\r",
        " 15548416 of 30326502    51% in  124s   121.79 kB/s\r",
        " 15552512 of 30326502    51% in  124s   121.82 kB/s\r",
        " 15556608 of 30326502    51% in  124s   121.86 kB/s\r",
        " 15560704 of 30326502    51% in  124s   121.89 kB/s\r",
        " 15564800 of 30326502    51% in  124s   121.92 kB/s\r",
        " 15568896 of 30326502    51% in  124s   121.95 kB/s\r",
        " 15572992 of 30326502    51% in  124s   121.98 kB/s\r",
        " 15577088 of 30326502    51% in  124s   121.97 kB/s"
       ]
      },
      {
       "output_type": "stream",
       "stream": "stdout",
       "text": [
        "\r",
        " 15581184 of 30326502    51% in  124s   121.97 kB/s"
       ]
      },
      {
       "output_type": "stream",
       "stream": "stdout",
       "text": [
        "\r",
        " 15585280 of 30326502    51% in  124s   121.99 kB/s\r",
        " 15589376 of 30326502    51% in  124s   122.01 kB/s"
       ]
      },
      {
       "output_type": "stream",
       "stream": "stdout",
       "text": [
        "\r",
        " 15593472 of 30326502    51% in  124s   121.96 kB/s"
       ]
      },
      {
       "output_type": "stream",
       "stream": "stdout",
       "text": [
        "\r",
        " 15597568 of 30326502    51% in  124s   121.96 kB/s"
       ]
      },
      {
       "output_type": "stream",
       "stream": "stdout",
       "text": [
        "\r",
        " 15601664 of 30326502    51% in  124s   121.95 kB/s\r",
        " 15605760 of 30326502    51% in  124s   121.96 kB/s"
       ]
      },
      {
       "output_type": "stream",
       "stream": "stdout",
       "text": [
        "\r",
        " 15609856 of 30326502    51% in  124s   121.95 kB/s"
       ]
      },
      {
       "output_type": "stream",
       "stream": "stdout",
       "text": [
        "\r",
        " 15613952 of 30326502    51% in  125s   121.95 kB/s\r",
        " 15618048 of 30326502    51% in  125s   121.96 kB/s\r",
        " 15622144 of 30326502    51% in  125s   121.99 kB/s\r",
        " 15626240 of 30326502    51% in  125s   122.01 kB/s"
       ]
      },
      {
       "output_type": "stream",
       "stream": "stdout",
       "text": [
        "\r",
        " 15630336 of 30326502    51% in  125s   121.94 kB/s\r",
        " 15634432 of 30326502    51% in  125s   121.93 kB/s"
       ]
      },
      {
       "output_type": "stream",
       "stream": "stdout",
       "text": [
        "\r",
        " 15638528 of 30326502    51% in  125s   121.94 kB/s\r",
        " 15642624 of 30326502    51% in  125s   121.96 kB/s"
       ]
      },
      {
       "output_type": "stream",
       "stream": "stdout",
       "text": [
        "\r",
        " 15646720 of 30326502    51% in  125s   121.96 kB/s\r",
        " 15650816 of 30326502    51% in  125s   121.95 kB/s"
       ]
      },
      {
       "output_type": "stream",
       "stream": "stdout",
       "text": [
        "\r",
        " 15654912 of 30326502    51% in  125s   121.97 kB/s\r",
        " 15659008 of 30326502    51% in  125s   121.99 kB/s"
       ]
      },
      {
       "output_type": "stream",
       "stream": "stdout",
       "text": [
        "\r",
        " 15663104 of 30326502    51% in  125s   121.93 kB/s"
       ]
      },
      {
       "output_type": "stream",
       "stream": "stdout",
       "text": [
        "\r",
        " 15667200 of 30326502    51% in  125s   121.92 kB/s\r",
        " 15671296 of 30326502    51% in  125s   121.93 kB/s\r",
        " 15675392 of 30326502    51% in  125s   121.95 kB/s"
       ]
      },
      {
       "output_type": "stream",
       "stream": "stdout",
       "text": [
        "\r",
        " 15679488 of 30326502    51% in  125s   121.95 kB/s"
       ]
      },
      {
       "output_type": "stream",
       "stream": "stdout",
       "text": [
        "\r",
        " 15683584 of 30326502    51% in  125s   121.94 kB/s\r",
        " 15687680 of 30326502    51% in  125s   121.95 kB/s\r",
        " 15691776 of 30326502    51% in  125s   121.97 kB/s"
       ]
      },
      {
       "output_type": "stream",
       "stream": "stdout",
       "text": [
        "\r",
        " 15695872 of 30326502    51% in  125s   121.90 kB/s"
       ]
      },
      {
       "output_type": "stream",
       "stream": "stdout",
       "text": [
        "\r",
        " 15699968 of 30326502    51% in  125s   121.90 kB/s\r",
        " 15704064 of 30326502    51% in  125s   121.92 kB/s"
       ]
      },
      {
       "output_type": "stream",
       "stream": "stdout",
       "text": [
        "\r",
        " 15708160 of 30326502    51% in  125s   121.93 kB/s\r",
        " 15712256 of 30326502    51% in  125s   121.93 kB/s"
       ]
      },
      {
       "output_type": "stream",
       "stream": "stdout",
       "text": [
        "\r",
        " 15716352 of 30326502    51% in  125s   121.92 kB/s"
       ]
      },
      {
       "output_type": "stream",
       "stream": "stdout",
       "text": [
        "\r",
        " 15720448 of 30326502    51% in  125s   121.93 kB/s\r",
        " 15724544 of 30326502    51% in  125s   121.95 kB/s\r",
        " 15728640 of 30326502    51% in  125s   121.98 kB/s"
       ]
      },
      {
       "output_type": "stream",
       "stream": "stdout",
       "text": [
        "\r",
        " 15732736 of 30326502    51% in  126s   121.91 kB/s"
       ]
      },
      {
       "output_type": "stream",
       "stream": "stdout",
       "text": [
        "\r",
        " 15736832 of 30326502    51% in  126s   121.90 kB/s\r",
        " 15740928 of 30326502    51% in  126s   121.92 kB/s\r",
        " 15745024 of 30326502    51% in  126s   121.94 kB/s"
       ]
      },
      {
       "output_type": "stream",
       "stream": "stdout",
       "text": [
        "\r",
        " 15749120 of 30326502    51% in  126s   121.93 kB/s"
       ]
      },
      {
       "output_type": "stream",
       "stream": "stdout",
       "text": [
        "\r",
        " 15753216 of 30326502    51% in  126s   121.93 kB/s\r",
        " 15757312 of 30326502    51% in  126s   121.94 kB/s\r",
        " 15761408 of 30326502    51% in  126s   121.96 kB/s"
       ]
      },
      {
       "output_type": "stream",
       "stream": "stdout",
       "text": [
        "\r",
        " 15765504 of 30326502    51% in  126s   121.97 kB/s"
       ]
      },
      {
       "output_type": "stream",
       "stream": "stdout",
       "text": [
        "\r",
        " 15769600 of 30326502    51% in  126s   121.89 kB/s\r",
        " 15773696 of 30326502    52% in  126s   121.90 kB/s"
       ]
      },
      {
       "output_type": "stream",
       "stream": "stdout",
       "text": [
        "\r",
        " 15777792 of 30326502    52% in  126s   121.92 kB/s\r",
        " 15781888 of 30326502    52% in  126s   121.94 kB/s"
       ]
      },
      {
       "output_type": "stream",
       "stream": "stdout",
       "text": [
        "\r",
        " 15785984 of 30326502    52% in  126s   121.94 kB/s\r",
        " 15790080 of 30326502    52% in  126s   121.94 kB/s"
       ]
      },
      {
       "output_type": "stream",
       "stream": "stdout",
       "text": [
        "\r",
        " 15794176 of 30326502    52% in  126s   121.94 kB/s\r",
        " 15798272 of 30326502    52% in  126s   121.96 kB/s"
       ]
      },
      {
       "output_type": "stream",
       "stream": "stdout",
       "text": [
        "\r",
        " 15802368 of 30326502    52% in  126s   121.91 kB/s"
       ]
      },
      {
       "output_type": "stream",
       "stream": "stdout",
       "text": [
        "\r",
        " 15806464 of 30326502    52% in  126s   121.90 kB/s\r",
        " 15810560 of 30326502    52% in  126s   121.91 kB/s\r",
        " 15814656 of 30326502    52% in  126s   121.92 kB/s"
       ]
      },
      {
       "output_type": "stream",
       "stream": "stdout",
       "text": [
        "\r",
        " 15818752 of 30326502    52% in  126s   121.92 kB/s"
       ]
      },
      {
       "output_type": "stream",
       "stream": "stdout",
       "text": [
        "\r",
        " 15822848 of 30326502    52% in  126s   121.92 kB/s\r",
        " 15826944 of 30326502    52% in  126s   121.93 kB/s\r",
        " 15831040 of 30326502    52% in  126s   121.95 kB/s"
       ]
      },
      {
       "output_type": "stream",
       "stream": "stdout",
       "text": [
        "\r",
        " 15835136 of 30326502    52% in  126s   121.97 kB/s"
       ]
      },
      {
       "output_type": "stream",
       "stream": "stdout",
       "text": [
        "\r",
        " 15839232 of 30326502    52% in  126s   121.92 kB/s"
       ]
      },
      {
       "output_type": "stream",
       "stream": "stdout",
       "text": [
        "\r",
        " 15843328 of 30326502    52% in  126s   121.91 kB/s"
       ]
      },
      {
       "output_type": "stream",
       "stream": "stdout",
       "text": [
        "\r",
        " 15847424 of 30326502    52% in  126s   121.92 kB/s\r",
        " 15851520 of 30326502    52% in  126s   121.93 kB/s"
       ]
      },
      {
       "output_type": "stream",
       "stream": "stdout",
       "text": [
        "\r",
        " 15855616 of 30326502    52% in  126s   121.93 kB/s\r",
        " 15859712 of 30326502    52% in  127s   121.93 kB/s"
       ]
      },
      {
       "output_type": "stream",
       "stream": "stdout",
       "text": [
        "\r",
        " 15863808 of 30326502    52% in  127s   121.94 kB/s\r",
        " 15867904 of 30326502    52% in  127s   121.96 kB/s\r",
        " 15872000 of 30326502    52% in  127s   121.97 kB/s"
       ]
      },
      {
       "output_type": "stream",
       "stream": "stdout",
       "text": [
        "\r",
        " 15876096 of 30326502    52% in  127s   121.93 kB/s"
       ]
      },
      {
       "output_type": "stream",
       "stream": "stdout",
       "text": [
        "\r",
        " 15880192 of 30326502    52% in  127s   121.91 kB/s\r",
        " 15884288 of 30326502    52% in  127s   121.93 kB/s\r",
        " 15888384 of 30326502    52% in  127s   121.94 kB/s"
       ]
      },
      {
       "output_type": "stream",
       "stream": "stdout",
       "text": [
        "\r",
        " 15892480 of 30326502    52% in  127s   121.94 kB/s"
       ]
      },
      {
       "output_type": "stream",
       "stream": "stdout",
       "text": [
        "\r",
        " 15896576 of 30326502    52% in  127s   121.94 kB/s\r",
        " 15900672 of 30326502    52% in  127s   121.95 kB/s\r",
        " 15904768 of 30326502    52% in  127s   121.97 kB/s"
       ]
      },
      {
       "output_type": "stream",
       "stream": "stdout",
       "text": [
        "\r",
        " 15908864 of 30326502    52% in  127s   121.98 kB/s"
       ]
      },
      {
       "output_type": "stream",
       "stream": "stdout",
       "text": [
        "\r",
        " 15912960 of 30326502    52% in  127s   121.94 kB/s"
       ]
      },
      {
       "output_type": "stream",
       "stream": "stdout",
       "text": [
        "\r",
        " 15917056 of 30326502    52% in  127s   121.92 kB/s"
       ]
      },
      {
       "output_type": "stream",
       "stream": "stdout",
       "text": [
        "\r",
        " 15921152 of 30326502    52% in  127s   121.94 kB/s\r",
        " 15925248 of 30326502    52% in  127s   121.95 kB/s"
       ]
      },
      {
       "output_type": "stream",
       "stream": "stdout",
       "text": [
        "\r",
        " 15929344 of 30326502    52% in  127s   121.96 kB/s\r",
        " 15933440 of 30326502    52% in  127s   121.95 kB/s\r",
        " 15937536 of 30326502    52% in  127s   121.98 kB/s"
       ]
      },
      {
       "output_type": "stream",
       "stream": "stdout",
       "text": [
        "\r",
        " 15941632 of 30326502    52% in  127s   121.99 kB/s\r",
        " 15945728 of 30326502    52% in  127s   122.00 kB/s"
       ]
      },
      {
       "output_type": "stream",
       "stream": "stdout",
       "text": [
        "\r",
        " 15949824 of 30326502    52% in  127s   121.96 kB/s"
       ]
      },
      {
       "output_type": "stream",
       "stream": "stdout",
       "text": [
        "\r",
        " 15953920 of 30326502    52% in  127s   121.93 kB/s\r",
        " 15958016 of 30326502    52% in  127s   121.95 kB/s"
       ]
      },
      {
       "output_type": "stream",
       "stream": "stdout",
       "text": [
        "\r",
        " 15962112 of 30326502    52% in  127s   121.96 kB/s\r",
        " 15966208 of 30326502    52% in  127s   121.99 kB/s\r",
        " 15970304 of 30326502    52% in  127s   121.99 kB/s"
       ]
      },
      {
       "output_type": "stream",
       "stream": "stdout",
       "text": [
        "\r",
        " 15974400 of 30326502    52% in  127s   121.99 kB/s\r",
        " 15978496 of 30326502    52% in  127s   122.00 kB/s"
       ]
      },
      {
       "output_type": "stream",
       "stream": "stdout",
       "text": [
        "\r",
        " 15982592 of 30326502    52% in  127s   122.01 kB/s"
       ]
      },
      {
       "output_type": "stream",
       "stream": "stdout",
       "text": [
        "\r",
        " 15986688 of 30326502    52% in  128s   121.92 kB/s\r",
        " 15990784 of 30326502    52% in  128s   121.94 kB/s"
       ]
      },
      {
       "output_type": "stream",
       "stream": "stdout",
       "text": [
        "\r",
        " 15994880 of 30326502    52% in  128s   121.97 kB/s\r",
        " 15998976 of 30326502    52% in  128s   121.98 kB/s\r",
        " 16003072 of 30326502    52% in  128s   121.99 kB/s"
       ]
      },
      {
       "output_type": "stream",
       "stream": "stdout",
       "text": [
        "\r",
        " 16007168 of 30326502    52% in  128s   122.00 kB/s\r",
        " 16011264 of 30326502    52% in  128s   122.00 kB/s"
       ]
      },
      {
       "output_type": "stream",
       "stream": "stdout",
       "text": [
        "\r",
        " 16015360 of 30326502    52% in  128s   122.00 kB/s\r",
        " 16019456 of 30326502    52% in  128s   122.02 kB/s"
       ]
      },
      {
       "output_type": "stream",
       "stream": "stdout",
       "text": [
        "\r",
        " 16023552 of 30326502    52% in  128s   121.93 kB/s\r",
        " 16027648 of 30326502    52% in  128s   121.95 kB/s\r",
        " 16031744 of 30326502    52% in  128s   121.97 kB/s\r",
        " 16035840 of 30326502    52% in  128s   121.99 kB/s"
       ]
      },
      {
       "output_type": "stream",
       "stream": "stdout",
       "text": [
        "\r",
        " 16039936 of 30326502    52% in  128s   122.00 kB/s\r",
        " 16044032 of 30326502    52% in  128s   122.01 kB/s"
       ]
      },
      {
       "output_type": "stream",
       "stream": "stdout",
       "text": [
        "\r",
        " 16048128 of 30326502    52% in  128s   122.01 kB/s\r",
        " 16052224 of 30326502    52% in  128s   122.02 kB/s"
       ]
      },
      {
       "output_type": "stream",
       "stream": "stdout",
       "text": [
        "\r",
        " 16056320 of 30326502    52% in  128s   122.04 kB/s"
       ]
      },
      {
       "output_type": "stream",
       "stream": "stdout",
       "text": [
        "\r",
        " 16060416 of 30326502    52% in  128s   121.93 kB/s"
       ]
      },
      {
       "output_type": "stream",
       "stream": "stdout",
       "text": [
        "\r",
        " 16064512 of 30326502    52% in  128s   121.94 kB/s\r",
        " 16068608 of 30326502    52% in  128s   121.96 kB/s\r",
        " 16072704 of 30326502    52% in  128s   121.99 kB/s"
       ]
      },
      {
       "output_type": "stream",
       "stream": "stdout",
       "text": [
        "\r",
        " 16076800 of 30326502    53% in  128s   122.00 kB/s\r",
        " 16080896 of 30326502    53% in  128s   122.02 kB/s\r",
        " 16084992 of 30326502    53% in  128s   122.04 kB/s"
       ]
      },
      {
       "output_type": "stream",
       "stream": "stdout",
       "text": [
        "\r",
        " 16089088 of 30326502    53% in  128s   122.04 kB/s\r",
        " 16093184 of 30326502    53% in  128s   122.05 kB/s\r",
        " 16097280 of 30326502    53% in  128s   122.07 kB/s"
       ]
      },
      {
       "output_type": "stream",
       "stream": "stdout",
       "text": [
        "\r",
        " 16101376 of 30326502    53% in  128s   121.97 kB/s"
       ]
      },
      {
       "output_type": "stream",
       "stream": "stdout",
       "text": [
        "\r",
        " 16105472 of 30326502    53% in  128s   121.97 kB/s\r",
        " 16109568 of 30326502    53% in  128s   122.00 kB/s\r",
        " 16113664 of 30326502    53% in  128s   122.01 kB/s\r",
        " 16117760 of 30326502    53% in  128s   122.04 kB/s\r",
        " 16121856 of 30326502    53% in  128s   122.06 kB/s"
       ]
      },
      {
       "output_type": "stream",
       "stream": "stdout",
       "text": [
        "\r",
        " 16125952 of 30326502    53% in  129s   122.06 kB/s\r",
        " 16130048 of 30326502    53% in  129s   122.07 kB/s"
       ]
      },
      {
       "output_type": "stream",
       "stream": "stdout",
       "text": [
        "\r",
        " 16134144 of 30326502    53% in  129s   122.09 kB/s"
       ]
      },
      {
       "output_type": "stream",
       "stream": "stdout",
       "text": [
        "\r",
        " 16138240 of 30326502    53% in  129s   121.98 kB/s"
       ]
      },
      {
       "output_type": "stream",
       "stream": "stdout",
       "text": [
        "\r",
        " 16142336 of 30326502    53% in  129s   121.98 kB/s\r",
        " 16146432 of 30326502    53% in  129s   122.01 kB/s\r",
        " 16150528 of 30326502    53% in  129s   122.02 kB/s\r",
        " 16154624 of 30326502    53% in  129s   122.05 kB/s"
       ]
      },
      {
       "output_type": "stream",
       "stream": "stdout",
       "text": [
        "\r",
        " 16158720 of 30326502    53% in  129s   121.96 kB/s\r",
        " 16162816 of 30326502    53% in  129s   121.99 kB/s\r",
        " 16166912 of 30326502    53% in  129s   122.01 kB/s\r",
        " 16171008 of 30326502    53% in  129s   122.04 kB/s\r",
        " 16175104 of 30326502    53% in  129s   122.07 kB/s"
       ]
      },
      {
       "output_type": "stream",
       "stream": "stdout",
       "text": [
        "\r",
        " 16179200 of 30326502    53% in  129s   121.97 kB/s\r",
        " 16183296 of 30326502    53% in  129s   122.00 kB/s\r",
        " 16187392 of 30326502    53% in  129s   122.02 kB/s"
       ]
      },
      {
       "output_type": "stream",
       "stream": "stdout",
       "text": [
        "\r",
        " 16191488 of 30326502    53% in  129s   121.89 kB/s\r",
        " 16195584 of 30326502    53% in  129s   121.92 kB/s\r",
        " 16199680 of 30326502    53% in  129s   121.95 kB/s\r",
        " 16203776 of 30326502    53% in  129s   121.98 kB/s\r",
        " 16207872 of 30326502    53% in  129s   122.01 kB/s\r",
        " 16211968 of 30326502    53% in  129s   122.04 kB/s\r",
        " 16216064 of 30326502    53% in  129s   122.07 kB/s"
       ]
      },
      {
       "output_type": "stream",
       "stream": "stdout",
       "text": [
        "\r",
        " 16220160 of 30326502    53% in  129s   121.98 kB/s\r",
        " 16224256 of 30326502    53% in  129s   122.01 kB/s\r",
        " 16228352 of 30326502    53% in  129s   122.04 kB/s"
       ]
      },
      {
       "output_type": "stream",
       "stream": "stdout",
       "text": [
        "\r",
        " 16232448 of 30326502    53% in  130s   121.92 kB/s\r",
        " 16236544 of 30326502    53% in  130s   121.95 kB/s\r",
        " 16240640 of 30326502    53% in  130s   121.97 kB/s\r",
        " 16244736 of 30326502    53% in  130s   121.99 kB/s\r",
        " 16248832 of 30326502    53% in  130s   122.01 kB/s\r",
        " 16252928 of 30326502    53% in  130s   122.04 kB/s"
       ]
      },
      {
       "output_type": "stream",
       "stream": "stdout",
       "text": [
        "\r",
        " 16257024 of 30326502    53% in  130s   122.06 kB/s"
       ]
      },
      {
       "output_type": "stream",
       "stream": "stdout",
       "text": [
        "\r",
        " 16261120 of 30326502    53% in  130s   122.01 kB/s\r",
        " 16265216 of 30326502    53% in  130s   122.04 kB/s"
       ]
      },
      {
       "output_type": "stream",
       "stream": "stdout",
       "text": [
        "\r",
        " 16269312 of 30326502    53% in  130s   122.06 kB/s"
       ]
      },
      {
       "output_type": "stream",
       "stream": "stdout",
       "text": [
        "\r",
        " 16273408 of 30326502    53% in  130s   121.96 kB/s\r",
        " 16277504 of 30326502    53% in  130s   121.98 kB/s"
       ]
      },
      {
       "output_type": "stream",
       "stream": "stdout",
       "text": [
        "\r",
        " 16281600 of 30326502    53% in  130s   122.01 kB/s\r",
        " 16285696 of 30326502    53% in  130s   122.03 kB/s\r",
        " 16289792 of 30326502    53% in  130s   122.05 kB/s\r",
        " 16293888 of 30326502    53% in  130s   122.07 kB/s"
       ]
      },
      {
       "output_type": "stream",
       "stream": "stdout",
       "text": [
        "\r",
        " 16297984 of 30326502    53% in  130s   122.03 kB/s\r",
        " 16302080 of 30326502    53% in  130s   122.05 kB/s\r",
        " 16306176 of 30326502    53% in  130s   122.08 kB/s\r",
        " 16310272 of 30326502    53% in  130s   122.10 kB/s"
       ]
      },
      {
       "output_type": "stream",
       "stream": "stdout",
       "text": [
        "\r",
        " 16314368 of 30326502    53% in  130s   122.00 kB/s\r",
        " 16318464 of 30326502    53% in  130s   122.02 kB/s\r",
        " 16322560 of 30326502    53% in  130s   122.04 kB/s\r",
        " 16326656 of 30326502    53% in  130s   122.06 kB/s"
       ]
      },
      {
       "output_type": "stream",
       "stream": "stdout",
       "text": [
        "\r",
        " 16330752 of 30326502    53% in  130s   122.09 kB/s\r",
        " 16334848 of 30326502    53% in  130s   122.11 kB/s\r",
        " 16338944 of 30326502    53% in  130s   122.13 kB/s"
       ]
      },
      {
       "output_type": "stream",
       "stream": "stdout",
       "text": [
        "\r",
        " 16343040 of 30326502    53% in  130s   122.10 kB/s\r",
        " 16347136 of 30326502    53% in  130s   122.12 kB/s"
       ]
      },
      {
       "output_type": "stream",
       "stream": "stdout",
       "text": [
        "\r",
        " 16351232 of 30326502    53% in  130s   122.04 kB/s\r",
        " 16355328 of 30326502    53% in  130s   122.04 kB/s"
       ]
      },
      {
       "output_type": "stream",
       "stream": "stdout",
       "text": [
        "\r",
        " 16359424 of 30326502    53% in  130s   122.06 kB/s\r",
        " 16363520 of 30326502    53% in  130s   122.08 kB/s\r",
        " 16367616 of 30326502    53% in  130s   122.09 kB/s\r",
        " 16371712 of 30326502    53% in  130s   122.11 kB/s"
       ]
      },
      {
       "output_type": "stream",
       "stream": "stdout",
       "text": [
        "\r",
        " 16375808 of 30326502    53% in  130s   122.08 kB/s\r",
        " 16379904 of 30326502    54% in  131s   122.10 kB/s\r",
        " 16384000 of 30326502    54% in  131s   122.12 kB/s\r",
        " 16388096 of 30326502    54% in  131s   122.15 kB/s"
       ]
      },
      {
       "output_type": "stream",
       "stream": "stdout",
       "text": [
        "\r",
        " 16392192 of 30326502    54% in  131s   122.06 kB/s\r",
        " 16396288 of 30326502    54% in  131s   122.08 kB/s\r",
        " 16400384 of 30326502    54% in  131s   122.10 kB/s\r",
        " 16404480 of 30326502    54% in  131s   122.12 kB/s"
       ]
      },
      {
       "output_type": "stream",
       "stream": "stdout",
       "text": [
        "\r",
        " 16408576 of 30326502    54% in  131s   122.11 kB/s\r",
        " 16412672 of 30326502    54% in  131s   122.13 kB/s"
       ]
      },
      {
       "output_type": "stream",
       "stream": "stdout",
       "text": [
        "\r",
        " 16416768 of 30326502    54% in  131s   122.16 kB/s\r",
        " 16420864 of 30326502    54% in  131s   122.14 kB/s"
       ]
      },
      {
       "output_type": "stream",
       "stream": "stdout",
       "text": [
        "\r",
        " 16424960 of 30326502    54% in  131s   122.17 kB/s"
       ]
      },
      {
       "output_type": "stream",
       "stream": "stdout",
       "text": [
        "\r",
        " 16429056 of 30326502    54% in  131s   122.07 kB/s\r",
        " 16433152 of 30326502    54% in  131s   122.09 kB/s"
       ]
      },
      {
       "output_type": "stream",
       "stream": "stdout",
       "text": [
        "\r",
        " 16437248 of 30326502    54% in  131s   122.11 kB/s\r",
        " 16441344 of 30326502    54% in  131s   122.14 kB/s"
       ]
      },
      {
       "output_type": "stream",
       "stream": "stdout",
       "text": [
        "\r",
        " 16445440 of 30326502    54% in  131s   122.11 kB/s\r",
        " 16449536 of 30326502    54% in  131s   122.14 kB/s\r",
        " 16453632 of 30326502    54% in  131s   122.16 kB/s"
       ]
      },
      {
       "output_type": "stream",
       "stream": "stdout",
       "text": [
        "\r",
        " 16457728 of 30326502    54% in  131s   122.16 kB/s\r",
        " 16461824 of 30326502    54% in  131s   122.18 kB/s\r",
        " 16465920 of 30326502    54% in  131s   122.20 kB/s"
       ]
      },
      {
       "output_type": "stream",
       "stream": "stdout",
       "text": [
        "\r",
        " 16470016 of 30326502    54% in  131s   122.11 kB/s\r",
        " 16474112 of 30326502    54% in  131s   122.13 kB/s\r",
        " 16478208 of 30326502    54% in  131s   122.15 kB/s"
       ]
      },
      {
       "output_type": "stream",
       "stream": "stdout",
       "text": [
        "\r",
        " 16482304 of 30326502    54% in  131s   122.11 kB/s\r",
        " 16486400 of 30326502    54% in  131s   122.13 kB/s\r",
        " 16490496 of 30326502    54% in  131s   122.16 kB/s\r",
        " 16494592 of 30326502    54% in  131s   122.18 kB/s"
       ]
      },
      {
       "output_type": "stream",
       "stream": "stdout",
       "text": [
        "\r",
        " 16498688 of 30326502    54% in  131s   122.19 kB/s\r",
        " 16502784 of 30326502    54% in  131s   122.21 kB/s\r",
        " 16506880 of 30326502    54% in  131s   122.24 kB/s"
       ]
      },
      {
       "output_type": "stream",
       "stream": "stdout",
       "text": [
        "\r",
        " 16510976 of 30326502    54% in  131s   122.15 kB/s\r",
        " 16515072 of 30326502    54% in  132s   122.17 kB/s"
       ]
      },
      {
       "output_type": "stream",
       "stream": "stdout",
       "text": [
        "\r",
        " 16519168 of 30326502    54% in  132s   122.20 kB/s\r",
        " 16523264 of 30326502    54% in  132s   122.22 kB/s"
       ]
      },
      {
       "output_type": "stream",
       "stream": "stdout",
       "text": [
        "\r",
        " 16527360 of 30326502    54% in  132s   122.17 kB/s\r",
        " 16531456 of 30326502    54% in  132s   122.19 kB/s\r",
        " 16535552 of 30326502    54% in  132s   122.21 kB/s\r",
        " 16539648 of 30326502    54% in  132s   122.23 kB/s\r",
        " 16543744 of 30326502    54% in  132s   122.26 kB/s"
       ]
      },
      {
       "output_type": "stream",
       "stream": "stdout",
       "text": [
        "\r",
        " 16547840 of 30326502    54% in  132s   122.27 kB/s\r",
        " 16551936 of 30326502    54% in  132s   122.29 kB/s"
       ]
      },
      {
       "output_type": "stream",
       "stream": "stdout",
       "text": [
        "\r",
        " 16556032 of 30326502    54% in  132s   122.23 kB/s\r",
        " 16560128 of 30326502    54% in  132s   122.25 kB/s\r",
        " 16564224 of 30326502    54% in  132s   122.27 kB/s\r",
        " 16568320 of 30326502    54% in  132s   122.29 kB/s"
       ]
      },
      {
       "output_type": "stream",
       "stream": "stdout",
       "text": [
        "\r",
        " 16572416 of 30326502    54% in  132s   122.24 kB/s\r",
        " 16576512 of 30326502    54% in  132s   122.26 kB/s\r",
        " 16580608 of 30326502    54% in  132s   122.29 kB/s"
       ]
      },
      {
       "output_type": "stream",
       "stream": "stdout",
       "text": [
        "\r",
        " 16584704 of 30326502    54% in  132s   122.28 kB/s\r",
        " 16588800 of 30326502    54% in  132s   122.30 kB/s\r",
        " 16592896 of 30326502    54% in  132s   122.33 kB/s"
       ]
      },
      {
       "output_type": "stream",
       "stream": "stdout",
       "text": [
        "\r",
        " 16596992 of 30326502    54% in  132s   122.35 kB/s"
       ]
      },
      {
       "output_type": "stream",
       "stream": "stdout",
       "text": [
        "\r",
        " 16601088 of 30326502    54% in  132s   122.29 kB/s"
       ]
      },
      {
       "output_type": "stream",
       "stream": "stdout",
       "text": [
        "\r",
        " 16605184 of 30326502    54% in  132s   122.31 kB/s\r",
        " 16609280 of 30326502    54% in  132s   122.34 kB/s\r",
        " 16613376 of 30326502    54% in  132s   122.36 kB/s"
       ]
      },
      {
       "output_type": "stream",
       "stream": "stdout",
       "text": [
        "\r",
        " 16617472 of 30326502    54% in  132s   122.31 kB/s\r",
        " 16621568 of 30326502    54% in  132s   122.33 kB/s\r",
        " 16625664 of 30326502    54% in  132s   122.36 kB/s\r",
        " 16629760 of 30326502    54% in  132s   122.38 kB/s\r",
        " 16633856 of 30326502    54% in  132s   122.40 kB/s"
       ]
      },
      {
       "output_type": "stream",
       "stream": "stdout",
       "text": [
        "\r",
        " 16637952 of 30326502    54% in  132s   122.40 kB/s\r",
        " 16642048 of 30326502    54% in  132s   122.42 kB/s\r",
        " 16646144 of 30326502    54% in  132s   122.44 kB/s"
       ]
      },
      {
       "output_type": "stream",
       "stream": "stdout",
       "text": [
        "\r",
        " 16650240 of 30326502    54% in  132s   122.46 kB/s"
       ]
      },
      {
       "output_type": "stream",
       "stream": "stdout",
       "text": [
        "\r",
        " 16654336 of 30326502    54% in  132s   122.42 kB/s\r",
        " 16658432 of 30326502    54% in  132s   122.44 kB/s\r",
        " 16662528 of 30326502    54% in  132s   122.46 kB/s"
       ]
      },
      {
       "output_type": "stream",
       "stream": "stdout",
       "text": [
        "\r",
        " 16666624 of 30326502    54% in  132s   122.40 kB/s"
       ]
      },
      {
       "output_type": "stream",
       "stream": "stdout",
       "text": [
        "\r",
        " 16670720 of 30326502    54% in  132s   122.43 kB/s\r",
        " 16674816 of 30326502    54% in  132s   122.45 kB/s\r",
        " 16678912 of 30326502    54% in  132s   122.47 kB/s\r",
        " 16683008 of 30326502    55% in  133s   122.49 kB/s\r",
        " 16687104 of 30326502    55% in  133s   122.52 kB/s"
       ]
      },
      {
       "output_type": "stream",
       "stream": "stdout",
       "text": [
        "\r",
        " 16691200 of 30326502    55% in  133s   122.52 kB/s\r",
        " 16695296 of 30326502    55% in  133s   122.54 kB/s\r",
        " 16699392 of 30326502    55% in  133s   122.56 kB/s\r",
        " 16703488 of 30326502    55% in  133s   122.58 kB/s"
       ]
      },
      {
       "output_type": "stream",
       "stream": "stdout",
       "text": [
        "\r",
        " 16707584 of 30326502    55% in  133s   122.55 kB/s\r",
        " 16711680 of 30326502    55% in  133s   122.57 kB/s\r",
        " 16715776 of 30326502    55% in  133s   122.59 kB/s\r",
        " 16719872 of 30326502    55% in  133s   122.61 kB/s\r",
        " 16723968 of 30326502    55% in  133s   122.64 kB/s"
       ]
      },
      {
       "output_type": "stream",
       "stream": "stdout",
       "text": [
        "\r",
        " 16728064 of 30326502    55% in  133s   122.59 kB/s\r",
        " 16732160 of 30326502    55% in  133s   122.61 kB/s\r",
        " 16736256 of 30326502    55% in  133s   122.64 kB/s\r",
        " 16740352 of 30326502    55% in  133s   122.66 kB/s"
       ]
      },
      {
       "output_type": "stream",
       "stream": "stdout",
       "text": [
        "\r",
        " 16744448 of 30326502    55% in  133s   122.67 kB/s\r",
        " 16748544 of 30326502    55% in  133s   122.69 kB/s\r",
        " 16752640 of 30326502    55% in  133s   122.72 kB/s"
       ]
      },
      {
       "output_type": "stream",
       "stream": "stdout",
       "text": [
        "\r",
        " 16756736 of 30326502    55% in  133s   122.72 kB/s\r",
        " 16760832 of 30326502    55% in  133s   122.74 kB/s\r",
        " 16764928 of 30326502    55% in  133s   122.77 kB/s\r",
        " 16769024 of 30326502    55% in  133s   122.79 kB/s"
       ]
      },
      {
       "output_type": "stream",
       "stream": "stdout",
       "text": [
        "\r",
        " 16773120 of 30326502    55% in  133s   122.77 kB/s\r",
        " 16777216 of 30326502    55% in  133s   122.79 kB/s\r",
        " 16781312 of 30326502    55% in  133s   122.82 kB/s"
       ]
      },
      {
       "output_type": "stream",
       "stream": "stdout",
       "text": [
        "\r",
        " 16785408 of 30326502    55% in  133s   122.84 kB/s"
       ]
      },
      {
       "output_type": "stream",
       "stream": "stdout",
       "text": [
        "\r",
        " 16789504 of 30326502    55% in  133s   122.78 kB/s"
       ]
      },
      {
       "output_type": "stream",
       "stream": "stdout",
       "text": [
        "\r",
        " 16793600 of 30326502    55% in  133s   122.80 kB/s\r",
        " 16797696 of 30326502    55% in  133s   122.82 kB/s\r",
        " 16801792 of 30326502    55% in  133s   122.85 kB/s\r",
        " 16805888 of 30326502    55% in  133s   122.87 kB/s\r",
        " 16809984 of 30326502    55% in  133s   122.89 kB/s\r",
        " 16814080 of 30326502    55% in  133s   122.91 kB/s"
       ]
      },
      {
       "output_type": "stream",
       "stream": "stdout",
       "text": [
        "\r",
        " 16818176 of 30326502    55% in  133s   122.94 kB/s\r",
        " 16822272 of 30326502    55% in  133s   122.96 kB/s\r",
        " 16826368 of 30326502    55% in  133s   122.98 kB/s\r",
        " 16830464 of 30326502    55% in  133s   122.99 kB/s"
       ]
      },
      {
       "output_type": "stream",
       "stream": "stdout",
       "text": [
        "\r",
        " 16834560 of 30326502    55% in  133s   123.01 kB/s\r",
        " 16838656 of 30326502    55% in  133s   123.03 kB/s"
       ]
      },
      {
       "output_type": "stream",
       "stream": "stdout",
       "text": [
        "\r",
        " 16842752 of 30326502    55% in  133s   123.02 kB/s\r",
        " 16846848 of 30326502    55% in  133s   123.04 kB/s\r",
        " 16850944 of 30326502    55% in  133s   123.06 kB/s\r",
        " 16855040 of 30326502    55% in  133s   123.08 kB/s\r",
        " 16859136 of 30326502    55% in  133s   123.11 kB/s"
       ]
      },
      {
       "output_type": "stream",
       "stream": "stdout",
       "text": [
        "\r",
        " 16863232 of 30326502    55% in  133s   123.06 kB/s\r",
        " 16867328 of 30326502    55% in  133s   123.08 kB/s\r",
        " 16871424 of 30326502    55% in  133s   123.10 kB/s\r",
        " 16875520 of 30326502    55% in  133s   123.13 kB/s"
       ]
      },
      {
       "output_type": "stream",
       "stream": "stdout",
       "text": [
        "\r",
        " 16879616 of 30326502    55% in  133s   123.15 kB/s\r",
        " 16883712 of 30326502    55% in  133s   123.17 kB/s\r",
        " 16887808 of 30326502    55% in  133s   123.19 kB/s\r",
        " 16891904 of 30326502    55% in  133s   123.21 kB/s\r",
        " 16896000 of 30326502    55% in  133s   123.24 kB/s"
       ]
      },
      {
       "output_type": "stream",
       "stream": "stdout",
       "text": [
        "\r",
        " 16900096 of 30326502    55% in  133s   123.26 kB/s\r",
        " 16904192 of 30326502    55% in  133s   123.28 kB/s\r",
        " 16908288 of 30326502    55% in  133s   123.30 kB/s\r",
        " 16912384 of 30326502    55% in  133s   123.32 kB/s\r",
        " 16916480 of 30326502    55% in  133s   123.34 kB/s"
       ]
      },
      {
       "output_type": "stream",
       "stream": "stdout",
       "text": [
        "\r",
        " 16920576 of 30326502    55% in  133s   123.36 kB/s\r",
        " 16924672 of 30326502    55% in  133s   123.38 kB/s\r",
        " 16928768 of 30326502    55% in  133s   123.39 kB/s\r",
        " 16932864 of 30326502    55% in  133s   123.41 kB/s"
       ]
      },
      {
       "output_type": "stream",
       "stream": "stdout",
       "text": [
        "\r",
        " 16936960 of 30326502    55% in  134s   123.43 kB/s\r",
        " 16941056 of 30326502    55% in  134s   123.44 kB/s\r",
        " 16945152 of 30326502    55% in  134s   123.46 kB/s\r",
        " 16949248 of 30326502    55% in  134s   123.48 kB/s"
       ]
      },
      {
       "output_type": "stream",
       "stream": "stdout",
       "text": [
        "\r",
        " 16953344 of 30326502    55% in  134s   123.45 kB/s\r",
        " 16957440 of 30326502    55% in  134s   123.47 kB/s\r",
        " 16961536 of 30326502    55% in  134s   123.50 kB/s\r",
        " 16965632 of 30326502    55% in  134s   123.52 kB/s\r",
        " 16969728 of 30326502    55% in  134s   123.54 kB/s"
       ]
      },
      {
       "output_type": "stream",
       "stream": "stdout",
       "text": [
        "\r",
        " 16973824 of 30326502    55% in  134s   123.56 kB/s\r",
        " 16977920 of 30326502    55% in  134s   123.58 kB/s\r",
        " 16982016 of 30326502    55% in  134s   123.60 kB/s\r",
        " 16986112 of 30326502    56% in  134s   123.62 kB/s\r",
        " 16990208 of 30326502    56% in  134s   123.65 kB/s\r",
        " 16994304 of 30326502    56% in  134s   123.67 kB/s"
       ]
      },
      {
       "output_type": "stream",
       "stream": "stdout",
       "text": [
        "\r",
        " 16998400 of 30326502    56% in  134s   123.69 kB/s\r",
        " 17002496 of 30326502    56% in  134s   123.71 kB/s\r",
        " 17006592 of 30326502    56% in  134s   123.73 kB/s\r",
        " 17010688 of 30326502    56% in  134s   123.75 kB/s\r",
        " 17014784 of 30326502    56% in  134s   123.77 kB/s\r",
        " 17018880 of 30326502    56% in  134s   123.80 kB/s"
       ]
      },
      {
       "output_type": "stream",
       "stream": "stdout",
       "text": [
        "\r",
        " 17022976 of 30326502    56% in  134s   123.82 kB/s\r",
        " 17027072 of 30326502    56% in  134s   123.83 kB/s\r",
        " 17031168 of 30326502    56% in  134s   123.85 kB/s\r",
        " 17035264 of 30326502    56% in  134s   123.87 kB/s"
       ]
      },
      {
       "output_type": "stream",
       "stream": "stdout",
       "text": [
        "\r",
        " 17039360 of 30326502    56% in  134s   123.88 kB/s\r",
        " 17043456 of 30326502    56% in  134s   123.91 kB/s\r",
        " 17047552 of 30326502    56% in  134s   123.93 kB/s"
       ]
      },
      {
       "output_type": "stream",
       "stream": "stdout",
       "text": [
        "\r",
        " 17051648 of 30326502    56% in  134s   123.90 kB/s\r",
        " 17055744 of 30326502    56% in  134s   123.92 kB/s"
       ]
      },
      {
       "output_type": "stream",
       "stream": "stdout",
       "text": [
        "\r",
        " 17059840 of 30326502    56% in  134s   123.95 kB/s\r",
        " 17063936 of 30326502    56% in  134s   123.97 kB/s\r",
        " 17068032 of 30326502    56% in  134s   123.99 kB/s\r",
        " 17072128 of 30326502    56% in  134s   124.01 kB/s\r",
        " 17076224 of 30326502    56% in  134s   124.03 kB/s\r",
        " 17080320 of 30326502    56% in  134s   124.05 kB/s"
       ]
      },
      {
       "output_type": "stream",
       "stream": "stdout",
       "text": [
        "\r",
        " 17084416 of 30326502    56% in  134s   124.07 kB/s\r",
        " 17088512 of 30326502    56% in  134s   124.09 kB/s\r",
        " 17092608 of 30326502    56% in  134s   124.12 kB/s\r",
        " 17096704 of 30326502    56% in  134s   124.14 kB/s\r",
        " 17100800 of 30326502    56% in  134s   124.16 kB/s"
       ]
      },
      {
       "output_type": "stream",
       "stream": "stdout",
       "text": [
        "\r",
        " 17104896 of 30326502    56% in  134s   124.18 kB/s\r",
        " 17108992 of 30326502    56% in  134s   124.20 kB/s\r",
        " 17113088 of 30326502    56% in  134s   124.23 kB/s\r",
        " 17117184 of 30326502    56% in  134s   124.25 kB/s\r",
        " 17121280 of 30326502    56% in  134s   124.27 kB/s\r",
        " 17125376 of 30326502    56% in  134s   124.29 kB/s"
       ]
      },
      {
       "output_type": "stream",
       "stream": "stdout",
       "text": [
        "\r",
        " 17129472 of 30326502    56% in  134s   124.31 kB/s\r",
        " 17133568 of 30326502    56% in  134s   124.33 kB/s\r",
        " 17137664 of 30326502    56% in  134s   124.35 kB/s\r",
        " 17141760 of 30326502    56% in  134s   124.36 kB/s"
       ]
      },
      {
       "output_type": "stream",
       "stream": "stdout",
       "text": [
        "\r",
        " 17145856 of 30326502    56% in  134s   124.38 kB/s\r",
        " 17149952 of 30326502    56% in  134s   124.40 kB/s"
       ]
      },
      {
       "output_type": "stream",
       "stream": "stdout",
       "text": [
        "\r",
        " 17154048 of 30326502    56% in  134s   124.39 kB/s\r",
        " 17158144 of 30326502    56% in  134s   124.41 kB/s\r",
        " 17162240 of 30326502    56% in  134s   124.43 kB/s\r",
        " 17166336 of 30326502    56% in  134s   124.45 kB/s\r",
        " 17170432 of 30326502    56% in  134s   124.47 kB/s"
       ]
      },
      {
       "output_type": "stream",
       "stream": "stdout",
       "text": [
        "\r",
        " 17174528 of 30326502    56% in  134s   124.50 kB/s\r",
        " 17178624 of 30326502    56% in  134s   124.52 kB/s\r",
        " 17182720 of 30326502    56% in  134s   124.54 kB/s\r",
        " 17186816 of 30326502    56% in  134s   124.56 kB/s\r",
        " 17190912 of 30326502    56% in  134s   124.58 kB/s\r",
        " 17195008 of 30326502    56% in  134s   124.60 kB/s"
       ]
      },
      {
       "output_type": "stream",
       "stream": "stdout",
       "text": [
        "\r",
        " 17199104 of 30326502    56% in  134s   124.63 kB/s\r",
        " 17203200 of 30326502    56% in  134s   124.65 kB/s\r",
        " 17207296 of 30326502    56% in  134s   124.67 kB/s\r",
        " 17211392 of 30326502    56% in  134s   124.69 kB/s\r",
        " 17215488 of 30326502    56% in  134s   124.72 kB/s\r",
        " 17219584 of 30326502    56% in  134s   124.74 kB/s"
       ]
      },
      {
       "output_type": "stream",
       "stream": "stdout",
       "text": [
        "\r",
        " 17223680 of 30326502    56% in  134s   124.76 kB/s\r",
        " 17227776 of 30326502    56% in  134s   124.78 kB/s\r",
        " 17231872 of 30326502    56% in  134s   124.80 kB/s\r",
        " 17235968 of 30326502    56% in  134s   124.83 kB/s\r",
        " 17240064 of 30326502    56% in  134s   124.85 kB/s\r",
        " 17244160 of 30326502    56% in  134s   124.87 kB/s"
       ]
      },
      {
       "output_type": "stream",
       "stream": "stdout",
       "text": [
        "\r",
        " 17248256 of 30326502    56% in  134s   124.89 kB/s\r",
        " 17252352 of 30326502    56% in  134s   124.91 kB/s\r",
        " 17256448 of 30326502    56% in  134s   124.93 kB/s\r",
        " 17260544 of 30326502    56% in  134s   124.96 kB/s\r",
        " 17264640 of 30326502    56% in  134s   124.97 kB/s\r",
        " 17268736 of 30326502    56% in  134s   125.00 kB/s"
       ]
      },
      {
       "output_type": "stream",
       "stream": "stdout",
       "text": [
        "\r",
        " 17272832 of 30326502    56% in  134s   125.02 kB/s\r",
        " 17276928 of 30326502    56% in  134s   125.04 kB/s\r",
        " 17281024 of 30326502    56% in  134s   125.06 kB/s\r",
        " 17285120 of 30326502    56% in  134s   125.07 kB/s\r",
        " 17289216 of 30326502    57% in  134s   125.09 kB/s"
       ]
      },
      {
       "output_type": "stream",
       "stream": "stdout",
       "text": [
        "\r",
        " 17293312 of 30326502    57% in  134s   125.10 kB/s\r",
        " 17297408 of 30326502    57% in  135s   125.12 kB/s\r",
        " 17301504 of 30326502    57% in  135s   125.14 kB/s\r",
        " 17305600 of 30326502    57% in  135s   125.16 kB/s"
       ]
      },
      {
       "output_type": "stream",
       "stream": "stdout",
       "text": [
        "\r",
        " 17309696 of 30326502    57% in  135s   125.18 kB/s\r",
        " 17313792 of 30326502    57% in  135s   125.21 kB/s\r",
        " 17317888 of 30326502    57% in  135s   125.23 kB/s\r",
        " 17321984 of 30326502    57% in  135s   125.25 kB/s\r",
        " 17326080 of 30326502    57% in  135s   125.27 kB/s"
       ]
      },
      {
       "output_type": "stream",
       "stream": "stdout",
       "text": [
        "\r",
        " 17330176 of 30326502    57% in  135s   125.29 kB/s\r",
        " 17334272 of 30326502    57% in  135s   125.32 kB/s\r",
        " 17338368 of 30326502    57% in  135s   125.34 kB/s\r",
        " 17342464 of 30326502    57% in  135s   125.36 kB/s\r",
        " 17346560 of 30326502    57% in  135s   125.38 kB/s\r",
        " 17350656 of 30326502    57% in  135s   125.40 kB/s\r",
        " 17354752 of 30326502    57% in  135s   125.42 kB/s"
       ]
      },
      {
       "output_type": "stream",
       "stream": "stdout",
       "text": [
        "\r",
        " 17358848 of 30326502    57% in  135s   125.45 kB/s\r",
        " 17362944 of 30326502    57% in  135s   125.47 kB/s\r",
        " 17367040 of 30326502    57% in  135s   125.49 kB/s\r",
        " 17371136 of 30326502    57% in  135s   125.51 kB/s\r",
        " 17375232 of 30326502    57% in  135s   125.53 kB/s\r",
        " 17379328 of 30326502    57% in  135s   125.55 kB/s"
       ]
      },
      {
       "output_type": "stream",
       "stream": "stdout",
       "text": [
        "\r",
        " 17383424 of 30326502    57% in  135s   125.58 kB/s\r",
        " 17387520 of 30326502    57% in  135s   125.60 kB/s\r",
        " 17391616 of 30326502    57% in  135s   125.62 kB/s\r",
        " 17395712 of 30326502    57% in  135s   125.64 kB/s\r",
        " 17399808 of 30326502    57% in  135s   125.66 kB/s\r",
        " 17403904 of 30326502    57% in  135s   125.68 kB/s"
       ]
      },
      {
       "output_type": "stream",
       "stream": "stdout",
       "text": [
        "\r",
        " 17408000 of 30326502    57% in  135s   125.71 kB/s\r",
        " 17412096 of 30326502    57% in  135s   125.73 kB/s\r",
        " 17416192 of 30326502    57% in  135s   125.75 kB/s\r",
        " 17420288 of 30326502    57% in  135s   125.77 kB/s\r",
        " 17424384 of 30326502    57% in  135s   125.79 kB/s\r",
        " 17428480 of 30326502    57% in  135s   125.82 kB/s"
       ]
      },
      {
       "output_type": "stream",
       "stream": "stdout",
       "text": [
        "\r",
        " 17432576 of 30326502    57% in  135s   125.84 kB/s\r",
        " 17436672 of 30326502    57% in  135s   125.86 kB/s\r",
        " 17440768 of 30326502    57% in  135s   125.88 kB/s\r",
        " 17444864 of 30326502    57% in  135s   125.90 kB/s\r",
        " 17448960 of 30326502    57% in  135s   125.92 kB/s\r",
        " 17453056 of 30326502    57% in  135s   125.95 kB/s"
       ]
      },
      {
       "output_type": "stream",
       "stream": "stdout",
       "text": [
        "\r",
        " 17457152 of 30326502    57% in  135s   125.96 kB/s\r",
        " 17461248 of 30326502    57% in  135s   125.99 kB/s\r",
        " 17465344 of 30326502    57% in  135s   126.01 kB/s\r",
        " 17469440 of 30326502    57% in  135s   126.03 kB/s\r",
        " 17473536 of 30326502    57% in  135s   126.05 kB/s\r",
        " 17477632 of 30326502    57% in  135s   126.07 kB/s"
       ]
      },
      {
       "output_type": "stream",
       "stream": "stdout",
       "text": [
        "\r",
        " 17481728 of 30326502    57% in  135s   126.10 kB/s\r",
        " 17485824 of 30326502    57% in  135s   126.12 kB/s\r",
        " 17489920 of 30326502    57% in  135s   126.14 kB/s\r",
        " 17494016 of 30326502    57% in  135s   126.16 kB/s\r",
        " 17498112 of 30326502    57% in  135s   126.18 kB/s\r",
        " 17502208 of 30326502    57% in  135s   126.20 kB/s"
       ]
      },
      {
       "output_type": "stream",
       "stream": "stdout",
       "text": [
        "\r",
        " 17506304 of 30326502    57% in  135s   126.23 kB/s\r",
        " 17510400 of 30326502    57% in  135s   126.25 kB/s\r",
        " 17514496 of 30326502    57% in  135s   126.27 kB/s\r",
        " 17518592 of 30326502    57% in  135s   126.29 kB/s\r",
        " 17522688 of 30326502    57% in  135s   126.31 kB/s\r",
        " 17526784 of 30326502    57% in  135s   126.34 kB/s"
       ]
      },
      {
       "output_type": "stream",
       "stream": "stdout",
       "text": [
        "\r",
        " 17530880 of 30326502    57% in  135s   126.36 kB/s\r",
        " 17534976 of 30326502    57% in  135s   126.38 kB/s\r",
        " 17539072 of 30326502    57% in  135s   126.40 kB/s\r",
        " 17543168 of 30326502    57% in  135s   126.42 kB/s\r",
        " 17547264 of 30326502    57% in  135s   126.45 kB/s\r",
        " 17551360 of 30326502    57% in  135s   126.47 kB/s"
       ]
      },
      {
       "output_type": "stream",
       "stream": "stdout",
       "text": [
        "\r",
        " 17555456 of 30326502    57% in  135s   126.49 kB/s\r",
        " 17559552 of 30326502    57% in  135s   126.51 kB/s\r",
        " 17563648 of 30326502    57% in  135s   126.53 kB/s\r",
        " 17567744 of 30326502    57% in  135s   126.55 kB/s\r",
        " 17571840 of 30326502    57% in  135s   126.57 kB/s\r",
        " 17575936 of 30326502    57% in  135s   126.60 kB/s"
       ]
      },
      {
       "output_type": "stream",
       "stream": "stdout",
       "text": [
        "\r",
        " 17580032 of 30326502    57% in  135s   126.62 kB/s\r",
        " 17584128 of 30326502    57% in  135s   126.64 kB/s\r",
        " 17588224 of 30326502    57% in  135s   126.66 kB/s\r",
        " 17592320 of 30326502    58% in  135s   126.68 kB/s\r",
        " 17596416 of 30326502    58% in  135s   126.71 kB/s\r",
        " 17600512 of 30326502    58% in  135s   126.73 kB/s"
       ]
      },
      {
       "output_type": "stream",
       "stream": "stdout",
       "text": [
        "\r",
        " 17604608 of 30326502    58% in  135s   126.75 kB/s\r",
        " 17608704 of 30326502    58% in  135s   126.77 kB/s\r",
        " 17612800 of 30326502    58% in  135s   126.79 kB/s\r",
        " 17616896 of 30326502    58% in  135s   126.81 kB/s\r",
        " 17620992 of 30326502    58% in  135s   126.83 kB/s\r",
        " 17625088 of 30326502    58% in  135s   126.86 kB/s"
       ]
      },
      {
       "output_type": "stream",
       "stream": "stdout",
       "text": [
        "\r",
        " 17629184 of 30326502    58% in  135s   126.87 kB/s\r",
        " 17633280 of 30326502    58% in  135s   126.90 kB/s\r",
        " 17637376 of 30326502    58% in  135s   126.92 kB/s\r",
        " 17641472 of 30326502    58% in  135s   126.94 kB/s\r",
        " 17645568 of 30326502    58% in  135s   126.96 kB/s\r",
        " 17649664 of 30326502    58% in  135s   126.99 kB/s"
       ]
      },
      {
       "output_type": "stream",
       "stream": "stdout",
       "text": [
        "\r",
        " 17653760 of 30326502    58% in  135s   127.01 kB/s\r",
        " 17657856 of 30326502    58% in  135s   127.03 kB/s\r",
        " 17661952 of 30326502    58% in  135s   127.05 kB/s\r",
        " 17666048 of 30326502    58% in  135s   127.07 kB/s\r",
        " 17670144 of 30326502    58% in  135s   127.09 kB/s\r",
        " 17674240 of 30326502    58% in  135s   127.11 kB/s"
       ]
      },
      {
       "output_type": "stream",
       "stream": "stdout",
       "text": [
        "\r",
        " 17678336 of 30326502    58% in  135s   127.14 kB/s\r",
        " 17682432 of 30326502    58% in  135s   127.16 kB/s\r",
        " 17686528 of 30326502    58% in  135s   127.18 kB/s\r",
        " 17690624 of 30326502    58% in  135s   127.20 kB/s\r",
        " 17694720 of 30326502    58% in  135s   127.22 kB/s\r",
        " 17698816 of 30326502    58% in  135s   127.24 kB/s"
       ]
      },
      {
       "output_type": "stream",
       "stream": "stdout",
       "text": [
        "\r",
        " 17702912 of 30326502    58% in  135s   127.26 kB/s\r",
        " 17707008 of 30326502    58% in  135s   127.29 kB/s\r",
        " 17711104 of 30326502    58% in  135s   127.31 kB/s\r",
        " 17715200 of 30326502    58% in  135s   127.33 kB/s\r",
        " 17719296 of 30326502    58% in  135s   127.35 kB/s\r",
        " 17723392 of 30326502    58% in  135s   127.37 kB/s"
       ]
      },
      {
       "output_type": "stream",
       "stream": "stdout",
       "text": [
        "\r",
        " 17727488 of 30326502    58% in  135s   127.39 kB/s\r",
        " 17731584 of 30326502    58% in  135s   127.42 kB/s\r",
        " 17735680 of 30326502    58% in  135s   127.44 kB/s\r",
        " 17739776 of 30326502    58% in  135s   127.46 kB/s\r",
        " 17743872 of 30326502    58% in  135s   127.48 kB/s\r",
        " 17747968 of 30326502    58% in  135s   127.50 kB/s"
       ]
      },
      {
       "output_type": "stream",
       "stream": "stdout",
       "text": [
        "\r",
        " 17752064 of 30326502    58% in  135s   127.52 kB/s\r",
        " 17756160 of 30326502    58% in  135s   127.54 kB/s"
       ]
      },
      {
       "output_type": "stream",
       "stream": "stdout",
       "text": [
        "\r",
        " 17760256 of 30326502    58% in  136s   127.21 kB/s\r",
        " 17764352 of 30326502    58% in  136s   127.24 kB/s\r",
        " 17768448 of 30326502    58% in  136s   127.27 kB/s\r",
        " 17772544 of 30326502    58% in  136s   127.30 kB/s\r",
        " 17776640 of 30326502    58% in  136s   127.32 kB/s"
       ]
      },
      {
       "output_type": "stream",
       "stream": "stdout",
       "text": [
        "\r",
        " 17780736 of 30326502    58% in  136s   127.24 kB/s\r",
        " 17784832 of 30326502    58% in  136s   127.27 kB/s\r",
        " 17788928 of 30326502    58% in  136s   127.30 kB/s\r",
        " 17793024 of 30326502    58% in  136s   127.33 kB/s\r",
        " 17797120 of 30326502    58% in  136s   127.36 kB/s\r",
        " 17801216 of 30326502    58% in  136s   127.39 kB/s\r",
        " 17805312 of 30326502    58% in  136s   127.42 kB/s\r",
        " 17809408 of 30326502    58% in  136s   127.45 kB/s\r",
        " 17813504 of 30326502    58% in  136s   127.47 kB/s\r",
        " 17817600 of 30326502    58% in  136s   127.50 kB/s\r",
        " 17821696 of 30326502    58% in  136s   127.53 kB/s\r",
        " 17825792 of 30326502    58% in  136s   127.56 kB/s\r",
        " 17829888 of 30326502    58% in  136s   127.59 kB/s\r",
        " 17833984 of 30326502    58% in  136s   127.62 kB/s\r",
        " 17838080 of 30326502    58% in  136s   127.65 kB/s\r",
        " 17842176 of 30326502    58% in  136s   127.67 kB/s\r",
        " 17846272 of 30326502    58% in  136s   127.70 kB/s\r",
        " 17850368 of 30326502    58% in  136s   127.73 kB/s\r",
        " 17854464 of 30326502    58% in  136s   127.75 kB/s\r",
        " 17858560 of 30326502    58% in  136s   127.78 kB/s\r",
        " 17862656 of 30326502    58% in  136s   127.81 kB/s\r",
        " 17866752 of 30326502    58% in  136s   127.84 kB/s\r",
        " 17870848 of 30326502    58% in  136s   127.87 kB/s\r",
        " 17874944 of 30326502    58% in  136s   127.90 kB/s\r",
        " 17879040 of 30326502    58% in  136s   127.93 kB/s\r",
        " 17883136 of 30326502    58% in  136s   127.95 kB/s\r",
        " 17887232 of 30326502    58% in  136s   127.98 kB/s\r",
        " 17891328 of 30326502    58% in  136s   128.01 kB/s\r",
        " 17895424 of 30326502    59% in  136s   128.04 kB/s\r",
        " 17899520 of 30326502    59% in  136s   128.07 kB/s\r",
        " 17903616 of 30326502    59% in  136s   128.10 kB/s"
       ]
      },
      {
       "output_type": "stream",
       "stream": "stdout",
       "text": [
        "\r",
        " 17907712 of 30326502    59% in  136s   128.10 kB/s\r",
        " 17911808 of 30326502    59% in  136s   128.12 kB/s\r",
        " 17915904 of 30326502    59% in  136s   128.15 kB/s\r",
        " 17920000 of 30326502    59% in  136s   128.17 kB/s\r",
        " 17924096 of 30326502    59% in  136s   128.20 kB/s\r",
        " 17928192 of 30326502    59% in  136s   128.23 kB/s\r",
        " 17932288 of 30326502    59% in  136s   128.26 kB/s"
       ]
      },
      {
       "output_type": "stream",
       "stream": "stdout",
       "text": [
        "\r",
        " 17936384 of 30326502    59% in  136s   128.26 kB/s\r",
        " 17940480 of 30326502    59% in  136s   128.29 kB/s\r",
        " 17944576 of 30326502    59% in  136s   128.32 kB/s\r",
        " 17948672 of 30326502    59% in  136s   128.32 kB/s\r",
        " 17952768 of 30326502    59% in  136s   128.35 kB/s\r",
        " 17956864 of 30326502    59% in  136s   128.38 kB/s\r",
        " 17960960 of 30326502    59% in  136s   128.41 kB/s\r",
        " 17965056 of 30326502    59% in  136s   128.44 kB/s\r",
        " 17969152 of 30326502    59% in  136s   128.47 kB/s\r",
        " 17973248 of 30326502    59% in  136s   128.50 kB/s\r",
        " 17977344 of 30326502    59% in  136s   128.53 kB/s\r",
        " 17981440 of 30326502    59% in  136s   128.56 kB/s\r",
        " 17985536 of 30326502    59% in  136s   128.59 kB/s\r",
        " 17989632 of 30326502    59% in  136s   128.62 kB/s\r",
        " 17993728 of 30326502    59% in  136s   128.65 kB/s\r",
        " 17997824 of 30326502    59% in  136s   128.68 kB/s\r",
        " 18001920 of 30326502    59% in  136s   128.70 kB/s\r",
        " 18006016 of 30326502    59% in  136s   128.73 kB/s\r",
        " 18010112 of 30326502    59% in  136s   128.76 kB/s\r",
        " 18014208 of 30326502    59% in  136s   128.79 kB/s\r",
        " 18018304 of 30326502    59% in  136s   128.82 kB/s"
       ]
      },
      {
       "output_type": "stream",
       "stream": "stdout",
       "text": [
        "\r",
        " 18022400 of 30326502    59% in  136s   128.82 kB/s\r",
        " 18026496 of 30326502    59% in  136s   128.84 kB/s\r",
        " 18030592 of 30326502    59% in  136s   128.86 kB/s\r",
        " 18034688 of 30326502    59% in  136s   128.88 kB/s"
       ]
      },
      {
       "output_type": "stream",
       "stream": "stdout",
       "text": [
        "\r",
        " 18038784 of 30326502    59% in  137s   128.55 kB/s\r",
        " 18042880 of 30326502    59% in  137s   128.58 kB/s\r",
        " 18046976 of 30326502    59% in  137s   128.61 kB/s\r",
        " 18051072 of 30326502    59% in  137s   128.64 kB/s\r",
        " 18055168 of 30326502    59% in  137s   128.67 kB/s\r",
        " 18059264 of 30326502    59% in  137s   128.69 kB/s\r",
        " 18063360 of 30326502    59% in  137s   128.72 kB/s\r",
        " 18067456 of 30326502    59% in  137s   128.75 kB/s\r",
        " 18071552 of 30326502    59% in  137s   128.78 kB/s\r",
        " 18075648 of 30326502    59% in  137s   128.81 kB/s\r",
        " 18079744 of 30326502    59% in  137s   128.84 kB/s\r",
        " 18083840 of 30326502    59% in  137s   128.87 kB/s\r",
        " 18087936 of 30326502    59% in  137s   128.90 kB/s\r",
        " 18092032 of 30326502    59% in  137s   128.91 kB/s"
       ]
      },
      {
       "output_type": "stream",
       "stream": "stdout",
       "text": [
        "\r",
        " 18096128 of 30326502    59% in  137s   128.87 kB/s"
       ]
      },
      {
       "output_type": "stream",
       "stream": "stdout",
       "text": [
        "\r",
        " 18100224 of 30326502    59% in  137s   128.84 kB/s"
       ]
      },
      {
       "output_type": "stream",
       "stream": "stdout",
       "text": [
        "\r",
        " 18104320 of 30326502    59% in  137s   128.82 kB/s"
       ]
      },
      {
       "output_type": "stream",
       "stream": "stdout",
       "text": [
        "\r",
        " 18108416 of 30326502    59% in  137s   128.80 kB/s\r",
        " 18112512 of 30326502    59% in  137s   128.82 kB/s\r",
        " 18116608 of 30326502    59% in  137s   128.85 kB/s\r",
        " 18120704 of 30326502    59% in  137s   128.87 kB/s"
       ]
      },
      {
       "output_type": "stream",
       "stream": "stdout",
       "text": [
        "\r",
        " 18124800 of 30326502    59% in  137s   128.88 kB/s\r",
        " 18128896 of 30326502    59% in  137s   128.88 kB/s\r",
        " 18132992 of 30326502    59% in  137s   128.91 kB/s"
       ]
      },
      {
       "output_type": "stream",
       "stream": "stdout",
       "text": [
        "\r",
        " 18137088 of 30326502    59% in  137s   128.89 kB/s"
       ]
      },
      {
       "output_type": "stream",
       "stream": "stdout",
       "text": [
        "\r",
        " 18141184 of 30326502    59% in  137s   128.82 kB/s"
       ]
      },
      {
       "output_type": "stream",
       "stream": "stdout",
       "text": [
        "\r",
        " 18145280 of 30326502    59% in  137s   128.70 kB/s"
       ]
      },
      {
       "output_type": "stream",
       "stream": "stdout",
       "text": [
        "\r",
        " 18149376 of 30326502    59% in  137s   128.73 kB/s\r",
        " 18153472 of 30326502    59% in  137s   128.75 kB/s\r",
        " 18157568 of 30326502    59% in  137s   128.77 kB/s\r",
        " 18161664 of 30326502    59% in  137s   128.79 kB/s\r",
        " 18165760 of 30326502    59% in  137s   128.81 kB/s"
       ]
      },
      {
       "output_type": "stream",
       "stream": "stdout",
       "text": [
        "\r",
        " 18169856 of 30326502    59% in  137s   128.83 kB/s\r",
        " 18173952 of 30326502    59% in  137s   128.85 kB/s\r",
        " 18178048 of 30326502    59% in  137s   128.88 kB/s"
       ]
      },
      {
       "output_type": "stream",
       "stream": "stdout",
       "text": [
        "\r",
        " 18182144 of 30326502    59% in  137s   128.84 kB/s"
       ]
      },
      {
       "output_type": "stream",
       "stream": "stdout",
       "text": [
        "\r",
        " 18186240 of 30326502    59% in  137s   128.73 kB/s\r",
        " 18190336 of 30326502    59% in  137s   128.75 kB/s\r",
        " 18194432 of 30326502    59% in  137s   128.77 kB/s"
       ]
      },
      {
       "output_type": "stream",
       "stream": "stdout",
       "text": [
        "\r",
        " 18198528 of 30326502    60% in  137s   128.79 kB/s\r",
        " 18202624 of 30326502    60% in  137s   128.81 kB/s\r",
        " 18206720 of 30326502    60% in  138s   128.83 kB/s\r",
        " 18210816 of 30326502    60% in  138s   128.85 kB/s\r",
        " 18214912 of 30326502    60% in  138s   128.87 kB/s"
       ]
      },
      {
       "output_type": "stream",
       "stream": "stdout",
       "text": [
        "\r",
        " 18219008 of 30326502    60% in  138s   128.89 kB/s"
       ]
      },
      {
       "output_type": "stream",
       "stream": "stdout",
       "text": [
        "\r",
        " 18223104 of 30326502    60% in  138s   128.86 kB/s"
       ]
      },
      {
       "output_type": "stream",
       "stream": "stdout",
       "text": [
        "\r",
        " 18227200 of 30326502    60% in  138s   128.75 kB/s\r",
        " 18231296 of 30326502    60% in  138s   128.77 kB/s\r",
        " 18235392 of 30326502    60% in  138s   128.79 kB/s\r",
        " 18239488 of 30326502    60% in  138s   128.81 kB/s\r",
        " 18243584 of 30326502    60% in  138s   128.83 kB/s"
       ]
      },
      {
       "output_type": "stream",
       "stream": "stdout",
       "text": [
        "\r",
        " 18247680 of 30326502    60% in  138s   128.85 kB/s\r",
        " 18251776 of 30326502    60% in  138s   128.86 kB/s\r",
        " 18255872 of 30326502    60% in  138s   128.89 kB/s\r",
        " 18259968 of 30326502    60% in  138s   128.91 kB/s"
       ]
      },
      {
       "output_type": "stream",
       "stream": "stdout",
       "text": [
        "\r",
        " 18264064 of 30326502    60% in  138s   128.88 kB/s"
       ]
      },
      {
       "output_type": "stream",
       "stream": "stdout",
       "text": [
        "\r",
        " 18268160 of 30326502    60% in  138s   128.77 kB/s"
       ]
      },
      {
       "output_type": "stream",
       "stream": "stdout",
       "text": [
        "\r",
        " 18272256 of 30326502    60% in  138s   128.79 kB/s\r",
        " 18276352 of 30326502    60% in  138s   128.81 kB/s\r",
        " 18280448 of 30326502    60% in  138s   128.82 kB/s\r",
        " 18284544 of 30326502    60% in  138s   128.85 kB/s\r",
        " 18288640 of 30326502    60% in  138s   128.87 kB/s\r",
        " 18292736 of 30326502    60% in  138s   128.89 kB/s"
       ]
      },
      {
       "output_type": "stream",
       "stream": "stdout",
       "text": [
        "\r",
        " 18296832 of 30326502    60% in  138s   128.91 kB/s\r",
        " 18300928 of 30326502    60% in  138s   128.93 kB/s"
       ]
      },
      {
       "output_type": "stream",
       "stream": "stdout",
       "text": [
        "\r",
        " 18305024 of 30326502    60% in  138s   128.90 kB/s"
       ]
      },
      {
       "output_type": "stream",
       "stream": "stdout",
       "text": [
        "\r",
        " 18309120 of 30326502    60% in  138s   128.80 kB/s\r",
        " 18313216 of 30326502    60% in  138s   128.80 kB/s\r",
        " 18317312 of 30326502    60% in  138s   128.83 kB/s\r",
        " 18321408 of 30326502    60% in  138s   128.86 kB/s"
       ]
      },
      {
       "output_type": "stream",
       "stream": "stdout",
       "text": [
        "\r",
        " 18325504 of 30326502    60% in  138s   128.88 kB/s\r",
        " 18329600 of 30326502    60% in  138s   128.90 kB/s\r",
        " 18333696 of 30326502    60% in  138s   128.92 kB/s\r",
        " 18337792 of 30326502    60% in  138s   128.94 kB/s\r",
        " 18341888 of 30326502    60% in  138s   128.96 kB/s"
       ]
      },
      {
       "output_type": "stream",
       "stream": "stdout",
       "text": [
        "\r",
        " 18345984 of 30326502    60% in  138s   128.93 kB/s"
       ]
      },
      {
       "output_type": "stream",
       "stream": "stdout",
       "text": [
        "\r",
        " 18350080 of 30326502    60% in  139s   128.79 kB/s\r",
        " 18354176 of 30326502    60% in  139s   128.82 kB/s\r",
        " 18358272 of 30326502    60% in  139s   128.85 kB/s\r",
        " 18362368 of 30326502    60% in  139s   128.88 kB/s\r",
        " 18366464 of 30326502    60% in  139s   128.90 kB/s\r",
        " 18370560 of 30326502    60% in  139s   128.91 kB/s"
       ]
      },
      {
       "output_type": "stream",
       "stream": "stdout",
       "text": [
        "\r",
        " 18374656 of 30326502    60% in  139s   128.94 kB/s\r",
        " 18378752 of 30326502    60% in  139s   128.96 kB/s\r",
        " 18382848 of 30326502    60% in  139s   128.98 kB/s"
       ]
      },
      {
       "output_type": "stream",
       "stream": "stdout",
       "text": [
        "\r",
        " 18386944 of 30326502    60% in  139s   128.95 kB/s"
       ]
      },
      {
       "output_type": "stream",
       "stream": "stdout",
       "text": [
        "\r",
        " 18391040 of 30326502    60% in  139s   128.82 kB/s\r",
        " 18395136 of 30326502    60% in  139s   128.84 kB/s\r",
        " 18399232 of 30326502    60% in  139s   128.86 kB/s\r",
        " 18403328 of 30326502    60% in  139s   128.88 kB/s\r",
        " 18407424 of 30326502    60% in  139s   128.90 kB/s\r",
        " 18411520 of 30326502    60% in  139s   128.92 kB/s"
       ]
      },
      {
       "output_type": "stream",
       "stream": "stdout",
       "text": [
        "\r",
        " 18415616 of 30326502    60% in  139s   128.94 kB/s\r",
        " 18419712 of 30326502    60% in  139s   128.96 kB/s\r",
        " 18423808 of 30326502    60% in  139s   128.98 kB/s"
       ]
      },
      {
       "output_type": "stream",
       "stream": "stdout",
       "text": [
        "\r",
        " 18427904 of 30326502    60% in  139s   128.98 kB/s"
       ]
      },
      {
       "output_type": "stream",
       "stream": "stdout",
       "text": [
        "\r",
        " 18432000 of 30326502    60% in  139s   128.84 kB/s\r",
        " 18436096 of 30326502    60% in  139s   128.86 kB/s\r",
        " 18440192 of 30326502    60% in  139s   128.88 kB/s"
       ]
      },
      {
       "output_type": "stream",
       "stream": "stdout",
       "text": [
        "\r",
        " 18444288 of 30326502    60% in  139s   128.90 kB/s\r",
        " 18448384 of 30326502    60% in  139s   128.92 kB/s\r",
        " 18452480 of 30326502    60% in  139s   128.94 kB/s\r",
        " 18456576 of 30326502    60% in  139s   128.97 kB/s\r",
        " 18460672 of 30326502    60% in  139s   128.99 kB/s"
       ]
      },
      {
       "output_type": "stream",
       "stream": "stdout",
       "text": [
        "\r",
        " 18464768 of 30326502    60% in  139s   129.00 kB/s\r",
        " 18468864 of 30326502    60% in  139s   129.02 kB/s\r",
        " 18472960 of 30326502    60% in  139s   129.02 kB/s"
       ]
      },
      {
       "output_type": "stream",
       "stream": "stdout",
       "text": [
        "\r",
        " 18477056 of 30326502    60% in  139s   128.89 kB/s\r",
        " 18481152 of 30326502    60% in  140s   128.91 kB/s\r",
        " 18485248 of 30326502    60% in  140s   128.93 kB/s\r",
        " 18489344 of 30326502    60% in  140s   128.95 kB/s\r",
        " 18493440 of 30326502    60% in  140s   128.97 kB/s"
       ]
      },
      {
       "output_type": "stream",
       "stream": "stdout",
       "text": [
        "\r",
        " 18497536 of 30326502    60% in  140s   128.99 kB/s\r",
        " 18501632 of 30326502    61% in  140s   129.01 kB/s\r",
        " 18505728 of 30326502    61% in  140s   129.03 kB/s\r",
        " 18509824 of 30326502    61% in  140s   129.05 kB/s"
       ]
      },
      {
       "output_type": "stream",
       "stream": "stdout",
       "text": [
        "\r",
        " 18513920 of 30326502    61% in  140s   129.05 kB/s"
       ]
      },
      {
       "output_type": "stream",
       "stream": "stdout",
       "text": [
        "\r",
        " 18518016 of 30326502    61% in  140s   128.92 kB/s\r",
        " 18522112 of 30326502    61% in  140s   128.93 kB/s"
       ]
      },
      {
       "output_type": "stream",
       "stream": "stdout",
       "text": [
        "\r",
        " 18526208 of 30326502    61% in  140s   128.95 kB/s\r",
        " 18530304 of 30326502    61% in  140s   128.97 kB/s\r",
        " 18534400 of 30326502    61% in  140s   128.99 kB/s\r",
        " 18538496 of 30326502    61% in  140s   129.02 kB/s\r",
        " 18542592 of 30326502    61% in  140s   129.03 kB/s\r",
        " 18546688 of 30326502    61% in  140s   129.06 kB/s"
       ]
      },
      {
       "output_type": "stream",
       "stream": "stdout",
       "text": [
        "\r",
        " 18550784 of 30326502    61% in  140s   129.08 kB/s\r",
        " 18554880 of 30326502    61% in  140s   129.09 kB/s\r",
        " 18558976 of 30326502    61% in  140s   129.10 kB/s"
       ]
      },
      {
       "output_type": "stream",
       "stream": "stdout",
       "text": [
        "\r",
        " 18563072 of 30326502    61% in  140s   128.96 kB/s\r",
        " 18567168 of 30326502    61% in  140s   128.98 kB/s\r",
        " 18571264 of 30326502    61% in  140s   129.00 kB/s\r",
        " 18575360 of 30326502    61% in  140s   129.02 kB/s"
       ]
      },
      {
       "output_type": "stream",
       "stream": "stdout",
       "text": [
        "\r",
        " 18579456 of 30326502    61% in  140s   129.04 kB/s\r",
        " 18583552 of 30326502    61% in  140s   129.06 kB/s\r",
        " 18587648 of 30326502    61% in  140s   129.08 kB/s\r",
        " 18591744 of 30326502    61% in  140s   129.10 kB/s\r",
        " 18595840 of 30326502    61% in  140s   129.12 kB/s"
       ]
      },
      {
       "output_type": "stream",
       "stream": "stdout",
       "text": [
        "\r",
        " 18599936 of 30326502    61% in  140s   129.13 kB/s"
       ]
      },
      {
       "output_type": "stream",
       "stream": "stdout",
       "text": [
        "\r",
        " 18604032 of 30326502    61% in  140s   128.99 kB/s\r",
        " 18608128 of 30326502    61% in  140s   129.01 kB/s"
       ]
      },
      {
       "output_type": "stream",
       "stream": "stdout",
       "text": [
        "\r",
        " 18612224 of 30326502    61% in  140s   129.03 kB/s\r",
        " 18616320 of 30326502    61% in  140s   129.05 kB/s\r",
        " 18620416 of 30326502    61% in  140s   129.07 kB/s\r",
        " 18624512 of 30326502    61% in  140s   129.09 kB/s\r",
        " 18628608 of 30326502    61% in  140s   129.11 kB/s"
       ]
      },
      {
       "output_type": "stream",
       "stream": "stdout",
       "text": [
        "\r",
        " 18632704 of 30326502    61% in  140s   129.13 kB/s\r",
        " 18636800 of 30326502    61% in  140s   129.15 kB/s\r",
        " 18640896 of 30326502    61% in  140s   129.17 kB/s\r",
        " 18644992 of 30326502    61% in  140s   129.18 kB/s"
       ]
      },
      {
       "output_type": "stream",
       "stream": "stdout",
       "text": [
        "\r",
        " 18649088 of 30326502    61% in  141s   129.04 kB/s\r",
        " 18653184 of 30326502    61% in  141s   129.06 kB/s\r",
        " 18657280 of 30326502    61% in  141s   129.08 kB/s\r",
        " 18661376 of 30326502    61% in  141s   129.10 kB/s"
       ]
      },
      {
       "output_type": "stream",
       "stream": "stdout",
       "text": [
        "\r",
        " 18665472 of 30326502    61% in  141s   129.12 kB/s\r",
        " 18669568 of 30326502    61% in  141s   129.14 kB/s\r",
        " 18673664 of 30326502    61% in  141s   129.16 kB/s\r",
        " 18677760 of 30326502    61% in  141s   129.18 kB/s\r",
        " 18681856 of 30326502    61% in  141s   129.20 kB/s"
       ]
      },
      {
       "output_type": "stream",
       "stream": "stdout",
       "text": [
        "\r",
        " 18685952 of 30326502    61% in  141s   129.21 kB/s\r",
        " 18690048 of 30326502    61% in  141s   129.23 kB/s"
       ]
      },
      {
       "output_type": "stream",
       "stream": "stdout",
       "text": [
        "\r",
        " 18694144 of 30326502    61% in  141s   129.09 kB/s\r",
        " 18698240 of 30326502    61% in  141s   129.11 kB/s\r",
        " 18702336 of 30326502    61% in  141s   129.13 kB/s\r",
        " 18706432 of 30326502    61% in  141s   129.15 kB/s\r",
        " 18710528 of 30326502    61% in  141s   129.17 kB/s\r",
        " 18714624 of 30326502    61% in  141s   129.19 kB/s"
       ]
      },
      {
       "output_type": "stream",
       "stream": "stdout",
       "text": [
        "\r",
        " 18718720 of 30326502    61% in  141s   129.21 kB/s\r",
        " 18722816 of 30326502    61% in  141s   129.22 kB/s\r",
        " 18726912 of 30326502    61% in  141s   129.24 kB/s\r",
        " 18731008 of 30326502    61% in  141s   129.26 kB/s"
       ]
      },
      {
       "output_type": "stream",
       "stream": "stdout",
       "text": [
        "\r",
        " 18735104 of 30326502    61% in  141s   129.18 kB/s"
       ]
      },
      {
       "output_type": "stream",
       "stream": "stdout",
       "text": [
        "\r",
        " 18739200 of 30326502    61% in  141s   129.14 kB/s\r",
        " 18743296 of 30326502    61% in  141s   129.15 kB/s"
       ]
      },
      {
       "output_type": "stream",
       "stream": "stdout",
       "text": [
        "\r",
        " 18747392 of 30326502    61% in  141s   129.18 kB/s\r",
        " 18751488 of 30326502    61% in  141s   129.20 kB/s\r",
        " 18755584 of 30326502    61% in  141s   129.22 kB/s\r",
        " 18759680 of 30326502    61% in  141s   129.24 kB/s\r",
        " 18763776 of 30326502    61% in  141s   129.26 kB/s"
       ]
      },
      {
       "output_type": "stream",
       "stream": "stdout",
       "text": [
        "\r",
        " 18767872 of 30326502    61% in  141s   129.27 kB/s\r",
        " 18771968 of 30326502    61% in  141s   129.29 kB/s\r",
        " 18776064 of 30326502    61% in  141s   129.30 kB/s"
       ]
      },
      {
       "output_type": "stream",
       "stream": "stdout",
       "text": [
        "\r",
        " 18780160 of 30326502    61% in  141s   129.23 kB/s"
       ]
      },
      {
       "output_type": "stream",
       "stream": "stdout",
       "text": [
        "\r",
        " 18784256 of 30326502    61% in  141s   129.20 kB/s"
       ]
      },
      {
       "output_type": "stream",
       "stream": "stdout",
       "text": [
        "\r",
        " 18788352 of 30326502    61% in  142s   129.21 kB/s\r",
        " 18792448 of 30326502    61% in  142s   129.23 kB/s\r",
        " 18796544 of 30326502    61% in  142s   129.24 kB/s\r",
        " 18800640 of 30326502    61% in  142s   129.27 kB/s"
       ]
      },
      {
       "output_type": "stream",
       "stream": "stdout",
       "text": [
        "\r",
        " 18804736 of 30326502    62% in  142s   129.26 kB/s\r",
        " 18808832 of 30326502    62% in  142s   129.28 kB/s"
       ]
      },
      {
       "output_type": "stream",
       "stream": "stdout",
       "text": [
        "\r",
        " 18812928 of 30326502    62% in  142s   129.30 kB/s\r",
        " 18817024 of 30326502    62% in  142s   129.32 kB/s\r",
        " 18821120 of 30326502    62% in  142s   129.34 kB/s"
       ]
      },
      {
       "output_type": "stream",
       "stream": "stdout",
       "text": [
        "\r",
        " 18825216 of 30326502    62% in  142s   129.28 kB/s"
       ]
      },
      {
       "output_type": "stream",
       "stream": "stdout",
       "text": [
        "\r",
        " 18829312 of 30326502    62% in  142s   129.24 kB/s"
       ]
      },
      {
       "output_type": "stream",
       "stream": "stdout",
       "text": [
        "\r",
        " 18833408 of 30326502    62% in  142s   129.26 kB/s\r",
        " 18837504 of 30326502    62% in  142s   129.28 kB/s\r",
        " 18841600 of 30326502    62% in  142s   129.30 kB/s\r",
        " 18845696 of 30326502    62% in  142s   129.32 kB/s"
       ]
      },
      {
       "output_type": "stream",
       "stream": "stdout",
       "text": [
        "\r",
        " 18849792 of 30326502    62% in  142s   129.31 kB/s\r",
        " 18853888 of 30326502    62% in  142s   129.33 kB/s\r",
        " 18857984 of 30326502    62% in  142s   129.35 kB/s\r",
        " 18862080 of 30326502    62% in  142s   129.37 kB/s\r",
        " 18866176 of 30326502    62% in  142s   129.39 kB/s"
       ]
      },
      {
       "output_type": "stream",
       "stream": "stdout",
       "text": [
        "\r",
        " 18870272 of 30326502    62% in  142s   129.33 kB/s"
       ]
      },
      {
       "output_type": "stream",
       "stream": "stdout",
       "text": [
        "\r",
        " 18874368 of 30326502    62% in  142s   129.35 kB/s"
       ]
      },
      {
       "output_type": "stream",
       "stream": "stdout",
       "text": [
        "\r",
        " 18878464 of 30326502    62% in  142s   129.31 kB/s"
       ]
      },
      {
       "output_type": "stream",
       "stream": "stdout",
       "text": [
        "\r",
        " 18882560 of 30326502    62% in  142s   129.31 kB/s\r",
        " 18886656 of 30326502    62% in  142s   129.33 kB/s\r",
        " 18890752 of 30326502    62% in  142s   129.35 kB/s\r",
        " 18894848 of 30326502    62% in  142s   129.37 kB/s\r",
        " 18898944 of 30326502    62% in  142s   129.38 kB/s"
       ]
      },
      {
       "output_type": "stream",
       "stream": "stdout",
       "text": [
        "\r",
        " 18903040 of 30326502    62% in  142s   129.40 kB/s\r",
        " 18907136 of 30326502    62% in  142s   129.41 kB/s"
       ]
      },
      {
       "output_type": "stream",
       "stream": "stdout",
       "text": [
        "\r",
        " 18911232 of 30326502    62% in  142s   129.35 kB/s\r",
        " 18915328 of 30326502    62% in  142s   129.37 kB/s\r",
        " 18919424 of 30326502    62% in  142s   129.39 kB/s"
       ]
      },
      {
       "output_type": "stream",
       "stream": "stdout",
       "text": [
        "\r",
        " 18923520 of 30326502    62% in  142s   129.36 kB/s"
       ]
      },
      {
       "output_type": "stream",
       "stream": "stdout",
       "text": [
        "\r",
        " 18927616 of 30326502    62% in  142s   129.35 kB/s\r",
        " 18931712 of 30326502    62% in  142s   129.38 kB/s"
       ]
      },
      {
       "output_type": "stream",
       "stream": "stdout",
       "text": [
        "\r",
        " 18935808 of 30326502    62% in  142s   129.40 kB/s\r",
        " 18939904 of 30326502    62% in  142s   129.42 kB/s\r",
        " 18944000 of 30326502    62% in  142s   129.42 kB/s"
       ]
      },
      {
       "output_type": "stream",
       "stream": "stdout",
       "text": [
        "\r",
        " 18948096 of 30326502    62% in  143s   129.34 kB/s"
       ]
      },
      {
       "output_type": "stream",
       "stream": "stdout",
       "text": [
        "\r",
        " 18952192 of 30326502    62% in  143s   129.36 kB/s\r",
        " 18956288 of 30326502    62% in  143s   129.38 kB/s\r",
        " 18960384 of 30326502    62% in  143s   129.40 kB/s\r",
        " 18964480 of 30326502    62% in  143s   129.42 kB/s"
       ]
      },
      {
       "output_type": "stream",
       "stream": "stdout",
       "text": [
        "\r",
        " 18968576 of 30326502    62% in  143s   129.42 kB/s"
       ]
      },
      {
       "output_type": "stream",
       "stream": "stdout",
       "text": [
        "\r",
        " 18972672 of 30326502    62% in  143s   129.40 kB/s\r",
        " 18976768 of 30326502    62% in  143s   129.42 kB/s\r",
        " 18980864 of 30326502    62% in  143s   129.44 kB/s"
       ]
      },
      {
       "output_type": "stream",
       "stream": "stdout",
       "text": [
        "\r",
        " 18984960 of 30326502    62% in  143s   129.34 kB/s"
       ]
      },
      {
       "output_type": "stream",
       "stream": "stdout",
       "text": [
        "\r",
        " 18989056 of 30326502    62% in  143s   129.36 kB/s\r",
        " 18993152 of 30326502    62% in  143s   129.38 kB/s\r",
        " 18997248 of 30326502    62% in  143s   129.40 kB/s\r",
        " 19001344 of 30326502    62% in  143s   129.42 kB/s\r",
        " 19005440 of 30326502    62% in  143s   129.44 kB/s"
       ]
      },
      {
       "output_type": "stream",
       "stream": "stdout",
       "text": [
        "\r",
        " 19009536 of 30326502    62% in  143s   129.40 kB/s\r",
        " 19013632 of 30326502    62% in  143s   129.42 kB/s\r",
        " 19017728 of 30326502    62% in  143s   129.44 kB/s\r",
        " 19021824 of 30326502    62% in  143s   129.46 kB/s\r",
        " 19025920 of 30326502    62% in  143s   129.48 kB/s"
       ]
      },
      {
       "output_type": "stream",
       "stream": "stdout",
       "text": [
        "\r",
        " 19030016 of 30326502    62% in  143s   129.41 kB/s\r",
        " 19034112 of 30326502    62% in  143s   129.41 kB/s\r",
        " 19038208 of 30326502    62% in  143s   129.43 kB/s\r",
        " 19042304 of 30326502    62% in  143s   129.45 kB/s"
       ]
      },
      {
       "output_type": "stream",
       "stream": "stdout",
       "text": [
        "\r",
        " 19046400 of 30326502    62% in  143s   129.40 kB/s\r",
        " 19050496 of 30326502    62% in  143s   129.42 kB/s"
       ]
      },
      {
       "output_type": "stream",
       "stream": "stdout",
       "text": [
        "\r",
        " 19054592 of 30326502    62% in  143s   129.44 kB/s\r",
        " 19058688 of 30326502    62% in  143s   129.45 kB/s\r",
        " 19062784 of 30326502    62% in  143s   129.48 kB/s"
       ]
      },
      {
       "output_type": "stream",
       "stream": "stdout",
       "text": [
        "\r",
        " 19066880 of 30326502    62% in  143s   129.41 kB/s\r",
        " 19070976 of 30326502    62% in  143s   129.43 kB/s\r",
        " 19075072 of 30326502    62% in  143s   129.44 kB/s"
       ]
      },
      {
       "output_type": "stream",
       "stream": "stdout",
       "text": [
        "\r",
        " 19079168 of 30326502    62% in  143s   129.47 kB/s\r",
        " 19083264 of 30326502    62% in  143s   129.49 kB/s\r",
        " 19087360 of 30326502    62% in  143s   129.50 kB/s"
       ]
      },
      {
       "output_type": "stream",
       "stream": "stdout",
       "text": [
        "\r",
        " 19091456 of 30326502    62% in  144s   129.45 kB/s\r",
        " 19095552 of 30326502    62% in  144s   129.47 kB/s\r",
        " 19099648 of 30326502    62% in  144s   129.49 kB/s"
       ]
      },
      {
       "output_type": "stream",
       "stream": "stdout",
       "text": [
        "\r",
        " 19103744 of 30326502    62% in  144s   129.40 kB/s\r",
        " 19107840 of 30326502    63% in  144s   129.42 kB/s\r",
        " 19111936 of 30326502    63% in  144s   129.44 kB/s\r",
        " 19116032 of 30326502    63% in  144s   129.46 kB/s\r",
        " 19120128 of 30326502    63% in  144s   129.48 kB/s\r",
        " 19124224 of 30326502    63% in  144s   129.51 kB/s"
       ]
      },
      {
       "output_type": "stream",
       "stream": "stdout",
       "text": [
        "\r",
        " 19128320 of 30326502    63% in  144s   129.53 kB/s\r",
        " 19132416 of 30326502    63% in  144s   129.54 kB/s\r",
        " 19136512 of 30326502    63% in  144s   129.56 kB/s"
       ]
      },
      {
       "output_type": "stream",
       "stream": "stdout",
       "text": [
        "\r",
        " 19140608 of 30326502    63% in  144s   129.53 kB/s"
       ]
      },
      {
       "output_type": "stream",
       "stream": "stdout",
       "text": [
        "\r",
        " 19144704 of 30326502    63% in  144s   129.55 kB/s\r",
        " 19148800 of 30326502    63% in  144s   129.57 kB/s"
       ]
      },
      {
       "output_type": "stream",
       "stream": "stdout",
       "text": [
        "\r",
        " 19152896 of 30326502    63% in  144s   129.48 kB/s\r",
        " 19156992 of 30326502    63% in  144s   129.50 kB/s"
       ]
      },
      {
       "output_type": "stream",
       "stream": "stdout",
       "text": [
        "\r",
        " 19161088 of 30326502    63% in  144s   129.51 kB/s\r",
        " 19165184 of 30326502    63% in  144s   129.52 kB/s\r",
        " 19169280 of 30326502    63% in  144s   129.54 kB/s\r",
        " 19173376 of 30326502    63% in  144s   129.56 kB/s"
       ]
      },
      {
       "output_type": "stream",
       "stream": "stdout",
       "text": [
        "\r",
        " 19177472 of 30326502    63% in  144s   129.59 kB/s\r",
        " 19181568 of 30326502    63% in  144s   129.61 kB/s\r",
        " 19185664 of 30326502    63% in  144s   129.63 kB/s"
       ]
      },
      {
       "output_type": "stream",
       "stream": "stdout",
       "text": [
        "\r",
        " 19189760 of 30326502    63% in  144s   129.60 kB/s\r",
        " 19193856 of 30326502    63% in  144s   129.62 kB/s\r",
        " 19197952 of 30326502    63% in  144s   129.64 kB/s"
       ]
      },
      {
       "output_type": "stream",
       "stream": "stdout",
       "text": [
        "\r",
        " 19202048 of 30326502    63% in  144s   129.56 kB/s\r",
        " 19206144 of 30326502    63% in  144s   129.57 kB/s\r",
        " 19210240 of 30326502    63% in  144s   129.59 kB/s"
       ]
      },
      {
       "output_type": "stream",
       "stream": "stdout",
       "text": [
        "\r",
        " 19214336 of 30326502    63% in  144s   129.57 kB/s\r",
        " 19218432 of 30326502    63% in  144s   129.60 kB/s\r",
        " 19222528 of 30326502    63% in  144s   129.62 kB/s\r",
        " 19226624 of 30326502    63% in  144s   129.64 kB/s"
       ]
      },
      {
       "output_type": "stream",
       "stream": "stdout",
       "text": [
        "\r",
        " 19230720 of 30326502    63% in  144s   129.66 kB/s\r",
        " 19234816 of 30326502    63% in  144s   129.69 kB/s"
       ]
      },
      {
       "output_type": "stream",
       "stream": "stdout",
       "text": [
        "\r",
        " 19238912 of 30326502    63% in  144s   129.68 kB/s\r",
        " 19243008 of 30326502    63% in  144s   129.68 kB/s\r",
        " 19247104 of 30326502    63% in  144s   129.70 kB/s"
       ]
      },
      {
       "output_type": "stream",
       "stream": "stdout",
       "text": [
        "\r",
        " 19251200 of 30326502    63% in  145s   129.63 kB/s"
       ]
      },
      {
       "output_type": "stream",
       "stream": "stdout",
       "text": [
        "\r",
        " 19255296 of 30326502    63% in  145s   129.65 kB/s\r",
        " 19259392 of 30326502    63% in  145s   129.67 kB/s"
       ]
      },
      {
       "output_type": "stream",
       "stream": "stdout",
       "text": [
        "\r",
        " 19263488 of 30326502    63% in  145s   129.65 kB/s\r",
        " 19267584 of 30326502    63% in  145s   129.66 kB/s\r",
        " 19271680 of 30326502    63% in  145s   129.68 kB/s\r",
        " 19275776 of 30326502    63% in  145s   129.70 kB/s"
       ]
      },
      {
       "output_type": "stream",
       "stream": "stdout",
       "text": [
        "\r",
        " 19279872 of 30326502    63% in  145s   129.72 kB/s\r",
        " 19283968 of 30326502    63% in  145s   129.75 kB/s"
       ]
      },
      {
       "output_type": "stream",
       "stream": "stdout",
       "text": [
        "\r",
        " 19288064 of 30326502    63% in  145s   129.73 kB/s"
       ]
      },
      {
       "output_type": "stream",
       "stream": "stdout",
       "text": [
        "\r",
        " 19292160 of 30326502    63% in  145s   129.65 kB/s\r",
        " 19296256 of 30326502    63% in  145s   129.67 kB/s\r",
        " 19300352 of 30326502    63% in  145s   129.69 kB/s\r",
        " 19304448 of 30326502    63% in  145s   129.71 kB/s"
       ]
      },
      {
       "output_type": "stream",
       "stream": "stdout",
       "text": [
        "\r",
        " 19308544 of 30326502    63% in  145s   129.74 kB/s"
       ]
      },
      {
       "output_type": "stream",
       "stream": "stdout",
       "text": [
        "\r",
        " 19312640 of 30326502    63% in  145s   129.70 kB/s\r",
        " 19316736 of 30326502    63% in  145s   129.72 kB/s\r",
        " 19320832 of 30326502    63% in  145s   129.74 kB/s\r",
        " 19324928 of 30326502    63% in  145s   129.76 kB/s\r",
        " 19329024 of 30326502    63% in  145s   129.78 kB/s"
       ]
      },
      {
       "output_type": "stream",
       "stream": "stdout",
       "text": [
        "\r",
        " 19333120 of 30326502    63% in  145s   129.67 kB/s"
       ]
      },
      {
       "output_type": "stream",
       "stream": "stdout",
       "text": [
        "\r",
        " 19337216 of 30326502    63% in  145s   129.70 kB/s\r",
        " 19341312 of 30326502    63% in  145s   129.71 kB/s\r",
        " 19345408 of 30326502    63% in  145s   129.74 kB/s\r",
        " 19349504 of 30326502    63% in  145s   129.76 kB/s"
       ]
      },
      {
       "output_type": "stream",
       "stream": "stdout",
       "text": [
        "\r",
        " 19353600 of 30326502    63% in  145s   129.72 kB/s"
       ]
      },
      {
       "output_type": "stream",
       "stream": "stdout",
       "text": [
        "\r",
        " 19357696 of 30326502    63% in  145s   129.74 kB/s\r",
        " 19361792 of 30326502    63% in  145s   129.77 kB/s\r",
        " 19365888 of 30326502    63% in  145s   129.79 kB/s\r",
        " 19369984 of 30326502    63% in  145s   129.81 kB/s\r",
        " 19374080 of 30326502    63% in  145s   129.83 kB/s\r",
        " 19378176 of 30326502    63% in  145s   129.85 kB/s"
       ]
      },
      {
       "output_type": "stream",
       "stream": "stdout",
       "text": [
        "\r",
        " 19382272 of 30326502    63% in  145s   129.86 kB/s"
       ]
      },
      {
       "output_type": "stream",
       "stream": "stdout",
       "text": [
        "\r",
        " 19386368 of 30326502    63% in  145s   129.78 kB/s\r",
        " 19390464 of 30326502    63% in  145s   129.80 kB/s"
       ]
      },
      {
       "output_type": "stream",
       "stream": "stdout",
       "text": [
        "\r",
        " 19394560 of 30326502    63% in  145s   129.81 kB/s"
       ]
      },
      {
       "output_type": "stream",
       "stream": "stdout",
       "text": [
        "\r",
        " 19398656 of 30326502    63% in  146s   129.73 kB/s\r",
        " 19402752 of 30326502    63% in  146s   129.76 kB/s\r",
        " 19406848 of 30326502    63% in  146s   129.78 kB/s\r",
        " 19410944 of 30326502    64% in  146s   129.81 kB/s\r",
        " 19415040 of 30326502    64% in  146s   129.84 kB/s\r",
        " 19419136 of 30326502    64% in  146s   129.86 kB/s\r",
        " 19423232 of 30326502    64% in  146s   129.89 kB/s\r",
        " 19427328 of 30326502    64% in  146s   129.91 kB/s\r",
        " 19431424 of 30326502    64% in  146s   129.93 kB/s\r",
        " 19435520 of 30326502    64% in  146s   129.95 kB/s"
       ]
      },
      {
       "output_type": "stream",
       "stream": "stdout",
       "text": [
        "\r",
        " 19439616 of 30326502    64% in  146s   129.87 kB/s\r",
        " 19443712 of 30326502    64% in  146s   129.89 kB/s"
       ]
      },
      {
       "output_type": "stream",
       "stream": "stdout",
       "text": [
        "\r",
        " 19447808 of 30326502    64% in  146s   129.77 kB/s\r",
        " 19451904 of 30326502    64% in  146s   129.80 kB/s\r",
        " 19456000 of 30326502    64% in  146s   129.82 kB/s\r",
        " 19460096 of 30326502    64% in  146s   129.85 kB/s\r",
        " 19464192 of 30326502    64% in  146s   129.87 kB/s"
       ]
      },
      {
       "output_type": "stream",
       "stream": "stdout",
       "text": [
        "\r",
        " 19468288 of 30326502    64% in  146s   129.90 kB/s\r",
        " 19472384 of 30326502    64% in  146s   129.92 kB/s\r",
        " 19476480 of 30326502    64% in  146s   129.94 kB/s\r",
        " 19480576 of 30326502    64% in  146s   129.95 kB/s"
       ]
      },
      {
       "output_type": "stream",
       "stream": "stdout",
       "text": [
        "\r",
        " 19484672 of 30326502    64% in  146s   129.89 kB/s\r",
        " 19488768 of 30326502    64% in  146s   129.91 kB/s\r",
        " 19492864 of 30326502    64% in  146s   129.94 kB/s\r",
        " 19496960 of 30326502    64% in  146s   129.96 kB/s\r",
        " 19501056 of 30326502    64% in  146s   129.99 kB/s\r",
        " 19505152 of 30326502    64% in  146s   130.01 kB/s"
       ]
      },
      {
       "output_type": "stream",
       "stream": "stdout",
       "text": [
        "\r",
        " 19509248 of 30326502    64% in  146s   129.92 kB/s\r",
        " 19513344 of 30326502    64% in  146s   129.95 kB/s\r",
        " 19517440 of 30326502    64% in  146s   129.96 kB/s\r",
        " 19521536 of 30326502    64% in  146s   129.99 kB/s\r",
        " 19525632 of 30326502    64% in  146s   130.01 kB/s"
       ]
      },
      {
       "output_type": "stream",
       "stream": "stdout",
       "text": [
        "\r",
        " 19529728 of 30326502    64% in  146s   130.03 kB/s\r",
        " 19533824 of 30326502    64% in  146s   130.05 kB/s\r",
        " 19537920 of 30326502    64% in  146s   130.07 kB/s"
       ]
      },
      {
       "output_type": "stream",
       "stream": "stdout",
       "text": [
        "\r",
        " 19542016 of 30326502    64% in  146s   130.01 kB/s\r",
        " 19546112 of 30326502    64% in  146s   130.04 kB/s\r",
        " 19550208 of 30326502    64% in  146s   130.05 kB/s\r",
        " 19554304 of 30326502    64% in  146s   130.07 kB/s\r",
        " 19558400 of 30326502    64% in  146s   130.09 kB/s"
       ]
      },
      {
       "output_type": "stream",
       "stream": "stdout",
       "text": [
        "\r",
        " 19562496 of 30326502    64% in  146s   130.11 kB/s\r",
        " 19566592 of 30326502    64% in  146s   130.13 kB/s\r",
        " 19570688 of 30326502    64% in  146s   130.15 kB/s"
       ]
      },
      {
       "output_type": "stream",
       "stream": "stdout",
       "text": [
        "\r",
        " 19574784 of 30326502    64% in  146s   130.11 kB/s"
       ]
      },
      {
       "output_type": "stream",
       "stream": "stdout",
       "text": [
        "\r",
        " 19578880 of 30326502    64% in  146s   130.13 kB/s\r",
        " 19582976 of 30326502    64% in  146s   130.15 kB/s\r",
        " 19587072 of 30326502    64% in  146s   130.16 kB/s\r",
        " 19591168 of 30326502    64% in  146s   130.18 kB/s\r",
        " 19595264 of 30326502    64% in  146s   130.20 kB/s"
       ]
      },
      {
       "output_type": "stream",
       "stream": "stdout",
       "text": [
        "\r",
        " 19599360 of 30326502    64% in  146s   130.22 kB/s"
       ]
      },
      {
       "output_type": "stream",
       "stream": "stdout",
       "text": [
        "\r",
        " 19603456 of 30326502    64% in  147s   130.17 kB/s\r",
        " 19607552 of 30326502    64% in  147s   130.19 kB/s"
       ]
      },
      {
       "output_type": "stream",
       "stream": "stdout",
       "text": [
        "\r",
        " 19611648 of 30326502    64% in  147s   130.21 kB/s\r",
        " 19615744 of 30326502    64% in  147s   130.23 kB/s\r",
        " 19619840 of 30326502    64% in  147s   130.25 kB/s\r",
        " 19623936 of 30326502    64% in  147s   130.27 kB/s\r",
        " 19628032 of 30326502    64% in  147s   130.29 kB/s\r",
        " 19632128 of 30326502    64% in  147s   130.31 kB/s"
       ]
      },
      {
       "output_type": "stream",
       "stream": "stdout",
       "text": [
        "\r",
        " 19636224 of 30326502    64% in  147s   130.33 kB/s\r",
        " 19640320 of 30326502    64% in  147s   130.35 kB/s\r",
        " 19644416 of 30326502    64% in  147s   130.37 kB/s"
       ]
      },
      {
       "output_type": "stream",
       "stream": "stdout",
       "text": [
        "\r",
        " 19648512 of 30326502    64% in  147s   130.35 kB/s\r",
        " 19652608 of 30326502    64% in  147s   130.37 kB/s\r",
        " 19656704 of 30326502    64% in  147s   130.39 kB/s"
       ]
      },
      {
       "output_type": "stream",
       "stream": "stdout",
       "text": [
        "\r",
        " 19660800 of 30326502    64% in  147s   130.39 kB/s\r",
        " 19664896 of 30326502    64% in  147s   130.41 kB/s\r",
        " 19668992 of 30326502    64% in  147s   130.43 kB/s"
       ]
      },
      {
       "output_type": "stream",
       "stream": "stdout",
       "text": [
        "\r",
        " 19673088 of 30326502    64% in  147s   130.39 kB/s\r",
        " 19677184 of 30326502    64% in  147s   130.41 kB/s\r",
        " 19681280 of 30326502    64% in  147s   130.43 kB/s\r",
        " 19685376 of 30326502    64% in  147s   130.45 kB/s\r",
        " 19689472 of 30326502    64% in  147s   130.47 kB/s"
       ]
      },
      {
       "output_type": "stream",
       "stream": "stdout",
       "text": [
        "\r",
        " 19693568 of 30326502    64% in  147s   130.48 kB/s\r",
        " 19697664 of 30326502    64% in  147s   130.51 kB/s\r",
        " 19701760 of 30326502    64% in  147s   130.52 kB/s\r",
        " 19705856 of 30326502    64% in  147s   130.55 kB/s\r",
        " 19709952 of 30326502    64% in  147s   130.56 kB/s\r",
        " 19714048 of 30326502    65% in  147s   130.58 kB/s"
       ]
      },
      {
       "output_type": "stream",
       "stream": "stdout",
       "text": [
        "\r",
        " 19718144 of 30326502    65% in  147s   130.60 kB/s\r",
        " 19722240 of 30326502    65% in  147s   130.62 kB/s\r",
        " 19726336 of 30326502    65% in  147s   130.62 kB/s"
       ]
      },
      {
       "output_type": "stream",
       "stream": "stdout",
       "text": [
        "\r",
        " 19730432 of 30326502    65% in  147s   130.64 kB/s\r",
        " 19734528 of 30326502    65% in  147s   130.66 kB/s\r",
        " 19738624 of 30326502    65% in  147s   130.68 kB/s\r",
        " 19742720 of 30326502    65% in  147s   130.70 kB/s"
       ]
      },
      {
       "output_type": "stream",
       "stream": "stdout",
       "text": [
        "\r",
        " 19746816 of 30326502    65% in  147s   130.69 kB/s\r",
        " 19750912 of 30326502    65% in  147s   130.71 kB/s\r",
        " 19755008 of 30326502    65% in  147s   130.73 kB/s"
       ]
      },
      {
       "output_type": "stream",
       "stream": "stdout",
       "text": [
        "\r",
        " 19759104 of 30326502    65% in  147s   130.70 kB/s"
       ]
      },
      {
       "output_type": "stream",
       "stream": "stdout",
       "text": [
        "\r",
        " 19763200 of 30326502    65% in  147s   130.72 kB/s\r",
        " 19767296 of 30326502    65% in  147s   130.73 kB/s\r",
        " 19771392 of 30326502    65% in  147s   130.75 kB/s\r",
        " 19775488 of 30326502    65% in  147s   130.77 kB/s\r",
        " 19779584 of 30326502    65% in  147s   130.79 kB/s\r",
        " 19783680 of 30326502    65% in  147s   130.81 kB/s"
       ]
      },
      {
       "output_type": "stream",
       "stream": "stdout",
       "text": [
        "\r",
        " 19787776 of 30326502    65% in  147s   130.83 kB/s\r",
        " 19791872 of 30326502    65% in  147s   130.85 kB/s\r",
        " 19795968 of 30326502    65% in  147s   130.87 kB/s\r",
        " 19800064 of 30326502    65% in  147s   130.89 kB/s\r",
        " 19804160 of 30326502    65% in  147s   130.91 kB/s\r",
        " 19808256 of 30326502    65% in  147s   130.93 kB/s"
       ]
      },
      {
       "output_type": "stream",
       "stream": "stdout",
       "text": [
        "\r",
        " 19812352 of 30326502    65% in  147s   130.95 kB/s\r",
        " 19816448 of 30326502    65% in  147s   130.97 kB/s\r",
        " 19820544 of 30326502    65% in  147s   130.99 kB/s\r",
        " 19824640 of 30326502    65% in  147s   131.01 kB/s\r",
        " 19828736 of 30326502    65% in  147s   131.03 kB/s\r",
        " 19832832 of 30326502    65% in  147s   131.05 kB/s"
       ]
      },
      {
       "output_type": "stream",
       "stream": "stdout",
       "text": [
        "\r",
        " 19836928 of 30326502    65% in  147s   131.07 kB/s\r",
        " 19841024 of 30326502    65% in  147s   131.06 kB/s"
       ]
      },
      {
       "output_type": "stream",
       "stream": "stdout",
       "text": [
        "\r",
        " 19845120 of 30326502    65% in  147s   131.08 kB/s"
       ]
      },
      {
       "output_type": "stream",
       "stream": "stdout",
       "text": [
        "\r",
        " 19849216 of 30326502    65% in  147s   131.04 kB/s\r",
        " 19853312 of 30326502    65% in  147s   131.06 kB/s\r",
        " 19857408 of 30326502    65% in  147s   131.08 kB/s\r",
        " 19861504 of 30326502    65% in  147s   131.10 kB/s"
       ]
      },
      {
       "output_type": "stream",
       "stream": "stdout",
       "text": [
        "\r",
        " 19865600 of 30326502    65% in  147s   131.12 kB/s\r",
        " 19869696 of 30326502    65% in  147s   131.14 kB/s\r",
        " 19873792 of 30326502    65% in  147s   131.16 kB/s\r",
        " 19877888 of 30326502    65% in  147s   131.18 kB/s\r",
        " 19881984 of 30326502    65% in  147s   131.20 kB/s\r",
        " 19886080 of 30326502    65% in  147s   131.22 kB/s"
       ]
      },
      {
       "output_type": "stream",
       "stream": "stdout",
       "text": [
        "\r",
        " 19890176 of 30326502    65% in  148s   131.24 kB/s\r",
        " 19894272 of 30326502    65% in  148s   131.26 kB/s\r",
        " 19898368 of 30326502    65% in  148s   131.28 kB/s\r",
        " 19902464 of 30326502    65% in  148s   131.30 kB/s\r",
        " 19906560 of 30326502    65% in  148s   131.31 kB/s\r",
        " 19910656 of 30326502    65% in  148s   131.33 kB/s"
       ]
      },
      {
       "output_type": "stream",
       "stream": "stdout",
       "text": [
        "\r",
        " 19914752 of 30326502    65% in  148s   131.36 kB/s\r",
        " 19918848 of 30326502    65% in  148s   131.37 kB/s\r",
        " 19922944 of 30326502    65% in  148s   131.39 kB/s\r",
        " 19927040 of 30326502    65% in  148s   131.41 kB/s\r",
        " 19931136 of 30326502    65% in  148s   131.43 kB/s\r",
        " 19935232 of 30326502    65% in  148s   131.45 kB/s"
       ]
      },
      {
       "output_type": "stream",
       "stream": "stdout",
       "text": [
        "\r",
        " 19939328 of 30326502    65% in  148s   131.47 kB/s\r",
        " 19943424 of 30326502    65% in  148s   131.49 kB/s\r",
        " 19947520 of 30326502    65% in  148s   131.50 kB/s\r",
        " 19951616 of 30326502    65% in  148s   131.52 kB/s"
       ]
      },
      {
       "output_type": "stream",
       "stream": "stdout",
       "text": [
        "\r",
        " 19955712 of 30326502    65% in  148s   131.54 kB/s"
       ]
      },
      {
       "output_type": "stream",
       "stream": "stdout",
       "text": [
        "\r",
        " 19959808 of 30326502    65% in  148s   131.51 kB/s\r",
        " 19963904 of 30326502    65% in  148s   131.53 kB/s\r",
        " 19968000 of 30326502    65% in  148s   131.55 kB/s\r",
        " 19972096 of 30326502    65% in  148s   131.57 kB/s\r",
        " 19976192 of 30326502    65% in  148s   131.59 kB/s"
       ]
      },
      {
       "output_type": "stream",
       "stream": "stdout",
       "text": [
        "\r",
        " 19980288 of 30326502    65% in  148s   131.61 kB/s\r",
        " 19984384 of 30326502    65% in  148s   131.63 kB/s\r",
        " 19988480 of 30326502    65% in  148s   131.64 kB/s\r",
        " 19992576 of 30326502    65% in  148s   131.67 kB/s\r",
        " 19996672 of 30326502    65% in  148s   131.69 kB/s\r",
        " 20000768 of 30326502    65% in  148s   131.70 kB/s"
       ]
      },
      {
       "output_type": "stream",
       "stream": "stdout",
       "text": [
        "\r",
        " 20004864 of 30326502    65% in  148s   131.72 kB/s\r",
        " 20008960 of 30326502    65% in  148s   131.74 kB/s\r",
        " 20013056 of 30326502    65% in  148s   131.76 kB/s\r",
        " 20017152 of 30326502    66% in  148s   131.78 kB/s\r",
        " 20021248 of 30326502    66% in  148s   131.80 kB/s\r",
        " 20025344 of 30326502    66% in  148s   131.82 kB/s"
       ]
      },
      {
       "output_type": "stream",
       "stream": "stdout",
       "text": [
        "\r",
        " 20029440 of 30326502    66% in  148s   131.84 kB/s\r",
        " 20033536 of 30326502    66% in  148s   131.86 kB/s\r",
        " 20037632 of 30326502    66% in  148s   131.88 kB/s\r",
        " 20041728 of 30326502    66% in  148s   131.90 kB/s\r",
        " 20045824 of 30326502    66% in  148s   131.92 kB/s\r",
        " 20049920 of 30326502    66% in  148s   131.94 kB/s"
       ]
      },
      {
       "output_type": "stream",
       "stream": "stdout",
       "text": [
        "\r",
        " 20054016 of 30326502    66% in  148s   131.96 kB/s\r",
        " 20058112 of 30326502    66% in  148s   131.98 kB/s\r",
        " 20062208 of 30326502    66% in  148s   132.00 kB/s\r",
        " 20066304 of 30326502    66% in  148s   132.01 kB/s\r",
        " 20070400 of 30326502    66% in  148s   132.03 kB/s\r",
        " 20074496 of 30326502    66% in  148s   132.05 kB/s"
       ]
      },
      {
       "output_type": "stream",
       "stream": "stdout",
       "text": [
        "\r",
        " 20078592 of 30326502    66% in  148s   132.07 kB/s\r",
        " 20082688 of 30326502    66% in  148s   132.07 kB/s\r",
        " 20086784 of 30326502    66% in  148s   132.09 kB/s"
       ]
      },
      {
       "output_type": "stream",
       "stream": "stdout",
       "text": [
        "\r",
        " 20090880 of 30326502    66% in  148s   132.11 kB/s\r",
        " 20094976 of 30326502    66% in  148s   132.13 kB/s\r",
        " 20099072 of 30326502    66% in  148s   132.15 kB/s\r",
        " 20103168 of 30326502    66% in  148s   132.16 kB/s\r",
        " 20107264 of 30326502    66% in  148s   132.18 kB/s"
       ]
      },
      {
       "output_type": "stream",
       "stream": "stdout",
       "text": [
        "\r",
        " 20111360 of 30326502    66% in  148s   132.20 kB/s\r",
        " 20115456 of 30326502    66% in  148s   132.22 kB/s\r",
        " 20119552 of 30326502    66% in  148s   132.23 kB/s\r",
        " 20123648 of 30326502    66% in  148s   132.25 kB/s\r",
        " 20127744 of 30326502    66% in  148s   132.28 kB/s\r",
        " 20131840 of 30326502    66% in  148s   132.29 kB/s"
       ]
      },
      {
       "output_type": "stream",
       "stream": "stdout",
       "text": [
        "\r",
        " 20135936 of 30326502    66% in  148s   132.31 kB/s\r",
        " 20140032 of 30326502    66% in  148s   132.33 kB/s\r",
        " 20144128 of 30326502    66% in  148s   132.35 kB/s\r",
        " 20148224 of 30326502    66% in  148s   132.37 kB/s\r",
        " 20152320 of 30326502    66% in  148s   132.39 kB/s\r",
        " 20156416 of 30326502    66% in  148s   132.41 kB/s"
       ]
      },
      {
       "output_type": "stream",
       "stream": "stdout",
       "text": [
        "\r",
        " 20160512 of 30326502    66% in  148s   132.43 kB/s\r",
        " 20164608 of 30326502    66% in  148s   132.45 kB/s\r",
        " 20168704 of 30326502    66% in  148s   132.47 kB/s\r",
        " 20172800 of 30326502    66% in  148s   132.49 kB/s\r",
        " 20176896 of 30326502    66% in  148s   132.51 kB/s\r",
        " 20180992 of 30326502    66% in  148s   132.53 kB/s"
       ]
      },
      {
       "output_type": "stream",
       "stream": "stdout",
       "text": [
        "\r",
        " 20185088 of 30326502    66% in  148s   132.54 kB/s\r",
        " 20189184 of 30326502    66% in  148s   132.56 kB/s\r",
        " 20193280 of 30326502    66% in  148s   132.58 kB/s\r",
        " 20197376 of 30326502    66% in  148s   132.60 kB/s\r",
        " 20201472 of 30326502    66% in  148s   132.62 kB/s\r",
        " 20205568 of 30326502    66% in  148s   132.64 kB/s"
       ]
      },
      {
       "output_type": "stream",
       "stream": "stdout",
       "text": [
        "\r",
        " 20209664 of 30326502    66% in  148s   132.66 kB/s\r",
        " 20213760 of 30326502    66% in  148s   132.68 kB/s\r",
        " 20217856 of 30326502    66% in  148s   132.70 kB/s\r",
        " 20221952 of 30326502    66% in  148s   132.72 kB/s\r",
        " 20226048 of 30326502    66% in  148s   132.74 kB/s\r",
        " 20230144 of 30326502    66% in  148s   132.76 kB/s"
       ]
      },
      {
       "output_type": "stream",
       "stream": "stdout",
       "text": [
        "\r",
        " 20234240 of 30326502    66% in  148s   132.78 kB/s\r",
        " 20238336 of 30326502    66% in  148s   132.79 kB/s\r",
        " 20242432 of 30326502    66% in  148s   132.81 kB/s\r",
        " 20246528 of 30326502    66% in  148s   132.83 kB/s\r",
        " 20250624 of 30326502    66% in  148s   132.85 kB/s"
       ]
      },
      {
       "output_type": "stream",
       "stream": "stdout",
       "text": [
        "\r",
        " 20254720 of 30326502    66% in  148s   132.87 kB/s\r",
        " 20258816 of 30326502    66% in  148s   132.89 kB/s\r",
        " 20262912 of 30326502    66% in  148s   132.91 kB/s\r",
        " 20267008 of 30326502    66% in  148s   132.93 kB/s\r",
        " 20271104 of 30326502    66% in  148s   132.95 kB/s\r",
        " 20275200 of 30326502    66% in  148s   132.97 kB/s\r",
        " 20279296 of 30326502    66% in  148s   132.98 kB/s"
       ]
      },
      {
       "output_type": "stream",
       "stream": "stdout",
       "text": [
        "\r",
        " 20283392 of 30326502    66% in  148s   133.01 kB/s"
       ]
      },
      {
       "output_type": "stream",
       "stream": "stdout",
       "text": [
        "\r",
        " 20287488 of 30326502    66% in  149s   132.72 kB/s\r",
        " 20291584 of 30326502    66% in  149s   132.75 kB/s\r",
        " 20295680 of 30326502    66% in  149s   132.78 kB/s\r",
        " 20299776 of 30326502    66% in  149s   132.80 kB/s\r",
        " 20303872 of 30326502    66% in  149s   132.83 kB/s\r",
        " 20307968 of 30326502    66% in  149s   132.86 kB/s\r",
        " 20312064 of 30326502    66% in  149s   132.88 kB/s\r",
        " 20316160 of 30326502    66% in  149s   132.91 kB/s\r",
        " 20320256 of 30326502    67% in  149s   132.94 kB/s\r",
        " 20324352 of 30326502    67% in  149s   132.96 kB/s\r",
        " 20328448 of 30326502    67% in  149s   132.99 kB/s\r",
        " 20332544 of 30326502    67% in  149s   133.02 kB/s\r",
        " 20336640 of 30326502    67% in  149s   133.04 kB/s\r",
        " 20340736 of 30326502    67% in  149s   133.07 kB/s\r",
        " 20344832 of 30326502    67% in  149s   133.10 kB/s\r",
        " 20348928 of 30326502    67% in  149s   133.12 kB/s\r",
        " 20353024 of 30326502    67% in  149s   133.15 kB/s\r",
        " 20357120 of 30326502    67% in  149s   133.18 kB/s\r",
        " 20361216 of 30326502    67% in  149s   133.20 kB/s\r",
        " 20365312 of 30326502    67% in  149s   133.23 kB/s\r",
        " 20369408 of 30326502    67% in  149s   133.26 kB/s\r",
        " 20373504 of 30326502    67% in  149s   133.28 kB/s\r",
        " 20377600 of 30326502    67% in  149s   133.31 kB/s\r",
        " 20381696 of 30326502    67% in  149s   133.34 kB/s\r",
        " 20385792 of 30326502    67% in  149s   133.36 kB/s\r",
        " 20389888 of 30326502    67% in  149s   133.39 kB/s\r",
        " 20393984 of 30326502    67% in  149s   133.42 kB/s\r",
        " 20398080 of 30326502    67% in  149s   133.44 kB/s\r",
        " 20402176 of 30326502    67% in  149s   133.47 kB/s\r",
        " 20406272 of 30326502    67% in  149s   133.50 kB/s\r",
        " 20410368 of 30326502    67% in  149s   133.52 kB/s\r",
        " 20414464 of 30326502    67% in  149s   133.55 kB/s\r",
        " 20418560 of 30326502    67% in  149s   133.58 kB/s\r",
        " 20422656 of 30326502    67% in  149s   133.60 kB/s\r",
        " 20426752 of 30326502    67% in  149s   133.63 kB/s\r",
        " 20430848 of 30326502    67% in  149s   133.66 kB/s\r",
        " 20434944 of 30326502    67% in  149s   133.68 kB/s\r",
        " 20439040 of 30326502    67% in  149s   133.71 kB/s\r",
        " 20443136 of 30326502    67% in  149s   133.74 kB/s\r",
        " 20447232 of 30326502    67% in  149s   133.76 kB/s\r",
        " 20451328 of 30326502    67% in  149s   133.79 kB/s"
       ]
      },
      {
       "output_type": "stream",
       "stream": "stdout",
       "text": [
        "\r",
        " 20455424 of 30326502    67% in  149s   133.81 kB/s\r",
        " 20459520 of 30326502    67% in  149s   133.83 kB/s\r",
        " 20463616 of 30326502    67% in  149s   133.85 kB/s\r",
        " 20467712 of 30326502    67% in  149s   133.87 kB/s\r",
        " 20471808 of 30326502    67% in  149s   133.89 kB/s\r",
        " 20475904 of 30326502    67% in  149s   133.91 kB/s"
       ]
      },
      {
       "output_type": "stream",
       "stream": "stdout",
       "text": [
        "\r",
        " 20480000 of 30326502    67% in  149s   133.92 kB/s\r",
        " 20484096 of 30326502    67% in  149s   133.93 kB/s\r",
        " 20488192 of 30326502    67% in  149s   133.95 kB/s\r",
        " 20492288 of 30326502    67% in  149s   133.97 kB/s"
       ]
      },
      {
       "output_type": "stream",
       "stream": "stdout",
       "text": [
        "\r",
        " 20496384 of 30326502    67% in  149s   133.99 kB/s\r",
        " 20500480 of 30326502    67% in  149s   134.01 kB/s\r",
        " 20504576 of 30326502    67% in  149s   134.02 kB/s\r",
        " 20508672 of 30326502    67% in  149s   134.04 kB/s\r",
        " 20512768 of 30326502    67% in  149s   134.06 kB/s"
       ]
      },
      {
       "output_type": "stream",
       "stream": "stdout",
       "text": [
        "\r",
        " 20516864 of 30326502    67% in  149s   134.08 kB/s\r",
        " 20520960 of 30326502    67% in  149s   134.10 kB/s\r",
        " 20525056 of 30326502    67% in  149s   134.12 kB/s\r",
        " 20529152 of 30326502    67% in  149s   134.14 kB/s\r",
        " 20533248 of 30326502    67% in  149s   134.16 kB/s\r",
        " 20537344 of 30326502    67% in  149s   134.18 kB/s\r",
        " 20541440 of 30326502    67% in  149s   134.20 kB/s"
       ]
      },
      {
       "output_type": "stream",
       "stream": "stdout",
       "text": [
        "\r",
        " 20545536 of 30326502    67% in  149s   134.22 kB/s"
       ]
      },
      {
       "output_type": "stream",
       "stream": "stdout",
       "text": [
        "\r",
        " 20549632 of 30326502    67% in  149s   134.18 kB/s\r",
        " 20553728 of 30326502    67% in  149s   134.20 kB/s\r",
        " 20557824 of 30326502    67% in  149s   134.22 kB/s"
       ]
      },
      {
       "output_type": "stream",
       "stream": "stdout",
       "text": [
        "\r",
        " 20561920 of 30326502    67% in  149s   134.23 kB/s\r",
        " 20566016 of 30326502    67% in  149s   134.25 kB/s\r",
        " 20570112 of 30326502    67% in  149s   134.27 kB/s\r",
        " 20574208 of 30326502    67% in  149s   134.29 kB/s\r",
        " 20578304 of 30326502    67% in  149s   134.31 kB/s\r",
        " 20582400 of 30326502    67% in  149s   134.33 kB/s"
       ]
      },
      {
       "output_type": "stream",
       "stream": "stdout",
       "text": [
        "\r",
        " 20586496 of 30326502    67% in  149s   134.35 kB/s\r",
        " 20590592 of 30326502    67% in  149s   134.37 kB/s\r",
        " 20594688 of 30326502    67% in  149s   134.39 kB/s\r",
        " 20598784 of 30326502    67% in  149s   134.41 kB/s\r",
        " 20602880 of 30326502    67% in  149s   134.43 kB/s\r",
        " 20606976 of 30326502    67% in  149s   134.45 kB/s"
       ]
      },
      {
       "output_type": "stream",
       "stream": "stdout",
       "text": [
        "\r",
        " 20611072 of 30326502    67% in  149s   134.46 kB/s\r",
        " 20615168 of 30326502    67% in  149s   134.48 kB/s\r",
        " 20619264 of 30326502    67% in  149s   134.50 kB/s\r",
        " 20623360 of 30326502    68% in  149s   134.52 kB/s\r",
        " 20627456 of 30326502    68% in  149s   134.54 kB/s\r",
        " 20631552 of 30326502    68% in  149s   134.56 kB/s"
       ]
      },
      {
       "output_type": "stream",
       "stream": "stdout",
       "text": [
        "\r",
        " 20635648 of 30326502    68% in  149s   134.58 kB/s\r",
        " 20639744 of 30326502    68% in  149s   134.60 kB/s\r",
        " 20643840 of 30326502    68% in  149s   134.62 kB/s\r",
        " 20647936 of 30326502    68% in  149s   134.64 kB/s\r",
        " 20652032 of 30326502    68% in  149s   134.66 kB/s\r",
        " 20656128 of 30326502    68% in  149s   134.68 kB/s"
       ]
      },
      {
       "output_type": "stream",
       "stream": "stdout",
       "text": [
        "\r",
        " 20660224 of 30326502    68% in  149s   134.69 kB/s\r",
        " 20664320 of 30326502    68% in  149s   134.71 kB/s\r",
        " 20668416 of 30326502    68% in  149s   134.73 kB/s\r",
        " 20672512 of 30326502    68% in  149s   134.75 kB/s\r",
        " 20676608 of 30326502    68% in  149s   134.77 kB/s\r",
        " 20680704 of 30326502    68% in  149s   134.79 kB/s"
       ]
      },
      {
       "output_type": "stream",
       "stream": "stdout",
       "text": [
        "\r",
        " 20684800 of 30326502    68% in  149s   134.81 kB/s\r",
        " 20688896 of 30326502    68% in  149s   134.82 kB/s\r",
        " 20692992 of 30326502    68% in  149s   134.84 kB/s\r",
        " 20697088 of 30326502    68% in  149s   134.86 kB/s\r",
        " 20701184 of 30326502    68% in  149s   134.88 kB/s\r",
        " 20705280 of 30326502    68% in  149s   134.90 kB/s"
       ]
      },
      {
       "output_type": "stream",
       "stream": "stdout",
       "text": [
        "\r",
        " 20709376 of 30326502    68% in  149s   134.92 kB/s\r",
        " 20713472 of 30326502    68% in  149s   134.94 kB/s\r",
        " 20717568 of 30326502    68% in  149s   134.96 kB/s\r",
        " 20721664 of 30326502    68% in  149s   134.98 kB/s\r",
        " 20725760 of 30326502    68% in  149s   135.00 kB/s\r",
        " 20729856 of 30326502    68% in  149s   135.02 kB/s"
       ]
      },
      {
       "output_type": "stream",
       "stream": "stdout",
       "text": [
        "\r",
        " 20733952 of 30326502    68% in  149s   135.03 kB/s\r",
        " 20738048 of 30326502    68% in  149s   135.06 kB/s\r",
        " 20742144 of 30326502    68% in  149s   135.07 kB/s\r",
        " 20746240 of 30326502    68% in  149s   135.09 kB/s\r",
        " 20750336 of 30326502    68% in  149s   135.11 kB/s\r",
        " 20754432 of 30326502    68% in  149s   135.13 kB/s"
       ]
      },
      {
       "output_type": "stream",
       "stream": "stdout",
       "text": [
        "\r",
        " 20758528 of 30326502    68% in  149s   135.15 kB/s\r",
        " 20762624 of 30326502    68% in  150s   135.17 kB/s\r",
        " 20766720 of 30326502    68% in  150s   135.19 kB/s\r",
        " 20770816 of 30326502    68% in  150s   135.21 kB/s\r",
        " 20774912 of 30326502    68% in  150s   135.22 kB/s\r",
        " 20779008 of 30326502    68% in  150s   135.24 kB/s"
       ]
      },
      {
       "output_type": "stream",
       "stream": "stdout",
       "text": [
        "\r",
        " 20783104 of 30326502    68% in  150s   135.26 kB/s\r",
        " 20787200 of 30326502    68% in  150s   135.28 kB/s\r",
        " 20791296 of 30326502    68% in  150s   135.30 kB/s\r",
        " 20795392 of 30326502    68% in  150s   135.32 kB/s\r",
        " 20799488 of 30326502    68% in  150s   135.34 kB/s\r",
        " 20803584 of 30326502    68% in  150s   135.35 kB/s"
       ]
      },
      {
       "output_type": "stream",
       "stream": "stdout",
       "text": [
        "\r",
        " 20807680 of 30326502    68% in  150s   135.37 kB/s\r",
        " 20811776 of 30326502    68% in  150s   135.39 kB/s\r",
        " 20815872 of 30326502    68% in  150s   135.41 kB/s\r",
        " 20819968 of 30326502    68% in  150s   135.43 kB/s\r",
        " 20824064 of 30326502    68% in  150s   135.45 kB/s\r",
        " 20828160 of 30326502    68% in  150s   135.47 kB/s"
       ]
      },
      {
       "output_type": "stream",
       "stream": "stdout",
       "text": [
        "\r",
        " 20832256 of 30326502    68% in  150s   135.49 kB/s\r",
        " 20836352 of 30326502    68% in  150s   135.51 kB/s\r",
        " 20840448 of 30326502    68% in  150s   135.53 kB/s\r",
        " 20844544 of 30326502    68% in  150s   135.54 kB/s\r",
        " 20848640 of 30326502    68% in  150s   135.56 kB/s\r",
        " 20852736 of 30326502    68% in  150s   135.58 kB/s"
       ]
      },
      {
       "output_type": "stream",
       "stream": "stdout",
       "text": [
        "\r",
        " 20856832 of 30326502    68% in  150s   135.60 kB/s\r",
        " 20860928 of 30326502    68% in  150s   135.62 kB/s\r",
        " 20865024 of 30326502    68% in  150s   135.64 kB/s\r",
        " 20869120 of 30326502    68% in  150s   135.66 kB/s\r",
        " 20873216 of 30326502    68% in  150s   135.68 kB/s\r",
        " 20877312 of 30326502    68% in  150s   135.70 kB/s"
       ]
      },
      {
       "output_type": "stream",
       "stream": "stdout",
       "text": [
        "\r",
        " 20881408 of 30326502    68% in  150s   135.71 kB/s\r",
        " 20885504 of 30326502    68% in  150s   135.73 kB/s\r",
        " 20889600 of 30326502    68% in  150s   135.75 kB/s\r",
        " 20893696 of 30326502    68% in  150s   135.77 kB/s\r",
        " 20897792 of 30326502    68% in  150s   135.79 kB/s\r",
        " 20901888 of 30326502    68% in  150s   135.81 kB/s"
       ]
      },
      {
       "output_type": "stream",
       "stream": "stdout",
       "text": [
        "\r",
        " 20905984 of 30326502    68% in  150s   135.83 kB/s\r",
        " 20910080 of 30326502    68% in  150s   135.85 kB/s\r",
        " 20914176 of 30326502    68% in  150s   135.87 kB/s\r",
        " 20918272 of 30326502    68% in  150s   135.89 kB/s\r",
        " 20922368 of 30326502    68% in  150s   135.91 kB/s\r",
        " 20926464 of 30326502    69% in  150s   135.92 kB/s"
       ]
      },
      {
       "output_type": "stream",
       "stream": "stdout",
       "text": [
        "\r",
        " 20930560 of 30326502    69% in  150s   135.94 kB/s\r",
        " 20934656 of 30326502    69% in  150s   135.96 kB/s\r",
        " 20938752 of 30326502    69% in  150s   135.98 kB/s\r",
        " 20942848 of 30326502    69% in  150s   136.00 kB/s\r",
        " 20946944 of 30326502    69% in  150s   136.02 kB/s\r",
        " 20951040 of 30326502    69% in  150s   136.04 kB/s"
       ]
      },
      {
       "output_type": "stream",
       "stream": "stdout",
       "text": [
        "\r",
        " 20955136 of 30326502    69% in  150s   136.06 kB/s\r",
        " 20959232 of 30326502    69% in  150s   136.08 kB/s\r",
        " 20963328 of 30326502    69% in  150s   136.10 kB/s\r",
        " 20967424 of 30326502    69% in  150s   136.12 kB/s\r",
        " 20971520 of 30326502    69% in  150s   136.13 kB/s\r",
        " 20975616 of 30326502    69% in  150s   136.15 kB/s"
       ]
      },
      {
       "output_type": "stream",
       "stream": "stdout",
       "text": [
        "\r",
        " 20979712 of 30326502    69% in  150s   136.17 kB/s\r",
        " 20983808 of 30326502    69% in  150s   136.19 kB/s\r",
        " 20987904 of 30326502    69% in  150s   136.21 kB/s\r",
        " 20992000 of 30326502    69% in  150s   136.23 kB/s\r",
        " 20996096 of 30326502    69% in  150s   136.25 kB/s\r",
        " 21000192 of 30326502    69% in  150s   136.27 kB/s"
       ]
      },
      {
       "output_type": "stream",
       "stream": "stdout",
       "text": [
        "\r",
        " 21004288 of 30326502    69% in  150s   136.28 kB/s\r",
        " 21008384 of 30326502    69% in  150s   136.30 kB/s\r",
        " 21012480 of 30326502    69% in  150s   136.32 kB/s\r",
        " 21016576 of 30326502    69% in  150s   136.34 kB/s\r",
        " 21020672 of 30326502    69% in  150s   136.36 kB/s\r",
        " 21024768 of 30326502    69% in  150s   136.38 kB/s"
       ]
      },
      {
       "output_type": "stream",
       "stream": "stdout",
       "text": [
        "\r",
        " 21028864 of 30326502    69% in  150s   136.40 kB/s\r",
        " 21032960 of 30326502    69% in  150s   136.42 kB/s\r",
        " 21037056 of 30326502    69% in  150s   136.43 kB/s\r",
        " 21041152 of 30326502    69% in  150s   136.45 kB/s\r",
        " 21045248 of 30326502    69% in  150s   136.47 kB/s\r",
        " 21049344 of 30326502    69% in  150s   136.49 kB/s"
       ]
      },
      {
       "output_type": "stream",
       "stream": "stdout",
       "text": [
        "\r",
        " 21053440 of 30326502    69% in  150s   136.51 kB/s\r",
        " 21057536 of 30326502    69% in  150s   136.53 kB/s\r",
        " 21061632 of 30326502    69% in  150s   136.55 kB/s\r",
        " 21065728 of 30326502    69% in  150s   136.57 kB/s\r",
        " 21069824 of 30326502    69% in  150s   136.59 kB/s\r",
        " 21073920 of 30326502    69% in  150s   136.61 kB/s"
       ]
      },
      {
       "output_type": "stream",
       "stream": "stdout",
       "text": [
        "\r",
        " 21078016 of 30326502    69% in  150s   136.62 kB/s\r",
        " 21082112 of 30326502    69% in  150s   136.64 kB/s\r",
        " 21086208 of 30326502    69% in  150s   136.66 kB/s\r",
        " 21090304 of 30326502    69% in  150s   136.68 kB/s\r",
        " 21094400 of 30326502    69% in  150s   136.70 kB/s\r",
        " 21098496 of 30326502    69% in  150s   136.72 kB/s"
       ]
      },
      {
       "output_type": "stream",
       "stream": "stdout",
       "text": [
        "\r",
        " 21102592 of 30326502    69% in  150s   136.74 kB/s\r",
        " 21106688 of 30326502    69% in  150s   136.76 kB/s\r",
        " 21110784 of 30326502    69% in  150s   136.77 kB/s\r",
        " 21114880 of 30326502    69% in  150s   136.79 kB/s\r",
        " 21118976 of 30326502    69% in  150s   136.81 kB/s\r",
        " 21123072 of 30326502    69% in  150s   136.83 kB/s"
       ]
      },
      {
       "output_type": "stream",
       "stream": "stdout",
       "text": [
        "\r",
        " 21127168 of 30326502    69% in  150s   136.85 kB/s\r",
        " 21131264 of 30326502    69% in  150s   136.87 kB/s\r",
        " 21135360 of 30326502    69% in  150s   136.89 kB/s\r",
        " 21139456 of 30326502    69% in  150s   136.91 kB/s\r",
        " 21143552 of 30326502    69% in  150s   136.93 kB/s\r",
        " 21147648 of 30326502    69% in  150s   136.94 kB/s"
       ]
      },
      {
       "output_type": "stream",
       "stream": "stdout",
       "text": [
        "\r",
        " 21151744 of 30326502    69% in  150s   136.97 kB/s\r",
        " 21155840 of 30326502    69% in  150s   136.98 kB/s\r",
        " 21159936 of 30326502    69% in  150s   137.00 kB/s\r",
        " 21164032 of 30326502    69% in  150s   137.02 kB/s\r",
        " 21168128 of 30326502    69% in  150s   137.04 kB/s\r",
        " 21172224 of 30326502    69% in  150s   137.06 kB/s"
       ]
      },
      {
       "output_type": "stream",
       "stream": "stdout",
       "text": [
        "\r",
        " 21176320 of 30326502    69% in  150s   137.08 kB/s\r",
        " 21180416 of 30326502    69% in  150s   137.10 kB/s\r",
        " 21184512 of 30326502    69% in  150s   137.11 kB/s\r",
        " 21188608 of 30326502    69% in  150s   137.13 kB/s\r",
        " 21192704 of 30326502    69% in  150s   137.15 kB/s"
       ]
      },
      {
       "output_type": "stream",
       "stream": "stdout",
       "text": [
        "\r",
        " 21196800 of 30326502    69% in  150s   137.17 kB/s\r",
        " 21200896 of 30326502    69% in  150s   137.19 kB/s\r",
        " 21204992 of 30326502    69% in  150s   137.21 kB/s\r",
        " 21209088 of 30326502    69% in  150s   137.23 kB/s\r",
        " 21213184 of 30326502    69% in  150s   137.25 kB/s\r",
        " 21217280 of 30326502    69% in  150s   137.26 kB/s\r",
        " 21221376 of 30326502    69% in  150s   137.28 kB/s"
       ]
      },
      {
       "output_type": "stream",
       "stream": "stdout",
       "text": [
        "\r",
        " 21225472 of 30326502    69% in  150s   137.30 kB/s\r",
        " 21229568 of 30326502    70% in  150s   137.32 kB/s\r",
        " 21233664 of 30326502    70% in  150s   137.34 kB/s\r",
        " 21237760 of 30326502    70% in  150s   137.36 kB/s\r",
        " 21241856 of 30326502    70% in  150s   137.38 kB/s"
       ]
      },
      {
       "output_type": "stream",
       "stream": "stdout",
       "text": [
        "\r",
        " 21245952 of 30326502    70% in  151s   137.39 kB/s\r",
        " 21250048 of 30326502    70% in  151s   137.41 kB/s\r",
        " 21254144 of 30326502    70% in  151s   137.43 kB/s\r",
        " 21258240 of 30326502    70% in  151s   137.45 kB/s\r",
        " 21262336 of 30326502    70% in  151s   137.47 kB/s\r",
        " 21266432 of 30326502    70% in  151s   137.49 kB/s\r",
        " 21270528 of 30326502    70% in  151s   137.51 kB/s"
       ]
      },
      {
       "output_type": "stream",
       "stream": "stdout",
       "text": [
        "\r",
        " 21274624 of 30326502    70% in  151s   137.53 kB/s\r",
        " 21278720 of 30326502    70% in  151s   137.55 kB/s\r",
        " 21282816 of 30326502    70% in  151s   137.57 kB/s\r",
        " 21286912 of 30326502    70% in  151s   137.58 kB/s\r",
        " 21291008 of 30326502    70% in  151s   137.60 kB/s\r",
        " 21295104 of 30326502    70% in  151s   137.62 kB/s"
       ]
      },
      {
       "output_type": "stream",
       "stream": "stdout",
       "text": [
        "\r",
        " 21299200 of 30326502    70% in  151s   137.64 kB/s\r",
        " 21303296 of 30326502    70% in  151s   137.66 kB/s\r",
        " 21307392 of 30326502    70% in  151s   137.68 kB/s\r",
        " 21311488 of 30326502    70% in  151s   137.70 kB/s\r",
        " 21315584 of 30326502    70% in  151s   137.72 kB/s\r",
        " 21319680 of 30326502    70% in  151s   137.74 kB/s"
       ]
      },
      {
       "output_type": "stream",
       "stream": "stdout",
       "text": [
        "\r",
        " 21323776 of 30326502    70% in  151s   137.75 kB/s\r",
        " 21327872 of 30326502    70% in  151s   137.77 kB/s\r",
        " 21331968 of 30326502    70% in  151s   137.79 kB/s\r",
        " 21336064 of 30326502    70% in  151s   137.81 kB/s\r",
        " 21340160 of 30326502    70% in  151s   137.83 kB/s\r",
        " 21344256 of 30326502    70% in  151s   137.85 kB/s"
       ]
      },
      {
       "output_type": "stream",
       "stream": "stdout",
       "text": [
        "\r",
        " 21348352 of 30326502    70% in  151s   137.87 kB/s\r",
        " 21352448 of 30326502    70% in  151s   137.88 kB/s\r",
        " 21356544 of 30326502    70% in  151s   137.90 kB/s\r",
        " 21360640 of 30326502    70% in  151s   137.92 kB/s\r",
        " 21364736 of 30326502    70% in  151s   137.94 kB/s\r",
        " 21368832 of 30326502    70% in  151s   137.96 kB/s"
       ]
      },
      {
       "output_type": "stream",
       "stream": "stdout",
       "text": [
        "\r",
        " 21372928 of 30326502    70% in  151s   137.98 kB/s\r",
        " 21377024 of 30326502    70% in  151s   138.00 kB/s\r",
        " 21381120 of 30326502    70% in  151s   138.02 kB/s\r",
        " 21385216 of 30326502    70% in  151s   138.03 kB/s\r",
        " 21389312 of 30326502    70% in  151s   138.05 kB/s\r",
        " 21393408 of 30326502    70% in  151s   138.07 kB/s"
       ]
      },
      {
       "output_type": "stream",
       "stream": "stdout",
       "text": [
        "\r",
        " 21397504 of 30326502    70% in  151s   138.09 kB/s\r",
        " 21401600 of 30326502    70% in  151s   138.11 kB/s\r",
        " 21405696 of 30326502    70% in  151s   138.13 kB/s\r",
        " 21409792 of 30326502    70% in  151s   138.14 kB/s\r",
        " 21413888 of 30326502    70% in  151s   138.16 kB/s\r",
        " 21417984 of 30326502    70% in  151s   138.19 kB/s"
       ]
      },
      {
       "output_type": "stream",
       "stream": "stdout",
       "text": [
        "\r",
        " 21422080 of 30326502    70% in  151s   138.20 kB/s\r",
        " 21426176 of 30326502    70% in  151s   138.22 kB/s\r",
        " 21430272 of 30326502    70% in  151s   138.24 kB/s\r",
        " 21434368 of 30326502    70% in  151s   138.26 kB/s\r",
        " 21438464 of 30326502    70% in  151s   138.28 kB/s\r",
        " 21442560 of 30326502    70% in  151s   138.30 kB/s"
       ]
      },
      {
       "output_type": "stream",
       "stream": "stdout",
       "text": [
        "\r",
        " 21446656 of 30326502    70% in  151s   138.32 kB/s\r",
        " 21450752 of 30326502    70% in  151s   138.33 kB/s\r",
        " 21454848 of 30326502    70% in  151s   138.35 kB/s\r",
        " 21458944 of 30326502    70% in  151s   138.37 kB/s\r",
        " 21463040 of 30326502    70% in  151s   138.39 kB/s\r",
        " 21467136 of 30326502    70% in  151s   138.41 kB/s"
       ]
      },
      {
       "output_type": "stream",
       "stream": "stdout",
       "text": [
        "\r",
        " 21471232 of 30326502    70% in  151s   138.43 kB/s\r",
        " 21475328 of 30326502    70% in  151s   138.45 kB/s\r",
        " 21479424 of 30326502    70% in  151s   138.46 kB/s\r",
        " 21483520 of 30326502    70% in  151s   138.48 kB/s\r",
        " 21487616 of 30326502    70% in  151s   138.50 kB/s\r",
        " 21491712 of 30326502    70% in  151s   138.52 kB/s\r",
        " 21495808 of 30326502    70% in  151s   138.54 kB/s"
       ]
      },
      {
       "output_type": "stream",
       "stream": "stdout",
       "text": [
        "\r",
        " 21499904 of 30326502    70% in  151s   138.56 kB/s\r",
        " 21504000 of 30326502    70% in  151s   138.58 kB/s\r",
        " 21508096 of 30326502    70% in  151s   138.59 kB/s\r",
        " 21512192 of 30326502    70% in  151s   138.61 kB/s\r",
        " 21516288 of 30326502    70% in  151s   138.63 kB/s\r",
        " 21520384 of 30326502    70% in  151s   138.65 kB/s"
       ]
      },
      {
       "output_type": "stream",
       "stream": "stdout",
       "text": [
        "\r",
        " 21524480 of 30326502    70% in  151s   138.67 kB/s\r",
        " 21528576 of 30326502    70% in  151s   138.69 kB/s\r",
        " 21532672 of 30326502    71% in  151s   138.71 kB/s\r",
        " 21536768 of 30326502    71% in  151s   138.73 kB/s\r",
        " 21540864 of 30326502    71% in  151s   138.74 kB/s"
       ]
      },
      {
       "output_type": "stream",
       "stream": "stdout",
       "text": [
        "\r",
        " 21544960 of 30326502    71% in  151s   138.76 kB/s\r",
        " 21549056 of 30326502    71% in  151s   138.78 kB/s\r",
        " 21553152 of 30326502    71% in  151s   138.80 kB/s\r",
        " 21557248 of 30326502    71% in  151s   138.82 kB/s\r",
        " 21561344 of 30326502    71% in  151s   138.84 kB/s\r",
        " 21565440 of 30326502    71% in  151s   138.86 kB/s"
       ]
      },
      {
       "output_type": "stream",
       "stream": "stdout",
       "text": [
        "\r",
        " 21569536 of 30326502    71% in  151s   138.87 kB/s\r",
        " 21573632 of 30326502    71% in  151s   138.89 kB/s\r",
        " 21577728 of 30326502    71% in  151s   138.91 kB/s\r",
        " 21581824 of 30326502    71% in  151s   138.93 kB/s\r",
        " 21585920 of 30326502    71% in  151s   138.94 kB/s\r",
        " 21590016 of 30326502    71% in  151s   138.97 kB/s"
       ]
      },
      {
       "output_type": "stream",
       "stream": "stdout",
       "text": [
        "\r",
        " 21594112 of 30326502    71% in  151s   138.99 kB/s\r",
        " 21598208 of 30326502    71% in  151s   139.00 kB/s\r",
        " 21602304 of 30326502    71% in  151s   139.02 kB/s\r",
        " 21606400 of 30326502    71% in  151s   139.04 kB/s\r",
        " 21610496 of 30326502    71% in  151s   139.06 kB/s\r",
        " 21614592 of 30326502    71% in  151s   139.08 kB/s\r",
        " 21618688 of 30326502    71% in  151s   139.10 kB/s"
       ]
      },
      {
       "output_type": "stream",
       "stream": "stdout",
       "text": [
        "\r",
        " 21622784 of 30326502    71% in  151s   139.12 kB/s\r",
        " 21626880 of 30326502    71% in  151s   139.14 kB/s\r",
        " 21630976 of 30326502    71% in  151s   139.15 kB/s\r",
        " 21635072 of 30326502    71% in  151s   139.17 kB/s\r",
        " 21639168 of 30326502    71% in  151s   139.19 kB/s\r",
        " 21643264 of 30326502    71% in  151s   139.21 kB/s"
       ]
      },
      {
       "output_type": "stream",
       "stream": "stdout",
       "text": [
        "\r",
        " 21647360 of 30326502    71% in  151s   139.23 kB/s\r",
        " 21651456 of 30326502    71% in  151s   139.25 kB/s\r",
        " 21655552 of 30326502    71% in  151s   139.27 kB/s\r",
        " 21659648 of 30326502    71% in  151s   139.28 kB/s\r",
        " 21663744 of 30326502    71% in  151s   139.30 kB/s\r",
        " 21667840 of 30326502    71% in  151s   139.32 kB/s"
       ]
      },
      {
       "output_type": "stream",
       "stream": "stdout",
       "text": [
        "\r",
        " 21671936 of 30326502    71% in  151s   139.34 kB/s\r",
        " 21676032 of 30326502    71% in  151s   139.36 kB/s\r",
        " 21680128 of 30326502    71% in  151s   139.38 kB/s\r",
        " 21684224 of 30326502    71% in  151s   139.40 kB/s\r",
        " 21688320 of 30326502    71% in  151s   139.41 kB/s\r",
        " 21692416 of 30326502    71% in  151s   139.43 kB/s"
       ]
      },
      {
       "output_type": "stream",
       "stream": "stdout",
       "text": [
        "\r",
        " 21696512 of 30326502    71% in  151s   139.45 kB/s\r",
        " 21700608 of 30326502    71% in  151s   139.47 kB/s\r",
        " 21704704 of 30326502    71% in  151s   139.49 kB/s\r",
        " 21708800 of 30326502    71% in  151s   139.51 kB/s\r",
        " 21712896 of 30326502    71% in  151s   139.52 kB/s\r",
        " 21716992 of 30326502    71% in  151s   139.54 kB/s"
       ]
      },
      {
       "output_type": "stream",
       "stream": "stdout",
       "text": [
        "\r",
        " 21721088 of 30326502    71% in  151s   139.56 kB/s\r",
        " 21725184 of 30326502    71% in  151s   139.58 kB/s\r",
        " 21729280 of 30326502    71% in  152s   139.60 kB/s\r",
        " 21733376 of 30326502    71% in  152s   139.62 kB/s\r",
        " 21737472 of 30326502    71% in  152s   139.64 kB/s\r",
        " 21741568 of 30326502    71% in  152s   139.66 kB/s"
       ]
      },
      {
       "output_type": "stream",
       "stream": "stdout",
       "text": [
        "\r",
        " 21745664 of 30326502    71% in  152s   139.67 kB/s\r",
        " 21749760 of 30326502    71% in  152s   139.69 kB/s\r",
        " 21753856 of 30326502    71% in  152s   139.71 kB/s\r",
        " 21757952 of 30326502    71% in  152s   139.73 kB/s\r",
        " 21762048 of 30326502    71% in  152s   139.75 kB/s\r",
        " 21766144 of 30326502    71% in  152s   139.77 kB/s"
       ]
      },
      {
       "output_type": "stream",
       "stream": "stdout",
       "text": [
        "\r",
        " 21770240 of 30326502    71% in  152s   139.78 kB/s\r",
        " 21774336 of 30326502    71% in  152s   139.80 kB/s\r",
        " 21778432 of 30326502    71% in  152s   139.82 kB/s\r",
        " 21782528 of 30326502    71% in  152s   139.84 kB/s\r",
        " 21786624 of 30326502    71% in  152s   139.86 kB/s\r",
        " 21790720 of 30326502    71% in  152s   139.88 kB/s"
       ]
      },
      {
       "output_type": "stream",
       "stream": "stdout",
       "text": [
        "\r",
        " 21794816 of 30326502    71% in  152s   139.90 kB/s\r",
        " 21798912 of 30326502    71% in  152s   139.91 kB/s\r",
        " 21803008 of 30326502    71% in  152s   139.93 kB/s\r",
        " 21807104 of 30326502    71% in  152s   139.94 kB/s\r",
        " 21811200 of 30326502    71% in  152s   139.97 kB/s\r",
        " 21815296 of 30326502    71% in  152s   139.99 kB/s"
       ]
      },
      {
       "output_type": "stream",
       "stream": "stdout",
       "text": [
        "\r",
        " 21819392 of 30326502    71% in  152s   140.01 kB/s\r",
        " 21823488 of 30326502    71% in  152s   140.02 kB/s\r",
        " 21827584 of 30326502    71% in  152s   140.04 kB/s\r",
        " 21831680 of 30326502    71% in  152s   140.06 kB/s\r",
        " 21835776 of 30326502    72% in  152s   140.08 kB/s\r",
        " 21839872 of 30326502    72% in  152s   140.10 kB/s"
       ]
      },
      {
       "output_type": "stream",
       "stream": "stdout",
       "text": [
        "\r",
        " 21843968 of 30326502    72% in  152s   140.12 kB/s\r",
        " 21848064 of 30326502    72% in  152s   140.14 kB/s\r",
        " 21852160 of 30326502    72% in  152s   140.15 kB/s\r",
        " 21856256 of 30326502    72% in  152s   140.17 kB/s\r",
        " 21860352 of 30326502    72% in  152s   140.19 kB/s\r",
        " 21864448 of 30326502    72% in  152s   140.21 kB/s"
       ]
      },
      {
       "output_type": "stream",
       "stream": "stdout",
       "text": [
        "\r",
        " 21868544 of 30326502    72% in  152s   139.61 kB/s\r",
        " 21872640 of 30326502    72% in  152s   139.64 kB/s\r",
        " 21876736 of 30326502    72% in  152s   139.66 kB/s\r",
        " 21880832 of 30326502    72% in  152s   139.69 kB/s\r",
        " 21884928 of 30326502    72% in  152s   139.71 kB/s\r",
        " 21889024 of 30326502    72% in  152s   139.74 kB/s\r",
        " 21893120 of 30326502    72% in  152s   139.77 kB/s\r",
        " 21897216 of 30326502    72% in  152s   139.79 kB/s\r",
        " 21901312 of 30326502    72% in  152s   139.82 kB/s\r",
        " 21905408 of 30326502    72% in  152s   139.84 kB/s\r",
        " 21909504 of 30326502    72% in  152s   139.87 kB/s\r",
        " 21913600 of 30326502    72% in  152s   139.90 kB/s\r",
        " 21917696 of 30326502    72% in  152s   139.92 kB/s\r",
        " 21921792 of 30326502    72% in  152s   139.95 kB/s\r",
        " 21925888 of 30326502    72% in  152s   139.97 kB/s\r",
        " 21929984 of 30326502    72% in  152s   140.00 kB/s\r",
        " 21934080 of 30326502    72% in  152s   140.03 kB/s\r",
        " 21938176 of 30326502    72% in  152s   140.05 kB/s\r",
        " 21942272 of 30326502    72% in  152s   140.08 kB/s\r",
        " 21946368 of 30326502    72% in  152s   140.10 kB/s\r",
        " 21950464 of 30326502    72% in  152s   140.13 kB/s\r",
        " 21954560 of 30326502    72% in  152s   140.16 kB/s\r",
        " 21958656 of 30326502    72% in  152s   140.18 kB/s\r",
        " 21962752 of 30326502    72% in  152s   140.21 kB/s\r",
        " 21966848 of 30326502    72% in  152s   140.23 kB/s\r",
        " 21970944 of 30326502    72% in  152s   140.26 kB/s\r",
        " 21975040 of 30326502    72% in  152s   140.29 kB/s\r",
        " 21979136 of 30326502    72% in  152s   140.31 kB/s\r",
        " 21983232 of 30326502    72% in  152s   140.34 kB/s\r",
        " 21987328 of 30326502    72% in  152s   140.36 kB/s\r",
        " 21991424 of 30326502    72% in  152s   140.39 kB/s\r",
        " 21995520 of 30326502    72% in  152s   140.42 kB/s\r",
        " 21999616 of 30326502    72% in  152s   140.44 kB/s\r",
        " 22003712 of 30326502    72% in  152s   140.47 kB/s\r",
        " 22007808 of 30326502    72% in  152s   140.49 kB/s\r",
        " 22011904 of 30326502    72% in  152s   140.52 kB/s\r",
        " 22016000 of 30326502    72% in  152s   140.55 kB/s\r",
        " 22020096 of 30326502    72% in  152s   140.57 kB/s\r",
        " 22024192 of 30326502    72% in  152s   140.60 kB/s\r",
        " 22028288 of 30326502    72% in  152s   140.62 kB/s\r",
        " 22032384 of 30326502    72% in  152s   140.65 kB/s\r",
        " 22036480 of 30326502    72% in  152s   140.68 kB/s\r",
        " 22040576 of 30326502    72% in  152s   140.70 kB/s\r",
        " 22044672 of 30326502    72% in  152s   140.73 kB/s\r",
        " 22048768 of 30326502    72% in  152s   140.76 kB/s\r",
        " 22052864 of 30326502    72% in  152s   140.78 kB/s"
       ]
      },
      {
       "output_type": "stream",
       "stream": "stdout",
       "text": [
        "\r",
        " 22056960 of 30326502    72% in  153s   140.76 kB/s\r",
        " 22061056 of 30326502    72% in  153s   140.78 kB/s\r",
        " 22065152 of 30326502    72% in  153s   140.80 kB/s\r",
        " 22069248 of 30326502    72% in  153s   140.83 kB/s\r",
        " 22073344 of 30326502    72% in  153s   140.85 kB/s\r",
        " 22077440 of 30326502    72% in  153s   140.88 kB/s\r",
        " 22081536 of 30326502    72% in  153s   140.91 kB/s\r",
        " 22085632 of 30326502    72% in  153s   140.93 kB/s\r",
        " 22089728 of 30326502    72% in  153s   140.96 kB/s"
       ]
      },
      {
       "output_type": "stream",
       "stream": "stdout",
       "text": [
        "\r",
        " 22093824 of 30326502    72% in  153s   140.88 kB/s\r",
        " 22097920 of 30326502    72% in  153s   140.90 kB/s\r",
        " 22102016 of 30326502    72% in  153s   140.93 kB/s"
       ]
      },
      {
       "output_type": "stream",
       "stream": "stdout",
       "text": [
        "\r",
        " 22106112 of 30326502    72% in  153s   140.89 kB/s\r",
        " 22110208 of 30326502    72% in  153s   140.90 kB/s"
       ]
      },
      {
       "output_type": "stream",
       "stream": "stdout",
       "text": [
        "\r",
        " 22114304 of 30326502    72% in  153s   140.92 kB/s\r",
        " 22118400 of 30326502    72% in  153s   140.94 kB/s\r",
        " 22122496 of 30326502    72% in  153s   140.97 kB/s\r",
        " 22126592 of 30326502    72% in  153s   140.99 kB/s"
       ]
      },
      {
       "output_type": "stream",
       "stream": "stdout",
       "text": [
        "\r",
        " 22130688 of 30326502    72% in  153s   140.97 kB/s"
       ]
      },
      {
       "output_type": "stream",
       "stream": "stdout",
       "text": [
        "\r",
        " 22134784 of 30326502    72% in  153s   140.81 kB/s\r",
        " 22138880 of 30326502    73% in  153s   140.81 kB/s\r",
        " 22142976 of 30326502    73% in  153s   140.82 kB/s"
       ]
      },
      {
       "output_type": "stream",
       "stream": "stdout",
       "text": [
        "\r",
        " 22147072 of 30326502    73% in  153s   140.77 kB/s"
       ]
      },
      {
       "output_type": "stream",
       "stream": "stdout",
       "text": [
        "\r",
        " 22151168 of 30326502    73% in  153s   140.63 kB/s\r",
        " 22155264 of 30326502    73% in  153s   140.66 kB/s\r",
        " 22159360 of 30326502    73% in  153s   140.68 kB/s\r",
        " 22163456 of 30326502    73% in  153s   140.69 kB/s"
       ]
      },
      {
       "output_type": "stream",
       "stream": "stdout",
       "text": [
        "\r",
        " 22167552 of 30326502    73% in  153s   140.64 kB/s"
       ]
      },
      {
       "output_type": "stream",
       "stream": "stdout",
       "text": [
        "\r",
        " 22171648 of 30326502    73% in  154s   140.51 kB/s\r",
        " 22175744 of 30326502    73% in  154s   140.52 kB/s\r",
        " 22179840 of 30326502    73% in  154s   140.54 kB/s"
       ]
      },
      {
       "output_type": "stream",
       "stream": "stdout",
       "text": [
        "\r",
        " 22183936 of 30326502    73% in  154s   140.56 kB/s"
       ]
      },
      {
       "output_type": "stream",
       "stream": "stdout",
       "text": [
        "\r",
        " 22188032 of 30326502    73% in  154s   140.52 kB/s"
       ]
      },
      {
       "output_type": "stream",
       "stream": "stdout",
       "text": [
        "\r",
        " 22192128 of 30326502    73% in  154s   140.44 kB/s"
       ]
      },
      {
       "output_type": "stream",
       "stream": "stdout",
       "text": [
        "\r",
        " 22196224 of 30326502    73% in  154s   140.40 kB/s\r",
        " 22200320 of 30326502    73% in  154s   140.41 kB/s\r",
        " 22204416 of 30326502    73% in  154s   140.43 kB/s"
       ]
      },
      {
       "output_type": "stream",
       "stream": "stdout",
       "text": [
        "\r",
        " 22208512 of 30326502    73% in  154s   140.39 kB/s"
       ]
      },
      {
       "output_type": "stream",
       "stream": "stdout",
       "text": [
        "\r",
        " 22212608 of 30326502    73% in  154s   140.31 kB/s"
       ]
      },
      {
       "output_type": "stream",
       "stream": "stdout",
       "text": [
        "\r",
        " 22216704 of 30326502    73% in  154s   140.27 kB/s\r",
        " 22220800 of 30326502    73% in  154s   140.29 kB/s"
       ]
      },
      {
       "output_type": "stream",
       "stream": "stdout",
       "text": [
        "\r",
        " 22224896 of 30326502    73% in  154s   140.30 kB/s\r",
        " 22228992 of 30326502    73% in  154s   140.32 kB/s"
       ]
      },
      {
       "output_type": "stream",
       "stream": "stdout",
       "text": [
        "\r",
        " 22233088 of 30326502    73% in  154s   140.28 kB/s"
       ]
      },
      {
       "output_type": "stream",
       "stream": "stdout",
       "text": [
        "\r",
        " 22237184 of 30326502    73% in  154s   140.15 kB/s\r",
        " 22241280 of 30326502    73% in  154s   140.16 kB/s\r",
        " 22245376 of 30326502    73% in  154s   140.18 kB/s\r",
        " 22249472 of 30326502    73% in  154s   140.20 kB/s"
       ]
      },
      {
       "output_type": "stream",
       "stream": "stdout",
       "text": [
        "\r",
        " 22253568 of 30326502    73% in  155s   140.16 kB/s\r",
        " 22257664 of 30326502    73% in  155s   140.17 kB/s"
       ]
      },
      {
       "output_type": "stream",
       "stream": "stdout",
       "text": [
        "\r",
        " 22261760 of 30326502    73% in  155s   140.04 kB/s"
       ]
      },
      {
       "output_type": "stream",
       "stream": "stdout",
       "text": [
        "\r",
        " 22265856 of 30326502    73% in  155s   140.05 kB/s\r",
        " 22269952 of 30326502    73% in  155s   140.07 kB/s\r",
        " 22274048 of 30326502    73% in  155s   140.09 kB/s"
       ]
      },
      {
       "output_type": "stream",
       "stream": "stdout",
       "text": [
        "\r",
        " 22278144 of 30326502    73% in  155s   140.05 kB/s"
       ]
      },
      {
       "output_type": "stream",
       "stream": "stdout",
       "text": [
        "\r",
        " 22282240 of 30326502    73% in  155s   139.91 kB/s\r",
        " 22286336 of 30326502    73% in  155s   139.93 kB/s\r",
        " 22290432 of 30326502    73% in  155s   139.94 kB/s"
       ]
      },
      {
       "output_type": "stream",
       "stream": "stdout",
       "text": [
        "\r",
        " 22294528 of 30326502    73% in  155s   139.96 kB/s"
       ]
      },
      {
       "output_type": "stream",
       "stream": "stdout",
       "text": [
        "\r",
        " 22298624 of 30326502    73% in  155s   139.92 kB/s"
       ]
      },
      {
       "output_type": "stream",
       "stream": "stdout",
       "text": [
        "\r",
        " 22302720 of 30326502    73% in  155s   139.79 kB/s"
       ]
      },
      {
       "output_type": "stream",
       "stream": "stdout",
       "text": [
        "\r",
        " 22306816 of 30326502    73% in  155s   139.81 kB/s\r",
        " 22310912 of 30326502    73% in  155s   139.83 kB/s\r",
        " 22315008 of 30326502    73% in  155s   139.84 kB/s\r",
        " 22319104 of 30326502    73% in  155s   139.86 kB/s"
       ]
      },
      {
       "output_type": "stream",
       "stream": "stdout",
       "text": [
        "\r",
        " 22323200 of 30326502    73% in  155s   139.82 kB/s"
       ]
      },
      {
       "output_type": "stream",
       "stream": "stdout",
       "text": [
        "\r",
        " 22327296 of 30326502    73% in  156s   139.68 kB/s\r",
        " 22331392 of 30326502    73% in  156s   139.70 kB/s"
       ]
      },
      {
       "output_type": "stream",
       "stream": "stdout",
       "text": [
        "\r",
        " 22335488 of 30326502    73% in  156s   139.71 kB/s\r",
        " 22339584 of 30326502    73% in  156s   139.74 kB/s\r",
        " 22343680 of 30326502    73% in  156s   139.75 kB/s"
       ]
      },
      {
       "output_type": "stream",
       "stream": "stdout",
       "text": [
        "\r",
        " 22347776 of 30326502    73% in  156s   139.72 kB/s"
       ]
      },
      {
       "output_type": "stream",
       "stream": "stdout",
       "text": [
        "\r",
        " 22351872 of 30326502    73% in  156s   139.58 kB/s\r",
        " 22355968 of 30326502    73% in  156s   139.60 kB/s\r",
        " 22360064 of 30326502    73% in  156s   139.61 kB/s"
       ]
      },
      {
       "output_type": "stream",
       "stream": "stdout",
       "text": [
        "\r",
        " 22364160 of 30326502    73% in  156s   139.62 kB/s\r",
        " 22368256 of 30326502    73% in  156s   139.64 kB/s"
       ]
      },
      {
       "output_type": "stream",
       "stream": "stdout",
       "text": [
        "\r",
        " 22372352 of 30326502    73% in  156s   139.62 kB/s"
       ]
      },
      {
       "output_type": "stream",
       "stream": "stdout",
       "text": [
        "\r",
        " 22376448 of 30326502    73% in  156s   139.48 kB/s"
       ]
      },
      {
       "output_type": "stream",
       "stream": "stdout",
       "text": [
        "\r",
        " 22380544 of 30326502    73% in  156s   139.50 kB/s\r",
        " 22384640 of 30326502    73% in  156s   139.51 kB/s\r",
        " 22388736 of 30326502    73% in  156s   139.51 kB/s\r",
        " 22392832 of 30326502    73% in  156s   139.53 kB/s"
       ]
      },
      {
       "output_type": "stream",
       "stream": "stdout",
       "text": [
        "\r",
        " 22396928 of 30326502    73% in  156s   139.52 kB/s"
       ]
      },
      {
       "output_type": "stream",
       "stream": "stdout",
       "text": [
        "\r",
        " 22401024 of 30326502    73% in  156s   139.38 kB/s\r",
        " 22405120 of 30326502    73% in  156s   139.40 kB/s\r",
        " 22409216 of 30326502    73% in  156s   139.41 kB/s"
       ]
      },
      {
       "output_type": "stream",
       "stream": "stdout",
       "text": [
        "\r",
        " 22413312 of 30326502    73% in  156s   139.41 kB/s\r",
        " 22417408 of 30326502    73% in  157s   139.44 kB/s"
       ]
      },
      {
       "output_type": "stream",
       "stream": "stdout",
       "text": [
        "\r",
        " 22421504 of 30326502    73% in  157s   139.42 kB/s"
       ]
      },
      {
       "output_type": "stream",
       "stream": "stdout",
       "text": [
        "\r",
        " 22425600 of 30326502    73% in  157s   139.28 kB/s"
       ]
      },
      {
       "output_type": "stream",
       "stream": "stdout",
       "text": [
        "\r",
        " 22429696 of 30326502    73% in  157s   139.30 kB/s\r",
        " 22433792 of 30326502    73% in  157s   139.32 kB/s\r",
        " 22437888 of 30326502    73% in  157s   139.32 kB/s\r",
        " 22441984 of 30326502    74% in  157s   139.34 kB/s"
       ]
      },
      {
       "output_type": "stream",
       "stream": "stdout",
       "text": [
        "\r",
        " 22446080 of 30326502    74% in  157s   139.32 kB/s"
       ]
      },
      {
       "output_type": "stream",
       "stream": "stdout",
       "text": [
        "\r",
        " 22450176 of 30326502    74% in  157s   139.19 kB/s\r",
        " 22454272 of 30326502    74% in  157s   139.20 kB/s\r",
        " 22458368 of 30326502    74% in  157s   139.22 kB/s"
       ]
      },
      {
       "output_type": "stream",
       "stream": "stdout",
       "text": [
        "\r",
        " 22462464 of 30326502    74% in  157s   139.23 kB/s\r",
        " 22466560 of 30326502    74% in  157s   139.24 kB/s\r",
        " 22470656 of 30326502    74% in  157s   139.26 kB/s"
       ]
      },
      {
       "output_type": "stream",
       "stream": "stdout",
       "text": [
        "\r",
        " 22474752 of 30326502    74% in  157s   139.24 kB/s"
       ]
      },
      {
       "output_type": "stream",
       "stream": "stdout",
       "text": [
        "\r",
        " 22478848 of 30326502    74% in  157s   139.11 kB/s\r",
        " 22482944 of 30326502    74% in  157s   139.12 kB/s\r",
        " 22487040 of 30326502    74% in  157s   139.14 kB/s"
       ]
      },
      {
       "output_type": "stream",
       "stream": "stdout",
       "text": [
        "\r",
        " 22491136 of 30326502    74% in  157s   139.14 kB/s\r",
        " 22495232 of 30326502    74% in  157s   139.16 kB/s"
       ]
      },
      {
       "output_type": "stream",
       "stream": "stdout",
       "text": [
        "\r",
        " 22499328 of 30326502    74% in  157s   139.15 kB/s"
       ]
      },
      {
       "output_type": "stream",
       "stream": "stdout",
       "text": [
        "\r",
        " 22503424 of 30326502    74% in  158s   139.01 kB/s\r",
        " 22507520 of 30326502    74% in  158s   139.02 kB/s"
       ]
      },
      {
       "output_type": "stream",
       "stream": "stdout",
       "text": [
        "\r",
        " 22511616 of 30326502    74% in  158s   139.04 kB/s\r",
        " 22515712 of 30326502    74% in  158s   139.05 kB/s\r",
        " 22519808 of 30326502    74% in  158s   139.06 kB/s"
       ]
      },
      {
       "output_type": "stream",
       "stream": "stdout",
       "text": [
        "\r",
        " 22523904 of 30326502    74% in  158s   139.05 kB/s"
       ]
      },
      {
       "output_type": "stream",
       "stream": "stdout",
       "text": [
        "\r",
        " 22528000 of 30326502    74% in  158s   138.98 kB/s"
       ]
      },
      {
       "output_type": "stream",
       "stream": "stdout",
       "text": [
        "\r",
        " 22532096 of 30326502    74% in  158s   138.94 kB/s\r",
        " 22536192 of 30326502    74% in  158s   138.95 kB/s\r",
        " 22540288 of 30326502    74% in  158s   138.96 kB/s"
       ]
      },
      {
       "output_type": "stream",
       "stream": "stdout",
       "text": [
        "\r",
        " 22544384 of 30326502    74% in  158s   138.97 kB/s\r",
        " 22548480 of 30326502    74% in  158s   138.99 kB/s"
       ]
      },
      {
       "output_type": "stream",
       "stream": "stdout",
       "text": [
        "\r",
        " 22552576 of 30326502    74% in  158s   138.98 kB/s"
       ]
      },
      {
       "output_type": "stream",
       "stream": "stdout",
       "text": [
        "\r",
        " 22556672 of 30326502    74% in  158s   138.84 kB/s\r",
        " 22560768 of 30326502    74% in  158s   138.86 kB/s"
       ]
      },
      {
       "output_type": "stream",
       "stream": "stdout",
       "text": [
        "\r",
        " 22564864 of 30326502    74% in  158s   138.87 kB/s\r",
        " 22568960 of 30326502    74% in  158s   138.87 kB/s\r",
        " 22573056 of 30326502    74% in  158s   138.90 kB/s\r",
        " 22577152 of 30326502    74% in  158s   138.91 kB/s"
       ]
      },
      {
       "output_type": "stream",
       "stream": "stdout",
       "text": [
        "\r",
        " 22581248 of 30326502    74% in  158s   138.90 kB/s"
       ]
      },
      {
       "output_type": "stream",
       "stream": "stdout",
       "text": [
        "\r",
        " 22585344 of 30326502    74% in  158s   138.76 kB/s\r",
        " 22589440 of 30326502    74% in  158s   138.78 kB/s"
       ]
      },
      {
       "output_type": "stream",
       "stream": "stdout",
       "text": [
        "\r",
        " 22593536 of 30326502    74% in  158s   138.78 kB/s\r",
        " 22597632 of 30326502    74% in  158s   138.79 kB/s\r",
        " 22601728 of 30326502    74% in  159s   138.82 kB/s"
       ]
      },
      {
       "output_type": "stream",
       "stream": "stdout",
       "text": [
        "\r",
        " 22605824 of 30326502    74% in  159s   138.80 kB/s"
       ]
      },
      {
       "output_type": "stream",
       "stream": "stdout",
       "text": [
        "\r",
        " 22609920 of 30326502    74% in  159s   138.67 kB/s"
       ]
      },
      {
       "output_type": "stream",
       "stream": "stdout",
       "text": [
        "\r",
        " 22614016 of 30326502    74% in  159s   138.69 kB/s\r",
        " 22618112 of 30326502    74% in  159s   138.70 kB/s\r",
        " 22622208 of 30326502    74% in  159s   138.71 kB/s\r",
        " 22626304 of 30326502    74% in  159s   138.72 kB/s"
       ]
      },
      {
       "output_type": "stream",
       "stream": "stdout",
       "text": [
        "\r",
        " 22630400 of 30326502    74% in  159s   138.74 kB/s\r",
        " 22634496 of 30326502    74% in  159s   138.73 kB/s"
       ]
      },
      {
       "output_type": "stream",
       "stream": "stdout",
       "text": [
        "\r",
        " 22638592 of 30326502    74% in  159s   138.75 kB/s"
       ]
      },
      {
       "output_type": "stream",
       "stream": "stdout",
       "text": [
        "\r",
        " 22642688 of 30326502    74% in  159s   138.61 kB/s\r",
        " 22646784 of 30326502    74% in  159s   138.63 kB/s"
       ]
      },
      {
       "output_type": "stream",
       "stream": "stdout",
       "text": [
        "\r",
        " 22650880 of 30326502    74% in  159s   138.65 kB/s\r",
        " 22654976 of 30326502    74% in  159s   138.66 kB/s\r",
        " 22659072 of 30326502    74% in  159s   138.67 kB/s\r",
        " 22663168 of 30326502    74% in  159s   138.69 kB/s"
       ]
      },
      {
       "output_type": "stream",
       "stream": "stdout",
       "text": [
        "\r",
        " 22667264 of 30326502    74% in  159s   138.68 kB/s\r",
        " 22671360 of 30326502    74% in  159s   138.70 kB/s"
       ]
      },
      {
       "output_type": "stream",
       "stream": "stdout",
       "text": [
        "\r",
        " 22675456 of 30326502    74% in  159s   138.57 kB/s\r",
        " 22679552 of 30326502    74% in  159s   138.59 kB/s\r",
        " 22683648 of 30326502    74% in  159s   138.61 kB/s\r",
        " 22687744 of 30326502    74% in  159s   138.62 kB/s"
       ]
      },
      {
       "output_type": "stream",
       "stream": "stdout",
       "text": [
        "\r",
        " 22691840 of 30326502    74% in  159s   138.63 kB/s\r",
        " 22695936 of 30326502    74% in  159s   138.65 kB/s\r",
        " 22700032 of 30326502    74% in  159s   138.67 kB/s"
       ]
      },
      {
       "output_type": "stream",
       "stream": "stdout",
       "text": [
        "\r",
        " 22704128 of 30326502    74% in  159s   138.66 kB/s\r",
        " 22708224 of 30326502    74% in  159s   138.68 kB/s\r",
        " 22712320 of 30326502    74% in  159s   138.70 kB/s"
       ]
      },
      {
       "output_type": "stream",
       "stream": "stdout",
       "text": [
        "\r",
        " 22716416 of 30326502    74% in  160s   138.57 kB/s\r",
        " 22720512 of 30326502    74% in  160s   138.59 kB/s"
       ]
      },
      {
       "output_type": "stream",
       "stream": "stdout",
       "text": [
        "\r",
        " 22724608 of 30326502    74% in  160s   138.61 kB/s\r",
        " 22728704 of 30326502    74% in  160s   138.62 kB/s\r",
        " 22732800 of 30326502    74% in  160s   138.64 kB/s\r",
        " 22736896 of 30326502    74% in  160s   138.66 kB/s\r",
        " 22740992 of 30326502    74% in  160s   138.67 kB/s"
       ]
      },
      {
       "output_type": "stream",
       "stream": "stdout",
       "text": [
        "\r",
        " 22745088 of 30326502    75% in  160s   138.69 kB/s\r",
        " 22749184 of 30326502    75% in  160s   138.68 kB/s\r",
        " 22753280 of 30326502    75% in  160s   138.70 kB/s"
       ]
      },
      {
       "output_type": "stream",
       "stream": "stdout",
       "text": [
        "\r",
        " 22757376 of 30326502    75% in  160s   138.72 kB/s"
       ]
      },
      {
       "output_type": "stream",
       "stream": "stdout",
       "text": [
        "\r",
        " 22761472 of 30326502    75% in  160s   138.59 kB/s\r",
        " 22765568 of 30326502    75% in  160s   138.61 kB/s\r",
        " 22769664 of 30326502    75% in  160s   138.63 kB/s"
       ]
      },
      {
       "output_type": "stream",
       "stream": "stdout",
       "text": [
        "\r",
        " 22773760 of 30326502    75% in  160s   138.64 kB/s\r",
        " 22777856 of 30326502    75% in  160s   138.66 kB/s\r",
        " 22781952 of 30326502    75% in  160s   138.68 kB/s\r",
        " 22786048 of 30326502    75% in  160s   138.70 kB/s\r",
        " 22790144 of 30326502    75% in  160s   138.71 kB/s"
       ]
      },
      {
       "output_type": "stream",
       "stream": "stdout",
       "text": [
        "\r",
        " 22794240 of 30326502    75% in  160s   138.71 kB/s\r",
        " 22798336 of 30326502    75% in  160s   138.73 kB/s\r",
        " 22802432 of 30326502    75% in  160s   138.75 kB/s\r",
        " 22806528 of 30326502    75% in  160s   138.77 kB/s\r",
        " 22810624 of 30326502    75% in  160s   138.79 kB/s"
       ]
      },
      {
       "output_type": "stream",
       "stream": "stdout",
       "text": [
        "\r",
        " 22814720 of 30326502    75% in  160s   138.66 kB/s\r",
        " 22818816 of 30326502    75% in  160s   138.67 kB/s\r",
        " 22822912 of 30326502    75% in  160s   138.69 kB/s\r",
        " 22827008 of 30326502    75% in  160s   138.71 kB/s"
       ]
      },
      {
       "output_type": "stream",
       "stream": "stdout",
       "text": [
        "\r",
        " 22831104 of 30326502    75% in  160s   138.73 kB/s\r",
        " 22835200 of 30326502    75% in  160s   138.74 kB/s\r",
        " 22839296 of 30326502    75% in  160s   138.76 kB/s\r",
        " 22843392 of 30326502    75% in  160s   138.78 kB/s\r",
        " 22847488 of 30326502    75% in  160s   138.80 kB/s"
       ]
      },
      {
       "output_type": "stream",
       "stream": "stdout",
       "text": [
        "\r",
        " 22851584 of 30326502    75% in  160s   138.81 kB/s\r",
        " 22855680 of 30326502    75% in  160s   138.82 kB/s\r",
        " 22859776 of 30326502    75% in  160s   138.84 kB/s\r",
        " 22863872 of 30326502    75% in  160s   138.86 kB/s\r",
        " 22867968 of 30326502    75% in  160s   138.88 kB/s\r",
        " 22872064 of 30326502    75% in  160s   138.90 kB/s"
       ]
      },
      {
       "output_type": "stream",
       "stream": "stdout",
       "text": [
        "\r",
        " 22876160 of 30326502    75% in  160s   138.91 kB/s"
       ]
      },
      {
       "output_type": "stream",
       "stream": "stdout",
       "text": [
        "\r",
        " 22880256 of 30326502    75% in  160s   138.80 kB/s\r",
        " 22884352 of 30326502    75% in  160s   138.81 kB/s\r",
        " 22888448 of 30326502    75% in  161s   138.83 kB/s\r",
        " 22892544 of 30326502    75% in  161s   138.85 kB/s\r",
        " 22896640 of 30326502    75% in  161s   138.87 kB/s"
       ]
      },
      {
       "output_type": "stream",
       "stream": "stdout",
       "text": [
        "\r",
        " 22900736 of 30326502    75% in  161s   138.89 kB/s\r",
        " 22904832 of 30326502    75% in  161s   138.90 kB/s\r",
        " 22908928 of 30326502    75% in  161s   138.92 kB/s\r",
        " 22913024 of 30326502    75% in  161s   138.94 kB/s\r",
        " 22917120 of 30326502    75% in  161s   138.96 kB/s\r",
        " 22921216 of 30326502    75% in  161s   138.97 kB/s"
       ]
      },
      {
       "output_type": "stream",
       "stream": "stdout",
       "text": [
        "\r",
        " 22925312 of 30326502    75% in  161s   138.99 kB/s\r",
        " 22929408 of 30326502    75% in  161s   139.01 kB/s\r",
        " 22933504 of 30326502    75% in  161s   139.03 kB/s\r",
        " 22937600 of 30326502    75% in  161s   139.04 kB/s\r",
        " 22941696 of 30326502    75% in  161s   139.06 kB/s\r",
        " 22945792 of 30326502    75% in  161s   139.08 kB/s"
       ]
      },
      {
       "output_type": "stream",
       "stream": "stdout",
       "text": [
        "\r",
        " 22949888 of 30326502    75% in  161s   139.10 kB/s\r",
        " 22953984 of 30326502    75% in  161s   139.11 kB/s\r",
        " 22958080 of 30326502    75% in  161s   139.13 kB/s"
       ]
      },
      {
       "output_type": "stream",
       "stream": "stdout",
       "text": [
        "\r",
        " 22962176 of 30326502    75% in  161s   139.03 kB/s\r",
        " 22966272 of 30326502    75% in  161s   139.05 kB/s\r",
        " 22970368 of 30326502    75% in  161s   139.07 kB/s\r",
        " 22974464 of 30326502    75% in  161s   139.09 kB/s\r",
        " 22978560 of 30326502    75% in  161s   139.10 kB/s"
       ]
      },
      {
       "output_type": "stream",
       "stream": "stdout",
       "text": [
        "\r",
        " 22982656 of 30326502    75% in  161s   139.11 kB/s\r",
        " 22986752 of 30326502    75% in  161s   139.13 kB/s\r",
        " 22990848 of 30326502    75% in  161s   139.15 kB/s\r",
        " 22994944 of 30326502    75% in  161s   139.16 kB/s\r",
        " 22999040 of 30326502    75% in  161s   139.18 kB/s"
       ]
      },
      {
       "output_type": "stream",
       "stream": "stdout",
       "text": [
        "\r",
        " 23003136 of 30326502    75% in  161s   139.20 kB/s\r",
        " 23007232 of 30326502    75% in  161s   139.22 kB/s\r",
        " 23011328 of 30326502    75% in  161s   139.23 kB/s\r",
        " 23015424 of 30326502    75% in  161s   139.25 kB/s\r",
        " 23019520 of 30326502    75% in  161s   139.27 kB/s\r",
        " 23023616 of 30326502    75% in  161s   139.28 kB/s"
       ]
      },
      {
       "output_type": "stream",
       "stream": "stdout",
       "text": [
        "\r",
        " 23027712 of 30326502    75% in  161s   139.30 kB/s\r",
        " 23031808 of 30326502    75% in  161s   139.32 kB/s\r",
        " 23035904 of 30326502    75% in  161s   139.34 kB/s\r",
        " 23040000 of 30326502    75% in  161s   139.35 kB/s\r",
        " 23044096 of 30326502    75% in  161s   139.37 kB/s"
       ]
      },
      {
       "output_type": "stream",
       "stream": "stdout",
       "text": [
        "\r",
        " 23048192 of 30326502    76% in  161s   139.31 kB/s\r",
        " 23052288 of 30326502    76% in  161s   139.33 kB/s"
       ]
      },
      {
       "output_type": "stream",
       "stream": "stdout",
       "text": [
        "\r",
        " 23056384 of 30326502    76% in  161s   139.34 kB/s\r",
        " 23060480 of 30326502    76% in  161s   139.35 kB/s\r",
        " 23064576 of 30326502    76% in  161s   139.37 kB/s"
       ]
      },
      {
       "output_type": "stream",
       "stream": "stdout",
       "text": [
        "\r",
        " 23068672 of 30326502    76% in  161s   139.37 kB/s\r",
        " 23072768 of 30326502    76% in  161s   139.39 kB/s\r",
        " 23076864 of 30326502    76% in  161s   139.41 kB/s\r",
        " 23080960 of 30326502    76% in  161s   139.42 kB/s\r",
        " 23085056 of 30326502    76% in  161s   139.44 kB/s\r",
        " 23089152 of 30326502    76% in  161s   139.46 kB/s"
       ]
      },
      {
       "output_type": "stream",
       "stream": "stdout",
       "text": [
        "\r",
        " 23093248 of 30326502    76% in  161s   139.48 kB/s\r",
        " 23097344 of 30326502    76% in  161s   139.49 kB/s\r",
        " 23101440 of 30326502    76% in  161s   139.51 kB/s\r",
        " 23105536 of 30326502    76% in  161s   139.53 kB/s\r",
        " 23109632 of 30326502    76% in  161s   139.54 kB/s\r",
        " 23113728 of 30326502    76% in  161s   139.56 kB/s"
       ]
      },
      {
       "output_type": "stream",
       "stream": "stdout",
       "text": [
        "\r",
        " 23117824 of 30326502    76% in  161s   139.58 kB/s\r",
        " 23121920 of 30326502    76% in  161s   139.60 kB/s\r",
        " 23126016 of 30326502    76% in  161s   139.62 kB/s\r",
        " 23130112 of 30326502    76% in  161s   139.63 kB/s\r",
        " 23134208 of 30326502    76% in  161s   139.65 kB/s\r",
        " 23138304 of 30326502    76% in  161s   139.67 kB/s"
       ]
      },
      {
       "output_type": "stream",
       "stream": "stdout",
       "text": [
        "\r",
        " 23142400 of 30326502    76% in  161s   139.68 kB/s"
       ]
      },
      {
       "output_type": "stream",
       "stream": "stdout",
       "text": [
        "\r",
        " 23146496 of 30326502    76% in  161s   139.63 kB/s\r",
        " 23150592 of 30326502    76% in  161s   139.65 kB/s"
       ]
      },
      {
       "output_type": "stream",
       "stream": "stdout",
       "text": [
        "\r",
        " 23154688 of 30326502    76% in  161s   139.67 kB/s\r",
        " 23158784 of 30326502    76% in  161s   139.69 kB/s\r",
        " 23162880 of 30326502    76% in  161s   139.71 kB/s\r",
        " 23166976 of 30326502    76% in  161s   139.70 kB/s"
       ]
      },
      {
       "output_type": "stream",
       "stream": "stdout",
       "text": [
        "\r",
        " 23171072 of 30326502    76% in  161s   139.72 kB/s\r",
        " 23175168 of 30326502    76% in  161s   139.73 kB/s\r",
        " 23179264 of 30326502    76% in  161s   139.76 kB/s\r",
        " 23183360 of 30326502    76% in  161s   139.77 kB/s\r",
        " 23187456 of 30326502    76% in  161s   139.79 kB/s"
       ]
      },
      {
       "output_type": "stream",
       "stream": "stdout",
       "text": [
        "\r",
        " 23191552 of 30326502    76% in  161s   139.80 kB/s\r",
        " 23195648 of 30326502    76% in  162s   139.82 kB/s\r",
        " 23199744 of 30326502    76% in  162s   139.82 kB/s\r",
        " 23203840 of 30326502    76% in  162s   139.85 kB/s\r",
        " 23207936 of 30326502    76% in  162s   139.87 kB/s\r",
        " 23212032 of 30326502    76% in  162s   139.89 kB/s"
       ]
      },
      {
       "output_type": "stream",
       "stream": "stdout",
       "text": [
        "\r",
        " 23216128 of 30326502    76% in  162s   139.89 kB/s\r",
        " 23220224 of 30326502    76% in  162s   139.91 kB/s\r",
        " 23224320 of 30326502    76% in  162s   139.93 kB/s\r",
        " 23228416 of 30326502    76% in  162s   139.95 kB/s\r",
        " 23232512 of 30326502    76% in  162s   139.98 kB/s\r",
        " 23236608 of 30326502    76% in  162s   140.00 kB/s\r",
        " 23240704 of 30326502    76% in  162s   140.02 kB/s"
       ]
      },
      {
       "output_type": "stream",
       "stream": "stdout",
       "text": [
        "\r",
        " 23244800 of 30326502    76% in  162s   140.03 kB/s\r",
        " 23248896 of 30326502    76% in  162s   140.05 kB/s"
       ]
      },
      {
       "output_type": "stream",
       "stream": "stdout",
       "text": [
        "\r",
        " 23252992 of 30326502    76% in  162s   140.01 kB/s\r",
        " 23257088 of 30326502    76% in  162s   140.03 kB/s\r",
        " 23261184 of 30326502    76% in  162s   140.05 kB/s"
       ]
      },
      {
       "output_type": "stream",
       "stream": "stdout",
       "text": [
        "\r",
        " 23265280 of 30326502    76% in  162s   140.07 kB/s\r",
        " 23269376 of 30326502    76% in  162s   140.08 kB/s\r",
        " 23273472 of 30326502    76% in  162s   140.10 kB/s\r",
        " 23277568 of 30326502    76% in  162s   140.10 kB/s"
       ]
      },
      {
       "output_type": "stream",
       "stream": "stdout",
       "text": [
        "\r",
        " 23281664 of 30326502    76% in  162s   140.12 kB/s\r",
        " 23285760 of 30326502    76% in  162s   140.14 kB/s\r",
        " 23289856 of 30326502    76% in  162s   140.15 kB/s\r",
        " 23293952 of 30326502    76% in  162s   140.18 kB/s\r",
        " 23298048 of 30326502    76% in  162s   140.19 kB/s"
       ]
      },
      {
       "output_type": "stream",
       "stream": "stdout",
       "text": [
        "\r",
        " 23302144 of 30326502    76% in  162s   140.20 kB/s\r",
        " 23306240 of 30326502    76% in  162s   140.22 kB/s\r",
        " 23310336 of 30326502    76% in  162s   140.24 kB/s\r",
        " 23314432 of 30326502    76% in  162s   140.26 kB/s\r",
        " 23318528 of 30326502    76% in  162s   140.28 kB/s"
       ]
      },
      {
       "output_type": "stream",
       "stream": "stdout",
       "text": [
        "\r",
        " 23322624 of 30326502    76% in  162s   139.98 kB/s\r",
        " 23326720 of 30326502    76% in  162s   140.01 kB/s\r",
        " 23330816 of 30326502    76% in  162s   140.03 kB/s\r",
        " 23334912 of 30326502    76% in  162s   140.06 kB/s\r",
        " 23339008 of 30326502    76% in  162s   140.08 kB/s\r",
        " 23343104 of 30326502    76% in  162s   140.11 kB/s\r",
        " 23347200 of 30326502    76% in  162s   140.13 kB/s\r",
        " 23351296 of 30326502    76% in  162s   140.15 kB/s\r",
        " 23355392 of 30326502    77% in  162s   140.18 kB/s\r",
        " 23359488 of 30326502    77% in  162s   140.20 kB/s\r",
        " 23363584 of 30326502    77% in  162s   140.23 kB/s\r",
        " 23367680 of 30326502    77% in  162s   140.25 kB/s\r",
        " 23371776 of 30326502    77% in  162s   140.28 kB/s\r",
        " 23375872 of 30326502    77% in  162s   140.30 kB/s\r",
        " 23379968 of 30326502    77% in  162s   140.33 kB/s\r",
        " 23384064 of 30326502    77% in  162s   140.35 kB/s\r",
        " 23388160 of 30326502    77% in  162s   140.37 kB/s\r",
        " 23392256 of 30326502    77% in  162s   140.40 kB/s\r",
        " 23396352 of 30326502    77% in  162s   140.42 kB/s\r",
        " 23400448 of 30326502    77% in  162s   140.45 kB/s\r",
        " 23404544 of 30326502    77% in  162s   140.47 kB/s\r",
        " 23408640 of 30326502    77% in  162s   140.50 kB/s\r",
        " 23412736 of 30326502    77% in  162s   140.52 kB/s\r",
        " 23416832 of 30326502    77% in  162s   140.55 kB/s\r",
        " 23420928 of 30326502    77% in  162s   140.57 kB/s\r",
        " 23425024 of 30326502    77% in  162s   140.59 kB/s\r",
        " 23429120 of 30326502    77% in  162s   140.62 kB/s\r",
        " 23433216 of 30326502    77% in  162s   140.64 kB/s\r",
        " 23437312 of 30326502    77% in  162s   140.67 kB/s\r",
        " 23441408 of 30326502    77% in  162s   140.69 kB/s\r",
        " 23445504 of 30326502    77% in  162s   140.72 kB/s\r",
        " 23449600 of 30326502    77% in  162s   140.74 kB/s\r",
        " 23453696 of 30326502    77% in  162s   140.77 kB/s\r",
        " 23457792 of 30326502    77% in  162s   140.79 kB/s\r",
        " 23461888 of 30326502    77% in  162s   140.81 kB/s\r",
        " 23465984 of 30326502    77% in  162s   140.84 kB/s"
       ]
      },
      {
       "output_type": "stream",
       "stream": "stdout",
       "text": [
        "\r",
        " 23470080 of 30326502    77% in  162s   140.86 kB/s"
       ]
      },
      {
       "output_type": "stream",
       "stream": "stdout",
       "text": [
        "\r",
        " 23474176 of 30326502    77% in  162s   140.77 kB/s"
       ]
      },
      {
       "output_type": "stream",
       "stream": "stdout",
       "text": [
        "\r",
        " 23478272 of 30326502    77% in  163s   140.63 kB/s"
       ]
      },
      {
       "output_type": "stream",
       "stream": "stdout",
       "text": [
        "\r",
        " 23482368 of 30326502    77% in  163s   140.55 kB/s\r",
        " 23486464 of 30326502    77% in  163s   140.56 kB/s"
       ]
      },
      {
       "output_type": "stream",
       "stream": "stdout",
       "text": [
        "\r",
        " 23490560 of 30326502    77% in  163s   140.58 kB/s\r",
        " 23494656 of 30326502    77% in  163s   140.60 kB/s\r",
        " 23498752 of 30326502    77% in  163s   140.62 kB/s\r",
        " 23502848 of 30326502    77% in  163s   140.63 kB/s\r",
        " 23506944 of 30326502    77% in  163s   140.65 kB/s\r",
        " 23511040 of 30326502    77% in  163s   140.67 kB/s"
       ]
      },
      {
       "output_type": "stream",
       "stream": "stdout",
       "text": [
        "\r",
        " 23515136 of 30326502    77% in  163s   140.68 kB/s"
       ]
      },
      {
       "output_type": "stream",
       "stream": "stdout",
       "text": [
        "\r",
        " 23519232 of 30326502    77% in  163s   140.47 kB/s\r",
        " 23523328 of 30326502    77% in  163s   140.49 kB/s\r",
        " 23527424 of 30326502    77% in  163s   140.50 kB/s"
       ]
      },
      {
       "output_type": "stream",
       "stream": "stdout",
       "text": [
        "\r",
        " 23531520 of 30326502    77% in  163s   140.52 kB/s\r",
        " 23535616 of 30326502    77% in  163s   140.54 kB/s\r",
        " 23539712 of 30326502    77% in  163s   140.55 kB/s\r",
        " 23543808 of 30326502    77% in  163s   140.57 kB/s\r",
        " 23547904 of 30326502    77% in  163s   140.59 kB/s\r",
        " 23552000 of 30326502    77% in  163s   140.61 kB/s"
       ]
      },
      {
       "output_type": "stream",
       "stream": "stdout",
       "text": [
        "\r",
        " 23556096 of 30326502    77% in  163s   140.62 kB/s\r",
        " 23560192 of 30326502    77% in  163s   140.64 kB/s"
       ]
      },
      {
       "output_type": "stream",
       "stream": "stdout",
       "text": [
        "\r",
        " 23564288 of 30326502    77% in  163s   140.47 kB/s\r",
        " 23568384 of 30326502    77% in  163s   140.49 kB/s"
       ]
      },
      {
       "output_type": "stream",
       "stream": "stdout",
       "text": [
        "\r",
        " 23572480 of 30326502    77% in  163s   140.50 kB/s\r",
        " 23576576 of 30326502    77% in  163s   140.52 kB/s\r",
        " 23580672 of 30326502    77% in  163s   140.54 kB/s\r",
        " 23584768 of 30326502    77% in  163s   140.56 kB/s\r",
        " 23588864 of 30326502    77% in  163s   140.57 kB/s"
       ]
      },
      {
       "output_type": "stream",
       "stream": "stdout",
       "text": [
        "\r",
        " 23592960 of 30326502    77% in  163s   140.58 kB/s\r",
        " 23597056 of 30326502    77% in  163s   140.60 kB/s\r",
        " 23601152 of 30326502    77% in  163s   140.62 kB/s\r",
        " 23605248 of 30326502    77% in  163s   140.64 kB/s\r",
        " 23609344 of 30326502    77% in  163s   140.66 kB/s\r",
        " 23613440 of 30326502    77% in  163s   140.68 kB/s\r",
        " 23617536 of 30326502    77% in  163s   140.69 kB/s\r",
        " 23621632 of 30326502    77% in  163s   140.71 kB/s"
       ]
      },
      {
       "output_type": "stream",
       "stream": "stdout",
       "text": [
        "\r",
        " 23625728 of 30326502    77% in  163s   140.73 kB/s\r",
        " 23629824 of 30326502    77% in  163s   140.75 kB/s\r",
        " 23633920 of 30326502    77% in  163s   140.76 kB/s"
       ]
      },
      {
       "output_type": "stream",
       "stream": "stdout",
       "text": [
        "\r",
        " 23638016 of 30326502    77% in  164s   140.64 kB/s\r",
        " 23642112 of 30326502    77% in  164s   140.66 kB/s"
       ]
      },
      {
       "output_type": "stream",
       "stream": "stdout",
       "text": [
        "\r",
        " 23646208 of 30326502    77% in  164s   140.67 kB/s\r",
        " 23650304 of 30326502    77% in  164s   140.68 kB/s\r",
        " 23654400 of 30326502    77% in  164s   140.71 kB/s\r",
        " 23658496 of 30326502    78% in  164s   140.73 kB/s\r",
        " 23662592 of 30326502    78% in  164s   140.74 kB/s\r",
        " 23666688 of 30326502    78% in  164s   140.76 kB/s"
       ]
      },
      {
       "output_type": "stream",
       "stream": "stdout",
       "text": [
        "\r",
        " 23670784 of 30326502    78% in  164s   140.78 kB/s\r",
        " 23674880 of 30326502    78% in  164s   140.79 kB/s\r",
        " 23678976 of 30326502    78% in  164s   140.81 kB/s\r",
        " 23683072 of 30326502    78% in  164s   140.83 kB/s\r",
        " 23687168 of 30326502    78% in  164s   140.85 kB/s\r",
        " 23691264 of 30326502    78% in  164s   140.86 kB/s"
       ]
      },
      {
       "output_type": "stream",
       "stream": "stdout",
       "text": [
        "\r",
        " 23695360 of 30326502    78% in  164s   140.88 kB/s\r",
        " 23699456 of 30326502    78% in  164s   140.90 kB/s\r",
        " 23703552 of 30326502    78% in  164s   140.91 kB/s\r",
        " 23707648 of 30326502    78% in  164s   140.93 kB/s\r",
        " 23711744 of 30326502    78% in  164s   140.95 kB/s\r",
        " 23715840 of 30326502    78% in  164s   140.97 kB/s"
       ]
      },
      {
       "output_type": "stream",
       "stream": "stdout",
       "text": [
        "\r",
        " 23719936 of 30326502    78% in  164s   140.98 kB/s\r",
        " 23724032 of 30326502    78% in  164s   141.00 kB/s\r",
        " 23728128 of 30326502    78% in  164s   141.02 kB/s\r",
        " 23732224 of 30326502    78% in  164s   141.03 kB/s\r",
        " 23736320 of 30326502    78% in  164s   141.05 kB/s\r",
        " 23740416 of 30326502    78% in  164s   141.07 kB/s"
       ]
      },
      {
       "output_type": "stream",
       "stream": "stdout",
       "text": [
        "\r",
        " 23744512 of 30326502    78% in  164s   140.77 kB/s\r",
        " 23748608 of 30326502    78% in  164s   140.79 kB/s\r",
        " 23752704 of 30326502    78% in  164s   140.82 kB/s\r",
        " 23756800 of 30326502    78% in  164s   140.84 kB/s\r",
        " 23760896 of 30326502    78% in  164s   140.87 kB/s\r",
        " 23764992 of 30326502    78% in  164s   140.89 kB/s\r",
        " 23769088 of 30326502    78% in  164s   140.91 kB/s\r",
        " 23773184 of 30326502    78% in  164s   140.94 kB/s\r",
        " 23777280 of 30326502    78% in  164s   140.96 kB/s\r",
        " 23781376 of 30326502    78% in  164s   140.99 kB/s\r",
        " 23785472 of 30326502    78% in  164s   141.01 kB/s\r",
        " 23789568 of 30326502    78% in  164s   141.04 kB/s\r",
        " 23793664 of 30326502    78% in  164s   141.06 kB/s\r",
        " 23797760 of 30326502    78% in  164s   141.08 kB/s\r",
        " 23801856 of 30326502    78% in  164s   141.11 kB/s\r",
        " 23805952 of 30326502    78% in  164s   141.13 kB/s\r",
        " 23810048 of 30326502    78% in  164s   141.16 kB/s\r",
        " 23814144 of 30326502    78% in  164s   141.18 kB/s\r",
        " 23818240 of 30326502    78% in  164s   141.20 kB/s\r",
        " 23822336 of 30326502    78% in  164s   141.23 kB/s\r",
        " 23826432 of 30326502    78% in  164s   141.25 kB/s\r",
        " 23830528 of 30326502    78% in  164s   141.28 kB/s\r",
        " 23834624 of 30326502    78% in  164s   141.30 kB/s\r",
        " 23838720 of 30326502    78% in  164s   141.33 kB/s\r",
        " 23842816 of 30326502    78% in  164s   141.35 kB/s\r",
        " 23846912 of 30326502    78% in  164s   141.37 kB/s\r",
        " 23851008 of 30326502    78% in  164s   141.40 kB/s\r",
        " 23855104 of 30326502    78% in  164s   141.42 kB/s\r",
        " 23859200 of 30326502    78% in  164s   141.45 kB/s\r",
        " 23863296 of 30326502    78% in  164s   141.47 kB/s\r",
        " 23867392 of 30326502    78% in  164s   141.49 kB/s\r",
        " 23871488 of 30326502    78% in  164s   141.52 kB/s\r",
        " 23875584 of 30326502    78% in  164s   141.54 kB/s\r",
        " 23879680 of 30326502    78% in  164s   141.57 kB/s"
       ]
      },
      {
       "output_type": "stream",
       "stream": "stdout",
       "text": [
        "\r",
        " 23883776 of 30326502    78% in  164s   141.56 kB/s\r",
        " 23887872 of 30326502    78% in  164s   141.57 kB/s\r",
        " 23891968 of 30326502    78% in  164s   141.58 kB/s"
       ]
      },
      {
       "output_type": "stream",
       "stream": "stdout",
       "text": [
        "\r",
        " 23896064 of 30326502    78% in  164s   141.59 kB/s\r",
        " 23900160 of 30326502    78% in  164s   141.60 kB/s\r",
        " 23904256 of 30326502    78% in  164s   141.61 kB/s"
       ]
      },
      {
       "output_type": "stream",
       "stream": "stdout",
       "text": [
        "\r",
        " 23908352 of 30326502    78% in  164s   141.61 kB/s\r",
        " 23912448 of 30326502    78% in  164s   141.63 kB/s\r",
        " 23916544 of 30326502    78% in  164s   141.65 kB/s\r",
        " 23920640 of 30326502    78% in  164s   141.66 kB/s\r",
        " 23924736 of 30326502    78% in  164s   141.68 kB/s"
       ]
      },
      {
       "output_type": "stream",
       "stream": "stdout",
       "text": [
        "\r",
        " 23928832 of 30326502    78% in  164s   141.70 kB/s\r",
        " 23932928 of 30326502    78% in  164s   141.71 kB/s\r",
        " 23937024 of 30326502    78% in  164s   141.73 kB/s\r",
        " 23941120 of 30326502    78% in  164s   141.75 kB/s\r",
        " 23945216 of 30326502    78% in  164s   141.77 kB/s\r",
        " 23949312 of 30326502    78% in  164s   141.78 kB/s"
       ]
      },
      {
       "output_type": "stream",
       "stream": "stdout",
       "text": [
        "\r",
        " 23953408 of 30326502    78% in  164s   141.80 kB/s\r",
        " 23957504 of 30326502    78% in  164s   141.82 kB/s\r",
        " 23961600 of 30326502    79% in  164s   141.83 kB/s\r",
        " 23965696 of 30326502    79% in  164s   141.85 kB/s\r",
        " 23969792 of 30326502    79% in  165s   141.87 kB/s\r",
        " 23973888 of 30326502    79% in  165s   141.88 kB/s"
       ]
      },
      {
       "output_type": "stream",
       "stream": "stdout",
       "text": [
        "\r",
        " 23977984 of 30326502    79% in  165s   141.90 kB/s\r",
        " 23982080 of 30326502    79% in  165s   141.92 kB/s\r",
        " 23986176 of 30326502    79% in  165s   141.93 kB/s\r",
        " 23990272 of 30326502    79% in  165s   141.95 kB/s"
       ]
      },
      {
       "output_type": "stream",
       "stream": "stdout",
       "text": [
        "\r",
        " 23994368 of 30326502    79% in  165s   141.94 kB/s\r",
        " 23998464 of 30326502    79% in  165s   141.94 kB/s"
       ]
      },
      {
       "output_type": "stream",
       "stream": "stdout",
       "text": [
        "\r",
        " 24002560 of 30326502    79% in  165s   141.96 kB/s\r",
        " 24006656 of 30326502    79% in  165s   141.97 kB/s\r",
        " 24010752 of 30326502    79% in  165s   141.98 kB/s\r",
        " 24014848 of 30326502    79% in  165s   142.00 kB/s"
       ]
      },
      {
       "output_type": "stream",
       "stream": "stdout",
       "text": [
        "\r",
        " 24018944 of 30326502    79% in  165s   142.00 kB/s\r",
        " 24023040 of 30326502    79% in  165s   142.02 kB/s\r",
        " 24027136 of 30326502    79% in  165s   142.03 kB/s\r",
        " 24031232 of 30326502    79% in  165s   142.05 kB/s"
       ]
      },
      {
       "output_type": "stream",
       "stream": "stdout",
       "text": [
        "\r",
        " 24035328 of 30326502    79% in  165s   142.06 kB/s\r",
        " 24039424 of 30326502    79% in  165s   142.08 kB/s\r",
        " 24043520 of 30326502    79% in  165s   142.10 kB/s\r",
        " 24047616 of 30326502    79% in  165s   142.12 kB/s\r",
        " 24051712 of 30326502    79% in  165s   142.13 kB/s\r",
        " 24055808 of 30326502    79% in  165s   142.15 kB/s"
       ]
      },
      {
       "output_type": "stream",
       "stream": "stdout",
       "text": [
        "\r",
        " 24059904 of 30326502    79% in  165s   142.17 kB/s\r",
        " 24064000 of 30326502    79% in  165s   142.18 kB/s\r",
        " 24068096 of 30326502    79% in  165s   142.20 kB/s\r",
        " 24072192 of 30326502    79% in  165s   142.22 kB/s\r",
        " 24076288 of 30326502    79% in  165s   142.24 kB/s\r",
        " 24080384 of 30326502    79% in  165s   142.25 kB/s"
       ]
      },
      {
       "output_type": "stream",
       "stream": "stdout",
       "text": [
        "\r",
        " 24084480 of 30326502    79% in  165s   142.27 kB/s\r",
        " 24088576 of 30326502    79% in  165s   142.28 kB/s\r",
        " 24092672 of 30326502    79% in  165s   142.30 kB/s\r",
        " 24096768 of 30326502    79% in  165s   142.32 kB/s\r",
        " 24100864 of 30326502    79% in  165s   142.34 kB/s\r",
        " 24104960 of 30326502    79% in  165s   142.35 kB/s"
       ]
      },
      {
       "output_type": "stream",
       "stream": "stdout",
       "text": [
        "\r",
        " 24109056 of 30326502    79% in  165s   142.36 kB/s\r",
        " 24113152 of 30326502    79% in  165s   142.37 kB/s"
       ]
      },
      {
       "output_type": "stream",
       "stream": "stdout",
       "text": [
        "\r",
        " 24117248 of 30326502    79% in  165s   142.37 kB/s\r",
        " 24121344 of 30326502    79% in  165s   142.39 kB/s\r",
        " 24125440 of 30326502    79% in  165s   142.40 kB/s\r",
        " 24129536 of 30326502    79% in  165s   142.41 kB/s"
       ]
      },
      {
       "output_type": "stream",
       "stream": "stdout",
       "text": [
        "\r",
        " 24133632 of 30326502    79% in  165s   142.42 kB/s\r",
        " 24137728 of 30326502    79% in  165s   142.43 kB/s\r",
        " 24141824 of 30326502    79% in  165s   142.44 kB/s\r",
        " 24145920 of 30326502    79% in  165s   142.46 kB/s"
       ]
      },
      {
       "output_type": "stream",
       "stream": "stdout",
       "text": [
        "\r",
        " 24150016 of 30326502    79% in  165s   142.48 kB/s\r",
        " 24154112 of 30326502    79% in  165s   142.49 kB/s\r",
        " 24158208 of 30326502    79% in  165s   142.51 kB/s\r",
        " 24162304 of 30326502    79% in  165s   142.53 kB/s\r",
        " 24166400 of 30326502    79% in  165s   142.54 kB/s\r",
        " 24170496 of 30326502    79% in  165s   142.56 kB/s"
       ]
      },
      {
       "output_type": "stream",
       "stream": "stdout",
       "text": [
        "\r",
        " 24174592 of 30326502    79% in  165s   142.58 kB/s\r",
        " 24178688 of 30326502    79% in  165s   142.59 kB/s\r",
        " 24182784 of 30326502    79% in  165s   142.61 kB/s\r",
        " 24186880 of 30326502    79% in  165s   142.63 kB/s\r",
        " 24190976 of 30326502    79% in  165s   142.64 kB/s\r",
        " 24195072 of 30326502    79% in  165s   142.66 kB/s"
       ]
      },
      {
       "output_type": "stream",
       "stream": "stdout",
       "text": [
        "\r",
        " 24199168 of 30326502    79% in  165s   142.68 kB/s\r",
        " 24203264 of 30326502    79% in  165s   142.70 kB/s\r",
        " 24207360 of 30326502    79% in  165s   142.71 kB/s\r",
        " 24211456 of 30326502    79% in  165s   142.73 kB/s\r",
        " 24215552 of 30326502    79% in  165s   142.75 kB/s\r",
        " 24219648 of 30326502    79% in  165s   142.76 kB/s"
       ]
      },
      {
       "output_type": "stream",
       "stream": "stdout",
       "text": [
        "\r",
        " 24223744 of 30326502    79% in  165s   142.78 kB/s\r",
        " 24227840 of 30326502    79% in  165s   142.79 kB/s\r",
        " 24231936 of 30326502    79% in  165s   142.81 kB/s"
       ]
      },
      {
       "output_type": "stream",
       "stream": "stdout",
       "text": [
        "\r",
        " 24236032 of 30326502    79% in  165s   142.81 kB/s\r",
        " 24240128 of 30326502    79% in  165s   142.81 kB/s\r",
        " 24244224 of 30326502    79% in  165s   142.82 kB/s"
       ]
      },
      {
       "output_type": "stream",
       "stream": "stdout",
       "text": [
        "\r",
        " 24248320 of 30326502    79% in  165s   142.84 kB/s\r",
        " 24252416 of 30326502    79% in  165s   142.85 kB/s\r",
        " 24256512 of 30326502    79% in  165s   142.87 kB/s\r",
        " 24260608 of 30326502    79% in  165s   142.89 kB/s\r",
        " 24264704 of 30326502    80% in  165s   142.90 kB/s\r",
        " 24268800 of 30326502    80% in  165s   142.92 kB/s"
       ]
      },
      {
       "output_type": "stream",
       "stream": "stdout",
       "text": [
        "\r",
        " 24272896 of 30326502    80% in  165s   142.93 kB/s\r",
        " 24276992 of 30326502    80% in  165s   142.95 kB/s\r",
        " 24281088 of 30326502    80% in  165s   142.96 kB/s\r",
        " 24285184 of 30326502    80% in  165s   142.98 kB/s\r",
        " 24289280 of 30326502    80% in  165s   143.00 kB/s"
       ]
      },
      {
       "output_type": "stream",
       "stream": "stdout",
       "text": [
        "\r",
        " 24293376 of 30326502    80% in  165s   143.01 kB/s\r",
        " 24297472 of 30326502    80% in  165s   143.03 kB/s\r",
        " 24301568 of 30326502    80% in  165s   143.05 kB/s\r",
        " 24305664 of 30326502    80% in  165s   143.06 kB/s\r",
        " 24309760 of 30326502    80% in  165s   143.08 kB/s\r",
        " 24313856 of 30326502    80% in  165s   143.10 kB/s"
       ]
      },
      {
       "output_type": "stream",
       "stream": "stdout",
       "text": [
        "\r",
        " 24317952 of 30326502    80% in  165s   143.11 kB/s\r",
        " 24322048 of 30326502    80% in  165s   143.13 kB/s\r",
        " 24326144 of 30326502    80% in  165s   143.15 kB/s\r",
        " 24330240 of 30326502    80% in  165s   143.17 kB/s\r",
        " 24334336 of 30326502    80% in  165s   143.18 kB/s\r",
        " 24338432 of 30326502    80% in  165s   143.20 kB/s"
       ]
      },
      {
       "output_type": "stream",
       "stream": "stdout",
       "text": [
        "\r",
        " 24342528 of 30326502    80% in  165s   143.22 kB/s\r",
        " 24346624 of 30326502    80% in  165s   143.23 kB/s\r",
        " 24350720 of 30326502    80% in  166s   143.25 kB/s\r",
        " 24354816 of 30326502    80% in  166s   143.27 kB/s\r",
        " 24358912 of 30326502    80% in  166s   143.27 kB/s"
       ]
      },
      {
       "output_type": "stream",
       "stream": "stdout",
       "text": [
        "\r",
        " 24363008 of 30326502    80% in  166s   143.26 kB/s\r",
        " 24367104 of 30326502    80% in  166s   143.28 kB/s\r",
        " 24371200 of 30326502    80% in  166s   143.30 kB/s"
       ]
      },
      {
       "output_type": "stream",
       "stream": "stdout",
       "text": [
        "\r",
        " 24375296 of 30326502    80% in  166s   143.31 kB/s\r",
        " 24379392 of 30326502    80% in  166s   143.33 kB/s\r",
        " 24383488 of 30326502    80% in  166s   143.34 kB/s\r",
        " 24387584 of 30326502    80% in  166s   143.36 kB/s\r",
        " 24391680 of 30326502    80% in  166s   143.38 kB/s"
       ]
      },
      {
       "output_type": "stream",
       "stream": "stdout",
       "text": [
        "\r",
        " 24395776 of 30326502    80% in  166s   143.39 kB/s\r",
        " 24399872 of 30326502    80% in  166s   143.41 kB/s\r",
        " 24403968 of 30326502    80% in  166s   143.42 kB/s\r",
        " 24408064 of 30326502    80% in  166s   143.44 kB/s\r",
        " 24412160 of 30326502    80% in  166s   143.46 kB/s"
       ]
      },
      {
       "output_type": "stream",
       "stream": "stdout",
       "text": [
        "\r",
        " 24416256 of 30326502    80% in  166s   143.48 kB/s\r",
        " 24420352 of 30326502    80% in  166s   143.49 kB/s\r",
        " 24424448 of 30326502    80% in  166s   143.51 kB/s\r",
        " 24428544 of 30326502    80% in  166s   143.52 kB/s\r",
        " 24432640 of 30326502    80% in  166s   143.54 kB/s"
       ]
      },
      {
       "output_type": "stream",
       "stream": "stdout",
       "text": [
        "\r",
        " 24436736 of 30326502    80% in  166s   143.55 kB/s\r",
        " 24440832 of 30326502    80% in  166s   143.57 kB/s\r",
        " 24444928 of 30326502    80% in  166s   143.59 kB/s\r",
        " 24449024 of 30326502    80% in  166s   143.61 kB/s\r",
        " 24453120 of 30326502    80% in  166s   143.62 kB/s\r",
        " 24457216 of 30326502    80% in  166s   143.64 kB/s\r",
        " 24461312 of 30326502    80% in  166s   143.65 kB/s"
       ]
      },
      {
       "output_type": "stream",
       "stream": "stdout",
       "text": [
        "\r",
        " 24465408 of 30326502    80% in  166s   143.67 kB/s\r",
        " 24469504 of 30326502    80% in  166s   143.69 kB/s\r",
        " 24473600 of 30326502    80% in  166s   143.71 kB/s\r",
        " 24477696 of 30326502    80% in  166s   143.72 kB/s\r",
        " 24481792 of 30326502    80% in  166s   143.74 kB/s\r",
        " 24485888 of 30326502    80% in  166s   143.75 kB/s"
       ]
      },
      {
       "output_type": "stream",
       "stream": "stdout",
       "text": [
        "\r",
        " 24489984 of 30326502    80% in  166s   143.75 kB/s\r",
        " 24494080 of 30326502    80% in  166s   143.76 kB/s\r",
        " 24498176 of 30326502    80% in  166s   143.78 kB/s"
       ]
      },
      {
       "output_type": "stream",
       "stream": "stdout",
       "text": [
        "\r",
        " 24502272 of 30326502    80% in  166s   143.80 kB/s\r",
        " 24506368 of 30326502    80% in  166s   143.81 kB/s\r",
        " 24510464 of 30326502    80% in  166s   143.83 kB/s\r",
        " 24514560 of 30326502    80% in  166s   143.84 kB/s"
       ]
      },
      {
       "output_type": "stream",
       "stream": "stdout",
       "text": [
        "\r",
        " 24518656 of 30326502    80% in  166s   143.86 kB/s\r",
        " 24522752 of 30326502    80% in  166s   143.87 kB/s\r",
        " 24526848 of 30326502    80% in  166s   143.89 kB/s\r",
        " 24530944 of 30326502    80% in  166s   143.90 kB/s\r",
        " 24535040 of 30326502    80% in  166s   143.92 kB/s\r",
        " 24539136 of 30326502    80% in  166s   143.93 kB/s"
       ]
      },
      {
       "output_type": "stream",
       "stream": "stdout",
       "text": [
        "\r",
        " 24543232 of 30326502    80% in  166s   143.95 kB/s\r",
        " 24547328 of 30326502    80% in  166s   143.97 kB/s\r",
        " 24551424 of 30326502    80% in  166s   143.99 kB/s\r",
        " 24555520 of 30326502    80% in  166s   144.00 kB/s"
       ]
      },
      {
       "output_type": "stream",
       "stream": "stdout",
       "text": [
        "\r",
        " 24559616 of 30326502    80% in  166s   143.75 kB/s\r",
        " 24563712 of 30326502    80% in  166s   143.77 kB/s\r",
        " 24567808 of 30326502    81% in  166s   143.80 kB/s\r",
        " 24571904 of 30326502    81% in  166s   143.82 kB/s\r",
        " 24576000 of 30326502    81% in  166s   143.85 kB/s\r",
        " 24580096 of 30326502    81% in  166s   143.87 kB/s\r",
        " 24584192 of 30326502    81% in  166s   143.89 kB/s\r",
        " 24588288 of 30326502    81% in  166s   143.92 kB/s\r",
        " 24592384 of 30326502    81% in  166s   143.94 kB/s\r",
        " 24596480 of 30326502    81% in  166s   143.97 kB/s\r",
        " 24600576 of 30326502    81% in  166s   143.99 kB/s\r",
        " 24604672 of 30326502    81% in  166s   144.01 kB/s\r",
        " 24608768 of 30326502    81% in  166s   144.04 kB/s\r",
        " 24612864 of 30326502    81% in  166s   144.06 kB/s\r",
        " 24616960 of 30326502    81% in  166s   144.09 kB/s\r",
        " 24621056 of 30326502    81% in  166s   144.11 kB/s\r",
        " 24625152 of 30326502    81% in  166s   144.13 kB/s\r",
        " 24629248 of 30326502    81% in  166s   144.16 kB/s\r",
        " 24633344 of 30326502    81% in  166s   144.18 kB/s\r",
        " 24637440 of 30326502    81% in  166s   144.20 kB/s\r",
        " 24641536 of 30326502    81% in  166s   144.23 kB/s\r",
        " 24645632 of 30326502    81% in  166s   144.25 kB/s\r",
        " 24649728 of 30326502    81% in  166s   144.28 kB/s\r",
        " 24653824 of 30326502    81% in  166s   144.30 kB/s\r",
        " 24657920 of 30326502    81% in  166s   144.32 kB/s\r",
        " 24662016 of 30326502    81% in  166s   144.35 kB/s\r",
        " 24666112 of 30326502    81% in  166s   144.37 kB/s\r",
        " 24670208 of 30326502    81% in  166s   144.40 kB/s\r",
        " 24674304 of 30326502    81% in  166s   144.42 kB/s\r",
        " 24678400 of 30326502    81% in  166s   144.44 kB/s\r",
        " 24682496 of 30326502    81% in  166s   144.47 kB/s\r",
        " 24686592 of 30326502    81% in  166s   144.49 kB/s"
       ]
      },
      {
       "output_type": "stream",
       "stream": "stdout",
       "text": [
        "\r",
        " 24690688 of 30326502    81% in  166s   144.51 kB/s\r",
        " 24694784 of 30326502    81% in  166s   144.52 kB/s\r",
        " 24698880 of 30326502    81% in  166s   144.53 kB/s"
       ]
      },
      {
       "output_type": "stream",
       "stream": "stdout",
       "text": [
        "\r",
        " 24702976 of 30326502    81% in  166s   144.51 kB/s\r",
        " 24707072 of 30326502    81% in  166s   144.52 kB/s"
       ]
      },
      {
       "output_type": "stream",
       "stream": "stdout",
       "text": [
        "\r",
        " 24711168 of 30326502    81% in  166s   144.53 kB/s\r",
        " 24715264 of 30326502    81% in  166s   144.55 kB/s\r",
        " 24719360 of 30326502    81% in  166s   144.56 kB/s\r",
        " 24723456 of 30326502    81% in  166s   144.58 kB/s"
       ]
      },
      {
       "output_type": "stream",
       "stream": "stdout",
       "text": [
        "\r",
        " 24727552 of 30326502    81% in  167s   144.59 kB/s\r",
        " 24731648 of 30326502    81% in  167s   144.61 kB/s\r",
        " 24735744 of 30326502    81% in  167s   144.63 kB/s\r",
        " 24739840 of 30326502    81% in  167s   144.63 kB/s\r",
        " 24743936 of 30326502    81% in  167s   144.65 kB/s"
       ]
      },
      {
       "output_type": "stream",
       "stream": "stdout",
       "text": [
        "\r",
        " 24748032 of 30326502    81% in  167s   144.67 kB/s\r",
        " 24752128 of 30326502    81% in  167s   144.68 kB/s\r",
        " 24756224 of 30326502    81% in  167s   144.70 kB/s\r",
        " 24760320 of 30326502    81% in  167s   144.72 kB/s\r",
        " 24764416 of 30326502    81% in  167s   144.73 kB/s\r",
        " 24768512 of 30326502    81% in  167s   144.75 kB/s"
       ]
      },
      {
       "output_type": "stream",
       "stream": "stdout",
       "text": [
        "\r",
        " 24772608 of 30326502    81% in  167s   144.76 kB/s\r",
        " 24776704 of 30326502    81% in  167s   144.78 kB/s\r",
        " 24780800 of 30326502    81% in  167s   144.80 kB/s\r",
        " 24784896 of 30326502    81% in  167s   144.82 kB/s\r",
        " 24788992 of 30326502    81% in  167s   144.83 kB/s\r",
        " 24793088 of 30326502    81% in  167s   144.85 kB/s"
       ]
      },
      {
       "output_type": "stream",
       "stream": "stdout",
       "text": [
        "\r",
        " 24797184 of 30326502    81% in  167s   144.87 kB/s\r",
        " 24801280 of 30326502    81% in  167s   144.88 kB/s"
       ]
      },
      {
       "output_type": "stream",
       "stream": "stdout",
       "text": [
        "\r",
        " 24805376 of 30326502    81% in  167s   144.86 kB/s\r",
        " 24809472 of 30326502    81% in  167s   144.87 kB/s\r",
        " 24813568 of 30326502    81% in  167s   144.88 kB/s"
       ]
      },
      {
       "output_type": "stream",
       "stream": "stdout",
       "text": [
        "\r",
        " 24817664 of 30326502    81% in  167s   144.90 kB/s\r",
        " 24821760 of 30326502    81% in  167s   144.91 kB/s\r",
        " 24825856 of 30326502    81% in  167s   144.93 kB/s\r",
        " 24829952 of 30326502    81% in  167s   144.95 kB/s\r",
        " 24834048 of 30326502    81% in  167s   144.96 kB/s\r",
        " 24838144 of 30326502    81% in  167s   144.98 kB/s"
       ]
      },
      {
       "output_type": "stream",
       "stream": "stdout",
       "text": [
        "\r",
        " 24842240 of 30326502    81% in  167s   144.99 kB/s\r",
        " 24846336 of 30326502    81% in  167s   145.00 kB/s\r",
        " 24850432 of 30326502    81% in  167s   145.02 kB/s\r",
        " 24854528 of 30326502    81% in  167s   145.04 kB/s\r",
        " 24858624 of 30326502    81% in  167s   145.05 kB/s"
       ]
      },
      {
       "output_type": "stream",
       "stream": "stdout",
       "text": [
        "\r",
        " 24862720 of 30326502    81% in  167s   145.07 kB/s\r",
        " 24866816 of 30326502    81% in  167s   145.09 kB/s\r",
        " 24870912 of 30326502    82% in  167s   145.10 kB/s\r",
        " 24875008 of 30326502    82% in  167s   145.12 kB/s"
       ]
      },
      {
       "output_type": "stream",
       "stream": "stdout",
       "text": [
        "\r",
        " 24879104 of 30326502    82% in  167s   144.86 kB/s\r",
        " 24883200 of 30326502    82% in  167s   144.89 kB/s\r",
        " 24887296 of 30326502    82% in  167s   144.91 kB/s\r",
        " 24891392 of 30326502    82% in  167s   144.93 kB/s"
       ]
      },
      {
       "output_type": "stream",
       "stream": "stdout",
       "text": [
        "\r",
        " 24895488 of 30326502    82% in  168s   144.71 kB/s\r",
        " 24899584 of 30326502    82% in  168s   144.74 kB/s\r",
        " 24903680 of 30326502    82% in  168s   144.76 kB/s\r",
        " 24907776 of 30326502    82% in  168s   144.78 kB/s\r",
        " 24911872 of 30326502    82% in  168s   144.81 kB/s\r",
        " 24915968 of 30326502    82% in  168s   144.83 kB/s\r",
        " 24920064 of 30326502    82% in  168s   144.85 kB/s\r",
        " 24924160 of 30326502    82% in  168s   144.88 kB/s\r",
        " 24928256 of 30326502    82% in  168s   144.90 kB/s\r",
        " 24932352 of 30326502    82% in  168s   144.93 kB/s\r",
        " 24936448 of 30326502    82% in  168s   144.95 kB/s\r",
        " 24940544 of 30326502    82% in  168s   144.97 kB/s\r",
        " 24944640 of 30326502    82% in  168s   145.00 kB/s\r",
        " 24948736 of 30326502    82% in  168s   145.02 kB/s\r",
        " 24952832 of 30326502    82% in  168s   145.04 kB/s\r",
        " 24956928 of 30326502    82% in  168s   145.07 kB/s\r",
        " 24961024 of 30326502    82% in  168s   145.09 kB/s"
       ]
      },
      {
       "output_type": "stream",
       "stream": "stdout",
       "text": [
        "\r",
        " 24965120 of 30326502    82% in  168s   145.09 kB/s\r",
        " 24969216 of 30326502    82% in  168s   145.11 kB/s\r",
        " 24973312 of 30326502    82% in  168s   145.14 kB/s\r",
        " 24977408 of 30326502    82% in  168s   145.16 kB/s\r",
        " 24981504 of 30326502    82% in  168s   145.18 kB/s\r",
        " 24985600 of 30326502    82% in  168s   145.21 kB/s\r",
        " 24989696 of 30326502    82% in  168s   145.23 kB/s"
       ]
      },
      {
       "output_type": "stream",
       "stream": "stdout",
       "text": [
        "\r",
        " 24993792 of 30326502    82% in  168s   144.95 kB/s\r",
        " 24997888 of 30326502    82% in  168s   144.97 kB/s\r",
        " 25001984 of 30326502    82% in  168s   144.98 kB/s\r",
        " 25006080 of 30326502    82% in  168s   145.00 kB/s"
       ]
      },
      {
       "output_type": "stream",
       "stream": "stdout",
       "text": [
        "\r",
        " 25010176 of 30326502    82% in  168s   144.77 kB/s\r",
        " 25014272 of 30326502    82% in  168s   144.78 kB/s\r",
        " 25018368 of 30326502    82% in  168s   144.80 kB/s\r",
        " 25022464 of 30326502    82% in  168s   144.82 kB/s\r",
        " 25026560 of 30326502    82% in  168s   144.85 kB/s\r",
        " 25030656 of 30326502    82% in  168s   144.87 kB/s\r",
        " 25034752 of 30326502    82% in  168s   144.89 kB/s\r",
        " 25038848 of 30326502    82% in  168s   144.92 kB/s\r",
        " 25042944 of 30326502    82% in  168s   144.94 kB/s\r",
        " 25047040 of 30326502    82% in  168s   144.97 kB/s\r",
        " 25051136 of 30326502    82% in  168s   144.99 kB/s\r",
        " 25055232 of 30326502    82% in  168s   145.01 kB/s\r",
        " 25059328 of 30326502    82% in  168s   145.04 kB/s"
       ]
      },
      {
       "output_type": "stream",
       "stream": "stdout",
       "text": [
        "\r",
        " 25063424 of 30326502    82% in  168s   145.03 kB/s\r",
        " 25067520 of 30326502    82% in  168s   145.05 kB/s\r",
        " 25071616 of 30326502    82% in  168s   145.07 kB/s\r",
        " 25075712 of 30326502    82% in  168s   145.10 kB/s\r",
        " 25079808 of 30326502    82% in  168s   145.12 kB/s\r",
        " 25083904 of 30326502    82% in  168s   145.14 kB/s\r",
        " 25088000 of 30326502    82% in  168s   145.17 kB/s\r",
        " 25092096 of 30326502    82% in  168s   145.19 kB/s\r",
        " 25096192 of 30326502    82% in  168s   145.21 kB/s\r",
        " 25100288 of 30326502    82% in  168s   145.24 kB/s\r",
        " 25104384 of 30326502    82% in  168s   145.26 kB/s\r",
        " 25108480 of 30326502    82% in  168s   145.29 kB/s\r",
        " 25112576 of 30326502    82% in  168s   145.31 kB/s\r",
        " 25116672 of 30326502    82% in  168s   145.33 kB/s\r",
        " 25120768 of 30326502    82% in  168s   145.36 kB/s\r",
        " 25124864 of 30326502    82% in  168s   145.38 kB/s\r",
        " 25128960 of 30326502    82% in  168s   145.40 kB/s\r",
        " 25133056 of 30326502    82% in  168s   145.43 kB/s\r",
        " 25137152 of 30326502    82% in  168s   145.45 kB/s\r",
        " 25141248 of 30326502    82% in  168s   145.47 kB/s\r",
        " 25145344 of 30326502    82% in  168s   145.50 kB/s\r",
        " 25149440 of 30326502    82% in  168s   145.52 kB/s\r",
        " 25153536 of 30326502    82% in  168s   145.55 kB/s\r",
        " 25157632 of 30326502    82% in  168s   145.57 kB/s\r",
        " 25161728 of 30326502    82% in  168s   145.59 kB/s\r",
        " 25165824 of 30326502    82% in  168s   145.62 kB/s\r",
        " 25169920 of 30326502    82% in  168s   145.64 kB/s\r",
        " 25174016 of 30326502    83% in  168s   145.66 kB/s\r",
        " 25178112 of 30326502    83% in  168s   145.69 kB/s"
       ]
      },
      {
       "output_type": "stream",
       "stream": "stdout",
       "text": [
        "\r",
        " 25182208 of 30326502    83% in  168s   145.57 kB/s\r",
        " 25186304 of 30326502    83% in  168s   145.59 kB/s"
       ]
      },
      {
       "output_type": "stream",
       "stream": "stdout",
       "text": [
        "\r",
        " 25190400 of 30326502    83% in  168s   145.60 kB/s\r",
        " 25194496 of 30326502    83% in  168s   145.62 kB/s\r",
        " 25198592 of 30326502    83% in  168s   145.64 kB/s\r",
        " 25202688 of 30326502    83% in  168s   145.65 kB/s\r",
        " 25206784 of 30326502    83% in  168s   145.67 kB/s\r",
        " 25210880 of 30326502    83% in  168s   145.69 kB/s"
       ]
      },
      {
       "output_type": "stream",
       "stream": "stdout",
       "text": [
        "\r",
        " 25214976 of 30326502    83% in  169s   145.70 kB/s\r",
        " 25219072 of 30326502    83% in  169s   145.72 kB/s\r",
        " 25223168 of 30326502    83% in  169s   145.74 kB/s\r",
        " 25227264 of 30326502    83% in  169s   145.75 kB/s"
       ]
      },
      {
       "output_type": "stream",
       "stream": "stdout",
       "text": [
        "\r",
        " 25231360 of 30326502    83% in  169s   145.76 kB/s"
       ]
      },
      {
       "output_type": "stream",
       "stream": "stdout",
       "text": [
        "\r",
        " 25235456 of 30326502    83% in  169s   145.63 kB/s\r",
        " 25239552 of 30326502    83% in  169s   145.64 kB/s\r",
        " 25243648 of 30326502    83% in  169s   145.66 kB/s"
       ]
      },
      {
       "output_type": "stream",
       "stream": "stdout",
       "text": [
        "\r",
        " 25247744 of 30326502    83% in  169s   145.67 kB/s\r",
        " 25251840 of 30326502    83% in  169s   145.68 kB/s\r",
        " 25255936 of 30326502    83% in  169s   145.70 kB/s\r",
        " 25260032 of 30326502    83% in  169s   145.72 kB/s\r",
        " 25264128 of 30326502    83% in  169s   145.74 kB/s\r",
        " 25268224 of 30326502    83% in  169s   145.76 kB/s"
       ]
      },
      {
       "output_type": "stream",
       "stream": "stdout",
       "text": [
        "\r",
        " 25272320 of 30326502    83% in  169s   145.77 kB/s\r",
        " 25276416 of 30326502    83% in  169s   145.79 kB/s\r",
        " 25280512 of 30326502    83% in  169s   145.80 kB/s\r",
        " 25284608 of 30326502    83% in  169s   145.82 kB/s\r",
        " 25288704 of 30326502    83% in  169s   145.84 kB/s\r",
        " 25292800 of 30326502    83% in  169s   145.86 kB/s"
       ]
      },
      {
       "output_type": "stream",
       "stream": "stdout",
       "text": [
        "\r",
        " 25296896 of 30326502    83% in  169s   145.87 kB/s"
       ]
      },
      {
       "output_type": "stream",
       "stream": "stdout",
       "text": [
        "\r",
        " 25300992 of 30326502    83% in  169s   145.73 kB/s\r",
        " 25305088 of 30326502    83% in  169s   145.75 kB/s\r",
        " 25309184 of 30326502    83% in  169s   145.77 kB/s"
       ]
      },
      {
       "output_type": "stream",
       "stream": "stdout",
       "text": [
        "\r",
        " 25313280 of 30326502    83% in  169s   145.79 kB/s\r",
        " 25317376 of 30326502    83% in  169s   145.81 kB/s\r",
        " 25321472 of 30326502    83% in  169s   145.82 kB/s\r",
        " 25325568 of 30326502    83% in  169s   145.84 kB/s\r",
        " 25329664 of 30326502    83% in  169s   145.85 kB/s\r",
        " 25333760 of 30326502    83% in  169s   145.87 kB/s"
       ]
      },
      {
       "output_type": "stream",
       "stream": "stdout",
       "text": [
        "\r",
        " 25337856 of 30326502    83% in  169s   145.89 kB/s\r",
        " 25341952 of 30326502    83% in  169s   145.90 kB/s\r",
        " 25346048 of 30326502    83% in  169s   145.92 kB/s\r",
        " 25350144 of 30326502    83% in  169s   145.94 kB/s\r",
        " 25354240 of 30326502    83% in  169s   145.95 kB/s\r",
        " 25358336 of 30326502    83% in  169s   145.97 kB/s"
       ]
      },
      {
       "output_type": "stream",
       "stream": "stdout",
       "text": [
        "\r",
        " 25362432 of 30326502    83% in  169s   145.84 kB/s\r",
        " 25366528 of 30326502    83% in  169s   145.86 kB/s\r",
        " 25370624 of 30326502    83% in  169s   145.88 kB/s\r",
        " 25374720 of 30326502    83% in  169s   145.89 kB/s\r",
        " 25378816 of 30326502    83% in  169s   145.91 kB/s"
       ]
      },
      {
       "output_type": "stream",
       "stream": "stdout",
       "text": [
        "\r",
        " 25382912 of 30326502    83% in  169s   145.93 kB/s\r",
        " 25387008 of 30326502    83% in  169s   145.94 kB/s\r",
        " 25391104 of 30326502    83% in  169s   145.96 kB/s\r",
        " 25395200 of 30326502    83% in  169s   145.98 kB/s\r",
        " 25399296 of 30326502    83% in  169s   145.99 kB/s\r",
        " 25403392 of 30326502    83% in  169s   146.01 kB/s"
       ]
      },
      {
       "output_type": "stream",
       "stream": "stdout",
       "text": [
        "\r",
        " 25407488 of 30326502    83% in  169s   146.02 kB/s\r",
        " 25411584 of 30326502    83% in  169s   146.04 kB/s\r",
        " 25415680 of 30326502    83% in  169s   146.06 kB/s\r",
        " 25419776 of 30326502    83% in  169s   146.07 kB/s\r",
        " 25423872 of 30326502    83% in  169s   146.09 kB/s"
       ]
      },
      {
       "output_type": "stream",
       "stream": "stdout",
       "text": [
        "\r",
        " 25427968 of 30326502    83% in  170s   145.97 kB/s"
       ]
      },
      {
       "output_type": "stream",
       "stream": "stdout",
       "text": [
        "\r",
        " 25432064 of 30326502    83% in  170s   145.98 kB/s\r",
        " 25436160 of 30326502    83% in  170s   146.00 kB/s\r",
        " 25440256 of 30326502    83% in  170s   146.01 kB/s\r",
        " 25444352 of 30326502    83% in  170s   146.03 kB/s\r",
        " 25448448 of 30326502    83% in  170s   146.05 kB/s"
       ]
      },
      {
       "output_type": "stream",
       "stream": "stdout",
       "text": [
        "\r",
        " 25452544 of 30326502    83% in  170s   146.06 kB/s\r",
        " 25456640 of 30326502    83% in  170s   146.08 kB/s"
       ]
      },
      {
       "output_type": "stream",
       "stream": "stdout",
       "text": [
        "\r",
        " 25460736 of 30326502    83% in  170s   145.84 kB/s\r",
        " 25464832 of 30326502    83% in  170s   145.87 kB/s"
       ]
      },
      {
       "output_type": "stream",
       "stream": "stdout",
       "text": [
        "\r",
        " 25468928 of 30326502    83% in  170s   145.65 kB/s"
       ]
      },
      {
       "output_type": "stream",
       "stream": "stdout",
       "text": [
        "\r",
        " 25473024 of 30326502    83% in  170s   145.65 kB/s\r",
        " 25477120 of 30326502    84% in  170s   145.67 kB/s\r",
        " 25481216 of 30326502    84% in  170s   145.69 kB/s\r",
        " 25485312 of 30326502    84% in  170s   145.72 kB/s\r",
        " 25489408 of 30326502    84% in  170s   145.74 kB/s\r",
        " 25493504 of 30326502    84% in  170s   145.76 kB/s\r",
        " 25497600 of 30326502    84% in  170s   145.79 kB/s\r",
        " 25501696 of 30326502    84% in  170s   145.81 kB/s\r",
        " 25505792 of 30326502    84% in  170s   145.83 kB/s\r",
        " 25509888 of 30326502    84% in  170s   145.86 kB/s\r",
        " 25513984 of 30326502    84% in  170s   145.88 kB/s\r",
        " 25518080 of 30326502    84% in  170s   145.90 kB/s\r",
        " 25522176 of 30326502    84% in  170s   145.93 kB/s\r",
        " 25526272 of 30326502    84% in  170s   145.95 kB/s\r",
        " 25530368 of 30326502    84% in  170s   145.97 kB/s\r",
        " 25534464 of 30326502    84% in  170s   146.00 kB/s\r",
        " 25538560 of 30326502    84% in  170s   146.02 kB/s\r",
        " 25542656 of 30326502    84% in  170s   146.04 kB/s\r",
        " 25546752 of 30326502    84% in  170s   146.07 kB/s\r",
        " 25550848 of 30326502    84% in  170s   146.09 kB/s\r",
        " 25554944 of 30326502    84% in  170s   146.11 kB/s\r",
        " 25559040 of 30326502    84% in  170s   146.14 kB/s\r",
        " 25563136 of 30326502    84% in  170s   146.16 kB/s\r",
        " 25567232 of 30326502    84% in  170s   146.18 kB/s\r",
        " 25571328 of 30326502    84% in  170s   146.19 kB/s\r",
        " 25575424 of 30326502    84% in  170s   146.21 kB/s"
       ]
      },
      {
       "output_type": "stream",
       "stream": "stdout",
       "text": [
        "\r",
        " 25579520 of 30326502    84% in  170s   146.11 kB/s"
       ]
      },
      {
       "output_type": "stream",
       "stream": "stdout",
       "text": [
        "\r",
        " 25583616 of 30326502    84% in  170s   146.12 kB/s\r",
        " 25587712 of 30326502    84% in  170s   146.13 kB/s\r",
        " 25591808 of 30326502    84% in  171s   146.14 kB/s\r",
        " 25595904 of 30326502    84% in  171s   146.16 kB/s\r",
        " 25600000 of 30326502    84% in  171s   146.18 kB/s"
       ]
      },
      {
       "output_type": "stream",
       "stream": "stdout",
       "text": [
        "\r",
        " 25604096 of 30326502    84% in  171s   146.19 kB/s\r",
        " 25608192 of 30326502    84% in  171s   146.21 kB/s\r",
        " 25612288 of 30326502    84% in  171s   146.22 kB/s"
       ]
      },
      {
       "output_type": "stream",
       "stream": "stdout",
       "text": [
        "\r",
        " 25616384 of 30326502    84% in  171s   146.22 kB/s\r",
        " 25620480 of 30326502    84% in  171s   146.23 kB/s\r",
        " 25624576 of 30326502    84% in  171s   146.24 kB/s"
       ]
      },
      {
       "output_type": "stream",
       "stream": "stdout",
       "text": [
        "\r",
        " 25628672 of 30326502    84% in  171s   146.15 kB/s\r",
        " 25632768 of 30326502    84% in  171s   146.16 kB/s\r",
        " 25636864 of 30326502    84% in  171s   146.18 kB/s"
       ]
      },
      {
       "output_type": "stream",
       "stream": "stdout",
       "text": [
        "\r",
        " 25640960 of 30326502    84% in  171s   146.18 kB/s\r",
        " 25645056 of 30326502    84% in  171s   146.20 kB/s\r",
        " 25649152 of 30326502    84% in  171s   146.21 kB/s\r",
        " 25653248 of 30326502    84% in  171s   146.23 kB/s\r",
        " 25657344 of 30326502    84% in  171s   146.25 kB/s\r",
        " 25661440 of 30326502    84% in  171s   146.26 kB/s"
       ]
      },
      {
       "output_type": "stream",
       "stream": "stdout",
       "text": [
        "\r",
        " 25665536 of 30326502    84% in  171s   146.28 kB/s\r",
        " 25669632 of 30326502    84% in  171s   146.28 kB/s\r",
        " 25673728 of 30326502    84% in  171s   146.29 kB/s"
       ]
      },
      {
       "output_type": "stream",
       "stream": "stdout",
       "text": [
        "\r",
        " 25677824 of 30326502    84% in  171s   146.19 kB/s\r",
        " 25681920 of 30326502    84% in  171s   146.21 kB/s"
       ]
      },
      {
       "output_type": "stream",
       "stream": "stdout",
       "text": [
        "\r",
        " 25686016 of 30326502    84% in  171s   146.22 kB/s\r",
        " 25690112 of 30326502    84% in  171s   146.23 kB/s\r",
        " 25694208 of 30326502    84% in  171s   146.24 kB/s\r",
        " 25698304 of 30326502    84% in  171s   146.26 kB/s"
       ]
      },
      {
       "output_type": "stream",
       "stream": "stdout",
       "text": [
        "\r",
        " 25702400 of 30326502    84% in  171s   146.27 kB/s\r",
        " 25706496 of 30326502    84% in  171s   146.29 kB/s\r",
        " 25710592 of 30326502    84% in  171s   146.30 kB/s\r",
        " 25714688 of 30326502    84% in  171s   146.32 kB/s"
       ]
      },
      {
       "output_type": "stream",
       "stream": "stdout",
       "text": [
        "\r",
        " 25718784 of 30326502    84% in  171s   146.32 kB/s\r",
        " 25722880 of 30326502    84% in  171s   146.33 kB/s\r",
        " 25726976 of 30326502    84% in  171s   146.34 kB/s"
       ]
      },
      {
       "output_type": "stream",
       "stream": "stdout",
       "text": [
        "\r",
        " 25731072 of 30326502    84% in  171s   146.25 kB/s\r",
        " 25735168 of 30326502    84% in  171s   146.26 kB/s\r",
        " 25739264 of 30326502    84% in  171s   146.28 kB/s"
       ]
      },
      {
       "output_type": "stream",
       "stream": "stdout",
       "text": [
        "\r",
        " 25743360 of 30326502    84% in  171s   146.29 kB/s\r",
        " 25747456 of 30326502    84% in  171s   146.30 kB/s\r",
        " 25751552 of 30326502    84% in  171s   146.31 kB/s\r",
        " 25755648 of 30326502    84% in  171s   146.33 kB/s\r",
        " 25759744 of 30326502    84% in  171s   146.34 kB/s"
       ]
      },
      {
       "output_type": "stream",
       "stream": "stdout",
       "text": [
        "\r",
        " 25763840 of 30326502    84% in  171s   146.36 kB/s\r",
        " 25767936 of 30326502    84% in  171s   146.38 kB/s\r",
        " 25772032 of 30326502    84% in  171s   146.38 kB/s"
       ]
      },
      {
       "output_type": "stream",
       "stream": "stdout",
       "text": [
        "\r",
        " 25776128 of 30326502    84% in  171s   146.39 kB/s\r",
        " 25780224 of 30326502    85% in  171s   146.40 kB/s"
       ]
      },
      {
       "output_type": "stream",
       "stream": "stdout",
       "text": [
        "\r",
        " 25784320 of 30326502    85% in  172s   146.31 kB/s"
       ]
      },
      {
       "output_type": "stream",
       "stream": "stdout",
       "text": [
        "\r",
        " 25788416 of 30326502    85% in  172s   146.32 kB/s\r",
        " 25792512 of 30326502    85% in  172s   146.34 kB/s\r",
        " 25796608 of 30326502    85% in  172s   146.34 kB/s"
       ]
      },
      {
       "output_type": "stream",
       "stream": "stdout",
       "text": [
        "\r",
        " 25800704 of 30326502    85% in  172s   146.35 kB/s\r",
        " 25804800 of 30326502    85% in  172s   146.37 kB/s\r",
        " 25808896 of 30326502    85% in  172s   146.38 kB/s\r",
        " 25812992 of 30326502    85% in  172s   146.40 kB/s\r",
        " 25817088 of 30326502    85% in  172s   146.42 kB/s\r",
        " 25821184 of 30326502    85% in  172s   146.43 kB/s"
       ]
      },
      {
       "output_type": "stream",
       "stream": "stdout",
       "text": [
        "\r",
        " 25825280 of 30326502    85% in  172s   146.43 kB/s\r",
        " 25829376 of 30326502    85% in  172s   146.45 kB/s\r",
        " 25833472 of 30326502    85% in  172s   146.46 kB/s"
       ]
      },
      {
       "output_type": "stream",
       "stream": "stdout",
       "text": [
        "\r",
        " 25837568 of 30326502    85% in  172s   146.37 kB/s\r",
        " 25841664 of 30326502    85% in  172s   146.38 kB/s\r",
        " 25845760 of 30326502    85% in  172s   146.40 kB/s"
       ]
      },
      {
       "output_type": "stream",
       "stream": "stdout",
       "text": [
        "\r",
        " 25849856 of 30326502    85% in  172s   146.40 kB/s\r",
        " 25853952 of 30326502    85% in  172s   146.41 kB/s\r",
        " 25858048 of 30326502    85% in  172s   146.43 kB/s"
       ]
      },
      {
       "output_type": "stream",
       "stream": "stdout",
       "text": [
        "\r",
        " 25862144 of 30326502    85% in  172s   146.44 kB/s\r",
        " 25866240 of 30326502    85% in  172s   146.45 kB/s\r",
        " 25870336 of 30326502    85% in  172s   146.47 kB/s"
       ]
      },
      {
       "output_type": "stream",
       "stream": "stdout",
       "text": [
        "\r",
        " 25874432 of 30326502    85% in  172s   146.23 kB/s"
       ]
      },
      {
       "output_type": "stream",
       "stream": "stdout",
       "text": [
        "\r",
        " 25878528 of 30326502    85% in  173s   146.01 kB/s\r",
        " 25882624 of 30326502    85% in  173s   146.03 kB/s\r",
        " 25886720 of 30326502    85% in  173s   146.06 kB/s\r",
        " 25890816 of 30326502    85% in  173s   146.08 kB/s\r",
        " 25894912 of 30326502    85% in  173s   146.10 kB/s\r",
        " 25899008 of 30326502    85% in  173s   146.13 kB/s\r",
        " 25903104 of 30326502    85% in  173s   146.15 kB/s\r",
        " 25907200 of 30326502    85% in  173s   146.17 kB/s\r",
        " 25911296 of 30326502    85% in  173s   146.20 kB/s\r",
        " 25915392 of 30326502    85% in  173s   146.22 kB/s\r",
        " 25919488 of 30326502    85% in  173s   146.24 kB/s\r",
        " 25923584 of 30326502    85% in  173s   146.25 kB/s\r",
        " 25927680 of 30326502    85% in  173s   146.28 kB/s\r",
        " 25931776 of 30326502    85% in  173s   146.30 kB/s\r",
        " 25935872 of 30326502    85% in  173s   146.32 kB/s\r",
        " 25939968 of 30326502    85% in  173s   146.34 kB/s\r",
        " 25944064 of 30326502    85% in  173s   146.37 kB/s\r",
        " 25948160 of 30326502    85% in  173s   146.39 kB/s\r",
        " 25952256 of 30326502    85% in  173s   146.41 kB/s\r",
        " 25956352 of 30326502    85% in  173s   146.44 kB/s\r",
        " 25960448 of 30326502    85% in  173s   146.46 kB/s"
       ]
      },
      {
       "output_type": "stream",
       "stream": "stdout",
       "text": [
        "\r",
        " 25964544 of 30326502    85% in  173s   146.36 kB/s\r",
        " 25968640 of 30326502    85% in  173s   146.37 kB/s\r",
        " 25972736 of 30326502    85% in  173s   146.39 kB/s"
       ]
      },
      {
       "output_type": "stream",
       "stream": "stdout",
       "text": [
        "\r",
        " 25976832 of 30326502    85% in  173s   146.38 kB/s\r",
        " 25980928 of 30326502    85% in  173s   146.39 kB/s\r",
        " 25985024 of 30326502    85% in  173s   146.41 kB/s"
       ]
      },
      {
       "output_type": "stream",
       "stream": "stdout",
       "text": [
        "\r",
        " 25989120 of 30326502    85% in  173s   146.42 kB/s\r",
        " 25993216 of 30326502    85% in  173s   146.42 kB/s\r",
        " 25997312 of 30326502    85% in  173s   146.44 kB/s"
       ]
      },
      {
       "output_type": "stream",
       "stream": "stdout",
       "text": [
        "\r",
        " 26001408 of 30326502    85% in  173s   146.44 kB/s"
       ]
      },
      {
       "output_type": "stream",
       "stream": "stdout",
       "text": [
        "\r",
        " 26005504 of 30326502    85% in  173s   146.35 kB/s"
       ]
      },
      {
       "output_type": "stream",
       "stream": "stdout",
       "text": [
        "\r",
        " 26009600 of 30326502    85% in  173s   146.37 kB/s\r",
        " 26013696 of 30326502    85% in  173s   146.38 kB/s\r",
        " 26017792 of 30326502    85% in  173s   146.38 kB/s"
       ]
      },
      {
       "output_type": "stream",
       "stream": "stdout",
       "text": [
        "\r",
        " 26021888 of 30326502    85% in  173s   146.38 kB/s\r",
        " 26025984 of 30326502    85% in  173s   146.40 kB/s\r",
        " 26030080 of 30326502    85% in  173s   146.42 kB/s\r",
        " 26034176 of 30326502    85% in  173s   146.42 kB/s"
       ]
      },
      {
       "output_type": "stream",
       "stream": "stdout",
       "text": [
        "\r",
        " 26038272 of 30326502    85% in  173s   146.43 kB/s\r",
        " 26042368 of 30326502    85% in  173s   146.44 kB/s"
       ]
      },
      {
       "output_type": "stream",
       "stream": "stdout",
       "text": [
        "\r",
        " 26046464 of 30326502    85% in  173s   146.34 kB/s\r",
        " 26050560 of 30326502    85% in  173s   146.36 kB/s\r",
        " 26054656 of 30326502    85% in  173s   146.37 kB/s"
       ]
      },
      {
       "output_type": "stream",
       "stream": "stdout",
       "text": [
        "\r",
        " 26058752 of 30326502    85% in  173s   146.37 kB/s\r",
        " 26062848 of 30326502    85% in  173s   146.38 kB/s\r",
        " 26066944 of 30326502    85% in  173s   146.39 kB/s"
       ]
      },
      {
       "output_type": "stream",
       "stream": "stdout",
       "text": [
        "\r",
        " 26071040 of 30326502    85% in  173s   146.41 kB/s\r",
        " 26075136 of 30326502    85% in  173s   146.43 kB/s\r",
        " 26079232 of 30326502    85% in  173s   146.43 kB/s\r",
        " 26083328 of 30326502    86% in  173s   146.44 kB/s"
       ]
      },
      {
       "output_type": "stream",
       "stream": "stdout",
       "text": [
        "\r",
        " 26087424 of 30326502    86% in  173s   146.44 kB/s"
       ]
      },
      {
       "output_type": "stream",
       "stream": "stdout",
       "text": [
        "\r",
        " 26091520 of 30326502    86% in  174s   146.35 kB/s\r",
        " 26095616 of 30326502    86% in  174s   146.37 kB/s\r",
        " 26099712 of 30326502    86% in  174s   146.38 kB/s\r",
        " 26103808 of 30326502    86% in  174s   146.38 kB/s"
       ]
      },
      {
       "output_type": "stream",
       "stream": "stdout",
       "text": [
        "\r",
        " 26107904 of 30326502    86% in  174s   146.39 kB/s\r",
        " 26112000 of 30326502    86% in  174s   146.40 kB/s\r",
        " 26116096 of 30326502    86% in  174s   146.42 kB/s"
       ]
      },
      {
       "output_type": "stream",
       "stream": "stdout",
       "text": [
        "\r",
        " 26120192 of 30326502    86% in  174s   146.43 kB/s\r",
        " 26124288 of 30326502    86% in  174s   146.43 kB/s\r",
        " 26128384 of 30326502    86% in  174s   146.45 kB/s"
       ]
      },
      {
       "output_type": "stream",
       "stream": "stdout",
       "text": [
        "\r",
        " 26132480 of 30326502    86% in  174s   146.35 kB/s\r",
        " 26136576 of 30326502    86% in  174s   146.36 kB/s\r",
        " 26140672 of 30326502    86% in  174s   146.38 kB/s"
       ]
      },
      {
       "output_type": "stream",
       "stream": "stdout",
       "text": [
        "\r",
        " 26144768 of 30326502    86% in  174s   146.37 kB/s\r",
        " 26148864 of 30326502    86% in  174s   146.38 kB/s"
       ]
      },
      {
       "output_type": "stream",
       "stream": "stdout",
       "text": [
        "\r",
        " 26152960 of 30326502    86% in  174s   146.40 kB/s\r",
        " 26157056 of 30326502    86% in  174s   146.41 kB/s\r",
        " 26161152 of 30326502    86% in  174s   146.43 kB/s\r",
        " 26165248 of 30326502    86% in  174s   146.43 kB/s"
       ]
      },
      {
       "output_type": "stream",
       "stream": "stdout",
       "text": [
        "\r",
        " 26169344 of 30326502    86% in  174s   146.44 kB/s"
       ]
      },
      {
       "output_type": "stream",
       "stream": "stdout",
       "text": [
        "\r",
        " 26173440 of 30326502    86% in  174s   146.34 kB/s"
       ]
      },
      {
       "output_type": "stream",
       "stream": "stdout",
       "text": [
        "\r",
        " 26177536 of 30326502    86% in  174s   146.36 kB/s\r",
        " 26181632 of 30326502    86% in  174s   146.37 kB/s\r",
        " 26185728 of 30326502    86% in  174s   146.39 kB/s"
       ]
      },
      {
       "output_type": "stream",
       "stream": "stdout",
       "text": [
        "\r",
        " 26189824 of 30326502    86% in  174s   146.39 kB/s\r",
        " 26193920 of 30326502    86% in  174s   146.40 kB/s\r",
        " 26198016 of 30326502    86% in  174s   146.41 kB/s\r",
        " 26202112 of 30326502    86% in  174s   146.42 kB/s"
       ]
      },
      {
       "output_type": "stream",
       "stream": "stdout",
       "text": [
        "\r",
        " 26206208 of 30326502    86% in  174s   146.43 kB/s\r",
        " 26210304 of 30326502    86% in  174s   146.44 kB/s\r",
        " 26214400 of 30326502    86% in  174s   146.45 kB/s"
       ]
      },
      {
       "output_type": "stream",
       "stream": "stdout",
       "text": [
        "\r",
        " 26218496 of 30326502    86% in  174s   146.35 kB/s\r",
        " 26222592 of 30326502    86% in  174s   146.37 kB/s\r",
        " 26226688 of 30326502    86% in  174s   146.38 kB/s"
       ]
      },
      {
       "output_type": "stream",
       "stream": "stdout",
       "text": [
        "\r",
        " 26230784 of 30326502    86% in  174s   146.40 kB/s\r",
        " 26234880 of 30326502    86% in  174s   146.40 kB/s\r",
        " 26238976 of 30326502    86% in  175s   146.41 kB/s"
       ]
      },
      {
       "output_type": "stream",
       "stream": "stdout",
       "text": [
        "\r",
        " 26243072 of 30326502    86% in  175s   146.42 kB/s\r",
        " 26247168 of 30326502    86% in  175s   146.43 kB/s\r",
        " 26251264 of 30326502    86% in  175s   146.44 kB/s"
       ]
      },
      {
       "output_type": "stream",
       "stream": "stdout",
       "text": [
        "\r",
        " 26255360 of 30326502    86% in  175s   146.45 kB/s\r",
        " 26259456 of 30326502    86% in  175s   146.46 kB/s"
       ]
      },
      {
       "output_type": "stream",
       "stream": "stdout",
       "text": [
        "\r",
        " 26263552 of 30326502    86% in  175s   146.37 kB/s\r",
        " 26267648 of 30326502    86% in  175s   146.38 kB/s\r",
        " 26271744 of 30326502    86% in  175s   146.40 kB/s\r",
        " 26275840 of 30326502    86% in  175s   146.41 kB/s"
       ]
      },
      {
       "output_type": "stream",
       "stream": "stdout",
       "text": [
        "\r",
        " 26279936 of 30326502    86% in  175s   146.41 kB/s\r",
        " 26284032 of 30326502    86% in  175s   146.41 kB/s\r",
        " 26288128 of 30326502    86% in  175s   146.43 kB/s"
       ]
      },
      {
       "output_type": "stream",
       "stream": "stdout",
       "text": [
        "\r",
        " 26292224 of 30326502    86% in  175s   145.96 kB/s\r",
        " 26296320 of 30326502    86% in  175s   145.98 kB/s\r",
        " 26300416 of 30326502    86% in  175s   146.00 kB/s\r",
        " 26304512 of 30326502    86% in  175s   146.02 kB/s\r",
        " 26308608 of 30326502    86% in  175s   146.05 kB/s\r",
        " 26312704 of 30326502    86% in  175s   146.07 kB/s\r",
        " 26316800 of 30326502    86% in  175s   146.09 kB/s\r",
        " 26320896 of 30326502    86% in  175s   146.12 kB/s\r",
        " 26324992 of 30326502    86% in  175s   146.14 kB/s\r",
        " 26329088 of 30326502    86% in  175s   146.16 kB/s\r",
        " 26333184 of 30326502    86% in  175s   146.18 kB/s\r",
        " 26337280 of 30326502    86% in  175s   146.21 kB/s\r",
        " 26341376 of 30326502    86% in  175s   146.23 kB/s\r",
        " 26345472 of 30326502    86% in  175s   146.25 kB/s\r",
        " 26349568 of 30326502    86% in  175s   146.27 kB/s\r",
        " 26353664 of 30326502    86% in  175s   146.30 kB/s\r",
        " 26357760 of 30326502    86% in  175s   146.32 kB/s\r",
        " 26361856 of 30326502    86% in  175s   146.34 kB/s\r",
        " 26365952 of 30326502    86% in  175s   146.36 kB/s"
       ]
      },
      {
       "output_type": "stream",
       "stream": "stdout",
       "text": [
        "\r",
        " 26370048 of 30326502    86% in  175s   146.37 kB/s"
       ]
      },
      {
       "output_type": "stream",
       "stream": "stdout",
       "text": [
        "\r",
        " 26374144 of 30326502    86% in  176s   146.27 kB/s"
       ]
      },
      {
       "output_type": "stream",
       "stream": "stdout",
       "text": [
        "\r",
        " 26378240 of 30326502    86% in  176s   146.28 kB/s\r",
        " 26382336 of 30326502    86% in  176s   146.29 kB/s\r",
        " 26386432 of 30326502    87% in  176s   146.30 kB/s"
       ]
      },
      {
       "output_type": "stream",
       "stream": "stdout",
       "text": [
        "\r",
        " 26390528 of 30326502    87% in  176s   146.31 kB/s\r",
        " 26394624 of 30326502    87% in  176s   146.32 kB/s"
       ]
      },
      {
       "output_type": "stream",
       "stream": "stdout",
       "text": [
        "\r",
        " 26398720 of 30326502    87% in  176s   146.32 kB/s\r",
        " 26402816 of 30326502    87% in  176s   146.33 kB/s\r",
        " 26406912 of 30326502    87% in  176s   146.33 kB/s"
       ]
      },
      {
       "output_type": "stream",
       "stream": "stdout",
       "text": [
        "\r",
        " 26411008 of 30326502    87% in  176s   146.23 kB/s"
       ]
      },
      {
       "output_type": "stream",
       "stream": "stdout",
       "text": [
        "\r",
        " 26415104 of 30326502    87% in  176s   146.23 kB/s\r",
        " 26419200 of 30326502    87% in  176s   146.25 kB/s\r",
        " 26423296 of 30326502    87% in  176s   146.27 kB/s\r",
        " 26427392 of 30326502    87% in  176s   146.27 kB/s"
       ]
      },
      {
       "output_type": "stream",
       "stream": "stdout",
       "text": [
        "\r",
        " 26431488 of 30326502    87% in  176s   146.28 kB/s\r",
        " 26435584 of 30326502    87% in  176s   146.28 kB/s"
       ]
      },
      {
       "output_type": "stream",
       "stream": "stdout",
       "text": [
        "\r",
        " 26439680 of 30326502    87% in  176s   146.27 kB/s\r",
        " 26443776 of 30326502    87% in  176s   146.29 kB/s"
       ]
      },
      {
       "output_type": "stream",
       "stream": "stdout",
       "text": [
        "\r",
        " 26447872 of 30326502    87% in  176s   146.20 kB/s\r",
        " 26451968 of 30326502    87% in  176s   146.20 kB/s\r",
        " 26456064 of 30326502    87% in  176s   146.21 kB/s"
       ]
      },
      {
       "output_type": "stream",
       "stream": "stdout",
       "text": [
        "\r",
        " 26460160 of 30326502    87% in  176s   146.23 kB/s\r",
        " 26464256 of 30326502    87% in  176s   146.24 kB/s\r",
        " 26468352 of 30326502    87% in  176s   146.25 kB/s"
       ]
      },
      {
       "output_type": "stream",
       "stream": "stdout",
       "text": [
        "\r",
        " 26472448 of 30326502    87% in  176s   146.25 kB/s\r",
        " 26476544 of 30326502    87% in  176s   146.24 kB/s"
       ]
      },
      {
       "output_type": "stream",
       "stream": "stdout",
       "text": [
        "\r",
        " 26480640 of 30326502    87% in  176s   146.26 kB/s"
       ]
      },
      {
       "output_type": "stream",
       "stream": "stdout",
       "text": [
        "\r",
        " 26484736 of 30326502    87% in  176s   146.16 kB/s"
       ]
      },
      {
       "output_type": "stream",
       "stream": "stdout",
       "text": [
        "\r",
        " 26488832 of 30326502    87% in  176s   146.16 kB/s\r",
        " 26492928 of 30326502    87% in  176s   146.18 kB/s\r",
        " 26497024 of 30326502    87% in  176s   146.19 kB/s"
       ]
      },
      {
       "output_type": "stream",
       "stream": "stdout",
       "text": [
        "\r",
        " 26501120 of 30326502    87% in  177s   146.21 kB/s\r",
        " 26505216 of 30326502    87% in  177s   146.21 kB/s\r",
        " 26509312 of 30326502    87% in  177s   146.21 kB/s"
       ]
      },
      {
       "output_type": "stream",
       "stream": "stdout",
       "text": [
        "\r",
        " 26513408 of 30326502    87% in  177s   146.21 kB/s"
       ]
      },
      {
       "output_type": "stream",
       "stream": "stdout",
       "text": [
        "\r",
        " 26517504 of 30326502    87% in  177s   146.12 kB/s\r",
        " 26521600 of 30326502    87% in  177s   146.12 kB/s"
       ]
      },
      {
       "output_type": "stream",
       "stream": "stdout",
       "text": [
        "\r",
        " 26525696 of 30326502    87% in  177s   146.13 kB/s\r",
        " 26529792 of 30326502    87% in  177s   146.15 kB/s\r",
        " 26533888 of 30326502    87% in  177s   146.16 kB/s\r",
        " 26537984 of 30326502    87% in  177s   146.16 kB/s"
       ]
      },
      {
       "output_type": "stream",
       "stream": "stdout",
       "text": [
        "\r",
        " 26542080 of 30326502    87% in  177s   146.18 kB/s\r",
        " 26546176 of 30326502    87% in  177s   146.18 kB/s"
       ]
      },
      {
       "output_type": "stream",
       "stream": "stdout",
       "text": [
        "\r",
        " 26550272 of 30326502    87% in  177s   146.18 kB/s\r",
        " 26554368 of 30326502    87% in  177s   146.19 kB/s"
       ]
      },
      {
       "output_type": "stream",
       "stream": "stdout",
       "text": [
        "\r",
        " 26558464 of 30326502    87% in  177s   146.10 kB/s\r",
        " 26562560 of 30326502    87% in  177s   146.10 kB/s\r",
        " 26566656 of 30326502    87% in  177s   146.11 kB/s"
       ]
      },
      {
       "output_type": "stream",
       "stream": "stdout",
       "text": [
        "\r",
        " 26570752 of 30326502    87% in  177s   146.12 kB/s\r",
        " 26574848 of 30326502    87% in  177s   146.13 kB/s\r",
        " 26578944 of 30326502    87% in  177s   146.15 kB/s\r",
        " 26583040 of 30326502    87% in  177s   146.15 kB/s"
       ]
      },
      {
       "output_type": "stream",
       "stream": "stdout",
       "text": [
        "\r",
        " 26587136 of 30326502    87% in  177s   146.14 kB/s\r",
        " 26591232 of 30326502    87% in  177s   146.16 kB/s"
       ]
      },
      {
       "output_type": "stream",
       "stream": "stdout",
       "text": [
        "\r",
        " 26595328 of 30326502    87% in  177s   146.07 kB/s"
       ]
      },
      {
       "output_type": "stream",
       "stream": "stdout",
       "text": [
        "\r",
        " 26599424 of 30326502    87% in  177s   146.07 kB/s\r",
        " 26603520 of 30326502    87% in  177s   146.08 kB/s\r",
        " 26607616 of 30326502    87% in  177s   146.10 kB/s\r",
        " 26611712 of 30326502    87% in  177s   146.10 kB/s"
       ]
      },
      {
       "output_type": "stream",
       "stream": "stdout",
       "text": [
        "\r",
        " 26615808 of 30326502    87% in  177s   146.10 kB/s"
       ]
      },
      {
       "output_type": "stream",
       "stream": "stdout",
       "text": [
        "\r",
        " 26619904 of 30326502    87% in  177s   146.10 kB/s\r",
        " 26624000 of 30326502    87% in  177s   146.11 kB/s\r",
        " 26628096 of 30326502    87% in  177s   146.13 kB/s"
       ]
      },
      {
       "output_type": "stream",
       "stream": "stdout",
       "text": [
        "\r",
        " 26632192 of 30326502    87% in  178s   146.04 kB/s\r",
        " 26636288 of 30326502    87% in  178s   146.04 kB/s\r",
        " 26640384 of 30326502    87% in  178s   146.05 kB/s"
       ]
      },
      {
       "output_type": "stream",
       "stream": "stdout",
       "text": [
        "\r",
        " 26644480 of 30326502    87% in  178s   146.06 kB/s\r",
        " 26648576 of 30326502    87% in  178s   146.07 kB/s"
       ]
      },
      {
       "output_type": "stream",
       "stream": "stdout",
       "text": [
        "\r",
        " 26652672 of 30326502    87% in  178s   146.07 kB/s\r",
        " 26656768 of 30326502    87% in  178s   146.07 kB/s\r",
        " 26660864 of 30326502    87% in  178s   146.08 kB/s"
       ]
      },
      {
       "output_type": "stream",
       "stream": "stdout",
       "text": [
        "\r",
        " 26664960 of 30326502    87% in  178s   145.99 kB/s"
       ]
      },
      {
       "output_type": "stream",
       "stream": "stdout",
       "text": [
        "\r",
        " 26669056 of 30326502    87% in  178s   145.99 kB/s\r",
        " 26673152 of 30326502    87% in  178s   146.00 kB/s\r",
        " 26677248 of 30326502    87% in  178s   146.02 kB/s\r",
        " 26681344 of 30326502    87% in  178s   146.04 kB/s"
       ]
      },
      {
       "output_type": "stream",
       "stream": "stdout",
       "text": [
        "\r",
        " 26685440 of 30326502    87% in  178s   146.04 kB/s\r",
        " 26689536 of 30326502    88% in  178s   146.04 kB/s"
       ]
      },
      {
       "output_type": "stream",
       "stream": "stdout",
       "text": [
        "\r",
        " 26693632 of 30326502    88% in  178s   146.04 kB/s\r",
        " 26697728 of 30326502    88% in  178s   146.05 kB/s"
       ]
      },
      {
       "output_type": "stream",
       "stream": "stdout",
       "text": [
        "\r",
        " 26701824 of 30326502    88% in  178s   145.98 kB/s"
       ]
      },
      {
       "output_type": "stream",
       "stream": "stdout",
       "text": [
        "\r",
        " 26705920 of 30326502    88% in  178s   145.98 kB/s\r",
        " 26710016 of 30326502    88% in  178s   145.98 kB/s\r",
        " 26714112 of 30326502    88% in  178s   145.99 kB/s"
       ]
      },
      {
       "output_type": "stream",
       "stream": "stdout",
       "text": [
        "\r",
        " 26718208 of 30326502    88% in  178s   146.01 kB/s\r",
        " 26722304 of 30326502    88% in  178s   146.01 kB/s\r",
        " 26726400 of 30326502    88% in  178s   146.03 kB/s"
       ]
      },
      {
       "output_type": "stream",
       "stream": "stdout",
       "text": [
        "\r",
        " 26730496 of 30326502    88% in  178s   146.03 kB/s\r",
        " 26734592 of 30326502    88% in  178s   146.02 kB/s"
       ]
      },
      {
       "output_type": "stream",
       "stream": "stdout",
       "text": [
        "\r",
        " 26738688 of 30326502    88% in  178s   146.04 kB/s"
       ]
      },
      {
       "output_type": "stream",
       "stream": "stdout",
       "text": [
        "\r",
        " 26742784 of 30326502    88% in  178s   145.95 kB/s"
       ]
      },
      {
       "output_type": "stream",
       "stream": "stdout",
       "text": [
        "\r",
        " 26746880 of 30326502    88% in  179s   145.62 kB/s\r",
        " 26750976 of 30326502    88% in  179s   145.64 kB/s\r",
        " 26755072 of 30326502    88% in  179s   145.66 kB/s\r",
        " 26759168 of 30326502    88% in  179s   145.69 kB/s"
       ]
      },
      {
       "output_type": "stream",
       "stream": "stdout",
       "text": [
        "\r",
        " 26763264 of 30326502    88% in  179s   145.46 kB/s\r",
        " 26767360 of 30326502    88% in  179s   145.49 kB/s\r",
        " 26771456 of 30326502    88% in  179s   145.51 kB/s\r",
        " 26775552 of 30326502    88% in  179s   145.53 kB/s\r",
        " 26779648 of 30326502    88% in  179s   145.55 kB/s\r",
        " 26783744 of 30326502    88% in  179s   145.57 kB/s\r",
        " 26787840 of 30326502    88% in  179s   145.60 kB/s\r",
        " 26791936 of 30326502    88% in  179s   145.62 kB/s\r",
        " 26796032 of 30326502    88% in  179s   145.64 kB/s\r",
        " 26800128 of 30326502    88% in  179s   145.66 kB/s\r",
        " 26804224 of 30326502    88% in  179s   145.68 kB/s\r",
        " 26808320 of 30326502    88% in  179s   145.71 kB/s\r",
        " 26812416 of 30326502    88% in  179s   145.73 kB/s\r",
        " 26816512 of 30326502    88% in  179s   145.75 kB/s\r",
        " 26820608 of 30326502    88% in  179s   145.75 kB/s\r",
        " 26824704 of 30326502    88% in  179s   145.76 kB/s"
       ]
      },
      {
       "output_type": "stream",
       "stream": "stdout",
       "text": [
        "\r",
        " 26828800 of 30326502    88% in  179s   145.75 kB/s"
       ]
      },
      {
       "output_type": "stream",
       "stream": "stdout",
       "text": [
        "\r",
        " 26832896 of 30326502    88% in  179s   145.75 kB/s"
       ]
      },
      {
       "output_type": "stream",
       "stream": "stdout",
       "text": [
        "\r",
        " 26836992 of 30326502    88% in  179s   145.65 kB/s\r",
        " 26841088 of 30326502    88% in  179s   145.65 kB/s\r",
        " 26845184 of 30326502    88% in  179s   145.67 kB/s"
       ]
      },
      {
       "output_type": "stream",
       "stream": "stdout",
       "text": [
        "\r",
        " 26849280 of 30326502    88% in  179s   145.68 kB/s\r",
        " 26853376 of 30326502    88% in  179s   145.70 kB/s\r",
        " 26857472 of 30326502    88% in  179s   145.71 kB/s"
       ]
      },
      {
       "output_type": "stream",
       "stream": "stdout",
       "text": [
        "\r",
        " 26861568 of 30326502    88% in  180s   145.68 kB/s\r",
        " 26865664 of 30326502    88% in  180s   145.69 kB/s"
       ]
      },
      {
       "output_type": "stream",
       "stream": "stdout",
       "text": [
        "\r",
        " 26869760 of 30326502    88% in  180s   145.60 kB/s"
       ]
      },
      {
       "output_type": "stream",
       "stream": "stdout",
       "text": [
        "\r",
        " 26873856 of 30326502    88% in  180s   145.59 kB/s\r",
        " 26877952 of 30326502    88% in  180s   145.61 kB/s\r",
        " 26882048 of 30326502    88% in  180s   145.62 kB/s"
       ]
      },
      {
       "output_type": "stream",
       "stream": "stdout",
       "text": [
        "\r",
        " 26886144 of 30326502    88% in  180s   145.64 kB/s\r",
        " 26890240 of 30326502    88% in  180s   145.65 kB/s"
       ]
      },
      {
       "output_type": "stream",
       "stream": "stdout",
       "text": [
        "\r",
        " 26894336 of 30326502    88% in  180s   145.63 kB/s"
       ]
      },
      {
       "output_type": "stream",
       "stream": "stdout",
       "text": [
        "\r",
        " 26898432 of 30326502    88% in  180s   145.60 kB/s"
       ]
      },
      {
       "output_type": "stream",
       "stream": "stdout",
       "text": [
        "\r",
        " 26902528 of 30326502    88% in  180s   145.52 kB/s"
       ]
      },
      {
       "output_type": "stream",
       "stream": "stdout",
       "text": [
        "\r",
        " 26906624 of 30326502    88% in  180s   145.54 kB/s\r",
        " 26910720 of 30326502    88% in  180s   145.55 kB/s\r",
        " 26914816 of 30326502    88% in  180s   145.57 kB/s\r",
        " 26918912 of 30326502    88% in  180s   145.58 kB/s\r",
        " 26923008 of 30326502    88% in  180s   145.60 kB/s"
       ]
      },
      {
       "output_type": "stream",
       "stream": "stdout",
       "text": [
        "\r",
        " 26927104 of 30326502    88% in  180s   145.57 kB/s"
       ]
      },
      {
       "output_type": "stream",
       "stream": "stdout",
       "text": [
        "\r",
        " 26931200 of 30326502    88% in  180s   145.54 kB/s"
       ]
      },
      {
       "output_type": "stream",
       "stream": "stdout",
       "text": [
        "\r",
        " 26935296 of 30326502    88% in  180s   145.47 kB/s\r",
        " 26939392 of 30326502    88% in  180s   145.48 kB/s\r",
        " 26943488 of 30326502    88% in  180s   145.50 kB/s"
       ]
      },
      {
       "output_type": "stream",
       "stream": "stdout",
       "text": [
        "\r",
        " 26947584 of 30326502    88% in  180s   145.51 kB/s\r",
        " 26951680 of 30326502    88% in  180s   145.53 kB/s"
       ]
      },
      {
       "output_type": "stream",
       "stream": "stdout",
       "text": [
        "\r",
        " 26955776 of 30326502    88% in  180s   145.50 kB/s\r",
        " 26959872 of 30326502    88% in  180s   145.51 kB/s"
       ]
      },
      {
       "output_type": "stream",
       "stream": "stdout",
       "text": [
        "\r",
        " 26963968 of 30326502    88% in  181s   145.43 kB/s"
       ]
      },
      {
       "output_type": "stream",
       "stream": "stdout",
       "text": [
        "\r",
        " 26968064 of 30326502    88% in  181s   145.41 kB/s\r",
        " 26972160 of 30326502    88% in  181s   145.43 kB/s\r",
        " 26976256 of 30326502    88% in  181s   145.45 kB/s\r",
        " 26980352 of 30326502    88% in  181s   145.46 kB/s\r",
        " 26984448 of 30326502    88% in  181s   145.47 kB/s"
       ]
      },
      {
       "output_type": "stream",
       "stream": "stdout",
       "text": [
        "\r",
        " 26988544 of 30326502    88% in  181s   145.45 kB/s"
       ]
      },
      {
       "output_type": "stream",
       "stream": "stdout",
       "text": [
        "\r",
        " 26992640 of 30326502    89% in  181s   145.42 kB/s\r",
        " 26996736 of 30326502    89% in  181s   145.43 kB/s"
       ]
      },
      {
       "output_type": "stream",
       "stream": "stdout",
       "text": [
        "\r",
        " 27000832 of 30326502    89% in  181s   145.36 kB/s"
       ]
      },
      {
       "output_type": "stream",
       "stream": "stdout",
       "text": [
        "\r",
        " 27004928 of 30326502    89% in  181s   145.37 kB/s\r",
        " 27009024 of 30326502    89% in  181s   145.39 kB/s\r",
        " 27013120 of 30326502    89% in  181s   145.40 kB/s\r",
        " 27017216 of 30326502    89% in  181s   145.42 kB/s"
       ]
      },
      {
       "output_type": "stream",
       "stream": "stdout",
       "text": [
        "\r",
        " 27021312 of 30326502    89% in  181s   145.40 kB/s"
       ]
      },
      {
       "output_type": "stream",
       "stream": "stdout",
       "text": [
        "\r",
        " 27025408 of 30326502    89% in  181s   145.37 kB/s"
       ]
      },
      {
       "output_type": "stream",
       "stream": "stdout",
       "text": [
        "\r",
        " 27029504 of 30326502    89% in  181s   145.33 kB/s"
       ]
      },
      {
       "output_type": "stream",
       "stream": "stdout",
       "text": [
        "\r",
        " 27033600 of 30326502    89% in  181s   145.31 kB/s\r",
        " 27037696 of 30326502    89% in  181s   145.32 kB/s\r",
        " 27041792 of 30326502    89% in  181s   145.34 kB/s\r",
        " 27045888 of 30326502    89% in  181s   145.35 kB/s"
       ]
      },
      {
       "output_type": "stream",
       "stream": "stdout",
       "text": [
        "\r",
        " 27049984 of 30326502    89% in  181s   145.37 kB/s"
       ]
      },
      {
       "output_type": "stream",
       "stream": "stdout",
       "text": [
        "\r",
        " 27054080 of 30326502    89% in  181s   145.34 kB/s"
       ]
      },
      {
       "output_type": "stream",
       "stream": "stdout",
       "text": [
        "\r",
        " 27058176 of 30326502    89% in  181s   145.28 kB/s\r",
        " 27062272 of 30326502    89% in  181s   145.27 kB/s"
       ]
      },
      {
       "output_type": "stream",
       "stream": "stdout",
       "text": [
        "\r",
        " 27066368 of 30326502    89% in  181s   145.26 kB/s"
       ]
      },
      {
       "output_type": "stream",
       "stream": "stdout",
       "text": [
        "\r",
        " 27070464 of 30326502    89% in  181s   145.27 kB/s\r",
        " 27074560 of 30326502    89% in  181s   145.28 kB/s\r",
        " 27078656 of 30326502    89% in  181s   145.30 kB/s\r",
        " 27082752 of 30326502    89% in  182s   145.31 kB/s"
       ]
      },
      {
       "output_type": "stream",
       "stream": "stdout",
       "text": [
        "\r",
        " 27086848 of 30326502    89% in  182s   145.29 kB/s"
       ]
      },
      {
       "output_type": "stream",
       "stream": "stdout",
       "text": [
        "\r",
        " 27090944 of 30326502    89% in  182s   145.23 kB/s"
       ]
      },
      {
       "output_type": "stream",
       "stream": "stdout",
       "text": [
        "\r",
        " 27095040 of 30326502    89% in  182s   145.23 kB/s"
       ]
      },
      {
       "output_type": "stream",
       "stream": "stdout",
       "text": [
        "\r",
        " 27099136 of 30326502    89% in  182s   145.20 kB/s\r",
        " 27103232 of 30326502    89% in  182s   145.22 kB/s\r",
        " 27107328 of 30326502    89% in  182s   145.24 kB/s"
       ]
      },
      {
       "output_type": "stream",
       "stream": "stdout",
       "text": [
        "\r",
        " 27111424 of 30326502    89% in  182s   145.25 kB/s\r",
        " 27115520 of 30326502    89% in  182s   145.26 kB/s"
       ]
      },
      {
       "output_type": "stream",
       "stream": "stdout",
       "text": [
        "\r",
        " 27119616 of 30326502    89% in  182s   145.24 kB/s"
       ]
      },
      {
       "output_type": "stream",
       "stream": "stdout",
       "text": [
        "\r",
        " 27123712 of 30326502    89% in  182s   145.18 kB/s\r",
        " 27127808 of 30326502    89% in  182s   145.18 kB/s"
       ]
      },
      {
       "output_type": "stream",
       "stream": "stdout",
       "text": [
        "\r",
        " 27131904 of 30326502    89% in  182s   145.19 kB/s"
       ]
      },
      {
       "output_type": "stream",
       "stream": "stdout",
       "text": [
        "\r",
        " 27136000 of 30326502    89% in  182s   145.17 kB/s\r",
        " 27140096 of 30326502    89% in  182s   145.19 kB/s\r",
        " 27144192 of 30326502    89% in  182s   145.20 kB/s\r",
        " 27148288 of 30326502    89% in  182s   145.21 kB/s"
       ]
      },
      {
       "output_type": "stream",
       "stream": "stdout",
       "text": [
        "\r",
        " 27152384 of 30326502    89% in  182s   145.19 kB/s"
       ]
      },
      {
       "output_type": "stream",
       "stream": "stdout",
       "text": [
        "\r",
        " 27156480 of 30326502    89% in  182s   145.13 kB/s"
       ]
      },
      {
       "output_type": "stream",
       "stream": "stdout",
       "text": [
        "\r",
        " 27160576 of 30326502    89% in  182s   145.15 kB/s\r",
        " 27164672 of 30326502    89% in  182s   145.14 kB/s"
       ]
      },
      {
       "output_type": "stream",
       "stream": "stdout",
       "text": [
        "\r",
        " 27168768 of 30326502    89% in  182s   145.13 kB/s\r",
        " 27172864 of 30326502    89% in  182s   145.14 kB/s"
       ]
      },
      {
       "output_type": "stream",
       "stream": "stdout",
       "text": [
        "\r",
        " 27176960 of 30326502    89% in  182s   145.15 kB/s\r",
        " 27181056 of 30326502    89% in  182s   145.16 kB/s"
       ]
      },
      {
       "output_type": "stream",
       "stream": "stdout",
       "text": [
        "\r",
        " 27185152 of 30326502    89% in  182s   145.15 kB/s"
       ]
      },
      {
       "output_type": "stream",
       "stream": "stdout",
       "text": [
        "\r",
        " 27189248 of 30326502    89% in  183s   145.07 kB/s\r",
        " 27193344 of 30326502    89% in  183s   145.09 kB/s"
       ]
      },
      {
       "output_type": "stream",
       "stream": "stdout",
       "text": [
        "\r",
        " 27197440 of 30326502    89% in  183s   145.09 kB/s"
       ]
      },
      {
       "output_type": "stream",
       "stream": "stdout",
       "text": [
        "\r",
        " 27201536 of 30326502    89% in  183s   145.08 kB/s\r",
        " 27205632 of 30326502    89% in  183s   145.09 kB/s\r",
        " 27209728 of 30326502    89% in  183s   145.11 kB/s\r",
        " 27213824 of 30326502    89% in  183s   145.12 kB/s"
       ]
      },
      {
       "output_type": "stream",
       "stream": "stdout",
       "text": [
        "\r",
        " 27217920 of 30326502    89% in  183s   145.13 kB/s\r",
        " 27222016 of 30326502    89% in  183s   145.12 kB/s"
       ]
      },
      {
       "output_type": "stream",
       "stream": "stdout",
       "text": [
        "\r",
        " 27226112 of 30326502    89% in  183s   145.04 kB/s\r",
        " 27230208 of 30326502    89% in  183s   145.05 kB/s\r",
        " 27234304 of 30326502    89% in  183s   145.05 kB/s"
       ]
      },
      {
       "output_type": "stream",
       "stream": "stdout",
       "text": [
        "\r",
        " 27238400 of 30326502    89% in  183s   145.05 kB/s"
       ]
      },
      {
       "output_type": "stream",
       "stream": "stdout",
       "text": [
        "\r",
        " 27242496 of 30326502    89% in  183s   145.06 kB/s\r",
        " 27246592 of 30326502    89% in  183s   145.07 kB/s\r",
        " 27250688 of 30326502    89% in  183s   145.09 kB/s"
       ]
      },
      {
       "output_type": "stream",
       "stream": "stdout",
       "text": [
        "\r",
        " 27254784 of 30326502    89% in  183s   145.07 kB/s"
       ]
      },
      {
       "output_type": "stream",
       "stream": "stdout",
       "text": [
        "\r",
        " 27258880 of 30326502    89% in  183s   144.99 kB/s\r",
        " 27262976 of 30326502    89% in  183s   145.01 kB/s"
       ]
      },
      {
       "output_type": "stream",
       "stream": "stdout",
       "text": [
        "\r",
        " 27267072 of 30326502    89% in  183s   145.02 kB/s"
       ]
      },
      {
       "output_type": "stream",
       "stream": "stdout",
       "text": [
        "\r",
        " 27271168 of 30326502    89% in  183s   145.00 kB/s\r",
        " 27275264 of 30326502    89% in  183s   145.01 kB/s\r",
        " 27279360 of 30326502    89% in  183s   145.02 kB/s\r",
        " 27283456 of 30326502    89% in  183s   145.04 kB/s"
       ]
      },
      {
       "output_type": "stream",
       "stream": "stdout",
       "text": [
        "\r",
        " 27287552 of 30326502    89% in  183s   145.05 kB/s\r",
        " 27291648 of 30326502    89% in  183s   145.04 kB/s"
       ]
      },
      {
       "output_type": "stream",
       "stream": "stdout",
       "text": [
        "\r",
        " 27295744 of 30326502    90% in  183s   144.97 kB/s\r",
        " 27299840 of 30326502    90% in  183s   144.98 kB/s\r",
        " 27303936 of 30326502    90% in  183s   144.99 kB/s"
       ]
      },
      {
       "output_type": "stream",
       "stream": "stdout",
       "text": [
        "\r",
        " 27308032 of 30326502    90% in  183s   144.97 kB/s"
       ]
      },
      {
       "output_type": "stream",
       "stream": "stdout",
       "text": [
        "\r",
        " 27312128 of 30326502    90% in  183s   144.98 kB/s\r",
        " 27316224 of 30326502    90% in  183s   144.99 kB/s\r",
        " 27320320 of 30326502    90% in  183s   145.01 kB/s\r",
        " 27324416 of 30326502    90% in  183s   145.02 kB/s"
       ]
      },
      {
       "output_type": "stream",
       "stream": "stdout",
       "text": [
        "\r",
        " 27328512 of 30326502    90% in  184s   145.01 kB/s"
       ]
      },
      {
       "output_type": "stream",
       "stream": "stdout",
       "text": [
        "\r",
        " 27332608 of 30326502    90% in  184s   144.93 kB/s"
       ]
      },
      {
       "output_type": "stream",
       "stream": "stdout",
       "text": [
        "\r",
        " 27336704 of 30326502    90% in  184s   144.95 kB/s\r",
        " 27340800 of 30326502    90% in  184s   144.96 kB/s"
       ]
      },
      {
       "output_type": "stream",
       "stream": "stdout",
       "text": [
        "\r",
        " 27344896 of 30326502    90% in  184s   144.94 kB/s\r",
        " 27348992 of 30326502    90% in  184s   144.95 kB/s\r",
        " 27353088 of 30326502    90% in  184s   144.96 kB/s"
       ]
      },
      {
       "output_type": "stream",
       "stream": "stdout",
       "text": [
        "\r",
        " 27357184 of 30326502    90% in  184s   144.98 kB/s\r",
        " 27361280 of 30326502    90% in  184s   144.99 kB/s"
       ]
      },
      {
       "output_type": "stream",
       "stream": "stdout",
       "text": [
        "\r",
        " 27365376 of 30326502    90% in  184s   144.98 kB/s"
       ]
      },
      {
       "output_type": "stream",
       "stream": "stdout",
       "text": [
        "\r",
        " 27369472 of 30326502    90% in  184s   144.91 kB/s\r",
        " 27373568 of 30326502    90% in  184s   144.92 kB/s\r",
        " 27377664 of 30326502    90% in  184s   144.93 kB/s"
       ]
      },
      {
       "output_type": "stream",
       "stream": "stdout",
       "text": [
        "\r",
        " 27381760 of 30326502    90% in  184s   144.91 kB/s"
       ]
      },
      {
       "output_type": "stream",
       "stream": "stdout",
       "text": [
        "\r",
        " 27385856 of 30326502    90% in  184s   144.92 kB/s\r",
        " 27389952 of 30326502    90% in  184s   144.93 kB/s\r",
        " 27394048 of 30326502    90% in  184s   144.95 kB/s"
       ]
      },
      {
       "output_type": "stream",
       "stream": "stdout",
       "text": [
        "\r",
        " 27398144 of 30326502    90% in  184s   144.95 kB/s\r",
        " 27402240 of 30326502    90% in  184s   144.95 kB/s"
       ]
      },
      {
       "output_type": "stream",
       "stream": "stdout",
       "text": [
        "\r",
        " 27406336 of 30326502    90% in  184s   144.88 kB/s"
       ]
      },
      {
       "output_type": "stream",
       "stream": "stdout",
       "text": [
        "\r",
        " 27410432 of 30326502    90% in  185s   144.66 kB/s\r",
        " 27414528 of 30326502    90% in  185s   144.68 kB/s\r",
        " 27418624 of 30326502    90% in  185s   144.70 kB/s\r",
        " 27422720 of 30326502    90% in  185s   144.72 kB/s\r",
        " 27426816 of 30326502    90% in  185s   144.75 kB/s\r",
        " 27430912 of 30326502    90% in  185s   144.77 kB/s\r",
        " 27435008 of 30326502    90% in  185s   144.79 kB/s\r",
        " 27439104 of 30326502    90% in  185s   144.81 kB/s\r",
        " 27443200 of 30326502    90% in  185s   144.83 kB/s\r",
        " 27447296 of 30326502    90% in  185s   144.85 kB/s"
       ]
      },
      {
       "output_type": "stream",
       "stream": "stdout",
       "text": [
        "\r",
        " 27451392 of 30326502    90% in  185s   144.83 kB/s\r",
        " 27455488 of 30326502    90% in  185s   144.83 kB/s\r",
        " 27459584 of 30326502    90% in  185s   144.84 kB/s"
       ]
      },
      {
       "output_type": "stream",
       "stream": "stdout",
       "text": [
        "\r",
        " 27463680 of 30326502    90% in  185s   144.84 kB/s"
       ]
      },
      {
       "output_type": "stream",
       "stream": "stdout",
       "text": [
        "\r",
        " 27467776 of 30326502    90% in  185s   144.76 kB/s\r",
        " 27471872 of 30326502    90% in  185s   144.77 kB/s\r",
        " 27475968 of 30326502    90% in  185s   144.78 kB/s"
       ]
      },
      {
       "output_type": "stream",
       "stream": "stdout",
       "text": [
        "\r",
        " 27480064 of 30326502    90% in  185s   144.76 kB/s"
       ]
      },
      {
       "output_type": "stream",
       "stream": "stdout",
       "text": [
        "\r",
        " 27484160 of 30326502    90% in  185s   144.76 kB/s\r",
        " 27488256 of 30326502    90% in  185s   144.77 kB/s"
       ]
      },
      {
       "output_type": "stream",
       "stream": "stdout",
       "text": [
        "\r",
        " 27492352 of 30326502    90% in  185s   144.77 kB/s"
       ]
      },
      {
       "output_type": "stream",
       "stream": "stdout",
       "text": [
        "\r",
        " 27496448 of 30326502    90% in  185s   144.69 kB/s\r",
        " 27500544 of 30326502    90% in  185s   144.70 kB/s"
       ]
      },
      {
       "output_type": "stream",
       "stream": "stdout",
       "text": [
        "\r",
        " 27504640 of 30326502    90% in  185s   144.71 kB/s"
       ]
      },
      {
       "output_type": "stream",
       "stream": "stdout",
       "text": [
        "\r",
        " 27508736 of 30326502    90% in  185s   144.69 kB/s\r",
        " 27512832 of 30326502    90% in  185s   144.69 kB/s\r",
        " 27516928 of 30326502    90% in  185s   144.70 kB/s"
       ]
      },
      {
       "output_type": "stream",
       "stream": "stdout",
       "text": [
        "\r",
        " 27521024 of 30326502    90% in  185s   144.70 kB/s\r",
        " 27525120 of 30326502    90% in  185s   144.71 kB/s"
       ]
      },
      {
       "output_type": "stream",
       "stream": "stdout",
       "text": [
        "\r",
        " 27529216 of 30326502    90% in  185s   144.63 kB/s\r",
        " 27533312 of 30326502    90% in  185s   144.64 kB/s\r",
        " 27537408 of 30326502    90% in  185s   144.66 kB/s"
       ]
      },
      {
       "output_type": "stream",
       "stream": "stdout",
       "text": [
        "\r",
        " 27541504 of 30326502    90% in  185s   144.63 kB/s"
       ]
      },
      {
       "output_type": "stream",
       "stream": "stdout",
       "text": [
        "\r",
        " 27545600 of 30326502    90% in  185s   144.64 kB/s\r",
        " 27549696 of 30326502    90% in  185s   144.65 kB/s"
       ]
      },
      {
       "output_type": "stream",
       "stream": "stdout",
       "text": [
        "\r",
        " 27553792 of 30326502    90% in  186s   144.64 kB/s"
       ]
      },
      {
       "output_type": "stream",
       "stream": "stdout",
       "text": [
        "\r",
        " 27557888 of 30326502    90% in  186s   144.56 kB/s"
       ]
      },
      {
       "output_type": "stream",
       "stream": "stdout",
       "text": [
        "\r",
        " 27561984 of 30326502    90% in  186s   144.57 kB/s\r",
        " 27566080 of 30326502    90% in  186s   144.59 kB/s"
       ]
      },
      {
       "output_type": "stream",
       "stream": "stdout",
       "text": [
        "\r",
        " 27570176 of 30326502    90% in  186s   144.56 kB/s\r",
        " 27574272 of 30326502    90% in  186s   144.57 kB/s\r",
        " 27578368 of 30326502    90% in  186s   144.59 kB/s"
       ]
      },
      {
       "output_type": "stream",
       "stream": "stdout",
       "text": [
        "\r",
        " 27582464 of 30326502    90% in  186s   144.58 kB/s"
       ]
      },
      {
       "output_type": "stream",
       "stream": "stdout",
       "text": [
        "\r",
        " 27586560 of 30326502    90% in  186s   144.49 kB/s\r",
        " 27590656 of 30326502    90% in  186s   144.50 kB/s\r",
        " 27594752 of 30326502    90% in  186s   144.52 kB/s"
       ]
      },
      {
       "output_type": "stream",
       "stream": "stdout",
       "text": [
        "\r",
        " 27598848 of 30326502    91% in  186s   144.50 kB/s\r",
        " 27602944 of 30326502    91% in  186s   144.52 kB/s"
       ]
      },
      {
       "output_type": "stream",
       "stream": "stdout",
       "text": [
        "\r",
        " 27607040 of 30326502    91% in  186s   144.52 kB/s\r",
        " 27611136 of 30326502    91% in  186s   144.53 kB/s"
       ]
      },
      {
       "output_type": "stream",
       "stream": "stdout",
       "text": [
        "\r",
        " 27615232 of 30326502    91% in  186s   144.52 kB/s"
       ]
      },
      {
       "output_type": "stream",
       "stream": "stdout",
       "text": [
        "\r",
        " 27619328 of 30326502    91% in  186s   144.44 kB/s\r",
        " 27623424 of 30326502    91% in  186s   144.45 kB/s\r",
        " 27627520 of 30326502    91% in  186s   144.46 kB/s"
       ]
      },
      {
       "output_type": "stream",
       "stream": "stdout",
       "text": [
        "\r",
        " 27631616 of 30326502    91% in  186s   144.46 kB/s\r",
        " 27635712 of 30326502    91% in  186s   144.46 kB/s"
       ]
      },
      {
       "output_type": "stream",
       "stream": "stdout",
       "text": [
        "\r",
        " 27639808 of 30326502    91% in  186s   144.46 kB/s\r",
        " 27643904 of 30326502    91% in  186s   144.46 kB/s"
       ]
      },
      {
       "output_type": "stream",
       "stream": "stdout",
       "text": [
        "\r",
        " 27648000 of 30326502    91% in  187s   144.38 kB/s\r",
        " 27652096 of 30326502    91% in  187s   144.39 kB/s\r",
        " 27656192 of 30326502    91% in  187s   144.40 kB/s"
       ]
      },
      {
       "output_type": "stream",
       "stream": "stdout",
       "text": [
        "\r",
        " 27660288 of 30326502    91% in  187s   144.41 kB/s"
       ]
      },
      {
       "output_type": "stream",
       "stream": "stdout",
       "text": [
        "\r",
        " 27664384 of 30326502    91% in  187s   144.16 kB/s\r",
        " 27668480 of 30326502    91% in  187s   144.18 kB/s\r",
        " 27672576 of 30326502    91% in  187s   144.21 kB/s\r",
        " 27676672 of 30326502    91% in  187s   144.23 kB/s\r",
        " 27680768 of 30326502    91% in  187s   144.25 kB/s\r",
        " 27684864 of 30326502    91% in  187s   144.27 kB/s\r",
        " 27688960 of 30326502    91% in  187s   144.29 kB/s\r",
        " 27693056 of 30326502    91% in  187s   144.31 kB/s\r",
        " 27697152 of 30326502    91% in  187s   144.33 kB/s"
       ]
      },
      {
       "output_type": "stream",
       "stream": "stdout",
       "text": [
        "\r",
        " 27701248 of 30326502    91% in  187s   144.32 kB/s"
       ]
      },
      {
       "output_type": "stream",
       "stream": "stdout",
       "text": [
        "\r",
        " 27705344 of 30326502    91% in  187s   144.23 kB/s\r",
        " 27709440 of 30326502    91% in  187s   144.24 kB/s"
       ]
      },
      {
       "output_type": "stream",
       "stream": "stdout",
       "text": [
        "\r",
        " 27713536 of 30326502    91% in  187s   144.25 kB/s"
       ]
      },
      {
       "output_type": "stream",
       "stream": "stdout",
       "text": [
        "\r",
        " 27717632 of 30326502    91% in  187s   144.24 kB/s\r",
        " 27721728 of 30326502    91% in  187s   144.24 kB/s"
       ]
      },
      {
       "output_type": "stream",
       "stream": "stdout",
       "text": [
        "\r",
        " 27725824 of 30326502    91% in  187s   144.23 kB/s"
       ]
      },
      {
       "output_type": "stream",
       "stream": "stdout",
       "text": [
        "\r",
        " 27729920 of 30326502    91% in  187s   144.14 kB/s\r",
        " 27734016 of 30326502    91% in  187s   144.16 kB/s\r",
        " 27738112 of 30326502    91% in  187s   144.17 kB/s\r",
        " 27742208 of 30326502    91% in  187s   144.18 kB/s"
       ]
      },
      {
       "output_type": "stream",
       "stream": "stdout",
       "text": [
        "\r",
        " 27746304 of 30326502    91% in  187s   144.15 kB/s\r",
        " 27750400 of 30326502    91% in  187s   144.15 kB/s"
       ]
      },
      {
       "output_type": "stream",
       "stream": "stdout",
       "text": [
        "\r",
        " 27754496 of 30326502    91% in  188s   144.06 kB/s\r",
        " 27758592 of 30326502    91% in  188s   144.07 kB/s"
       ]
      },
      {
       "output_type": "stream",
       "stream": "stdout",
       "text": [
        "\r",
        " 27762688 of 30326502    91% in  188s   144.08 kB/s\r",
        " 27766784 of 30326502    91% in  188s   144.09 kB/s"
       ]
      },
      {
       "output_type": "stream",
       "stream": "stdout",
       "text": [
        "\r",
        " 27770880 of 30326502    91% in  188s   144.07 kB/s"
       ]
      },
      {
       "output_type": "stream",
       "stream": "stdout",
       "text": [
        "\r",
        " 27774976 of 30326502    91% in  188s   144.06 kB/s\r",
        " 27779072 of 30326502    91% in  188s   144.07 kB/s"
       ]
      },
      {
       "output_type": "stream",
       "stream": "stdout",
       "text": [
        "\r",
        " 27783168 of 30326502    91% in  188s   143.98 kB/s\r",
        " 27787264 of 30326502    91% in  188s   143.99 kB/s"
       ]
      },
      {
       "output_type": "stream",
       "stream": "stdout",
       "text": [
        "\r",
        " 27791360 of 30326502    91% in  188s   144.00 kB/s"
       ]
      },
      {
       "output_type": "stream",
       "stream": "stdout",
       "text": [
        "\r",
        " 27795456 of 30326502    91% in  188s   143.98 kB/s\r",
        " 27799552 of 30326502    91% in  188s   143.97 kB/s"
       ]
      },
      {
       "output_type": "stream",
       "stream": "stdout",
       "text": [
        "\r",
        " 27803648 of 30326502    91% in  188s   143.98 kB/s"
       ]
      },
      {
       "output_type": "stream",
       "stream": "stdout",
       "text": [
        "\r",
        " 27807744 of 30326502    91% in  188s   143.89 kB/s"
       ]
      },
      {
       "output_type": "stream",
       "stream": "stdout",
       "text": [
        "\r",
        " 27811840 of 30326502    91% in  188s   143.90 kB/s\r",
        " 27815936 of 30326502    91% in  188s   143.91 kB/s"
       ]
      },
      {
       "output_type": "stream",
       "stream": "stdout",
       "text": [
        "\r",
        " 27820032 of 30326502    91% in  188s   143.89 kB/s\r",
        " 27824128 of 30326502    91% in  188s   143.90 kB/s"
       ]
      },
      {
       "output_type": "stream",
       "stream": "stdout",
       "text": [
        "\r",
        " 27828224 of 30326502    91% in  188s   143.90 kB/s"
       ]
      },
      {
       "output_type": "stream",
       "stream": "stdout",
       "text": [
        "\r",
        " 27832320 of 30326502    91% in  188s   143.81 kB/s\r",
        " 27836416 of 30326502    91% in  189s   143.82 kB/s\r",
        " 27840512 of 30326502    91% in  189s   143.83 kB/s"
       ]
      },
      {
       "output_type": "stream",
       "stream": "stdout",
       "text": [
        "\r",
        " 27844608 of 30326502    91% in  189s   143.83 kB/s"
       ]
      },
      {
       "output_type": "stream",
       "stream": "stdout",
       "text": [
        "\r",
        " 27848704 of 30326502    91% in  189s   143.82 kB/s\r",
        " 27852800 of 30326502    91% in  189s   143.81 kB/s"
       ]
      },
      {
       "output_type": "stream",
       "stream": "stdout",
       "text": [
        "\r",
        " 27856896 of 30326502    91% in  189s   143.82 kB/s"
       ]
      },
      {
       "output_type": "stream",
       "stream": "stdout",
       "text": [
        "\r",
        " 27860992 of 30326502    91% in  189s   143.74 kB/s\r",
        " 27865088 of 30326502    91% in  189s   143.75 kB/s\r",
        " 27869184 of 30326502    91% in  189s   143.76 kB/s\r",
        " 27873280 of 30326502    91% in  189s   143.76 kB/s"
       ]
      },
      {
       "output_type": "stream",
       "stream": "stdout",
       "text": [
        "\r",
        " 27877376 of 30326502    91% in  189s   143.75 kB/s"
       ]
      },
      {
       "output_type": "stream",
       "stream": "stdout",
       "text": [
        "\r",
        " 27881472 of 30326502    91% in  189s   143.74 kB/s\r",
        " 27885568 of 30326502    91% in  189s   143.75 kB/s"
       ]
      },
      {
       "output_type": "stream",
       "stream": "stdout",
       "text": [
        "\r",
        " 27889664 of 30326502    91% in  189s   143.67 kB/s\r",
        " 27893760 of 30326502    91% in  189s   143.68 kB/s"
       ]
      },
      {
       "output_type": "stream",
       "stream": "stdout",
       "text": [
        "\r",
        " 27897856 of 30326502    91% in  189s   143.68 kB/s"
       ]
      },
      {
       "output_type": "stream",
       "stream": "stdout",
       "text": [
        "\r",
        " 27901952 of 30326502    92% in  189s   143.66 kB/s"
       ]
      },
      {
       "output_type": "stream",
       "stream": "stdout",
       "text": [
        "\r",
        " 27906048 of 30326502    92% in  189s   143.65 kB/s\r",
        " 27910144 of 30326502    92% in  189s   143.67 kB/s"
       ]
      },
      {
       "output_type": "stream",
       "stream": "stdout",
       "text": [
        "\r",
        " 27914240 of 30326502    92% in  189s   143.58 kB/s\r",
        " 27918336 of 30326502    92% in  189s   143.60 kB/s\r",
        " 27922432 of 30326502    92% in  189s   143.61 kB/s"
       ]
      },
      {
       "output_type": "stream",
       "stream": "stdout",
       "text": [
        "\r",
        " 27926528 of 30326502    92% in  189s   143.60 kB/s\r",
        " 27930624 of 30326502    92% in  189s   143.59 kB/s"
       ]
      },
      {
       "output_type": "stream",
       "stream": "stdout",
       "text": [
        "\r",
        " 27934720 of 30326502    92% in  189s   143.58 kB/s\r",
        " 27938816 of 30326502    92% in  190s   143.60 kB/s"
       ]
      },
      {
       "output_type": "stream",
       "stream": "stdout",
       "text": [
        "\r",
        " 27942912 of 30326502    92% in  190s   143.51 kB/s\r",
        " 27947008 of 30326502    92% in  190s   143.53 kB/s"
       ]
      },
      {
       "output_type": "stream",
       "stream": "stdout",
       "text": [
        "\r",
        " 27951104 of 30326502    92% in  190s   143.54 kB/s\r",
        " 27955200 of 30326502    92% in  190s   143.54 kB/s"
       ]
      },
      {
       "output_type": "stream",
       "stream": "stdout",
       "text": [
        "\r",
        " 27959296 of 30326502    92% in  190s   143.53 kB/s"
       ]
      },
      {
       "output_type": "stream",
       "stream": "stdout",
       "text": [
        "\r",
        " 27963392 of 30326502    92% in  190s   143.51 kB/s\r",
        " 27967488 of 30326502    92% in  190s   143.53 kB/s"
       ]
      },
      {
       "output_type": "stream",
       "stream": "stdout",
       "text": [
        "\r",
        " 27971584 of 30326502    92% in  190s   143.45 kB/s"
       ]
      },
      {
       "output_type": "stream",
       "stream": "stdout",
       "text": [
        "\r",
        " 27975680 of 30326502    92% in  190s   143.46 kB/s\r",
        " 27979776 of 30326502    92% in  190s   143.47 kB/s"
       ]
      },
      {
       "output_type": "stream",
       "stream": "stdout",
       "text": [
        "\r",
        " 27983872 of 30326502    92% in  190s   143.47 kB/s\r",
        " 27987968 of 30326502    92% in  190s   143.46 kB/s"
       ]
      },
      {
       "output_type": "stream",
       "stream": "stdout",
       "text": [
        "\r",
        " 27992064 of 30326502    92% in  190s   143.45 kB/s"
       ]
      },
      {
       "output_type": "stream",
       "stream": "stdout",
       "text": [
        "\r",
        " 27996160 of 30326502    92% in  190s   143.46 kB/s"
       ]
      },
      {
       "output_type": "stream",
       "stream": "stdout",
       "text": [
        "\r",
        " 28000256 of 30326502    92% in  190s   143.38 kB/s\r",
        " 28004352 of 30326502    92% in  190s   143.39 kB/s"
       ]
      },
      {
       "output_type": "stream",
       "stream": "stdout",
       "text": [
        "\r",
        " 28008448 of 30326502    92% in  190s   143.41 kB/s\r",
        " 28012544 of 30326502    92% in  190s   143.40 kB/s"
       ]
      },
      {
       "output_type": "stream",
       "stream": "stdout",
       "text": [
        "\r",
        " 28016640 of 30326502    92% in  190s   143.40 kB/s"
       ]
      },
      {
       "output_type": "stream",
       "stream": "stdout",
       "text": [
        "\r",
        " 28020736 of 30326502    92% in  190s   143.38 kB/s\r",
        " 28024832 of 30326502    92% in  190s   143.39 kB/s"
       ]
      },
      {
       "output_type": "stream",
       "stream": "stdout",
       "text": [
        "\r",
        " 28028928 of 30326502    92% in  190s   143.31 kB/s\r",
        " 28033024 of 30326502    92% in  191s   143.32 kB/s\r",
        " 28037120 of 30326502    92% in  191s   143.34 kB/s"
       ]
      },
      {
       "output_type": "stream",
       "stream": "stdout",
       "text": [
        "\r",
        " 28041216 of 30326502    92% in  191s   143.34 kB/s"
       ]
      },
      {
       "output_type": "stream",
       "stream": "stdout",
       "text": [
        "\r",
        " 28045312 of 30326502    92% in  191s   143.33 kB/s\r",
        " 28049408 of 30326502    92% in  191s   143.32 kB/s"
       ]
      },
      {
       "output_type": "stream",
       "stream": "stdout",
       "text": [
        "\r",
        " 28053504 of 30326502    92% in  191s   143.33 kB/s"
       ]
      },
      {
       "output_type": "stream",
       "stream": "stdout",
       "text": [
        "\r",
        " 28057600 of 30326502    92% in  191s   143.25 kB/s"
       ]
      },
      {
       "output_type": "stream",
       "stream": "stdout",
       "text": [
        "\r",
        " 28061696 of 30326502    92% in  191s   143.26 kB/s\r",
        " 28065792 of 30326502    92% in  191s   143.27 kB/s\r",
        " 28069888 of 30326502    92% in  191s   143.27 kB/s"
       ]
      },
      {
       "output_type": "stream",
       "stream": "stdout",
       "text": [
        "\r",
        " 28073984 of 30326502    92% in  191s   143.27 kB/s\r",
        " 28078080 of 30326502    92% in  191s   143.28 kB/s"
       ]
      },
      {
       "output_type": "stream",
       "stream": "stdout",
       "text": [
        "\r",
        " 28082176 of 30326502    92% in  191s   143.27 kB/s"
       ]
      },
      {
       "output_type": "stream",
       "stream": "stdout",
       "text": [
        "\r",
        " 28086272 of 30326502    92% in  191s   143.18 kB/s\r",
        " 28090368 of 30326502    92% in  191s   143.19 kB/s\r",
        " 28094464 of 30326502    92% in  191s   143.21 kB/s"
       ]
      },
      {
       "output_type": "stream",
       "stream": "stdout",
       "text": [
        "\r",
        " 28098560 of 30326502    92% in  191s   143.21 kB/s\r",
        " 28102656 of 30326502    92% in  191s   143.22 kB/s"
       ]
      },
      {
       "output_type": "stream",
       "stream": "stdout",
       "text": [
        "\r",
        " 28106752 of 30326502    92% in  191s   143.22 kB/s"
       ]
      },
      {
       "output_type": "stream",
       "stream": "stdout",
       "text": [
        "\r",
        " 28110848 of 30326502    92% in  191s   143.20 kB/s"
       ]
      },
      {
       "output_type": "stream",
       "stream": "stdout",
       "text": [
        "\r",
        " 28114944 of 30326502    92% in  191s   143.12 kB/s\r",
        " 28119040 of 30326502    92% in  191s   143.13 kB/s"
       ]
      },
      {
       "output_type": "stream",
       "stream": "stdout",
       "text": [
        "\r",
        " 28123136 of 30326502    92% in  191s   143.14 kB/s\r",
        " 28127232 of 30326502    92% in  191s   143.14 kB/s\r",
        " 28131328 of 30326502    92% in  191s   143.16 kB/s"
       ]
      },
      {
       "output_type": "stream",
       "stream": "stdout",
       "text": [
        "\r",
        " 28135424 of 30326502    92% in  191s   143.16 kB/s"
       ]
      },
      {
       "output_type": "stream",
       "stream": "stdout",
       "text": [
        "\r",
        " 28139520 of 30326502    92% in  191s   143.13 kB/s\r",
        " 28143616 of 30326502    92% in  192s   143.14 kB/s"
       ]
      },
      {
       "output_type": "stream",
       "stream": "stdout",
       "text": [
        "\r",
        " 28147712 of 30326502    92% in  192s   143.07 kB/s\r",
        " 28151808 of 30326502    92% in  192s   143.08 kB/s\r",
        " 28155904 of 30326502    92% in  192s   143.10 kB/s"
       ]
      },
      {
       "output_type": "stream",
       "stream": "stdout",
       "text": [
        "\r",
        " 28160000 of 30326502    92% in  192s   143.10 kB/s\r",
        " 28164096 of 30326502    92% in  192s   143.11 kB/s"
       ]
      },
      {
       "output_type": "stream",
       "stream": "stdout",
       "text": [
        "\r",
        " 28168192 of 30326502    92% in  192s   143.11 kB/s"
       ]
      },
      {
       "output_type": "stream",
       "stream": "stdout",
       "text": [
        "\r",
        " 28172288 of 30326502    92% in  192s   143.08 kB/s"
       ]
      },
      {
       "output_type": "stream",
       "stream": "stdout",
       "text": [
        "\r",
        " 28176384 of 30326502    92% in  192s   143.01 kB/s"
       ]
      },
      {
       "output_type": "stream",
       "stream": "stdout",
       "text": [
        "\r",
        " 28180480 of 30326502    92% in  192s   143.02 kB/s\r",
        " 28184576 of 30326502    92% in  192s   143.03 kB/s\r",
        " 28188672 of 30326502    92% in  192s   143.05 kB/s"
       ]
      },
      {
       "output_type": "stream",
       "stream": "stdout",
       "text": [
        "\r",
        " 28192768 of 30326502    92% in  192s   143.05 kB/s\r",
        " 28196864 of 30326502    92% in  192s   143.05 kB/s"
       ]
      },
      {
       "output_type": "stream",
       "stream": "stdout",
       "text": [
        "\r",
        " 28200960 of 30326502    92% in  192s   143.03 kB/s"
       ]
      },
      {
       "output_type": "stream",
       "stream": "stdout",
       "text": [
        "\r",
        " 28205056 of 30326502    93% in  192s   143.03 kB/s"
       ]
      },
      {
       "output_type": "stream",
       "stream": "stdout",
       "text": [
        "\r",
        " 28209152 of 30326502    93% in  192s   142.96 kB/s\r",
        " 28213248 of 30326502    93% in  192s   142.97 kB/s\r",
        " 28217344 of 30326502    93% in  192s   142.99 kB/s"
       ]
      },
      {
       "output_type": "stream",
       "stream": "stdout",
       "text": [
        "\r",
        " 28221440 of 30326502    93% in  192s   142.99 kB/s\r",
        " 28225536 of 30326502    93% in  192s   143.00 kB/s"
       ]
      },
      {
       "output_type": "stream",
       "stream": "stdout",
       "text": [
        "\r",
        " 28229632 of 30326502    93% in  192s   143.00 kB/s"
       ]
      },
      {
       "output_type": "stream",
       "stream": "stdout",
       "text": [
        "\r",
        " 28233728 of 30326502    93% in  192s   142.97 kB/s\r",
        " 28237824 of 30326502    93% in  192s   142.98 kB/s"
       ]
      },
      {
       "output_type": "stream",
       "stream": "stdout",
       "text": [
        "\r",
        " 28241920 of 30326502    93% in  192s   142.91 kB/s\r",
        " 28246016 of 30326502    93% in  193s   142.92 kB/s\r",
        " 28250112 of 30326502    93% in  193s   142.94 kB/s"
       ]
      },
      {
       "output_type": "stream",
       "stream": "stdout",
       "text": [
        "\r",
        " 28254208 of 30326502    93% in  193s   142.94 kB/s\r",
        " 28258304 of 30326502    93% in  193s   142.95 kB/s\r",
        " 28262400 of 30326502    93% in  193s   142.95 kB/s"
       ]
      },
      {
       "output_type": "stream",
       "stream": "stdout",
       "text": [
        "\r",
        " 28266496 of 30326502    93% in  193s   142.92 kB/s"
       ]
      },
      {
       "output_type": "stream",
       "stream": "stdout",
       "text": [
        "\r",
        " 28270592 of 30326502    93% in  193s   142.85 kB/s\r",
        " 28274688 of 30326502    93% in  193s   142.86 kB/s"
       ]
      },
      {
       "output_type": "stream",
       "stream": "stdout",
       "text": [
        "\r",
        " 28278784 of 30326502    93% in  193s   142.87 kB/s\r",
        " 28282880 of 30326502    93% in  193s   142.89 kB/s\r",
        " 28286976 of 30326502    93% in  193s   142.89 kB/s\r",
        " 28291072 of 30326502    93% in  193s   142.90 kB/s"
       ]
      },
      {
       "output_type": "stream",
       "stream": "stdout",
       "text": [
        "\r",
        " 28295168 of 30326502    93% in  193s   142.91 kB/s"
       ]
      },
      {
       "output_type": "stream",
       "stream": "stdout",
       "text": [
        "\r",
        " 28299264 of 30326502    93% in  193s   142.89 kB/s\r",
        " 28303360 of 30326502    93% in  193s   142.89 kB/s"
       ]
      },
      {
       "output_type": "stream",
       "stream": "stdout",
       "text": [
        "\r",
        " 28307456 of 30326502    93% in  193s   142.81 kB/s\r",
        " 28311552 of 30326502    93% in  193s   142.83 kB/s\r",
        " 28315648 of 30326502    93% in  193s   142.84 kB/s"
       ]
      },
      {
       "output_type": "stream",
       "stream": "stdout",
       "text": [
        "\r",
        " 28319744 of 30326502    93% in  193s   142.85 kB/s\r",
        " 28323840 of 30326502    93% in  193s   142.86 kB/s\r",
        " 28327936 of 30326502    93% in  193s   142.88 kB/s\r",
        " 28332032 of 30326502    93% in  193s   142.89 kB/s"
       ]
      },
      {
       "output_type": "stream",
       "stream": "stdout",
       "text": [
        "\r",
        " 28336128 of 30326502    93% in  193s   142.87 kB/s"
       ]
      },
      {
       "output_type": "stream",
       "stream": "stdout",
       "text": [
        "\r",
        " 28340224 of 30326502    93% in  193s   142.87 kB/s"
       ]
      },
      {
       "output_type": "stream",
       "stream": "stdout",
       "text": [
        "\r",
        " 28344320 of 30326502    93% in  193s   142.80 kB/s"
       ]
      },
      {
       "output_type": "stream",
       "stream": "stdout",
       "text": [
        "\r",
        " 28348416 of 30326502    93% in  193s   142.81 kB/s\r",
        " 28352512 of 30326502    93% in  193s   142.82 kB/s\r",
        " 28356608 of 30326502    93% in  193s   142.83 kB/s\r",
        " 28360704 of 30326502    93% in  193s   142.84 kB/s\r",
        " 28364800 of 30326502    93% in  193s   142.86 kB/s"
       ]
      },
      {
       "output_type": "stream",
       "stream": "stdout",
       "text": [
        "\r",
        " 28368896 of 30326502    93% in  193s   142.87 kB/s\r",
        " 28372992 of 30326502    93% in  193s   142.89 kB/s"
       ]
      },
      {
       "output_type": "stream",
       "stream": "stdout",
       "text": [
        "\r",
        " 28377088 of 30326502    93% in  193s   142.87 kB/s\r",
        " 28381184 of 30326502    93% in  193s   142.87 kB/s"
       ]
      },
      {
       "output_type": "stream",
       "stream": "stdout",
       "text": [
        "\r",
        " 28385280 of 30326502    93% in  194s   142.79 kB/s\r",
        " 28389376 of 30326502    93% in  194s   142.80 kB/s\r",
        " 28393472 of 30326502    93% in  194s   142.82 kB/s\r",
        " 28397568 of 30326502    93% in  194s   142.83 kB/s"
       ]
      },
      {
       "output_type": "stream",
       "stream": "stdout",
       "text": [
        "\r",
        " 28401664 of 30326502    93% in  194s   142.85 kB/s\r",
        " 28405760 of 30326502    93% in  194s   142.86 kB/s\r",
        " 28409856 of 30326502    93% in  194s   142.87 kB/s\r",
        " 28413952 of 30326502    93% in  194s   142.89 kB/s\r",
        " 28418048 of 30326502    93% in  194s   142.90 kB/s"
       ]
      },
      {
       "output_type": "stream",
       "stream": "stdout",
       "text": [
        "\r",
        " 28422144 of 30326502    93% in  194s   142.92 kB/s\r",
        " 28426240 of 30326502    93% in  194s   142.90 kB/s"
       ]
      },
      {
       "output_type": "stream",
       "stream": "stdout",
       "text": [
        "\r",
        " 28430336 of 30326502    93% in  194s   142.91 kB/s\r",
        " 28434432 of 30326502    93% in  194s   142.92 kB/s"
       ]
      },
      {
       "output_type": "stream",
       "stream": "stdout",
       "text": [
        "\r",
        " 28438528 of 30326502    93% in  194s   142.84 kB/s\r",
        " 28442624 of 30326502    93% in  194s   142.85 kB/s\r",
        " 28446720 of 30326502    93% in  194s   142.87 kB/s\r",
        " 28450816 of 30326502    93% in  194s   142.88 kB/s\r",
        " 28454912 of 30326502    93% in  194s   142.90 kB/s"
       ]
      },
      {
       "output_type": "stream",
       "stream": "stdout",
       "text": [
        "\r",
        " 28459008 of 30326502    93% in  194s   142.91 kB/s\r",
        " 28463104 of 30326502    93% in  194s   142.93 kB/s\r",
        " 28467200 of 30326502    93% in  194s   142.94 kB/s\r",
        " 28471296 of 30326502    93% in  194s   142.96 kB/s\r",
        " 28475392 of 30326502    93% in  194s   142.97 kB/s\r",
        " 28479488 of 30326502    93% in  194s   142.98 kB/s"
       ]
      },
      {
       "output_type": "stream",
       "stream": "stdout",
       "text": [
        "\r",
        " 28483584 of 30326502    93% in  195s   142.50 kB/s"
       ]
      },
      {
       "output_type": "stream",
       "stream": "stdout",
       "text": [
        "\r",
        " 28487680 of 30326502    93% in  195s   142.47 kB/s\r",
        " 28491776 of 30326502    93% in  195s   142.49 kB/s\r",
        " 28495872 of 30326502    93% in  195s   142.51 kB/s\r",
        " 28499968 of 30326502    93% in  195s   142.53 kB/s\r",
        " 28504064 of 30326502    93% in  195s   142.55 kB/s\r",
        " 28508160 of 30326502    94% in  195s   142.57 kB/s\r",
        " 28512256 of 30326502    94% in  195s   142.59 kB/s\r",
        " 28516352 of 30326502    94% in  195s   142.61 kB/s\r",
        " 28520448 of 30326502    94% in  195s   142.63 kB/s\r",
        " 28524544 of 30326502    94% in  195s   142.65 kB/s\r",
        " 28528640 of 30326502    94% in  195s   142.67 kB/s\r",
        " 28532736 of 30326502    94% in  195s   142.69 kB/s\r",
        " 28536832 of 30326502    94% in  195s   142.71 kB/s\r",
        " 28540928 of 30326502    94% in  195s   142.73 kB/s\r",
        " 28545024 of 30326502    94% in  195s   142.75 kB/s\r",
        " 28549120 of 30326502    94% in  195s   142.77 kB/s\r",
        " 28553216 of 30326502    94% in  195s   142.79 kB/s\r",
        " 28557312 of 30326502    94% in  195s   142.81 kB/s\r",
        " 28561408 of 30326502    94% in  195s   142.83 kB/s\r",
        " 28565504 of 30326502    94% in  195s   142.85 kB/s\r",
        " 28569600 of 30326502    94% in  195s   142.87 kB/s\r",
        " 28573696 of 30326502    94% in  195s   142.90 kB/s\r",
        " 28577792 of 30326502    94% in  195s   142.92 kB/s\r",
        " 28581888 of 30326502    94% in  195s   142.94 kB/s"
       ]
      },
      {
       "output_type": "stream",
       "stream": "stdout",
       "text": [
        "\r",
        " 28585984 of 30326502    94% in  195s   142.94 kB/s\r",
        " 28590080 of 30326502    94% in  195s   142.95 kB/s\r",
        " 28594176 of 30326502    94% in  195s   142.96 kB/s"
       ]
      },
      {
       "output_type": "stream",
       "stream": "stdout",
       "text": [
        "\r",
        " 28598272 of 30326502    94% in  195s   142.97 kB/s\r",
        " 28602368 of 30326502    94% in  195s   142.99 kB/s\r",
        " 28606464 of 30326502    94% in  195s   143.00 kB/s\r",
        " 28610560 of 30326502    94% in  195s   143.01 kB/s\r",
        " 28614656 of 30326502    94% in  195s   143.03 kB/s\r",
        " 28618752 of 30326502    94% in  195s   143.04 kB/s"
       ]
      },
      {
       "output_type": "stream",
       "stream": "stdout",
       "text": [
        "\r",
        " 28622848 of 30326502    94% in  195s   142.99 kB/s"
       ]
      },
      {
       "output_type": "stream",
       "stream": "stdout",
       "text": [
        "\r",
        " 28626944 of 30326502    94% in  195s   142.95 kB/s\r",
        " 28631040 of 30326502    94% in  195s   142.96 kB/s\r",
        " 28635136 of 30326502    94% in  195s   142.97 kB/s"
       ]
      },
      {
       "output_type": "stream",
       "stream": "stdout",
       "text": [
        "\r",
        " 28639232 of 30326502    94% in  195s   142.99 kB/s\r",
        " 28643328 of 30326502    94% in  195s   143.00 kB/s\r",
        " 28647424 of 30326502    94% in  195s   143.01 kB/s\r",
        " 28651520 of 30326502    94% in  195s   143.03 kB/s\r",
        " 28655616 of 30326502    94% in  195s   143.04 kB/s"
       ]
      },
      {
       "output_type": "stream",
       "stream": "stdout",
       "text": [
        "\r",
        " 28659712 of 30326502    94% in  195s   143.06 kB/s\r",
        " 28663808 of 30326502    94% in  195s   143.07 kB/s\r",
        " 28667904 of 30326502    94% in  195s   143.08 kB/s\r",
        " 28672000 of 30326502    94% in  195s   143.10 kB/s"
       ]
      },
      {
       "output_type": "stream",
       "stream": "stdout",
       "text": [
        "\r",
        " 28676096 of 30326502    94% in  195s   143.05 kB/s"
       ]
      },
      {
       "output_type": "stream",
       "stream": "stdout",
       "text": [
        "\r",
        " 28680192 of 30326502    94% in  195s   143.01 kB/s\r",
        " 28684288 of 30326502    94% in  195s   143.02 kB/s\r",
        " 28688384 of 30326502    94% in  195s   143.04 kB/s\r",
        " 28692480 of 30326502    94% in  195s   143.04 kB/s\r",
        " 28696576 of 30326502    94% in  195s   143.06 kB/s"
       ]
      },
      {
       "output_type": "stream",
       "stream": "stdout",
       "text": [
        "\r",
        " 28700672 of 30326502    94% in  195s   143.07 kB/s\r",
        " 28704768 of 30326502    94% in  195s   143.08 kB/s\r",
        " 28708864 of 30326502    94% in  195s   143.10 kB/s\r",
        " 28712960 of 30326502    94% in  195s   143.11 kB/s\r",
        " 28717056 of 30326502    94% in  195s   143.13 kB/s\r",
        " 28721152 of 30326502    94% in  195s   143.14 kB/s"
       ]
      },
      {
       "output_type": "stream",
       "stream": "stdout",
       "text": [
        "\r",
        " 28725248 of 30326502    94% in  195s   143.16 kB/s"
       ]
      },
      {
       "output_type": "stream",
       "stream": "stdout",
       "text": [
        "\r",
        " 28729344 of 30326502    94% in  196s   143.11 kB/s"
       ]
      },
      {
       "output_type": "stream",
       "stream": "stdout",
       "text": [
        "\r",
        " 28733440 of 30326502    94% in  196s   143.07 kB/s\r",
        " 28737536 of 30326502    94% in  196s   143.08 kB/s\r",
        " 28741632 of 30326502    94% in  196s   143.10 kB/s"
       ]
      },
      {
       "output_type": "stream",
       "stream": "stdout",
       "text": [
        "\r",
        " 28745728 of 30326502    94% in  196s   143.10 kB/s\r",
        " 28749824 of 30326502    94% in  196s   143.11 kB/s\r",
        " 28753920 of 30326502    94% in  196s   143.13 kB/s\r",
        " 28758016 of 30326502    94% in  196s   143.14 kB/s"
       ]
      },
      {
       "output_type": "stream",
       "stream": "stdout",
       "text": [
        "\r",
        " 28762112 of 30326502    94% in  196s   143.16 kB/s\r",
        " 28766208 of 30326502    94% in  196s   143.17 kB/s\r",
        " 28770304 of 30326502    94% in  196s   143.18 kB/s\r",
        " 28774400 of 30326502    94% in  196s   143.20 kB/s\r",
        " 28778496 of 30326502    94% in  196s   143.21 kB/s\r",
        " 28782592 of 30326502    94% in  196s   143.23 kB/s"
       ]
      },
      {
       "output_type": "stream",
       "stream": "stdout",
       "text": [
        "\r",
        " 28786688 of 30326502    94% in  196s   143.18 kB/s"
       ]
      },
      {
       "output_type": "stream",
       "stream": "stdout",
       "text": [
        "\r",
        " 28790784 of 30326502    94% in  196s   143.14 kB/s\r",
        " 28794880 of 30326502    94% in  196s   143.16 kB/s\r",
        " 28798976 of 30326502    94% in  196s   143.16 kB/s"
       ]
      },
      {
       "output_type": "stream",
       "stream": "stdout",
       "text": [
        "\r",
        " 28803072 of 30326502    94% in  196s   143.17 kB/s\r",
        " 28807168 of 30326502    94% in  196s   143.18 kB/s\r",
        " 28811264 of 30326502    95% in  196s   143.19 kB/s\r",
        " 28815360 of 30326502    95% in  196s   143.21 kB/s\r",
        " 28819456 of 30326502    95% in  196s   143.22 kB/s"
       ]
      },
      {
       "output_type": "stream",
       "stream": "stdout",
       "text": [
        "\r",
        " 28823552 of 30326502    95% in  196s   143.24 kB/s\r",
        " 28827648 of 30326502    95% in  196s   143.25 kB/s\r",
        " 28831744 of 30326502    95% in  196s   143.26 kB/s\r",
        " 28835840 of 30326502    95% in  196s   143.28 kB/s"
       ]
      },
      {
       "output_type": "stream",
       "stream": "stdout",
       "text": [
        "\r",
        " 28839936 of 30326502    95% in  196s   143.24 kB/s"
       ]
      },
      {
       "output_type": "stream",
       "stream": "stdout",
       "text": [
        "\r",
        " 28844032 of 30326502    95% in  196s   143.20 kB/s\r",
        " 28848128 of 30326502    95% in  196s   143.21 kB/s"
       ]
      },
      {
       "output_type": "stream",
       "stream": "stdout",
       "text": [
        "\r",
        " 28852224 of 30326502    95% in  196s   143.22 kB/s\r",
        " 28856320 of 30326502    95% in  196s   143.23 kB/s\r",
        " 28860416 of 30326502    95% in  196s   143.24 kB/s"
       ]
      },
      {
       "output_type": "stream",
       "stream": "stdout",
       "text": [
        "\r",
        " 28864512 of 30326502    95% in  196s   143.24 kB/s\r",
        " 28868608 of 30326502    95% in  196s   143.26 kB/s\r",
        " 28872704 of 30326502    95% in  196s   143.27 kB/s\r",
        " 28876800 of 30326502    95% in  196s   143.28 kB/s"
       ]
      },
      {
       "output_type": "stream",
       "stream": "stdout",
       "text": [
        "\r",
        " 28880896 of 30326502    95% in  196s   143.30 kB/s\r",
        " 28884992 of 30326502    95% in  196s   143.31 kB/s\r",
        " 28889088 of 30326502    95% in  196s   143.32 kB/s\r",
        " 28893184 of 30326502    95% in  196s   143.34 kB/s"
       ]
      },
      {
       "output_type": "stream",
       "stream": "stdout",
       "text": [
        "\r",
        " 28897280 of 30326502    95% in  196s   143.30 kB/s"
       ]
      },
      {
       "output_type": "stream",
       "stream": "stdout",
       "text": [
        "\r",
        " 28901376 of 30326502    95% in  197s   143.26 kB/s"
       ]
      },
      {
       "output_type": "stream",
       "stream": "stdout",
       "text": [
        "\r",
        " 28905472 of 30326502    95% in  197s   143.27 kB/s\r",
        " 28909568 of 30326502    95% in  197s   143.27 kB/s\r",
        " 28913664 of 30326502    95% in  197s   143.28 kB/s"
       ]
      },
      {
       "output_type": "stream",
       "stream": "stdout",
       "text": [
        "\r",
        " 28917760 of 30326502    95% in  197s   143.29 kB/s\r",
        " 28921856 of 30326502    95% in  197s   143.30 kB/s\r",
        " 28925952 of 30326502    95% in  197s   143.30 kB/s"
       ]
      },
      {
       "output_type": "stream",
       "stream": "stdout",
       "text": [
        "\r",
        " 28930048 of 30326502    95% in  197s   143.32 kB/s\r",
        " 28934144 of 30326502    95% in  197s   143.33 kB/s\r",
        " 28938240 of 30326502    95% in  197s   143.34 kB/s\r",
        " 28942336 of 30326502    95% in  197s   143.36 kB/s\r",
        " 28946432 of 30326502    95% in  197s   143.37 kB/s"
       ]
      },
      {
       "output_type": "stream",
       "stream": "stdout",
       "text": [
        "\r",
        " 28950528 of 30326502    95% in  197s   143.33 kB/s"
       ]
      },
      {
       "output_type": "stream",
       "stream": "stdout",
       "text": [
        "\r",
        " 28954624 of 30326502    95% in  197s   143.28 kB/s\r",
        " 28958720 of 30326502    95% in  197s   143.30 kB/s\r",
        " 28962816 of 30326502    95% in  197s   143.30 kB/s"
       ]
      },
      {
       "output_type": "stream",
       "stream": "stdout",
       "text": [
        "\r",
        " 28966912 of 30326502    95% in  197s   143.31 kB/s\r",
        " 28971008 of 30326502    95% in  197s   143.32 kB/s"
       ]
      },
      {
       "output_type": "stream",
       "stream": "stdout",
       "text": [
        "\r",
        " 28975104 of 30326502    95% in  197s   143.32 kB/s\r",
        " 28979200 of 30326502    95% in  197s   143.33 kB/s\r",
        " 28983296 of 30326502    95% in  197s   143.34 kB/s\r",
        " 28987392 of 30326502    95% in  197s   143.35 kB/s\r",
        " 28991488 of 30326502    95% in  197s   143.37 kB/s"
       ]
      },
      {
       "output_type": "stream",
       "stream": "stdout",
       "text": [
        "\r",
        " 28995584 of 30326502    95% in  197s   143.38 kB/s\r",
        " 28999680 of 30326502    95% in  197s   143.40 kB/s\r",
        " 29003776 of 30326502    95% in  197s   143.41 kB/s"
       ]
      },
      {
       "output_type": "stream",
       "stream": "stdout",
       "text": [
        "\r",
        " 29007872 of 30326502    95% in  197s   143.37 kB/s"
       ]
      },
      {
       "output_type": "stream",
       "stream": "stdout",
       "text": [
        "\r",
        " 29011968 of 30326502    95% in  197s   143.32 kB/s"
       ]
      },
      {
       "output_type": "stream",
       "stream": "stdout",
       "text": [
        "\r",
        " 29016064 of 30326502    95% in  197s   143.33 kB/s\r",
        " 29020160 of 30326502    95% in  197s   143.33 kB/s\r",
        " 29024256 of 30326502    95% in  197s   143.34 kB/s"
       ]
      },
      {
       "output_type": "stream",
       "stream": "stdout",
       "text": [
        "\r",
        " 29028352 of 30326502    95% in  197s   143.35 kB/s\r",
        " 29032448 of 30326502    95% in  197s   143.35 kB/s\r",
        " 29036544 of 30326502    95% in  197s   143.36 kB/s"
       ]
      },
      {
       "output_type": "stream",
       "stream": "stdout",
       "text": [
        "\r",
        " 29040640 of 30326502    95% in  197s   143.37 kB/s\r",
        " 29044736 of 30326502    95% in  197s   143.39 kB/s\r",
        " 29048832 of 30326502    95% in  197s   143.40 kB/s\r",
        " 29052928 of 30326502    95% in  197s   143.41 kB/s\r",
        " 29057024 of 30326502    95% in  197s   143.43 kB/s"
       ]
      },
      {
       "output_type": "stream",
       "stream": "stdout",
       "text": [
        "\r",
        " 29061120 of 30326502    95% in  197s   143.44 kB/s"
       ]
      },
      {
       "output_type": "stream",
       "stream": "stdout",
       "text": [
        "\r",
        " 29065216 of 30326502    95% in  197s   143.40 kB/s"
       ]
      },
      {
       "output_type": "stream",
       "stream": "stdout",
       "text": [
        "\r",
        " 29069312 of 30326502    95% in  198s   143.34 kB/s"
       ]
      },
      {
       "output_type": "stream",
       "stream": "stdout",
       "text": [
        "\r",
        " 29073408 of 30326502    95% in  198s   143.34 kB/s\r",
        " 29077504 of 30326502    95% in  198s   143.36 kB/s\r",
        " 29081600 of 30326502    95% in  198s   143.36 kB/s"
       ]
      },
      {
       "output_type": "stream",
       "stream": "stdout",
       "text": [
        "\r",
        " 29085696 of 30326502    95% in  198s   143.37 kB/s\r",
        " 29089792 of 30326502    95% in  198s   143.37 kB/s"
       ]
      },
      {
       "output_type": "stream",
       "stream": "stdout",
       "text": [
        "\r",
        " 29093888 of 30326502    95% in  198s   143.38 kB/s\r",
        " 29097984 of 30326502    95% in  198s   143.40 kB/s\r",
        " 29102080 of 30326502    95% in  198s   143.41 kB/s\r",
        " 29106176 of 30326502    95% in  198s   143.42 kB/s\r",
        " 29110272 of 30326502    95% in  198s   143.43 kB/s"
       ]
      },
      {
       "output_type": "stream",
       "stream": "stdout",
       "text": [
        "\r",
        " 29114368 of 30326502    96% in  198s   143.17 kB/s\r",
        " 29118464 of 30326502    96% in  198s   143.19 kB/s\r",
        " 29122560 of 30326502    96% in  198s   143.21 kB/s\r",
        " 29126656 of 30326502    96% in  198s   143.23 kB/s\r",
        " 29130752 of 30326502    96% in  198s   143.25 kB/s\r",
        " 29134848 of 30326502    96% in  198s   143.27 kB/s\r",
        " 29138944 of 30326502    96% in  198s   143.29 kB/s\r",
        " 29143040 of 30326502    96% in  198s   143.31 kB/s\r",
        " 29147136 of 30326502    96% in  198s   143.33 kB/s\r",
        " 29151232 of 30326502    96% in  198s   143.35 kB/s\r",
        " 29155328 of 30326502    96% in  198s   143.37 kB/s\r",
        " 29159424 of 30326502    96% in  198s   143.39 kB/s\r",
        " 29163520 of 30326502    96% in  198s   143.41 kB/s\r",
        " 29167616 of 30326502    96% in  198s   143.43 kB/s\r",
        " 29171712 of 30326502    96% in  198s   143.45 kB/s"
       ]
      },
      {
       "output_type": "stream",
       "stream": "stdout",
       "text": [
        "\r",
        " 29175808 of 30326502    96% in  198s   143.32 kB/s"
       ]
      },
      {
       "output_type": "stream",
       "stream": "stdout",
       "text": [
        "\r",
        " 29179904 of 30326502    96% in  198s   143.31 kB/s\r",
        " 29184000 of 30326502    96% in  198s   143.32 kB/s"
       ]
      },
      {
       "output_type": "stream",
       "stream": "stdout",
       "text": [
        "\r",
        " 29188096 of 30326502    96% in  198s   143.31 kB/s\r",
        " 29192192 of 30326502    96% in  198s   143.32 kB/s"
       ]
      },
      {
       "output_type": "stream",
       "stream": "stdout",
       "text": [
        "\r",
        " 29196288 of 30326502    96% in  198s   143.33 kB/s\r",
        " 29200384 of 30326502    96% in  198s   143.35 kB/s\r",
        " 29204480 of 30326502    96% in  198s   143.36 kB/s\r",
        " 29208576 of 30326502    96% in  198s   143.37 kB/s\r",
        " 29212672 of 30326502    96% in  198s   143.38 kB/s"
       ]
      },
      {
       "output_type": "stream",
       "stream": "stdout",
       "text": [
        "\r",
        " 29216768 of 30326502    96% in  198s   143.39 kB/s"
       ]
      },
      {
       "output_type": "stream",
       "stream": "stdout",
       "text": [
        "\r",
        " 29220864 of 30326502    96% in  199s   143.27 kB/s\r",
        " 29224960 of 30326502    96% in  199s   143.26 kB/s"
       ]
      },
      {
       "output_type": "stream",
       "stream": "stdout",
       "text": [
        "\r",
        " 29229056 of 30326502    96% in  199s   143.26 kB/s"
       ]
      },
      {
       "output_type": "stream",
       "stream": "stdout",
       "text": [
        "\r",
        " 29233152 of 30326502    96% in  199s   143.25 kB/s\r",
        " 29237248 of 30326502    96% in  199s   143.27 kB/s\r",
        " 29241344 of 30326502    96% in  199s   143.28 kB/s\r",
        " 29245440 of 30326502    96% in  199s   143.29 kB/s\r",
        " 29249536 of 30326502    96% in  199s   143.31 kB/s"
       ]
      },
      {
       "output_type": "stream",
       "stream": "stdout",
       "text": [
        "\r",
        " 29253632 of 30326502    96% in  199s   143.32 kB/s\r",
        " 29257728 of 30326502    96% in  199s   143.33 kB/s\r",
        " 29261824 of 30326502    96% in  199s   143.34 kB/s"
       ]
      },
      {
       "output_type": "stream",
       "stream": "stdout",
       "text": [
        "\r",
        " 29265920 of 30326502    96% in  199s   143.21 kB/s"
       ]
      },
      {
       "output_type": "stream",
       "stream": "stdout",
       "text": [
        "\r",
        " 29270016 of 30326502    96% in  199s   143.21 kB/s\r",
        " 29274112 of 30326502    96% in  199s   143.21 kB/s"
       ]
      },
      {
       "output_type": "stream",
       "stream": "stdout",
       "text": [
        "\r",
        " 29278208 of 30326502    96% in  199s   143.20 kB/s\r",
        " 29282304 of 30326502    96% in  199s   143.22 kB/s\r",
        " 29286400 of 30326502    96% in  199s   143.23 kB/s"
       ]
      },
      {
       "output_type": "stream",
       "stream": "stdout",
       "text": [
        "\r",
        " 29290496 of 30326502    96% in  199s   143.24 kB/s\r",
        " 29294592 of 30326502    96% in  199s   143.26 kB/s\r",
        " 29298688 of 30326502    96% in  199s   143.27 kB/s\r",
        " 29302784 of 30326502    96% in  199s   143.27 kB/s"
       ]
      },
      {
       "output_type": "stream",
       "stream": "stdout",
       "text": [
        "\r",
        " 29306880 of 30326502    96% in  199s   143.29 kB/s"
       ]
      },
      {
       "output_type": "stream",
       "stream": "stdout",
       "text": [
        "\r",
        " 29310976 of 30326502    96% in  199s   143.16 kB/s\r",
        " 29315072 of 30326502    96% in  199s   143.17 kB/s\r",
        " 29319168 of 30326502    96% in  199s   143.17 kB/s"
       ]
      },
      {
       "output_type": "stream",
       "stream": "stdout",
       "text": [
        "\r",
        " 29323264 of 30326502    96% in  200s   143.17 kB/s"
       ]
      },
      {
       "output_type": "stream",
       "stream": "stdout",
       "text": [
        "\r",
        " 29327360 of 30326502    96% in  200s   143.16 kB/s\r",
        " 29331456 of 30326502    96% in  200s   143.18 kB/s\r",
        " 29335552 of 30326502    96% in  200s   143.18 kB/s\r",
        " 29339648 of 30326502    96% in  200s   143.20 kB/s\r",
        " 29343744 of 30326502    96% in  200s   143.21 kB/s"
       ]
      },
      {
       "output_type": "stream",
       "stream": "stdout",
       "text": [
        "\r",
        " 29347840 of 30326502    96% in  200s   143.22 kB/s\r",
        " 29351936 of 30326502    96% in  200s   143.23 kB/s"
       ]
      },
      {
       "output_type": "stream",
       "stream": "stdout",
       "text": [
        "\r",
        " 29356032 of 30326502    96% in  200s   143.11 kB/s"
       ]
      },
      {
       "output_type": "stream",
       "stream": "stdout",
       "text": [
        "\r",
        " 29360128 of 30326502    96% in  200s   143.10 kB/s\r",
        " 29364224 of 30326502    96% in  200s   143.10 kB/s\r",
        " 29368320 of 30326502    96% in  200s   143.11 kB/s"
       ]
      },
      {
       "output_type": "stream",
       "stream": "stdout",
       "text": [
        "\r",
        " 29372416 of 30326502    96% in  200s   143.11 kB/s\r",
        " 29376512 of 30326502    96% in  200s   143.12 kB/s"
       ]
      },
      {
       "output_type": "stream",
       "stream": "stdout",
       "text": [
        "\r",
        " 29380608 of 30326502    96% in  200s   143.13 kB/s\r",
        " 29384704 of 30326502    96% in  200s   143.14 kB/s\r",
        " 29388800 of 30326502    96% in  200s   143.16 kB/s\r",
        " 29392896 of 30326502    96% in  200s   143.17 kB/s\r",
        " 29396992 of 30326502    96% in  200s   143.18 kB/s"
       ]
      },
      {
       "output_type": "stream",
       "stream": "stdout",
       "text": [
        "\r",
        " 29401088 of 30326502    96% in  200s   143.19 kB/s"
       ]
      },
      {
       "output_type": "stream",
       "stream": "stdout",
       "text": [
        "\r",
        " 29405184 of 30326502    96% in  200s   143.07 kB/s\r",
        " 29409280 of 30326502    96% in  200s   143.06 kB/s"
       ]
      },
      {
       "output_type": "stream",
       "stream": "stdout",
       "text": [
        "\r",
        " 29413376 of 30326502    96% in  200s   143.06 kB/s"
       ]
      },
      {
       "output_type": "stream",
       "stream": "stdout",
       "text": [
        "\r",
        " 29417472 of 30326502    97% in  200s   143.05 kB/s\r",
        " 29421568 of 30326502    97% in  200s   143.07 kB/s\r",
        " 29425664 of 30326502    97% in  200s   143.08 kB/s\r",
        " 29429760 of 30326502    97% in  200s   143.09 kB/s\r",
        " 29433856 of 30326502    97% in  200s   143.11 kB/s"
       ]
      },
      {
       "output_type": "stream",
       "stream": "stdout",
       "text": [
        "\r",
        " 29437952 of 30326502    97% in  200s   143.12 kB/s\r",
        " 29442048 of 30326502    97% in  200s   143.13 kB/s\r",
        " 29446144 of 30326502    97% in  200s   143.14 kB/s"
       ]
      },
      {
       "output_type": "stream",
       "stream": "stdout",
       "text": [
        "\r",
        " 29450240 of 30326502    97% in  201s   143.03 kB/s\r",
        " 29454336 of 30326502    97% in  201s   143.03 kB/s"
       ]
      },
      {
       "output_type": "stream",
       "stream": "stdout",
       "text": [
        "\r",
        " 29458432 of 30326502    97% in  201s   143.03 kB/s\r",
        " 29462528 of 30326502    97% in  201s   143.02 kB/s"
       ]
      },
      {
       "output_type": "stream",
       "stream": "stdout",
       "text": [
        "\r",
        " 29466624 of 30326502    97% in  201s   143.02 kB/s"
       ]
      },
      {
       "output_type": "stream",
       "stream": "stdout",
       "text": [
        "\r",
        " 29470720 of 30326502    97% in  201s   143.02 kB/s\r",
        " 29474816 of 30326502    97% in  201s   143.04 kB/s\r",
        " 29478912 of 30326502    97% in  201s   143.06 kB/s\r",
        " 29483008 of 30326502    97% in  201s   143.07 kB/s\r",
        " 29487104 of 30326502    97% in  201s   143.08 kB/s"
       ]
      },
      {
       "output_type": "stream",
       "stream": "stdout",
       "text": [
        "\r",
        " 29491200 of 30326502    97% in  201s   143.09 kB/s\r",
        " 29495296 of 30326502    97% in  201s   143.10 kB/s"
       ]
      },
      {
       "output_type": "stream",
       "stream": "stdout",
       "text": [
        "\r",
        " 29499392 of 30326502    97% in  201s   142.98 kB/s\r",
        " 29503488 of 30326502    97% in  201s   142.98 kB/s"
       ]
      },
      {
       "output_type": "stream",
       "stream": "stdout",
       "text": [
        "\r",
        " 29507584 of 30326502    97% in  201s   142.98 kB/s"
       ]
      },
      {
       "output_type": "stream",
       "stream": "stdout",
       "text": [
        "\r",
        " 29511680 of 30326502    97% in  201s   142.97 kB/s\r",
        " 29515776 of 30326502    97% in  201s   142.98 kB/s\r",
        " 29519872 of 30326502    97% in  201s   142.98 kB/s\r",
        " 29523968 of 30326502    97% in  201s   143.00 kB/s"
       ]
      },
      {
       "output_type": "stream",
       "stream": "stdout",
       "text": [
        "\r",
        " 29528064 of 30326502    97% in  201s   143.01 kB/s\r",
        " 29532160 of 30326502    97% in  201s   143.03 kB/s\r",
        " 29536256 of 30326502    97% in  201s   143.04 kB/s\r",
        " 29540352 of 30326502    97% in  201s   143.05 kB/s"
       ]
      },
      {
       "output_type": "stream",
       "stream": "stdout",
       "text": [
        "\r",
        " 29544448 of 30326502    97% in  201s   142.93 kB/s"
       ]
      },
      {
       "output_type": "stream",
       "stream": "stdout",
       "text": [
        "\r",
        " 29548544 of 30326502    97% in  201s   142.93 kB/s\r",
        " 29552640 of 30326502    97% in  201s   142.94 kB/s\r",
        " 29556736 of 30326502    97% in  201s   142.94 kB/s"
       ]
      },
      {
       "output_type": "stream",
       "stream": "stdout",
       "text": [
        "\r",
        " 29560832 of 30326502    97% in  201s   142.93 kB/s"
       ]
      },
      {
       "output_type": "stream",
       "stream": "stdout",
       "text": [
        "\r",
        " 29564928 of 30326502    97% in  201s   142.93 kB/s\r",
        " 29569024 of 30326502    97% in  202s   142.95 kB/s\r",
        " 29573120 of 30326502    97% in  202s   142.96 kB/s\r",
        " 29577216 of 30326502    97% in  202s   142.98 kB/s\r",
        " 29581312 of 30326502    97% in  202s   142.99 kB/s\r",
        " 29585408 of 30326502    97% in  202s   143.00 kB/s"
       ]
      },
      {
       "output_type": "stream",
       "stream": "stdout",
       "text": [
        "\r",
        " 29589504 of 30326502    97% in  202s   143.01 kB/s"
       ]
      },
      {
       "output_type": "stream",
       "stream": "stdout",
       "text": [
        "\r",
        " 29593600 of 30326502    97% in  202s   142.90 kB/s"
       ]
      },
      {
       "output_type": "stream",
       "stream": "stdout",
       "text": [
        "\r",
        " 29597696 of 30326502    97% in  202s   142.89 kB/s"
       ]
      },
      {
       "output_type": "stream",
       "stream": "stdout",
       "text": [
        "\r",
        " 29601792 of 30326502    97% in  202s   142.89 kB/s\r",
        " 29605888 of 30326502    97% in  202s   142.91 kB/s"
       ]
      },
      {
       "output_type": "stream",
       "stream": "stdout",
       "text": [
        "\r",
        " 29609984 of 30326502    97% in  202s   142.90 kB/s"
       ]
      },
      {
       "output_type": "stream",
       "stream": "stdout",
       "text": [
        "\r",
        " 29614080 of 30326502    97% in  202s   142.88 kB/s\r",
        " 29618176 of 30326502    97% in  202s   142.89 kB/s\r",
        " 29622272 of 30326502    97% in  202s   142.91 kB/s\r",
        " 29626368 of 30326502    97% in  202s   142.93 kB/s\r",
        " 29630464 of 30326502    97% in  202s   142.95 kB/s\r",
        " 29634560 of 30326502    97% in  202s   142.97 kB/s\r",
        " 29638656 of 30326502    97% in  202s   142.98 kB/s"
       ]
      },
      {
       "output_type": "stream",
       "stream": "stdout",
       "text": [
        "\r",
        " 29642752 of 30326502    97% in  202s   142.86 kB/s"
       ]
      },
      {
       "output_type": "stream",
       "stream": "stdout",
       "text": [
        "\r",
        " 29646848 of 30326502    97% in  202s   142.86 kB/s\r",
        " 29650944 of 30326502    97% in  202s   142.86 kB/s"
       ]
      },
      {
       "output_type": "stream",
       "stream": "stdout",
       "text": [
        "\r",
        " 29655040 of 30326502    97% in  202s   142.85 kB/s\r",
        " 29659136 of 30326502    97% in  202s   142.86 kB/s"
       ]
      },
      {
       "output_type": "stream",
       "stream": "stdout",
       "text": [
        "\r",
        " 29663232 of 30326502    97% in  202s   142.83 kB/s\r",
        " 29667328 of 30326502    97% in  202s   142.85 kB/s\r",
        " 29671424 of 30326502    97% in  202s   142.86 kB/s\r",
        " 29675520 of 30326502    97% in  202s   142.87 kB/s\r",
        " 29679616 of 30326502    97% in  202s   142.88 kB/s\r",
        " 29683712 of 30326502    97% in  202s   142.90 kB/s"
       ]
      },
      {
       "output_type": "stream",
       "stream": "stdout",
       "text": [
        "\r",
        " 29687808 of 30326502    97% in  202s   142.91 kB/s"
       ]
      },
      {
       "output_type": "stream",
       "stream": "stdout",
       "text": [
        "\r",
        " 29691904 of 30326502    97% in  203s   142.83 kB/s"
       ]
      },
      {
       "output_type": "stream",
       "stream": "stdout",
       "text": [
        "\r",
        " 29696000 of 30326502    97% in  203s   142.82 kB/s"
       ]
      },
      {
       "output_type": "stream",
       "stream": "stdout",
       "text": [
        "\r",
        " 29700096 of 30326502    97% in  203s   142.82 kB/s"
       ]
      },
      {
       "output_type": "stream",
       "stream": "stdout",
       "text": [
        "\r",
        " 29704192 of 30326502    97% in  203s   142.81 kB/s"
       ]
      },
      {
       "output_type": "stream",
       "stream": "stdout",
       "text": [
        "\r",
        " 29708288 of 30326502    97% in  203s   142.78 kB/s\r",
        " 29712384 of 30326502    97% in  203s   142.80 kB/s\r",
        " 29716480 of 30326502    97% in  203s   142.81 kB/s\r",
        " 29720576 of 30326502    98% in  203s   142.82 kB/s"
       ]
      },
      {
       "output_type": "stream",
       "stream": "stdout",
       "text": [
        "\r",
        " 29724672 of 30326502    98% in  203s   142.84 kB/s\r",
        " 29728768 of 30326502    98% in  203s   142.85 kB/s\r",
        " 29732864 of 30326502    98% in  203s   142.86 kB/s\r",
        " 29736960 of 30326502    98% in  203s   142.88 kB/s"
       ]
      },
      {
       "output_type": "stream",
       "stream": "stdout",
       "text": [
        "\r",
        " 29741056 of 30326502    98% in  203s   142.80 kB/s"
       ]
      },
      {
       "output_type": "stream",
       "stream": "stdout",
       "text": [
        "\r",
        " 29745152 of 30326502    98% in  203s   142.79 kB/s\r",
        " 29749248 of 30326502    98% in  203s   142.80 kB/s\r",
        " 29753344 of 30326502    98% in  203s   142.81 kB/s"
       ]
      },
      {
       "output_type": "stream",
       "stream": "stdout",
       "text": [
        "\r",
        " 29757440 of 30326502    98% in  203s   142.79 kB/s"
       ]
      },
      {
       "output_type": "stream",
       "stream": "stdout",
       "text": [
        "\r",
        " 29761536 of 30326502    98% in  203s   142.77 kB/s\r",
        " 29765632 of 30326502    98% in  203s   142.78 kB/s\r",
        " 29769728 of 30326502    98% in  203s   142.79 kB/s\r",
        " 29773824 of 30326502    98% in  203s   142.81 kB/s\r",
        " 29777920 of 30326502    98% in  203s   142.82 kB/s"
       ]
      },
      {
       "output_type": "stream",
       "stream": "stdout",
       "text": [
        "\r",
        " 29782016 of 30326502    98% in  203s   142.83 kB/s\r",
        " 29786112 of 30326502    98% in  203s   142.84 kB/s"
       ]
      },
      {
       "output_type": "stream",
       "stream": "stdout",
       "text": [
        "\r",
        " 29790208 of 30326502    98% in  203s   142.80 kB/s"
       ]
      },
      {
       "output_type": "stream",
       "stream": "stdout",
       "text": [
        "\r",
        " 29794304 of 30326502    98% in  203s   142.77 kB/s\r",
        " 29798400 of 30326502    98% in  203s   142.77 kB/s"
       ]
      },
      {
       "output_type": "stream",
       "stream": "stdout",
       "text": [
        "\r",
        " 29802496 of 30326502    98% in  203s   142.77 kB/s"
       ]
      },
      {
       "output_type": "stream",
       "stream": "stdout",
       "text": [
        "\r",
        " 29806592 of 30326502    98% in  203s   142.76 kB/s"
       ]
      },
      {
       "output_type": "stream",
       "stream": "stdout",
       "text": [
        "\r",
        " 29810688 of 30326502    98% in  203s   142.73 kB/s\r",
        " 29814784 of 30326502    98% in  203s   142.75 kB/s\r",
        " 29818880 of 30326502    98% in  203s   142.76 kB/s\r",
        " 29822976 of 30326502    98% in  203s   142.77 kB/s"
       ]
      },
      {
       "output_type": "stream",
       "stream": "stdout",
       "text": [
        "\r",
        " 29827072 of 30326502    98% in  203s   142.79 kB/s\r",
        " 29831168 of 30326502    98% in  204s   142.80 kB/s\r",
        " 29835264 of 30326502    98% in  204s   142.81 kB/s"
       ]
      },
      {
       "output_type": "stream",
       "stream": "stdout",
       "text": [
        "\r",
        " 29839360 of 30326502    98% in  204s   142.76 kB/s"
       ]
      },
      {
       "output_type": "stream",
       "stream": "stdout",
       "text": [
        "\r",
        " 29843456 of 30326502    98% in  204s   142.74 kB/s"
       ]
      },
      {
       "output_type": "stream",
       "stream": "stdout",
       "text": [
        "\r",
        " 29847552 of 30326502    98% in  204s   142.74 kB/s\r",
        " 29851648 of 30326502    98% in  204s   142.74 kB/s"
       ]
      },
      {
       "output_type": "stream",
       "stream": "stdout",
       "text": [
        "\r",
        " 29855744 of 30326502    98% in  204s   142.73 kB/s"
       ]
      },
      {
       "output_type": "stream",
       "stream": "stdout",
       "text": [
        "\r",
        " 29859840 of 30326502    98% in  204s   142.70 kB/s"
       ]
      },
      {
       "output_type": "stream",
       "stream": "stdout",
       "text": [
        "\r",
        " 29863936 of 30326502    98% in  204s   142.72 kB/s\r",
        " 29868032 of 30326502    98% in  204s   142.73 kB/s\r",
        " 29872128 of 30326502    98% in  204s   142.74 kB/s\r",
        " 29876224 of 30326502    98% in  204s   142.75 kB/s\r",
        " 29880320 of 30326502    98% in  204s   142.76 kB/s"
       ]
      },
      {
       "output_type": "stream",
       "stream": "stdout",
       "text": [
        "\r",
        " 29884416 of 30326502    98% in  204s   142.78 kB/s"
       ]
      },
      {
       "output_type": "stream",
       "stream": "stdout",
       "text": [
        "\r",
        " 29888512 of 30326502    98% in  204s   142.73 kB/s"
       ]
      },
      {
       "output_type": "stream",
       "stream": "stdout",
       "text": [
        "\r",
        " 29892608 of 30326502    98% in  204s   142.71 kB/s\r",
        " 29896704 of 30326502    98% in  204s   142.71 kB/s"
       ]
      },
      {
       "output_type": "stream",
       "stream": "stdout",
       "text": [
        "\r",
        " 29900800 of 30326502    98% in  204s   142.71 kB/s\r",
        " 29904896 of 30326502    98% in  204s   142.70 kB/s"
       ]
      },
      {
       "output_type": "stream",
       "stream": "stdout",
       "text": [
        "\r",
        " 29908992 of 30326502    98% in  204s   142.67 kB/s\r",
        " 29913088 of 30326502    98% in  204s   142.68 kB/s"
       ]
      },
      {
       "output_type": "stream",
       "stream": "stdout",
       "text": [
        "\r",
        " 29917184 of 30326502    98% in  205s   142.43 kB/s\r",
        " 29921280 of 30326502    98% in  205s   142.45 kB/s\r",
        " 29925376 of 30326502    98% in  205s   142.47 kB/s\r",
        " 29929472 of 30326502    98% in  205s   142.49 kB/s\r",
        " 29933568 of 30326502    98% in  205s   142.51 kB/s\r",
        " 29937664 of 30326502    98% in  205s   142.53 kB/s\r",
        " 29941760 of 30326502    98% in  205s   142.55 kB/s\r",
        " 29945856 of 30326502    98% in  205s   142.57 kB/s\r",
        " 29949952 of 30326502    98% in  205s   142.59 kB/s\r",
        " 29954048 of 30326502    98% in  205s   142.61 kB/s\r",
        " 29958144 of 30326502    98% in  205s   142.63 kB/s\r",
        " 29962240 of 30326502    98% in  205s   142.65 kB/s\r",
        " 29966336 of 30326502    98% in  205s   142.67 kB/s\r",
        " 29970432 of 30326502    98% in  205s   142.68 kB/s\r",
        " 29974528 of 30326502    98% in  205s   142.69 kB/s"
       ]
      },
      {
       "output_type": "stream",
       "stream": "stdout",
       "text": [
        "\r",
        " 29978624 of 30326502    98% in  205s   142.64 kB/s"
       ]
      },
      {
       "output_type": "stream",
       "stream": "stdout",
       "text": [
        "\r",
        " 29982720 of 30326502    98% in  205s   142.61 kB/s"
       ]
      },
      {
       "output_type": "stream",
       "stream": "stdout",
       "text": [
        "\r",
        " 29986816 of 30326502    98% in  205s   142.62 kB/s\r",
        " 29990912 of 30326502    98% in  205s   142.62 kB/s"
       ]
      },
      {
       "output_type": "stream",
       "stream": "stdout",
       "text": [
        "\r",
        " 29995008 of 30326502    98% in  205s   142.61 kB/s"
       ]
      },
      {
       "output_type": "stream",
       "stream": "stdout",
       "text": [
        "\r",
        " 29999104 of 30326502    98% in  205s   142.58 kB/s"
       ]
      },
      {
       "output_type": "stream",
       "stream": "stdout",
       "text": [
        "\r",
        " 30003200 of 30326502    98% in  205s   142.60 kB/s\r",
        " 30007296 of 30326502    98% in  205s   142.60 kB/s\r",
        " 30011392 of 30326502    98% in  205s   142.62 kB/s\r",
        " 30015488 of 30326502    98% in  205s   142.63 kB/s"
       ]
      },
      {
       "output_type": "stream",
       "stream": "stdout",
       "text": [
        "\r",
        " 30019584 of 30326502    98% in  205s   142.57 kB/s"
       ]
      },
      {
       "output_type": "stream",
       "stream": "stdout",
       "text": [
        "\r",
        " 30023680 of 30326502    99% in  205s   142.55 kB/s"
       ]
      },
      {
       "output_type": "stream",
       "stream": "stdout",
       "text": [
        "\r",
        " 30027776 of 30326502    99% in  205s   142.56 kB/s\r",
        " 30031872 of 30326502    99% in  205s   142.56 kB/s"
       ]
      },
      {
       "output_type": "stream",
       "stream": "stdout",
       "text": [
        "\r",
        " 30035968 of 30326502    99% in  205s   142.55 kB/s"
       ]
      },
      {
       "output_type": "stream",
       "stream": "stdout",
       "text": [
        "\r",
        " 30040064 of 30326502    99% in  205s   142.52 kB/s\r",
        " 30044160 of 30326502    99% in  205s   142.53 kB/s\r",
        " 30048256 of 30326502    99% in  205s   142.54 kB/s\r",
        " 30052352 of 30326502    99% in  205s   142.56 kB/s\r",
        " 30056448 of 30326502    99% in  205s   142.57 kB/s"
       ]
      },
      {
       "output_type": "stream",
       "stream": "stdout",
       "text": [
        "\r",
        " 30060544 of 30326502    99% in  205s   142.51 kB/s"
       ]
      },
      {
       "output_type": "stream",
       "stream": "stdout",
       "text": [
        "\r",
        " 30064640 of 30326502    99% in  206s   142.49 kB/s"
       ]
      },
      {
       "output_type": "stream",
       "stream": "stdout",
       "text": [
        "\r",
        " 30068736 of 30326502    99% in  206s   142.23 kB/s\r",
        " 30072832 of 30326502    99% in  206s   142.25 kB/s\r",
        " 30076928 of 30326502    99% in  206s   142.27 kB/s\r",
        " 30081024 of 30326502    99% in  206s   142.29 kB/s\r",
        " 30085120 of 30326502    99% in  206s   142.31 kB/s\r",
        " 30089216 of 30326502    99% in  206s   142.33 kB/s\r",
        " 30093312 of 30326502    99% in  206s   142.35 kB/s\r",
        " 30097408 of 30326502    99% in  206s   142.37 kB/s\r",
        " 30101504 of 30326502    99% in  206s   142.38 kB/s\r",
        " 30105600 of 30326502    99% in  206s   142.40 kB/s\r",
        " 30109696 of 30326502    99% in  206s   142.42 kB/s"
       ]
      },
      {
       "output_type": "stream",
       "stream": "stdout",
       "text": [
        "\r",
        " 30113792 of 30326502    99% in  206s   142.39 kB/s"
       ]
      },
      {
       "output_type": "stream",
       "stream": "stdout",
       "text": [
        "\r",
        " 30117888 of 30326502    99% in  206s   142.36 kB/s\r",
        " 30121984 of 30326502    99% in  206s   142.37 kB/s\r",
        " 30126080 of 30326502    99% in  206s   142.38 kB/s\r",
        " 30130176 of 30326502    99% in  206s   142.40 kB/s"
       ]
      },
      {
       "output_type": "stream",
       "stream": "stdout",
       "text": [
        "\r",
        " 30134272 of 30326502    99% in  206s   142.35 kB/s"
       ]
      },
      {
       "output_type": "stream",
       "stream": "stdout",
       "text": [
        "\r",
        " 30138368 of 30326502    99% in  206s   142.31 kB/s\r",
        " 30142464 of 30326502    99% in  206s   142.32 kB/s"
       ]
      },
      {
       "output_type": "stream",
       "stream": "stdout",
       "text": [
        "\r",
        " 30146560 of 30326502    99% in  206s   142.29 kB/s"
       ]
      },
      {
       "output_type": "stream",
       "stream": "stdout",
       "text": [
        "\r",
        " 30150656 of 30326502    99% in  206s   142.25 kB/s\r",
        " 30154752 of 30326502    99% in  206s   142.27 kB/s\r",
        " 30158848 of 30326502    99% in  206s   142.28 kB/s\r",
        " 30162944 of 30326502    99% in  207s   142.29 kB/s"
       ]
      },
      {
       "output_type": "stream",
       "stream": "stdout",
       "text": [
        "\r",
        " 30167040 of 30326502    99% in  207s   142.31 kB/s"
       ]
      },
      {
       "output_type": "stream",
       "stream": "stdout",
       "text": [
        "\r",
        " 30171136 of 30326502    99% in  207s   142.25 kB/s"
       ]
      },
      {
       "output_type": "stream",
       "stream": "stdout",
       "text": [
        "\r",
        " 30175232 of 30326502    99% in  207s   142.22 kB/s"
       ]
      },
      {
       "output_type": "stream",
       "stream": "stdout",
       "text": [
        "\r",
        " 30179328 of 30326502    99% in  207s   141.94 kB/s\r",
        " 30183424 of 30326502    99% in  207s   141.96 kB/s\r",
        " 30187520 of 30326502    99% in  207s   141.97 kB/s\r",
        " 30191616 of 30326502    99% in  207s   141.99 kB/s\r",
        " 30195712 of 30326502    99% in  207s   142.01 kB/s\r",
        " 30199808 of 30326502    99% in  207s   142.03 kB/s\r",
        " 30203904 of 30326502    99% in  207s   142.05 kB/s\r",
        " 30208000 of 30326502    99% in  207s   142.07 kB/s\r",
        " 30212096 of 30326502    99% in  207s   142.09 kB/s"
       ]
      },
      {
       "output_type": "stream",
       "stream": "stdout",
       "text": [
        "\r",
        " 30216192 of 30326502    99% in  207s   142.05 kB/s\r",
        " 30220288 of 30326502    99% in  207s   142.05 kB/s"
       ]
      },
      {
       "output_type": "stream",
       "stream": "stdout",
       "text": [
        "\r",
        " 30224384 of 30326502    99% in  207s   142.05 kB/s"
       ]
      },
      {
       "output_type": "stream",
       "stream": "stdout",
       "text": [
        "\r",
        " 30228480 of 30326502    99% in  207s   142.00 kB/s"
       ]
      },
      {
       "output_type": "stream",
       "stream": "stdout",
       "text": [
        "\r",
        " 30232576 of 30326502    99% in  207s   141.99 kB/s"
       ]
      },
      {
       "output_type": "stream",
       "stream": "stdout",
       "text": [
        "\r",
        " 30236672 of 30326502    99% in  208s   141.69 kB/s\r",
        " 30240768 of 30326502    99% in  208s   141.71 kB/s\r",
        " 30244864 of 30326502    99% in  208s   141.73 kB/s\r",
        " 30248960 of 30326502    99% in  208s   141.75 kB/s\r",
        " 30253056 of 30326502    99% in  208s   141.77 kB/s\r",
        " 30257152 of 30326502    99% in  208s   141.79 kB/s\r",
        " 30261248 of 30326502    99% in  208s   141.81 kB/s\r",
        " 30265344 of 30326502    99% in  208s   141.83 kB/s"
       ]
      },
      {
       "output_type": "stream",
       "stream": "stdout",
       "text": [
        "\r",
        " 30269440 of 30326502    99% in  208s   141.77 kB/s"
       ]
      },
      {
       "output_type": "stream",
       "stream": "stdout",
       "text": [
        "\r",
        " 30273536 of 30326502    99% in  208s   141.76 kB/s"
       ]
      },
      {
       "output_type": "stream",
       "stream": "stdout",
       "text": [
        "\r",
        " 30277632 of 30326502    99% in  208s   141.72 kB/s"
       ]
      },
      {
       "output_type": "stream",
       "stream": "stdout",
       "text": [
        "\r",
        " 30281728 of 30326502    99% in  208s   141.69 kB/s\r",
        " 30285824 of 30326502    99% in  208s   141.69 kB/s"
       ]
      },
      {
       "output_type": "stream",
       "stream": "stdout",
       "text": [
        "\r",
        " 30289920 of 30326502    99% in  208s   141.63 kB/s\r",
        " 30294016 of 30326502    99% in  208s   141.63 kB/s"
       ]
      },
      {
       "output_type": "stream",
       "stream": "stdout",
       "text": [
        "\r",
        " 30298112 of 30326502    99% in  208s   141.61 kB/s"
       ]
      },
      {
       "output_type": "stream",
       "stream": "stdout",
       "text": [
        "\r",
        " 30302208 of 30326502    99% in  209s   141.58 kB/s"
       ]
      },
      {
       "output_type": "stream",
       "stream": "stdout",
       "text": [
        "\r",
        " 30306304 of 30326502    99% in  209s   141.55 kB/s"
       ]
      },
      {
       "output_type": "stream",
       "stream": "stdout",
       "text": [
        "\r",
        " 30310400 of 30326502    99% in  209s   141.53 kB/s"
       ]
      },
      {
       "output_type": "stream",
       "stream": "stdout",
       "text": [
        "\r",
        " 30314496 of 30326502    99% in  209s   141.47 kB/s"
       ]
      },
      {
       "output_type": "stream",
       "stream": "stdout",
       "text": [
        "\r",
        " 30318592 of 30326502    99% in  209s   141.46 kB/s"
       ]
      },
      {
       "output_type": "stream",
       "stream": "stdout",
       "text": [
        "\r",
        " 30322688 of 30326502    99% in  209s   141.42 kB/s"
       ]
      },
      {
       "output_type": "stream",
       "stream": "stdout",
       "text": [
        "\r",
        " 30326502 of 30326502   100% in  209s   141.40 kB/s\r",
        " 30326502 of 30326502   100% in  209s   141.40 kB/s\r",
        " 30326502 of 30326502   100% in  209s   141.40 kB/s  done\r\n"
       ]
      }
     ],
     "prompt_number": 1
    },
    {
     "cell_type": "code",
     "collapsed": false,
     "input": [
      "from gzip import GzipFile\n",
      "import msgpack\n",
      "import os\n",
      "import lxml.html.clean\n",
      "from lxml.html import HTMLParser, document_fromstring, tostring\n",
      "\n",
      "unpacker = msgpack.Unpacker(GzipFile(filename='businesssites-ie_51_168_4.msgpack'))\n",
      "\n",
      "def mkdir(path):\n",
      "    try:\n",
      "        os.makedirs(path)\n",
      "    except OSError:\n",
      "        pass\n",
      "    \n",
      "parser = HTMLParser(encoding='utf8')\n",
      "\n",
      "cleaner = lxml.html.clean.Cleaner(\n",
      "    style=True,\n",
      "    scripts=True,\n",
      "    embedded=True,\n",
      "    links=True,\n",
      "    page_structure=False,\n",
      "    remove_unknown_tags=False,\n",
      "    meta=False,\n",
      "    safe_attrs_only=False\n",
      ")\n",
      "\n",
      "def html2text(html):\n",
      "    doc = document_fromstring(html, parser=parser)\n",
      "    doc = cleaner.clean_html(doc)\n",
      "    return tostring(doc, method='text', encoding='unicode')\n",
      "\n",
      "def normalize_text(text):\n",
      "    return u\" \".join(text.split())\n",
      "\n",
      "mkdir('../webstruct_data/experiments/')\n",
      "\n",
      "with open('../webstruct_data/experiments/ie-pages.txt'.format(i), 'w') as f:\n",
      "    for i, item in enumerate(unpacker):\n",
      "        html = item.get('body', '')\n",
      "        if html:\n",
      "            text = html2text(html)\n",
      "            text = normalize_text(text)\n",
      "            f.write(text.encode('utf8'))\n",
      "            f.write('\\n')\n",
      "    print i, 'pages'\n"
     ],
     "language": "python",
     "metadata": {},
     "outputs": [],
     "prompt_number": "*"
    },
    {
     "cell_type": "code",
     "collapsed": false,
     "input": [
      "from gensim.models import word2vec\n",
      "import logging\n",
      "\n",
      "logging.basicConfig(format='%(asctime)s : %(levelname)s : %(message)s', level=logging.INFO)\n",
      "sentences = word2vec.Text8Corpus('../webstruct_data/experiments/ie-pages.txt')\n",
      "model = word2vec.Word2Vec(sentences, size=200)"
     ],
     "language": "python",
     "metadata": {},
     "outputs": [],
     "prompt_number": 1
    },
    {
     "cell_type": "code",
     "collapsed": false,
     "input": [
      "print model"
     ],
     "language": "python",
     "metadata": {},
     "outputs": [
      {
       "output_type": "stream",
       "stream": "stdout",
       "text": [
        "<gensim.models.word2vec.Word2Vec object at 0x11005aa10>\n"
       ]
      }
     ],
     "prompt_number": 2
    },
    {
     "cell_type": "code",
     "collapsed": false,
     "input": [
      "print model.most_similar(positive=['Ireland'], topn=10)\n",
      "print model.most_similar(positive=['Ireland', 'Cork'], negative=['Dublin'], topn=10)"
     ],
     "language": "python",
     "metadata": {},
     "outputs": [
      {
       "output_type": "stream",
       "stream": "stdout",
       "text": [
        "[('Ireland.', 0.53191423), ('Ireland,', 0.46817392), ('County', 0.4482289), ('Dublin', 0.42874196), ('Mayo.', 0.42817295), ('Galway', 0.41960418), ('Cork', 0.41183707), ('Dublin,', 0.41176522), ('Enniscorthy,', 0.39568758), ('Wexford', 0.39344296)]\n",
        "[('Limerick', 0.50078887), ('Galway', 0.45613492), ('Cork,', 0.44739166), ('Kildare', 0.43384638), ('Donegal', 0.42934299), ('Ireland.', 0.42500436), ('Clare.', 0.42303118), ('County', 0.418028), ('Restaurants', 0.41549015), ('Mayo', 0.41512322)]\n"
       ]
      }
     ],
     "prompt_number": 5
    },
    {
     "cell_type": "code",
     "collapsed": false,
     "input": [
      "model.save('ie-pages.model')\n",
      "model.save_word2vec_format('ie-pages.bin', binary=True)"
     ],
     "language": "python",
     "metadata": {},
     "outputs": [],
     "prompt_number": 6
    },
    {
     "cell_type": "code",
     "collapsed": false,
     "input": [],
     "language": "python",
     "metadata": {},
     "outputs": []
    }
   ],
   "metadata": {}
  }
 ]
}