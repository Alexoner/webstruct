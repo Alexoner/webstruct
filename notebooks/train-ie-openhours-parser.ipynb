{
 "metadata": {
  "name": "train-ie-openhours-parser"
 },
 "nbformat": 3,
 "nbformat_minor": 0,
 "worksheets": [
  {
   "cells": [
    {
     "cell_type": "code",
     "collapsed": false,
     "input": [
      "import os\n",
      "import sys\n",
      "import re\n",
      "import codecs\n",
      "import random\n",
      "import itertools\n",
      "\n",
      "sys.path.insert(0, '../')\n",
      "\n",
      "import wapiti\n",
      "from webstruct.wapiti import WapitiFeatureEncoder\n",
      "from webstruct.feature_extraction import HtmlFeaturesExtractor\n",
      "from webstruct.features import OPEN_HOURS_FEATURES, OPEN_HOURS_TAGSET\n",
      "\n",
      "def tagged_data(folder):\n",
      "    for fname in os.listdir(folder):\n",
      "        path = os.path.join(folder, fname)\n",
      "        try:\n",
      "            with codecs.open(path, 'r', encoding='utf8') as f:\n",
      "                yield path, f.read()\n",
      "        except UnicodeDecodeError:\n",
      "            print 'unicode decode error', path\n",
      "            \n",
      "           \n",
      "fe = HtmlFeaturesExtractor(OPEN_HOURS_TAGSET, OPEN_HOURS_FEATURES)\n",
      "\n",
      "def fit_wapiti_encoder(tagged_data_iter):\n",
      "    we = WapitiFeatureEncoder(['token', 'lower'])    \n",
      "    for path, html in tagged_data_iter:\n",
      "        try:\n",
      "            features, labels = fe.fit_transform(html)\n",
      "            we.partial_fit(features)\n",
      "        except Exception as e:\n",
      "            print(\"error decoding %s:\\n%s\" % (path, e))\n",
      "    return we\n",
      "\n",
      "\n",
      "def to_wapiti_seq(features, labels, include_labels=True):\n",
      "    lines = []\n",
      "    for line, label in zip(we.transform(features), labels):\n",
      "        if include_labels:\n",
      "            lines.append(\"%s %s\" % (line, label))\n",
      "        else:\n",
      "            lines.append(line)\n",
      "    return '\\n'.join(lines)\n",
      "    \n",
      "\n",
      "def iter_wapiti_sequences(tagged_data_iter, we, include_labels=True):\n",
      "    \n",
      "    for path, html in tagged_data_iter:\n",
      "        try:\n",
      "            features, labels = fe.fit_transform(html)\n",
      "        except AssertionError as e:\n",
      "            print(\"error decoding %s:\\n%s\" % (path, e))\n",
      "        else:\n",
      "            yield to_wapiti_seq(features, labels, include_labels)\n",
      "        \n",
      "    \n",
      "def create_wapiti_data(fname, tagged_data_iter, we, include_labels=True):\n",
      "    with codecs.open(fname, 'w', encoding='utf8') as f:            \n",
      "        for seq in iter_wapiti_sequences(tagged_data_iter, we, include_labels):\n",
      "            f.write(seq)\n",
      "            f.write('\\n\\n')\n",
      "            "
     ],
     "language": "python",
     "metadata": {},
     "outputs": [],
     "prompt_number": 1
    },
    {
     "cell_type": "code",
     "collapsed": false,
     "input": [
      "corpus_paths = [\n",
      "    '../webstruct_data/corpus/ie/annotated/',\n",
      "]\n",
      "\n",
      "data = list(itertools.chain(*map(tagged_data, corpus_paths)))\n",
      "print len(data)\n",
      "\n",
      "random.shuffle(data)\n",
      "train, dev = data[:80], data[80:]\n",
      "\n",
      "print(len(train), len(dev))\n",
      "\n",
      "we = fit_wapiti_encoder(train)\n",
      "\n",
      "create_wapiti_data('ie_train.txt', train, we=we)\n",
      "create_wapiti_data('ie_test.txt', dev, we=we)\n",
      "\n",
      "from sklearn.externals.joblib import dump\n",
      "dump(we, 'ie-openhoursparser-wfe.joblib', compress=1)\n",
      "dump(fe, 'ie-openhoursparser-fe.joblib', compress=1)"
     ],
     "language": "python",
     "metadata": {},
     "outputs": [
      {
       "output_type": "stream",
       "stream": "stdout",
       "text": [
        "103\n",
        "(80, 23)\n"
       ]
      },
      {
       "output_type": "pyout",
       "prompt_number": 13,
       "text": [
        "['ie-openhoursparser-fe.joblib']"
       ]
      }
     ],
     "prompt_number": 13
    },
    {
     "cell_type": "code",
     "collapsed": false,
     "input": [
      "template = '''\n",
      "# Label unigram & bigram\n",
      "*\n",
      "\n",
      "# Nearby token unigrams (lower)\n",
      "u-LL:%x[-2,lower]\n",
      "u--L:%x[-1,lower]\n",
      "u--R:%x[ 1,lower]\n",
      "u-RR:%x[ 2,lower]\n",
      "\n",
      "# Nearby token bigrams (lower)\n",
      "u:wrd-2-LL:%x[-2,lower]/%x[-1,lower]\n",
      "u:wrd-2-L:%x[-1,lower]/%x[0,lower]\n",
      "u:wrd-2-R:%x[0,lower]/%x[1,lower]\n",
      "u:wrd-2-RR:%x[1,lower]/%x[2,lower]\n",
      "\n",
      "# Nearby shapes\n",
      "u:shape-L:%x[-1,shape]\n",
      "u:shape-R:%x[1,shape]\n",
      "u:shape:%x[-1,shape]/%x[0,shape]\n",
      "\n",
      "# Nearby word2vec class\n",
      "u:word2vec_class-LL:%x[-2,word2vec_class]\n",
      "u:word2vec_class-L:%x[-1,word2vec_class]\n",
      "u:word2vec_class-R:%x[1,word2vec_class]\n",
      "u:word2vec_class-RR:%x[2,word2vec_class]\n",
      "\n",
      "u:pattern--L:%x[-1,num_pattern2]\n",
      "u:pattern--R:%x[ 1,num_pattern2]\n",
      "\n",
      "u:token-L-weekday:%x[-1,lower]/%x[0, looks_like_weekday]\n",
      "u:token-L-time:%x[-1,lower]/%x[0, looks_like_time]\n",
      "\n",
      "u:weekday-L:%x[-1, looks_like_weekday]\n",
      "u:weekday-R:%x[1, looks_like_weekday]\n",
      "\n",
      "u:time-L:%x[-1, looks_like_time]\n",
      "u:time-R:%x[1, looks_like_time]]\n",
      "\n",
      "u:time-range-2:%x[-1,looks_like_time]/%x[0, looks_like_range]\n",
      "u:time-range-3:%x[-1,looks_like_time]/%x[0, looks_like_range]/%x[1,looks_like_time]\n",
      "\n",
      "u:weekday-range-2:%x[-1,looks_like_weekday]/%x[0, looks_like_weekday]\n",
      "u:weekday-range-3:%x[-1,looks_like_weekday]/%x[0, looks_like_range]/%x[1,looks_like_weekday]\n",
      "'''\n",
      "\n",
      "wapiti_template = we.unigram_features_template() + we.prepare_template(template) \n",
      "\n",
      "with codecs.open('ie-openhours-template.txt', 'w', encoding='utf8') as f:\n",
      "    f.write(wapiti_template)"
     ],
     "language": "python",
     "metadata": {},
     "outputs": [],
     "prompt_number": 14
    },
    {
     "cell_type": "code",
     "collapsed": false,
     "input": [
      "!wapiti train --pattern ie-openhours-template.txt --algo l-bfgs ie_train.txt ie-openhoursparser.wapiti"
     ],
     "language": "python",
     "metadata": {},
     "outputs": [
      {
       "output_type": "stream",
       "stream": "stdout",
       "text": [
        "* Load patterns\r\n",
        "* Load training data\r\n"
       ]
      },
      {
       "output_type": "stream",
       "stream": "stdout",
       "text": [
        "* Initialize the model\r\n"
       ]
      },
      {
       "output_type": "stream",
       "stream": "stdout",
       "text": [
        "* Summary\r\n",
        "    nb train:    80\r\n",
        "    nb labels:   3\r\n",
        "    nb blocks:   102777\r\n",
        "    nb features: 504891\r\n",
        "* Train the model with l-bfgs\r\n"
       ]
      },
      {
       "output_type": "stream",
       "stream": "stdout",
       "text": [
        "  [   1] obj=5871.59    act=233530   err= 5.27%/52.50% time=0.30s/0.30s\r\n"
       ]
      },
      {
       "output_type": "stream",
       "stream": "stdout",
       "text": [
        "  [   2] obj=5279.21    act=115748   err= 5.27%/52.50% time=0.16s/0.46s\r\n"
       ]
      },
      {
       "output_type": "stream",
       "stream": "stdout",
       "text": [
        "  [   3] obj=3149.85    act=25745    err= 5.03%/80.00% time=0.48s/0.94s\r\n"
       ]
      },
      {
       "output_type": "stream",
       "stream": "stdout",
       "text": [
        "  [   4] obj=2905.62    act=36703    err= 3.47%/52.50% time=0.45s/1.39s\r\n"
       ]
      },
      {
       "output_type": "stream",
       "stream": "stdout",
       "text": [
        "  [   5] obj=1769.36    act=32777    err= 3.01%/67.50% time=0.45s/1.84s\r\n"
       ]
      },
      {
       "output_type": "stream",
       "stream": "stdout",
       "text": [
        "  [   6] obj=1519.19    act=30840    err= 2.25%/52.50% time=0.42s/2.26s\r\n"
       ]
      },
      {
       "output_type": "stream",
       "stream": "stdout",
       "text": [
        "  [   7] obj=1356.74    act=22903    err= 3.19%/72.50% time=0.64s/2.90s\r\n"
       ]
      },
      {
       "output_type": "stream",
       "stream": "stdout",
       "text": [
        "  [   8] obj=694.69     act=24693    err= 1.73%/41.25% time=0.16s/3.06s\r\n"
       ]
      },
      {
       "output_type": "stream",
       "stream": "stdout",
       "text": [
        "  [   9] obj=624.68     act=21376    err= 1.67%/40.00% time=0.16s/3.23s\r\n"
       ]
      },
      {
       "output_type": "stream",
       "stream": "stdout",
       "text": [
        "  [  10] obj=298.12     act=12642    err= 1.02%/26.25% time=0.17s/3.39s\r\n"
       ]
      },
      {
       "output_type": "stream",
       "stream": "stdout",
       "text": [
        "  [  11] obj=256.97     act=10474    err= 1.29%/40.00% time=0.44s/3.83s\r\n"
       ]
      },
      {
       "output_type": "stream",
       "stream": "stdout",
       "text": [
        "  [  12] obj=204.65     act=10668    err= 0.98%/31.25% time=0.44s/4.27s\r\n"
       ]
      },
      {
       "output_type": "stream",
       "stream": "stdout",
       "text": [
        "  [  13] obj=194.71     act=10953    err= 1.01%/32.50% time=0.17s/4.44s\r\n"
       ]
      },
      {
       "output_type": "stream",
       "stream": "stdout",
       "text": [
        "  [  14] obj=194.58     act=9966     err= 0.80%/22.50% time=0.19s/4.63s\r\n"
       ]
      },
      {
       "output_type": "stream",
       "stream": "stdout",
       "text": [
        "  [  15] obj=160.44     act=12615    err= 0.67%/23.75% time=0.42s/5.05s\r\n"
       ]
      },
      {
       "output_type": "stream",
       "stream": "stdout",
       "text": [
        "  [  16] obj=153.68     act=10833    err= 0.39%/15.00% time=0.28s/5.34s\r\n"
       ]
      },
      {
       "output_type": "stream",
       "stream": "stdout",
       "text": [
        "  [  17] obj=153.68     act=10097    err= 0.67%/20.00% time=0.17s/5.50s\r\n"
       ]
      },
      {
       "output_type": "stream",
       "stream": "stdout",
       "text": [
        "  [  18] obj=146.97     act=10159    err= 0.46%/15.00% time=0.28s/5.78s\r\n"
       ]
      },
      {
       "output_type": "stream",
       "stream": "stdout",
       "text": [
        "  [  19] obj=134.34     act=9755     err= 0.36%/13.75% time=0.16s/5.95s\r\n"
       ]
      },
      {
       "output_type": "stream",
       "stream": "stdout",
       "text": [
        "  [  20] obj=125.86     act=9214     err= 0.34%/13.75% time=0.17s/6.11s\r\n"
       ]
      },
      {
       "output_type": "stream",
       "stream": "stdout",
       "text": [
        "  [  21] obj=117.68     act=8100     err= 0.61%/16.25% time=0.17s/6.28s\r\n"
       ]
      },
      {
       "output_type": "stream",
       "stream": "stdout",
       "text": [
        "  [  22] obj=108.90     act=7979     err= 0.24%/11.25% time=0.17s/6.45s\r\n"
       ]
      },
      {
       "output_type": "stream",
       "stream": "stdout",
       "text": [
        "  [  23] obj=104.53     act=7675     err= 0.18%/10.00% time=0.17s/6.62s\r\n"
       ]
      },
      {
       "output_type": "stream",
       "stream": "stdout",
       "text": [
        "  [  24] obj=102.28     act=7305     err= 0.24%/11.25% time=0.17s/6.79s\r\n"
       ]
      },
      {
       "output_type": "stream",
       "stream": "stdout",
       "text": [
        "  [  25] obj=97.20      act=6851     err= 0.13%/ 8.75% time=0.17s/6.95s\r\n"
       ]
      },
      {
       "output_type": "stream",
       "stream": "stdout",
       "text": [
        "  [  26] obj=93.28      act=6171     err= 0.21%/ 8.75% time=0.16s/7.12s\r\n"
       ]
      },
      {
       "output_type": "stream",
       "stream": "stdout",
       "text": [
        "  [  27] obj=89.20      act=5734     err= 0.09%/ 7.50% time=0.16s/7.28s\r\n"
       ]
      },
      {
       "output_type": "stream",
       "stream": "stdout",
       "text": [
        "  [  28] obj=86.13      act=5345     err= 0.12%/ 6.25% time=0.17s/7.45s\r\n"
       ]
      },
      {
       "output_type": "stream",
       "stream": "stdout",
       "text": [
        "  [  29] obj=84.40      act=4976     err= 0.03%/ 3.75% time=0.17s/7.62s\r\n"
       ]
      },
      {
       "output_type": "stream",
       "stream": "stdout",
       "text": [
        "  [  30] obj=82.47      act=4681     err= 0.07%/ 2.50% time=0.16s/7.78s\r\n"
       ]
      },
      {
       "output_type": "stream",
       "stream": "stdout",
       "text": [
        "  [  31] obj=80.75      act=4589     err= 0.02%/ 2.50% time=0.16s/7.95s\r\n"
       ]
      },
      {
       "output_type": "stream",
       "stream": "stdout",
       "text": [
        "  [  32] obj=77.30      act=4130     err= 0.07%/ 2.50% time=0.17s/8.11s\r\n"
       ]
      },
      {
       "output_type": "stream",
       "stream": "stdout",
       "text": [
        "  [  33] obj=76.29      act=3461     err= 0.10%/ 5.00% time=0.17s/8.28s\r\n"
       ]
      },
      {
       "output_type": "stream",
       "stream": "stdout",
       "text": [
        "  [  34] obj=72.74      act=3734     err= 0.06%/ 1.25% time=0.17s/8.45s\r\n"
       ]
      },
      {
       "output_type": "stream",
       "stream": "stdout",
       "text": [
        "  [  35] obj=70.44      act=3301     err= 0.08%/ 3.75% time=0.19s/8.64s\r\n"
       ]
      },
      {
       "output_type": "stream",
       "stream": "stdout",
       "text": [
        "  [  36] obj=69.20      act=3296     err= 0.08%/ 2.50% time=0.21s/8.85s\r\n"
       ]
      },
      {
       "output_type": "stream",
       "stream": "stdout",
       "text": [
        "  [  37] obj=67.86      act=2825     err= 0.08%/ 2.50% time=0.17s/9.02s\r\n"
       ]
      },
      {
       "output_type": "stream",
       "stream": "stdout",
       "text": [
        "  [  38] obj=66.48      act=2477     err= 0.05%/ 1.25% time=0.17s/9.18s\r\n"
       ]
      },
      {
       "output_type": "stream",
       "stream": "stdout",
       "text": [
        "  [  39] obj=65.32      act=2239     err= 0.01%/ 1.25% time=0.18s/9.36s\r\n"
       ]
      },
      {
       "output_type": "stream",
       "stream": "stdout",
       "text": [
        "  [  40] obj=64.29      act=2181     err= 0.01%/ 1.25% time=0.19s/9.55s\r\n"
       ]
      },
      {
       "output_type": "stream",
       "stream": "stdout",
       "text": [
        "  [  41] obj=63.54      act=2051     err= 0.04%/ 1.25% time=0.17s/9.71s\r\n"
       ]
      },
      {
       "output_type": "stream",
       "stream": "stdout",
       "text": [
        "  [  42] obj=62.81      act=1800     err= 0.01%/ 1.25% time=0.17s/9.88s\r\n"
       ]
      },
      {
       "output_type": "stream",
       "stream": "stdout",
       "text": [
        "  [  43] obj=62.27      act=1704     err= 0.04%/ 1.25% time=0.17s/10.05s\r\n"
       ]
      },
      {
       "output_type": "stream",
       "stream": "stdout",
       "text": [
        "  [  44] obj=61.64      act=1618     err= 0.01%/ 1.25% time=0.18s/10.23s\r\n"
       ]
      },
      {
       "output_type": "stream",
       "stream": "stdout",
       "text": [
        "  [  45] obj=61.15      act=1462     err= 0.05%/ 1.25% time=0.17s/10.39s\r\n"
       ]
      },
      {
       "output_type": "stream",
       "stream": "stdout",
       "text": [
        "  [  46] obj=60.21      act=1443     err= 0.00%/ 0.00% time=0.17s/10.56s\r\n"
       ]
      },
      {
       "output_type": "stream",
       "stream": "stdout",
       "text": [
        "  [  47] obj=59.70      act=1445     err= 0.00%/ 0.00% time=0.17s/10.73s\r\n"
       ]
      },
      {
       "output_type": "stream",
       "stream": "stdout",
       "text": [
        "  [  48] obj=59.36      act=1352     err= 0.00%/ 0.00% time=0.17s/10.90s\r\n"
       ]
      },
      {
       "output_type": "stream",
       "stream": "stdout",
       "text": [
        "  [  49] obj=58.99      act=1270     err= 0.00%/ 0.00% time=0.17s/11.06s\r\n"
       ]
      },
      {
       "output_type": "stream",
       "stream": "stdout",
       "text": [
        "  [  50] obj=58.58      act=1192     err= 0.05%/ 1.25% time=0.17s/11.23s\r\n"
       ]
      },
      {
       "output_type": "stream",
       "stream": "stdout",
       "text": [
        "  [  51] obj=58.31      act=1149     err= 0.00%/ 0.00% time=0.17s/11.40s\r\n"
       ]
      },
      {
       "output_type": "stream",
       "stream": "stdout",
       "text": [
        "  [  52] obj=57.73      act=1184     err= 0.05%/ 1.25% time=0.17s/11.57s\r\n"
       ]
      },
      {
       "output_type": "stream",
       "stream": "stdout",
       "text": [
        "  [  53] obj=57.50      act=1146     err= 0.00%/ 0.00% time=0.17s/11.74s\r\n"
       ]
      },
      {
       "output_type": "stream",
       "stream": "stdout",
       "text": [
        "  [  54] obj=57.36      act=1119     err= 0.05%/ 1.25% time=0.16s/11.90s\r\n"
       ]
      },
      {
       "output_type": "stream",
       "stream": "stdout",
       "text": [
        "  [  55] obj=56.98      act=1151     err= 0.00%/ 0.00% time=0.17s/12.07s\r\n"
       ]
      },
      {
       "output_type": "stream",
       "stream": "stdout",
       "text": [
        "  [  56] obj=56.87      act=1103     err= 0.05%/ 1.25% time=0.18s/12.25s\r\n",
        "* Save the model\r\n"
       ]
      },
      {
       "output_type": "stream",
       "stream": "stdout",
       "text": [
        "* Done\r\n"
       ]
      }
     ],
     "prompt_number": 15
    },
    {
     "cell_type": "code",
     "collapsed": false,
     "input": [
      "!wapiti label --model ie-openhoursparser.wapiti -c ie_test.txt res_2.txt"
     ],
     "language": "python",
     "metadata": {},
     "outputs": [
      {
       "output_type": "stream",
       "stream": "stdout",
       "text": [
        "* Load model\r\n"
       ]
      },
      {
       "output_type": "stream",
       "stream": "stdout",
       "text": [
        "* Label sequences\r\n"
       ]
      },
      {
       "output_type": "stream",
       "stream": "stdout",
       "text": [
        "    Nb sequences  : 23\r\n",
        "    Token error   :  0.76%\r\n",
        "    Sequence error: 17.39%\r\n",
        "* Per label statistics\r\n",
        "    O       Pr=1.00  Rc=1.00  F1=1.00\r\n",
        "    B-HOURS  Pr=0.86  Rc=0.86  F1=0.86\r\n",
        "    I-HOURS  Pr=0.93  Rc=0.95  F1=0.94\r\n",
        "* Done\r\n"
       ]
      }
     ],
     "prompt_number": 16
    },
    {
     "cell_type": "code",
     "collapsed": false,
     "input": [
      "import wapiti\n",
      "sys.path.insert(0, '../webstruct/')\n",
      "\n",
      "from sklearn.externals import joblib\n",
      "from urllib2 import urlopen\n",
      "from w3lib.encoding import html_to_unicode\n",
      "from webstruct.wapiti import WapitiChunker\n",
      "\n",
      "feature_extractor = joblib.load('ie-openhoursparser-fe.joblib')\n",
      "feature_encoder = joblib.load('ie-openhoursparser-wfe.joblib')\n",
      "wapiti_model = wapiti.Model(model='ie-openhoursparser.wapiti')\n",
      "ner = WapitiChunker(wapiti_model, feature_encoder, feature_extractor=feature_extractor)"
     ],
     "language": "python",
     "metadata": {},
     "outputs": [],
     "prompt_number": 10
    },
    {
     "cell_type": "code",
     "collapsed": false,
     "input": [
      "url = 'http://www.gillianosullivan.ie/contact.htm'\n",
      "#url = 'http://www.nli.ie/en/opening-hours.aspx'\n",
      "#url = 'http://www.library.nuigalway.ie/usingthelibrary/openinghours/'\n",
      "#url = 'http://www.universityarena.com/v2/opening-hours'\n",
      "url = 'http://www.imma.ie/en/subnav_91.htm'\n",
      "\n",
      "html = urlopen(url=url).read()\n",
      "\n",
      "for text, label in ner.transform(html):\n",
      "    if label != 'O':\n",
      "        print label, text\n"
     ],
     "language": "python",
     "metadata": {},
     "outputs": [
      {
       "output_type": "stream",
       "stream": "stdout",
       "text": [
        "HOURS"
       ]
      },
      {
       "output_type": "stream",
       "stream": "stdout",
       "text": [
        " Tuesday - Saturday: 10.00am - 5.30pm except Wednesday: 10.30am - 5.30pm Sunday and Bank Holidays: 12noon - 5.30pm Monday Good Friday and 24 - 26 December: Closed\n",
        "HOURS Monday: 10.00am - 3.00pm Tuesday - Saturday: 10.00am - 5.00pm Sunday and Bank Holidays: 12noon - 5.00pm IMMA Shop Tuesday - Saturday: 10.00am - 5.30pm Sunday and Bank Holidays: 12noon - 5.30pm Monday: Closed\n"
       ]
      }
     ],
     "prompt_number": 11
    },
    {
     "cell_type": "code",
     "collapsed": false,
     "input": [
      "import glob\n",
      "import os\n",
      "\n",
      "def parse_openhours(html):\n",
      "    r = []\n",
      "    for text, label in ner.transform(html):\n",
      "        if label  == 'HOURS':\n",
      "            r.append(text)\n",
      "    return r\n",
      "\n",
      "# test on unseen pages\n",
      "for path in glob.glob('../webstruct_data/corpus/ireland_contact_pages/source/*.html'):\n",
      "    with open(path, 'r') as f:\n",
      "        html = f.read()\n",
      "        try:\n",
      "            hours = parse_openhours(html)\n",
      "            print os.path.split(path)[1], hours\n",
      "        except BaseException, e:\n",
      "            pass\n",
      "        "
     ],
     "language": "python",
     "metadata": {},
     "outputs": [
      {
       "output_type": "stream",
       "stream": "stdout",
       "text": [
        "1.html []\n",
        "10.html"
       ]
      },
      {
       "output_type": "stream",
       "stream": "stdout",
       "text": [
        " []\n",
        "100.html"
       ]
      },
      {
       "output_type": "stream",
       "stream": "stdout",
       "text": [
        " []\n",
        "102.html"
       ]
      },
      {
       "output_type": "stream",
       "stream": "stdout",
       "text": [
        " []\n",
        "104.html"
       ]
      },
      {
       "output_type": "stream",
       "stream": "stdout",
       "text": [
        " []\n",
        "105.html"
       ]
      },
      {
       "output_type": "stream",
       "stream": "stdout",
       "text": [
        " ['06:30 - 10:00 Breakfast 10:00 - 12:00 Tom Dunne 12:00 - 13:30 Lunchtime 13:30 - 16:30 Moncrieff 16:30 - 19:00 The Right Hook 19:00 - 22:00']\n",
        "109.html"
       ]
      },
      {
       "output_type": "stream",
       "stream": "stdout",
       "text": [
        " []\n",
        "11.html"
       ]
      },
      {
       "output_type": "stream",
       "stream": "stdout",
       "text": [
        " ['Mon: 12:00 - 00:00 Tues: 12:00 - 00:00 Wed: 12:00 - 00:00 Thurs: 12:00 - 00:00 Fri: 12:00 - 02:00 Sat: 12:00 - 03:00 Sun: 12:00 - 00:00']\n",
        "115.html"
       ]
      },
      {
       "output_type": "stream",
       "stream": "stdout",
       "text": [
        " []\n",
        "120.html"
       ]
      },
      {
       "output_type": "stream",
       "stream": "stdout",
       "text": [
        " []\n",
        "121.html"
       ]
      },
      {
       "output_type": "stream",
       "stream": "stdout",
       "text": [
        " []\n",
        "123.html"
       ]
      },
      {
       "output_type": "stream",
       "stream": "stdout",
       "text": [
        " ['Monday 5:00 PM - 12:00 AM 5:00 PM - 12:00 AM Tuesday 5:00 PM - 12:00 AM 5:00 PM - 12:00 AM Wednesday 5:00 PM - 12:00 AM 5:00 PM - 12:00 AM Thursday 5:00 PM - 12:00 AM 5:00 PM - 12:00 AM Friday 5:00 PM - 12:00 AM 5:00 PM - 12:00 AM Saturday 5:00 PM - 12:00 AM 5:00 PM - 12:00 AM Sunday 5:00 PM - 12:00 AM 5:00 PM - 12:00 AM']\n",
        "126.html"
       ]
      },
      {
       "output_type": "stream",
       "stream": "stdout",
       "text": [
        " []\n",
        "128.html"
       ]
      },
      {
       "output_type": "stream",
       "stream": "stdout",
       "text": [
        " ['Monday to Friday 9am to 5.30pm Closed Saturdays Sundays Bank Holidays .', 'Monday to Friday 7am to 7pm Saturday and Bank Holidays 9am to 3pm Closed Sundays .']\n",
        "129.html"
       ]
      },
      {
       "output_type": "stream",
       "stream": "stdout",
       "text": [
        " []\n",
        "131.html"
       ]
      },
      {
       "output_type": "stream",
       "stream": "stdout",
       "text": [
        " [u'Thurs to Sat. from 6.30pm Sunday 1.00 \\u2013 5.00']\n",
        "132.html"
       ]
      },
      {
       "output_type": "stream",
       "stream": "stdout",
       "text": [
        " [u'Monday \\u2013 Saturday Lunch Specials from 12 noon to 5.00 pm Evening Menu from 5:00pm to 11.00pm']\n",
        "147.html"
       ]
      },
      {
       "output_type": "stream",
       "stream": "stdout",
       "text": [
        " []\n",
        "150.html"
       ]
      },
      {
       "output_type": "stream",
       "stream": "stdout",
       "text": [
        " []\n",
        "152.html"
       ]
      },
      {
       "output_type": "stream",
       "stream": "stdout",
       "text": [
        " []\n",
        "153.html []\n",
        "155.html"
       ]
      },
      {
       "output_type": "stream",
       "stream": "stdout",
       "text": [
        " []\n",
        "156.html"
       ]
      },
      {
       "output_type": "stream",
       "stream": "stdout",
       "text": [
        " []\n",
        "158.html"
       ]
      },
      {
       "output_type": "stream",
       "stream": "stdout",
       "text": [
        " []\n",
        "165.html"
       ]
      },
      {
       "output_type": "stream",
       "stream": "stdout",
       "text": [
        " []\n",
        "171.html"
       ]
      },
      {
       "output_type": "stream",
       "stream": "stdout",
       "text": [
        " []\n",
        "174.html"
       ]
      },
      {
       "output_type": "stream",
       "stream": "stdout",
       "text": [
        " []\n",
        "178.html"
       ]
      },
      {
       "output_type": "stream",
       "stream": "stdout",
       "text": [
        " []\n",
        "179.html"
       ]
      },
      {
       "output_type": "stream",
       "stream": "stdout",
       "text": [
        " ['Monday : 18:00 - 23:30', 'Monday 18:00 - 23:30 Tuesday 18:00 - 23:30 Wednesday 18:00 - 23:30 Thursday 18:00 - 23:30 Friday 18:00 - 23:30 Saturday 18:00 - 23:30 Sunday 18:00 - 23:30']\n",
        "182.html"
       ]
      },
      {
       "output_type": "stream",
       "stream": "stdout",
       "text": [
        " []\n",
        "185.html"
       ]
      },
      {
       "output_type": "stream",
       "stream": "stdout",
       "text": [
        " []\n",
        "186.html"
       ]
      },
      {
       "output_type": "stream",
       "stream": "stdout",
       "text": [
        " []\n",
        "189.html"
       ]
      },
      {
       "output_type": "stream",
       "stream": "stdout",
       "text": [
        " []\n",
        "192.html"
       ]
      },
      {
       "output_type": "stream",
       "stream": "stdout",
       "text": [
        " []\n",
        "193.html"
       ]
      },
      {
       "output_type": "stream",
       "stream": "stdout",
       "text": [
        " []\n",
        "194.html"
       ]
      },
      {
       "output_type": "stream",
       "stream": "stdout",
       "text": [
        " []\n",
        "195.html"
       ]
      },
      {
       "output_type": "stream",
       "stream": "stdout",
       "text": [
        " []\n",
        "204.html"
       ]
      },
      {
       "output_type": "stream",
       "stream": "stdout",
       "text": [
        " []\n",
        "220.html"
       ]
      },
      {
       "output_type": "stream",
       "stream": "stdout",
       "text": [
        " []\n",
        "224.html"
       ]
      },
      {
       "output_type": "stream",
       "stream": "stdout",
       "text": [
        " []\n",
        "228.html"
       ]
      },
      {
       "output_type": "stream",
       "stream": "stdout",
       "text": [
        " []\n",
        "229.html"
       ]
      },
      {
       "output_type": "stream",
       "stream": "stdout",
       "text": [
        " []\n",
        "231.html"
       ]
      },
      {
       "output_type": "stream",
       "stream": "stdout",
       "text": [
        " ['Mon: 16:00 - 00:00 Tues: 16:00 - 00:00 Wed: 16:00 - 00:00 Thurs: 16:00 - 00:00 Fri: 12:00 - 00:00 Sat: 12:00 - 01:00 Sun: 12:00 - 00:00']\n",
        "240.html"
       ]
      },
      {
       "output_type": "stream",
       "stream": "stdout",
       "text": [
        " []\n",
        "242.html"
       ]
      },
      {
       "output_type": "stream",
       "stream": "stdout",
       "text": [
        " []\n",
        "244.html"
       ]
      },
      {
       "output_type": "stream",
       "stream": "stdout",
       "text": [
        " ['Mon - Sat Lunch 12pm to 5pm Evenings from 5pm - last orders 9.45pm Sundays - from 1pm - last orders 8pm']\n",
        "246.html"
       ]
      },
      {
       "output_type": "stream",
       "stream": "stdout",
       "text": [
        " []\n",
        "250.html"
       ]
      },
      {
       "output_type": "stream",
       "stream": "stdout",
       "text": [
        " ['Mon-Sun: 5pm - 12am']\n",
        "251.html"
       ]
      },
      {
       "output_type": "stream",
       "stream": "stdout",
       "text": [
        " []\n",
        "253.html"
       ]
      },
      {
       "output_type": "stream",
       "stream": "stdout",
       "text": [
        " ['Mon: 15:00 - 00:00 Tues: 15:00 - 00:00 Wed: 15:00 - 00:00 Thurs: 12:00 - 00:00 Fri: 12:00 - 00:00 Sat: 12:00 - 00:00 Sun: 12:00 - 00:00']\n",
        "254.html"
       ]
      },
      {
       "output_type": "stream",
       "stream": "stdout",
       "text": [
        " []\n",
        "258.html"
       ]
      },
      {
       "output_type": "stream",
       "stream": "stdout",
       "text": [
        " []\n",
        "26.html"
       ]
      },
      {
       "output_type": "stream",
       "stream": "stdout",
       "text": [
        " []\n",
        "273.html"
       ]
      },
      {
       "output_type": "stream",
       "stream": "stdout",
       "text": [
        " []\n",
        "294.html"
       ]
      },
      {
       "output_type": "stream",
       "stream": "stdout",
       "text": [
        " []\n",
        "301.html []\n",
        "302.html"
       ]
      },
      {
       "output_type": "stream",
       "stream": "stdout",
       "text": [
        " []\n",
        "309.html"
       ]
      },
      {
       "output_type": "stream",
       "stream": "stdout",
       "text": [
        " ['Monday to Friday: 9am - 6.00pm Saturday: 9am - 1.30pm']\n",
        "31.html"
       ]
      },
      {
       "output_type": "stream",
       "stream": "stdout",
       "text": [
        " []\n",
        "310.html"
       ]
      },
      {
       "output_type": "stream",
       "stream": "stdout",
       "text": [
        " ['Monday Closed Tuesday 6pm - 9:30pm Wednesday 6pm - 9:30pm Thursday 6pm - 9:30pm Friday 6pm - 9:30pm Saturday 5:30pm - 9:30pm Sunday 12:30pm - 3:00pm 6pm - 9:00pm']\n",
        "313.html"
       ]
      },
      {
       "output_type": "stream",
       "stream": "stdout",
       "text": [
        " []\n",
        "315.html"
       ]
      },
      {
       "output_type": "stream",
       "stream": "stdout",
       "text": [
        " []\n",
        "316.html"
       ]
      },
      {
       "output_type": "stream",
       "stream": "stdout",
       "text": [
        " []\n",
        "317.html"
       ]
      },
      {
       "output_type": "stream",
       "stream": "stdout",
       "text": [
        " [u'Monday to Friday 8.45am to 5.15pm.', u'Monday to Friday 8.45am to 5.15pm. Call 01 4177500', u'Monday to Friday 8.45am to 5.15pm or email']\n",
        "320.html"
       ]
      },
      {
       "output_type": "stream",
       "stream": "stdout",
       "text": [
        " []\n",
        "323.html"
       ]
      },
      {
       "output_type": "stream",
       "stream": "stdout",
       "text": [
        " []\n",
        "329.html"
       ]
      },
      {
       "output_type": "stream",
       "stream": "stdout",
       "text": [
        " [u'Bank Holidays 11.00am to 6.00pm Monday 9.00am to 8.00pm Tuesday 9.00am to 8.00pm Wednesday 9.00am to 9.00pm Thursday 9.00am to 9.00pm Friday 9.00am to 9.00pm Saturday 9.00am to 6.00pm Sunday 10.00am to 6.00pm']\n",
        "332.html"
       ]
      },
      {
       "output_type": "stream",
       "stream": "stdout",
       "text": [
        " ['5.30pm - 11.30pm ( Sun-Tues ) | 5.30pm - 12 midnight ( Weds - Sat )']\n",
        "338.html"
       ]
      },
      {
       "output_type": "stream",
       "stream": "stdout",
       "text": [
        " ['Monday to Friday 9.30am to 5pm']\n",
        "342.html"
       ]
      },
      {
       "output_type": "stream",
       "stream": "stdout",
       "text": [
        " ['Mon-Fri 9.30am-5.30pm Tel: 056-77 71490 Fax:056-77 71491']\n",
        "343.html"
       ]
      },
      {
       "output_type": "stream",
       "stream": "stdout",
       "text": [
        " []\n",
        "349.html"
       ]
      },
      {
       "output_type": "stream",
       "stream": "stdout",
       "text": [
        " []\n",
        "355.html []\n",
        "356.html"
       ]
      },
      {
       "output_type": "stream",
       "stream": "stdout",
       "text": [
        " ['Tuesday through Saturday from 5:30pm until late']\n",
        "357.html"
       ]
      },
      {
       "output_type": "stream",
       "stream": "stdout",
       "text": [
        " []\n",
        "360.html"
       ]
      },
      {
       "output_type": "stream",
       "stream": "stdout",
       "text": [
        " []\n",
        "367.html"
       ]
      },
      {
       "output_type": "stream",
       "stream": "stdout",
       "text": [
        " []\n",
        "368.html"
       ]
      },
      {
       "output_type": "stream",
       "stream": "stdout",
       "text": [
        " []\n",
        "372.html"
       ]
      },
      {
       "output_type": "stream",
       "stream": "stdout",
       "text": [
        " []\n",
        "373.html"
       ]
      },
      {
       "output_type": "stream",
       "stream": "stdout",
       "text": [
        " []\n",
        "375.html"
       ]
      },
      {
       "output_type": "stream",
       "stream": "stdout",
       "text": [
        " ['Monday to Friday 08:00 to 20:00, Saturdays 10:00 to 17:00 and Sundays 13:00 to 17:00 .']\n",
        "379.html"
       ]
      },
      {
       "output_type": "stream",
       "stream": "stdout",
       "text": [
        " ['are 09:30 to 13:00 and 14:00 to 17:15 Monday to Friday']\n",
        "380.html"
       ]
      },
      {
       "output_type": "stream",
       "stream": "stdout",
       "text": [
        " []\n",
        "385.html"
       ]
      },
      {
       "output_type": "stream",
       "stream": "stdout",
       "text": [
        " []\n",
        "387.html"
       ]
      },
      {
       "output_type": "stream",
       "stream": "stdout",
       "text": [
        " []\n",
        "399.html"
       ]
      },
      {
       "output_type": "stream",
       "stream": "stdout",
       "text": [
        " []\n",
        "4.html"
       ]
      },
      {
       "output_type": "stream",
       "stream": "stdout",
       "text": [
        " []\n",
        "400.html"
       ]
      },
      {
       "output_type": "stream",
       "stream": "stdout",
       "text": [
        " []\n",
        "403.html"
       ]
      },
      {
       "output_type": "stream",
       "stream": "stdout",
       "text": [
        " []\n",
        "41.html"
       ]
      },
      {
       "output_type": "stream",
       "stream": "stdout",
       "text": [
        " []\n",
        "411.html"
       ]
      },
      {
       "output_type": "stream",
       "stream": "stdout",
       "text": [
        " ['Monday to Friday: 8.30am to 12.45pm and 1.30pm to 4.30pm']\n",
        "413.html"
       ]
      },
      {
       "output_type": "stream",
       "stream": "stdout",
       "text": [
        " []\n",
        "417.html"
       ]
      },
      {
       "output_type": "stream",
       "stream": "stdout",
       "text": [
        " []\n",
        "418.html"
       ]
      },
      {
       "output_type": "stream",
       "stream": "stdout",
       "text": [
        " ['9.30 a.m. to 5.30 p.m. Monday to Thursday and 9.30 a.m. to 4.30 p.m. Friday .']\n",
        "423.html"
       ]
      },
      {
       "output_type": "stream",
       "stream": "stdout",
       "text": [
        " []\n",
        "427.html"
       ]
      },
      {
       "output_type": "stream",
       "stream": "stdout",
       "text": [
        " ['Monday 12:00 PM - 11:45 PM 12:00 PM - 11:45 PM Tuesday 12:00 PM - 11:45 PM 12:00 PM - 11:45 PM Wednesday 12:00 PM - 11:45 PM 12:00 PM - 11:45 PM Thursday 12:00 PM - 12:45 AM 12:00 PM - 12:45 AM Friday 12:00 PM - 2:45 AM 12:00 PM - 2:45 AM Saturday 12:00 PM - 2:45 AM 12:00 PM - 2:45 AM Sunday 12:00 PM - 12:45 AM 12:00 PM - 12:45 AM']\n",
        "43.html"
       ]
      },
      {
       "output_type": "stream",
       "stream": "stdout",
       "text": [
        " []\n",
        "430.html"
       ]
      },
      {
       "output_type": "stream",
       "stream": "stdout",
       "text": [
        " []\n",
        "435.html"
       ]
      },
      {
       "output_type": "stream",
       "stream": "stdout",
       "text": [
        " ['Mon: 12:00 - 00:00 Tue: 12:00 - 00:00 Wed: 12:00 - 00:00 Thu: 12:00 - 00:00 Fri: 12:00 - 01:00 Sat: 12:00 - 01:00 Sun: 12:00 - 00:00']\n",
        "437.html"
       ]
      },
      {
       "output_type": "stream",
       "stream": "stdout",
       "text": [
        " []\n",
        "47.html []\n",
        "48.html"
       ]
      },
      {
       "output_type": "stream",
       "stream": "stdout",
       "text": [
        " ['Monday to Thursday Dinner 5:00pm - 11:30pm Friday & Saturday']\n",
        "52.html"
       ]
      },
      {
       "output_type": "stream",
       "stream": "stdout",
       "text": [
        " []\n",
        "54.html"
       ]
      },
      {
       "output_type": "stream",
       "stream": "stdout",
       "text": [
        " ['Monday : 13:00 - 23:59', 'Monday 13:00 - 23:59 Tuesday 13:00 - 23:59 Wednesday 13:00 - 23:59 Thursday 13:00 - 23:59 Friday 13:00 - 23:59 Saturday 13:00 - 23:59 Sunday 13:00 - 23:59']\n",
        "55.html"
       ]
      },
      {
       "output_type": "stream",
       "stream": "stdout",
       "text": [
        " []\n",
        "56.html"
       ]
      },
      {
       "output_type": "stream",
       "stream": "stdout",
       "text": [
        " []\n",
        "57.html"
       ]
      },
      {
       "output_type": "stream",
       "stream": "stdout",
       "text": [
        " []\n",
        "58.html"
       ]
      },
      {
       "output_type": "stream",
       "stream": "stdout",
       "text": [
        " []\n",
        "59.html"
       ]
      },
      {
       "output_type": "stream",
       "stream": "stdout",
       "text": [
        " []\n",
        "61.html"
       ]
      },
      {
       "output_type": "stream",
       "stream": "stdout",
       "text": [
        " ['Lunch: Mon-Fri 12-3pm | Sun 12-9pm | Dinner: Mon-Sat 5-10pm', 'Mondays to Fridays from 12pm to 3pm and on Sundays from 12pm through to 9pm with our Sunday Menu. Dinner is served Monday to Saturday from 5pm to 10pm']\n",
        "63.html"
       ]
      },
      {
       "output_type": "stream",
       "stream": "stdout",
       "text": [
        " []\n",
        "65.html"
       ]
      },
      {
       "output_type": "stream",
       "stream": "stdout",
       "text": [
        " ['Monday - Friday: 9:00am - 5:30pm Saturday & Sunday: Closed']\n",
        "73.html"
       ]
      },
      {
       "output_type": "stream",
       "stream": "stdout",
       "text": [
        " ['Monday: Closed Tuesday: 17:30 - 22:00 Wednesday: 17:30 - 22:00 Thursday: 17:30 - 22:00 Friday: 17:30 - 22:00 Saturday: 17:30 - 22:00 Sunday: Closed']\n",
        "74.html"
       ]
      },
      {
       "output_type": "stream",
       "stream": "stdout",
       "text": [
        " []\n",
        "76.html"
       ]
      },
      {
       "output_type": "stream",
       "stream": "stdout",
       "text": [
        " []\n",
        "78.html"
       ]
      },
      {
       "output_type": "stream",
       "stream": "stdout",
       "text": [
        " []\n",
        "8.html"
       ]
      },
      {
       "output_type": "stream",
       "stream": "stdout",
       "text": [
        " []\n",
        "80.html"
       ]
      },
      {
       "output_type": "stream",
       "stream": "stdout",
       "text": [
        " ['Monday : 16:00 - 01:00', 'Monday 16:00 - 01:00 Tuesday 16:00 - 01:00 Wednesday 16:00 - 01:00 Thursday 16:00 - 01:00 Friday 16:00 - 03:30 Saturday 16:00 - 03:30 Sunday 16:00 - 01:00']\n",
        "81.html"
       ]
      },
      {
       "output_type": "stream",
       "stream": "stdout",
       "text": [
        " []\n",
        "82.html"
       ]
      },
      {
       "output_type": "stream",
       "stream": "stdout",
       "text": [
        " ['Monday 10am - 9:30pm Tuesday 10am - 9:30pm Wednesday 10am - 9:30pm Thursday 10am - 9:30pm Friday 10am - 10pm Saturday 10am - 10pm Sunday 10am - 9:30pm']\n",
        "84.html"
       ]
      },
      {
       "output_type": "stream",
       "stream": "stdout",
       "text": [
        " ['Weekdays: 09:00 - 23:00 Weekends: 17:00 - 02:00']\n",
        "87.html"
       ]
      },
      {
       "output_type": "stream",
       "stream": "stdout",
       "text": [
        " []\n",
        "88.html"
       ]
      },
      {
       "output_type": "stream",
       "stream": "stdout",
       "text": [
        " []\n",
        "89.html"
       ]
      },
      {
       "output_type": "stream",
       "stream": "stdout",
       "text": [
        " ['Monday to Friday 8am - 6pm and Saturday 9am - 1pm', 'Monday to Friday 8am - 6pm and Saturday 9am - 1pm']\n",
        "9.html []\n",
        "90.html"
       ]
      },
      {
       "output_type": "stream",
       "stream": "stdout",
       "text": [
        " []\n",
        "95.html"
       ]
      },
      {
       "output_type": "stream",
       "stream": "stdout",
       "text": [
        " ['Monday : 17:00 - 01:30', 'Monday 17:00 - 01:30 Tuesday 17:00 - 01:30 Wednesday 17:00 - 01:30 Thursday 17:00 - 02:00 Friday 17:00 - 04:00 Saturday 17:00 - 04:00 Sunday 17:00 - 02:00']\n",
        "96.html"
       ]
      },
      {
       "output_type": "stream",
       "stream": "stdout",
       "text": [
        " ['Monday - Friday: 8.45am to 6.45pm Saturday: 10am to 2pm']\n",
        "97.html"
       ]
      },
      {
       "output_type": "stream",
       "stream": "stdout",
       "text": [
        " []\n",
        "98.html"
       ]
      },
      {
       "output_type": "stream",
       "stream": "stdout",
       "text": [
        " ['Monday 4:00 PM - 11:15 PM 4:00 PM - 11:15 PM Tuesday 4:00 PM - 11:15 PM 4:00 PM - 11:15 PM Wednesday 4:00 PM - 11:15 PM 4:00 PM - 11:15 PM Thursday 4:00 PM - 11:15 PM 4:00 PM - 11:15 PM Friday 4:00 PM - 11:45 PM 4:00 PM - 11:45 PM Saturday 4:00 PM - 11:45 PM 4:00 PM - 11:45 PM Sunday 4:00 PM - 11:45 PM 4:00 PM - 11:45 PM']\n"
       ]
      },
      {
       "output_type": "stream",
       "stream": "stderr",
       "text": [
        "../webstruct/features/cluster_features.py:7: UnicodeWarning: Unicode equal comparison failed to convert both arguments to Unicode - interpreting them as being unequal\n",
        "  return {'word2vec_class': word2vec_classes.get(token, 1234)}\n"
       ]
      }
     ],
     "prompt_number": 12
    },
    {
     "cell_type": "code",
     "collapsed": false,
     "input": [],
     "language": "python",
     "metadata": {},
     "outputs": []
    }
   ],
   "metadata": {}
  }
 ]
}