{
 "metadata": {
  "name": "semi-supervised-experiment"
 },
 "nbformat": 3,
 "nbformat_minor": 0,
 "worksheets": [
  {
   "cells": [
    {
     "cell_type": "code",
     "collapsed": false,
     "input": [
      "from gzip import GzipFile\n",
      "import msgpack\n",
      "import os\n",
      "import lxml.html.clean\n",
      "from lxml.html import HTMLParser, document_fromstring, tostring\n",
      "\n",
      "sys.path.insert(0, '../')\n",
      "\n",
      "from webstruct.tokenize import default_tokenizer\n",
      "\n",
      "unpacker = msgpack.Unpacker(GzipFile(filename='businesssites-ie_51_168_4.msgpack'))\n",
      "\n",
      "def mkdir(path):\n",
      "    try:\n",
      "        os.makedirs(path)\n",
      "    except OSError:\n",
      "        pass\n",
      "    \n",
      "parser = HTMLParser(encoding='utf8')\n",
      "\n",
      "cleaner = lxml.html.clean.Cleaner(\n",
      "    style=True,\n",
      "    scripts=True,\n",
      "    embedded=True,\n",
      "    links=True,\n",
      "    page_structure=False,\n",
      "    remove_unknown_tags=False,\n",
      "    meta=False,\n",
      "    safe_attrs_only=False\n",
      ")\n",
      "\n",
      "def html2text(html):\n",
      "    doc = document_fromstring(html, parser=parser)\n",
      "    doc = cleaner.clean_html(doc)\n",
      "    return tostring(doc, method='text', encoding='unicode')\n",
      "\n",
      "def normalize_text(text):\n",
      "    return u\" \".join(default_tokenizer(text))\n",
      "\n",
      "mkdir('../webstruct_data/experiments/')\n",
      "\n",
      "with open('../webstruct_data/experiments/ie-pages-6k.txt', 'w') as f:\n",
      "    for i, item in enumerate(unpacker):\n",
      "        html = item.get('body', '')\n",
      "        if html:\n",
      "            text = html2text(html)\n",
      "            text = normalize_text(text)\n",
      "            f.write(text.encode('utf8'))\n",
      "            f.write('\\n')\n",
      "    print i, 'pages'\n"
     ],
     "language": "python",
     "metadata": {},
     "outputs": []
    },
    {
     "cell_type": "markdown",
     "metadata": {},
     "source": [
      "### Build word2vec with 6k Ireland pages"
     ]
    },
    {
     "cell_type": "code",
     "collapsed": false,
     "input": [
      "!time ~/github/word2vec/bin/word2vec -train ../webstruct_data/experiments/ie-pages-6k.txt -output ../webstruct_data/experiments/ie-pages-6k-vector.bin -cbow 0 -size 200 -window 5 -negative 0 -hs 1 -sample 1e-3 -threads 12 -binary 1"
     ],
     "language": "python",
     "metadata": {},
     "outputs": [
      {
       "output_type": "stream",
       "stream": "stdout",
       "text": [
        "Starting training using file ../webstruct_data/experiments/ie-pages-6k.txt\r\n"
       ]
      },
      {
       "output_type": "stream",
       "stream": "stdout",
       "text": [
        "100K\r",
        "200K\r",
        "300K\r"
       ]
      },
      {
       "output_type": "stream",
       "stream": "stdout",
       "text": [
        "400K\r",
        "500K\r",
        "600K\r"
       ]
      },
      {
       "output_type": "stream",
       "stream": "stdout",
       "text": [
        "700K\r",
        "800K\r",
        "900K\r"
       ]
      },
      {
       "output_type": "stream",
       "stream": "stdout",
       "text": [
        "1000K\r",
        "1100K\r",
        "1200K\r"
       ]
      },
      {
       "output_type": "stream",
       "stream": "stdout",
       "text": [
        "1300K\r",
        "1400K\r",
        "1500K\r"
       ]
      },
      {
       "output_type": "stream",
       "stream": "stdout",
       "text": [
        "1600K\r",
        "1700K\r",
        "1800K\r"
       ]
      },
      {
       "output_type": "stream",
       "stream": "stdout",
       "text": [
        "1900K\r",
        "2000K\r"
       ]
      },
      {
       "output_type": "stream",
       "stream": "stdout",
       "text": [
        "Vocab size: 29275\r\n",
        "Words in train file: 1885988\r\n"
       ]
      },
      {
       "output_type": "stream",
       "stream": "stdout",
       "text": [
        "\r",
        "Alpha: 0.025000  Progress: 0.56%  Words/thread/sec: 0.90k  \r",
        "Alpha: 0.024861  Progress: 1.10%  Words/thread/sec: 1.78k  \r",
        "Alpha: 0.024725  Progress: 1.64%  Words/thread/sec: 2.66k  \r",
        "Alpha: 0.024590  Progress: 2.19%  Words/thread/sec: 3.54k  \r",
        "Alpha: 0.024452  Progress: 2.73%  Words/thread/sec: 4.41k  \r",
        "Alpha: 0.024317  Progress: 3.28%  Words/thread/sec: 5.26k  "
       ]
      },
      {
       "output_type": "stream",
       "stream": "stdout",
       "text": [
        "\r",
        "Alpha: 0.024179  Progress: 3.83%  Words/thread/sec: 6.13k  \r",
        "Alpha: 0.024041  Progress: 4.38%  Words/thread/sec: 7.00k  \r",
        "Alpha: 0.023905  Progress: 4.91%  Words/thread/sec: 7.79k  \r",
        "Alpha: 0.023772  Progress: 5.47%  Words/thread/sec: 8.64k  "
       ]
      },
      {
       "output_type": "stream",
       "stream": "stdout",
       "text": [
        "\r",
        "Alpha: 0.023632  Progress: 6.01%  Words/thread/sec: 9.43k  \r",
        "Alpha: 0.023497  Progress: 6.55%  Words/thread/sec: 10.21k  "
       ]
      },
      {
       "output_type": "stream",
       "stream": "stdout",
       "text": [
        "\r",
        "Alpha: 0.023361  Progress: 7.10%  Words/thread/sec: 5.43k  \r",
        "Alpha: 0.023225  Progress: 7.66%  Words/thread/sec: 5.86k  "
       ]
      },
      {
       "output_type": "stream",
       "stream": "stdout",
       "text": [
        "\r",
        "Alpha: 0.023086  Progress: 8.20%  Words/thread/sec: 6.25k  \r",
        "Alpha: 0.022950  Progress: 8.76%  Words/thread/sec: 6.67k  \r",
        "Alpha: 0.022811  Progress: 9.30%  Words/thread/sec: 7.08k  \r",
        "Alpha: 0.022675  Progress: 9.85%  Words/thread/sec: 7.49k  "
       ]
      },
      {
       "output_type": "stream",
       "stream": "stdout",
       "text": [
        "\r",
        "Alpha: 0.022538  Progress: 10.39%  Words/thread/sec: 7.86k  \r",
        "Alpha: 0.022402  Progress: 10.94%  Words/thread/sec: 8.26k  \r",
        "Alpha: 0.022265  Progress: 11.49%  Words/thread/sec: 8.65k  "
       ]
      },
      {
       "output_type": "stream",
       "stream": "stdout",
       "text": [
        "\r",
        "Alpha: 0.022128  Progress: 12.04%  Words/thread/sec: 9.01k  "
       ]
      },
      {
       "output_type": "stream",
       "stream": "stdout",
       "text": [
        "\r",
        "Alpha: 0.021989  Progress: 12.60%  Words/thread/sec: 9.35k  "
       ]
      },
      {
       "output_type": "stream",
       "stream": "stdout",
       "text": [
        "\r",
        "Alpha: 0.021850  Progress: 13.14%  Words/thread/sec: 9.74k  "
       ]
      },
      {
       "output_type": "stream",
       "stream": "stdout",
       "text": [
        "\r",
        "Alpha: 0.021714  Progress: 13.70%  Words/thread/sec: 6.88k  \r",
        "Alpha: 0.021574  Progress: 14.26%  Words/thread/sec: 7.13k  "
       ]
      },
      {
       "output_type": "stream",
       "stream": "stdout",
       "text": [
        "\r",
        "Alpha: 0.021436  Progress: 14.79%  Words/thread/sec: 7.38k  \r",
        "Alpha: 0.021303  Progress: 15.35%  Words/thread/sec: 7.64k  "
       ]
      },
      {
       "output_type": "stream",
       "stream": "stdout",
       "text": [
        "\r",
        "Alpha: 0.021163  Progress: 15.89%  Words/thread/sec: 7.90k  \r",
        "Alpha: 0.021028  Progress: 16.43%  Words/thread/sec: 8.15k  \r",
        "Alpha: 0.020892  Progress: 16.98%  Words/thread/sec: 8.42k  "
       ]
      },
      {
       "output_type": "stream",
       "stream": "stdout",
       "text": [
        "\r",
        "Alpha: 0.020755  Progress: 17.52%  Words/thread/sec: 8.67k  \r",
        "Alpha: 0.020620  Progress: 18.07%  Words/thread/sec: 8.93k  \r",
        "Alpha: 0.020483  Progress: 18.62%  Words/thread/sec: 9.19k  "
       ]
      },
      {
       "output_type": "stream",
       "stream": "stdout",
       "text": [
        "\r",
        "Alpha: 0.020346  Progress: 19.17%  Words/thread/sec: 9.37k  "
       ]
      },
      {
       "output_type": "stream",
       "stream": "stdout",
       "text": [
        "\r",
        "Alpha: 0.020208  Progress: 19.71%  Words/thread/sec: 9.50k  "
       ]
      },
      {
       "output_type": "stream",
       "stream": "stdout",
       "text": [
        "\r",
        "Alpha: 0.020072  Progress: 20.26%  Words/thread/sec: 7.56k  "
       ]
      },
      {
       "output_type": "stream",
       "stream": "stdout",
       "text": [
        "\r",
        "Alpha: 0.019934  Progress: 20.82%  Words/thread/sec: 7.75k  \r",
        "Alpha: 0.019796  Progress: 21.36%  Words/thread/sec: 7.94k  "
       ]
      },
      {
       "output_type": "stream",
       "stream": "stdout",
       "text": [
        "\r",
        "Alpha: 0.019659  Progress: 21.92%  Words/thread/sec: 8.13k  \r",
        "Alpha: 0.019520  Progress: 22.47%  Words/thread/sec: 8.33k  "
       ]
      },
      {
       "output_type": "stream",
       "stream": "stdout",
       "text": [
        "\r",
        "Alpha: 0.019382  Progress: 23.01%  Words/thread/sec: 8.49k  "
       ]
      },
      {
       "output_type": "stream",
       "stream": "stdout",
       "text": [
        "\r",
        "Alpha: 0.019247  Progress: 23.55%  Words/thread/sec: 8.67k  \r",
        "Alpha: 0.019111  Progress: 24.11%  Words/thread/sec: 8.87k  "
       ]
      },
      {
       "output_type": "stream",
       "stream": "stdout",
       "text": [
        "\r",
        "Alpha: 0.018973  Progress: 24.64%  Words/thread/sec: 9.02k  \r",
        "Alpha: 0.018839  Progress: 25.20%  Words/thread/sec: 9.22k  "
       ]
      },
      {
       "output_type": "stream",
       "stream": "stdout",
       "text": [
        "\r",
        "Alpha: 0.018701  Progress: 25.75%  Words/thread/sec: 9.30k  "
       ]
      },
      {
       "output_type": "stream",
       "stream": "stdout",
       "text": [
        "\r",
        "Alpha: 0.018563  Progress: 26.34%  Words/thread/sec: 9.44k  "
       ]
      },
      {
       "output_type": "stream",
       "stream": "stdout",
       "text": [
        "\r",
        "Alpha: 0.018415  Progress: 26.89%  Words/thread/sec: 7.97k  \r",
        "Alpha: 0.018278  Progress: 27.44%  Words/thread/sec: 8.12k  "
       ]
      },
      {
       "output_type": "stream",
       "stream": "stdout",
       "text": [
        "\r",
        "Alpha: 0.018141  Progress: 27.98%  Words/thread/sec: 8.24k  \r",
        "Alpha: 0.018006  Progress: 28.54%  Words/thread/sec: 8.41k  "
       ]
      },
      {
       "output_type": "stream",
       "stream": "stdout",
       "text": [
        "\r",
        "Alpha: 0.017866  Progress: 29.09%  Words/thread/sec: 8.55k  \r",
        "Alpha: 0.017727  Progress: 29.65%  Words/thread/sec: 8.70k  "
       ]
      },
      {
       "output_type": "stream",
       "stream": "stdout",
       "text": [
        "\r",
        "Alpha: 0.017587  Progress: 30.20%  Words/thread/sec: 8.84k  \r",
        "Alpha: 0.017449  Progress: 30.74%  Words/thread/sec: 8.99k  "
       ]
      },
      {
       "output_type": "stream",
       "stream": "stdout",
       "text": [
        "\r",
        "Alpha: 0.017315  Progress: 31.29%  Words/thread/sec: 9.12k  "
       ]
      },
      {
       "output_type": "stream",
       "stream": "stdout",
       "text": [
        "\r",
        "Alpha: 0.017177  Progress: 31.84%  Words/thread/sec: 9.18k  "
       ]
      },
      {
       "output_type": "stream",
       "stream": "stdout",
       "text": [
        "\r",
        "Alpha: 0.017039  Progress: 32.38%  Words/thread/sec: 9.31k  "
       ]
      },
      {
       "output_type": "stream",
       "stream": "stdout",
       "text": [
        "\r",
        "Alpha: 0.016904  Progress: 32.97%  Words/thread/sec: 9.35k  "
       ]
      },
      {
       "output_type": "stream",
       "stream": "stdout",
       "text": [
        "\r",
        "Alpha: 0.016758  Progress: 33.51%  Words/thread/sec: 8.23k  "
       ]
      },
      {
       "output_type": "stream",
       "stream": "stdout",
       "text": [
        "\r",
        "Alpha: 0.016622  Progress: 34.07%  Words/thread/sec: 8.33k  "
       ]
      },
      {
       "output_type": "stream",
       "stream": "stdout",
       "text": [
        "\r",
        "Alpha: 0.016482  Progress: 34.62%  Words/thread/sec: 8.46k  \r",
        "Alpha: 0.016346  Progress: 35.17%  Words/thread/sec: 8.59k  "
       ]
      },
      {
       "output_type": "stream",
       "stream": "stdout",
       "text": [
        "\r",
        "Alpha: 0.016208  Progress: 35.71%  Words/thread/sec: 8.70k  "
       ]
      },
      {
       "output_type": "stream",
       "stream": "stdout",
       "text": [
        "\r",
        "Alpha: 0.016071  Progress: 36.25%  Words/thread/sec: 8.82k  \r",
        "Alpha: 0.015937  Progress: 36.79%  Words/thread/sec: 8.94k  \r",
        "Alpha: 0.015802  Progress: 37.36%  Words/thread/sec: 9.08k  "
       ]
      },
      {
       "output_type": "stream",
       "stream": "stdout",
       "text": [
        "\r",
        "Alpha: 0.015660  Progress: 37.92%  Words/thread/sec: 9.15k  "
       ]
      },
      {
       "output_type": "stream",
       "stream": "stdout",
       "text": [
        "\r",
        "Alpha: 0.015521  Progress: 38.46%  Words/thread/sec: 9.22k  \r",
        "Alpha: 0.015386  Progress: 39.01%  Words/thread/sec: 9.33k  "
       ]
      },
      {
       "output_type": "stream",
       "stream": "stdout",
       "text": [
        "\r",
        "Alpha: 0.015248  Progress: 39.54%  Words/thread/sec: 9.31k  "
       ]
      },
      {
       "output_type": "stream",
       "stream": "stdout",
       "text": [
        "\r",
        "Alpha: 0.015115  Progress: 40.10%  Words/thread/sec: 8.39k  \r",
        "Alpha: 0.014976  Progress: 40.63%  Words/thread/sec: 8.50k  \r",
        "Alpha: 0.014843  Progress: 41.18%  Words/thread/sec: 8.61k  "
       ]
      },
      {
       "output_type": "stream",
       "stream": "stdout",
       "text": [
        "\r",
        "Alpha: 0.014705  Progress: 41.74%  Words/thread/sec: 8.70k  \r",
        "Alpha: 0.014566  Progress: 42.29%  Words/thread/sec: 8.81k  "
       ]
      },
      {
       "output_type": "stream",
       "stream": "stdout",
       "text": [
        "\r",
        "Alpha: 0.014428  Progress: 42.86%  Words/thread/sec: 8.88k  \r",
        "Alpha: 0.014285  Progress: 43.40%  Words/thread/sec: 8.99k  \r",
        "Alpha: 0.014150  Progress: 43.95%  Words/thread/sec: 9.10k  "
       ]
      },
      {
       "output_type": "stream",
       "stream": "stdout",
       "text": [
        "\r",
        "Alpha: 0.014012  Progress: 44.49%  Words/thread/sec: 9.20k  "
       ]
      },
      {
       "output_type": "stream",
       "stream": "stdout",
       "text": [
        "\r",
        "Alpha: 0.013877  Progress: 45.03%  Words/thread/sec: 9.28k  "
       ]
      },
      {
       "output_type": "stream",
       "stream": "stdout",
       "text": [
        "\r",
        "Alpha: 0.013743  Progress: 45.58%  Words/thread/sec: 9.35k  "
       ]
      },
      {
       "output_type": "stream",
       "stream": "stdout",
       "text": [
        "\r",
        "Alpha: 0.013604  Progress: 46.12%  Words/thread/sec: 9.32k  "
       ]
      },
      {
       "output_type": "stream",
       "stream": "stdout",
       "text": [
        "\r",
        "Alpha: 0.013470  Progress: 46.67%  Words/thread/sec: 8.52k  \r",
        "Alpha: 0.013332  Progress: 47.23%  Words/thread/sec: 8.62k  "
       ]
      },
      {
       "output_type": "stream",
       "stream": "stdout",
       "text": [
        "\r",
        "Alpha: 0.013192  Progress: 47.79%  Words/thread/sec: 8.70k  "
       ]
      },
      {
       "output_type": "stream",
       "stream": "stdout",
       "text": [
        "\r",
        "Alpha: 0.013053  Progress: 48.34%  Words/thread/sec: 8.77k  \r",
        "Alpha: 0.012915  Progress: 48.89%  Words/thread/sec: 8.86k  \r",
        "Alpha: 0.012778  Progress: 49.46%  Words/thread/sec: 8.96k  \r",
        "Alpha: 0.012635  Progress: 50.01%  Words/thread/sec: 9.06k  "
       ]
      },
      {
       "output_type": "stream",
       "stream": "stdout",
       "text": [
        "\r",
        "Alpha: 0.012497  Progress: 50.56%  Words/thread/sec: 9.15k  "
       ]
      },
      {
       "output_type": "stream",
       "stream": "stdout",
       "text": [
        "\r",
        "Alpha: 0.012361  Progress: 51.09%  Words/thread/sec: 9.17k  "
       ]
      },
      {
       "output_type": "stream",
       "stream": "stdout",
       "text": [
        "\r",
        "Alpha: 0.012228  Progress: 51.63%  Words/thread/sec: 9.24k  "
       ]
      },
      {
       "output_type": "stream",
       "stream": "stdout",
       "text": [
        "\r",
        "Alpha: 0.012092  Progress: 52.21%  Words/thread/sec: 9.31k  "
       ]
      },
      {
       "output_type": "stream",
       "stream": "stdout",
       "text": [
        "\r",
        "Alpha: 0.011947  Progress: 52.76%  Words/thread/sec: 9.32k  "
       ]
      },
      {
       "output_type": "stream",
       "stream": "stdout",
       "text": [
        "\r",
        "Alpha: 0.011811  Progress: 53.30%  Words/thread/sec: 8.63k  "
       ]
      },
      {
       "output_type": "stream",
       "stream": "stdout",
       "text": [
        "\r",
        "Alpha: 0.011676  Progress: 53.84%  Words/thread/sec: 8.71k  \r",
        "Alpha: 0.011539  Progress: 54.40%  Words/thread/sec: 8.79k  "
       ]
      },
      {
       "output_type": "stream",
       "stream": "stdout",
       "text": [
        "\r",
        "Alpha: 0.011399  Progress: 54.96%  Words/thread/sec: 8.85k  "
       ]
      },
      {
       "output_type": "stream",
       "stream": "stdout",
       "text": [
        "\r",
        "Alpha: 0.011261  Progress: 55.50%  Words/thread/sec: 8.93k  \r",
        "Alpha: 0.011124  Progress: 56.06%  Words/thread/sec: 9.01k  "
       ]
      },
      {
       "output_type": "stream",
       "stream": "stdout",
       "text": [
        "\r",
        "Alpha: 0.010986  Progress: 56.62%  Words/thread/sec: 9.10k  \r",
        "Alpha: 0.010846  Progress: 57.17%  Words/thread/sec: 9.19k  "
       ]
      },
      {
       "output_type": "stream",
       "stream": "stdout",
       "text": [
        "\r",
        "Alpha: 0.010707  Progress: 57.73%  Words/thread/sec: 9.16k  "
       ]
      },
      {
       "output_type": "stream",
       "stream": "stdout",
       "text": [
        "\r",
        "Alpha: 0.010568  Progress: 58.26%  Words/thread/sec: 9.19k  "
       ]
      },
      {
       "output_type": "stream",
       "stream": "stdout",
       "text": [
        "\r",
        "Alpha: 0.010435  Progress: 58.80%  Words/thread/sec: 9.25k  \r",
        "Alpha: 0.010300  Progress: 59.39%  Words/thread/sec: 9.33k  "
       ]
      },
      {
       "output_type": "stream",
       "stream": "stdout",
       "text": [
        "\r",
        "Alpha: 0.010153  Progress: 59.93%  Words/thread/sec: 8.71k  "
       ]
      },
      {
       "output_type": "stream",
       "stream": "stdout",
       "text": [
        "\r",
        "Alpha: 0.010016  Progress: 60.49%  Words/thread/sec: 8.79k  \r",
        "Alpha: 0.009877  Progress: 61.04%  Words/thread/sec: 8.86k  "
       ]
      },
      {
       "output_type": "stream",
       "stream": "stdout",
       "text": [
        "\r",
        "Alpha: 0.009740  Progress: 61.59%  Words/thread/sec: 8.91k  \r",
        "Alpha: 0.009604  Progress: 62.15%  Words/thread/sec: 8.99k  \r",
        "Alpha: 0.009463  Progress: 62.69%  Words/thread/sec: 9.06k  "
       ]
      },
      {
       "output_type": "stream",
       "stream": "stdout",
       "text": [
        "\r",
        "Alpha: 0.009327  Progress: 63.24%  Words/thread/sec: 9.13k  "
       ]
      },
      {
       "output_type": "stream",
       "stream": "stdout",
       "text": [
        "\r",
        "Alpha: 0.009189  Progress: 63.78%  Words/thread/sec: 9.19k  "
       ]
      },
      {
       "output_type": "stream",
       "stream": "stdout",
       "text": [
        "\r",
        "Alpha: 0.009055  Progress: 64.33%  Words/thread/sec: 9.20k  "
       ]
      },
      {
       "output_type": "stream",
       "stream": "stdout",
       "text": [
        "\r",
        "Alpha: 0.008918  Progress: 64.88%  Words/thread/sec: 9.22k  "
       ]
      },
      {
       "output_type": "stream",
       "stream": "stdout",
       "text": [
        "\r",
        "Alpha: 0.008779  Progress: 65.42%  Words/thread/sec: 9.26k  \r",
        "Alpha: 0.008646  Progress: 65.96%  Words/thread/sec: 9.34k  "
       ]
      },
      {
       "output_type": "stream",
       "stream": "stdout",
       "text": [
        "\r",
        "Alpha: 0.008511  Progress: 66.51%  Words/thread/sec: 8.79k  "
       ]
      },
      {
       "output_type": "stream",
       "stream": "stdout",
       "text": [
        "\r",
        "Alpha: 0.008373  Progress: 67.06%  Words/thread/sec: 8.84k  "
       ]
      },
      {
       "output_type": "stream",
       "stream": "stdout",
       "text": [
        "\r",
        "Alpha: 0.008235  Progress: 67.61%  Words/thread/sec: 8.90k  "
       ]
      },
      {
       "output_type": "stream",
       "stream": "stdout",
       "text": [
        "\r",
        "Alpha: 0.008099  Progress: 68.16%  Words/thread/sec: 8.96k  "
       ]
      },
      {
       "output_type": "stream",
       "stream": "stdout",
       "text": [
        "\r",
        "Alpha: 0.007960  Progress: 68.71%  Words/thread/sec: 9.03k  "
       ]
      },
      {
       "output_type": "stream",
       "stream": "stdout",
       "text": [
        "\r",
        "Alpha: 0.007823  Progress: 69.24%  Words/thread/sec: 9.07k  "
       ]
      },
      {
       "output_type": "stream",
       "stream": "stdout",
       "text": [
        "\r",
        "Alpha: 0.007689  Progress: 69.80%  Words/thread/sec: 9.14k  "
       ]
      },
      {
       "output_type": "stream",
       "stream": "stdout",
       "text": [
        "\r",
        "Alpha: 0.007551  Progress: 70.34%  Words/thread/sec: 9.19k  "
       ]
      },
      {
       "output_type": "stream",
       "stream": "stdout",
       "text": [
        "\r",
        "Alpha: 0.007415  Progress: 70.88%  Words/thread/sec: 9.23k  "
       ]
      },
      {
       "output_type": "stream",
       "stream": "stdout",
       "text": [
        "\r",
        "Alpha: 0.007280  Progress: 71.44%  Words/thread/sec: 9.24k  "
       ]
      },
      {
       "output_type": "stream",
       "stream": "stdout",
       "text": [
        "\r",
        "Alpha: 0.007140  Progress: 71.98%  Words/thread/sec: 9.27k  "
       ]
      },
      {
       "output_type": "stream",
       "stream": "stdout",
       "text": [
        "\r",
        "Alpha: 0.007005  Progress: 72.53%  Words/thread/sec: 9.33k  "
       ]
      },
      {
       "output_type": "stream",
       "stream": "stdout",
       "text": [
        "\r",
        "Alpha: 0.006869  Progress: 73.07%  Words/thread/sec: 8.82k  \r",
        "Alpha: 0.006731  Progress: 73.62%  Words/thread/sec: 8.89k  "
       ]
      },
      {
       "output_type": "stream",
       "stream": "stdout",
       "text": [
        "\r",
        "Alpha: 0.006596  Progress: 74.16%  Words/thread/sec: 8.94k  \r",
        "Alpha: 0.006460  Progress: 74.71%  Words/thread/sec: 9.00k  \r",
        "Alpha: 0.006321  Progress: 75.25%  Words/thread/sec: 9.06k  "
       ]
      },
      {
       "output_type": "stream",
       "stream": "stdout",
       "text": [
        "\r",
        "Alpha: 0.006188  Progress: 75.79%  Words/thread/sec: 9.10k  "
       ]
      },
      {
       "output_type": "stream",
       "stream": "stdout",
       "text": [
        "\r",
        "Alpha: 0.006051  Progress: 76.37%  Words/thread/sec: 9.14k  "
       ]
      },
      {
       "output_type": "stream",
       "stream": "stdout",
       "text": [
        "\r",
        "Alpha: 0.005908  Progress: 76.90%  Words/thread/sec: 9.19k  "
       ]
      },
      {
       "output_type": "stream",
       "stream": "stdout",
       "text": [
        "\r",
        "Alpha: 0.005774  Progress: 77.45%  Words/thread/sec: 9.23k  "
       ]
      },
      {
       "output_type": "stream",
       "stream": "stdout",
       "text": [
        "\r",
        "Alpha: 0.005637  Progress: 78.01%  Words/thread/sec: 9.24k  "
       ]
      },
      {
       "output_type": "stream",
       "stream": "stdout",
       "text": [
        "\r",
        "Alpha: 0.005497  Progress: 78.55%  Words/thread/sec: 9.27k  \r",
        "Alpha: 0.005363  Progress: 79.08%  Words/thread/sec: 9.33k  "
       ]
      },
      {
       "output_type": "stream",
       "stream": "stdout",
       "text": [
        "\r",
        "Alpha: 0.005229  Progress: 79.64%  Words/thread/sec: 8.86k  "
       ]
      },
      {
       "output_type": "stream",
       "stream": "stdout",
       "text": [
        "\r",
        "Alpha: 0.005090  Progress: 80.21%  Words/thread/sec: 8.91k  "
       ]
      },
      {
       "output_type": "stream",
       "stream": "stdout",
       "text": [
        "\r",
        "Alpha: 0.004947  Progress: 80.74%  Words/thread/sec: 8.96k  "
       ]
      },
      {
       "output_type": "stream",
       "stream": "stdout",
       "text": [
        "\r",
        "Alpha: 0.004814  Progress: 81.31%  Words/thread/sec: 9.01k  "
       ]
      },
      {
       "output_type": "stream",
       "stream": "stdout",
       "text": [
        "\r",
        "Alpha: 0.004673  Progress: 81.85%  Words/thread/sec: 9.06k  \r",
        "Alpha: 0.004537  Progress: 82.40%  Words/thread/sec: 9.12k  "
       ]
      },
      {
       "output_type": "stream",
       "stream": "stdout",
       "text": [
        "\r",
        "Alpha: 0.004399  Progress: 82.96%  Words/thread/sec: 9.14k  \r",
        "Alpha: 0.004261  Progress: 83.54%  Words/thread/sec: 9.20k  "
       ]
      },
      {
       "output_type": "stream",
       "stream": "stdout",
       "text": [
        "\r",
        "Alpha: 0.004115  Progress: 84.08%  Words/thread/sec: 9.26k  "
       ]
      },
      {
       "output_type": "stream",
       "stream": "stdout",
       "text": [
        "\r",
        "Alpha: 0.003980  Progress: 84.62%  Words/thread/sec: 9.24k  "
       ]
      },
      {
       "output_type": "stream",
       "stream": "stdout",
       "text": [
        "\r",
        "Alpha: 0.003844  Progress: 85.18%  Words/thread/sec: 9.29k  "
       ]
      },
      {
       "output_type": "stream",
       "stream": "stdout",
       "text": [
        "\r",
        "Alpha: 0.003705  Progress: 85.71%  Words/thread/sec: 9.31k  "
       ]
      },
      {
       "output_type": "stream",
       "stream": "stdout",
       "text": [
        "\r",
        "Alpha: 0.003572  Progress: 86.26%  Words/thread/sec: 8.92k  "
       ]
      },
      {
       "output_type": "stream",
       "stream": "stdout",
       "text": [
        "\r",
        "Alpha: 0.003436  Progress: 86.81%  Words/thread/sec: 8.96k  "
       ]
      },
      {
       "output_type": "stream",
       "stream": "stdout",
       "text": [
        "\r",
        "Alpha: 0.003298  Progress: 87.35%  Words/thread/sec: 9.00k  \r",
        "Alpha: 0.003163  Progress: 87.89%  Words/thread/sec: 9.05k  "
       ]
      },
      {
       "output_type": "stream",
       "stream": "stdout",
       "text": [
        "\r",
        "Alpha: 0.003027  Progress: 88.44%  Words/thread/sec: 9.08k  "
       ]
      },
      {
       "output_type": "stream",
       "stream": "stdout",
       "text": [
        "\r",
        "Alpha: 0.002889  Progress: 88.99%  Words/thread/sec: 9.13k  \r",
        "Alpha: 0.002753  Progress: 89.53%  Words/thread/sec: 9.18k  "
       ]
      },
      {
       "output_type": "stream",
       "stream": "stdout",
       "text": [
        "\r",
        "Alpha: 0.002618  Progress: 90.08%  Words/thread/sec: 9.22k  "
       ]
      },
      {
       "output_type": "stream",
       "stream": "stdout",
       "text": [
        "\r",
        "Alpha: 0.002480  Progress: 90.63%  Words/thread/sec: 9.25k  "
       ]
      },
      {
       "output_type": "stream",
       "stream": "stdout",
       "text": [
        "\r",
        "Alpha: 0.002342  Progress: 91.18%  Words/thread/sec: 9.25k  "
       ]
      },
      {
       "output_type": "stream",
       "stream": "stdout",
       "text": [
        "\r",
        "Alpha: 0.002206  Progress: 91.74%  Words/thread/sec: 9.29k  "
       ]
      },
      {
       "output_type": "stream",
       "stream": "stdout",
       "text": [
        "\r",
        "Alpha: 0.002065  Progress: 92.28%  Words/thread/sec: 9.30k  "
       ]
      },
      {
       "output_type": "stream",
       "stream": "stdout",
       "text": [
        "\r",
        "Alpha: 0.001930  Progress: 92.83%  Words/thread/sec: 8.97k  "
       ]
      },
      {
       "output_type": "stream",
       "stream": "stdout",
       "text": [
        "\r",
        "Alpha: 0.001793  Progress: 93.38%  Words/thread/sec: 8.99k  "
       ]
      },
      {
       "output_type": "stream",
       "stream": "stdout",
       "text": [
        "\r",
        "Alpha: 0.001656  Progress: 93.92%  Words/thread/sec: 9.03k  "
       ]
      },
      {
       "output_type": "stream",
       "stream": "stdout",
       "text": [
        "\r",
        "Alpha: 0.001519  Progress: 94.48%  Words/thread/sec: 9.08k  "
       ]
      },
      {
       "output_type": "stream",
       "stream": "stdout",
       "text": [
        "\r",
        "Alpha: 0.001381  Progress: 95.03%  Words/thread/sec: 9.11k  "
       ]
      },
      {
       "output_type": "stream",
       "stream": "stdout",
       "text": [
        "\r",
        "Alpha: 0.001244  Progress: 95.57%  Words/thread/sec: 9.14k  "
       ]
      },
      {
       "output_type": "stream",
       "stream": "stdout",
       "text": [
        "\r",
        "Alpha: 0.001108  Progress: 96.12%  Words/thread/sec: 9.17k  \r",
        "Alpha: 0.000971  Progress: 96.67%  Words/thread/sec: 9.23k  "
       ]
      },
      {
       "output_type": "stream",
       "stream": "stdout",
       "text": [
        "\r",
        "Alpha: 0.000831  Progress: 97.22%  Words/thread/sec: 9.27k  "
       ]
      },
      {
       "output_type": "stream",
       "stream": "stdout",
       "text": [
        "\r",
        "Alpha: 0.000695  Progress: 97.78%  Words/thread/sec: 9.27k  "
       ]
      },
      {
       "output_type": "stream",
       "stream": "stdout",
       "text": [
        "\r",
        "Alpha: 0.000554  Progress: 98.32%  Words/thread/sec: 9.31k  "
       ]
      },
      {
       "output_type": "stream",
       "stream": "stdout",
       "text": [
        "\r",
        "Alpha: 0.000421  Progress: 98.85%  Words/thread/sec: 9.34k  "
       ]
      },
      {
       "output_type": "stream",
       "stream": "stdout",
       "text": [
        "\r\n",
        "real\t0m56.892s\r\n",
        "user\t3m21.023s\r\n",
        "sys\t0m0.734s\r\n"
       ]
      }
     ],
     "prompt_number": 5
    },
    {
     "cell_type": "code",
     "collapsed": false,
     "input": [
      "from gensim.models import word2vec\n",
      "model = word2vec.Word2Vec.load_word2vec_format('../webstruct_data/experiments/ie-pages-6k-vector.bin', binary=True)\n",
      "\n",
      "print model.most_similar(positive=['Ireland'], topn=10)\n",
      "print model.most_similar(positive=['Ireland', 'Cork'], negative=['Dublin'], topn=10)"
     ],
     "language": "python",
     "metadata": {},
     "outputs": [
      {
       "output_type": "stream",
       "stream": "stdout",
       "text": [
        "[('Ireland.', 0.65840876), ('Cork', 0.50829381), ('Limerick', 0.48032278), ('Mayo', 0.46373808), ('County', 0.46192387), ('Wexford', 0.44668031), ('Tel:', 0.43576884), ('Fermanagh', 0.43247497), ('Kildare', 0.42737022), ('Armagh', 0.42602259)]"
       ]
      },
      {
       "output_type": "stream",
       "stream": "stdout",
       "text": [
        "\n",
        "[('Limerick', 0.51710278), ('Ireland.', 0.5077647), ('Waterford', 0.48417631), ('Mayo', 0.45752582), ('Clare', 0.45402408), ('County', 0.43653232), ('Kilkenny', 0.42648926), ('Donegal', 0.40880698), ('Galway', 0.40297419), ('Kerry', 0.39900699)]\n"
       ]
      }
     ],
     "prompt_number": 7
    },
    {
     "cell_type": "markdown",
     "metadata": {},
     "source": [
      "### Build word2vec with 25k Ireland pages"
     ]
    },
    {
     "cell_type": "code",
     "collapsed": false,
     "input": [
      "!time ~/github/word2vec/bin/word2vec -train ../webstruct_data/experiments/ie-pages-25k.txt -output ../webstruct_data/experiments/ie-pages-25k-vector.bin -cbow 0 -size 200 -window 5 -negative 0 -hs 1 -sample 1e-3 -threads 12 -binary 1"
     ],
     "language": "python",
     "metadata": {},
     "outputs": [
      {
       "output_type": "stream",
       "stream": "stdout",
       "text": [
        "Starting training using file ../webstruct_data/experiments/ie-pages-25k.txt\r\n"
       ]
      },
      {
       "output_type": "stream",
       "stream": "stdout",
       "text": [
        "100K\r",
        "200K\r"
       ]
      },
      {
       "output_type": "stream",
       "stream": "stdout",
       "text": [
        "300K\r",
        "400K\r"
       ]
      },
      {
       "output_type": "stream",
       "stream": "stdout",
       "text": [
        "500K\r",
        "600K\r"
       ]
      },
      {
       "output_type": "stream",
       "stream": "stdout",
       "text": [
        "700K\r"
       ]
      },
      {
       "output_type": "stream",
       "stream": "stdout",
       "text": [
        "800K\r"
       ]
      },
      {
       "output_type": "stream",
       "stream": "stdout",
       "text": [
        "900K\r",
        "1000K\r",
        "1100K\r"
       ]
      },
      {
       "output_type": "stream",
       "stream": "stdout",
       "text": [
        "1200K\r",
        "1300K\r"
       ]
      },
      {
       "output_type": "stream",
       "stream": "stdout",
       "text": [
        "1400K\r",
        "1500K\r"
       ]
      },
      {
       "output_type": "stream",
       "stream": "stdout",
       "text": [
        "1600K\r",
        "1700K\r"
       ]
      },
      {
       "output_type": "stream",
       "stream": "stdout",
       "text": [
        "1800K\r",
        "1900K\r"
       ]
      },
      {
       "output_type": "stream",
       "stream": "stdout",
       "text": [
        "2000K\r"
       ]
      },
      {
       "output_type": "stream",
       "stream": "stdout",
       "text": [
        "2100K\r",
        "2200K\r"
       ]
      },
      {
       "output_type": "stream",
       "stream": "stdout",
       "text": [
        "2300K\r",
        "2400K\r",
        "2500K\r"
       ]
      },
      {
       "output_type": "stream",
       "stream": "stdout",
       "text": [
        "2600K\r",
        "2700K\r"
       ]
      },
      {
       "output_type": "stream",
       "stream": "stdout",
       "text": [
        "2800K\r",
        "2900K\r"
       ]
      },
      {
       "output_type": "stream",
       "stream": "stdout",
       "text": [
        "3000K\r",
        "3100K\r"
       ]
      },
      {
       "output_type": "stream",
       "stream": "stdout",
       "text": [
        "3200K\r",
        "3300K\r",
        "3400K\r"
       ]
      },
      {
       "output_type": "stream",
       "stream": "stdout",
       "text": [
        "3500K\r",
        "3600K\r"
       ]
      },
      {
       "output_type": "stream",
       "stream": "stdout",
       "text": [
        "3700K\r",
        "3800K\r"
       ]
      },
      {
       "output_type": "stream",
       "stream": "stdout",
       "text": [
        "3900K\r",
        "4000K\r",
        "4100K\r"
       ]
      },
      {
       "output_type": "stream",
       "stream": "stdout",
       "text": [
        "4200K\r",
        "4300K\r",
        "4400K\r"
       ]
      },
      {
       "output_type": "stream",
       "stream": "stdout",
       "text": [
        "4500K\r",
        "4600K\r",
        "4700K\r"
       ]
      },
      {
       "output_type": "stream",
       "stream": "stdout",
       "text": [
        "4800K\r",
        "4900K\r",
        "5000K\r"
       ]
      },
      {
       "output_type": "stream",
       "stream": "stdout",
       "text": [
        "5100K\r",
        "5200K\r",
        "5300K\r"
       ]
      },
      {
       "output_type": "stream",
       "stream": "stdout",
       "text": [
        "5400K\r",
        "5500K\r",
        "5600K\r"
       ]
      },
      {
       "output_type": "stream",
       "stream": "stdout",
       "text": [
        "5700K\r",
        "5800K\r",
        "5900K\r"
       ]
      },
      {
       "output_type": "stream",
       "stream": "stdout",
       "text": [
        "6000K\r",
        "6100K\r",
        "6200K\r",
        "6300K\r"
       ]
      },
      {
       "output_type": "stream",
       "stream": "stdout",
       "text": [
        "6400K\r",
        "6500K\r",
        "6600K\r"
       ]
      },
      {
       "output_type": "stream",
       "stream": "stdout",
       "text": [
        "6700K\r",
        "6800K\r",
        "6900K\r"
       ]
      },
      {
       "output_type": "stream",
       "stream": "stdout",
       "text": [
        "7000K\r",
        "7100K\r",
        "7200K\r"
       ]
      },
      {
       "output_type": "stream",
       "stream": "stdout",
       "text": [
        "7300K\r",
        "7400K\r",
        "7500K\r"
       ]
      },
      {
       "output_type": "stream",
       "stream": "stdout",
       "text": [
        "7600K\r"
       ]
      },
      {
       "output_type": "stream",
       "stream": "stdout",
       "text": [
        "7700K\r",
        "7800K\r",
        "7900K\r",
        "8000K\r"
       ]
      },
      {
       "output_type": "stream",
       "stream": "stdout",
       "text": [
        "8100K\r",
        "8200K\r",
        "8300K\r"
       ]
      },
      {
       "output_type": "stream",
       "stream": "stdout",
       "text": [
        "8400K\r",
        "8500K\r",
        "8600K\r"
       ]
      },
      {
       "output_type": "stream",
       "stream": "stdout",
       "text": [
        "8700K\r",
        "8800K\r",
        "8900K\r"
       ]
      },
      {
       "output_type": "stream",
       "stream": "stdout",
       "text": [
        "9000K\r",
        "9100K\r",
        "9200K\r",
        "9300K\r"
       ]
      },
      {
       "output_type": "stream",
       "stream": "stdout",
       "text": [
        "9400K\r",
        "9500K\r",
        "9600K\r"
       ]
      },
      {
       "output_type": "stream",
       "stream": "stdout",
       "text": [
        "9700K\r",
        "9800K\r",
        "9900K\r"
       ]
      },
      {
       "output_type": "stream",
       "stream": "stdout",
       "text": [
        "Vocab size: 78209\r\n",
        "Words in train file: 9555789\r\n"
       ]
      },
      {
       "output_type": "stream",
       "stream": "stdout",
       "text": [
        "\r",
        "Alpha: 0.025000  Progress: 0.11%  Words/thread/sec: 0.90k  \r",
        "Alpha: 0.024972  Progress: 0.22%  Words/thread/sec: 1.75k  \r",
        "Alpha: 0.024945  Progress: 0.33%  Words/thread/sec: 2.61k  "
       ]
      },
      {
       "output_type": "stream",
       "stream": "stdout",
       "text": [
        "\r",
        "Alpha: 0.024918  Progress: 0.44%  Words/thread/sec: 3.43k  \r",
        "Alpha: 0.024891  Progress: 0.55%  Words/thread/sec: 4.28k  \r",
        "Alpha: 0.024863  Progress: 0.65%  Words/thread/sec: 5.12k  "
       ]
      },
      {
       "output_type": "stream",
       "stream": "stdout",
       "text": [
        "\r",
        "Alpha: 0.024836  Progress: 0.76%  Words/thread/sec: 5.89k  \r",
        "Alpha: 0.024810  Progress: 0.87%  Words/thread/sec: 6.69k  \r",
        "Alpha: 0.024784  Progress: 0.97%  Words/thread/sec: 7.48k  \r",
        "Alpha: 0.024757  Progress: 1.09%  Words/thread/sec: 8.34k  "
       ]
      },
      {
       "output_type": "stream",
       "stream": "stdout",
       "text": [
        "\r",
        "Alpha: 0.024729  Progress: 1.19%  Words/thread/sec: 8.97k  \r",
        "Alpha: 0.024702  Progress: 1.30%  Words/thread/sec: 9.75k  "
       ]
      },
      {
       "output_type": "stream",
       "stream": "stdout",
       "text": [
        "\r",
        "Alpha: 0.024675  Progress: 1.41%  Words/thread/sec: 5.33k  "
       ]
      },
      {
       "output_type": "stream",
       "stream": "stdout",
       "text": [
        "\r",
        "Alpha: 0.024647  Progress: 1.52%  Words/thread/sec: 5.73k  \r",
        "Alpha: 0.024620  Progress: 1.63%  Words/thread/sec: 6.14k  "
       ]
      },
      {
       "output_type": "stream",
       "stream": "stdout",
       "text": [
        "\r",
        "Alpha: 0.024593  Progress: 1.74%  Words/thread/sec: 6.51k  \r",
        "Alpha: 0.024565  Progress: 1.85%  Words/thread/sec: 6.89k  "
       ]
      },
      {
       "output_type": "stream",
       "stream": "stdout",
       "text": [
        "\r",
        "Alpha: 0.024538  Progress: 1.95%  Words/thread/sec: 7.27k  "
       ]
      },
      {
       "output_type": "stream",
       "stream": "stdout",
       "text": [
        "\r",
        "Alpha: 0.024511  Progress: 2.06%  Words/thread/sec: 7.61k  \r",
        "Alpha: 0.024484  Progress: 2.18%  Words/thread/sec: 8.00k  "
       ]
      },
      {
       "output_type": "stream",
       "stream": "stdout",
       "text": [
        "\r",
        "Alpha: 0.024456  Progress: 2.28%  Words/thread/sec: 8.35k  \r",
        "Alpha: 0.024429  Progress: 2.39%  Words/thread/sec: 8.73k  "
       ]
      },
      {
       "output_type": "stream",
       "stream": "stdout",
       "text": [
        "\r",
        "Alpha: 0.024402  Progress: 2.50%  Words/thread/sec: 9.00k  "
       ]
      },
      {
       "output_type": "stream",
       "stream": "stdout",
       "text": [
        "\r",
        "Alpha: 0.024375  Progress: 2.61%  Words/thread/sec: 9.31k  "
       ]
      },
      {
       "output_type": "stream",
       "stream": "stdout",
       "text": [
        "\r",
        "Alpha: 0.024349  Progress: 2.72%  Words/thread/sec: 6.77k  "
       ]
      },
      {
       "output_type": "stream",
       "stream": "stdout",
       "text": [
        "\r",
        "Alpha: 0.024321  Progress: 2.82%  Words/thread/sec: 6.95k  \r",
        "Alpha: 0.024294  Progress: 2.93%  Words/thread/sec: 7.21k  "
       ]
      },
      {
       "output_type": "stream",
       "stream": "stdout",
       "text": [
        "\r",
        "Alpha: 0.024267  Progress: 3.04%  Words/thread/sec: 7.44k  \r",
        "Alpha: 0.024240  Progress: 3.15%  Words/thread/sec: 7.71k  "
       ]
      },
      {
       "output_type": "stream",
       "stream": "stdout",
       "text": [
        "\r",
        "Alpha: 0.024212  Progress: 3.26%  Words/thread/sec: 7.87k  \r",
        "Alpha: 0.024185  Progress: 3.37%  Words/thread/sec: 8.13k  \r",
        "Alpha: 0.024158  Progress: 3.47%  Words/thread/sec: 8.37k  "
       ]
      },
      {
       "output_type": "stream",
       "stream": "stdout",
       "text": [
        "\r",
        "Alpha: 0.024132  Progress: 3.59%  Words/thread/sec: 8.63k  "
       ]
      },
      {
       "output_type": "stream",
       "stream": "stdout",
       "text": [
        "\r",
        "Alpha: 0.024103  Progress: 3.69%  Words/thread/sec: 8.81k  "
       ]
      },
      {
       "output_type": "stream",
       "stream": "stdout",
       "text": [
        "\r",
        "Alpha: 0.024076  Progress: 3.80%  Words/thread/sec: 9.01k  "
       ]
      },
      {
       "output_type": "stream",
       "stream": "stdout",
       "text": [
        "\r",
        "Alpha: 0.024049  Progress: 3.91%  Words/thread/sec: 9.17k  "
       ]
      },
      {
       "output_type": "stream",
       "stream": "stdout",
       "text": [
        "\r",
        "Alpha: 0.024023  Progress: 4.02%  Words/thread/sec: 7.47k  "
       ]
      },
      {
       "output_type": "stream",
       "stream": "stdout",
       "text": [
        "\r",
        "Alpha: 0.023996  Progress: 4.13%  Words/thread/sec: 7.59k  "
       ]
      },
      {
       "output_type": "stream",
       "stream": "stdout",
       "text": [
        "\r",
        "Alpha: 0.023968  Progress: 4.24%  Words/thread/sec: 7.75k  "
       ]
      },
      {
       "output_type": "stream",
       "stream": "stdout",
       "text": [
        "\r",
        "Alpha: 0.023941  Progress: 4.35%  Words/thread/sec: 7.91k  "
       ]
      },
      {
       "output_type": "stream",
       "stream": "stdout",
       "text": [
        "\r",
        "Alpha: 0.023914  Progress: 4.45%  Words/thread/sec: 8.08k  "
       ]
      },
      {
       "output_type": "stream",
       "stream": "stdout",
       "text": [
        "\r",
        "Alpha: 0.023886  Progress: 4.56%  Words/thread/sec: 8.19k  \r",
        "Alpha: 0.023859  Progress: 4.67%  Words/thread/sec: 8.37k  "
       ]
      },
      {
       "output_type": "stream",
       "stream": "stdout",
       "text": [
        "\r",
        "Alpha: 0.023832  Progress: 4.78%  Words/thread/sec: 8.53k  "
       ]
      },
      {
       "output_type": "stream",
       "stream": "stdout",
       "text": [
        "\r",
        "Alpha: 0.023806  Progress: 4.88%  Words/thread/sec: 8.70k  \r",
        "Alpha: 0.023779  Progress: 4.99%  Words/thread/sec: 8.89k  "
       ]
      },
      {
       "output_type": "stream",
       "stream": "stdout",
       "text": [
        "\r",
        "Alpha: 0.023752  Progress: 5.10%  Words/thread/sec: 9.05k  "
       ]
      },
      {
       "output_type": "stream",
       "stream": "stdout",
       "text": [
        "\r",
        "Alpha: 0.023725  Progress: 5.21%  Words/thread/sec: 9.06k  "
       ]
      },
      {
       "output_type": "stream",
       "stream": "stdout",
       "text": [
        "\r",
        "Alpha: 0.023698  Progress: 5.32%  Words/thread/sec: 7.85k  "
       ]
      },
      {
       "output_type": "stream",
       "stream": "stdout",
       "text": [
        "\r",
        "Alpha: 0.023671  Progress: 5.43%  Words/thread/sec: 7.98k  "
       ]
      },
      {
       "output_type": "stream",
       "stream": "stdout",
       "text": [
        "\r",
        "Alpha: 0.023642  Progress: 5.54%  Words/thread/sec: 8.11k  "
       ]
      },
      {
       "output_type": "stream",
       "stream": "stdout",
       "text": [
        "\r",
        "Alpha: 0.023615  Progress: 5.65%  Words/thread/sec: 8.19k  "
       ]
      },
      {
       "output_type": "stream",
       "stream": "stdout",
       "text": [
        "\r",
        "Alpha: 0.023588  Progress: 5.76%  Words/thread/sec: 8.27k  "
       ]
      },
      {
       "output_type": "stream",
       "stream": "stdout",
       "text": [
        "\r",
        "Alpha: 0.023561  Progress: 5.86%  Words/thread/sec: 8.35k  "
       ]
      },
      {
       "output_type": "stream",
       "stream": "stdout",
       "text": [
        "\r",
        "Alpha: 0.023534  Progress: 5.97%  Words/thread/sec: 8.47k  \r",
        "Alpha: 0.023506  Progress: 6.08%  Words/thread/sec: 8.60k  "
       ]
      },
      {
       "output_type": "stream",
       "stream": "stdout",
       "text": [
        "\r",
        "Alpha: 0.023479  Progress: 6.19%  Words/thread/sec: 8.73k  \r",
        "Alpha: 0.023452  Progress: 6.30%  Words/thread/sec: 8.87k  \r",
        "Alpha: 0.023425  Progress: 6.41%  Words/thread/sec: 9.02k  "
       ]
      },
      {
       "output_type": "stream",
       "stream": "stdout",
       "text": [
        "\r",
        "Alpha: 0.023399  Progress: 6.51%  Words/thread/sec: 8.99k  "
       ]
      },
      {
       "output_type": "stream",
       "stream": "stdout",
       "text": [
        "\r",
        "Alpha: 0.023372  Progress: 6.62%  Words/thread/sec: 8.07k  \r",
        "Alpha: 0.023345  Progress: 6.73%  Words/thread/sec: 8.20k  "
       ]
      },
      {
       "output_type": "stream",
       "stream": "stdout",
       "text": [
        "\r",
        "Alpha: 0.023317  Progress: 6.84%  Words/thread/sec: 8.31k  "
       ]
      },
      {
       "output_type": "stream",
       "stream": "stdout",
       "text": [
        "\r",
        "Alpha: 0.023291  Progress: 6.95%  Words/thread/sec: 8.36k  "
       ]
      },
      {
       "output_type": "stream",
       "stream": "stdout",
       "text": [
        "\r",
        "Alpha: 0.023263  Progress: 7.06%  Words/thread/sec: 8.43k  "
       ]
      },
      {
       "output_type": "stream",
       "stream": "stdout",
       "text": [
        "\r",
        "Alpha: 0.023236  Progress: 7.16%  Words/thread/sec: 8.48k  "
       ]
      },
      {
       "output_type": "stream",
       "stream": "stdout",
       "text": [
        "\r",
        "Alpha: 0.023210  Progress: 7.27%  Words/thread/sec: 8.56k  \r",
        "Alpha: 0.023183  Progress: 7.38%  Words/thread/sec: 8.69k  "
       ]
      },
      {
       "output_type": "stream",
       "stream": "stdout",
       "text": [
        "\r",
        "Alpha: 0.023155  Progress: 7.49%  Words/thread/sec: 8.78k  "
       ]
      },
      {
       "output_type": "stream",
       "stream": "stdout",
       "text": [
        "\r",
        "Alpha: 0.023128  Progress: 7.59%  Words/thread/sec: 8.89k  \r",
        "Alpha: 0.023102  Progress: 7.70%  Words/thread/sec: 9.00k  "
       ]
      },
      {
       "output_type": "stream",
       "stream": "stdout",
       "text": [
        "\r",
        "Alpha: 0.023075  Progress: 7.81%  Words/thread/sec: 8.99k  "
       ]
      },
      {
       "output_type": "stream",
       "stream": "stdout",
       "text": [
        "\r",
        "Alpha: 0.023049  Progress: 7.92%  Words/thread/sec: 8.25k  \r",
        "Alpha: 0.023021  Progress: 8.03%  Words/thread/sec: 8.35k  "
       ]
      },
      {
       "output_type": "stream",
       "stream": "stdout",
       "text": [
        "\r",
        "Alpha: 0.022994  Progress: 8.13%  Words/thread/sec: 8.41k  "
       ]
      },
      {
       "output_type": "stream",
       "stream": "stdout",
       "text": [
        "\r",
        "Alpha: 0.022967  Progress: 8.24%  Words/thread/sec: 8.44k  "
       ]
      },
      {
       "output_type": "stream",
       "stream": "stdout",
       "text": [
        "\r",
        "Alpha: 0.022940  Progress: 8.35%  Words/thread/sec: 8.52k  "
       ]
      },
      {
       "output_type": "stream",
       "stream": "stdout",
       "text": [
        "\r",
        "Alpha: 0.022913  Progress: 8.45%  Words/thread/sec: 8.55k  "
       ]
      },
      {
       "output_type": "stream",
       "stream": "stdout",
       "text": [
        "\r",
        "Alpha: 0.022887  Progress: 8.56%  Words/thread/sec: 8.64k  "
       ]
      },
      {
       "output_type": "stream",
       "stream": "stdout",
       "text": [
        "\r",
        "Alpha: 0.022860  Progress: 8.67%  Words/thread/sec: 8.74k  "
       ]
      },
      {
       "output_type": "stream",
       "stream": "stdout",
       "text": [
        "\r",
        "Alpha: 0.022833  Progress: 8.78%  Words/thread/sec: 8.83k  "
       ]
      },
      {
       "output_type": "stream",
       "stream": "stdout",
       "text": [
        "\r",
        "Alpha: 0.022805  Progress: 8.89%  Words/thread/sec: 8.92k  "
       ]
      },
      {
       "output_type": "stream",
       "stream": "stdout",
       "text": [
        "\r",
        "Alpha: 0.022778  Progress: 9.00%  Words/thread/sec: 9.00k  "
       ]
      },
      {
       "output_type": "stream",
       "stream": "stdout",
       "text": [
        "\r",
        "Alpha: 0.022751  Progress: 9.10%  Words/thread/sec: 8.99k  "
       ]
      },
      {
       "output_type": "stream",
       "stream": "stdout",
       "text": [
        "\r",
        "Alpha: 0.022724  Progress: 9.21%  Words/thread/sec: 8.38k  "
       ]
      },
      {
       "output_type": "stream",
       "stream": "stdout",
       "text": [
        "\r",
        "Alpha: 0.022697  Progress: 9.32%  Words/thread/sec: 8.46k  "
       ]
      },
      {
       "output_type": "stream",
       "stream": "stdout",
       "text": [
        "\r",
        "Alpha: 0.022669  Progress: 9.43%  Words/thread/sec: 8.52k  "
       ]
      },
      {
       "output_type": "stream",
       "stream": "stdout",
       "text": [
        "\r",
        "Alpha: 0.022642  Progress: 9.54%  Words/thread/sec: 8.52k  "
       ]
      },
      {
       "output_type": "stream",
       "stream": "stdout",
       "text": [
        "\r",
        "Alpha: 0.022616  Progress: 9.64%  Words/thread/sec: 8.57k  "
       ]
      },
      {
       "output_type": "stream",
       "stream": "stdout",
       "text": [
        "\r",
        "Alpha: 0.022589  Progress: 9.75%  Words/thread/sec: 8.62k  "
       ]
      },
      {
       "output_type": "stream",
       "stream": "stdout",
       "text": [
        "\r",
        "Alpha: 0.022563  Progress: 9.86%  Words/thread/sec: 8.69k  \r",
        "Alpha: 0.022536  Progress: 9.97%  Words/thread/sec: 8.77k  "
       ]
      },
      {
       "output_type": "stream",
       "stream": "stdout",
       "text": [
        "\r",
        "Alpha: 0.022508  Progress: 10.07%  Words/thread/sec: 8.86k  "
       ]
      },
      {
       "output_type": "stream",
       "stream": "stdout",
       "text": [
        "\r",
        "Alpha: 0.022481  Progress: 10.18%  Words/thread/sec: 8.92k  "
       ]
      },
      {
       "output_type": "stream",
       "stream": "stdout",
       "text": [
        "\r",
        "Alpha: 0.022455  Progress: 10.29%  Words/thread/sec: 8.97k  "
       ]
      },
      {
       "output_type": "stream",
       "stream": "stdout",
       "text": [
        "\r",
        "Alpha: 0.022428  Progress: 10.39%  Words/thread/sec: 9.00k  "
       ]
      },
      {
       "output_type": "stream",
       "stream": "stdout",
       "text": [
        "\r",
        "Alpha: 0.022402  Progress: 10.50%  Words/thread/sec: 8.46k  "
       ]
      },
      {
       "output_type": "stream",
       "stream": "stdout",
       "text": [
        "\r",
        "Alpha: 0.022374  Progress: 10.61%  Words/thread/sec: 8.52k  "
       ]
      },
      {
       "output_type": "stream",
       "stream": "stdout",
       "text": [
        "\r",
        "Alpha: 0.022347  Progress: 10.72%  Words/thread/sec: 8.56k  "
       ]
      },
      {
       "output_type": "stream",
       "stream": "stdout",
       "text": [
        "\r",
        "Alpha: 0.022320  Progress: 10.82%  Words/thread/sec: 8.57k  "
       ]
      },
      {
       "output_type": "stream",
       "stream": "stdout",
       "text": [
        "\r",
        "Alpha: 0.022294  Progress: 10.93%  Words/thread/sec: 8.58k  "
       ]
      },
      {
       "output_type": "stream",
       "stream": "stdout",
       "text": [
        "\r",
        "Alpha: 0.022267  Progress: 11.04%  Words/thread/sec: 8.65k  \r",
        "Alpha: 0.022240  Progress: 11.15%  Words/thread/sec: 8.72k  "
       ]
      },
      {
       "output_type": "stream",
       "stream": "stdout",
       "text": [
        "\r",
        "Alpha: 0.022213  Progress: 11.25%  Words/thread/sec: 8.78k  "
       ]
      },
      {
       "output_type": "stream",
       "stream": "stdout",
       "text": [
        "\r",
        "Alpha: 0.022186  Progress: 11.36%  Words/thread/sec: 8.84k  \r",
        "Alpha: 0.022160  Progress: 11.47%  Words/thread/sec: 8.92k  "
       ]
      },
      {
       "output_type": "stream",
       "stream": "stdout",
       "text": [
        "\r",
        "Alpha: 0.022133  Progress: 11.57%  Words/thread/sec: 8.92k  \r",
        "Alpha: 0.022106  Progress: 11.68%  Words/thread/sec: 9.01k  "
       ]
      },
      {
       "output_type": "stream",
       "stream": "stdout",
       "text": [
        "\r",
        "Alpha: 0.022080  Progress: 11.79%  Words/thread/sec: 8.53k  "
       ]
      },
      {
       "output_type": "stream",
       "stream": "stdout",
       "text": [
        "\r",
        "Alpha: 0.022052  Progress: 11.90%  Words/thread/sec: 8.58k  "
       ]
      },
      {
       "output_type": "stream",
       "stream": "stdout",
       "text": [
        "\r",
        "Alpha: 0.022025  Progress: 12.01%  Words/thread/sec: 8.60k  "
       ]
      },
      {
       "output_type": "stream",
       "stream": "stdout",
       "text": [
        "\r",
        "Alpha: 0.021998  Progress: 12.11%  Words/thread/sec: 8.54k  "
       ]
      },
      {
       "output_type": "stream",
       "stream": "stdout",
       "text": [
        "\r",
        "Alpha: 0.021971  Progress: 12.22%  Words/thread/sec: 8.60k  "
       ]
      },
      {
       "output_type": "stream",
       "stream": "stdout",
       "text": [
        "\r",
        "Alpha: 0.021944  Progress: 12.33%  Words/thread/sec: 8.67k  \r",
        "Alpha: 0.021917  Progress: 12.44%  Words/thread/sec: 8.75k  "
       ]
      },
      {
       "output_type": "stream",
       "stream": "stdout",
       "text": [
        "\r",
        "Alpha: 0.021890  Progress: 12.56%  Words/thread/sec: 8.80k  \r",
        "Alpha: 0.021861  Progress: 12.66%  Words/thread/sec: 8.87k  \r",
        "Alpha: 0.021834  Progress: 12.77%  Words/thread/sec: 8.94k  "
       ]
      },
      {
       "output_type": "stream",
       "stream": "stdout",
       "text": [
        "\r",
        "Alpha: 0.021808  Progress: 12.87%  Words/thread/sec: 8.93k  "
       ]
      },
      {
       "output_type": "stream",
       "stream": "stdout",
       "text": [
        "\r",
        "Alpha: 0.021782  Progress: 12.98%  Words/thread/sec: 8.98k  "
       ]
      },
      {
       "output_type": "stream",
       "stream": "stdout",
       "text": [
        "\r",
        "Alpha: 0.021755  Progress: 13.09%  Words/thread/sec: 8.60k  "
       ]
      },
      {
       "output_type": "stream",
       "stream": "stdout",
       "text": [
        "\r",
        "Alpha: 0.021728  Progress: 13.20%  Words/thread/sec: 8.62k  "
       ]
      },
      {
       "output_type": "stream",
       "stream": "stdout",
       "text": [
        "\r",
        "Alpha: 0.021701  Progress: 13.30%  Words/thread/sec: 8.62k  "
       ]
      },
      {
       "output_type": "stream",
       "stream": "stdout",
       "text": [
        "\r",
        "Alpha: 0.021675  Progress: 13.41%  Words/thread/sec: 8.57k  \r",
        "Alpha: 0.021648  Progress: 13.52%  Words/thread/sec: 8.63k  "
       ]
      },
      {
       "output_type": "stream",
       "stream": "stdout",
       "text": [
        "\r",
        "Alpha: 0.021621  Progress: 13.62%  Words/thread/sec: 8.69k  \r",
        "Alpha: 0.021595  Progress: 13.73%  Words/thread/sec: 8.75k  "
       ]
      },
      {
       "output_type": "stream",
       "stream": "stdout",
       "text": [
        "\r",
        "Alpha: 0.021568  Progress: 13.83%  Words/thread/sec: 8.79k  "
       ]
      },
      {
       "output_type": "stream",
       "stream": "stdout",
       "text": [
        "\r",
        "Alpha: 0.021542  Progress: 13.94%  Words/thread/sec: 8.85k  "
       ]
      },
      {
       "output_type": "stream",
       "stream": "stdout",
       "text": [
        "\r",
        "Alpha: 0.021515  Progress: 14.05%  Words/thread/sec: 8.87k  "
       ]
      },
      {
       "output_type": "stream",
       "stream": "stdout",
       "text": [
        "\r",
        "Alpha: 0.021489  Progress: 14.15%  Words/thread/sec: 8.91k  "
       ]
      },
      {
       "output_type": "stream",
       "stream": "stdout",
       "text": [
        "\r",
        "Alpha: 0.021461  Progress: 14.27%  Words/thread/sec: 8.95k  "
       ]
      },
      {
       "output_type": "stream",
       "stream": "stdout",
       "text": [
        "\r",
        "Alpha: 0.021432  Progress: 14.38%  Words/thread/sec: 8.64k  "
       ]
      },
      {
       "output_type": "stream",
       "stream": "stdout",
       "text": [
        "\r",
        "Alpha: 0.021405  Progress: 14.49%  Words/thread/sec: 8.64k  "
       ]
      },
      {
       "output_type": "stream",
       "stream": "stdout",
       "text": [
        "\r",
        "Alpha: 0.021378  Progress: 14.59%  Words/thread/sec: 8.64k  "
       ]
      },
      {
       "output_type": "stream",
       "stream": "stdout",
       "text": [
        "\r",
        "Alpha: 0.021351  Progress: 14.70%  Words/thread/sec: 8.60k  "
       ]
      },
      {
       "output_type": "stream",
       "stream": "stdout",
       "text": [
        "\r",
        "Alpha: 0.021325  Progress: 14.81%  Words/thread/sec: 8.66k  "
       ]
      },
      {
       "output_type": "stream",
       "stream": "stdout",
       "text": [
        "\r",
        "Alpha: 0.021298  Progress: 14.91%  Words/thread/sec: 8.71k  \r",
        "Alpha: 0.021271  Progress: 15.02%  Words/thread/sec: 8.77k  "
       ]
      },
      {
       "output_type": "stream",
       "stream": "stdout",
       "text": [
        "\r",
        "Alpha: 0.021245  Progress: 15.12%  Words/thread/sec: 8.82k  "
       ]
      },
      {
       "output_type": "stream",
       "stream": "stdout",
       "text": [
        "\r",
        "Alpha: 0.021219  Progress: 15.23%  Words/thread/sec: 8.84k  "
       ]
      },
      {
       "output_type": "stream",
       "stream": "stdout",
       "text": [
        "\r",
        "Alpha: 0.021192  Progress: 15.34%  Words/thread/sec: 8.89k  "
       ]
      },
      {
       "output_type": "stream",
       "stream": "stdout",
       "text": [
        "\r",
        "Alpha: 0.021166  Progress: 15.44%  Words/thread/sec: 8.91k  "
       ]
      },
      {
       "output_type": "stream",
       "stream": "stdout",
       "text": [
        "\r",
        "Alpha: 0.021139  Progress: 15.55%  Words/thread/sec: 8.94k  "
       ]
      },
      {
       "output_type": "stream",
       "stream": "stdout",
       "text": [
        "\r",
        "Alpha: 0.021112  Progress: 15.66%  Words/thread/sec: 8.67k  "
       ]
      },
      {
       "output_type": "stream",
       "stream": "stdout",
       "text": [
        "\r",
        "Alpha: 0.021085  Progress: 15.77%  Words/thread/sec: 8.66k  "
       ]
      },
      {
       "output_type": "stream",
       "stream": "stdout",
       "text": [
        "\r",
        "Alpha: 0.021058  Progress: 15.87%  Words/thread/sec: 8.65k  "
       ]
      },
      {
       "output_type": "stream",
       "stream": "stdout",
       "text": [
        "\r",
        "Alpha: 0.021031  Progress: 15.98%  Words/thread/sec: 8.63k  "
       ]
      },
      {
       "output_type": "stream",
       "stream": "stdout",
       "text": [
        "\r",
        "Alpha: 0.021005  Progress: 16.09%  Words/thread/sec: 8.67k  "
       ]
      },
      {
       "output_type": "stream",
       "stream": "stdout",
       "text": [
        "\r",
        "Alpha: 0.020978  Progress: 16.20%  Words/thread/sec: 8.72k  \r",
        "Alpha: 0.020951  Progress: 16.30%  Words/thread/sec: 8.77k  "
       ]
      },
      {
       "output_type": "stream",
       "stream": "stdout",
       "text": [
        "\r",
        "Alpha: 0.020924  Progress: 16.41%  Words/thread/sec: 8.81k  "
       ]
      },
      {
       "output_type": "stream",
       "stream": "stdout",
       "text": [
        "\r",
        "Alpha: 0.020898  Progress: 16.52%  Words/thread/sec: 8.84k  "
       ]
      },
      {
       "output_type": "stream",
       "stream": "stdout",
       "text": [
        "\r",
        "Alpha: 0.020871  Progress: 16.62%  Words/thread/sec: 8.89k  "
       ]
      },
      {
       "output_type": "stream",
       "stream": "stdout",
       "text": [
        "\r",
        "Alpha: 0.020844  Progress: 16.73%  Words/thread/sec: 8.89k  "
       ]
      },
      {
       "output_type": "stream",
       "stream": "stdout",
       "text": [
        "\r",
        "Alpha: 0.020818  Progress: 16.84%  Words/thread/sec: 8.93k  "
       ]
      },
      {
       "output_type": "stream",
       "stream": "stdout",
       "text": [
        "\r",
        "Alpha: 0.020791  Progress: 16.95%  Words/thread/sec: 8.70k  "
       ]
      },
      {
       "output_type": "stream",
       "stream": "stdout",
       "text": [
        "\r",
        "Alpha: 0.020764  Progress: 17.05%  Words/thread/sec: 8.69k  "
       ]
      },
      {
       "output_type": "stream",
       "stream": "stdout",
       "text": [
        "\r",
        "Alpha: 0.020736  Progress: 17.16%  Words/thread/sec: 8.65k  "
       ]
      },
      {
       "output_type": "stream",
       "stream": "stdout",
       "text": [
        "\r",
        "Alpha: 0.020710  Progress: 17.27%  Words/thread/sec: 8.65k  "
       ]
      },
      {
       "output_type": "stream",
       "stream": "stdout",
       "text": [
        "\r",
        "Alpha: 0.020683  Progress: 17.38%  Words/thread/sec: 8.69k  \r",
        "Alpha: 0.020656  Progress: 17.48%  Words/thread/sec: 8.74k  "
       ]
      },
      {
       "output_type": "stream",
       "stream": "stdout",
       "text": [
        "\r",
        "Alpha: 0.020629  Progress: 17.59%  Words/thread/sec: 8.78k  "
       ]
      },
      {
       "output_type": "stream",
       "stream": "stdout",
       "text": [
        "\r",
        "Alpha: 0.020602  Progress: 17.70%  Words/thread/sec: 8.82k  "
       ]
      },
      {
       "output_type": "stream",
       "stream": "stdout",
       "text": [
        "\r",
        "Alpha: 0.020575  Progress: 17.81%  Words/thread/sec: 8.84k  "
       ]
      },
      {
       "output_type": "stream",
       "stream": "stdout",
       "text": [
        "\r",
        "Alpha: 0.020549  Progress: 17.91%  Words/thread/sec: 8.89k  "
       ]
      },
      {
       "output_type": "stream",
       "stream": "stdout",
       "text": [
        "\r",
        "Alpha: 0.020522  Progress: 18.02%  Words/thread/sec: 8.88k  "
       ]
      },
      {
       "output_type": "stream",
       "stream": "stdout",
       "text": [
        "\r",
        "Alpha: 0.020496  Progress: 18.12%  Words/thread/sec: 8.92k  "
       ]
      },
      {
       "output_type": "stream",
       "stream": "stdout",
       "text": [
        "\r",
        "Alpha: 0.020469  Progress: 18.23%  Words/thread/sec: 8.72k  "
       ]
      },
      {
       "output_type": "stream",
       "stream": "stdout",
       "text": [
        "\r",
        "Alpha: 0.020442  Progress: 18.34%  Words/thread/sec: 8.73k  "
       ]
      },
      {
       "output_type": "stream",
       "stream": "stdout",
       "text": [
        "\r",
        "Alpha: 0.020415  Progress: 18.45%  Words/thread/sec: 8.72k  "
       ]
      },
      {
       "output_type": "stream",
       "stream": "stdout",
       "text": [
        "\r",
        "Alpha: 0.020389  Progress: 18.55%  Words/thread/sec: 8.67k  \r",
        "Alpha: 0.020361  Progress: 18.66%  Words/thread/sec: 8.72k  "
       ]
      },
      {
       "output_type": "stream",
       "stream": "stdout",
       "text": [
        "\r",
        "Alpha: 0.020334  Progress: 18.77%  Words/thread/sec: 8.74k  "
       ]
      },
      {
       "output_type": "stream",
       "stream": "stdout",
       "text": [
        "\r",
        "Alpha: 0.020307  Progress: 18.88%  Words/thread/sec: 8.76k  \r",
        "Alpha: 0.020281  Progress: 18.98%  Words/thread/sec: 8.80k  "
       ]
      },
      {
       "output_type": "stream",
       "stream": "stdout",
       "text": [
        "\r",
        "Alpha: 0.020254  Progress: 19.10%  Words/thread/sec: 8.83k  \r",
        "Alpha: 0.020225  Progress: 19.21%  Words/thread/sec: 8.88k  "
       ]
      },
      {
       "output_type": "stream",
       "stream": "stdout",
       "text": [
        "\r",
        "Alpha: 0.020196  Progress: 19.32%  Words/thread/sec: 8.88k  \r",
        "Alpha: 0.020170  Progress: 19.43%  Words/thread/sec: 8.93k  "
       ]
      },
      {
       "output_type": "stream",
       "stream": "stdout",
       "text": [
        "\r",
        "Alpha: 0.020143  Progress: 19.54%  Words/thread/sec: 8.74k  "
       ]
      },
      {
       "output_type": "stream",
       "stream": "stdout",
       "text": [
        "\r",
        "Alpha: 0.020116  Progress: 19.65%  Words/thread/sec: 8.78k  "
       ]
      },
      {
       "output_type": "stream",
       "stream": "stdout",
       "text": [
        "\r",
        "Alpha: 0.020088  Progress: 19.76%  Words/thread/sec: 8.75k  "
       ]
      },
      {
       "output_type": "stream",
       "stream": "stdout",
       "text": [
        "\r",
        "Alpha: 0.020061  Progress: 19.87%  Words/thread/sec: 8.71k  "
       ]
      },
      {
       "output_type": "stream",
       "stream": "stdout",
       "text": [
        "\r",
        "Alpha: 0.020034  Progress: 19.97%  Words/thread/sec: 8.74k  "
       ]
      },
      {
       "output_type": "stream",
       "stream": "stdout",
       "text": [
        "\r",
        "Alpha: 0.020007  Progress: 20.08%  Words/thread/sec: 8.77k  "
       ]
      },
      {
       "output_type": "stream",
       "stream": "stdout",
       "text": [
        "\r",
        "Alpha: 0.019979  Progress: 20.19%  Words/thread/sec: 8.81k  "
       ]
      },
      {
       "output_type": "stream",
       "stream": "stdout",
       "text": [
        "\r",
        "Alpha: 0.019953  Progress: 20.30%  Words/thread/sec: 8.83k  "
       ]
      },
      {
       "output_type": "stream",
       "stream": "stdout",
       "text": [
        "\r",
        "Alpha: 0.019925  Progress: 20.40%  Words/thread/sec: 8.84k  "
       ]
      },
      {
       "output_type": "stream",
       "stream": "stdout",
       "text": [
        "\r",
        "Alpha: 0.019899  Progress: 20.51%  Words/thread/sec: 8.84k  "
       ]
      },
      {
       "output_type": "stream",
       "stream": "stdout",
       "text": [
        "\r",
        "Alpha: 0.019873  Progress: 20.62%  Words/thread/sec: 8.88k  "
       ]
      },
      {
       "output_type": "stream",
       "stream": "stdout",
       "text": [
        "\r",
        "Alpha: 0.019846  Progress: 20.73%  Words/thread/sec: 8.92k  "
       ]
      },
      {
       "output_type": "stream",
       "stream": "stdout",
       "text": [
        "\r",
        "Alpha: 0.019817  Progress: 20.85%  Words/thread/sec: 8.79k  "
       ]
      },
      {
       "output_type": "stream",
       "stream": "stdout",
       "text": [
        "\r",
        "Alpha: 0.019789  Progress: 20.95%  Words/thread/sec: 8.81k  "
       ]
      },
      {
       "output_type": "stream",
       "stream": "stdout",
       "text": [
        "\r",
        "Alpha: 0.019762  Progress: 21.06%  Words/thread/sec: 8.76k  "
       ]
      },
      {
       "output_type": "stream",
       "stream": "stdout",
       "text": [
        "\r",
        "Alpha: 0.019735  Progress: 21.17%  Words/thread/sec: 8.73k  "
       ]
      },
      {
       "output_type": "stream",
       "stream": "stdout",
       "text": [
        "\r",
        "Alpha: 0.019708  Progress: 21.28%  Words/thread/sec: 8.76k  \r",
        "Alpha: 0.019681  Progress: 21.38%  Words/thread/sec: 8.80k  "
       ]
      },
      {
       "output_type": "stream",
       "stream": "stdout",
       "text": [
        "\r",
        "Alpha: 0.019654  Progress: 21.49%  Words/thread/sec: 8.82k  "
       ]
      },
      {
       "output_type": "stream",
       "stream": "stdout",
       "text": [
        "\r",
        "Alpha: 0.019627  Progress: 21.60%  Words/thread/sec: 8.84k  "
       ]
      },
      {
       "output_type": "stream",
       "stream": "stdout",
       "text": [
        "\r",
        "Alpha: 0.019601  Progress: 21.70%  Words/thread/sec: 8.83k  "
       ]
      },
      {
       "output_type": "stream",
       "stream": "stdout",
       "text": [
        "\r",
        "Alpha: 0.019574  Progress: 21.81%  Words/thread/sec: 8.84k  "
       ]
      },
      {
       "output_type": "stream",
       "stream": "stdout",
       "text": [
        "\r",
        "Alpha: 0.019548  Progress: 21.93%  Words/thread/sec: 8.87k  "
       ]
      },
      {
       "output_type": "stream",
       "stream": "stdout",
       "text": [
        "\r",
        "Alpha: 0.019519  Progress: 22.04%  Words/thread/sec: 8.86k  "
       ]
      },
      {
       "output_type": "stream",
       "stream": "stdout",
       "text": [
        "\r",
        "Alpha: 0.019490  Progress: 22.15%  Words/thread/sec: 8.83k  "
       ]
      },
      {
       "output_type": "stream",
       "stream": "stdout",
       "text": [
        "\r",
        "Alpha: 0.019463  Progress: 22.25%  Words/thread/sec: 8.81k  "
       ]
      },
      {
       "output_type": "stream",
       "stream": "stdout",
       "text": [
        "\r",
        "Alpha: 0.019437  Progress: 22.36%  Words/thread/sec: 8.73k  "
       ]
      },
      {
       "output_type": "stream",
       "stream": "stdout",
       "text": [
        "\r",
        "Alpha: 0.019410  Progress: 22.47%  Words/thread/sec: 8.76k  "
       ]
      },
      {
       "output_type": "stream",
       "stream": "stdout",
       "text": [
        "\r",
        "Alpha: 0.019381  Progress: 22.58%  Words/thread/sec: 8.79k  "
       ]
      },
      {
       "output_type": "stream",
       "stream": "stdout",
       "text": [
        "\r",
        "Alpha: 0.019355  Progress: 22.69%  Words/thread/sec: 8.83k  "
       ]
      },
      {
       "output_type": "stream",
       "stream": "stdout",
       "text": [
        "\r",
        "Alpha: 0.019328  Progress: 22.80%  Words/thread/sec: 8.84k  "
       ]
      },
      {
       "output_type": "stream",
       "stream": "stdout",
       "text": [
        "\r",
        "Alpha: 0.019301  Progress: 22.91%  Words/thread/sec: 8.88k  "
       ]
      },
      {
       "output_type": "stream",
       "stream": "stdout",
       "text": [
        "\r",
        "Alpha: 0.019274  Progress: 23.01%  Words/thread/sec: 8.84k  "
       ]
      },
      {
       "output_type": "stream",
       "stream": "stdout",
       "text": [
        "\r",
        "Alpha: 0.019247  Progress: 23.12%  Words/thread/sec: 8.84k  "
       ]
      },
      {
       "output_type": "stream",
       "stream": "stdout",
       "text": [
        "\r",
        "Alpha: 0.019220  Progress: 23.23%  Words/thread/sec: 8.81k  "
       ]
      },
      {
       "output_type": "stream",
       "stream": "stdout",
       "text": [
        "\r",
        "Alpha: 0.019191  Progress: 23.35%  Words/thread/sec: 8.83k  "
       ]
      },
      {
       "output_type": "stream",
       "stream": "stdout",
       "text": [
        "\r",
        "Alpha: 0.019163  Progress: 23.46%  Words/thread/sec: 8.85k  "
       ]
      },
      {
       "output_type": "stream",
       "stream": "stdout",
       "text": [
        "\r",
        "Alpha: 0.019135  Progress: 23.57%  Words/thread/sec: 8.83k  "
       ]
      },
      {
       "output_type": "stream",
       "stream": "stdout",
       "text": [
        "\r",
        "Alpha: 0.019108  Progress: 23.68%  Words/thread/sec: 8.77k  "
       ]
      },
      {
       "output_type": "stream",
       "stream": "stdout",
       "text": [
        "\r",
        "Alpha: 0.019081  Progress: 23.78%  Words/thread/sec: 8.78k  "
       ]
      },
      {
       "output_type": "stream",
       "stream": "stdout",
       "text": [
        "\r",
        "Alpha: 0.019055  Progress: 23.89%  Words/thread/sec: 8.79k  "
       ]
      },
      {
       "output_type": "stream",
       "stream": "stdout",
       "text": [
        "\r",
        "Alpha: 0.019028  Progress: 23.99%  Words/thread/sec: 8.83k  "
       ]
      },
      {
       "output_type": "stream",
       "stream": "stdout",
       "text": [
        "\r",
        "Alpha: 0.019002  Progress: 24.10%  Words/thread/sec: 8.85k  "
       ]
      },
      {
       "output_type": "stream",
       "stream": "stdout",
       "text": [
        "\r",
        "Alpha: 0.018975  Progress: 24.21%  Words/thread/sec: 8.86k  "
       ]
      },
      {
       "output_type": "stream",
       "stream": "stdout",
       "text": [
        "\r",
        "Alpha: 0.018948  Progress: 24.31%  Words/thread/sec: 8.84k  "
       ]
      },
      {
       "output_type": "stream",
       "stream": "stdout",
       "text": [
        "\r",
        "Alpha: 0.018922  Progress: 24.42%  Words/thread/sec: 8.85k  "
       ]
      },
      {
       "output_type": "stream",
       "stream": "stdout",
       "text": [
        "\r",
        "Alpha: 0.018895  Progress: 24.53%  Words/thread/sec: 8.78k  "
       ]
      },
      {
       "output_type": "stream",
       "stream": "stdout",
       "text": [
        "\r",
        "Alpha: 0.018868  Progress: 24.63%  Words/thread/sec: 8.81k  "
       ]
      },
      {
       "output_type": "stream",
       "stream": "stdout",
       "text": [
        "\r",
        "Alpha: 0.018842  Progress: 24.75%  Words/thread/sec: 8.82k  "
       ]
      },
      {
       "output_type": "stream",
       "stream": "stdout",
       "text": [
        "\r",
        "Alpha: 0.018813  Progress: 24.86%  Words/thread/sec: 8.85k  "
       ]
      },
      {
       "output_type": "stream",
       "stream": "stdout",
       "text": [
        "\r",
        "Alpha: 0.018786  Progress: 24.96%  Words/thread/sec: 8.81k  "
       ]
      },
      {
       "output_type": "stream",
       "stream": "stdout",
       "text": [
        "\r",
        "Alpha: 0.018759  Progress: 25.07%  Words/thread/sec: 8.79k  "
       ]
      },
      {
       "output_type": "stream",
       "stream": "stdout",
       "text": [
        "\r",
        "Alpha: 0.018732  Progress: 25.18%  Words/thread/sec: 8.79k  "
       ]
      },
      {
       "output_type": "stream",
       "stream": "stdout",
       "text": [
        "\r",
        "Alpha: 0.018706  Progress: 25.28%  Words/thread/sec: 8.83k  \r",
        "Alpha: 0.018679  Progress: 25.39%  Words/thread/sec: 8.86k  "
       ]
      },
      {
       "output_type": "stream",
       "stream": "stdout",
       "text": [
        "\r",
        "Alpha: 0.018652  Progress: 25.50%  Words/thread/sec: 8.88k  "
       ]
      },
      {
       "output_type": "stream",
       "stream": "stdout",
       "text": [
        "\r",
        "Alpha: 0.018625  Progress: 25.61%  Words/thread/sec: 8.83k  "
       ]
      },
      {
       "output_type": "stream",
       "stream": "stdout",
       "text": [
        "\r",
        "Alpha: 0.018598  Progress: 25.71%  Words/thread/sec: 8.83k  "
       ]
      },
      {
       "output_type": "stream",
       "stream": "stdout",
       "text": [
        "\r",
        "Alpha: 0.018572  Progress: 25.82%  Words/thread/sec: 8.78k  "
       ]
      },
      {
       "output_type": "stream",
       "stream": "stdout",
       "text": [
        "\r",
        "Alpha: 0.018546  Progress: 25.92%  Words/thread/sec: 8.81k  "
       ]
      },
      {
       "output_type": "stream",
       "stream": "stdout",
       "text": [
        "\r",
        "Alpha: 0.018520  Progress: 26.03%  Words/thread/sec: 8.81k  "
       ]
      },
      {
       "output_type": "stream",
       "stream": "stdout",
       "text": [
        "\r",
        "Alpha: 0.018493  Progress: 26.14%  Words/thread/sec: 8.80k  "
       ]
      },
      {
       "output_type": "stream",
       "stream": "stdout",
       "text": [
        "\r",
        "Alpha: 0.018464  Progress: 26.25%  Words/thread/sec: 8.83k  "
       ]
      },
      {
       "output_type": "stream",
       "stream": "stdout",
       "text": [
        "\r",
        "Alpha: 0.018438  Progress: 26.36%  Words/thread/sec: 8.80k  "
       ]
      },
      {
       "output_type": "stream",
       "stream": "stdout",
       "text": [
        "\r",
        "Alpha: 0.018411  Progress: 26.46%  Words/thread/sec: 8.79k  "
       ]
      },
      {
       "output_type": "stream",
       "stream": "stdout",
       "text": [
        "\r",
        "Alpha: 0.018384  Progress: 26.57%  Words/thread/sec: 8.82k  "
       ]
      },
      {
       "output_type": "stream",
       "stream": "stdout",
       "text": [
        "\r",
        "Alpha: 0.018357  Progress: 26.68%  Words/thread/sec: 8.84k  "
       ]
      },
      {
       "output_type": "stream",
       "stream": "stdout",
       "text": [
        "\r",
        "Alpha: 0.018330  Progress: 26.80%  Words/thread/sec: 8.87k  "
       ]
      },
      {
       "output_type": "stream",
       "stream": "stdout",
       "text": [
        "\r",
        "Alpha: 0.018301  Progress: 26.91%  Words/thread/sec: 8.79k  "
       ]
      },
      {
       "output_type": "stream",
       "stream": "stdout",
       "text": [
        "\r",
        "Alpha: 0.018273  Progress: 27.02%  Words/thread/sec: 8.82k  "
       ]
      },
      {
       "output_type": "stream",
       "stream": "stdout",
       "text": [
        "\r",
        "Alpha: 0.018246  Progress: 27.12%  Words/thread/sec: 8.80k  "
       ]
      },
      {
       "output_type": "stream",
       "stream": "stdout",
       "text": [
        "\r",
        "Alpha: 0.018219  Progress: 27.23%  Words/thread/sec: 8.82k  "
       ]
      },
      {
       "output_type": "stream",
       "stream": "stdout",
       "text": [
        "\r",
        "Alpha: 0.018193  Progress: 27.34%  Words/thread/sec: 8.82k  "
       ]
      },
      {
       "output_type": "stream",
       "stream": "stdout",
       "text": [
        "\r",
        "Alpha: 0.018166  Progress: 27.44%  Words/thread/sec: 8.82k  "
       ]
      },
      {
       "output_type": "stream",
       "stream": "stdout",
       "text": [
        "\r",
        "Alpha: 0.018139  Progress: 27.56%  Words/thread/sec: 8.78k  "
       ]
      },
      {
       "output_type": "stream",
       "stream": "stdout",
       "text": [
        "\r",
        "Alpha: 0.018110  Progress: 27.67%  Words/thread/sec: 8.81k  "
       ]
      },
      {
       "output_type": "stream",
       "stream": "stdout",
       "text": [
        "\r",
        "Alpha: 0.018083  Progress: 27.78%  Words/thread/sec: 8.81k  \r",
        "Alpha: 0.018056  Progress: 27.89%  Words/thread/sec: 8.84k  "
       ]
      },
      {
       "output_type": "stream",
       "stream": "stdout",
       "text": [
        "\r",
        "Alpha: 0.018028  Progress: 28.00%  Words/thread/sec: 8.87k  "
       ]
      },
      {
       "output_type": "stream",
       "stream": "stdout",
       "text": [
        "\r",
        "Alpha: 0.018000  Progress: 28.11%  Words/thread/sec: 8.83k  "
       ]
      },
      {
       "output_type": "stream",
       "stream": "stdout",
       "text": [
        "\r",
        "Alpha: 0.017972  Progress: 28.22%  Words/thread/sec: 8.81k  "
       ]
      },
      {
       "output_type": "stream",
       "stream": "stdout",
       "text": [
        "\r",
        "Alpha: 0.017945  Progress: 28.33%  Words/thread/sec: 8.83k  "
       ]
      },
      {
       "output_type": "stream",
       "stream": "stdout",
       "text": [
        "\r",
        "Alpha: 0.017917  Progress: 28.44%  Words/thread/sec: 8.81k  "
       ]
      },
      {
       "output_type": "stream",
       "stream": "stdout",
       "text": [
        "\r",
        "Alpha: 0.017891  Progress: 28.54%  Words/thread/sec: 8.82k  "
       ]
      },
      {
       "output_type": "stream",
       "stream": "stdout",
       "text": [
        "\r",
        "Alpha: 0.017864  Progress: 28.65%  Words/thread/sec: 8.84k  "
       ]
      },
      {
       "output_type": "stream",
       "stream": "stdout",
       "text": [
        "\r",
        "Alpha: 0.017837  Progress: 28.76%  Words/thread/sec: 8.85k  "
       ]
      },
      {
       "output_type": "stream",
       "stream": "stdout",
       "text": [
        "\r",
        "Alpha: 0.017810  Progress: 28.87%  Words/thread/sec: 8.80k  "
       ]
      },
      {
       "output_type": "stream",
       "stream": "stdout",
       "text": [
        "\r",
        "Alpha: 0.017783  Progress: 28.97%  Words/thread/sec: 8.80k  "
       ]
      },
      {
       "output_type": "stream",
       "stream": "stdout",
       "text": [
        "\r",
        "Alpha: 0.017757  Progress: 29.08%  Words/thread/sec: 8.82k  "
       ]
      },
      {
       "output_type": "stream",
       "stream": "stdout",
       "text": [
        "\r",
        "Alpha: 0.017730  Progress: 29.19%  Words/thread/sec: 8.85k  "
       ]
      },
      {
       "output_type": "stream",
       "stream": "stdout",
       "text": [
        "\r",
        "Alpha: 0.017703  Progress: 29.29%  Words/thread/sec: 8.88k  "
       ]
      },
      {
       "output_type": "stream",
       "stream": "stdout",
       "text": [
        "\r",
        "Alpha: 0.017676  Progress: 29.40%  Words/thread/sec: 8.83k  "
       ]
      },
      {
       "output_type": "stream",
       "stream": "stdout",
       "text": [
        "\r",
        "Alpha: 0.017650  Progress: 29.51%  Words/thread/sec: 8.82k  "
       ]
      },
      {
       "output_type": "stream",
       "stream": "stdout",
       "text": [
        "\r",
        "Alpha: 0.017624  Progress: 29.61%  Words/thread/sec: 8.83k  "
       ]
      },
      {
       "output_type": "stream",
       "stream": "stdout",
       "text": [
        "\r",
        "Alpha: 0.017597  Progress: 29.72%  Words/thread/sec: 8.81k  "
       ]
      },
      {
       "output_type": "stream",
       "stream": "stdout",
       "text": [
        "\r",
        "Alpha: 0.017569  Progress: 29.83%  Words/thread/sec: 8.84k  "
       ]
      },
      {
       "output_type": "stream",
       "stream": "stdout",
       "text": [
        "\r",
        "Alpha: 0.017542  Progress: 29.94%  Words/thread/sec: 8.85k  "
       ]
      },
      {
       "output_type": "stream",
       "stream": "stdout",
       "text": [
        "\r",
        "Alpha: 0.017515  Progress: 30.05%  Words/thread/sec: 8.84k  "
       ]
      },
      {
       "output_type": "stream",
       "stream": "stdout",
       "text": [
        "\r",
        "Alpha: 0.017488  Progress: 30.16%  Words/thread/sec: 8.78k  "
       ]
      },
      {
       "output_type": "stream",
       "stream": "stdout",
       "text": [
        "\r",
        "Alpha: 0.017461  Progress: 30.26%  Words/thread/sec: 8.79k  "
       ]
      },
      {
       "output_type": "stream",
       "stream": "stdout",
       "text": [
        "\r",
        "Alpha: 0.017434  Progress: 30.37%  Words/thread/sec: 8.82k  \r",
        "Alpha: 0.017408  Progress: 30.49%  Words/thread/sec: 8.85k  "
       ]
      },
      {
       "output_type": "stream",
       "stream": "stdout",
       "text": [
        "\r",
        "Alpha: 0.017378  Progress: 30.59%  Words/thread/sec: 8.88k  "
       ]
      },
      {
       "output_type": "stream",
       "stream": "stdout",
       "text": [
        "\r",
        "Alpha: 0.017351  Progress: 30.70%  Words/thread/sec: 8.85k  "
       ]
      },
      {
       "output_type": "stream",
       "stream": "stdout",
       "text": [
        "\r",
        "Alpha: 0.017324  Progress: 30.81%  Words/thread/sec: 8.83k  "
       ]
      },
      {
       "output_type": "stream",
       "stream": "stdout",
       "text": [
        "\r",
        "Alpha: 0.017298  Progress: 30.93%  Words/thread/sec: 8.79k  "
       ]
      },
      {
       "output_type": "stream",
       "stream": "stdout",
       "text": [
        "\r",
        "Alpha: 0.017269  Progress: 31.03%  Words/thread/sec: 8.81k  "
       ]
      },
      {
       "output_type": "stream",
       "stream": "stdout",
       "text": [
        "\r",
        "Alpha: 0.017241  Progress: 31.14%  Words/thread/sec: 8.84k  "
       ]
      },
      {
       "output_type": "stream",
       "stream": "stdout",
       "text": [
        "\r",
        "Alpha: 0.017215  Progress: 31.25%  Words/thread/sec: 8.85k  "
       ]
      },
      {
       "output_type": "stream",
       "stream": "stdout",
       "text": [
        "\r",
        "Alpha: 0.017188  Progress: 31.36%  Words/thread/sec: 8.85k  "
       ]
      },
      {
       "output_type": "stream",
       "stream": "stdout",
       "text": [
        "\r",
        "Alpha: 0.017161  Progress: 31.46%  Words/thread/sec: 8.78k  "
       ]
      },
      {
       "output_type": "stream",
       "stream": "stdout",
       "text": [
        "\r",
        "Alpha: 0.017134  Progress: 31.57%  Words/thread/sec: 8.80k  "
       ]
      },
      {
       "output_type": "stream",
       "stream": "stdout",
       "text": [
        "\r",
        "Alpha: 0.017107  Progress: 31.68%  Words/thread/sec: 8.82k  "
       ]
      },
      {
       "output_type": "stream",
       "stream": "stdout",
       "text": [
        "\r",
        "Alpha: 0.017081  Progress: 31.78%  Words/thread/sec: 8.85k  \r",
        "Alpha: 0.017054  Progress: 31.89%  Words/thread/sec: 8.88k  "
       ]
      },
      {
       "output_type": "stream",
       "stream": "stdout",
       "text": [
        "\r",
        "Alpha: 0.017027  Progress: 32.00%  Words/thread/sec: 8.85k  "
       ]
      },
      {
       "output_type": "stream",
       "stream": "stdout",
       "text": [
        "\r",
        "Alpha: 0.017000  Progress: 32.11%  Words/thread/sec: 8.84k  "
       ]
      },
      {
       "output_type": "stream",
       "stream": "stdout",
       "text": [
        "\r",
        "Alpha: 0.016973  Progress: 32.21%  Words/thread/sec: 8.79k  \r",
        "Alpha: 0.016947  Progress: 32.32%  Words/thread/sec: 8.82k  "
       ]
      },
      {
       "output_type": "stream",
       "stream": "stdout",
       "text": [
        "\r",
        "Alpha: 0.016920  Progress: 32.43%  Words/thread/sec: 8.84k  "
       ]
      },
      {
       "output_type": "stream",
       "stream": "stdout",
       "text": [
        "\r",
        "Alpha: 0.016893  Progress: 32.53%  Words/thread/sec: 8.86k  "
       ]
      },
      {
       "output_type": "stream",
       "stream": "stdout",
       "text": [
        "\r",
        "Alpha: 0.016867  Progress: 32.64%  Words/thread/sec: 8.85k  "
       ]
      },
      {
       "output_type": "stream",
       "stream": "stdout",
       "text": [
        "\r",
        "Alpha: 0.016839  Progress: 32.75%  Words/thread/sec: 8.78k  \r",
        "Alpha: 0.016811  Progress: 32.86%  Words/thread/sec: 8.81k  "
       ]
      },
      {
       "output_type": "stream",
       "stream": "stdout",
       "text": [
        "\r",
        "Alpha: 0.016785  Progress: 32.97%  Words/thread/sec: 8.83k  "
       ]
      },
      {
       "output_type": "stream",
       "stream": "stdout",
       "text": [
        "\r",
        "Alpha: 0.016758  Progress: 33.08%  Words/thread/sec: 8.86k  "
       ]
      },
      {
       "output_type": "stream",
       "stream": "stdout",
       "text": [
        "\r",
        "Alpha: 0.016731  Progress: 33.18%  Words/thread/sec: 8.88k  "
       ]
      },
      {
       "output_type": "stream",
       "stream": "stdout",
       "text": [
        "\r",
        "Alpha: 0.016704  Progress: 33.29%  Words/thread/sec: 8.85k  "
       ]
      },
      {
       "output_type": "stream",
       "stream": "stdout",
       "text": [
        "\r",
        "Alpha: 0.016678  Progress: 33.40%  Words/thread/sec: 8.86k  "
       ]
      },
      {
       "output_type": "stream",
       "stream": "stdout",
       "text": [
        "\r",
        "Alpha: 0.016650  Progress: 33.50%  Words/thread/sec: 8.80k  "
       ]
      },
      {
       "output_type": "stream",
       "stream": "stdout",
       "text": [
        "\r",
        "Alpha: 0.016624  Progress: 33.61%  Words/thread/sec: 8.82k  "
       ]
      },
      {
       "output_type": "stream",
       "stream": "stdout",
       "text": [
        "\r",
        "Alpha: 0.016596  Progress: 33.72%  Words/thread/sec: 8.84k  "
       ]
      },
      {
       "output_type": "stream",
       "stream": "stdout",
       "text": [
        "\r",
        "Alpha: 0.016570  Progress: 33.83%  Words/thread/sec: 8.86k  "
       ]
      },
      {
       "output_type": "stream",
       "stream": "stdout",
       "text": [
        "\r",
        "Alpha: 0.016543  Progress: 33.93%  Words/thread/sec: 8.85k  "
       ]
      },
      {
       "output_type": "stream",
       "stream": "stdout",
       "text": [
        "\r",
        "Alpha: 0.016516  Progress: 34.04%  Words/thread/sec: 8.79k  "
       ]
      },
      {
       "output_type": "stream",
       "stream": "stdout",
       "text": [
        "\r",
        "Alpha: 0.016489  Progress: 34.15%  Words/thread/sec: 8.81k  "
       ]
      },
      {
       "output_type": "stream",
       "stream": "stdout",
       "text": [
        "\r",
        "Alpha: 0.016463  Progress: 34.26%  Words/thread/sec: 8.84k  "
       ]
      },
      {
       "output_type": "stream",
       "stream": "stdout",
       "text": [
        "\r",
        "Alpha: 0.016436  Progress: 34.37%  Words/thread/sec: 8.85k  "
       ]
      },
      {
       "output_type": "stream",
       "stream": "stdout",
       "text": [
        "\r",
        "Alpha: 0.016409  Progress: 34.48%  Words/thread/sec: 8.86k  "
       ]
      },
      {
       "output_type": "stream",
       "stream": "stdout",
       "text": [
        "\r",
        "Alpha: 0.016380  Progress: 34.59%  Words/thread/sec: 8.86k  "
       ]
      },
      {
       "output_type": "stream",
       "stream": "stdout",
       "text": [
        "\r",
        "Alpha: 0.016353  Progress: 34.69%  Words/thread/sec: 8.88k  "
       ]
      },
      {
       "output_type": "stream",
       "stream": "stdout",
       "text": [
        "\r",
        "Alpha: 0.016327  Progress: 34.80%  Words/thread/sec: 8.83k  "
       ]
      },
      {
       "output_type": "stream",
       "stream": "stdout",
       "text": [
        "\r",
        "Alpha: 0.016300  Progress: 34.92%  Words/thread/sec: 8.84k  "
       ]
      },
      {
       "output_type": "stream",
       "stream": "stdout",
       "text": [
        "\r",
        "Alpha: 0.016271  Progress: 35.02%  Words/thread/sec: 8.84k  "
       ]
      },
      {
       "output_type": "stream",
       "stream": "stdout",
       "text": [
        "\r",
        "Alpha: 0.016244  Progress: 35.13%  Words/thread/sec: 8.86k  "
       ]
      },
      {
       "output_type": "stream",
       "stream": "stdout",
       "text": [
        "\r",
        "Alpha: 0.016218  Progress: 35.24%  Words/thread/sec: 8.86k  "
       ]
      },
      {
       "output_type": "stream",
       "stream": "stdout",
       "text": [
        "\r",
        "Alpha: 0.016190  Progress: 35.35%  Words/thread/sec: 8.81k  "
       ]
      },
      {
       "output_type": "stream",
       "stream": "stdout",
       "text": [
        "\r",
        "Alpha: 0.016163  Progress: 35.46%  Words/thread/sec: 8.83k  \r",
        "Alpha: 0.016136  Progress: 35.56%  Words/thread/sec: 8.85k  "
       ]
      },
      {
       "output_type": "stream",
       "stream": "stdout",
       "text": [
        "\r",
        "Alpha: 0.016109  Progress: 35.67%  Words/thread/sec: 8.86k  "
       ]
      },
      {
       "output_type": "stream",
       "stream": "stdout",
       "text": [
        "\r",
        "Alpha: 0.016082  Progress: 35.78%  Words/thread/sec: 8.86k  "
       ]
      },
      {
       "output_type": "stream",
       "stream": "stdout",
       "text": [
        "\r",
        "Alpha: 0.016056  Progress: 35.88%  Words/thread/sec: 8.87k  "
       ]
      },
      {
       "output_type": "stream",
       "stream": "stdout",
       "text": [
        "\r",
        "Alpha: 0.016029  Progress: 36.00%  Words/thread/sec: 8.85k  "
       ]
      },
      {
       "output_type": "stream",
       "stream": "stdout",
       "text": [
        "\r",
        "Alpha: 0.016000  Progress: 36.11%  Words/thread/sec: 8.84k  "
       ]
      },
      {
       "output_type": "stream",
       "stream": "stdout",
       "text": [
        "\r",
        "Alpha: 0.015973  Progress: 36.22%  Words/thread/sec: 8.87k  "
       ]
      },
      {
       "output_type": "stream",
       "stream": "stdout",
       "text": [
        "\r",
        "Alpha: 0.015944  Progress: 36.33%  Words/thread/sec: 8.85k  "
       ]
      },
      {
       "output_type": "stream",
       "stream": "stdout",
       "text": [
        "\r",
        "Alpha: 0.015917  Progress: 36.44%  Words/thread/sec: 8.87k  "
       ]
      },
      {
       "output_type": "stream",
       "stream": "stdout",
       "text": [
        "\r",
        "Alpha: 0.015890  Progress: 36.55%  Words/thread/sec: 8.86k  "
       ]
      },
      {
       "output_type": "stream",
       "stream": "stdout",
       "text": [
        "\r",
        "Alpha: 0.015863  Progress: 36.66%  Words/thread/sec: 8.82k  "
       ]
      },
      {
       "output_type": "stream",
       "stream": "stdout",
       "text": [
        "\r",
        "Alpha: 0.015836  Progress: 36.76%  Words/thread/sec: 8.84k  \r",
        "Alpha: 0.015810  Progress: 36.87%  Words/thread/sec: 8.87k  "
       ]
      },
      {
       "output_type": "stream",
       "stream": "stdout",
       "text": [
        "\r",
        "Alpha: 0.015783  Progress: 36.97%  Words/thread/sec: 8.86k  "
       ]
      },
      {
       "output_type": "stream",
       "stream": "stdout",
       "text": [
        "\r",
        "Alpha: 0.015756  Progress: 37.08%  Words/thread/sec: 8.87k  "
       ]
      },
      {
       "output_type": "stream",
       "stream": "stdout",
       "text": [
        "\r",
        "Alpha: 0.015730  Progress: 37.20%  Words/thread/sec: 8.84k  "
       ]
      },
      {
       "output_type": "stream",
       "stream": "stdout",
       "text": [
        "\r",
        "Alpha: 0.015701  Progress: 37.30%  Words/thread/sec: 8.86k  "
       ]
      },
      {
       "output_type": "stream",
       "stream": "stdout",
       "text": [
        "\r",
        "Alpha: 0.015674  Progress: 37.42%  Words/thread/sec: 8.87k  "
       ]
      },
      {
       "output_type": "stream",
       "stream": "stdout",
       "text": [
        "\r",
        "Alpha: 0.015645  Progress: 37.53%  Words/thread/sec: 8.88k  "
       ]
      },
      {
       "output_type": "stream",
       "stream": "stdout",
       "text": [
        "\r",
        "Alpha: 0.015618  Progress: 37.64%  Words/thread/sec: 8.86k  "
       ]
      },
      {
       "output_type": "stream",
       "stream": "stdout",
       "text": [
        "\r",
        "Alpha: 0.015591  Progress: 37.74%  Words/thread/sec: 8.87k  "
       ]
      },
      {
       "output_type": "stream",
       "stream": "stdout",
       "text": [
        "\r",
        "Alpha: 0.015565  Progress: 37.85%  Words/thread/sec: 8.87k  "
       ]
      },
      {
       "output_type": "stream",
       "stream": "stdout",
       "text": [
        "\r",
        "Alpha: 0.015538  Progress: 37.96%  Words/thread/sec: 8.83k  "
       ]
      },
      {
       "output_type": "stream",
       "stream": "stdout",
       "text": [
        "\r",
        "Alpha: 0.015511  Progress: 38.06%  Words/thread/sec: 8.85k  "
       ]
      },
      {
       "output_type": "stream",
       "stream": "stdout",
       "text": [
        "\r",
        "Alpha: 0.015484  Progress: 38.17%  Words/thread/sec: 8.86k  "
       ]
      },
      {
       "output_type": "stream",
       "stream": "stdout",
       "text": [
        "\r",
        "Alpha: 0.015457  Progress: 38.28%  Words/thread/sec: 8.86k  "
       ]
      },
      {
       "output_type": "stream",
       "stream": "stdout",
       "text": [
        "\r",
        "Alpha: 0.015430  Progress: 38.39%  Words/thread/sec: 8.85k  "
       ]
      },
      {
       "output_type": "stream",
       "stream": "stdout",
       "text": [
        "\r",
        "Alpha: 0.015401  Progress: 38.50%  Words/thread/sec: 8.85k  "
       ]
      },
      {
       "output_type": "stream",
       "stream": "stdout",
       "text": [
        "\r",
        "Alpha: 0.015375  Progress: 38.61%  Words/thread/sec: 8.87k  "
       ]
      },
      {
       "output_type": "stream",
       "stream": "stdout",
       "text": [
        "\r",
        "Alpha: 0.015348  Progress: 38.71%  Words/thread/sec: 8.86k  "
       ]
      },
      {
       "output_type": "stream",
       "stream": "stdout",
       "text": [
        "\r",
        "Alpha: 0.015321  Progress: 38.82%  Words/thread/sec: 8.88k  "
       ]
      },
      {
       "output_type": "stream",
       "stream": "stdout",
       "text": [
        "\r",
        "Alpha: 0.015294  Progress: 38.93%  Words/thread/sec: 8.87k  "
       ]
      },
      {
       "output_type": "stream",
       "stream": "stdout",
       "text": [
        "\r",
        "Alpha: 0.015268  Progress: 39.04%  Words/thread/sec: 8.88k  "
       ]
      },
      {
       "output_type": "stream",
       "stream": "stdout",
       "text": [
        "\r",
        "Alpha: 0.015241  Progress: 39.14%  Words/thread/sec: 8.87k  "
       ]
      },
      {
       "output_type": "stream",
       "stream": "stdout",
       "text": [
        "\r",
        "Alpha: 0.015215  Progress: 39.25%  Words/thread/sec: 8.85k  "
       ]
      },
      {
       "output_type": "stream",
       "stream": "stdout",
       "text": [
        "\r",
        "Alpha: 0.015187  Progress: 39.36%  Words/thread/sec: 8.86k  "
       ]
      },
      {
       "output_type": "stream",
       "stream": "stdout",
       "text": [
        "\r",
        "Alpha: 0.015161  Progress: 39.46%  Words/thread/sec: 8.87k  "
       ]
      },
      {
       "output_type": "stream",
       "stream": "stdout",
       "text": [
        "\r",
        "Alpha: 0.015134  Progress: 39.57%  Words/thread/sec: 8.87k  "
       ]
      },
      {
       "output_type": "stream",
       "stream": "stdout",
       "text": [
        "\r",
        "Alpha: 0.015107  Progress: 39.68%  Words/thread/sec: 8.85k  "
       ]
      },
      {
       "output_type": "stream",
       "stream": "stdout",
       "text": [
        "\r",
        "Alpha: 0.015080  Progress: 39.79%  Words/thread/sec: 8.84k  "
       ]
      },
      {
       "output_type": "stream",
       "stream": "stdout",
       "text": [
        "\r",
        "Alpha: 0.015053  Progress: 39.90%  Words/thread/sec: 8.86k  "
       ]
      },
      {
       "output_type": "stream",
       "stream": "stdout",
       "text": [
        "\r",
        "Alpha: 0.015024  Progress: 40.01%  Words/thread/sec: 8.88k  "
       ]
      },
      {
       "output_type": "stream",
       "stream": "stdout",
       "text": [
        "\r",
        "Alpha: 0.014997  Progress: 40.12%  Words/thread/sec: 8.88k  "
       ]
      },
      {
       "output_type": "stream",
       "stream": "stdout",
       "text": [
        "\r",
        "Alpha: 0.014970  Progress: 40.23%  Words/thread/sec: 8.88k  "
       ]
      },
      {
       "output_type": "stream",
       "stream": "stdout",
       "text": [
        "\r",
        "Alpha: 0.014943  Progress: 40.34%  Words/thread/sec: 8.88k  "
       ]
      },
      {
       "output_type": "stream",
       "stream": "stdout",
       "text": [
        "\r",
        "Alpha: 0.014916  Progress: 40.45%  Words/thread/sec: 8.87k  "
       ]
      },
      {
       "output_type": "stream",
       "stream": "stdout",
       "text": [
        "\r",
        "Alpha: 0.014888  Progress: 40.56%  Words/thread/sec: 8.86k  "
       ]
      },
      {
       "output_type": "stream",
       "stream": "stdout",
       "text": [
        "\r",
        "Alpha: 0.014861  Progress: 40.66%  Words/thread/sec: 8.87k  "
       ]
      },
      {
       "output_type": "stream",
       "stream": "stdout",
       "text": [
        "\r",
        "Alpha: 0.014834  Progress: 40.77%  Words/thread/sec: 8.87k  "
       ]
      },
      {
       "output_type": "stream",
       "stream": "stdout",
       "text": [
        "\r",
        "Alpha: 0.014807  Progress: 40.88%  Words/thread/sec: 8.88k  "
       ]
      },
      {
       "output_type": "stream",
       "stream": "stdout",
       "text": [
        "\r",
        "Alpha: 0.014781  Progress: 40.98%  Words/thread/sec: 8.87k  "
       ]
      },
      {
       "output_type": "stream",
       "stream": "stdout",
       "text": [
        "\r",
        "Alpha: 0.014754  Progress: 41.09%  Words/thread/sec: 8.84k  "
       ]
      },
      {
       "output_type": "stream",
       "stream": "stdout",
       "text": [
        "\r",
        "Alpha: 0.014727  Progress: 41.20%  Words/thread/sec: 8.86k  "
       ]
      },
      {
       "output_type": "stream",
       "stream": "stdout",
       "text": [
        "\r",
        "Alpha: 0.014701  Progress: 41.30%  Words/thread/sec: 8.88k  "
       ]
      },
      {
       "output_type": "stream",
       "stream": "stdout",
       "text": [
        "\r",
        "Alpha: 0.014675  Progress: 41.41%  Words/thread/sec: 8.89k  "
       ]
      },
      {
       "output_type": "stream",
       "stream": "stdout",
       "text": [
        "\r",
        "Alpha: 0.014648  Progress: 41.52%  Words/thread/sec: 8.88k  "
       ]
      },
      {
       "output_type": "stream",
       "stream": "stdout",
       "text": [
        "\r",
        "Alpha: 0.014620  Progress: 41.63%  Words/thread/sec: 8.89k  "
       ]
      },
      {
       "output_type": "stream",
       "stream": "stdout",
       "text": [
        "\r",
        "Alpha: 0.014592  Progress: 41.74%  Words/thread/sec: 8.89k  "
       ]
      },
      {
       "output_type": "stream",
       "stream": "stdout",
       "text": [
        "\r",
        "Alpha: 0.014565  Progress: 41.85%  Words/thread/sec: 8.88k  "
       ]
      },
      {
       "output_type": "stream",
       "stream": "stdout",
       "text": [
        "\r",
        "Alpha: 0.014538  Progress: 41.95%  Words/thread/sec: 8.88k  "
       ]
      },
      {
       "output_type": "stream",
       "stream": "stdout",
       "text": [
        "\r",
        "Alpha: 0.014511  Progress: 42.06%  Words/thread/sec: 8.88k  "
       ]
      },
      {
       "output_type": "stream",
       "stream": "stdout",
       "text": [
        "\r",
        "Alpha: 0.014485  Progress: 42.17%  Words/thread/sec: 8.89k  "
       ]
      },
      {
       "output_type": "stream",
       "stream": "stdout",
       "text": [
        "\r",
        "Alpha: 0.014457  Progress: 42.28%  Words/thread/sec: 8.88k  "
       ]
      },
      {
       "output_type": "stream",
       "stream": "stdout",
       "text": [
        "\r",
        "Alpha: 0.014431  Progress: 42.38%  Words/thread/sec: 8.85k  "
       ]
      },
      {
       "output_type": "stream",
       "stream": "stdout",
       "text": [
        "\r",
        "Alpha: 0.014404  Progress: 42.49%  Words/thread/sec: 8.86k  "
       ]
      },
      {
       "output_type": "stream",
       "stream": "stdout",
       "text": [
        "\r",
        "Alpha: 0.014377  Progress: 42.60%  Words/thread/sec: 8.88k  \r",
        "Alpha: 0.014350  Progress: 42.71%  Words/thread/sec: 8.90k  "
       ]
      },
      {
       "output_type": "stream",
       "stream": "stdout",
       "text": [
        "\r",
        "Alpha: 0.014323  Progress: 42.82%  Words/thread/sec: 8.88k  "
       ]
      },
      {
       "output_type": "stream",
       "stream": "stdout",
       "text": [
        "\r",
        "Alpha: 0.014296  Progress: 42.93%  Words/thread/sec: 8.90k  "
       ]
      },
      {
       "output_type": "stream",
       "stream": "stdout",
       "text": [
        "\r",
        "Alpha: 0.014268  Progress: 43.04%  Words/thread/sec: 8.90k  "
       ]
      },
      {
       "output_type": "stream",
       "stream": "stdout",
       "text": [
        "\r",
        "Alpha: 0.014241  Progress: 43.15%  Words/thread/sec: 8.89k  "
       ]
      },
      {
       "output_type": "stream",
       "stream": "stdout",
       "text": [
        "\r",
        "Alpha: 0.014214  Progress: 43.25%  Words/thread/sec: 8.89k  "
       ]
      },
      {
       "output_type": "stream",
       "stream": "stdout",
       "text": [
        "\r",
        "Alpha: 0.014187  Progress: 43.36%  Words/thread/sec: 8.88k  "
       ]
      },
      {
       "output_type": "stream",
       "stream": "stdout",
       "text": [
        "\r",
        "Alpha: 0.014160  Progress: 43.47%  Words/thread/sec: 8.90k  "
       ]
      },
      {
       "output_type": "stream",
       "stream": "stdout",
       "text": [
        "\r",
        "Alpha: 0.014133  Progress: 43.57%  Words/thread/sec: 8.88k  "
       ]
      },
      {
       "output_type": "stream",
       "stream": "stdout",
       "text": [
        "\r",
        "Alpha: 0.014107  Progress: 43.69%  Words/thread/sec: 8.85k  "
       ]
      },
      {
       "output_type": "stream",
       "stream": "stdout",
       "text": [
        "\r",
        "Alpha: 0.014078  Progress: 43.79%  Words/thread/sec: 8.87k  "
       ]
      },
      {
       "output_type": "stream",
       "stream": "stdout",
       "text": [
        "\r",
        "Alpha: 0.014052  Progress: 43.90%  Words/thread/sec: 8.88k  "
       ]
      },
      {
       "output_type": "stream",
       "stream": "stdout",
       "text": [
        "\r",
        "Alpha: 0.014025  Progress: 44.00%  Words/thread/sec: 8.90k  "
       ]
      },
      {
       "output_type": "stream",
       "stream": "stdout",
       "text": [
        "\r",
        "Alpha: 0.013999  Progress: 44.11%  Words/thread/sec: 8.89k  "
       ]
      },
      {
       "output_type": "stream",
       "stream": "stdout",
       "text": [
        "\r",
        "Alpha: 0.013971  Progress: 44.23%  Words/thread/sec: 8.91k  "
       ]
      },
      {
       "output_type": "stream",
       "stream": "stdout",
       "text": [
        "\r",
        "Alpha: 0.013944  Progress: 44.33%  Words/thread/sec: 8.90k  "
       ]
      },
      {
       "output_type": "stream",
       "stream": "stdout",
       "text": [
        "\r",
        "Alpha: 0.013916  Progress: 44.44%  Words/thread/sec: 8.88k  "
       ]
      },
      {
       "output_type": "stream",
       "stream": "stdout",
       "text": [
        "\r",
        "Alpha: 0.013890  Progress: 44.55%  Words/thread/sec: 8.87k  "
       ]
      },
      {
       "output_type": "stream",
       "stream": "stdout",
       "text": [
        "\r",
        "Alpha: 0.013864  Progress: 44.66%  Words/thread/sec: 8.88k  "
       ]
      },
      {
       "output_type": "stream",
       "stream": "stdout",
       "text": [
        "\r",
        "Alpha: 0.013835  Progress: 44.78%  Words/thread/sec: 8.89k  "
       ]
      },
      {
       "output_type": "stream",
       "stream": "stdout",
       "text": [
        "\r",
        "Alpha: 0.013806  Progress: 44.88%  Words/thread/sec: 8.88k  "
       ]
      },
      {
       "output_type": "stream",
       "stream": "stdout",
       "text": [
        "\r",
        "Alpha: 0.013779  Progress: 44.99%  Words/thread/sec: 8.86k  "
       ]
      },
      {
       "output_type": "stream",
       "stream": "stdout",
       "text": [
        "\r",
        "Alpha: 0.013753  Progress: 45.10%  Words/thread/sec: 8.86k  "
       ]
      },
      {
       "output_type": "stream",
       "stream": "stdout",
       "text": [
        "\r",
        "Alpha: 0.013726  Progress: 45.20%  Words/thread/sec: 8.88k  "
       ]
      },
      {
       "output_type": "stream",
       "stream": "stdout",
       "text": [
        "\r",
        "Alpha: 0.013699  Progress: 45.32%  Words/thread/sec: 8.88k  "
       ]
      },
      {
       "output_type": "stream",
       "stream": "stdout",
       "text": [
        "\r",
        "Alpha: 0.013670  Progress: 45.43%  Words/thread/sec: 8.89k  \r",
        "Alpha: 0.013643  Progress: 45.54%  Words/thread/sec: 8.91k  "
       ]
      },
      {
       "output_type": "stream",
       "stream": "stdout",
       "text": [
        "\r",
        "Alpha: 0.013616  Progress: 45.65%  Words/thread/sec: 8.92k  "
       ]
      },
      {
       "output_type": "stream",
       "stream": "stdout",
       "text": [
        "\r",
        "Alpha: 0.013589  Progress: 45.75%  Words/thread/sec: 8.89k  "
       ]
      },
      {
       "output_type": "stream",
       "stream": "stdout",
       "text": [
        "\r",
        "Alpha: 0.013562  Progress: 45.86%  Words/thread/sec: 8.88k  "
       ]
      },
      {
       "output_type": "stream",
       "stream": "stdout",
       "text": [
        "\r",
        "Alpha: 0.013535  Progress: 45.97%  Words/thread/sec: 8.88k  "
       ]
      },
      {
       "output_type": "stream",
       "stream": "stdout",
       "text": [
        "\r",
        "Alpha: 0.013509  Progress: 46.08%  Words/thread/sec: 8.88k  "
       ]
      },
      {
       "output_type": "stream",
       "stream": "stdout",
       "text": [
        "\r",
        "Alpha: 0.013480  Progress: 46.19%  Words/thread/sec: 8.88k  "
       ]
      },
      {
       "output_type": "stream",
       "stream": "stdout",
       "text": [
        "\r",
        "Alpha: 0.013453  Progress: 46.29%  Words/thread/sec: 8.86k  "
       ]
      },
      {
       "output_type": "stream",
       "stream": "stdout",
       "text": [
        "\r",
        "Alpha: 0.013427  Progress: 46.40%  Words/thread/sec: 8.87k  "
       ]
      },
      {
       "output_type": "stream",
       "stream": "stdout",
       "text": [
        "\r",
        "Alpha: 0.013400  Progress: 46.51%  Words/thread/sec: 8.89k  "
       ]
      },
      {
       "output_type": "stream",
       "stream": "stdout",
       "text": [
        "\r",
        "Alpha: 0.013373  Progress: 46.61%  Words/thread/sec: 8.87k  "
       ]
      },
      {
       "output_type": "stream",
       "stream": "stdout",
       "text": [
        "\r",
        "Alpha: 0.013346  Progress: 46.72%  Words/thread/sec: 8.89k  "
       ]
      },
      {
       "output_type": "stream",
       "stream": "stdout",
       "text": [
        "\r",
        "Alpha: 0.013319  Progress: 46.83%  Words/thread/sec: 8.91k  "
       ]
      },
      {
       "output_type": "stream",
       "stream": "stdout",
       "text": [
        "\r",
        "Alpha: 0.013293  Progress: 46.94%  Words/thread/sec: 8.91k  "
       ]
      },
      {
       "output_type": "stream",
       "stream": "stdout",
       "text": [
        "\r",
        "Alpha: 0.013264  Progress: 47.06%  Words/thread/sec: 8.87k  "
       ]
      },
      {
       "output_type": "stream",
       "stream": "stdout",
       "text": [
        "\r",
        "Alpha: 0.013235  Progress: 47.17%  Words/thread/sec: 8.88k  "
       ]
      },
      {
       "output_type": "stream",
       "stream": "stdout",
       "text": [
        "\r",
        "Alpha: 0.013209  Progress: 47.27%  Words/thread/sec: 8.88k  "
       ]
      },
      {
       "output_type": "stream",
       "stream": "stdout",
       "text": [
        "\r",
        "Alpha: 0.013182  Progress: 47.38%  Words/thread/sec: 8.88k  "
       ]
      },
      {
       "output_type": "stream",
       "stream": "stdout",
       "text": [
        "\r",
        "Alpha: 0.013155  Progress: 47.49%  Words/thread/sec: 8.88k  "
       ]
      },
      {
       "output_type": "stream",
       "stream": "stdout",
       "text": [
        "\r",
        "Alpha: 0.013129  Progress: 47.59%  Words/thread/sec: 8.87k  "
       ]
      },
      {
       "output_type": "stream",
       "stream": "stdout",
       "text": [
        "\r",
        "Alpha: 0.013102  Progress: 47.70%  Words/thread/sec: 8.88k  "
       ]
      },
      {
       "output_type": "stream",
       "stream": "stdout",
       "text": [
        "\r",
        "Alpha: 0.013075  Progress: 47.80%  Words/thread/sec: 8.89k  "
       ]
      },
      {
       "output_type": "stream",
       "stream": "stdout",
       "text": [
        "\r",
        "Alpha: 0.013049  Progress: 47.91%  Words/thread/sec: 8.89k  "
       ]
      },
      {
       "output_type": "stream",
       "stream": "stdout",
       "text": [
        "\r",
        "Alpha: 0.013023  Progress: 48.01%  Words/thread/sec: 8.89k  "
       ]
      },
      {
       "output_type": "stream",
       "stream": "stdout",
       "text": [
        "\r",
        "Alpha: 0.012996  Progress: 48.12%  Words/thread/sec: 8.91k  "
       ]
      },
      {
       "output_type": "stream",
       "stream": "stdout",
       "text": [
        "\r",
        "Alpha: 0.012969  Progress: 48.24%  Words/thread/sec: 8.89k  "
       ]
      },
      {
       "output_type": "stream",
       "stream": "stdout",
       "text": [
        "\r",
        "Alpha: 0.012940  Progress: 48.35%  Words/thread/sec: 8.87k  "
       ]
      },
      {
       "output_type": "stream",
       "stream": "stdout",
       "text": [
        "\r",
        "Alpha: 0.012914  Progress: 48.45%  Words/thread/sec: 8.88k  "
       ]
      },
      {
       "output_type": "stream",
       "stream": "stdout",
       "text": [
        "\r",
        "Alpha: 0.012887  Progress: 48.56%  Words/thread/sec: 8.88k  "
       ]
      },
      {
       "output_type": "stream",
       "stream": "stdout",
       "text": [
        "\r",
        "Alpha: 0.012860  Progress: 48.67%  Words/thread/sec: 8.88k  "
       ]
      },
      {
       "output_type": "stream",
       "stream": "stdout",
       "text": [
        "\r",
        "Alpha: 0.012834  Progress: 48.77%  Words/thread/sec: 8.88k  "
       ]
      },
      {
       "output_type": "stream",
       "stream": "stdout",
       "text": [
        "\r",
        "Alpha: 0.012807  Progress: 48.88%  Words/thread/sec: 8.87k  "
       ]
      },
      {
       "output_type": "stream",
       "stream": "stdout",
       "text": [
        "\r",
        "Alpha: 0.012781  Progress: 48.99%  Words/thread/sec: 8.88k  "
       ]
      },
      {
       "output_type": "stream",
       "stream": "stdout",
       "text": [
        "\r",
        "Alpha: 0.012754  Progress: 49.10%  Words/thread/sec: 8.89k  "
       ]
      },
      {
       "output_type": "stream",
       "stream": "stdout",
       "text": [
        "\r",
        "Alpha: 0.012726  Progress: 49.20%  Words/thread/sec: 8.91k  "
       ]
      },
      {
       "output_type": "stream",
       "stream": "stdout",
       "text": [
        "\r",
        "Alpha: 0.012699  Progress: 49.31%  Words/thread/sec: 8.89k  "
       ]
      },
      {
       "output_type": "stream",
       "stream": "stdout",
       "text": [
        "\r",
        "Alpha: 0.012672  Progress: 49.42%  Words/thread/sec: 8.91k  "
       ]
      },
      {
       "output_type": "stream",
       "stream": "stdout",
       "text": [
        "\r",
        "Alpha: 0.012646  Progress: 49.53%  Words/thread/sec: 8.87k  "
       ]
      },
      {
       "output_type": "stream",
       "stream": "stdout",
       "text": [
        "\r",
        "Alpha: 0.012617  Progress: 49.64%  Words/thread/sec: 8.88k  "
       ]
      },
      {
       "output_type": "stream",
       "stream": "stdout",
       "text": [
        "\r",
        "Alpha: 0.012591  Progress: 49.75%  Words/thread/sec: 8.86k  "
       ]
      },
      {
       "output_type": "stream",
       "stream": "stdout",
       "text": [
        "\r",
        "Alpha: 0.012562  Progress: 49.86%  Words/thread/sec: 8.88k  "
       ]
      },
      {
       "output_type": "stream",
       "stream": "stdout",
       "text": [
        "\r",
        "Alpha: 0.012535  Progress: 49.97%  Words/thread/sec: 8.89k  "
       ]
      },
      {
       "output_type": "stream",
       "stream": "stdout",
       "text": [
        "\r",
        "Alpha: 0.012508  Progress: 50.08%  Words/thread/sec: 8.89k  "
       ]
      },
      {
       "output_type": "stream",
       "stream": "stdout",
       "text": [
        "\r",
        "Alpha: 0.012481  Progress: 50.18%  Words/thread/sec: 8.88k  "
       ]
      },
      {
       "output_type": "stream",
       "stream": "stdout",
       "text": [
        "\r",
        "Alpha: 0.012454  Progress: 50.29%  Words/thread/sec: 8.88k  "
       ]
      },
      {
       "output_type": "stream",
       "stream": "stdout",
       "text": [
        "\r",
        "Alpha: 0.012427  Progress: 50.40%  Words/thread/sec: 8.90k  \r",
        "Alpha: 0.012400  Progress: 50.51%  Words/thread/sec: 8.92k  "
       ]
      },
      {
       "output_type": "stream",
       "stream": "stdout",
       "text": [
        "\r",
        "Alpha: 0.012373  Progress: 50.61%  Words/thread/sec: 8.90k  "
       ]
      },
      {
       "output_type": "stream",
       "stream": "stdout",
       "text": [
        "\r",
        "Alpha: 0.012346  Progress: 50.72%  Words/thread/sec: 8.91k  "
       ]
      },
      {
       "output_type": "stream",
       "stream": "stdout",
       "text": [
        "\r",
        "Alpha: 0.012320  Progress: 50.83%  Words/thread/sec: 8.87k  "
       ]
      },
      {
       "output_type": "stream",
       "stream": "stdout",
       "text": [
        "\r",
        "Alpha: 0.012293  Progress: 50.93%  Words/thread/sec: 8.88k  "
       ]
      },
      {
       "output_type": "stream",
       "stream": "stdout",
       "text": [
        "\r",
        "Alpha: 0.012267  Progress: 51.04%  Words/thread/sec: 8.87k  "
       ]
      },
      {
       "output_type": "stream",
       "stream": "stdout",
       "text": [
        "\r",
        "Alpha: 0.012240  Progress: 51.15%  Words/thread/sec: 8.89k  "
       ]
      },
      {
       "output_type": "stream",
       "stream": "stdout",
       "text": [
        "\r",
        "Alpha: 0.012213  Progress: 51.26%  Words/thread/sec: 8.90k  "
       ]
      },
      {
       "output_type": "stream",
       "stream": "stdout",
       "text": [
        "\r",
        "Alpha: 0.012186  Progress: 51.37%  Words/thread/sec: 8.90k  "
       ]
      },
      {
       "output_type": "stream",
       "stream": "stdout",
       "text": [
        "\r",
        "Alpha: 0.012158  Progress: 51.47%  Words/thread/sec: 8.89k  "
       ]
      },
      {
       "output_type": "stream",
       "stream": "stdout",
       "text": [
        "\r",
        "Alpha: 0.012131  Progress: 51.58%  Words/thread/sec: 8.89k  "
       ]
      },
      {
       "output_type": "stream",
       "stream": "stdout",
       "text": [
        "\r",
        "Alpha: 0.012105  Progress: 51.69%  Words/thread/sec: 8.90k  \r",
        "Alpha: 0.012078  Progress: 51.80%  Words/thread/sec: 8.91k  "
       ]
      },
      {
       "output_type": "stream",
       "stream": "stdout",
       "text": [
        "\r",
        "Alpha: 0.012051  Progress: 51.90%  Words/thread/sec: 8.90k  "
       ]
      },
      {
       "output_type": "stream",
       "stream": "stdout",
       "text": [
        "\r",
        "Alpha: 0.012024  Progress: 52.01%  Words/thread/sec: 8.92k  "
       ]
      },
      {
       "output_type": "stream",
       "stream": "stdout",
       "text": [
        "\r",
        "Alpha: 0.011997  Progress: 52.12%  Words/thread/sec: 8.87k  "
       ]
      },
      {
       "output_type": "stream",
       "stream": "stdout",
       "text": [
        "\r",
        "Alpha: 0.011971  Progress: 52.23%  Words/thread/sec: 8.87k  "
       ]
      },
      {
       "output_type": "stream",
       "stream": "stdout",
       "text": [
        "\r",
        "Alpha: 0.011942  Progress: 52.34%  Words/thread/sec: 8.87k  "
       ]
      },
      {
       "output_type": "stream",
       "stream": "stdout",
       "text": [
        "\r",
        "Alpha: 0.011915  Progress: 52.45%  Words/thread/sec: 8.89k  "
       ]
      },
      {
       "output_type": "stream",
       "stream": "stdout",
       "text": [
        "\r",
        "Alpha: 0.011888  Progress: 52.55%  Words/thread/sec: 8.90k  "
       ]
      },
      {
       "output_type": "stream",
       "stream": "stdout",
       "text": [
        "\r",
        "Alpha: 0.011862  Progress: 52.66%  Words/thread/sec: 8.91k  "
       ]
      },
      {
       "output_type": "stream",
       "stream": "stdout",
       "text": [
        "\r",
        "Alpha: 0.011834  Progress: 52.77%  Words/thread/sec: 8.89k  "
       ]
      },
      {
       "output_type": "stream",
       "stream": "stdout",
       "text": [
        "\r",
        "Alpha: 0.011807  Progress: 52.88%  Words/thread/sec: 8.89k  "
       ]
      },
      {
       "output_type": "stream",
       "stream": "stdout",
       "text": [
        "\r",
        "Alpha: 0.011780  Progress: 52.99%  Words/thread/sec: 8.90k  "
       ]
      },
      {
       "output_type": "stream",
       "stream": "stdout",
       "text": [
        "\r",
        "Alpha: 0.011753  Progress: 53.10%  Words/thread/sec: 8.91k  "
       ]
      },
      {
       "output_type": "stream",
       "stream": "stdout",
       "text": [
        "\r",
        "Alpha: 0.011726  Progress: 53.20%  Words/thread/sec: 8.91k  "
       ]
      },
      {
       "output_type": "stream",
       "stream": "stdout",
       "text": [
        "\r",
        "Alpha: 0.011699  Progress: 53.31%  Words/thread/sec: 8.92k  "
       ]
      },
      {
       "output_type": "stream",
       "stream": "stdout",
       "text": [
        "\r",
        "Alpha: 0.011673  Progress: 53.41%  Words/thread/sec: 8.88k  "
       ]
      },
      {
       "output_type": "stream",
       "stream": "stdout",
       "text": [
        "\r",
        "Alpha: 0.011646  Progress: 53.52%  Words/thread/sec: 8.87k  "
       ]
      },
      {
       "output_type": "stream",
       "stream": "stdout",
       "text": [
        "\r",
        "Alpha: 0.011619  Progress: 53.63%  Words/thread/sec: 8.88k  "
       ]
      },
      {
       "output_type": "stream",
       "stream": "stdout",
       "text": [
        "\r",
        "Alpha: 0.011592  Progress: 53.74%  Words/thread/sec: 8.89k  "
       ]
      },
      {
       "output_type": "stream",
       "stream": "stdout",
       "text": [
        "\r",
        "Alpha: 0.011566  Progress: 53.85%  Words/thread/sec: 8.90k  "
       ]
      },
      {
       "output_type": "stream",
       "stream": "stdout",
       "text": [
        "\r",
        "Alpha: 0.011537  Progress: 53.96%  Words/thread/sec: 8.92k  "
       ]
      },
      {
       "output_type": "stream",
       "stream": "stdout",
       "text": [
        "\r",
        "Alpha: 0.011509  Progress: 54.07%  Words/thread/sec: 8.90k  "
       ]
      },
      {
       "output_type": "stream",
       "stream": "stdout",
       "text": [
        "\r",
        "Alpha: 0.011482  Progress: 54.18%  Words/thread/sec: 8.89k  "
       ]
      },
      {
       "output_type": "stream",
       "stream": "stdout",
       "text": [
        "\r",
        "Alpha: 0.011456  Progress: 54.29%  Words/thread/sec: 8.90k  "
       ]
      },
      {
       "output_type": "stream",
       "stream": "stdout",
       "text": [
        "\r",
        "Alpha: 0.011428  Progress: 54.39%  Words/thread/sec: 8.91k  "
       ]
      },
      {
       "output_type": "stream",
       "stream": "stdout",
       "text": [
        "\r",
        "Alpha: 0.011401  Progress: 54.50%  Words/thread/sec: 8.91k  \r",
        "Alpha: 0.011375  Progress: 54.61%  Words/thread/sec: 8.92k  "
       ]
      },
      {
       "output_type": "stream",
       "stream": "stdout",
       "text": [
        "\r",
        "Alpha: 0.011348  Progress: 54.71%  Words/thread/sec: 8.88k  "
       ]
      },
      {
       "output_type": "stream",
       "stream": "stdout",
       "text": [
        "\r",
        "Alpha: 0.011321  Progress: 54.82%  Words/thread/sec: 8.88k  "
       ]
      },
      {
       "output_type": "stream",
       "stream": "stdout",
       "text": [
        "\r",
        "Alpha: 0.011295  Progress: 54.93%  Words/thread/sec: 8.89k  "
       ]
      },
      {
       "output_type": "stream",
       "stream": "stdout",
       "text": [
        "\r",
        "Alpha: 0.011268  Progress: 55.04%  Words/thread/sec: 8.89k  \r",
        "Alpha: 0.011241  Progress: 55.15%  Words/thread/sec: 8.91k  "
       ]
      },
      {
       "output_type": "stream",
       "stream": "stdout",
       "text": [
        "\r",
        "Alpha: 0.011214  Progress: 55.25%  Words/thread/sec: 8.93k  "
       ]
      },
      {
       "output_type": "stream",
       "stream": "stdout",
       "text": [
        "\r",
        "Alpha: 0.011186  Progress: 55.36%  Words/thread/sec: 8.90k  "
       ]
      },
      {
       "output_type": "stream",
       "stream": "stdout",
       "text": [
        "\r",
        "Alpha: 0.011159  Progress: 55.47%  Words/thread/sec: 8.89k  "
       ]
      },
      {
       "output_type": "stream",
       "stream": "stdout",
       "text": [
        "\r",
        "Alpha: 0.011132  Progress: 55.58%  Words/thread/sec: 8.90k  "
       ]
      },
      {
       "output_type": "stream",
       "stream": "stdout",
       "text": [
        "\r",
        "Alpha: 0.011105  Progress: 55.69%  Words/thread/sec: 8.91k  "
       ]
      },
      {
       "output_type": "stream",
       "stream": "stdout",
       "text": [
        "\r",
        "Alpha: 0.011079  Progress: 55.79%  Words/thread/sec: 8.92k  "
       ]
      },
      {
       "output_type": "stream",
       "stream": "stdout",
       "text": [
        "\r",
        "Alpha: 0.011052  Progress: 55.90%  Words/thread/sec: 8.93k  "
       ]
      },
      {
       "output_type": "stream",
       "stream": "stdout",
       "text": [
        "\r",
        "Alpha: 0.011025  Progress: 56.01%  Words/thread/sec: 8.89k  "
       ]
      },
      {
       "output_type": "stream",
       "stream": "stdout",
       "text": [
        "\r",
        "Alpha: 0.010998  Progress: 56.12%  Words/thread/sec: 8.89k  "
       ]
      },
      {
       "output_type": "stream",
       "stream": "stdout",
       "text": [
        "\r",
        "Alpha: 0.010971  Progress: 56.22%  Words/thread/sec: 8.89k  "
       ]
      },
      {
       "output_type": "stream",
       "stream": "stdout",
       "text": [
        "\r",
        "Alpha: 0.010944  Progress: 56.33%  Words/thread/sec: 8.90k  "
       ]
      },
      {
       "output_type": "stream",
       "stream": "stdout",
       "text": [
        "\r",
        "Alpha: 0.010918  Progress: 56.44%  Words/thread/sec: 8.91k  "
       ]
      },
      {
       "output_type": "stream",
       "stream": "stdout",
       "text": [
        "\r",
        "Alpha: 0.010891  Progress: 56.55%  Words/thread/sec: 8.93k  "
       ]
      },
      {
       "output_type": "stream",
       "stream": "stdout",
       "text": [
        "\r",
        "Alpha: 0.010864  Progress: 56.65%  Words/thread/sec: 8.91k  "
       ]
      },
      {
       "output_type": "stream",
       "stream": "stdout",
       "text": [
        "\r",
        "Alpha: 0.010836  Progress: 56.76%  Words/thread/sec: 8.89k  "
       ]
      },
      {
       "output_type": "stream",
       "stream": "stdout",
       "text": [
        "\r",
        "Alpha: 0.010809  Progress: 56.87%  Words/thread/sec: 8.91k  "
       ]
      },
      {
       "output_type": "stream",
       "stream": "stdout",
       "text": [
        "\r",
        "Alpha: 0.010782  Progress: 56.98%  Words/thread/sec: 8.91k  "
       ]
      },
      {
       "output_type": "stream",
       "stream": "stdout",
       "text": [
        "\r",
        "Alpha: 0.010756  Progress: 57.08%  Words/thread/sec: 8.91k  "
       ]
      },
      {
       "output_type": "stream",
       "stream": "stdout",
       "text": [
        "\r",
        "Alpha: 0.010729  Progress: 57.20%  Words/thread/sec: 8.90k  "
       ]
      },
      {
       "output_type": "stream",
       "stream": "stdout",
       "text": [
        "\r",
        "Alpha: 0.010701  Progress: 57.31%  Words/thread/sec: 8.90k  "
       ]
      },
      {
       "output_type": "stream",
       "stream": "stdout",
       "text": [
        "\r",
        "Alpha: 0.010674  Progress: 57.42%  Words/thread/sec: 8.89k  "
       ]
      },
      {
       "output_type": "stream",
       "stream": "stdout",
       "text": [
        "\r",
        "Alpha: 0.010646  Progress: 57.52%  Words/thread/sec: 8.89k  "
       ]
      },
      {
       "output_type": "stream",
       "stream": "stdout",
       "text": [
        "\r",
        "Alpha: 0.010620  Progress: 57.63%  Words/thread/sec: 8.91k  "
       ]
      },
      {
       "output_type": "stream",
       "stream": "stdout",
       "text": [
        "\r",
        "Alpha: 0.010593  Progress: 57.74%  Words/thread/sec: 8.92k  "
       ]
      },
      {
       "output_type": "stream",
       "stream": "stdout",
       "text": [
        "\r",
        "Alpha: 0.010566  Progress: 57.85%  Words/thread/sec: 8.93k  "
       ]
      },
      {
       "output_type": "stream",
       "stream": "stdout",
       "text": [
        "\r",
        "Alpha: 0.010539  Progress: 57.95%  Words/thread/sec: 8.92k  "
       ]
      },
      {
       "output_type": "stream",
       "stream": "stdout",
       "text": [
        "\r",
        "Alpha: 0.010512  Progress: 58.06%  Words/thread/sec: 8.89k  "
       ]
      },
      {
       "output_type": "stream",
       "stream": "stdout",
       "text": [
        "\r",
        "Alpha: 0.010484  Progress: 58.17%  Words/thread/sec: 8.91k  "
       ]
      },
      {
       "output_type": "stream",
       "stream": "stdout",
       "text": [
        "\r",
        "Alpha: 0.010457  Progress: 58.28%  Words/thread/sec: 8.91k  "
       ]
      },
      {
       "output_type": "stream",
       "stream": "stdout",
       "text": [
        "\r",
        "Alpha: 0.010431  Progress: 58.39%  Words/thread/sec: 8.91k  "
       ]
      },
      {
       "output_type": "stream",
       "stream": "stdout",
       "text": [
        "\r",
        "Alpha: 0.010403  Progress: 58.50%  Words/thread/sec: 8.88k  "
       ]
      },
      {
       "output_type": "stream",
       "stream": "stdout",
       "text": [
        "\r",
        "Alpha: 0.010375  Progress: 58.61%  Words/thread/sec: 8.90k  "
       ]
      },
      {
       "output_type": "stream",
       "stream": "stdout",
       "text": [
        "\r",
        "Alpha: 0.010348  Progress: 58.72%  Words/thread/sec: 8.90k  "
       ]
      },
      {
       "output_type": "stream",
       "stream": "stdout",
       "text": [
        "\r",
        "Alpha: 0.010320  Progress: 58.82%  Words/thread/sec: 8.90k  "
       ]
      },
      {
       "output_type": "stream",
       "stream": "stdout",
       "text": [
        "\r",
        "Alpha: 0.010294  Progress: 58.94%  Words/thread/sec: 8.91k  "
       ]
      },
      {
       "output_type": "stream",
       "stream": "stdout",
       "text": [
        "\r",
        "Alpha: 0.010265  Progress: 59.05%  Words/thread/sec: 8.92k  "
       ]
      },
      {
       "output_type": "stream",
       "stream": "stdout",
       "text": [
        "\r",
        "Alpha: 0.010238  Progress: 59.15%  Words/thread/sec: 8.93k  "
       ]
      },
      {
       "output_type": "stream",
       "stream": "stdout",
       "text": [
        "\r",
        "Alpha: 0.010212  Progress: 59.26%  Words/thread/sec: 8.93k  "
       ]
      },
      {
       "output_type": "stream",
       "stream": "stdout",
       "text": [
        "\r",
        "Alpha: 0.010184  Progress: 59.38%  Words/thread/sec: 8.89k  "
       ]
      },
      {
       "output_type": "stream",
       "stream": "stdout",
       "text": [
        "\r",
        "Alpha: 0.010155  Progress: 59.49%  Words/thread/sec: 8.91k  "
       ]
      },
      {
       "output_type": "stream",
       "stream": "stdout",
       "text": [
        "\r",
        "Alpha: 0.010129  Progress: 59.59%  Words/thread/sec: 8.90k  "
       ]
      },
      {
       "output_type": "stream",
       "stream": "stdout",
       "text": [
        "\r",
        "Alpha: 0.010102  Progress: 59.70%  Words/thread/sec: 8.91k  "
       ]
      },
      {
       "output_type": "stream",
       "stream": "stdout",
       "text": [
        "\r",
        "Alpha: 0.010075  Progress: 59.81%  Words/thread/sec: 8.88k  "
       ]
      },
      {
       "output_type": "stream",
       "stream": "stdout",
       "text": [
        "\r",
        "Alpha: 0.010048  Progress: 59.91%  Words/thread/sec: 8.89k  \r",
        "Alpha: 0.010021  Progress: 60.03%  Words/thread/sec: 8.91k  "
       ]
      },
      {
       "output_type": "stream",
       "stream": "stdout",
       "text": [
        "\r",
        "Alpha: 0.009993  Progress: 60.14%  Words/thread/sec: 8.91k  "
       ]
      },
      {
       "output_type": "stream",
       "stream": "stdout",
       "text": [
        "\r",
        "Alpha: 0.009966  Progress: 60.25%  Words/thread/sec: 8.91k  "
       ]
      },
      {
       "output_type": "stream",
       "stream": "stdout",
       "text": [
        "\r",
        "Alpha: 0.009939  Progress: 60.35%  Words/thread/sec: 8.91k  "
       ]
      },
      {
       "output_type": "stream",
       "stream": "stdout",
       "text": [
        "\r",
        "Alpha: 0.009912  Progress: 60.47%  Words/thread/sec: 8.92k  "
       ]
      },
      {
       "output_type": "stream",
       "stream": "stdout",
       "text": [
        "\r",
        "Alpha: 0.009883  Progress: 60.57%  Words/thread/sec: 8.93k  "
       ]
      },
      {
       "output_type": "stream",
       "stream": "stdout",
       "text": [
        "\r",
        "Alpha: 0.009856  Progress: 60.68%  Words/thread/sec: 8.90k  "
       ]
      },
      {
       "output_type": "stream",
       "stream": "stdout",
       "text": [
        "\r",
        "Alpha: 0.009830  Progress: 60.79%  Words/thread/sec: 8.91k  "
       ]
      },
      {
       "output_type": "stream",
       "stream": "stdout",
       "text": [
        "\r",
        "Alpha: 0.009803  Progress: 60.90%  Words/thread/sec: 8.90k  "
       ]
      },
      {
       "output_type": "stream",
       "stream": "stdout",
       "text": [
        "\r",
        "Alpha: 0.009775  Progress: 61.02%  Words/thread/sec: 8.90k  "
       ]
      },
      {
       "output_type": "stream",
       "stream": "stdout",
       "text": [
        "\r",
        "Alpha: 0.009746  Progress: 61.12%  Words/thread/sec: 8.89k  "
       ]
      },
      {
       "output_type": "stream",
       "stream": "stdout",
       "text": [
        "\r",
        "Alpha: 0.009719  Progress: 61.23%  Words/thread/sec: 8.90k  \r",
        "Alpha: 0.009693  Progress: 61.34%  Words/thread/sec: 8.91k  "
       ]
      },
      {
       "output_type": "stream",
       "stream": "stdout",
       "text": [
        "\r",
        "Alpha: 0.009666  Progress: 61.44%  Words/thread/sec: 8.92k  "
       ]
      },
      {
       "output_type": "stream",
       "stream": "stdout",
       "text": [
        "\r",
        "Alpha: 0.009639  Progress: 61.55%  Words/thread/sec: 8.92k  "
       ]
      },
      {
       "output_type": "stream",
       "stream": "stdout",
       "text": [
        "\r",
        "Alpha: 0.009612  Progress: 61.66%  Words/thread/sec: 8.92k  "
       ]
      },
      {
       "output_type": "stream",
       "stream": "stdout",
       "text": [
        "\r",
        "Alpha: 0.009585  Progress: 61.77%  Words/thread/sec: 8.93k  "
       ]
      },
      {
       "output_type": "stream",
       "stream": "stdout",
       "text": [
        "\r",
        "Alpha: 0.009558  Progress: 61.87%  Words/thread/sec: 8.93k  "
       ]
      },
      {
       "output_type": "stream",
       "stream": "stdout",
       "text": [
        "\r",
        "Alpha: 0.009531  Progress: 61.98%  Words/thread/sec: 8.90k  "
       ]
      },
      {
       "output_type": "stream",
       "stream": "stdout",
       "text": [
        "\r",
        "Alpha: 0.009505  Progress: 62.09%  Words/thread/sec: 8.91k  "
       ]
      },
      {
       "output_type": "stream",
       "stream": "stdout",
       "text": [
        "\r",
        "Alpha: 0.009478  Progress: 62.20%  Words/thread/sec: 8.91k  "
       ]
      },
      {
       "output_type": "stream",
       "stream": "stdout",
       "text": [
        "\r",
        "Alpha: 0.009451  Progress: 62.30%  Words/thread/sec: 8.90k  "
       ]
      },
      {
       "output_type": "stream",
       "stream": "stdout",
       "text": [
        "\r",
        "Alpha: 0.009424  Progress: 62.41%  Words/thread/sec: 8.89k  "
       ]
      },
      {
       "output_type": "stream",
       "stream": "stdout",
       "text": [
        "\r",
        "Alpha: 0.009398  Progress: 62.52%  Words/thread/sec: 8.90k  \r",
        "Alpha: 0.009370  Progress: 62.62%  Words/thread/sec: 8.91k  "
       ]
      },
      {
       "output_type": "stream",
       "stream": "stdout",
       "text": [
        "\r",
        "Alpha: 0.009344  Progress: 62.73%  Words/thread/sec: 8.93k  "
       ]
      },
      {
       "output_type": "stream",
       "stream": "stdout",
       "text": [
        "\r",
        "Alpha: 0.009317  Progress: 62.84%  Words/thread/sec: 8.93k  "
       ]
      },
      {
       "output_type": "stream",
       "stream": "stdout",
       "text": [
        "\r",
        "Alpha: 0.009290  Progress: 62.95%  Words/thread/sec: 8.92k  "
       ]
      },
      {
       "output_type": "stream",
       "stream": "stdout",
       "text": [
        "\r",
        "Alpha: 0.009264  Progress: 63.06%  Words/thread/sec: 8.92k  "
       ]
      },
      {
       "output_type": "stream",
       "stream": "stdout",
       "text": [
        "\r",
        "Alpha: 0.009236  Progress: 63.17%  Words/thread/sec: 8.93k  "
       ]
      },
      {
       "output_type": "stream",
       "stream": "stdout",
       "text": [
        "\r",
        "Alpha: 0.009207  Progress: 63.28%  Words/thread/sec: 8.90k  "
       ]
      },
      {
       "output_type": "stream",
       "stream": "stdout",
       "text": [
        "\r",
        "Alpha: 0.009180  Progress: 63.39%  Words/thread/sec: 8.91k  "
       ]
      },
      {
       "output_type": "stream",
       "stream": "stdout",
       "text": [
        "\r",
        "Alpha: 0.009153  Progress: 63.50%  Words/thread/sec: 8.91k  "
       ]
      },
      {
       "output_type": "stream",
       "stream": "stdout",
       "text": [
        "\r",
        "Alpha: 0.009125  Progress: 63.61%  Words/thread/sec: 8.90k  "
       ]
      },
      {
       "output_type": "stream",
       "stream": "stdout",
       "text": [
        "\r",
        "Alpha: 0.009098  Progress: 63.72%  Words/thread/sec: 8.89k  "
       ]
      },
      {
       "output_type": "stream",
       "stream": "stdout",
       "text": [
        "\r",
        "Alpha: 0.009071  Progress: 63.82%  Words/thread/sec: 8.90k  "
       ]
      },
      {
       "output_type": "stream",
       "stream": "stdout",
       "text": [
        "\r",
        "Alpha: 0.009045  Progress: 63.93%  Words/thread/sec: 8.91k  "
       ]
      },
      {
       "output_type": "stream",
       "stream": "stdout",
       "text": [
        "\r",
        "Alpha: 0.009017  Progress: 64.04%  Words/thread/sec: 8.92k  "
       ]
      },
      {
       "output_type": "stream",
       "stream": "stdout",
       "text": [
        "\r",
        "Alpha: 0.008990  Progress: 64.15%  Words/thread/sec: 8.94k  "
       ]
      },
      {
       "output_type": "stream",
       "stream": "stdout",
       "text": [
        "\r",
        "Alpha: 0.008963  Progress: 64.25%  Words/thread/sec: 8.92k  "
       ]
      },
      {
       "output_type": "stream",
       "stream": "stdout",
       "text": [
        "\r",
        "Alpha: 0.008937  Progress: 64.36%  Words/thread/sec: 8.92k  "
       ]
      },
      {
       "output_type": "stream",
       "stream": "stdout",
       "text": [
        "\r",
        "Alpha: 0.008910  Progress: 64.47%  Words/thread/sec: 8.93k  "
       ]
      },
      {
       "output_type": "stream",
       "stream": "stdout",
       "text": [
        "\r",
        "Alpha: 0.008883  Progress: 64.58%  Words/thread/sec: 8.90k  "
       ]
      },
      {
       "output_type": "stream",
       "stream": "stdout",
       "text": [
        "\r",
        "Alpha: 0.008856  Progress: 64.69%  Words/thread/sec: 8.91k  "
       ]
      },
      {
       "output_type": "stream",
       "stream": "stdout",
       "text": [
        "\r",
        "Alpha: 0.008828  Progress: 64.79%  Words/thread/sec: 8.91k  "
       ]
      },
      {
       "output_type": "stream",
       "stream": "stdout",
       "text": [
        "\r",
        "Alpha: 0.008801  Progress: 64.90%  Words/thread/sec: 8.90k  "
       ]
      },
      {
       "output_type": "stream",
       "stream": "stdout",
       "text": [
        "\r",
        "Alpha: 0.008775  Progress: 65.01%  Words/thread/sec: 8.89k  "
       ]
      },
      {
       "output_type": "stream",
       "stream": "stdout",
       "text": [
        "\r",
        "Alpha: 0.008748  Progress: 65.12%  Words/thread/sec: 8.90k  \r",
        "Alpha: 0.008721  Progress: 65.23%  Words/thread/sec: 8.91k  "
       ]
      },
      {
       "output_type": "stream",
       "stream": "stdout",
       "text": [
        "\r",
        "Alpha: 0.008693  Progress: 65.33%  Words/thread/sec: 8.92k  "
       ]
      },
      {
       "output_type": "stream",
       "stream": "stdout",
       "text": [
        "\r",
        "Alpha: 0.008667  Progress: 65.45%  Words/thread/sec: 8.93k  "
       ]
      },
      {
       "output_type": "stream",
       "stream": "stdout",
       "text": [
        "\r",
        "Alpha: 0.008638  Progress: 65.55%  Words/thread/sec: 8.92k  "
       ]
      },
      {
       "output_type": "stream",
       "stream": "stdout",
       "text": [
        "\r",
        "Alpha: 0.008612  Progress: 65.66%  Words/thread/sec: 8.93k  "
       ]
      },
      {
       "output_type": "stream",
       "stream": "stdout",
       "text": [
        "\r",
        "Alpha: 0.008585  Progress: 65.77%  Words/thread/sec: 8.93k  "
       ]
      },
      {
       "output_type": "stream",
       "stream": "stdout",
       "text": [
        "\r",
        "Alpha: 0.008558  Progress: 65.88%  Words/thread/sec: 8.91k  "
       ]
      },
      {
       "output_type": "stream",
       "stream": "stdout",
       "text": [
        "\r",
        "Alpha: 0.008531  Progress: 65.98%  Words/thread/sec: 8.91k  "
       ]
      },
      {
       "output_type": "stream",
       "stream": "stdout",
       "text": [
        "\r",
        "Alpha: 0.008504  Progress: 66.09%  Words/thread/sec: 8.92k  "
       ]
      },
      {
       "output_type": "stream",
       "stream": "stdout",
       "text": [
        "\r",
        "Alpha: 0.008477  Progress: 66.20%  Words/thread/sec: 8.90k  "
       ]
      },
      {
       "output_type": "stream",
       "stream": "stdout",
       "text": [
        "\r",
        "Alpha: 0.008450  Progress: 66.31%  Words/thread/sec: 8.90k  "
       ]
      },
      {
       "output_type": "stream",
       "stream": "stdout",
       "text": [
        "\r",
        "Alpha: 0.008422  Progress: 66.42%  Words/thread/sec: 8.91k  "
       ]
      },
      {
       "output_type": "stream",
       "stream": "stdout",
       "text": [
        "\r",
        "Alpha: 0.008394  Progress: 66.53%  Words/thread/sec: 8.91k  "
       ]
      },
      {
       "output_type": "stream",
       "stream": "stdout",
       "text": [
        "\r",
        "Alpha: 0.008368  Progress: 66.63%  Words/thread/sec: 8.92k  "
       ]
      },
      {
       "output_type": "stream",
       "stream": "stdout",
       "text": [
        "\r",
        "Alpha: 0.008341  Progress: 66.74%  Words/thread/sec: 8.91k  "
       ]
      },
      {
       "output_type": "stream",
       "stream": "stdout",
       "text": [
        "\r",
        "Alpha: 0.008314  Progress: 66.85%  Words/thread/sec: 8.91k  "
       ]
      },
      {
       "output_type": "stream",
       "stream": "stdout",
       "text": [
        "\r",
        "Alpha: 0.008288  Progress: 66.96%  Words/thread/sec: 8.92k  "
       ]
      },
      {
       "output_type": "stream",
       "stream": "stdout",
       "text": [
        "\r",
        "Alpha: 0.008260  Progress: 67.07%  Words/thread/sec: 8.93k  "
       ]
      },
      {
       "output_type": "stream",
       "stream": "stdout",
       "text": [
        "\r",
        "Alpha: 0.008232  Progress: 67.18%  Words/thread/sec: 8.91k  "
       ]
      },
      {
       "output_type": "stream",
       "stream": "stdout",
       "text": [
        "\r",
        "Alpha: 0.008205  Progress: 67.29%  Words/thread/sec: 8.91k  "
       ]
      },
      {
       "output_type": "stream",
       "stream": "stdout",
       "text": [
        "\r",
        "Alpha: 0.008178  Progress: 67.40%  Words/thread/sec: 8.92k  "
       ]
      },
      {
       "output_type": "stream",
       "stream": "stdout",
       "text": [
        "\r",
        "Alpha: 0.008151  Progress: 67.50%  Words/thread/sec: 8.90k  "
       ]
      },
      {
       "output_type": "stream",
       "stream": "stdout",
       "text": [
        "\r",
        "Alpha: 0.008125  Progress: 67.61%  Words/thread/sec: 8.90k  "
       ]
      },
      {
       "output_type": "stream",
       "stream": "stdout",
       "text": [
        "\r",
        "Alpha: 0.008098  Progress: 67.72%  Words/thread/sec: 8.91k  "
       ]
      },
      {
       "output_type": "stream",
       "stream": "stdout",
       "text": [
        "\r",
        "Alpha: 0.008071  Progress: 67.82%  Words/thread/sec: 8.91k  "
       ]
      },
      {
       "output_type": "stream",
       "stream": "stdout",
       "text": [
        "\r",
        "Alpha: 0.008044  Progress: 67.93%  Words/thread/sec: 8.91k  "
       ]
      },
      {
       "output_type": "stream",
       "stream": "stdout",
       "text": [
        "\r",
        "Alpha: 0.008017  Progress: 68.04%  Words/thread/sec: 8.92k  "
       ]
      },
      {
       "output_type": "stream",
       "stream": "stdout",
       "text": [
        "\r",
        "Alpha: 0.007990  Progress: 68.15%  Words/thread/sec: 8.92k  "
       ]
      },
      {
       "output_type": "stream",
       "stream": "stdout",
       "text": [
        "\r",
        "Alpha: 0.007963  Progress: 68.26%  Words/thread/sec: 8.92k  "
       ]
      },
      {
       "output_type": "stream",
       "stream": "stdout",
       "text": [
        "\r",
        "Alpha: 0.007935  Progress: 68.38%  Words/thread/sec: 8.91k  "
       ]
      },
      {
       "output_type": "stream",
       "stream": "stdout",
       "text": [
        "\r",
        "Alpha: 0.007906  Progress: 68.48%  Words/thread/sec: 8.91k  "
       ]
      },
      {
       "output_type": "stream",
       "stream": "stdout",
       "text": [
        "\r",
        "Alpha: 0.007879  Progress: 68.59%  Words/thread/sec: 8.91k  "
       ]
      },
      {
       "output_type": "stream",
       "stream": "stdout",
       "text": [
        "\r",
        "Alpha: 0.007852  Progress: 68.70%  Words/thread/sec: 8.92k  "
       ]
      },
      {
       "output_type": "stream",
       "stream": "stdout",
       "text": [
        "\r",
        "Alpha: 0.007825  Progress: 68.80%  Words/thread/sec: 8.90k  "
       ]
      },
      {
       "output_type": "stream",
       "stream": "stdout",
       "text": [
        "\r",
        "Alpha: 0.007799  Progress: 68.91%  Words/thread/sec: 8.91k  "
       ]
      },
      {
       "output_type": "stream",
       "stream": "stdout",
       "text": [
        "\r",
        "Alpha: 0.007772  Progress: 69.02%  Words/thread/sec: 8.92k  "
       ]
      },
      {
       "output_type": "stream",
       "stream": "stdout",
       "text": [
        "\r",
        "Alpha: 0.007745  Progress: 69.13%  Words/thread/sec: 8.91k  "
       ]
      },
      {
       "output_type": "stream",
       "stream": "stdout",
       "text": [
        "\r",
        "Alpha: 0.007718  Progress: 69.24%  Words/thread/sec: 8.91k  "
       ]
      },
      {
       "output_type": "stream",
       "stream": "stdout",
       "text": [
        "\r",
        "Alpha: 0.007691  Progress: 69.35%  Words/thread/sec: 8.91k  "
       ]
      },
      {
       "output_type": "stream",
       "stream": "stdout",
       "text": [
        "\r",
        "Alpha: 0.007663  Progress: 69.45%  Words/thread/sec: 8.92k  "
       ]
      },
      {
       "output_type": "stream",
       "stream": "stdout",
       "text": [
        "\r",
        "Alpha: 0.007637  Progress: 69.56%  Words/thread/sec: 8.90k  "
       ]
      },
      {
       "output_type": "stream",
       "stream": "stdout",
       "text": [
        "\r",
        "Alpha: 0.007610  Progress: 69.67%  Words/thread/sec: 8.90k  "
       ]
      },
      {
       "output_type": "stream",
       "stream": "stdout",
       "text": [
        "\r",
        "Alpha: 0.007583  Progress: 69.77%  Words/thread/sec: 8.90k  \r",
        "Alpha: 0.007556  Progress: 69.89%  Words/thread/sec: 8.91k  "
       ]
      },
      {
       "output_type": "stream",
       "stream": "stdout",
       "text": [
        "\r",
        "Alpha: 0.007528  Progress: 70.00%  Words/thread/sec: 8.92k  "
       ]
      },
      {
       "output_type": "stream",
       "stream": "stdout",
       "text": [
        "\r",
        "Alpha: 0.007501  Progress: 70.10%  Words/thread/sec: 8.90k  "
       ]
      },
      {
       "output_type": "stream",
       "stream": "stdout",
       "text": [
        "\r",
        "Alpha: 0.007474  Progress: 70.21%  Words/thread/sec: 8.90k  "
       ]
      },
      {
       "output_type": "stream",
       "stream": "stdout",
       "text": [
        "\r",
        "Alpha: 0.007447  Progress: 70.33%  Words/thread/sec: 8.91k  "
       ]
      },
      {
       "output_type": "stream",
       "stream": "stdout",
       "text": [
        "\r",
        "Alpha: 0.007418  Progress: 70.44%  Words/thread/sec: 8.91k  "
       ]
      },
      {
       "output_type": "stream",
       "stream": "stdout",
       "text": [
        "\r",
        "Alpha: 0.007391  Progress: 70.54%  Words/thread/sec: 8.92k  "
       ]
      },
      {
       "output_type": "stream",
       "stream": "stdout",
       "text": [
        "\r",
        "Alpha: 0.007364  Progress: 70.65%  Words/thread/sec: 8.91k  "
       ]
      },
      {
       "output_type": "stream",
       "stream": "stdout",
       "text": [
        "\r",
        "Alpha: 0.007337  Progress: 70.76%  Words/thread/sec: 8.93k  "
       ]
      },
      {
       "output_type": "stream",
       "stream": "stdout",
       "text": [
        "\r",
        "Alpha: 0.007310  Progress: 70.87%  Words/thread/sec: 8.90k  "
       ]
      },
      {
       "output_type": "stream",
       "stream": "stdout",
       "text": [
        "\r",
        "Alpha: 0.007282  Progress: 70.98%  Words/thread/sec: 8.90k  "
       ]
      },
      {
       "output_type": "stream",
       "stream": "stdout",
       "text": [
        "\r",
        "Alpha: 0.007256  Progress: 71.08%  Words/thread/sec: 8.90k  "
       ]
      },
      {
       "output_type": "stream",
       "stream": "stdout",
       "text": [
        "\r",
        "Alpha: 0.007229  Progress: 71.19%  Words/thread/sec: 8.91k  \r",
        "Alpha: 0.007202  Progress: 71.30%  Words/thread/sec: 8.92k  "
       ]
      },
      {
       "output_type": "stream",
       "stream": "stdout",
       "text": [
        "\r",
        "Alpha: 0.007175  Progress: 71.41%  Words/thread/sec: 8.90k  "
       ]
      },
      {
       "output_type": "stream",
       "stream": "stdout",
       "text": [
        "\r",
        "Alpha: 0.007148  Progress: 71.52%  Words/thread/sec: 8.90k  "
       ]
      },
      {
       "output_type": "stream",
       "stream": "stdout",
       "text": [
        "\r",
        "Alpha: 0.007121  Progress: 71.62%  Words/thread/sec: 8.91k  "
       ]
      },
      {
       "output_type": "stream",
       "stream": "stdout",
       "text": [
        "\r",
        "Alpha: 0.007094  Progress: 71.73%  Words/thread/sec: 8.92k  "
       ]
      },
      {
       "output_type": "stream",
       "stream": "stdout",
       "text": [
        "\r",
        "Alpha: 0.007067  Progress: 71.84%  Words/thread/sec: 8.93k  "
       ]
      },
      {
       "output_type": "stream",
       "stream": "stdout",
       "text": [
        "\r",
        "Alpha: 0.007040  Progress: 71.95%  Words/thread/sec: 8.92k  "
       ]
      },
      {
       "output_type": "stream",
       "stream": "stdout",
       "text": [
        "\r",
        "Alpha: 0.007013  Progress: 72.06%  Words/thread/sec: 8.93k  "
       ]
      },
      {
       "output_type": "stream",
       "stream": "stdout",
       "text": [
        "\r",
        "Alpha: 0.006986  Progress: 72.17%  Words/thread/sec: 8.91k  "
       ]
      },
      {
       "output_type": "stream",
       "stream": "stdout",
       "text": [
        "\r",
        "Alpha: 0.006959  Progress: 72.27%  Words/thread/sec: 8.91k  "
       ]
      },
      {
       "output_type": "stream",
       "stream": "stdout",
       "text": [
        "\r",
        "Alpha: 0.006932  Progress: 72.38%  Words/thread/sec: 8.89k  "
       ]
      },
      {
       "output_type": "stream",
       "stream": "stdout",
       "text": [
        "\r",
        "Alpha: 0.006905  Progress: 72.49%  Words/thread/sec: 8.89k  "
       ]
      },
      {
       "output_type": "stream",
       "stream": "stdout",
       "text": [
        "\r",
        "Alpha: 0.006876  Progress: 72.61%  Words/thread/sec: 8.89k  "
       ]
      },
      {
       "output_type": "stream",
       "stream": "stdout",
       "text": [
        "\r",
        "Alpha: 0.006848  Progress: 72.72%  Words/thread/sec: 8.91k  "
       ]
      },
      {
       "output_type": "stream",
       "stream": "stdout",
       "text": [
        "\r",
        "Alpha: 0.006821  Progress: 72.83%  Words/thread/sec: 8.91k  "
       ]
      },
      {
       "output_type": "stream",
       "stream": "stdout",
       "text": [
        "\r",
        "Alpha: 0.006794  Progress: 72.94%  Words/thread/sec: 8.92k  "
       ]
      },
      {
       "output_type": "stream",
       "stream": "stdout",
       "text": [
        "\r",
        "Alpha: 0.006766  Progress: 73.04%  Words/thread/sec: 8.92k  "
       ]
      },
      {
       "output_type": "stream",
       "stream": "stdout",
       "text": [
        "\r",
        "Alpha: 0.006739  Progress: 73.15%  Words/thread/sec: 8.93k  "
       ]
      },
      {
       "output_type": "stream",
       "stream": "stdout",
       "text": [
        "\r",
        "Alpha: 0.006712  Progress: 73.26%  Words/thread/sec: 8.92k  "
       ]
      },
      {
       "output_type": "stream",
       "stream": "stdout",
       "text": [
        "\r",
        "Alpha: 0.006685  Progress: 73.38%  Words/thread/sec: 8.92k  "
       ]
      },
      {
       "output_type": "stream",
       "stream": "stdout",
       "text": [
        "\r",
        "Alpha: 0.006656  Progress: 73.49%  Words/thread/sec: 8.91k  "
       ]
      },
      {
       "output_type": "stream",
       "stream": "stdout",
       "text": [
        "\r",
        "Alpha: 0.006629  Progress: 73.59%  Words/thread/sec: 8.91k  "
       ]
      },
      {
       "output_type": "stream",
       "stream": "stdout",
       "text": [
        "\r",
        "Alpha: 0.006602  Progress: 73.70%  Words/thread/sec: 8.89k  "
       ]
      },
      {
       "output_type": "stream",
       "stream": "stdout",
       "text": [
        "\r",
        "Alpha: 0.006575  Progress: 73.81%  Words/thread/sec: 8.88k  "
       ]
      },
      {
       "output_type": "stream",
       "stream": "stdout",
       "text": [
        "\r",
        "Alpha: 0.006549  Progress: 73.92%  Words/thread/sec: 8.89k  "
       ]
      },
      {
       "output_type": "stream",
       "stream": "stdout",
       "text": [
        "\r",
        "Alpha: 0.006521  Progress: 74.03%  Words/thread/sec: 8.90k  "
       ]
      },
      {
       "output_type": "stream",
       "stream": "stdout",
       "text": [
        "\r",
        "Alpha: 0.006493  Progress: 74.14%  Words/thread/sec: 8.91k  "
       ]
      },
      {
       "output_type": "stream",
       "stream": "stdout",
       "text": [
        "\r",
        "Alpha: 0.006465  Progress: 74.25%  Words/thread/sec: 8.92k  "
       ]
      },
      {
       "output_type": "stream",
       "stream": "stdout",
       "text": [
        "\r",
        "Alpha: 0.006438  Progress: 74.35%  Words/thread/sec: 8.92k  "
       ]
      },
      {
       "output_type": "stream",
       "stream": "stdout",
       "text": [
        "\r",
        "Alpha: 0.006411  Progress: 74.47%  Words/thread/sec: 8.93k  "
       ]
      },
      {
       "output_type": "stream",
       "stream": "stdout",
       "text": [
        "\r",
        "Alpha: 0.006383  Progress: 74.58%  Words/thread/sec: 8.92k  "
       ]
      },
      {
       "output_type": "stream",
       "stream": "stdout",
       "text": [
        "\r",
        "Alpha: 0.006356  Progress: 74.68%  Words/thread/sec: 8.92k  "
       ]
      },
      {
       "output_type": "stream",
       "stream": "stdout",
       "text": [
        "\r",
        "Alpha: 0.006329  Progress: 74.79%  Words/thread/sec: 8.91k  "
       ]
      },
      {
       "output_type": "stream",
       "stream": "stdout",
       "text": [
        "\r",
        "Alpha: 0.006303  Progress: 74.90%  Words/thread/sec: 8.92k  "
       ]
      },
      {
       "output_type": "stream",
       "stream": "stdout",
       "text": [
        "\r",
        "Alpha: 0.006276  Progress: 75.00%  Words/thread/sec: 8.89k  "
       ]
      },
      {
       "output_type": "stream",
       "stream": "stdout",
       "text": [
        "\r",
        "Alpha: 0.006250  Progress: 75.11%  Words/thread/sec: 8.88k  "
       ]
      },
      {
       "output_type": "stream",
       "stream": "stdout",
       "text": [
        "\r",
        "Alpha: 0.006223  Progress: 75.22%  Words/thread/sec: 8.89k  \r",
        "Alpha: 0.006195  Progress: 75.33%  Words/thread/sec: 8.91k  "
       ]
      },
      {
       "output_type": "stream",
       "stream": "stdout",
       "text": [
        "\r",
        "Alpha: 0.006167  Progress: 75.44%  Words/thread/sec: 8.92k  "
       ]
      },
      {
       "output_type": "stream",
       "stream": "stdout",
       "text": [
        "\r",
        "Alpha: 0.006140  Progress: 75.55%  Words/thread/sec: 8.90k  \r",
        "Alpha: 0.006114  Progress: 75.66%  Words/thread/sec: 8.91k  "
       ]
      },
      {
       "output_type": "stream",
       "stream": "stdout",
       "text": [
        "\r",
        "Alpha: 0.006085  Progress: 75.78%  Words/thread/sec: 8.92k  "
       ]
      },
      {
       "output_type": "stream",
       "stream": "stdout",
       "text": [
        "\r",
        "Alpha: 0.006056  Progress: 75.89%  Words/thread/sec: 8.93k  "
       ]
      },
      {
       "output_type": "stream",
       "stream": "stdout",
       "text": [
        "\r",
        "Alpha: 0.006029  Progress: 75.99%  Words/thread/sec: 8.93k  "
       ]
      },
      {
       "output_type": "stream",
       "stream": "stdout",
       "text": [
        "\r",
        "Alpha: 0.006002  Progress: 76.10%  Words/thread/sec: 8.92k  "
       ]
      },
      {
       "output_type": "stream",
       "stream": "stdout",
       "text": [
        "\r",
        "Alpha: 0.005975  Progress: 76.20%  Words/thread/sec: 8.92k  "
       ]
      },
      {
       "output_type": "stream",
       "stream": "stdout",
       "text": [
        "\r",
        "Alpha: 0.005949  Progress: 76.31%  Words/thread/sec: 8.89k  "
       ]
      },
      {
       "output_type": "stream",
       "stream": "stdout",
       "text": [
        "\r",
        "Alpha: 0.005922  Progress: 76.42%  Words/thread/sec: 8.89k  "
       ]
      },
      {
       "output_type": "stream",
       "stream": "stdout",
       "text": [
        "\r",
        "Alpha: 0.005894  Progress: 76.53%  Words/thread/sec: 8.90k  "
       ]
      },
      {
       "output_type": "stream",
       "stream": "stdout",
       "text": [
        "\r",
        "Alpha: 0.005868  Progress: 76.64%  Words/thread/sec: 8.91k  \r",
        "Alpha: 0.005841  Progress: 76.75%  Words/thread/sec: 8.92k  "
       ]
      },
      {
       "output_type": "stream",
       "stream": "stdout",
       "text": [
        "\r",
        "Alpha: 0.005813  Progress: 76.86%  Words/thread/sec: 8.90k  "
       ]
      },
      {
       "output_type": "stream",
       "stream": "stdout",
       "text": [
        "\r",
        "Alpha: 0.005786  Progress: 76.96%  Words/thread/sec: 8.91k  "
       ]
      },
      {
       "output_type": "stream",
       "stream": "stdout",
       "text": [
        "\r",
        "Alpha: 0.005759  Progress: 77.07%  Words/thread/sec: 8.92k  \r",
        "Alpha: 0.005733  Progress: 77.18%  Words/thread/sec: 8.93k  "
       ]
      },
      {
       "output_type": "stream",
       "stream": "stdout",
       "text": [
        "\r",
        "Alpha: 0.005706  Progress: 77.28%  Words/thread/sec: 8.93k  "
       ]
      },
      {
       "output_type": "stream",
       "stream": "stdout",
       "text": [
        "\r",
        "Alpha: 0.005679  Progress: 77.39%  Words/thread/sec: 8.93k  "
       ]
      },
      {
       "output_type": "stream",
       "stream": "stdout",
       "text": [
        "\r",
        "Alpha: 0.005651  Progress: 77.50%  Words/thread/sec: 8.93k  "
       ]
      },
      {
       "output_type": "stream",
       "stream": "stdout",
       "text": [
        "\r",
        "Alpha: 0.005625  Progress: 77.61%  Words/thread/sec: 8.89k  "
       ]
      },
      {
       "output_type": "stream",
       "stream": "stdout",
       "text": [
        "\r",
        "Alpha: 0.005598  Progress: 77.72%  Words/thread/sec: 8.89k  "
       ]
      },
      {
       "output_type": "stream",
       "stream": "stdout",
       "text": [
        "\r",
        "Alpha: 0.005570  Progress: 77.82%  Words/thread/sec: 8.90k  "
       ]
      },
      {
       "output_type": "stream",
       "stream": "stdout",
       "text": [
        "\r",
        "Alpha: 0.005544  Progress: 77.94%  Words/thread/sec: 8.91k  "
       ]
      },
      {
       "output_type": "stream",
       "stream": "stdout",
       "text": [
        "\r",
        "Alpha: 0.005516  Progress: 78.04%  Words/thread/sec: 8.92k  "
       ]
      },
      {
       "output_type": "stream",
       "stream": "stdout",
       "text": [
        "\r",
        "Alpha: 0.005489  Progress: 78.15%  Words/thread/sec: 8.90k  \r",
        "Alpha: 0.005463  Progress: 78.26%  Words/thread/sec: 8.91k  "
       ]
      },
      {
       "output_type": "stream",
       "stream": "stdout",
       "text": [
        "\r",
        "Alpha: 0.005436  Progress: 78.36%  Words/thread/sec: 8.92k  "
       ]
      },
      {
       "output_type": "stream",
       "stream": "stdout",
       "text": [
        "\r",
        "Alpha: 0.005409  Progress: 78.47%  Words/thread/sec: 8.93k  "
       ]
      },
      {
       "output_type": "stream",
       "stream": "stdout",
       "text": [
        "\r",
        "Alpha: 0.005383  Progress: 78.58%  Words/thread/sec: 8.94k  "
       ]
      },
      {
       "output_type": "stream",
       "stream": "stdout",
       "text": [
        "\r",
        "Alpha: 0.005355  Progress: 78.69%  Words/thread/sec: 8.94k  "
       ]
      },
      {
       "output_type": "stream",
       "stream": "stdout",
       "text": [
        "\r",
        "Alpha: 0.005328  Progress: 78.80%  Words/thread/sec: 8.93k  "
       ]
      },
      {
       "output_type": "stream",
       "stream": "stdout",
       "text": [
        "\r",
        "Alpha: 0.005301  Progress: 78.90%  Words/thread/sec: 8.90k  "
       ]
      },
      {
       "output_type": "stream",
       "stream": "stdout",
       "text": [
        "\r",
        "Alpha: 0.005274  Progress: 79.01%  Words/thread/sec: 8.90k  "
       ]
      },
      {
       "output_type": "stream",
       "stream": "stdout",
       "text": [
        "\r",
        "Alpha: 0.005247  Progress: 79.12%  Words/thread/sec: 8.90k  "
       ]
      },
      {
       "output_type": "stream",
       "stream": "stdout",
       "text": [
        "\r",
        "Alpha: 0.005220  Progress: 79.23%  Words/thread/sec: 8.91k  "
       ]
      },
      {
       "output_type": "stream",
       "stream": "stdout",
       "text": [
        "\r",
        "Alpha: 0.005192  Progress: 79.34%  Words/thread/sec: 8.92k  "
       ]
      },
      {
       "output_type": "stream",
       "stream": "stdout",
       "text": [
        "\r",
        "Alpha: 0.005165  Progress: 79.45%  Words/thread/sec: 8.91k  "
       ]
      },
      {
       "output_type": "stream",
       "stream": "stdout",
       "text": [
        "\r",
        "Alpha: 0.005138  Progress: 79.55%  Words/thread/sec: 8.91k  "
       ]
      },
      {
       "output_type": "stream",
       "stream": "stdout",
       "text": [
        "\r",
        "Alpha: 0.005111  Progress: 79.66%  Words/thread/sec: 8.92k  "
       ]
      },
      {
       "output_type": "stream",
       "stream": "stdout",
       "text": [
        "\r",
        "Alpha: 0.005085  Progress: 79.77%  Words/thread/sec: 8.92k  "
       ]
      },
      {
       "output_type": "stream",
       "stream": "stdout",
       "text": [
        "\r",
        "Alpha: 0.005058  Progress: 79.89%  Words/thread/sec: 8.93k  "
       ]
      },
      {
       "output_type": "stream",
       "stream": "stdout",
       "text": [
        "\r",
        "Alpha: 0.005029  Progress: 80.00%  Words/thread/sec: 8.93k  "
       ]
      },
      {
       "output_type": "stream",
       "stream": "stdout",
       "text": [
        "\r",
        "Alpha: 0.005000  Progress: 80.11%  Words/thread/sec: 8.94k  "
       ]
      },
      {
       "output_type": "stream",
       "stream": "stdout",
       "text": [
        "\r",
        "Alpha: 0.004973  Progress: 80.22%  Words/thread/sec: 8.90k  "
       ]
      },
      {
       "output_type": "stream",
       "stream": "stdout",
       "text": [
        "\r",
        "Alpha: 0.004946  Progress: 80.33%  Words/thread/sec: 8.91k  "
       ]
      },
      {
       "output_type": "stream",
       "stream": "stdout",
       "text": [
        "\r",
        "Alpha: 0.004918  Progress: 80.43%  Words/thread/sec: 8.91k  "
       ]
      },
      {
       "output_type": "stream",
       "stream": "stdout",
       "text": [
        "\r",
        "Alpha: 0.004892  Progress: 80.54%  Words/thread/sec: 8.92k  "
       ]
      },
      {
       "output_type": "stream",
       "stream": "stdout",
       "text": [
        "\r",
        "Alpha: 0.004864  Progress: 80.65%  Words/thread/sec: 8.92k  "
       ]
      },
      {
       "output_type": "stream",
       "stream": "stdout",
       "text": [
        "\r",
        "Alpha: 0.004837  Progress: 80.76%  Words/thread/sec: 8.91k  "
       ]
      },
      {
       "output_type": "stream",
       "stream": "stdout",
       "text": [
        "\r",
        "Alpha: 0.004811  Progress: 80.86%  Words/thread/sec: 8.91k  "
       ]
      },
      {
       "output_type": "stream",
       "stream": "stdout",
       "text": [
        "\r",
        "Alpha: 0.004784  Progress: 80.97%  Words/thread/sec: 8.92k  "
       ]
      },
      {
       "output_type": "stream",
       "stream": "stdout",
       "text": [
        "\r",
        "Alpha: 0.004757  Progress: 81.08%  Words/thread/sec: 8.92k  "
       ]
      },
      {
       "output_type": "stream",
       "stream": "stdout",
       "text": [
        "\r",
        "Alpha: 0.004731  Progress: 81.19%  Words/thread/sec: 8.93k  "
       ]
      },
      {
       "output_type": "stream",
       "stream": "stdout",
       "text": [
        "\r",
        "Alpha: 0.004704  Progress: 81.29%  Words/thread/sec: 8.93k  "
       ]
      },
      {
       "output_type": "stream",
       "stream": "stdout",
       "text": [
        "\r",
        "Alpha: 0.004677  Progress: 81.41%  Words/thread/sec: 8.93k  "
       ]
      },
      {
       "output_type": "stream",
       "stream": "stdout",
       "text": [
        "\r",
        "Alpha: 0.004648  Progress: 81.52%  Words/thread/sec: 8.91k  "
       ]
      },
      {
       "output_type": "stream",
       "stream": "stdout",
       "text": [
        "\r",
        "Alpha: 0.004620  Progress: 81.63%  Words/thread/sec: 8.91k  "
       ]
      },
      {
       "output_type": "stream",
       "stream": "stdout",
       "text": [
        "\r",
        "Alpha: 0.004593  Progress: 81.74%  Words/thread/sec: 8.91k  "
       ]
      },
      {
       "output_type": "stream",
       "stream": "stdout",
       "text": [
        "\r",
        "Alpha: 0.004566  Progress: 81.85%  Words/thread/sec: 8.92k  "
       ]
      },
      {
       "output_type": "stream",
       "stream": "stdout",
       "text": [
        "\r",
        "Alpha: 0.004539  Progress: 81.95%  Words/thread/sec: 8.92k  "
       ]
      },
      {
       "output_type": "stream",
       "stream": "stdout",
       "text": [
        "\r",
        "Alpha: 0.004512  Progress: 82.06%  Words/thread/sec: 8.91k  "
       ]
      },
      {
       "output_type": "stream",
       "stream": "stdout",
       "text": [
        "\r",
        "Alpha: 0.004485  Progress: 82.17%  Words/thread/sec: 8.91k  "
       ]
      },
      {
       "output_type": "stream",
       "stream": "stdout",
       "text": [
        "\r",
        "Alpha: 0.004458  Progress: 82.28%  Words/thread/sec: 8.92k  "
       ]
      },
      {
       "output_type": "stream",
       "stream": "stdout",
       "text": [
        "\r",
        "Alpha: 0.004431  Progress: 82.38%  Words/thread/sec: 8.92k  "
       ]
      },
      {
       "output_type": "stream",
       "stream": "stdout",
       "text": [
        "\r",
        "Alpha: 0.004404  Progress: 82.50%  Words/thread/sec: 8.93k  "
       ]
      },
      {
       "output_type": "stream",
       "stream": "stdout",
       "text": [
        "\r",
        "Alpha: 0.004375  Progress: 82.61%  Words/thread/sec: 8.93k  "
       ]
      },
      {
       "output_type": "stream",
       "stream": "stdout",
       "text": [
        "\r",
        "Alpha: 0.004348  Progress: 82.71%  Words/thread/sec: 8.93k  "
       ]
      },
      {
       "output_type": "stream",
       "stream": "stdout",
       "text": [
        "\r",
        "Alpha: 0.004322  Progress: 82.82%  Words/thread/sec: 8.92k  "
       ]
      },
      {
       "output_type": "stream",
       "stream": "stdout",
       "text": [
        "\r",
        "Alpha: 0.004294  Progress: 82.93%  Words/thread/sec: 8.91k  "
       ]
      },
      {
       "output_type": "stream",
       "stream": "stdout",
       "text": [
        "\r",
        "Alpha: 0.004267  Progress: 83.05%  Words/thread/sec: 8.91k  "
       ]
      },
      {
       "output_type": "stream",
       "stream": "stdout",
       "text": [
        "\r",
        "Alpha: 0.004238  Progress: 83.16%  Words/thread/sec: 8.92k  "
       ]
      },
      {
       "output_type": "stream",
       "stream": "stdout",
       "text": [
        "\r",
        "Alpha: 0.004211  Progress: 83.26%  Words/thread/sec: 8.92k  "
       ]
      },
      {
       "output_type": "stream",
       "stream": "stdout",
       "text": [
        "\r",
        "Alpha: 0.004184  Progress: 83.37%  Words/thread/sec: 8.92k  "
       ]
      },
      {
       "output_type": "stream",
       "stream": "stdout",
       "text": [
        "\r",
        "Alpha: 0.004157  Progress: 83.48%  Words/thread/sec: 8.92k  "
       ]
      },
      {
       "output_type": "stream",
       "stream": "stdout",
       "text": [
        "\r",
        "Alpha: 0.004130  Progress: 83.59%  Words/thread/sec: 8.93k  "
       ]
      },
      {
       "output_type": "stream",
       "stream": "stdout",
       "text": [
        "\r",
        "Alpha: 0.004103  Progress: 83.70%  Words/thread/sec: 8.93k  "
       ]
      },
      {
       "output_type": "stream",
       "stream": "stdout",
       "text": [
        "\r",
        "Alpha: 0.004075  Progress: 83.81%  Words/thread/sec: 8.93k  "
       ]
      },
      {
       "output_type": "stream",
       "stream": "stdout",
       "text": [
        "\r",
        "Alpha: 0.004048  Progress: 83.91%  Words/thread/sec: 8.93k  "
       ]
      },
      {
       "output_type": "stream",
       "stream": "stdout",
       "text": [
        "\r",
        "Alpha: 0.004021  Progress: 84.02%  Words/thread/sec: 8.93k  "
       ]
      },
      {
       "output_type": "stream",
       "stream": "stdout",
       "text": [
        "\r",
        "Alpha: 0.003995  Progress: 84.13%  Words/thread/sec: 8.93k  "
       ]
      },
      {
       "output_type": "stream",
       "stream": "stdout",
       "text": [
        "\r",
        "Alpha: 0.003967  Progress: 84.24%  Words/thread/sec: 8.91k  "
       ]
      },
      {
       "output_type": "stream",
       "stream": "stdout",
       "text": [
        "\r",
        "Alpha: 0.003939  Progress: 84.35%  Words/thread/sec: 8.92k  "
       ]
      },
      {
       "output_type": "stream",
       "stream": "stdout",
       "text": [
        "\r",
        "Alpha: 0.003912  Progress: 84.46%  Words/thread/sec: 8.92k  "
       ]
      },
      {
       "output_type": "stream",
       "stream": "stdout",
       "text": [
        "\r",
        "Alpha: 0.003885  Progress: 84.56%  Words/thread/sec: 8.92k  "
       ]
      },
      {
       "output_type": "stream",
       "stream": "stdout",
       "text": [
        "\r",
        "Alpha: 0.003859  Progress: 84.67%  Words/thread/sec: 8.92k  "
       ]
      },
      {
       "output_type": "stream",
       "stream": "stdout",
       "text": [
        "\r",
        "Alpha: 0.003832  Progress: 84.78%  Words/thread/sec: 8.92k  "
       ]
      },
      {
       "output_type": "stream",
       "stream": "stdout",
       "text": [
        "\r",
        "Alpha: 0.003805  Progress: 84.89%  Words/thread/sec: 8.93k  "
       ]
      },
      {
       "output_type": "stream",
       "stream": "stdout",
       "text": [
        "\r",
        "Alpha: 0.003778  Progress: 85.00%  Words/thread/sec: 8.94k  "
       ]
      },
      {
       "output_type": "stream",
       "stream": "stdout",
       "text": [
        "\r",
        "Alpha: 0.003750  Progress: 85.11%  Words/thread/sec: 8.92k  "
       ]
      },
      {
       "output_type": "stream",
       "stream": "stdout",
       "text": [
        "\r",
        "Alpha: 0.003722  Progress: 85.23%  Words/thread/sec: 8.92k  "
       ]
      },
      {
       "output_type": "stream",
       "stream": "stdout",
       "text": [
        "\r",
        "Alpha: 0.003694  Progress: 85.33%  Words/thread/sec: 8.93k  "
       ]
      },
      {
       "output_type": "stream",
       "stream": "stdout",
       "text": [
        "\r",
        "Alpha: 0.003667  Progress: 85.44%  Words/thread/sec: 8.93k  "
       ]
      },
      {
       "output_type": "stream",
       "stream": "stdout",
       "text": [
        "\r",
        "Alpha: 0.003640  Progress: 85.55%  Words/thread/sec: 8.92k  "
       ]
      },
      {
       "output_type": "stream",
       "stream": "stdout",
       "text": [
        "\r",
        "Alpha: 0.003613  Progress: 85.66%  Words/thread/sec: 8.92k  "
       ]
      },
      {
       "output_type": "stream",
       "stream": "stdout",
       "text": [
        "\r",
        "Alpha: 0.003586  Progress: 85.77%  Words/thread/sec: 8.92k  "
       ]
      },
      {
       "output_type": "stream",
       "stream": "stdout",
       "text": [
        "\r",
        "Alpha: 0.003558  Progress: 85.87%  Words/thread/sec: 8.92k  "
       ]
      },
      {
       "output_type": "stream",
       "stream": "stdout",
       "text": [
        "\r",
        "Alpha: 0.003532  Progress: 85.98%  Words/thread/sec: 8.93k  "
       ]
      },
      {
       "output_type": "stream",
       "stream": "stdout",
       "text": [
        "\r",
        "Alpha: 0.003505  Progress: 86.09%  Words/thread/sec: 8.92k  \r",
        "Alpha: 0.003478  Progress: 86.19%  Words/thread/sec: 8.93k  "
       ]
      },
      {
       "output_type": "stream",
       "stream": "stdout",
       "text": [
        "\r",
        "Alpha: 0.003451  Progress: 86.30%  Words/thread/sec: 8.94k  "
       ]
      },
      {
       "output_type": "stream",
       "stream": "stdout",
       "text": [
        "\r",
        "Alpha: 0.003424  Progress: 86.41%  Words/thread/sec: 8.93k  "
       ]
      },
      {
       "output_type": "stream",
       "stream": "stdout",
       "text": [
        "\r",
        "Alpha: 0.003397  Progress: 86.52%  Words/thread/sec: 8.91k  "
       ]
      },
      {
       "output_type": "stream",
       "stream": "stdout",
       "text": [
        "\r",
        "Alpha: 0.003370  Progress: 86.64%  Words/thread/sec: 8.92k  \r",
        "Alpha: 0.003341  Progress: 86.75%  Words/thread/sec: 8.93k  "
       ]
      },
      {
       "output_type": "stream",
       "stream": "stdout",
       "text": [
        "\r",
        "Alpha: 0.003312  Progress: 86.86%  Words/thread/sec: 8.93k  "
       ]
      },
      {
       "output_type": "stream",
       "stream": "stdout",
       "text": [
        "\r",
        "Alpha: 0.003285  Progress: 86.97%  Words/thread/sec: 8.93k  "
       ]
      },
      {
       "output_type": "stream",
       "stream": "stdout",
       "text": [
        "\r",
        "Alpha: 0.003258  Progress: 87.07%  Words/thread/sec: 8.92k  "
       ]
      },
      {
       "output_type": "stream",
       "stream": "stdout",
       "text": [
        "\r",
        "Alpha: 0.003231  Progress: 87.18%  Words/thread/sec: 8.92k  "
       ]
      },
      {
       "output_type": "stream",
       "stream": "stdout",
       "text": [
        "\r",
        "Alpha: 0.003204  Progress: 87.29%  Words/thread/sec: 8.93k  "
       ]
      },
      {
       "output_type": "stream",
       "stream": "stdout",
       "text": [
        "\r",
        "Alpha: 0.003177  Progress: 87.40%  Words/thread/sec: 8.93k  "
       ]
      },
      {
       "output_type": "stream",
       "stream": "stdout",
       "text": [
        "\r",
        "Alpha: 0.003149  Progress: 87.51%  Words/thread/sec: 8.94k  "
       ]
      },
      {
       "output_type": "stream",
       "stream": "stdout",
       "text": [
        "\r",
        "Alpha: 0.003122  Progress: 87.62%  Words/thread/sec: 8.95k  "
       ]
      },
      {
       "output_type": "stream",
       "stream": "stdout",
       "text": [
        "\r",
        "Alpha: 0.003094  Progress: 87.73%  Words/thread/sec: 8.93k  "
       ]
      },
      {
       "output_type": "stream",
       "stream": "stdout",
       "text": [
        "\r",
        "Alpha: 0.003067  Progress: 87.84%  Words/thread/sec: 8.92k  "
       ]
      },
      {
       "output_type": "stream",
       "stream": "stdout",
       "text": [
        "\r",
        "Alpha: 0.003040  Progress: 87.95%  Words/thread/sec: 8.92k  "
       ]
      },
      {
       "output_type": "stream",
       "stream": "stdout",
       "text": [
        "\r",
        "Alpha: 0.003013  Progress: 88.05%  Words/thread/sec: 8.92k  "
       ]
      },
      {
       "output_type": "stream",
       "stream": "stdout",
       "text": [
        "\r",
        "Alpha: 0.002987  Progress: 88.17%  Words/thread/sec: 8.92k  \r",
        "Alpha: 0.002958  Progress: 88.28%  Words/thread/sec: 8.93k  "
       ]
      },
      {
       "output_type": "stream",
       "stream": "stdout",
       "text": [
        "\r",
        "Alpha: 0.002931  Progress: 88.38%  Words/thread/sec: 8.92k  \r",
        "Alpha: 0.002904  Progress: 88.49%  Words/thread/sec: 8.93k  "
       ]
      },
      {
       "output_type": "stream",
       "stream": "stdout",
       "text": [
        "\r",
        "Alpha: 0.002877  Progress: 88.60%  Words/thread/sec: 8.93k  "
       ]
      },
      {
       "output_type": "stream",
       "stream": "stdout",
       "text": [
        "\r",
        "Alpha: 0.002850  Progress: 88.71%  Words/thread/sec: 8.93k  "
       ]
      },
      {
       "output_type": "stream",
       "stream": "stdout",
       "text": [
        "\r",
        "Alpha: 0.002823  Progress: 88.81%  Words/thread/sec: 8.94k  \r",
        "Alpha: 0.002796  Progress: 88.92%  Words/thread/sec: 8.95k  "
       ]
      },
      {
       "output_type": "stream",
       "stream": "stdout",
       "text": [
        "\r",
        "Alpha: 0.002770  Progress: 89.03%  Words/thread/sec: 8.93k  "
       ]
      },
      {
       "output_type": "stream",
       "stream": "stdout",
       "text": [
        "\r",
        "Alpha: 0.002742  Progress: 89.14%  Words/thread/sec: 8.92k  "
       ]
      },
      {
       "output_type": "stream",
       "stream": "stdout",
       "text": [
        "\r",
        "Alpha: 0.002716  Progress: 89.25%  Words/thread/sec: 8.92k  "
       ]
      },
      {
       "output_type": "stream",
       "stream": "stdout",
       "text": [
        "\r",
        "Alpha: 0.002689  Progress: 89.35%  Words/thread/sec: 8.92k  "
       ]
      },
      {
       "output_type": "stream",
       "stream": "stdout",
       "text": [
        "\r",
        "Alpha: 0.002662  Progress: 89.46%  Words/thread/sec: 8.92k  "
       ]
      },
      {
       "output_type": "stream",
       "stream": "stdout",
       "text": [
        "\r",
        "Alpha: 0.002635  Progress: 89.58%  Words/thread/sec: 8.91k  "
       ]
      },
      {
       "output_type": "stream",
       "stream": "stdout",
       "text": [
        "\r",
        "Alpha: 0.002606  Progress: 89.68%  Words/thread/sec: 8.92k  "
       ]
      },
      {
       "output_type": "stream",
       "stream": "stdout",
       "text": [
        "\r",
        "Alpha: 0.002579  Progress: 89.79%  Words/thread/sec: 8.93k  "
       ]
      },
      {
       "output_type": "stream",
       "stream": "stdout",
       "text": [
        "\r",
        "Alpha: 0.002552  Progress: 89.90%  Words/thread/sec: 8.94k  "
       ]
      },
      {
       "output_type": "stream",
       "stream": "stdout",
       "text": [
        "\r",
        "Alpha: 0.002525  Progress: 90.01%  Words/thread/sec: 8.94k  "
       ]
      },
      {
       "output_type": "stream",
       "stream": "stdout",
       "text": [
        "\r",
        "Alpha: 0.002497  Progress: 90.12%  Words/thread/sec: 8.94k  "
       ]
      },
      {
       "output_type": "stream",
       "stream": "stdout",
       "text": [
        "\r",
        "Alpha: 0.002470  Progress: 90.22%  Words/thread/sec: 8.95k  "
       ]
      },
      {
       "output_type": "stream",
       "stream": "stdout",
       "text": [
        "\r",
        "Alpha: 0.002444  Progress: 90.33%  Words/thread/sec: 8.94k  "
       ]
      },
      {
       "output_type": "stream",
       "stream": "stdout",
       "text": [
        "\r",
        "Alpha: 0.002417  Progress: 90.44%  Words/thread/sec: 8.92k  "
       ]
      },
      {
       "output_type": "stream",
       "stream": "stdout",
       "text": [
        "\r",
        "Alpha: 0.002390  Progress: 90.55%  Words/thread/sec: 8.92k  "
       ]
      },
      {
       "output_type": "stream",
       "stream": "stdout",
       "text": [
        "\r",
        "Alpha: 0.002363  Progress: 90.65%  Words/thread/sec: 8.92k  "
       ]
      },
      {
       "output_type": "stream",
       "stream": "stdout",
       "text": [
        "\r",
        "Alpha: 0.002337  Progress: 90.76%  Words/thread/sec: 8.92k  "
       ]
      },
      {
       "output_type": "stream",
       "stream": "stdout",
       "text": [
        "\r",
        "Alpha: 0.002310  Progress: 90.87%  Words/thread/sec: 8.91k  "
       ]
      },
      {
       "output_type": "stream",
       "stream": "stdout",
       "text": [
        "\r",
        "Alpha: 0.002284  Progress: 90.97%  Words/thread/sec: 8.92k  "
       ]
      },
      {
       "output_type": "stream",
       "stream": "stdout",
       "text": [
        "\r",
        "Alpha: 0.002257  Progress: 91.08%  Words/thread/sec: 8.92k  "
       ]
      },
      {
       "output_type": "stream",
       "stream": "stdout",
       "text": [
        "\r",
        "Alpha: 0.002230  Progress: 91.19%  Words/thread/sec: 8.93k  "
       ]
      },
      {
       "output_type": "stream",
       "stream": "stdout",
       "text": [
        "\r",
        "Alpha: 0.002203  Progress: 91.30%  Words/thread/sec: 8.94k  "
       ]
      },
      {
       "output_type": "stream",
       "stream": "stdout",
       "text": [
        "\r",
        "Alpha: 0.002176  Progress: 91.41%  Words/thread/sec: 8.94k  "
       ]
      },
      {
       "output_type": "stream",
       "stream": "stdout",
       "text": [
        "\r",
        "Alpha: 0.002149  Progress: 91.51%  Words/thread/sec: 8.95k  "
       ]
      },
      {
       "output_type": "stream",
       "stream": "stdout",
       "text": [
        "\r",
        "Alpha: 0.002122  Progress: 91.62%  Words/thread/sec: 8.94k  "
       ]
      },
      {
       "output_type": "stream",
       "stream": "stdout",
       "text": [
        "\r",
        "Alpha: 0.002096  Progress: 91.73%  Words/thread/sec: 8.92k  "
       ]
      },
      {
       "output_type": "stream",
       "stream": "stdout",
       "text": [
        "\r",
        "Alpha: 0.002068  Progress: 91.83%  Words/thread/sec: 8.92k  "
       ]
      },
      {
       "output_type": "stream",
       "stream": "stdout",
       "text": [
        "\r",
        "Alpha: 0.002042  Progress: 91.94%  Words/thread/sec: 8.92k  "
       ]
      },
      {
       "output_type": "stream",
       "stream": "stdout",
       "text": [
        "\r",
        "Alpha: 0.002015  Progress: 92.05%  Words/thread/sec: 8.92k  "
       ]
      },
      {
       "output_type": "stream",
       "stream": "stdout",
       "text": [
        "\r",
        "Alpha: 0.001988  Progress: 92.15%  Words/thread/sec: 8.91k  "
       ]
      },
      {
       "output_type": "stream",
       "stream": "stdout",
       "text": [
        "\r",
        "Alpha: 0.001961  Progress: 92.26%  Words/thread/sec: 8.91k  \r",
        "Alpha: 0.001934  Progress: 92.37%  Words/thread/sec: 8.92k  "
       ]
      },
      {
       "output_type": "stream",
       "stream": "stdout",
       "text": [
        "\r",
        "Alpha: 0.001908  Progress: 92.48%  Words/thread/sec: 8.93k  "
       ]
      },
      {
       "output_type": "stream",
       "stream": "stdout",
       "text": [
        "\r",
        "Alpha: 0.001881  Progress: 92.58%  Words/thread/sec: 8.94k  "
       ]
      },
      {
       "output_type": "stream",
       "stream": "stdout",
       "text": [
        "\r",
        "Alpha: 0.001854  Progress: 92.69%  Words/thread/sec: 8.94k  "
       ]
      },
      {
       "output_type": "stream",
       "stream": "stdout",
       "text": [
        "\r",
        "Alpha: 0.001827  Progress: 92.81%  Words/thread/sec: 8.94k  "
       ]
      },
      {
       "output_type": "stream",
       "stream": "stdout",
       "text": [
        "\r",
        "Alpha: 0.001798  Progress: 92.92%  Words/thread/sec: 8.94k  "
       ]
      },
      {
       "output_type": "stream",
       "stream": "stdout",
       "text": [
        "\r",
        "Alpha: 0.001771  Progress: 93.03%  Words/thread/sec: 8.93k  "
       ]
      },
      {
       "output_type": "stream",
       "stream": "stdout",
       "text": [
        "\r",
        "Alpha: 0.001744  Progress: 93.13%  Words/thread/sec: 8.92k  "
       ]
      },
      {
       "output_type": "stream",
       "stream": "stdout",
       "text": [
        "\r",
        "Alpha: 0.001717  Progress: 93.24%  Words/thread/sec: 8.92k  "
       ]
      },
      {
       "output_type": "stream",
       "stream": "stdout",
       "text": [
        "\r",
        "Alpha: 0.001690  Progress: 93.35%  Words/thread/sec: 8.93k  "
       ]
      },
      {
       "output_type": "stream",
       "stream": "stdout",
       "text": [
        "\r",
        "Alpha: 0.001663  Progress: 93.45%  Words/thread/sec: 8.92k  "
       ]
      },
      {
       "output_type": "stream",
       "stream": "stdout",
       "text": [
        "\r",
        "Alpha: 0.001636  Progress: 93.56%  Words/thread/sec: 8.91k  \r",
        "Alpha: 0.001609  Progress: 93.67%  Words/thread/sec: 8.92k  "
       ]
      },
      {
       "output_type": "stream",
       "stream": "stdout",
       "text": [
        "\r",
        "Alpha: 0.001582  Progress: 93.78%  Words/thread/sec: 8.93k  \r",
        "Alpha: 0.001555  Progress: 93.89%  Words/thread/sec: 8.94k  "
       ]
      },
      {
       "output_type": "stream",
       "stream": "stdout",
       "text": [
        "\r",
        "Alpha: 0.001528  Progress: 94.00%  Words/thread/sec: 8.94k  "
       ]
      },
      {
       "output_type": "stream",
       "stream": "stdout",
       "text": [
        "\r",
        "Alpha: 0.001501  Progress: 94.10%  Words/thread/sec: 8.94k  "
       ]
      },
      {
       "output_type": "stream",
       "stream": "stdout",
       "text": [
        "\r",
        "Alpha: 0.001475  Progress: 94.21%  Words/thread/sec: 8.94k  "
       ]
      },
      {
       "output_type": "stream",
       "stream": "stdout",
       "text": [
        "\r",
        "Alpha: 0.001448  Progress: 94.32%  Words/thread/sec: 8.92k  "
       ]
      },
      {
       "output_type": "stream",
       "stream": "stdout",
       "text": [
        "\r",
        "Alpha: 0.001421  Progress: 94.42%  Words/thread/sec: 8.92k  "
       ]
      },
      {
       "output_type": "stream",
       "stream": "stdout",
       "text": [
        "\r",
        "Alpha: 0.001394  Progress: 94.53%  Words/thread/sec: 8.92k  \r",
        "Alpha: 0.001368  Progress: 94.64%  Words/thread/sec: 8.93k  "
       ]
      },
      {
       "output_type": "stream",
       "stream": "stdout",
       "text": [
        "\r",
        "Alpha: 0.001341  Progress: 94.74%  Words/thread/sec: 8.92k  "
       ]
      },
      {
       "output_type": "stream",
       "stream": "stdout",
       "text": [
        "\r",
        "Alpha: 0.001314  Progress: 94.85%  Words/thread/sec: 8.92k  "
       ]
      },
      {
       "output_type": "stream",
       "stream": "stdout",
       "text": [
        "\r",
        "Alpha: 0.001287  Progress: 94.96%  Words/thread/sec: 8.92k  "
       ]
      },
      {
       "output_type": "stream",
       "stream": "stdout",
       "text": [
        "\r",
        "Alpha: 0.001260  Progress: 95.07%  Words/thread/sec: 8.93k  "
       ]
      },
      {
       "output_type": "stream",
       "stream": "stdout",
       "text": [
        "\r",
        "Alpha: 0.001234  Progress: 95.17%  Words/thread/sec: 8.93k  \r",
        "Alpha: 0.001207  Progress: 95.28%  Words/thread/sec: 8.94k  "
       ]
      },
      {
       "output_type": "stream",
       "stream": "stdout",
       "text": [
        "\r",
        "Alpha: 0.001180  Progress: 95.39%  Words/thread/sec: 8.95k  "
       ]
      },
      {
       "output_type": "stream",
       "stream": "stdout",
       "text": [
        "\r",
        "Alpha: 0.001153  Progress: 95.50%  Words/thread/sec: 8.94k  "
       ]
      },
      {
       "output_type": "stream",
       "stream": "stdout",
       "text": [
        "\r",
        "Alpha: 0.001126  Progress: 95.60%  Words/thread/sec: 8.93k  "
       ]
      },
      {
       "output_type": "stream",
       "stream": "stdout",
       "text": [
        "\r",
        "Alpha: 0.001099  Progress: 95.71%  Words/thread/sec: 8.92k  "
       ]
      },
      {
       "output_type": "stream",
       "stream": "stdout",
       "text": [
        "\r",
        "Alpha: 0.001073  Progress: 95.82%  Words/thread/sec: 8.92k  "
       ]
      },
      {
       "output_type": "stream",
       "stream": "stdout",
       "text": [
        "\r",
        "Alpha: 0.001046  Progress: 95.92%  Words/thread/sec: 8.93k  "
       ]
      },
      {
       "output_type": "stream",
       "stream": "stdout",
       "text": [
        "\r",
        "Alpha: 0.001019  Progress: 96.03%  Words/thread/sec: 8.92k  "
       ]
      },
      {
       "output_type": "stream",
       "stream": "stdout",
       "text": [
        "\r",
        "Alpha: 0.000992  Progress: 96.14%  Words/thread/sec: 8.92k  "
       ]
      },
      {
       "output_type": "stream",
       "stream": "stdout",
       "text": [
        "\r",
        "Alpha: 0.000966  Progress: 96.25%  Words/thread/sec: 8.92k  \r",
        "Alpha: 0.000939  Progress: 96.35%  Words/thread/sec: 8.93k  "
       ]
      },
      {
       "output_type": "stream",
       "stream": "stdout",
       "text": [
        "\r",
        "Alpha: 0.000912  Progress: 96.46%  Words/thread/sec: 8.93k  "
       ]
      },
      {
       "output_type": "stream",
       "stream": "stdout",
       "text": [
        "\r",
        "Alpha: 0.000885  Progress: 96.57%  Words/thread/sec: 8.94k  "
       ]
      },
      {
       "output_type": "stream",
       "stream": "stdout",
       "text": [
        "\r",
        "Alpha: 0.000857  Progress: 96.68%  Words/thread/sec: 8.95k  "
       ]
      },
      {
       "output_type": "stream",
       "stream": "stdout",
       "text": [
        "\r",
        "Alpha: 0.000830  Progress: 96.79%  Words/thread/sec: 8.94k  "
       ]
      },
      {
       "output_type": "stream",
       "stream": "stdout",
       "text": [
        "\r",
        "Alpha: 0.000803  Progress: 96.90%  Words/thread/sec: 8.93k  "
       ]
      },
      {
       "output_type": "stream",
       "stream": "stdout",
       "text": [
        "\r",
        "Alpha: 0.000776  Progress: 97.00%  Words/thread/sec: 8.92k  "
       ]
      },
      {
       "output_type": "stream",
       "stream": "stdout",
       "text": [
        "\r",
        "Alpha: 0.000750  Progress: 97.11%  Words/thread/sec: 8.92k  "
       ]
      },
      {
       "output_type": "stream",
       "stream": "stdout",
       "text": [
        "\r",
        "Alpha: 0.000723  Progress: 97.21%  Words/thread/sec: 8.92k  \r",
        "Alpha: 0.000696  Progress: 97.33%  Words/thread/sec: 8.93k  "
       ]
      },
      {
       "output_type": "stream",
       "stream": "stdout",
       "text": [
        "\r",
        "Alpha: 0.000667  Progress: 97.44%  Words/thread/sec: 8.92k  "
       ]
      },
      {
       "output_type": "stream",
       "stream": "stdout",
       "text": [
        "\r",
        "Alpha: 0.000641  Progress: 97.54%  Words/thread/sec: 8.93k  "
       ]
      },
      {
       "output_type": "stream",
       "stream": "stdout",
       "text": [
        "\r",
        "Alpha: 0.000614  Progress: 97.65%  Words/thread/sec: 8.93k  "
       ]
      },
      {
       "output_type": "stream",
       "stream": "stdout",
       "text": [
        "\r",
        "Alpha: 0.000587  Progress: 97.76%  Words/thread/sec: 8.94k  "
       ]
      },
      {
       "output_type": "stream",
       "stream": "stdout",
       "text": [
        "\r",
        "Alpha: 0.000560  Progress: 97.87%  Words/thread/sec: 8.94k  "
       ]
      },
      {
       "output_type": "stream",
       "stream": "stdout",
       "text": [
        "\r",
        "Alpha: 0.000533  Progress: 97.98%  Words/thread/sec: 8.94k  "
       ]
      },
      {
       "output_type": "stream",
       "stream": "stdout",
       "text": [
        "\r",
        "Alpha: 0.000506  Progress: 98.08%  Words/thread/sec: 8.93k  "
       ]
      },
      {
       "output_type": "stream",
       "stream": "stdout",
       "text": [
        "\r",
        "Alpha: 0.000479  Progress: 98.19%  Words/thread/sec: 8.91k  "
       ]
      },
      {
       "output_type": "stream",
       "stream": "stdout",
       "text": [
        "\r",
        "Alpha: 0.000452  Progress: 98.30%  Words/thread/sec: 8.92k  "
       ]
      },
      {
       "output_type": "stream",
       "stream": "stdout",
       "text": [
        "\r",
        "Alpha: 0.000426  Progress: 98.40%  Words/thread/sec: 8.92k  "
       ]
      },
      {
       "output_type": "stream",
       "stream": "stdout",
       "text": [
        "\r",
        "Alpha: 0.000399  Progress: 98.51%  Words/thread/sec: 8.91k  \r",
        "Alpha: 0.000372  Progress: 98.63%  Words/thread/sec: 8.92k  "
       ]
      },
      {
       "output_type": "stream",
       "stream": "stdout",
       "text": [
        "\r",
        "Alpha: 0.000343  Progress: 98.75%  Words/thread/sec: 8.93k  "
       ]
      },
      {
       "output_type": "stream",
       "stream": "stdout",
       "text": [
        "\r",
        "Alpha: 0.000314  Progress: 98.85%  Words/thread/sec: 8.93k  \r",
        "Alpha: 0.000287  Progress: 98.96%  Words/thread/sec: 8.94k  "
       ]
      },
      {
       "output_type": "stream",
       "stream": "stdout",
       "text": [
        "\r",
        "Alpha: 0.000260  Progress: 99.07%  Words/thread/sec: 8.94k  "
       ]
      },
      {
       "output_type": "stream",
       "stream": "stdout",
       "text": [
        "\r",
        "Alpha: 0.000233  Progress: 99.18%  Words/thread/sec: 8.94k  "
       ]
      },
      {
       "output_type": "stream",
       "stream": "stdout",
       "text": [
        "\r",
        "Alpha: 0.000206  Progress: 99.29%  Words/thread/sec: 8.93k  "
       ]
      },
      {
       "output_type": "stream",
       "stream": "stdout",
       "text": [
        "\r",
        "Alpha: 0.000179  Progress: 99.39%  Words/thread/sec: 8.93k  "
       ]
      },
      {
       "output_type": "stream",
       "stream": "stdout",
       "text": [
        "\r",
        "Alpha: 0.000152  Progress: 99.50%  Words/thread/sec: 8.94k  "
       ]
      },
      {
       "output_type": "stream",
       "stream": "stdout",
       "text": [
        "\r\n",
        "real\t4m50.962s\r\n",
        "user\t17m44.931s\r\n",
        "sys\t0m3.187s\r\n"
       ]
      }
     ],
     "prompt_number": 10
    },
    {
     "cell_type": "code",
     "collapsed": false,
     "input": [
      "from gensim.models import word2vec\n",
      "model = word2vec.Word2Vec.load_word2vec_format('../webstruct_data/experiments/ie-pages-25k-vector.bin', binary=True)\n",
      "\n",
      "print model.most_similar(positive=['Ireland'], topn=10)\n",
      "print model.most_similar(positive=['Ireland', 'Cork'], negative=['Dublin'], topn=10)"
     ],
     "language": "python",
     "metadata": {},
     "outputs": [
      {
       "output_type": "stream",
       "stream": "stdout",
       "text": [
        "[('Dublin', 0.60479176), ('Ireland.', 0.53628999), ('-', 0.52307785), ('Cork', 0.51973337), ('|', 0.50504291), ('Co.', 0.47950459), ('392765.', 0.46933132), ('397104', 0.46505383), ('Naturopathy', 0.4531486), ('Osteopathy', 0.44307554)]"
       ]
      },
      {
       "output_type": "stream",
       "stream": "stdout",
       "text": [
        "\n",
        "[('402684.', 0.4846378), ('County', 0.47540602), ('Donegal', 0.45261955), ('Limerick', 0.44834107), ('Tipperary', 0.43092877), ('7JD', 0.41949928), ('Kerry', 0.41525784), ('6478186', 0.4132365), ('BT79', 0.41197628), ('Soccer.Rep.of', 0.40171891)]\n"
       ]
      }
     ],
     "prompt_number": 11
    },
    {
     "cell_type": "markdown",
     "metadata": {},
     "source": [
      "### Build word2vec 500 classes with 6k Ireland pages"
     ]
    },
    {
     "cell_type": "code",
     "collapsed": false,
     "input": [
      "!time ~/github/word2vec/bin/word2vec -train ../webstruct_data/experiments/ie-pages-6k.txt -output ../webstruct_data/experiments/ie-pages-6k-classes.txt -cbow 0 -size 200 -window 5 -negative 0 -hs 1 -sample 1e-3 -threads 12 -classes 500\n",
      "!sort ../webstruct_data/experiments/ie-pages-6k-classes.txt -k 2 -n > ../webstruct_data/experiments/ie-6k-classes-500.txt"
     ],
     "language": "python",
     "metadata": {},
     "outputs": [
      {
       "output_type": "stream",
       "stream": "stdout",
       "text": [
        "Starting training using file ../webstruct_data/experiments/ie-pages-6k.txt\r\n"
       ]
      },
      {
       "output_type": "stream",
       "stream": "stdout",
       "text": [
        "100K\r",
        "200K\r",
        "300K\r"
       ]
      },
      {
       "output_type": "stream",
       "stream": "stdout",
       "text": [
        "400K\r",
        "500K\r",
        "600K\r"
       ]
      },
      {
       "output_type": "stream",
       "stream": "stdout",
       "text": [
        "700K\r",
        "800K\r",
        "900K\r"
       ]
      },
      {
       "output_type": "stream",
       "stream": "stdout",
       "text": [
        "1000K\r",
        "1100K\r",
        "1200K\r"
       ]
      },
      {
       "output_type": "stream",
       "stream": "stdout",
       "text": [
        "1300K\r",
        "1400K\r",
        "1500K\r"
       ]
      },
      {
       "output_type": "stream",
       "stream": "stdout",
       "text": [
        "1600K\r",
        "1700K\r",
        "1800K\r"
       ]
      },
      {
       "output_type": "stream",
       "stream": "stdout",
       "text": [
        "1900K\r",
        "2000K\r"
       ]
      },
      {
       "output_type": "stream",
       "stream": "stdout",
       "text": [
        "Vocab size: 29275\r\n",
        "Words in train file: 1885988\r\n"
       ]
      },
      {
       "output_type": "stream",
       "stream": "stdout",
       "text": [
        "\r",
        "Alpha: 0.025000  Progress: 0.54%  Words/thread/sec: 0.88k  \r",
        "Alpha: 0.024864  Progress: 1.09%  Words/thread/sec: 1.75k  \r",
        "Alpha: 0.024729  Progress: 1.63%  Words/thread/sec: 2.63k  \r",
        "Alpha: 0.024593  Progress: 2.17%  Words/thread/sec: 3.50k  \r",
        "Alpha: 0.024458  Progress: 2.72%  Words/thread/sec: 4.38k  \r",
        "Alpha: 0.024320  Progress: 3.26%  Words/thread/sec: 5.24k  \r",
        "Alpha: 0.024185  Progress: 3.82%  Words/thread/sec: 6.13k  \r",
        "Alpha: 0.024046  Progress: 4.37%  Words/thread/sec: 7.00k  "
       ]
      },
      {
       "output_type": "stream",
       "stream": "stdout",
       "text": [
        "\r",
        "Alpha: 0.023908  Progress: 4.92%  Words/thread/sec: 7.86k  \r",
        "Alpha: 0.023770  Progress: 5.45%  Words/thread/sec: 8.63k  \r",
        "Alpha: 0.023637  Progress: 6.00%  Words/thread/sec: 9.47k  "
       ]
      },
      {
       "output_type": "stream",
       "stream": "stdout",
       "text": [
        "\r",
        "Alpha: 0.023501  Progress: 6.55%  Words/thread/sec: 10.33k  "
       ]
      },
      {
       "output_type": "stream",
       "stream": "stdout",
       "text": [
        "\r",
        "Alpha: 0.023361  Progress: 7.11%  Words/thread/sec: 5.45k  "
       ]
      },
      {
       "output_type": "stream",
       "stream": "stdout",
       "text": [
        "\r",
        "Alpha: 0.023223  Progress: 7.65%  Words/thread/sec: 5.86k  "
       ]
      },
      {
       "output_type": "stream",
       "stream": "stdout",
       "text": [
        "\r",
        "Alpha: 0.023087  Progress: 8.20%  Words/thread/sec: 6.24k  \r",
        "Alpha: 0.022951  Progress: 8.74%  Words/thread/sec: 6.64k  \r",
        "Alpha: 0.022814  Progress: 9.29%  Words/thread/sec: 7.05k  \r",
        "Alpha: 0.022678  Progress: 9.85%  Words/thread/sec: 7.48k  \r",
        "Alpha: 0.022538  Progress: 10.39%  Words/thread/sec: 7.88k  \r",
        "Alpha: 0.022401  Progress: 10.94%  Words/thread/sec: 8.27k  "
       ]
      },
      {
       "output_type": "stream",
       "stream": "stdout",
       "text": [
        "\r",
        "Alpha: 0.022265  Progress: 11.49%  Words/thread/sec: 8.64k  \r",
        "Alpha: 0.022128  Progress: 12.03%  Words/thread/sec: 9.04k  "
       ]
      },
      {
       "output_type": "stream",
       "stream": "stdout",
       "text": [
        "\r",
        "Alpha: 0.021992  Progress: 12.59%  Words/thread/sec: 9.40k  \r",
        "Alpha: 0.021853  Progress: 13.14%  Words/thread/sec: 9.81k  "
       ]
      },
      {
       "output_type": "stream",
       "stream": "stdout",
       "text": [
        "\r",
        "Alpha: 0.021714  Progress: 13.70%  Words/thread/sec: 6.89k  "
       ]
      },
      {
       "output_type": "stream",
       "stream": "stdout",
       "text": [
        "\r",
        "Alpha: 0.021574  Progress: 14.24%  Words/thread/sec: 7.14k  \r",
        "Alpha: 0.021441  Progress: 14.78%  Words/thread/sec: 7.39k  "
       ]
      },
      {
       "output_type": "stream",
       "stream": "stdout",
       "text": [
        "\r",
        "Alpha: 0.021305  Progress: 15.34%  Words/thread/sec: 7.66k  \r",
        "Alpha: 0.021166  Progress: 15.88%  Words/thread/sec: 7.90k  "
       ]
      },
      {
       "output_type": "stream",
       "stream": "stdout",
       "text": [
        "\r",
        "Alpha: 0.021029  Progress: 16.43%  Words/thread/sec: 8.14k  \r",
        "Alpha: 0.020894  Progress: 16.97%  Words/thread/sec: 8.40k  "
       ]
      },
      {
       "output_type": "stream",
       "stream": "stdout",
       "text": [
        "\r",
        "Alpha: 0.020758  Progress: 17.51%  Words/thread/sec: 8.66k  \r",
        "Alpha: 0.020622  Progress: 18.06%  Words/thread/sec: 8.92k  \r",
        "Alpha: 0.020484  Progress: 18.61%  Words/thread/sec: 9.17k  \r",
        "Alpha: 0.020348  Progress: 19.16%  Words/thread/sec: 9.43k  "
       ]
      },
      {
       "output_type": "stream",
       "stream": "stdout",
       "text": [
        "\r",
        "Alpha: 0.020210  Progress: 19.71%  Words/thread/sec: 9.69k  "
       ]
      },
      {
       "output_type": "stream",
       "stream": "stdout",
       "text": [
        "\r",
        "Alpha: 0.020072  Progress: 20.27%  Words/thread/sec: 7.58k  "
       ]
      },
      {
       "output_type": "stream",
       "stream": "stdout",
       "text": [
        "\r",
        "Alpha: 0.019933  Progress: 20.82%  Words/thread/sec: 7.76k  "
       ]
      },
      {
       "output_type": "stream",
       "stream": "stdout",
       "text": [
        "\r",
        "Alpha: 0.019796  Progress: 21.37%  Words/thread/sec: 7.95k  "
       ]
      },
      {
       "output_type": "stream",
       "stream": "stdout",
       "text": [
        "\r",
        "Alpha: 0.019657  Progress: 21.93%  Words/thread/sec: 8.11k  \r",
        "Alpha: 0.019518  Progress: 22.47%  Words/thread/sec: 8.29k  "
       ]
      },
      {
       "output_type": "stream",
       "stream": "stdout",
       "text": [
        "\r",
        "Alpha: 0.019383  Progress: 23.02%  Words/thread/sec: 8.49k  \r",
        "Alpha: 0.019245  Progress: 23.56%  Words/thread/sec: 8.69k  "
       ]
      },
      {
       "output_type": "stream",
       "stream": "stdout",
       "text": [
        "\r",
        "Alpha: 0.019109  Progress: 24.12%  Words/thread/sec: 8.86k  \r",
        "Alpha: 0.018971  Progress: 24.66%  Words/thread/sec: 9.05k  "
       ]
      },
      {
       "output_type": "stream",
       "stream": "stdout",
       "text": [
        "\r",
        "Alpha: 0.018834  Progress: 25.22%  Words/thread/sec: 9.23k  "
       ]
      },
      {
       "output_type": "stream",
       "stream": "stdout",
       "text": [
        "\r",
        "Alpha: 0.018696  Progress: 25.75%  Words/thread/sec: 9.38k  "
       ]
      },
      {
       "output_type": "stream",
       "stream": "stdout",
       "text": [
        "\r",
        "Alpha: 0.018563  Progress: 26.34%  Words/thread/sec: 9.45k  "
       ]
      },
      {
       "output_type": "stream",
       "stream": "stdout",
       "text": [
        "\r",
        "Alpha: 0.018415  Progress: 26.89%  Words/thread/sec: 7.95k  "
       ]
      },
      {
       "output_type": "stream",
       "stream": "stdout",
       "text": [
        "\r",
        "Alpha: 0.018278  Progress: 27.45%  Words/thread/sec: 8.11k  \r",
        "Alpha: 0.018138  Progress: 27.99%  Words/thread/sec: 8.27k  "
       ]
      },
      {
       "output_type": "stream",
       "stream": "stdout",
       "text": [
        "\r",
        "Alpha: 0.018003  Progress: 28.54%  Words/thread/sec: 8.40k  "
       ]
      },
      {
       "output_type": "stream",
       "stream": "stdout",
       "text": [
        "\r",
        "Alpha: 0.017866  Progress: 29.09%  Words/thread/sec: 8.54k  \r",
        "Alpha: 0.017728  Progress: 29.64%  Words/thread/sec: 8.70k  \r",
        "Alpha: 0.017591  Progress: 30.18%  Words/thread/sec: 8.85k  "
       ]
      },
      {
       "output_type": "stream",
       "stream": "stdout",
       "text": [
        "\r",
        "Alpha: 0.017456  Progress: 30.73%  Words/thread/sec: 8.99k  "
       ]
      },
      {
       "output_type": "stream",
       "stream": "stdout",
       "text": [
        "\r",
        "Alpha: 0.017318  Progress: 31.28%  Words/thread/sec: 9.13k  \r",
        "Alpha: 0.017180  Progress: 31.84%  Words/thread/sec: 9.29k  "
       ]
      },
      {
       "output_type": "stream",
       "stream": "stdout",
       "text": [
        "\r",
        "Alpha: 0.017039  Progress: 32.38%  Words/thread/sec: 9.32k  "
       ]
      },
      {
       "output_type": "stream",
       "stream": "stdout",
       "text": [
        "\r",
        "Alpha: 0.016904  Progress: 32.97%  Words/thread/sec: 9.27k  "
       ]
      },
      {
       "output_type": "stream",
       "stream": "stdout",
       "text": [
        "\r",
        "Alpha: 0.016758  Progress: 33.51%  Words/thread/sec: 8.23k  "
       ]
      },
      {
       "output_type": "stream",
       "stream": "stdout",
       "text": [
        "\r",
        "Alpha: 0.016622  Progress: 34.06%  Words/thread/sec: 8.35k  \r",
        "Alpha: 0.016484  Progress: 34.61%  Words/thread/sec: 8.48k  "
       ]
      },
      {
       "output_type": "stream",
       "stream": "stdout",
       "text": [
        "\r",
        "Alpha: 0.016347  Progress: 35.15%  Words/thread/sec: 8.60k  \r",
        "Alpha: 0.016211  Progress: 35.71%  Words/thread/sec: 8.73k  "
       ]
      },
      {
       "output_type": "stream",
       "stream": "stdout",
       "text": [
        "\r",
        "Alpha: 0.016071  Progress: 36.25%  Words/thread/sec: 8.84k  "
       ]
      },
      {
       "output_type": "stream",
       "stream": "stdout",
       "text": [
        "\r",
        "Alpha: 0.015937  Progress: 36.79%  Words/thread/sec: 8.96k  "
       ]
      },
      {
       "output_type": "stream",
       "stream": "stdout",
       "text": [
        "\r",
        "Alpha: 0.015802  Progress: 37.35%  Words/thread/sec: 9.07k  "
       ]
      },
      {
       "output_type": "stream",
       "stream": "stdout",
       "text": [
        "\r",
        "Alpha: 0.015663  Progress: 37.90%  Words/thread/sec: 9.17k  \r",
        "Alpha: 0.015526  Progress: 38.47%  Words/thread/sec: 9.30k  "
       ]
      },
      {
       "output_type": "stream",
       "stream": "stdout",
       "text": [
        "\r",
        "Alpha: 0.015383  Progress: 39.01%  Words/thread/sec: 9.36k  "
       ]
      },
      {
       "output_type": "stream",
       "stream": "stdout",
       "text": [
        "\r",
        "Alpha: 0.015248  Progress: 39.54%  Words/thread/sec: 9.27k  "
       ]
      },
      {
       "output_type": "stream",
       "stream": "stdout",
       "text": [
        "\r",
        "Alpha: 0.015115  Progress: 40.10%  Words/thread/sec: 8.42k  "
       ]
      },
      {
       "output_type": "stream",
       "stream": "stdout",
       "text": [
        "\r",
        "Alpha: 0.014976  Progress: 40.65%  Words/thread/sec: 8.50k  \r",
        "Alpha: 0.014838  Progress: 41.20%  Words/thread/sec: 8.61k  "
       ]
      },
      {
       "output_type": "stream",
       "stream": "stdout",
       "text": [
        "\r",
        "Alpha: 0.014701  Progress: 41.73%  Words/thread/sec: 8.72k  "
       ]
      },
      {
       "output_type": "stream",
       "stream": "stdout",
       "text": [
        "\r",
        "Alpha: 0.014568  Progress: 42.29%  Words/thread/sec: 8.81k  \r",
        "Alpha: 0.014428  Progress: 42.83%  Words/thread/sec: 8.92k  "
       ]
      },
      {
       "output_type": "stream",
       "stream": "stdout",
       "text": [
        "\r",
        "Alpha: 0.014294  Progress: 43.37%  Words/thread/sec: 9.02k  "
       ]
      },
      {
       "output_type": "stream",
       "stream": "stdout",
       "text": [
        "\r",
        "Alpha: 0.014158  Progress: 43.92%  Words/thread/sec: 9.11k  "
       ]
      },
      {
       "output_type": "stream",
       "stream": "stdout",
       "text": [
        "\r",
        "Alpha: 0.014020  Progress: 44.48%  Words/thread/sec: 9.20k  \r",
        "Alpha: 0.013881  Progress: 45.05%  Words/thread/sec: 9.32k  "
       ]
      },
      {
       "output_type": "stream",
       "stream": "stdout",
       "text": [
        "\r",
        "Alpha: 0.013738  Progress: 45.58%  Words/thread/sec: 9.39k  "
       ]
      },
      {
       "output_type": "stream",
       "stream": "stdout",
       "text": [
        "\r",
        "Alpha: 0.013604  Progress: 46.12%  Words/thread/sec: 9.29k  "
       ]
      },
      {
       "output_type": "stream",
       "stream": "stdout",
       "text": [
        "\r",
        "Alpha: 0.013470  Progress: 46.68%  Words/thread/sec: 8.53k  \r",
        "Alpha: 0.013331  Progress: 47.23%  Words/thread/sec: 8.62k  "
       ]
      },
      {
       "output_type": "stream",
       "stream": "stdout",
       "text": [
        "\r",
        "Alpha: 0.013193  Progress: 47.78%  Words/thread/sec: 8.71k  \r",
        "Alpha: 0.013055  Progress: 48.34%  Words/thread/sec: 8.81k  "
       ]
      },
      {
       "output_type": "stream",
       "stream": "stdout",
       "text": [
        "\r",
        "Alpha: 0.012915  Progress: 48.89%  Words/thread/sec: 8.90k  "
       ]
      },
      {
       "output_type": "stream",
       "stream": "stdout",
       "text": [
        "\r",
        "Alpha: 0.012778  Progress: 49.44%  Words/thread/sec: 8.97k  "
       ]
      },
      {
       "output_type": "stream",
       "stream": "stdout",
       "text": [
        "\r",
        "Alpha: 0.012641  Progress: 49.98%  Words/thread/sec: 9.05k  "
       ]
      },
      {
       "output_type": "stream",
       "stream": "stdout",
       "text": [
        "\r",
        "Alpha: 0.012504  Progress: 50.56%  Words/thread/sec: 9.14k  "
       ]
      },
      {
       "output_type": "stream",
       "stream": "stdout",
       "text": [
        "\r",
        "Alpha: 0.012361  Progress: 51.10%  Words/thread/sec: 9.21k  "
       ]
      },
      {
       "output_type": "stream",
       "stream": "stdout",
       "text": [
        "\r",
        "Alpha: 0.012225  Progress: 51.63%  Words/thread/sec: 9.27k  "
       ]
      },
      {
       "output_type": "stream",
       "stream": "stdout",
       "text": [
        "\r",
        "Alpha: 0.012092  Progress: 52.21%  Words/thread/sec: 9.31k  "
       ]
      },
      {
       "output_type": "stream",
       "stream": "stdout",
       "text": [
        "\r",
        "Alpha: 0.011947  Progress: 52.76%  Words/thread/sec: 9.31k  "
       ]
      },
      {
       "output_type": "stream",
       "stream": "stdout",
       "text": [
        "\r",
        "Alpha: 0.011811  Progress: 53.32%  Words/thread/sec: 8.64k  \r",
        "Alpha: 0.011670  Progress: 53.86%  Words/thread/sec: 8.72k  "
       ]
      },
      {
       "output_type": "stream",
       "stream": "stdout",
       "text": [
        "\r",
        "Alpha: 0.011536  Progress: 54.40%  Words/thread/sec: 8.79k  \r",
        "Alpha: 0.011399  Progress: 54.96%  Words/thread/sec: 8.88k  "
       ]
      },
      {
       "output_type": "stream",
       "stream": "stdout",
       "text": [
        "\r",
        "Alpha: 0.011261  Progress: 55.50%  Words/thread/sec: 8.95k  \r",
        "Alpha: 0.011125  Progress: 56.06%  Words/thread/sec: 9.03k  "
       ]
      },
      {
       "output_type": "stream",
       "stream": "stdout",
       "text": [
        "\r",
        "Alpha: 0.010986  Progress: 56.62%  Words/thread/sec: 9.11k  "
       ]
      },
      {
       "output_type": "stream",
       "stream": "stdout",
       "text": [
        "\r",
        "Alpha: 0.010846  Progress: 57.17%  Words/thread/sec: 9.16k  "
       ]
      },
      {
       "output_type": "stream",
       "stream": "stdout",
       "text": [
        "\r",
        "Alpha: 0.010707  Progress: 57.73%  Words/thread/sec: 9.23k  "
       ]
      },
      {
       "output_type": "stream",
       "stream": "stdout",
       "text": [
        "\r",
        "Alpha: 0.010568  Progress: 58.26%  Words/thread/sec: 9.19k  "
       ]
      },
      {
       "output_type": "stream",
       "stream": "stdout",
       "text": [
        "\r",
        "Alpha: 0.010435  Progress: 58.80%  Words/thread/sec: 9.23k  \r",
        "Alpha: 0.010300  Progress: 59.39%  Words/thread/sec: 9.31k  "
       ]
      },
      {
       "output_type": "stream",
       "stream": "stdout",
       "text": [
        "\r",
        "Alpha: 0.010153  Progress: 59.95%  Words/thread/sec: 8.72k  "
       ]
      },
      {
       "output_type": "stream",
       "stream": "stdout",
       "text": [
        "\r",
        "Alpha: 0.010013  Progress: 60.49%  Words/thread/sec: 8.79k  \r",
        "Alpha: 0.009877  Progress: 61.04%  Words/thread/sec: 8.86k  "
       ]
      },
      {
       "output_type": "stream",
       "stream": "stdout",
       "text": [
        "\r",
        "Alpha: 0.009740  Progress: 61.58%  Words/thread/sec: 8.92k  \r",
        "Alpha: 0.009606  Progress: 62.14%  Words/thread/sec: 9.00k  \r",
        "Alpha: 0.009465  Progress: 62.68%  Words/thread/sec: 9.08k  "
       ]
      },
      {
       "output_type": "stream",
       "stream": "stdout",
       "text": [
        "\r",
        "Alpha: 0.009329  Progress: 63.23%  Words/thread/sec: 9.15k  "
       ]
      },
      {
       "output_type": "stream",
       "stream": "stdout",
       "text": [
        "\r",
        "Alpha: 0.009193  Progress: 63.78%  Words/thread/sec: 9.20k  "
       ]
      },
      {
       "output_type": "stream",
       "stream": "stdout",
       "text": [
        "\r",
        "Alpha: 0.009055  Progress: 64.33%  Words/thread/sec: 9.26k  "
       ]
      },
      {
       "output_type": "stream",
       "stream": "stdout",
       "text": [
        "\r",
        "Alpha: 0.008918  Progress: 64.88%  Words/thread/sec: 9.21k  "
       ]
      },
      {
       "output_type": "stream",
       "stream": "stdout",
       "text": [
        "\r",
        "Alpha: 0.008779  Progress: 65.42%  Words/thread/sec: 9.26k  "
       ]
      },
      {
       "output_type": "stream",
       "stream": "stdout",
       "text": [
        "\r",
        "Alpha: 0.008644  Progress: 65.96%  Words/thread/sec: 9.31k  "
       ]
      },
      {
       "output_type": "stream",
       "stream": "stdout",
       "text": [
        "\r",
        "Alpha: 0.008511  Progress: 66.50%  Words/thread/sec: 8.78k  "
       ]
      },
      {
       "output_type": "stream",
       "stream": "stdout",
       "text": [
        "\r",
        "Alpha: 0.008375  Progress: 67.06%  Words/thread/sec: 8.84k  \r",
        "Alpha: 0.008236  Progress: 67.61%  Words/thread/sec: 8.91k  "
       ]
      },
      {
       "output_type": "stream",
       "stream": "stdout",
       "text": [
        "\r",
        "Alpha: 0.008099  Progress: 68.16%  Words/thread/sec: 8.96k  \r",
        "Alpha: 0.007960  Progress: 68.70%  Words/thread/sec: 9.02k  "
       ]
      },
      {
       "output_type": "stream",
       "stream": "stdout",
       "text": [
        "\r",
        "Alpha: 0.007825  Progress: 69.26%  Words/thread/sec: 9.10k  \r",
        "Alpha: 0.007686  Progress: 69.80%  Words/thread/sec: 9.17k  "
       ]
      },
      {
       "output_type": "stream",
       "stream": "stdout",
       "text": [
        "\r",
        "Alpha: 0.007549  Progress: 70.34%  Words/thread/sec: 9.21k  "
       ]
      },
      {
       "output_type": "stream",
       "stream": "stdout",
       "text": [
        "\r",
        "Alpha: 0.007415  Progress: 70.88%  Words/thread/sec: 9.27k  "
       ]
      },
      {
       "output_type": "stream",
       "stream": "stdout",
       "text": [
        "\r",
        "Alpha: 0.007280  Progress: 71.44%  Words/thread/sec: 9.23k  "
       ]
      },
      {
       "output_type": "stream",
       "stream": "stdout",
       "text": [
        "\r",
        "Alpha: 0.007140  Progress: 71.98%  Words/thread/sec: 9.28k  "
       ]
      },
      {
       "output_type": "stream",
       "stream": "stdout",
       "text": [
        "\r",
        "Alpha: 0.007004  Progress: 72.53%  Words/thread/sec: 9.29k  "
       ]
      },
      {
       "output_type": "stream",
       "stream": "stdout",
       "text": [
        "\r",
        "Alpha: 0.006869  Progress: 73.07%  Words/thread/sec: 8.82k  "
       ]
      },
      {
       "output_type": "stream",
       "stream": "stdout",
       "text": [
        "\r",
        "Alpha: 0.006733  Progress: 73.60%  Words/thread/sec: 8.88k  \r",
        "Alpha: 0.006600  Progress: 74.15%  Words/thread/sec: 8.94k  "
       ]
      },
      {
       "output_type": "stream",
       "stream": "stdout",
       "text": [
        "\r",
        "Alpha: 0.006462  Progress: 74.70%  Words/thread/sec: 9.00k  \r",
        "Alpha: 0.006326  Progress: 75.25%  Words/thread/sec: 9.06k  "
       ]
      },
      {
       "output_type": "stream",
       "stream": "stdout",
       "text": [
        "\r",
        "Alpha: 0.006188  Progress: 75.79%  Words/thread/sec: 9.12k  \r",
        "Alpha: 0.006051  Progress: 76.37%  Words/thread/sec: 9.19k  "
       ]
      },
      {
       "output_type": "stream",
       "stream": "stdout",
       "text": [
        "\r",
        "Alpha: 0.005908  Progress: 76.92%  Words/thread/sec: 9.21k  "
       ]
      },
      {
       "output_type": "stream",
       "stream": "stdout",
       "text": [
        "\r",
        "Alpha: 0.005770  Progress: 77.45%  Words/thread/sec: 9.25k  "
       ]
      },
      {
       "output_type": "stream",
       "stream": "stdout",
       "text": [
        "\r",
        "Alpha: 0.005637  Progress: 78.01%  Words/thread/sec: 9.23k  "
       ]
      },
      {
       "output_type": "stream",
       "stream": "stdout",
       "text": [
        "\r",
        "Alpha: 0.005497  Progress: 78.55%  Words/thread/sec: 9.26k  "
       ]
      },
      {
       "output_type": "stream",
       "stream": "stdout",
       "text": [
        "\r",
        "Alpha: 0.005363  Progress: 79.08%  Words/thread/sec: 9.29k  "
       ]
      },
      {
       "output_type": "stream",
       "stream": "stdout",
       "text": [
        "\r",
        "Alpha: 0.005229  Progress: 79.66%  Words/thread/sec: 8.86k  \r",
        "Alpha: 0.005086  Progress: 80.22%  Words/thread/sec: 8.92k  "
       ]
      },
      {
       "output_type": "stream",
       "stream": "stdout",
       "text": [
        "\r",
        "Alpha: 0.004945  Progress: 80.77%  Words/thread/sec: 8.98k  \r",
        "Alpha: 0.004806  Progress: 81.32%  Words/thread/sec: 9.03k  "
       ]
      },
      {
       "output_type": "stream",
       "stream": "stdout",
       "text": [
        "\r",
        "Alpha: 0.004670  Progress: 81.85%  Words/thread/sec: 9.07k  "
       ]
      },
      {
       "output_type": "stream",
       "stream": "stdout",
       "text": [
        "\r",
        "Alpha: 0.004537  Progress: 82.40%  Words/thread/sec: 9.12k  \r",
        "Alpha: 0.004399  Progress: 82.96%  Words/thread/sec: 9.18k  "
       ]
      },
      {
       "output_type": "stream",
       "stream": "stdout",
       "text": [
        "\r",
        "Alpha: 0.004261  Progress: 83.54%  Words/thread/sec: 9.21k  "
       ]
      },
      {
       "output_type": "stream",
       "stream": "stdout",
       "text": [
        "\r",
        "Alpha: 0.004115  Progress: 84.08%  Words/thread/sec: 9.26k  "
       ]
      },
      {
       "output_type": "stream",
       "stream": "stdout",
       "text": [
        "\r",
        "Alpha: 0.003980  Progress: 84.62%  Words/thread/sec: 9.22k  \r",
        "Alpha: 0.003844  Progress: 85.18%  Words/thread/sec: 9.28k  "
       ]
      },
      {
       "output_type": "stream",
       "stream": "stdout",
       "text": [
        "\r",
        "Alpha: 0.003705  Progress: 85.71%  Words/thread/sec: 9.27k  "
       ]
      },
      {
       "output_type": "stream",
       "stream": "stdout",
       "text": [
        "\r",
        "Alpha: 0.003572  Progress: 86.26%  Words/thread/sec: 8.92k  "
       ]
      },
      {
       "output_type": "stream",
       "stream": "stdout",
       "text": [
        "\r",
        "Alpha: 0.003435  Progress: 86.81%  Words/thread/sec: 8.96k  \r",
        "Alpha: 0.003298  Progress: 87.35%  Words/thread/sec: 9.02k  "
       ]
      },
      {
       "output_type": "stream",
       "stream": "stdout",
       "text": [
        "\r",
        "Alpha: 0.003163  Progress: 87.90%  Words/thread/sec: 9.06k  \r",
        "Alpha: 0.003025  Progress: 88.44%  Words/thread/sec: 9.11k  "
       ]
      },
      {
       "output_type": "stream",
       "stream": "stdout",
       "text": [
        "\r",
        "Alpha: 0.002889  Progress: 88.99%  Words/thread/sec: 9.14k  "
       ]
      },
      {
       "output_type": "stream",
       "stream": "stdout",
       "text": [
        "\r",
        "Alpha: 0.002753  Progress: 89.53%  Words/thread/sec: 9.18k  "
       ]
      },
      {
       "output_type": "stream",
       "stream": "stdout",
       "text": [
        "\r",
        "Alpha: 0.002618  Progress: 90.08%  Words/thread/sec: 9.20k  "
       ]
      },
      {
       "output_type": "stream",
       "stream": "stdout",
       "text": [
        "\r",
        "Alpha: 0.002479  Progress: 90.63%  Words/thread/sec: 9.26k  "
       ]
      },
      {
       "output_type": "stream",
       "stream": "stdout",
       "text": [
        "\r",
        "Alpha: 0.002342  Progress: 91.18%  Words/thread/sec: 9.24k  "
       ]
      },
      {
       "output_type": "stream",
       "stream": "stdout",
       "text": [
        "\r",
        "Alpha: 0.002206  Progress: 91.74%  Words/thread/sec: 9.29k  "
       ]
      },
      {
       "output_type": "stream",
       "stream": "stdout",
       "text": [
        "\r",
        "Alpha: 0.002065  Progress: 92.28%  Words/thread/sec: 9.28k  "
       ]
      },
      {
       "output_type": "stream",
       "stream": "stdout",
       "text": [
        "\r",
        "Alpha: 0.001930  Progress: 92.83%  Words/thread/sec: 8.96k  \r",
        "Alpha: 0.001793  Progress: 93.38%  Words/thread/sec: 9.01k  "
       ]
      },
      {
       "output_type": "stream",
       "stream": "stdout",
       "text": [
        "\r",
        "Alpha: 0.001656  Progress: 93.92%  Words/thread/sec: 9.03k  \r",
        "Alpha: 0.001519  Progress: 94.48%  Words/thread/sec: 9.08k  "
       ]
      },
      {
       "output_type": "stream",
       "stream": "stdout",
       "text": [
        "\r",
        "Alpha: 0.001381  Progress: 95.03%  Words/thread/sec: 9.12k  "
       ]
      },
      {
       "output_type": "stream",
       "stream": "stdout",
       "text": [
        "\r",
        "Alpha: 0.001244  Progress: 95.57%  Words/thread/sec: 9.16k  "
       ]
      },
      {
       "output_type": "stream",
       "stream": "stdout",
       "text": [
        "\r",
        "Alpha: 0.001108  Progress: 96.12%  Words/thread/sec: 9.18k  "
       ]
      },
      {
       "output_type": "stream",
       "stream": "stdout",
       "text": [
        "\r",
        "Alpha: 0.000971  Progress: 96.66%  Words/thread/sec: 9.23k  "
       ]
      },
      {
       "output_type": "stream",
       "stream": "stdout",
       "text": [
        "\r",
        "Alpha: 0.000834  Progress: 97.22%  Words/thread/sec: 9.26k  "
       ]
      },
      {
       "output_type": "stream",
       "stream": "stdout",
       "text": [
        "\r",
        "Alpha: 0.000695  Progress: 97.78%  Words/thread/sec: 9.27k  "
       ]
      },
      {
       "output_type": "stream",
       "stream": "stdout",
       "text": [
        "\r",
        "Alpha: 0.000554  Progress: 98.32%  Words/thread/sec: 9.31k  "
       ]
      },
      {
       "output_type": "stream",
       "stream": "stdout",
       "text": [
        "\r",
        "Alpha: 0.000421  Progress: 98.85%  Words/thread/sec: 9.33k  "
       ]
      },
      {
       "output_type": "stream",
       "stream": "stdout",
       "text": [
        "\r\n",
        "real\t0m58.723s\r\n",
        "user\t3m22.813s\r\n",
        "sys\t0m0.841s\r\n"
       ]
      }
     ],
     "prompt_number": 8
    },
    {
     "cell_type": "markdown",
     "metadata": {},
     "source": [
      "### Build word2vec 500 classes with 25k Ireland pages\n"
     ]
    },
    {
     "cell_type": "code",
     "collapsed": false,
     "input": [
      "!time ~/github/word2vec/bin/word2vec -train ../webstruct_data/experiments/ie-pages-25k.txt -output ../webstruct_data/experiments/ie-pages-25k-classes.txt -cbow 0 -size 200 -window 5 -negative 0 -hs 1 -sample 1e-3 -threads 12 -classes 500\n",
      "!sort ../webstruct_data/experiments/ie-pages-25k-classes.txt -k 2 -n > ../webstruct_data/experiments/ie-25k-classes-500.txt"
     ],
     "language": "python",
     "metadata": {},
     "outputs": [
      {
       "output_type": "stream",
       "stream": "stdout",
       "text": [
        "Starting training using file ../webstruct_data/experiments/ie-pages-25k.txt\r\n"
       ]
      },
      {
       "output_type": "stream",
       "stream": "stdout",
       "text": [
        "100K\r",
        "200K\r"
       ]
      },
      {
       "output_type": "stream",
       "stream": "stdout",
       "text": [
        "300K\r",
        "400K\r",
        "500K\r"
       ]
      },
      {
       "output_type": "stream",
       "stream": "stdout",
       "text": [
        "600K\r",
        "700K\r",
        "800K\r"
       ]
      },
      {
       "output_type": "stream",
       "stream": "stdout",
       "text": [
        "900K\r",
        "1000K\r",
        "1100K\r"
       ]
      },
      {
       "output_type": "stream",
       "stream": "stdout",
       "text": [
        "1200K\r",
        "1300K\r"
       ]
      },
      {
       "output_type": "stream",
       "stream": "stdout",
       "text": [
        "1400K\r",
        "1500K\r"
       ]
      },
      {
       "output_type": "stream",
       "stream": "stdout",
       "text": [
        "1600K\r",
        "1700K\r",
        "1800K\r"
       ]
      },
      {
       "output_type": "stream",
       "stream": "stdout",
       "text": [
        "1900K\r",
        "2000K\r"
       ]
      },
      {
       "output_type": "stream",
       "stream": "stdout",
       "text": [
        "2100K\r",
        "2200K\r",
        "2300K\r"
       ]
      },
      {
       "output_type": "stream",
       "stream": "stdout",
       "text": [
        "2400K\r",
        "2500K\r"
       ]
      },
      {
       "output_type": "stream",
       "stream": "stdout",
       "text": [
        "2600K\r"
       ]
      },
      {
       "output_type": "stream",
       "stream": "stdout",
       "text": [
        "2700K\r",
        "2800K\r",
        "2900K\r"
       ]
      },
      {
       "output_type": "stream",
       "stream": "stdout",
       "text": [
        "3000K\r",
        "3100K\r",
        "3200K\r"
       ]
      },
      {
       "output_type": "stream",
       "stream": "stdout",
       "text": [
        "3300K\r",
        "3400K\r",
        "3500K\r"
       ]
      },
      {
       "output_type": "stream",
       "stream": "stdout",
       "text": [
        "3600K\r",
        "3700K\r",
        "3800K\r"
       ]
      },
      {
       "output_type": "stream",
       "stream": "stdout",
       "text": [
        "3900K\r"
       ]
      },
      {
       "output_type": "stream",
       "stream": "stdout",
       "text": [
        "4000K\r",
        "4100K\r",
        "4200K\r"
       ]
      },
      {
       "output_type": "stream",
       "stream": "stdout",
       "text": [
        "4300K\r",
        "4400K\r",
        "4500K\r"
       ]
      },
      {
       "output_type": "stream",
       "stream": "stdout",
       "text": [
        "4600K\r",
        "4700K\r",
        "4800K\r"
       ]
      },
      {
       "output_type": "stream",
       "stream": "stdout",
       "text": [
        "4900K\r",
        "5000K\r",
        "5100K\r"
       ]
      },
      {
       "output_type": "stream",
       "stream": "stdout",
       "text": [
        "5200K\r"
       ]
      },
      {
       "output_type": "stream",
       "stream": "stdout",
       "text": [
        "5300K\r",
        "5400K\r"
       ]
      },
      {
       "output_type": "stream",
       "stream": "stdout",
       "text": [
        "5500K\r",
        "5600K\r",
        "5700K\r"
       ]
      },
      {
       "output_type": "stream",
       "stream": "stdout",
       "text": [
        "5800K\r",
        "5900K\r"
       ]
      },
      {
       "output_type": "stream",
       "stream": "stdout",
       "text": [
        "6000K\r"
       ]
      },
      {
       "output_type": "stream",
       "stream": "stdout",
       "text": [
        "6100K\r",
        "6200K\r"
       ]
      },
      {
       "output_type": "stream",
       "stream": "stdout",
       "text": [
        "6300K\r",
        "6400K\r"
       ]
      },
      {
       "output_type": "stream",
       "stream": "stdout",
       "text": [
        "6500K\r",
        "6600K\r",
        "6700K\r"
       ]
      },
      {
       "output_type": "stream",
       "stream": "stdout",
       "text": [
        "6800K\r",
        "6900K\r",
        "7000K\r"
       ]
      },
      {
       "output_type": "stream",
       "stream": "stdout",
       "text": [
        "7100K\r",
        "7200K\r",
        "7300K\r"
       ]
      },
      {
       "output_type": "stream",
       "stream": "stdout",
       "text": [
        "7400K\r",
        "7500K\r",
        "7600K\r"
       ]
      },
      {
       "output_type": "stream",
       "stream": "stdout",
       "text": [
        "7700K\r",
        "7800K\r",
        "7900K\r"
       ]
      },
      {
       "output_type": "stream",
       "stream": "stdout",
       "text": [
        "8000K\r",
        "8100K\r",
        "8200K\r"
       ]
      },
      {
       "output_type": "stream",
       "stream": "stdout",
       "text": [
        "8300K\r",
        "8400K\r",
        "8500K\r"
       ]
      },
      {
       "output_type": "stream",
       "stream": "stdout",
       "text": [
        "8600K\r",
        "8700K\r"
       ]
      },
      {
       "output_type": "stream",
       "stream": "stdout",
       "text": [
        "8800K\r"
       ]
      },
      {
       "output_type": "stream",
       "stream": "stdout",
       "text": [
        "8900K\r",
        "9000K\r",
        "9100K\r"
       ]
      },
      {
       "output_type": "stream",
       "stream": "stdout",
       "text": [
        "9200K\r",
        "9300K\r",
        "9400K\r"
       ]
      },
      {
       "output_type": "stream",
       "stream": "stdout",
       "text": [
        "9500K\r",
        "9600K\r",
        "9700K\r"
       ]
      },
      {
       "output_type": "stream",
       "stream": "stdout",
       "text": [
        "9800K\r",
        "9900K\r"
       ]
      },
      {
       "output_type": "stream",
       "stream": "stdout",
       "text": [
        "Vocab size: 78209\r\n",
        "Words in train file: 9555789\r\n"
       ]
      },
      {
       "output_type": "stream",
       "stream": "stdout",
       "text": [
        "\r",
        "Alpha: 0.025000  Progress: 0.11%  Words/thread/sec: 0.91k  "
       ]
      },
      {
       "output_type": "stream",
       "stream": "stdout",
       "text": [
        "\r",
        "Alpha: 0.024972  Progress: 0.22%  Words/thread/sec: 1.74k  \r",
        "Alpha: 0.024945  Progress: 0.33%  Words/thread/sec: 2.59k  \r",
        "Alpha: 0.024918  Progress: 0.44%  Words/thread/sec: 3.43k  \r",
        "Alpha: 0.024891  Progress: 0.55%  Words/thread/sec: 4.27k  "
       ]
      },
      {
       "output_type": "stream",
       "stream": "stdout",
       "text": [
        "\r",
        "Alpha: 0.024864  Progress: 0.66%  Words/thread/sec: 5.14k  \r",
        "Alpha: 0.024835  Progress: 0.77%  Words/thread/sec: 5.95k  \r",
        "Alpha: 0.024808  Progress: 0.87%  Words/thread/sec: 6.75k  "
       ]
      },
      {
       "output_type": "stream",
       "stream": "stdout",
       "text": [
        "\r",
        "Alpha: 0.024782  Progress: 0.98%  Words/thread/sec: 7.53k  \r",
        "Alpha: 0.024755  Progress: 1.09%  Words/thread/sec: 8.33k  \r",
        "Alpha: 0.024728  Progress: 1.19%  Words/thread/sec: 9.09k  "
       ]
      },
      {
       "output_type": "stream",
       "stream": "stdout",
       "text": [
        "\r",
        "Alpha: 0.024702  Progress: 1.30%  Words/thread/sec: 9.83k  "
       ]
      },
      {
       "output_type": "stream",
       "stream": "stdout",
       "text": [
        "\r",
        "Alpha: 0.024675  Progress: 1.41%  Words/thread/sec: 5.33k  "
       ]
      },
      {
       "output_type": "stream",
       "stream": "stdout",
       "text": [
        "\r",
        "Alpha: 0.024647  Progress: 1.52%  Words/thread/sec: 5.71k  \r",
        "Alpha: 0.024620  Progress: 1.63%  Words/thread/sec: 6.11k  \r",
        "Alpha: 0.024593  Progress: 1.74%  Words/thread/sec: 6.52k  \r",
        "Alpha: 0.024565  Progress: 1.85%  Words/thread/sec: 6.91k  "
       ]
      },
      {
       "output_type": "stream",
       "stream": "stdout",
       "text": [
        "\r",
        "Alpha: 0.024539  Progress: 1.95%  Words/thread/sec: 7.26k  "
       ]
      },
      {
       "output_type": "stream",
       "stream": "stdout",
       "text": [
        "\r",
        "Alpha: 0.024511  Progress: 2.06%  Words/thread/sec: 7.64k  \r",
        "Alpha: 0.024484  Progress: 2.18%  Words/thread/sec: 8.05k  "
       ]
      },
      {
       "output_type": "stream",
       "stream": "stdout",
       "text": [
        "\r",
        "Alpha: 0.024456  Progress: 2.28%  Words/thread/sec: 8.38k  "
       ]
      },
      {
       "output_type": "stream",
       "stream": "stdout",
       "text": [
        "\r",
        "Alpha: 0.024429  Progress: 2.39%  Words/thread/sec: 8.68k  "
       ]
      },
      {
       "output_type": "stream",
       "stream": "stdout",
       "text": [
        "\r",
        "Alpha: 0.024402  Progress: 2.50%  Words/thread/sec: 9.01k  "
       ]
      },
      {
       "output_type": "stream",
       "stream": "stdout",
       "text": [
        "\r",
        "Alpha: 0.024375  Progress: 2.61%  Words/thread/sec: 9.28k  "
       ]
      },
      {
       "output_type": "stream",
       "stream": "stdout",
       "text": [
        "\r",
        "Alpha: 0.024349  Progress: 2.72%  Words/thread/sec: 6.73k  "
       ]
      },
      {
       "output_type": "stream",
       "stream": "stdout",
       "text": [
        "\r",
        "Alpha: 0.024321  Progress: 2.82%  Words/thread/sec: 6.96k  "
       ]
      },
      {
       "output_type": "stream",
       "stream": "stdout",
       "text": [
        "\r",
        "Alpha: 0.024294  Progress: 2.93%  Words/thread/sec: 7.21k  \r",
        "Alpha: 0.024267  Progress: 3.04%  Words/thread/sec: 7.47k  "
       ]
      },
      {
       "output_type": "stream",
       "stream": "stdout",
       "text": [
        "\r",
        "Alpha: 0.024240  Progress: 3.15%  Words/thread/sec: 7.69k  "
       ]
      },
      {
       "output_type": "stream",
       "stream": "stdout",
       "text": [
        "\r",
        "Alpha: 0.024213  Progress: 3.26%  Words/thread/sec: 7.94k  \r",
        "Alpha: 0.024185  Progress: 3.37%  Words/thread/sec: 8.19k  "
       ]
      },
      {
       "output_type": "stream",
       "stream": "stdout",
       "text": [
        "\r",
        "Alpha: 0.024158  Progress: 3.48%  Words/thread/sec: 8.41k  "
       ]
      },
      {
       "output_type": "stream",
       "stream": "stdout",
       "text": [
        "\r",
        "Alpha: 0.024130  Progress: 3.59%  Words/thread/sec: 8.62k  "
       ]
      },
      {
       "output_type": "stream",
       "stream": "stdout",
       "text": [
        "\r",
        "Alpha: 0.024103  Progress: 3.69%  Words/thread/sec: 8.77k  "
       ]
      },
      {
       "output_type": "stream",
       "stream": "stdout",
       "text": [
        "\r",
        "Alpha: 0.024076  Progress: 3.80%  Words/thread/sec: 8.97k  \r",
        "Alpha: 0.024049  Progress: 3.91%  Words/thread/sec: 9.20k  "
       ]
      },
      {
       "output_type": "stream",
       "stream": "stdout",
       "text": [
        "\r",
        "Alpha: 0.024023  Progress: 4.02%  Words/thread/sec: 7.40k  "
       ]
      },
      {
       "output_type": "stream",
       "stream": "stdout",
       "text": [
        "\r",
        "Alpha: 0.023996  Progress: 4.12%  Words/thread/sec: 7.55k  \r",
        "Alpha: 0.023969  Progress: 4.23%  Words/thread/sec: 7.74k  \r",
        "Alpha: 0.023941  Progress: 4.35%  Words/thread/sec: 7.94k  "
       ]
      },
      {
       "output_type": "stream",
       "stream": "stdout",
       "text": [
        "\r",
        "Alpha: 0.023913  Progress: 4.45%  Words/thread/sec: 8.09k  "
       ]
      },
      {
       "output_type": "stream",
       "stream": "stdout",
       "text": [
        "\r",
        "Alpha: 0.023886  Progress: 4.56%  Words/thread/sec: 8.24k  "
       ]
      },
      {
       "output_type": "stream",
       "stream": "stdout",
       "text": [
        "\r",
        "Alpha: 0.023859  Progress: 4.67%  Words/thread/sec: 8.37k  "
       ]
      },
      {
       "output_type": "stream",
       "stream": "stdout",
       "text": [
        "\r",
        "Alpha: 0.023833  Progress: 4.78%  Words/thread/sec: 8.52k  \r",
        "Alpha: 0.023806  Progress: 4.89%  Words/thread/sec: 8.71k  "
       ]
      },
      {
       "output_type": "stream",
       "stream": "stdout",
       "text": [
        "\r",
        "Alpha: 0.023779  Progress: 4.99%  Words/thread/sec: 8.85k  "
       ]
      },
      {
       "output_type": "stream",
       "stream": "stdout",
       "text": [
        "\r",
        "Alpha: 0.023752  Progress: 5.10%  Words/thread/sec: 8.98k  "
       ]
      },
      {
       "output_type": "stream",
       "stream": "stdout",
       "text": [
        "\r",
        "Alpha: 0.023725  Progress: 5.21%  Words/thread/sec: 9.11k  "
       ]
      },
      {
       "output_type": "stream",
       "stream": "stdout",
       "text": [
        "\r",
        "Alpha: 0.023698  Progress: 5.32%  Words/thread/sec: 7.81k  "
       ]
      },
      {
       "output_type": "stream",
       "stream": "stdout",
       "text": [
        "\r",
        "Alpha: 0.023671  Progress: 5.43%  Words/thread/sec: 7.95k  "
       ]
      },
      {
       "output_type": "stream",
       "stream": "stdout",
       "text": [
        "\r",
        "Alpha: 0.023642  Progress: 5.54%  Words/thread/sec: 8.08k  "
       ]
      },
      {
       "output_type": "stream",
       "stream": "stdout",
       "text": [
        "\r",
        "Alpha: 0.023615  Progress: 5.65%  Words/thread/sec: 8.17k  "
       ]
      },
      {
       "output_type": "stream",
       "stream": "stdout",
       "text": [
        "\r",
        "Alpha: 0.023588  Progress: 5.76%  Words/thread/sec: 8.29k  "
       ]
      },
      {
       "output_type": "stream",
       "stream": "stdout",
       "text": [
        "\r",
        "Alpha: 0.023561  Progress: 5.86%  Words/thread/sec: 8.40k  "
       ]
      },
      {
       "output_type": "stream",
       "stream": "stdout",
       "text": [
        "\r",
        "Alpha: 0.023534  Progress: 5.97%  Words/thread/sec: 8.44k  "
       ]
      },
      {
       "output_type": "stream",
       "stream": "stdout",
       "text": [
        "\r",
        "Alpha: 0.023507  Progress: 6.08%  Words/thread/sec: 8.59k  \r",
        "Alpha: 0.023480  Progress: 6.19%  Words/thread/sec: 8.72k  "
       ]
      },
      {
       "output_type": "stream",
       "stream": "stdout",
       "text": [
        "\r",
        "Alpha: 0.023453  Progress: 6.30%  Words/thread/sec: 8.85k  "
       ]
      },
      {
       "output_type": "stream",
       "stream": "stdout",
       "text": [
        "\r",
        "Alpha: 0.023426  Progress: 6.41%  Words/thread/sec: 8.96k  "
       ]
      },
      {
       "output_type": "stream",
       "stream": "stdout",
       "text": [
        "\r",
        "Alpha: 0.023399  Progress: 6.51%  Words/thread/sec: 9.06k  "
       ]
      },
      {
       "output_type": "stream",
       "stream": "stdout",
       "text": [
        "\r",
        "Alpha: 0.023372  Progress: 6.62%  Words/thread/sec: 8.03k  \r",
        "Alpha: 0.023345  Progress: 6.73%  Words/thread/sec: 8.16k  "
       ]
      },
      {
       "output_type": "stream",
       "stream": "stdout",
       "text": [
        "\r",
        "Alpha: 0.023317  Progress: 6.84%  Words/thread/sec: 8.25k  "
       ]
      },
      {
       "output_type": "stream",
       "stream": "stdout",
       "text": [
        "\r",
        "Alpha: 0.023291  Progress: 6.95%  Words/thread/sec: 8.35k  "
       ]
      },
      {
       "output_type": "stream",
       "stream": "stdout",
       "text": [
        "\r",
        "Alpha: 0.023263  Progress: 7.05%  Words/thread/sec: 8.44k  "
       ]
      },
      {
       "output_type": "stream",
       "stream": "stdout",
       "text": [
        "\r",
        "Alpha: 0.023237  Progress: 7.16%  Words/thread/sec: 8.52k  "
       ]
      },
      {
       "output_type": "stream",
       "stream": "stdout",
       "text": [
        "\r",
        "Alpha: 0.023210  Progress: 7.27%  Words/thread/sec: 8.54k  "
       ]
      },
      {
       "output_type": "stream",
       "stream": "stdout",
       "text": [
        "\r",
        "Alpha: 0.023183  Progress: 7.38%  Words/thread/sec: 8.65k  "
       ]
      },
      {
       "output_type": "stream",
       "stream": "stdout",
       "text": [
        "\r",
        "Alpha: 0.023156  Progress: 7.48%  Words/thread/sec: 8.76k  "
       ]
      },
      {
       "output_type": "stream",
       "stream": "stdout",
       "text": [
        "\r",
        "Alpha: 0.023130  Progress: 7.59%  Words/thread/sec: 8.87k  \r",
        "Alpha: 0.023103  Progress: 7.70%  Words/thread/sec: 8.98k  "
       ]
      },
      {
       "output_type": "stream",
       "stream": "stdout",
       "text": [
        "\r",
        "Alpha: 0.023075  Progress: 7.81%  Words/thread/sec: 9.04k  "
       ]
      },
      {
       "output_type": "stream",
       "stream": "stdout",
       "text": [
        "\r",
        "Alpha: 0.023049  Progress: 7.92%  Words/thread/sec: 8.22k  "
       ]
      },
      {
       "output_type": "stream",
       "stream": "stdout",
       "text": [
        "\r",
        "Alpha: 0.023021  Progress: 8.03%  Words/thread/sec: 8.28k  "
       ]
      },
      {
       "output_type": "stream",
       "stream": "stdout",
       "text": [
        "\r",
        "Alpha: 0.022994  Progress: 8.13%  Words/thread/sec: 8.38k  "
       ]
      },
      {
       "output_type": "stream",
       "stream": "stdout",
       "text": [
        "\r",
        "Alpha: 0.022967  Progress: 8.24%  Words/thread/sec: 8.41k  \r",
        "Alpha: 0.022940  Progress: 8.35%  Words/thread/sec: 8.51k  "
       ]
      },
      {
       "output_type": "stream",
       "stream": "stdout",
       "text": [
        "\r",
        "Alpha: 0.022914  Progress: 8.45%  Words/thread/sec: 8.62k  "
       ]
      },
      {
       "output_type": "stream",
       "stream": "stdout",
       "text": [
        "\r",
        "Alpha: 0.022887  Progress: 8.56%  Words/thread/sec: 8.60k  \r",
        "Alpha: 0.022860  Progress: 8.67%  Words/thread/sec: 8.70k  \r",
        "Alpha: 0.022833  Progress: 8.78%  Words/thread/sec: 8.81k  "
       ]
      },
      {
       "output_type": "stream",
       "stream": "stdout",
       "text": [
        "\r",
        "Alpha: 0.022805  Progress: 8.89%  Words/thread/sec: 8.90k  "
       ]
      },
      {
       "output_type": "stream",
       "stream": "stdout",
       "text": [
        "\r",
        "Alpha: 0.022778  Progress: 9.00%  Words/thread/sec: 8.97k  "
       ]
      },
      {
       "output_type": "stream",
       "stream": "stdout",
       "text": [
        "\r",
        "Alpha: 0.022751  Progress: 9.10%  Words/thread/sec: 9.06k  "
       ]
      },
      {
       "output_type": "stream",
       "stream": "stdout",
       "text": [
        "\r",
        "Alpha: 0.022724  Progress: 9.21%  Words/thread/sec: 8.35k  "
       ]
      },
      {
       "output_type": "stream",
       "stream": "stdout",
       "text": [
        "\r",
        "Alpha: 0.022697  Progress: 9.32%  Words/thread/sec: 8.37k  \r",
        "Alpha: 0.022670  Progress: 9.43%  Words/thread/sec: 8.46k  "
       ]
      },
      {
       "output_type": "stream",
       "stream": "stdout",
       "text": [
        "\r",
        "Alpha: 0.022642  Progress: 9.54%  Words/thread/sec: 8.48k  \r",
        "Alpha: 0.022616  Progress: 9.64%  Words/thread/sec: 8.58k  "
       ]
      },
      {
       "output_type": "stream",
       "stream": "stdout",
       "text": [
        "\r",
        "Alpha: 0.022589  Progress: 9.75%  Words/thread/sec: 8.64k  "
       ]
      },
      {
       "output_type": "stream",
       "stream": "stdout",
       "text": [
        "\r",
        "Alpha: 0.022563  Progress: 9.86%  Words/thread/sec: 8.66k  "
       ]
      },
      {
       "output_type": "stream",
       "stream": "stdout",
       "text": [
        "\r",
        "Alpha: 0.022536  Progress: 9.97%  Words/thread/sec: 8.75k  "
       ]
      },
      {
       "output_type": "stream",
       "stream": "stdout",
       "text": [
        "\r",
        "Alpha: 0.022508  Progress: 10.07%  Words/thread/sec: 8.81k  \r",
        "Alpha: 0.022481  Progress: 10.18%  Words/thread/sec: 8.90k  "
       ]
      },
      {
       "output_type": "stream",
       "stream": "stdout",
       "text": [
        "\r",
        "Alpha: 0.022455  Progress: 10.29%  Words/thread/sec: 8.97k  "
       ]
      },
      {
       "output_type": "stream",
       "stream": "stdout",
       "text": [
        "\r",
        "Alpha: 0.022428  Progress: 10.39%  Words/thread/sec: 9.03k  "
       ]
      },
      {
       "output_type": "stream",
       "stream": "stdout",
       "text": [
        "\r",
        "Alpha: 0.022402  Progress: 10.50%  Words/thread/sec: 8.43k  "
       ]
      },
      {
       "output_type": "stream",
       "stream": "stdout",
       "text": [
        "\r",
        "Alpha: 0.022374  Progress: 10.61%  Words/thread/sec: 8.45k  "
       ]
      },
      {
       "output_type": "stream",
       "stream": "stdout",
       "text": [
        "\r",
        "Alpha: 0.022347  Progress: 10.72%  Words/thread/sec: 8.51k  "
       ]
      },
      {
       "output_type": "stream",
       "stream": "stdout",
       "text": [
        "\r",
        "Alpha: 0.022320  Progress: 10.82%  Words/thread/sec: 8.54k  "
       ]
      },
      {
       "output_type": "stream",
       "stream": "stdout",
       "text": [
        "\r",
        "Alpha: 0.022294  Progress: 10.93%  Words/thread/sec: 8.60k  "
       ]
      },
      {
       "output_type": "stream",
       "stream": "stdout",
       "text": [
        "\r",
        "Alpha: 0.022267  Progress: 11.04%  Words/thread/sec: 8.64k  "
       ]
      },
      {
       "output_type": "stream",
       "stream": "stdout",
       "text": [
        "\r",
        "Alpha: 0.022240  Progress: 11.15%  Words/thread/sec: 8.69k  "
       ]
      },
      {
       "output_type": "stream",
       "stream": "stdout",
       "text": [
        "\r",
        "Alpha: 0.022213  Progress: 11.25%  Words/thread/sec: 8.74k  "
       ]
      },
      {
       "output_type": "stream",
       "stream": "stdout",
       "text": [
        "\r",
        "Alpha: 0.022187  Progress: 11.36%  Words/thread/sec: 8.81k  \r",
        "Alpha: 0.022160  Progress: 11.47%  Words/thread/sec: 8.89k  "
       ]
      },
      {
       "output_type": "stream",
       "stream": "stdout",
       "text": [
        "\r",
        "Alpha: 0.022133  Progress: 11.57%  Words/thread/sec: 8.97k  "
       ]
      },
      {
       "output_type": "stream",
       "stream": "stdout",
       "text": [
        "\r",
        "Alpha: 0.022106  Progress: 11.68%  Words/thread/sec: 8.99k  "
       ]
      },
      {
       "output_type": "stream",
       "stream": "stdout",
       "text": [
        "\r",
        "Alpha: 0.022080  Progress: 11.79%  Words/thread/sec: 8.49k  "
       ]
      },
      {
       "output_type": "stream",
       "stream": "stdout",
       "text": [
        "\r",
        "Alpha: 0.022052  Progress: 11.90%  Words/thread/sec: 8.52k  "
       ]
      },
      {
       "output_type": "stream",
       "stream": "stdout",
       "text": [
        "\r",
        "Alpha: 0.022025  Progress: 12.01%  Words/thread/sec: 8.56k  "
       ]
      },
      {
       "output_type": "stream",
       "stream": "stdout",
       "text": [
        "\r",
        "Alpha: 0.021998  Progress: 12.11%  Words/thread/sec: 8.54k  "
       ]
      },
      {
       "output_type": "stream",
       "stream": "stdout",
       "text": [
        "\r",
        "Alpha: 0.021971  Progress: 12.22%  Words/thread/sec: 8.58k  \r",
        "Alpha: 0.021945  Progress: 12.33%  Words/thread/sec: 8.66k  "
       ]
      },
      {
       "output_type": "stream",
       "stream": "stdout",
       "text": [
        "\r",
        "Alpha: 0.021917  Progress: 12.44%  Words/thread/sec: 8.69k  \r",
        "Alpha: 0.021891  Progress: 12.55%  Words/thread/sec: 8.76k  "
       ]
      },
      {
       "output_type": "stream",
       "stream": "stdout",
       "text": [
        "\r",
        "Alpha: 0.021862  Progress: 12.66%  Words/thread/sec: 8.83k  \r",
        "Alpha: 0.021835  Progress: 12.76%  Words/thread/sec: 8.90k  "
       ]
      },
      {
       "output_type": "stream",
       "stream": "stdout",
       "text": [
        "\r",
        "Alpha: 0.021809  Progress: 12.87%  Words/thread/sec: 8.95k  "
       ]
      },
      {
       "output_type": "stream",
       "stream": "stdout",
       "text": [
        "\r",
        "Alpha: 0.021782  Progress: 12.98%  Words/thread/sec: 8.99k  "
       ]
      },
      {
       "output_type": "stream",
       "stream": "stdout",
       "text": [
        "\r",
        "Alpha: 0.021755  Progress: 13.09%  Words/thread/sec: 8.56k  "
       ]
      },
      {
       "output_type": "stream",
       "stream": "stdout",
       "text": [
        "\r",
        "Alpha: 0.021728  Progress: 13.20%  Words/thread/sec: 8.58k  "
       ]
      },
      {
       "output_type": "stream",
       "stream": "stdout",
       "text": [
        "\r",
        "Alpha: 0.021701  Progress: 13.30%  Words/thread/sec: 8.58k  "
       ]
      },
      {
       "output_type": "stream",
       "stream": "stdout",
       "text": [
        "\r",
        "Alpha: 0.021675  Progress: 13.41%  Words/thread/sec: 8.57k  "
       ]
      },
      {
       "output_type": "stream",
       "stream": "stdout",
       "text": [
        "\r",
        "Alpha: 0.021648  Progress: 13.51%  Words/thread/sec: 8.62k  "
       ]
      },
      {
       "output_type": "stream",
       "stream": "stdout",
       "text": [
        "\r",
        "Alpha: 0.021621  Progress: 13.62%  Words/thread/sec: 8.66k  "
       ]
      },
      {
       "output_type": "stream",
       "stream": "stdout",
       "text": [
        "\r",
        "Alpha: 0.021595  Progress: 13.73%  Words/thread/sec: 8.71k  \r",
        "Alpha: 0.021568  Progress: 13.83%  Words/thread/sec: 8.78k  "
       ]
      },
      {
       "output_type": "stream",
       "stream": "stdout",
       "text": [
        "\r",
        "Alpha: 0.021542  Progress: 13.94%  Words/thread/sec: 8.82k  "
       ]
      },
      {
       "output_type": "stream",
       "stream": "stdout",
       "text": [
        "\r",
        "Alpha: 0.021515  Progress: 14.05%  Words/thread/sec: 8.86k  "
       ]
      },
      {
       "output_type": "stream",
       "stream": "stdout",
       "text": [
        "\r",
        "Alpha: 0.021488  Progress: 14.15%  Words/thread/sec: 8.90k  "
       ]
      },
      {
       "output_type": "stream",
       "stream": "stdout",
       "text": [
        "\r",
        "Alpha: 0.021461  Progress: 14.27%  Words/thread/sec: 8.93k  "
       ]
      },
      {
       "output_type": "stream",
       "stream": "stdout",
       "text": [
        "\r",
        "Alpha: 0.021432  Progress: 14.38%  Words/thread/sec: 8.61k  "
       ]
      },
      {
       "output_type": "stream",
       "stream": "stdout",
       "text": [
        "\r",
        "Alpha: 0.021405  Progress: 14.49%  Words/thread/sec: 8.59k  "
       ]
      },
      {
       "output_type": "stream",
       "stream": "stdout",
       "text": [
        "\r",
        "Alpha: 0.021378  Progress: 14.59%  Words/thread/sec: 8.60k  "
       ]
      },
      {
       "output_type": "stream",
       "stream": "stdout",
       "text": [
        "\r",
        "Alpha: 0.021351  Progress: 14.70%  Words/thread/sec: 8.59k  \r",
        "Alpha: 0.021325  Progress: 14.81%  Words/thread/sec: 8.65k  "
       ]
      },
      {
       "output_type": "stream",
       "stream": "stdout",
       "text": [
        "\r",
        "Alpha: 0.021298  Progress: 14.91%  Words/thread/sec: 8.69k  \r",
        "Alpha: 0.021272  Progress: 15.02%  Words/thread/sec: 8.74k  "
       ]
      },
      {
       "output_type": "stream",
       "stream": "stdout",
       "text": [
        "\r",
        "Alpha: 0.021245  Progress: 15.12%  Words/thread/sec: 8.79k  "
       ]
      },
      {
       "output_type": "stream",
       "stream": "stdout",
       "text": [
        "\r",
        "Alpha: 0.021219  Progress: 15.23%  Words/thread/sec: 8.81k  "
       ]
      },
      {
       "output_type": "stream",
       "stream": "stdout",
       "text": [
        "\r",
        "Alpha: 0.021192  Progress: 15.34%  Words/thread/sec: 8.85k  "
       ]
      },
      {
       "output_type": "stream",
       "stream": "stdout",
       "text": [
        "\r",
        "Alpha: 0.021166  Progress: 15.44%  Words/thread/sec: 8.89k  "
       ]
      },
      {
       "output_type": "stream",
       "stream": "stdout",
       "text": [
        "\r",
        "Alpha: 0.021139  Progress: 15.55%  Words/thread/sec: 8.91k  "
       ]
      },
      {
       "output_type": "stream",
       "stream": "stdout",
       "text": [
        "\r",
        "Alpha: 0.021112  Progress: 15.66%  Words/thread/sec: 8.63k  "
       ]
      },
      {
       "output_type": "stream",
       "stream": "stdout",
       "text": [
        "\r",
        "Alpha: 0.021085  Progress: 15.77%  Words/thread/sec: 8.62k  "
       ]
      },
      {
       "output_type": "stream",
       "stream": "stdout",
       "text": [
        "\r",
        "Alpha: 0.021058  Progress: 15.87%  Words/thread/sec: 8.62k  "
       ]
      },
      {
       "output_type": "stream",
       "stream": "stdout",
       "text": [
        "\r",
        "Alpha: 0.021031  Progress: 15.98%  Words/thread/sec: 8.62k  "
       ]
      },
      {
       "output_type": "stream",
       "stream": "stdout",
       "text": [
        "\r",
        "Alpha: 0.021004  Progress: 16.09%  Words/thread/sec: 8.67k  "
       ]
      },
      {
       "output_type": "stream",
       "stream": "stdout",
       "text": [
        "\r",
        "Alpha: 0.020978  Progress: 16.20%  Words/thread/sec: 8.70k  "
       ]
      },
      {
       "output_type": "stream",
       "stream": "stdout",
       "text": [
        "\r",
        "Alpha: 0.020951  Progress: 16.30%  Words/thread/sec: 8.75k  \r",
        "Alpha: 0.020924  Progress: 16.41%  Words/thread/sec: 8.80k  "
       ]
      },
      {
       "output_type": "stream",
       "stream": "stdout",
       "text": [
        "\r",
        "Alpha: 0.020898  Progress: 16.52%  Words/thread/sec: 8.82k  "
       ]
      },
      {
       "output_type": "stream",
       "stream": "stdout",
       "text": [
        "\r",
        "Alpha: 0.020871  Progress: 16.62%  Words/thread/sec: 8.86k  "
       ]
      },
      {
       "output_type": "stream",
       "stream": "stdout",
       "text": [
        "\r",
        "Alpha: 0.020844  Progress: 16.73%  Words/thread/sec: 8.89k  "
       ]
      },
      {
       "output_type": "stream",
       "stream": "stdout",
       "text": [
        "\r",
        "Alpha: 0.020818  Progress: 16.84%  Words/thread/sec: 8.90k  "
       ]
      },
      {
       "output_type": "stream",
       "stream": "stdout",
       "text": [
        "\r",
        "Alpha: 0.020791  Progress: 16.95%  Words/thread/sec: 8.67k  "
       ]
      },
      {
       "output_type": "stream",
       "stream": "stdout",
       "text": [
        "\r",
        "Alpha: 0.020764  Progress: 17.05%  Words/thread/sec: 8.65k  "
       ]
      },
      {
       "output_type": "stream",
       "stream": "stdout",
       "text": [
        "\r",
        "Alpha: 0.020736  Progress: 17.16%  Words/thread/sec: 8.63k  "
       ]
      },
      {
       "output_type": "stream",
       "stream": "stdout",
       "text": [
        "\r",
        "Alpha: 0.020710  Progress: 17.27%  Words/thread/sec: 8.64k  "
       ]
      },
      {
       "output_type": "stream",
       "stream": "stdout",
       "text": [
        "\r",
        "Alpha: 0.020683  Progress: 17.38%  Words/thread/sec: 8.68k  "
       ]
      },
      {
       "output_type": "stream",
       "stream": "stdout",
       "text": [
        "\r",
        "Alpha: 0.020656  Progress: 17.48%  Words/thread/sec: 8.72k  "
       ]
      },
      {
       "output_type": "stream",
       "stream": "stdout",
       "text": [
        "\r",
        "Alpha: 0.020629  Progress: 17.59%  Words/thread/sec: 8.76k  "
       ]
      },
      {
       "output_type": "stream",
       "stream": "stdout",
       "text": [
        "\r",
        "Alpha: 0.020602  Progress: 17.70%  Words/thread/sec: 8.81k  "
       ]
      },
      {
       "output_type": "stream",
       "stream": "stdout",
       "text": [
        "\r",
        "Alpha: 0.020575  Progress: 17.81%  Words/thread/sec: 8.81k  "
       ]
      },
      {
       "output_type": "stream",
       "stream": "stdout",
       "text": [
        "\r",
        "Alpha: 0.020549  Progress: 17.91%  Words/thread/sec: 8.84k  "
       ]
      },
      {
       "output_type": "stream",
       "stream": "stdout",
       "text": [
        "\r",
        "Alpha: 0.020522  Progress: 18.02%  Words/thread/sec: 8.87k  "
       ]
      },
      {
       "output_type": "stream",
       "stream": "stdout",
       "text": [
        "\r",
        "Alpha: 0.020496  Progress: 18.12%  Words/thread/sec: 8.90k  "
       ]
      },
      {
       "output_type": "stream",
       "stream": "stdout",
       "text": [
        "\r",
        "Alpha: 0.020469  Progress: 18.23%  Words/thread/sec: 8.69k  "
       ]
      },
      {
       "output_type": "stream",
       "stream": "stdout",
       "text": [
        "\r",
        "Alpha: 0.020442  Progress: 18.34%  Words/thread/sec: 8.69k  "
       ]
      },
      {
       "output_type": "stream",
       "stream": "stdout",
       "text": [
        "\r",
        "Alpha: 0.020415  Progress: 18.45%  Words/thread/sec: 8.70k  "
       ]
      },
      {
       "output_type": "stream",
       "stream": "stdout",
       "text": [
        "\r",
        "Alpha: 0.020389  Progress: 18.55%  Words/thread/sec: 8.66k  "
       ]
      },
      {
       "output_type": "stream",
       "stream": "stdout",
       "text": [
        "\r",
        "Alpha: 0.020361  Progress: 18.66%  Words/thread/sec: 8.71k  "
       ]
      },
      {
       "output_type": "stream",
       "stream": "stdout",
       "text": [
        "\r",
        "Alpha: 0.020334  Progress: 18.77%  Words/thread/sec: 8.75k  "
       ]
      },
      {
       "output_type": "stream",
       "stream": "stdout",
       "text": [
        "\r",
        "Alpha: 0.020307  Progress: 18.88%  Words/thread/sec: 8.71k  "
       ]
      },
      {
       "output_type": "stream",
       "stream": "stdout",
       "text": [
        "\r",
        "Alpha: 0.020281  Progress: 18.99%  Words/thread/sec: 8.76k  "
       ]
      },
      {
       "output_type": "stream",
       "stream": "stdout",
       "text": [
        "\r",
        "Alpha: 0.020252  Progress: 19.10%  Words/thread/sec: 8.79k  \r",
        "Alpha: 0.020225  Progress: 19.22%  Words/thread/sec: 8.84k  "
       ]
      },
      {
       "output_type": "stream",
       "stream": "stdout",
       "text": [
        "\r",
        "Alpha: 0.020196  Progress: 19.32%  Words/thread/sec: 8.87k  "
       ]
      },
      {
       "output_type": "stream",
       "stream": "stdout",
       "text": [
        "\r",
        "Alpha: 0.020170  Progress: 19.43%  Words/thread/sec: 8.90k  "
       ]
      },
      {
       "output_type": "stream",
       "stream": "stdout",
       "text": [
        "\r",
        "Alpha: 0.020143  Progress: 19.54%  Words/thread/sec: 8.72k  "
       ]
      },
      {
       "output_type": "stream",
       "stream": "stdout",
       "text": [
        "\r",
        "Alpha: 0.020116  Progress: 19.65%  Words/thread/sec: 8.73k  "
       ]
      },
      {
       "output_type": "stream",
       "stream": "stdout",
       "text": [
        "\r",
        "Alpha: 0.020088  Progress: 19.76%  Words/thread/sec: 8.72k  "
       ]
      },
      {
       "output_type": "stream",
       "stream": "stdout",
       "text": [
        "\r",
        "Alpha: 0.020061  Progress: 19.86%  Words/thread/sec: 8.70k  \r",
        "Alpha: 0.020034  Progress: 19.97%  Words/thread/sec: 8.74k  "
       ]
      },
      {
       "output_type": "stream",
       "stream": "stdout",
       "text": [
        "\r",
        "Alpha: 0.020008  Progress: 20.08%  Words/thread/sec: 8.78k  "
       ]
      },
      {
       "output_type": "stream",
       "stream": "stdout",
       "text": [
        "\r",
        "Alpha: 0.019980  Progress: 20.19%  Words/thread/sec: 8.74k  "
       ]
      },
      {
       "output_type": "stream",
       "stream": "stdout",
       "text": [
        "\r",
        "Alpha: 0.019953  Progress: 20.29%  Words/thread/sec: 8.79k  "
       ]
      },
      {
       "output_type": "stream",
       "stream": "stdout",
       "text": [
        "\r",
        "Alpha: 0.019926  Progress: 20.40%  Words/thread/sec: 8.81k  "
       ]
      },
      {
       "output_type": "stream",
       "stream": "stdout",
       "text": [
        "\r",
        "Alpha: 0.019900  Progress: 20.51%  Words/thread/sec: 8.83k  "
       ]
      },
      {
       "output_type": "stream",
       "stream": "stdout",
       "text": [
        "\r",
        "Alpha: 0.019873  Progress: 20.62%  Words/thread/sec: 8.87k  "
       ]
      },
      {
       "output_type": "stream",
       "stream": "stdout",
       "text": [
        "\r",
        "Alpha: 0.019846  Progress: 20.73%  Words/thread/sec: 8.89k  "
       ]
      },
      {
       "output_type": "stream",
       "stream": "stdout",
       "text": [
        "\r",
        "Alpha: 0.019817  Progress: 20.84%  Words/thread/sec: 8.74k  "
       ]
      },
      {
       "output_type": "stream",
       "stream": "stdout",
       "text": [
        "\r",
        "Alpha: 0.019790  Progress: 20.95%  Words/thread/sec: 8.78k  "
       ]
      },
      {
       "output_type": "stream",
       "stream": "stdout",
       "text": [
        "\r",
        "Alpha: 0.019762  Progress: 21.06%  Words/thread/sec: 8.75k  "
       ]
      },
      {
       "output_type": "stream",
       "stream": "stdout",
       "text": [
        "\r",
        "Alpha: 0.019735  Progress: 21.17%  Words/thread/sec: 8.74k  "
       ]
      },
      {
       "output_type": "stream",
       "stream": "stdout",
       "text": [
        "\r",
        "Alpha: 0.019708  Progress: 21.27%  Words/thread/sec: 8.76k  "
       ]
      },
      {
       "output_type": "stream",
       "stream": "stdout",
       "text": [
        "\r",
        "Alpha: 0.019681  Progress: 21.38%  Words/thread/sec: 8.80k  "
       ]
      },
      {
       "output_type": "stream",
       "stream": "stdout",
       "text": [
        "\r",
        "Alpha: 0.019654  Progress: 21.49%  Words/thread/sec: 8.76k  "
       ]
      },
      {
       "output_type": "stream",
       "stream": "stdout",
       "text": [
        "\r",
        "Alpha: 0.019628  Progress: 21.59%  Words/thread/sec: 8.77k  "
       ]
      },
      {
       "output_type": "stream",
       "stream": "stdout",
       "text": [
        "\r",
        "Alpha: 0.019601  Progress: 21.70%  Words/thread/sec: 8.81k  "
       ]
      },
      {
       "output_type": "stream",
       "stream": "stdout",
       "text": [
        "\r",
        "Alpha: 0.019575  Progress: 21.81%  Words/thread/sec: 8.83k  "
       ]
      },
      {
       "output_type": "stream",
       "stream": "stdout",
       "text": [
        "\r",
        "Alpha: 0.019548  Progress: 21.93%  Words/thread/sec: 8.86k  "
       ]
      },
      {
       "output_type": "stream",
       "stream": "stdout",
       "text": [
        "\r",
        "Alpha: 0.019519  Progress: 22.04%  Words/thread/sec: 8.83k  "
       ]
      },
      {
       "output_type": "stream",
       "stream": "stdout",
       "text": [
        "\r",
        "Alpha: 0.019490  Progress: 22.15%  Words/thread/sec: 8.78k  "
       ]
      },
      {
       "output_type": "stream",
       "stream": "stdout",
       "text": [
        "\r",
        "Alpha: 0.019463  Progress: 22.25%  Words/thread/sec: 8.79k  "
       ]
      },
      {
       "output_type": "stream",
       "stream": "stdout",
       "text": [
        "\r",
        "Alpha: 0.019437  Progress: 22.36%  Words/thread/sec: 8.76k  "
       ]
      },
      {
       "output_type": "stream",
       "stream": "stdout",
       "text": [
        "\r",
        "Alpha: 0.019410  Progress: 22.47%  Words/thread/sec: 8.75k  "
       ]
      },
      {
       "output_type": "stream",
       "stream": "stdout",
       "text": [
        "\r",
        "Alpha: 0.019383  Progress: 22.58%  Words/thread/sec: 8.79k  "
       ]
      },
      {
       "output_type": "stream",
       "stream": "stdout",
       "text": [
        "\r",
        "Alpha: 0.019355  Progress: 22.69%  Words/thread/sec: 8.81k  "
       ]
      },
      {
       "output_type": "stream",
       "stream": "stdout",
       "text": [
        "\r",
        "Alpha: 0.019328  Progress: 22.80%  Words/thread/sec: 8.79k  "
       ]
      },
      {
       "output_type": "stream",
       "stream": "stdout",
       "text": [
        "\r",
        "Alpha: 0.019300  Progress: 22.91%  Words/thread/sec: 8.79k  "
       ]
      },
      {
       "output_type": "stream",
       "stream": "stdout",
       "text": [
        "\r",
        "Alpha: 0.019273  Progress: 23.01%  Words/thread/sec: 8.83k  "
       ]
      },
      {
       "output_type": "stream",
       "stream": "stdout",
       "text": [
        "\r",
        "Alpha: 0.019247  Progress: 23.12%  Words/thread/sec: 8.85k  "
       ]
      },
      {
       "output_type": "stream",
       "stream": "stdout",
       "text": [
        "\r",
        "Alpha: 0.019220  Progress: 23.23%  Words/thread/sec: 8.80k  "
       ]
      },
      {
       "output_type": "stream",
       "stream": "stdout",
       "text": [
        "\r",
        "Alpha: 0.019191  Progress: 23.35%  Words/thread/sec: 8.79k  "
       ]
      },
      {
       "output_type": "stream",
       "stream": "stdout",
       "text": [
        "\r",
        "Alpha: 0.019163  Progress: 23.46%  Words/thread/sec: 8.80k  "
       ]
      },
      {
       "output_type": "stream",
       "stream": "stdout",
       "text": [
        "\r",
        "Alpha: 0.019135  Progress: 23.57%  Words/thread/sec: 8.81k  "
       ]
      },
      {
       "output_type": "stream",
       "stream": "stdout",
       "text": [
        "\r",
        "Alpha: 0.019108  Progress: 23.68%  Words/thread/sec: 8.79k  "
       ]
      },
      {
       "output_type": "stream",
       "stream": "stdout",
       "text": [
        "\r",
        "Alpha: 0.019081  Progress: 23.78%  Words/thread/sec: 8.77k  \r",
        "Alpha: 0.019055  Progress: 23.89%  Words/thread/sec: 8.80k  "
       ]
      },
      {
       "output_type": "stream",
       "stream": "stdout",
       "text": [
        "\r",
        "Alpha: 0.019028  Progress: 23.99%  Words/thread/sec: 8.81k  "
       ]
      },
      {
       "output_type": "stream",
       "stream": "stdout",
       "text": [
        "\r",
        "Alpha: 0.019002  Progress: 24.10%  Words/thread/sec: 8.78k  "
       ]
      },
      {
       "output_type": "stream",
       "stream": "stdout",
       "text": [
        "\r",
        "Alpha: 0.018975  Progress: 24.20%  Words/thread/sec: 8.79k  "
       ]
      },
      {
       "output_type": "stream",
       "stream": "stdout",
       "text": [
        "\r",
        "Alpha: 0.018949  Progress: 24.31%  Words/thread/sec: 8.82k  "
       ]
      },
      {
       "output_type": "stream",
       "stream": "stdout",
       "text": [
        "\r",
        "Alpha: 0.018922  Progress: 24.42%  Words/thread/sec: 8.86k  "
       ]
      },
      {
       "output_type": "stream",
       "stream": "stdout",
       "text": [
        "\r",
        "Alpha: 0.018895  Progress: 24.53%  Words/thread/sec: 8.75k  "
       ]
      },
      {
       "output_type": "stream",
       "stream": "stdout",
       "text": [
        "\r",
        "Alpha: 0.018868  Progress: 24.64%  Words/thread/sec: 8.78k  "
       ]
      },
      {
       "output_type": "stream",
       "stream": "stdout",
       "text": [
        "\r",
        "Alpha: 0.018840  Progress: 24.75%  Words/thread/sec: 8.80k  "
       ]
      },
      {
       "output_type": "stream",
       "stream": "stdout",
       "text": [
        "\r",
        "Alpha: 0.018813  Progress: 24.86%  Words/thread/sec: 8.83k  "
       ]
      },
      {
       "output_type": "stream",
       "stream": "stdout",
       "text": [
        "\r",
        "Alpha: 0.018786  Progress: 24.96%  Words/thread/sec: 8.82k  "
       ]
      },
      {
       "output_type": "stream",
       "stream": "stdout",
       "text": [
        "\r",
        "Alpha: 0.018759  Progress: 25.07%  Words/thread/sec: 8.78k  \r",
        "Alpha: 0.018732  Progress: 25.18%  Words/thread/sec: 8.81k  "
       ]
      },
      {
       "output_type": "stream",
       "stream": "stdout",
       "text": [
        "\r",
        "Alpha: 0.018706  Progress: 25.28%  Words/thread/sec: 8.81k  "
       ]
      },
      {
       "output_type": "stream",
       "stream": "stdout",
       "text": [
        "\r",
        "Alpha: 0.018679  Progress: 25.39%  Words/thread/sec: 8.80k  "
       ]
      },
      {
       "output_type": "stream",
       "stream": "stdout",
       "text": [
        "\r",
        "Alpha: 0.018652  Progress: 25.50%  Words/thread/sec: 8.79k  "
       ]
      },
      {
       "output_type": "stream",
       "stream": "stdout",
       "text": [
        "\r",
        "Alpha: 0.018626  Progress: 25.61%  Words/thread/sec: 8.83k  "
       ]
      },
      {
       "output_type": "stream",
       "stream": "stdout",
       "text": [
        "\r",
        "Alpha: 0.018598  Progress: 25.71%  Words/thread/sec: 8.84k  "
       ]
      },
      {
       "output_type": "stream",
       "stream": "stdout",
       "text": [
        "\r",
        "Alpha: 0.018572  Progress: 25.82%  Words/thread/sec: 8.75k  "
       ]
      },
      {
       "output_type": "stream",
       "stream": "stdout",
       "text": [
        "\r",
        "Alpha: 0.018546  Progress: 25.92%  Words/thread/sec: 8.77k  "
       ]
      },
      {
       "output_type": "stream",
       "stream": "stdout",
       "text": [
        "\r",
        "Alpha: 0.018520  Progress: 26.03%  Words/thread/sec: 8.79k  "
       ]
      },
      {
       "output_type": "stream",
       "stream": "stdout",
       "text": [
        "\r",
        "Alpha: 0.018493  Progress: 26.14%  Words/thread/sec: 8.80k  "
       ]
      },
      {
       "output_type": "stream",
       "stream": "stdout",
       "text": [
        "\r",
        "Alpha: 0.018464  Progress: 26.25%  Words/thread/sec: 8.83k  "
       ]
      },
      {
       "output_type": "stream",
       "stream": "stdout",
       "text": [
        "\r",
        "Alpha: 0.018438  Progress: 26.36%  Words/thread/sec: 8.79k  "
       ]
      },
      {
       "output_type": "stream",
       "stream": "stdout",
       "text": [
        "\r",
        "Alpha: 0.018411  Progress: 26.47%  Words/thread/sec: 8.78k  "
       ]
      },
      {
       "output_type": "stream",
       "stream": "stdout",
       "text": [
        "\r",
        "Alpha: 0.018382  Progress: 26.58%  Words/thread/sec: 8.81k  "
       ]
      },
      {
       "output_type": "stream",
       "stream": "stdout",
       "text": [
        "\r",
        "Alpha: 0.018355  Progress: 26.69%  Words/thread/sec: 8.81k  "
       ]
      },
      {
       "output_type": "stream",
       "stream": "stdout",
       "text": [
        "\r",
        "Alpha: 0.018328  Progress: 26.80%  Words/thread/sec: 8.80k  "
       ]
      },
      {
       "output_type": "stream",
       "stream": "stdout",
       "text": [
        "\r",
        "Alpha: 0.018301  Progress: 26.90%  Words/thread/sec: 8.81k  "
       ]
      },
      {
       "output_type": "stream",
       "stream": "stdout",
       "text": [
        "\r",
        "Alpha: 0.018274  Progress: 27.02%  Words/thread/sec: 8.83k  "
       ]
      },
      {
       "output_type": "stream",
       "stream": "stdout",
       "text": [
        "\r",
        "Alpha: 0.018246  Progress: 27.12%  Words/thread/sec: 8.77k  "
       ]
      },
      {
       "output_type": "stream",
       "stream": "stdout",
       "text": [
        "\r",
        "Alpha: 0.018219  Progress: 27.23%  Words/thread/sec: 8.78k  \r",
        "Alpha: 0.018192  Progress: 27.34%  Words/thread/sec: 8.81k  "
       ]
      },
      {
       "output_type": "stream",
       "stream": "stdout",
       "text": [
        "\r",
        "Alpha: 0.018166  Progress: 27.44%  Words/thread/sec: 8.82k  "
       ]
      },
      {
       "output_type": "stream",
       "stream": "stdout",
       "text": [
        "\r",
        "Alpha: 0.018139  Progress: 27.56%  Words/thread/sec: 8.79k  "
       ]
      },
      {
       "output_type": "stream",
       "stream": "stdout",
       "text": [
        "\r",
        "Alpha: 0.018110  Progress: 27.67%  Words/thread/sec: 8.80k  "
       ]
      },
      {
       "output_type": "stream",
       "stream": "stdout",
       "text": [
        "\r",
        "Alpha: 0.018083  Progress: 27.78%  Words/thread/sec: 8.78k  "
       ]
      },
      {
       "output_type": "stream",
       "stream": "stdout",
       "text": [
        "\r",
        "Alpha: 0.018056  Progress: 27.89%  Words/thread/sec: 8.81k  "
       ]
      },
      {
       "output_type": "stream",
       "stream": "stdout",
       "text": [
        "\r",
        "Alpha: 0.018028  Progress: 28.00%  Words/thread/sec: 8.82k  "
       ]
      },
      {
       "output_type": "stream",
       "stream": "stdout",
       "text": [
        "\r",
        "Alpha: 0.017999  Progress: 28.11%  Words/thread/sec: 8.81k  "
       ]
      },
      {
       "output_type": "stream",
       "stream": "stdout",
       "text": [
        "\r",
        "Alpha: 0.017972  Progress: 28.22%  Words/thread/sec: 8.82k  "
       ]
      },
      {
       "output_type": "stream",
       "stream": "stdout",
       "text": [
        "\r",
        "Alpha: 0.017945  Progress: 28.33%  Words/thread/sec: 8.85k  "
       ]
      },
      {
       "output_type": "stream",
       "stream": "stdout",
       "text": [
        "\r",
        "Alpha: 0.017917  Progress: 28.44%  Words/thread/sec: 8.77k  "
       ]
      },
      {
       "output_type": "stream",
       "stream": "stdout",
       "text": [
        "\r",
        "Alpha: 0.017891  Progress: 28.54%  Words/thread/sec: 8.79k  "
       ]
      },
      {
       "output_type": "stream",
       "stream": "stdout",
       "text": [
        "\r",
        "Alpha: 0.017864  Progress: 28.65%  Words/thread/sec: 8.82k  "
       ]
      },
      {
       "output_type": "stream",
       "stream": "stdout",
       "text": [
        "\r",
        "Alpha: 0.017837  Progress: 28.76%  Words/thread/sec: 8.85k  "
       ]
      },
      {
       "output_type": "stream",
       "stream": "stdout",
       "text": [
        "\r",
        "Alpha: 0.017810  Progress: 28.87%  Words/thread/sec: 8.81k  "
       ]
      },
      {
       "output_type": "stream",
       "stream": "stdout",
       "text": [
        "\r",
        "Alpha: 0.017783  Progress: 28.97%  Words/thread/sec: 8.80k  "
       ]
      },
      {
       "output_type": "stream",
       "stream": "stdout",
       "text": [
        "\r",
        "Alpha: 0.017757  Progress: 29.08%  Words/thread/sec: 8.79k  "
       ]
      },
      {
       "output_type": "stream",
       "stream": "stdout",
       "text": [
        "\r",
        "Alpha: 0.017730  Progress: 29.19%  Words/thread/sec: 8.82k  "
       ]
      },
      {
       "output_type": "stream",
       "stream": "stdout",
       "text": [
        "\r",
        "Alpha: 0.017703  Progress: 29.29%  Words/thread/sec: 8.83k  "
       ]
      },
      {
       "output_type": "stream",
       "stream": "stdout",
       "text": [
        "\r",
        "Alpha: 0.017677  Progress: 29.40%  Words/thread/sec: 8.82k  "
       ]
      },
      {
       "output_type": "stream",
       "stream": "stdout",
       "text": [
        "\r",
        "Alpha: 0.017650  Progress: 29.51%  Words/thread/sec: 8.84k  "
       ]
      },
      {
       "output_type": "stream",
       "stream": "stdout",
       "text": [
        "\r",
        "Alpha: 0.017624  Progress: 29.61%  Words/thread/sec: 8.85k  "
       ]
      },
      {
       "output_type": "stream",
       "stream": "stdout",
       "text": [
        "\r",
        "Alpha: 0.017597  Progress: 29.72%  Words/thread/sec: 8.78k  "
       ]
      },
      {
       "output_type": "stream",
       "stream": "stdout",
       "text": [
        "\r",
        "Alpha: 0.017569  Progress: 29.83%  Words/thread/sec: 8.79k  \r",
        "Alpha: 0.017543  Progress: 29.94%  Words/thread/sec: 8.82k  "
       ]
      },
      {
       "output_type": "stream",
       "stream": "stdout",
       "text": [
        "\r",
        "Alpha: 0.017515  Progress: 30.05%  Words/thread/sec: 8.85k  "
       ]
      },
      {
       "output_type": "stream",
       "stream": "stdout",
       "text": [
        "\r",
        "Alpha: 0.017488  Progress: 30.16%  Words/thread/sec: 8.77k  \r",
        "Alpha: 0.017461  Progress: 30.27%  Words/thread/sec: 8.80k  "
       ]
      },
      {
       "output_type": "stream",
       "stream": "stdout",
       "text": [
        "\r",
        "Alpha: 0.017432  Progress: 30.38%  Words/thread/sec: 8.80k  "
       ]
      },
      {
       "output_type": "stream",
       "stream": "stdout",
       "text": [
        "\r",
        "Alpha: 0.017405  Progress: 30.49%  Words/thread/sec: 8.83k  "
       ]
      },
      {
       "output_type": "stream",
       "stream": "stdout",
       "text": [
        "\r",
        "Alpha: 0.017378  Progress: 30.59%  Words/thread/sec: 8.84k  "
       ]
      },
      {
       "output_type": "stream",
       "stream": "stdout",
       "text": [
        "\r",
        "Alpha: 0.017351  Progress: 30.70%  Words/thread/sec: 8.82k  "
       ]
      },
      {
       "output_type": "stream",
       "stream": "stdout",
       "text": [
        "\r",
        "Alpha: 0.017325  Progress: 30.81%  Words/thread/sec: 8.84k  "
       ]
      },
      {
       "output_type": "stream",
       "stream": "stdout",
       "text": [
        "\r",
        "Alpha: 0.017298  Progress: 30.93%  Words/thread/sec: 8.81k  "
       ]
      },
      {
       "output_type": "stream",
       "stream": "stdout",
       "text": [
        "\r",
        "Alpha: 0.017269  Progress: 31.03%  Words/thread/sec: 8.78k  "
       ]
      },
      {
       "output_type": "stream",
       "stream": "stdout",
       "text": [
        "\r",
        "Alpha: 0.017242  Progress: 31.14%  Words/thread/sec: 8.80k  "
       ]
      },
      {
       "output_type": "stream",
       "stream": "stdout",
       "text": [
        "\r",
        "Alpha: 0.017215  Progress: 31.25%  Words/thread/sec: 8.82k  \r",
        "Alpha: 0.017188  Progress: 31.36%  Words/thread/sec: 8.85k  "
       ]
      },
      {
       "output_type": "stream",
       "stream": "stdout",
       "text": [
        "\r",
        "Alpha: 0.017161  Progress: 31.46%  Words/thread/sec: 8.78k  "
       ]
      },
      {
       "output_type": "stream",
       "stream": "stdout",
       "text": [
        "\r",
        "Alpha: 0.017134  Progress: 31.57%  Words/thread/sec: 8.80k  "
       ]
      },
      {
       "output_type": "stream",
       "stream": "stdout",
       "text": [
        "\r",
        "Alpha: 0.017108  Progress: 31.68%  Words/thread/sec: 8.81k  "
       ]
      },
      {
       "output_type": "stream",
       "stream": "stdout",
       "text": [
        "\r",
        "Alpha: 0.017081  Progress: 31.78%  Words/thread/sec: 8.83k  "
       ]
      },
      {
       "output_type": "stream",
       "stream": "stdout",
       "text": [
        "\r",
        "Alpha: 0.017054  Progress: 31.89%  Words/thread/sec: 8.84k  "
       ]
      },
      {
       "output_type": "stream",
       "stream": "stdout",
       "text": [
        "\r",
        "Alpha: 0.017027  Progress: 32.00%  Words/thread/sec: 8.84k  "
       ]
      },
      {
       "output_type": "stream",
       "stream": "stdout",
       "text": [
        "\r",
        "Alpha: 0.017000  Progress: 32.11%  Words/thread/sec: 8.84k  "
       ]
      },
      {
       "output_type": "stream",
       "stream": "stdout",
       "text": [
        "\r",
        "Alpha: 0.016973  Progress: 32.21%  Words/thread/sec: 8.80k  "
       ]
      },
      {
       "output_type": "stream",
       "stream": "stdout",
       "text": [
        "\r",
        "Alpha: 0.016947  Progress: 32.32%  Words/thread/sec: 8.79k  "
       ]
      },
      {
       "output_type": "stream",
       "stream": "stdout",
       "text": [
        "\r",
        "Alpha: 0.016920  Progress: 32.43%  Words/thread/sec: 8.81k  "
       ]
      },
      {
       "output_type": "stream",
       "stream": "stdout",
       "text": [
        "\r",
        "Alpha: 0.016894  Progress: 32.53%  Words/thread/sec: 8.83k  \r",
        "Alpha: 0.016866  Progress: 32.64%  Words/thread/sec: 8.86k  "
       ]
      },
      {
       "output_type": "stream",
       "stream": "stdout",
       "text": [
        "\r",
        "Alpha: 0.016839  Progress: 32.75%  Words/thread/sec: 8.80k  "
       ]
      },
      {
       "output_type": "stream",
       "stream": "stdout",
       "text": [
        "\r",
        "Alpha: 0.016811  Progress: 32.86%  Words/thread/sec: 8.81k  "
       ]
      },
      {
       "output_type": "stream",
       "stream": "stdout",
       "text": [
        "\r",
        "Alpha: 0.016785  Progress: 32.97%  Words/thread/sec: 8.82k  "
       ]
      },
      {
       "output_type": "stream",
       "stream": "stdout",
       "text": [
        "\r",
        "Alpha: 0.016758  Progress: 33.08%  Words/thread/sec: 8.83k  "
       ]
      },
      {
       "output_type": "stream",
       "stream": "stdout",
       "text": [
        "\r",
        "Alpha: 0.016731  Progress: 33.18%  Words/thread/sec: 8.85k  "
       ]
      },
      {
       "output_type": "stream",
       "stream": "stdout",
       "text": [
        "\r",
        "Alpha: 0.016704  Progress: 33.29%  Words/thread/sec: 8.85k  "
       ]
      },
      {
       "output_type": "stream",
       "stream": "stdout",
       "text": [
        "\r",
        "Alpha: 0.016677  Progress: 33.40%  Words/thread/sec: 8.84k  "
       ]
      },
      {
       "output_type": "stream",
       "stream": "stdout",
       "text": [
        "\r",
        "Alpha: 0.016650  Progress: 33.50%  Words/thread/sec: 8.80k  "
       ]
      },
      {
       "output_type": "stream",
       "stream": "stdout",
       "text": [
        "\r",
        "Alpha: 0.016624  Progress: 33.61%  Words/thread/sec: 8.80k  "
       ]
      },
      {
       "output_type": "stream",
       "stream": "stdout",
       "text": [
        "\r",
        "Alpha: 0.016597  Progress: 33.72%  Words/thread/sec: 8.82k  "
       ]
      },
      {
       "output_type": "stream",
       "stream": "stdout",
       "text": [
        "\r",
        "Alpha: 0.016570  Progress: 33.83%  Words/thread/sec: 8.84k  "
       ]
      },
      {
       "output_type": "stream",
       "stream": "stdout",
       "text": [
        "\r",
        "Alpha: 0.016543  Progress: 33.93%  Words/thread/sec: 8.85k  "
       ]
      },
      {
       "output_type": "stream",
       "stream": "stdout",
       "text": [
        "\r",
        "Alpha: 0.016516  Progress: 34.04%  Words/thread/sec: 8.81k  "
       ]
      },
      {
       "output_type": "stream",
       "stream": "stdout",
       "text": [
        "\r",
        "Alpha: 0.016489  Progress: 34.15%  Words/thread/sec: 8.81k  "
       ]
      },
      {
       "output_type": "stream",
       "stream": "stdout",
       "text": [
        "\r",
        "Alpha: 0.016463  Progress: 34.26%  Words/thread/sec: 8.82k  "
       ]
      },
      {
       "output_type": "stream",
       "stream": "stdout",
       "text": [
        "\r",
        "Alpha: 0.016436  Progress: 34.37%  Words/thread/sec: 8.84k  "
       ]
      },
      {
       "output_type": "stream",
       "stream": "stdout",
       "text": [
        "\r",
        "Alpha: 0.016409  Progress: 34.47%  Words/thread/sec: 8.86k  "
       ]
      },
      {
       "output_type": "stream",
       "stream": "stdout",
       "text": [
        "\r",
        "Alpha: 0.016382  Progress: 34.58%  Words/thread/sec: 8.87k  "
       ]
      },
      {
       "output_type": "stream",
       "stream": "stdout",
       "text": [
        "\r",
        "Alpha: 0.016356  Progress: 34.69%  Words/thread/sec: 8.81k  "
       ]
      },
      {
       "output_type": "stream",
       "stream": "stdout",
       "text": [
        "\r",
        "Alpha: 0.016327  Progress: 34.80%  Words/thread/sec: 8.81k  "
       ]
      },
      {
       "output_type": "stream",
       "stream": "stdout",
       "text": [
        "\r",
        "Alpha: 0.016300  Progress: 34.91%  Words/thread/sec: 8.83k  "
       ]
      },
      {
       "output_type": "stream",
       "stream": "stdout",
       "text": [
        "\r",
        "Alpha: 0.016273  Progress: 35.01%  Words/thread/sec: 8.83k  "
       ]
      },
      {
       "output_type": "stream",
       "stream": "stdout",
       "text": [
        "\r",
        "Alpha: 0.016247  Progress: 35.13%  Words/thread/sec: 8.85k  "
       ]
      },
      {
       "output_type": "stream",
       "stream": "stdout",
       "text": [
        "\r",
        "Alpha: 0.016218  Progress: 35.24%  Words/thread/sec: 8.86k  "
       ]
      },
      {
       "output_type": "stream",
       "stream": "stdout",
       "text": [
        "\r",
        "Alpha: 0.016190  Progress: 35.35%  Words/thread/sec: 8.83k  "
       ]
      },
      {
       "output_type": "stream",
       "stream": "stdout",
       "text": [
        "\r",
        "Alpha: 0.016163  Progress: 35.46%  Words/thread/sec: 8.82k  "
       ]
      },
      {
       "output_type": "stream",
       "stream": "stdout",
       "text": [
        "\r",
        "Alpha: 0.016136  Progress: 35.56%  Words/thread/sec: 8.84k  "
       ]
      },
      {
       "output_type": "stream",
       "stream": "stdout",
       "text": [
        "\r",
        "Alpha: 0.016109  Progress: 35.67%  Words/thread/sec: 8.85k  "
       ]
      },
      {
       "output_type": "stream",
       "stream": "stdout",
       "text": [
        "\r",
        "Alpha: 0.016082  Progress: 35.78%  Words/thread/sec: 8.87k  "
       ]
      },
      {
       "output_type": "stream",
       "stream": "stdout",
       "text": [
        "\r",
        "Alpha: 0.016056  Progress: 35.89%  Words/thread/sec: 8.86k  "
       ]
      },
      {
       "output_type": "stream",
       "stream": "stdout",
       "text": [
        "\r",
        "Alpha: 0.016026  Progress: 36.00%  Words/thread/sec: 8.83k  "
       ]
      },
      {
       "output_type": "stream",
       "stream": "stdout",
       "text": [
        "\r",
        "Alpha: 0.016000  Progress: 36.11%  Words/thread/sec: 8.82k  "
       ]
      },
      {
       "output_type": "stream",
       "stream": "stdout",
       "text": [
        "\r",
        "Alpha: 0.015973  Progress: 36.22%  Words/thread/sec: 8.83k  "
       ]
      },
      {
       "output_type": "stream",
       "stream": "stdout",
       "text": [
        "\r",
        "Alpha: 0.015946  Progress: 36.32%  Words/thread/sec: 8.85k  \r",
        "Alpha: 0.015919  Progress: 36.44%  Words/thread/sec: 8.87k  "
       ]
      },
      {
       "output_type": "stream",
       "stream": "stdout",
       "text": [
        "\r",
        "Alpha: 0.015890  Progress: 36.55%  Words/thread/sec: 8.87k  "
       ]
      },
      {
       "output_type": "stream",
       "stream": "stdout",
       "text": [
        "\r",
        "Alpha: 0.015863  Progress: 36.66%  Words/thread/sec: 8.84k  "
       ]
      },
      {
       "output_type": "stream",
       "stream": "stdout",
       "text": [
        "\r",
        "Alpha: 0.015836  Progress: 36.76%  Words/thread/sec: 8.83k  \r",
        "Alpha: 0.015809  Progress: 36.87%  Words/thread/sec: 8.86k  "
       ]
      },
      {
       "output_type": "stream",
       "stream": "stdout",
       "text": [
        "\r",
        "Alpha: 0.015783  Progress: 36.97%  Words/thread/sec: 8.84k  "
       ]
      },
      {
       "output_type": "stream",
       "stream": "stdout",
       "text": [
        "\r",
        "Alpha: 0.015756  Progress: 37.08%  Words/thread/sec: 8.84k  "
       ]
      },
      {
       "output_type": "stream",
       "stream": "stdout",
       "text": [
        "\r",
        "Alpha: 0.015730  Progress: 37.20%  Words/thread/sec: 8.86k  "
       ]
      },
      {
       "output_type": "stream",
       "stream": "stdout",
       "text": [
        "\r",
        "Alpha: 0.015701  Progress: 37.30%  Words/thread/sec: 8.83k  "
       ]
      },
      {
       "output_type": "stream",
       "stream": "stdout",
       "text": [
        "\r",
        "Alpha: 0.015674  Progress: 37.41%  Words/thread/sec: 8.84k  "
       ]
      },
      {
       "output_type": "stream",
       "stream": "stdout",
       "text": [
        "\r",
        "Alpha: 0.015647  Progress: 37.52%  Words/thread/sec: 8.84k  "
       ]
      },
      {
       "output_type": "stream",
       "stream": "stdout",
       "text": [
        "\r",
        "Alpha: 0.015621  Progress: 37.63%  Words/thread/sec: 8.86k  "
       ]
      },
      {
       "output_type": "stream",
       "stream": "stdout",
       "text": [
        "\r",
        "Alpha: 0.015592  Progress: 37.74%  Words/thread/sec: 8.88k  "
       ]
      },
      {
       "output_type": "stream",
       "stream": "stdout",
       "text": [
        "\r",
        "Alpha: 0.015565  Progress: 37.85%  Words/thread/sec: 8.88k  "
       ]
      },
      {
       "output_type": "stream",
       "stream": "stdout",
       "text": [
        "\r",
        "Alpha: 0.015538  Progress: 37.96%  Words/thread/sec: 8.85k  "
       ]
      },
      {
       "output_type": "stream",
       "stream": "stdout",
       "text": [
        "\r",
        "Alpha: 0.015511  Progress: 38.06%  Words/thread/sec: 8.85k  "
       ]
      },
      {
       "output_type": "stream",
       "stream": "stdout",
       "text": [
        "\r",
        "Alpha: 0.015484  Progress: 38.17%  Words/thread/sec: 8.86k  "
       ]
      },
      {
       "output_type": "stream",
       "stream": "stdout",
       "text": [
        "\r",
        "Alpha: 0.015457  Progress: 38.28%  Words/thread/sec: 8.83k  "
       ]
      },
      {
       "output_type": "stream",
       "stream": "stdout",
       "text": [
        "\r",
        "Alpha: 0.015430  Progress: 38.38%  Words/thread/sec: 8.85k  "
       ]
      },
      {
       "output_type": "stream",
       "stream": "stdout",
       "text": [
        "\r",
        "Alpha: 0.015404  Progress: 38.50%  Words/thread/sec: 8.86k  "
       ]
      },
      {
       "output_type": "stream",
       "stream": "stdout",
       "text": [
        "\r",
        "Alpha: 0.015375  Progress: 38.61%  Words/thread/sec: 8.85k  "
       ]
      },
      {
       "output_type": "stream",
       "stream": "stdout",
       "text": [
        "\r",
        "Alpha: 0.015348  Progress: 38.71%  Words/thread/sec: 8.84k  "
       ]
      },
      {
       "output_type": "stream",
       "stream": "stdout",
       "text": [
        "\r",
        "Alpha: 0.015321  Progress: 38.82%  Words/thread/sec: 8.85k  "
       ]
      },
      {
       "output_type": "stream",
       "stream": "stdout",
       "text": [
        "\r",
        "Alpha: 0.015295  Progress: 38.93%  Words/thread/sec: 8.87k  "
       ]
      },
      {
       "output_type": "stream",
       "stream": "stdout",
       "text": [
        "\r",
        "Alpha: 0.015268  Progress: 39.04%  Words/thread/sec: 8.89k  "
       ]
      },
      {
       "output_type": "stream",
       "stream": "stdout",
       "text": [
        "\r",
        "Alpha: 0.015241  Progress: 39.14%  Words/thread/sec: 8.89k  "
       ]
      },
      {
       "output_type": "stream",
       "stream": "stdout",
       "text": [
        "\r",
        "Alpha: 0.015215  Progress: 39.25%  Words/thread/sec: 8.86k  "
       ]
      },
      {
       "output_type": "stream",
       "stream": "stdout",
       "text": [
        "\r",
        "Alpha: 0.015187  Progress: 39.36%  Words/thread/sec: 8.85k  "
       ]
      },
      {
       "output_type": "stream",
       "stream": "stdout",
       "text": [
        "\r",
        "Alpha: 0.015161  Progress: 39.46%  Words/thread/sec: 8.86k  "
       ]
      },
      {
       "output_type": "stream",
       "stream": "stdout",
       "text": [
        "\r",
        "Alpha: 0.015134  Progress: 39.57%  Words/thread/sec: 8.85k  "
       ]
      },
      {
       "output_type": "stream",
       "stream": "stdout",
       "text": [
        "\r",
        "Alpha: 0.015107  Progress: 39.68%  Words/thread/sec: 8.85k  "
       ]
      },
      {
       "output_type": "stream",
       "stream": "stdout",
       "text": [
        "\r",
        "Alpha: 0.015080  Progress: 39.80%  Words/thread/sec: 8.84k  "
       ]
      },
      {
       "output_type": "stream",
       "stream": "stdout",
       "text": [
        "\r",
        "Alpha: 0.015051  Progress: 39.90%  Words/thread/sec: 8.86k  "
       ]
      },
      {
       "output_type": "stream",
       "stream": "stdout",
       "text": [
        "\r",
        "Alpha: 0.015024  Progress: 40.01%  Words/thread/sec: 8.85k  "
       ]
      },
      {
       "output_type": "stream",
       "stream": "stdout",
       "text": [
        "\r",
        "Alpha: 0.014997  Progress: 40.12%  Words/thread/sec: 8.86k  "
       ]
      },
      {
       "output_type": "stream",
       "stream": "stdout",
       "text": [
        "\r",
        "Alpha: 0.014970  Progress: 40.23%  Words/thread/sec: 8.88k  \r",
        "Alpha: 0.014943  Progress: 40.34%  Words/thread/sec: 8.90k  "
       ]
      },
      {
       "output_type": "stream",
       "stream": "stdout",
       "text": [
        "\r",
        "Alpha: 0.014916  Progress: 40.45%  Words/thread/sec: 8.89k  "
       ]
      },
      {
       "output_type": "stream",
       "stream": "stdout",
       "text": [
        "\r",
        "Alpha: 0.014888  Progress: 40.56%  Words/thread/sec: 8.86k  "
       ]
      },
      {
       "output_type": "stream",
       "stream": "stdout",
       "text": [
        "\r",
        "Alpha: 0.014861  Progress: 40.66%  Words/thread/sec: 8.86k  "
       ]
      },
      {
       "output_type": "stream",
       "stream": "stdout",
       "text": [
        "\r",
        "Alpha: 0.014834  Progress: 40.77%  Words/thread/sec: 8.86k  "
       ]
      },
      {
       "output_type": "stream",
       "stream": "stdout",
       "text": [
        "\r",
        "Alpha: 0.014807  Progress: 40.88%  Words/thread/sec: 8.86k  "
       ]
      },
      {
       "output_type": "stream",
       "stream": "stdout",
       "text": [
        "\r",
        "Alpha: 0.014781  Progress: 40.98%  Words/thread/sec: 8.84k  "
       ]
      },
      {
       "output_type": "stream",
       "stream": "stdout",
       "text": [
        "\r",
        "Alpha: 0.014754  Progress: 41.09%  Words/thread/sec: 8.84k  \r",
        "Alpha: 0.014727  Progress: 41.20%  Words/thread/sec: 8.86k  "
       ]
      },
      {
       "output_type": "stream",
       "stream": "stdout",
       "text": [
        "\r",
        "Alpha: 0.014701  Progress: 41.30%  Words/thread/sec: 8.86k  "
       ]
      },
      {
       "output_type": "stream",
       "stream": "stdout",
       "text": [
        "\r",
        "Alpha: 0.014674  Progress: 41.41%  Words/thread/sec: 8.87k  "
       ]
      },
      {
       "output_type": "stream",
       "stream": "stdout",
       "text": [
        "\r",
        "Alpha: 0.014647  Progress: 41.53%  Words/thread/sec: 8.88k  "
       ]
      },
      {
       "output_type": "stream",
       "stream": "stdout",
       "text": [
        "\r",
        "Alpha: 0.014619  Progress: 41.63%  Words/thread/sec: 8.90k  "
       ]
      },
      {
       "output_type": "stream",
       "stream": "stdout",
       "text": [
        "\r",
        "Alpha: 0.014592  Progress: 41.74%  Words/thread/sec: 8.90k  "
       ]
      },
      {
       "output_type": "stream",
       "stream": "stdout",
       "text": [
        "\r",
        "Alpha: 0.014565  Progress: 41.85%  Words/thread/sec: 8.89k  "
       ]
      },
      {
       "output_type": "stream",
       "stream": "stdout",
       "text": [
        "\r",
        "Alpha: 0.014538  Progress: 41.95%  Words/thread/sec: 8.87k  "
       ]
      },
      {
       "output_type": "stream",
       "stream": "stdout",
       "text": [
        "\r",
        "Alpha: 0.014511  Progress: 42.06%  Words/thread/sec: 8.87k  "
       ]
      },
      {
       "output_type": "stream",
       "stream": "stdout",
       "text": [
        "\r",
        "Alpha: 0.014485  Progress: 42.17%  Words/thread/sec: 8.87k  "
       ]
      },
      {
       "output_type": "stream",
       "stream": "stdout",
       "text": [
        "\r",
        "Alpha: 0.014458  Progress: 42.27%  Words/thread/sec: 8.84k  "
       ]
      },
      {
       "output_type": "stream",
       "stream": "stdout",
       "text": [
        "\r",
        "Alpha: 0.014431  Progress: 42.38%  Words/thread/sec: 8.84k  "
       ]
      },
      {
       "output_type": "stream",
       "stream": "stdout",
       "text": [
        "\r",
        "Alpha: 0.014405  Progress: 42.49%  Words/thread/sec: 8.86k  "
       ]
      },
      {
       "output_type": "stream",
       "stream": "stdout",
       "text": [
        "\r",
        "Alpha: 0.014377  Progress: 42.60%  Words/thread/sec: 8.86k  "
       ]
      },
      {
       "output_type": "stream",
       "stream": "stdout",
       "text": [
        "\r",
        "Alpha: 0.014350  Progress: 42.71%  Words/thread/sec: 8.87k  "
       ]
      },
      {
       "output_type": "stream",
       "stream": "stdout",
       "text": [
        "\r",
        "Alpha: 0.014323  Progress: 42.82%  Words/thread/sec: 8.89k  "
       ]
      },
      {
       "output_type": "stream",
       "stream": "stdout",
       "text": [
        "\r",
        "Alpha: 0.014295  Progress: 42.93%  Words/thread/sec: 8.90k  "
       ]
      },
      {
       "output_type": "stream",
       "stream": "stdout",
       "text": [
        "\r",
        "Alpha: 0.014268  Progress: 43.04%  Words/thread/sec: 8.90k  "
       ]
      },
      {
       "output_type": "stream",
       "stream": "stdout",
       "text": [
        "\r",
        "Alpha: 0.014241  Progress: 43.15%  Words/thread/sec: 8.89k  "
       ]
      },
      {
       "output_type": "stream",
       "stream": "stdout",
       "text": [
        "\r",
        "Alpha: 0.014214  Progress: 43.25%  Words/thread/sec: 8.88k  "
       ]
      },
      {
       "output_type": "stream",
       "stream": "stdout",
       "text": [
        "\r",
        "Alpha: 0.014187  Progress: 43.36%  Words/thread/sec: 8.88k  "
       ]
      },
      {
       "output_type": "stream",
       "stream": "stdout",
       "text": [
        "\r",
        "Alpha: 0.014161  Progress: 43.46%  Words/thread/sec: 8.86k  "
       ]
      },
      {
       "output_type": "stream",
       "stream": "stdout",
       "text": [
        "\r",
        "Alpha: 0.014134  Progress: 43.57%  Words/thread/sec: 8.85k  "
       ]
      },
      {
       "output_type": "stream",
       "stream": "stdout",
       "text": [
        "\r",
        "Alpha: 0.014107  Progress: 43.68%  Words/thread/sec: 8.85k  "
       ]
      },
      {
       "output_type": "stream",
       "stream": "stdout",
       "text": [
        "\r",
        "Alpha: 0.014080  Progress: 43.79%  Words/thread/sec: 8.87k  "
       ]
      },
      {
       "output_type": "stream",
       "stream": "stdout",
       "text": [
        "\r",
        "Alpha: 0.014053  Progress: 43.89%  Words/thread/sec: 8.86k  "
       ]
      },
      {
       "output_type": "stream",
       "stream": "stdout",
       "text": [
        "\r",
        "Alpha: 0.014027  Progress: 44.00%  Words/thread/sec: 8.88k  "
       ]
      },
      {
       "output_type": "stream",
       "stream": "stdout",
       "text": [
        "\r",
        "Alpha: 0.014000  Progress: 44.11%  Words/thread/sec: 8.89k  "
       ]
      },
      {
       "output_type": "stream",
       "stream": "stdout",
       "text": [
        "\r",
        "Alpha: 0.013972  Progress: 44.23%  Words/thread/sec: 8.91k  "
       ]
      },
      {
       "output_type": "stream",
       "stream": "stdout",
       "text": [
        "\r",
        "Alpha: 0.013944  Progress: 44.33%  Words/thread/sec: 8.91k  "
       ]
      },
      {
       "output_type": "stream",
       "stream": "stdout",
       "text": [
        "\r",
        "Alpha: 0.013916  Progress: 44.44%  Words/thread/sec: 8.87k  "
       ]
      },
      {
       "output_type": "stream",
       "stream": "stdout",
       "text": [
        "\r",
        "Alpha: 0.013890  Progress: 44.55%  Words/thread/sec: 8.86k  "
       ]
      },
      {
       "output_type": "stream",
       "stream": "stdout",
       "text": [
        "\r",
        "Alpha: 0.013862  Progress: 44.67%  Words/thread/sec: 8.87k  "
       ]
      },
      {
       "output_type": "stream",
       "stream": "stdout",
       "text": [
        "\r",
        "Alpha: 0.013833  Progress: 44.78%  Words/thread/sec: 8.86k  "
       ]
      },
      {
       "output_type": "stream",
       "stream": "stdout",
       "text": [
        "\r",
        "Alpha: 0.013806  Progress: 44.88%  Words/thread/sec: 8.86k  "
       ]
      },
      {
       "output_type": "stream",
       "stream": "stdout",
       "text": [
        "\r",
        "Alpha: 0.013779  Progress: 44.99%  Words/thread/sec: 8.86k  "
       ]
      },
      {
       "output_type": "stream",
       "stream": "stdout",
       "text": [
        "\r",
        "Alpha: 0.013753  Progress: 45.09%  Words/thread/sec: 8.85k  "
       ]
      },
      {
       "output_type": "stream",
       "stream": "stdout",
       "text": [
        "\r",
        "Alpha: 0.013726  Progress: 45.20%  Words/thread/sec: 8.86k  "
       ]
      },
      {
       "output_type": "stream",
       "stream": "stdout",
       "text": [
        "\r",
        "Alpha: 0.013699  Progress: 45.32%  Words/thread/sec: 8.88k  "
       ]
      },
      {
       "output_type": "stream",
       "stream": "stdout",
       "text": [
        "\r",
        "Alpha: 0.013670  Progress: 45.43%  Words/thread/sec: 8.90k  \r",
        "Alpha: 0.013643  Progress: 45.54%  Words/thread/sec: 8.92k  "
       ]
      },
      {
       "output_type": "stream",
       "stream": "stdout",
       "text": [
        "\r",
        "Alpha: 0.013616  Progress: 45.65%  Words/thread/sec: 8.92k  "
       ]
      },
      {
       "output_type": "stream",
       "stream": "stdout",
       "text": [
        "\r",
        "Alpha: 0.013589  Progress: 45.75%  Words/thread/sec: 8.88k  "
       ]
      },
      {
       "output_type": "stream",
       "stream": "stdout",
       "text": [
        "\r",
        "Alpha: 0.013562  Progress: 45.86%  Words/thread/sec: 8.85k  "
       ]
      },
      {
       "output_type": "stream",
       "stream": "stdout",
       "text": [
        "\r",
        "Alpha: 0.013536  Progress: 45.97%  Words/thread/sec: 8.85k  "
       ]
      },
      {
       "output_type": "stream",
       "stream": "stdout",
       "text": [
        "\r",
        "Alpha: 0.013507  Progress: 46.08%  Words/thread/sec: 8.87k  "
       ]
      },
      {
       "output_type": "stream",
       "stream": "stdout",
       "text": [
        "\r",
        "Alpha: 0.013481  Progress: 46.19%  Words/thread/sec: 8.86k  "
       ]
      },
      {
       "output_type": "stream",
       "stream": "stdout",
       "text": [
        "\r",
        "Alpha: 0.013454  Progress: 46.29%  Words/thread/sec: 8.86k  "
       ]
      },
      {
       "output_type": "stream",
       "stream": "stdout",
       "text": [
        "\r",
        "Alpha: 0.013427  Progress: 46.40%  Words/thread/sec: 8.86k  "
       ]
      },
      {
       "output_type": "stream",
       "stream": "stdout",
       "text": [
        "\r",
        "Alpha: 0.013400  Progress: 46.51%  Words/thread/sec: 8.87k  "
       ]
      },
      {
       "output_type": "stream",
       "stream": "stdout",
       "text": [
        "\r",
        "Alpha: 0.013373  Progress: 46.61%  Words/thread/sec: 8.88k  "
       ]
      },
      {
       "output_type": "stream",
       "stream": "stdout",
       "text": [
        "\r",
        "Alpha: 0.013346  Progress: 46.72%  Words/thread/sec: 8.90k  "
       ]
      },
      {
       "output_type": "stream",
       "stream": "stdout",
       "text": [
        "\r",
        "Alpha: 0.013319  Progress: 46.83%  Words/thread/sec: 8.91k  "
       ]
      },
      {
       "output_type": "stream",
       "stream": "stdout",
       "text": [
        "\r",
        "Alpha: 0.013293  Progress: 46.94%  Words/thread/sec: 8.91k  "
       ]
      },
      {
       "output_type": "stream",
       "stream": "stdout",
       "text": [
        "\r",
        "Alpha: 0.013264  Progress: 47.06%  Words/thread/sec: 8.85k  "
       ]
      },
      {
       "output_type": "stream",
       "stream": "stdout",
       "text": [
        "\r",
        "Alpha: 0.013235  Progress: 47.17%  Words/thread/sec: 8.86k  "
       ]
      },
      {
       "output_type": "stream",
       "stream": "stdout",
       "text": [
        "\r",
        "Alpha: 0.013208  Progress: 47.28%  Words/thread/sec: 8.86k  "
       ]
      },
      {
       "output_type": "stream",
       "stream": "stdout",
       "text": [
        "\r",
        "Alpha: 0.013181  Progress: 47.38%  Words/thread/sec: 8.86k  "
       ]
      },
      {
       "output_type": "stream",
       "stream": "stdout",
       "text": [
        "\r",
        "Alpha: 0.013155  Progress: 47.49%  Words/thread/sec: 8.87k  "
       ]
      },
      {
       "output_type": "stream",
       "stream": "stdout",
       "text": [
        "\r",
        "Alpha: 0.013129  Progress: 47.59%  Words/thread/sec: 8.87k  "
       ]
      },
      {
       "output_type": "stream",
       "stream": "stdout",
       "text": [
        "\r",
        "Alpha: 0.013102  Progress: 47.70%  Words/thread/sec: 8.86k  "
       ]
      },
      {
       "output_type": "stream",
       "stream": "stdout",
       "text": [
        "\r",
        "Alpha: 0.013076  Progress: 47.80%  Words/thread/sec: 8.87k  \r",
        "Alpha: 0.013049  Progress: 47.91%  Words/thread/sec: 8.89k  "
       ]
      },
      {
       "output_type": "stream",
       "stream": "stdout",
       "text": [
        "\r",
        "Alpha: 0.013023  Progress: 48.01%  Words/thread/sec: 8.90k  "
       ]
      },
      {
       "output_type": "stream",
       "stream": "stdout",
       "text": [
        "\r",
        "Alpha: 0.012996  Progress: 48.12%  Words/thread/sec: 8.92k  "
       ]
      },
      {
       "output_type": "stream",
       "stream": "stdout",
       "text": [
        "\r",
        "Alpha: 0.012969  Progress: 48.24%  Words/thread/sec: 8.89k  "
       ]
      },
      {
       "output_type": "stream",
       "stream": "stdout",
       "text": [
        "\r",
        "Alpha: 0.012940  Progress: 48.35%  Words/thread/sec: 8.85k  "
       ]
      },
      {
       "output_type": "stream",
       "stream": "stdout",
       "text": [
        "\r",
        "Alpha: 0.012914  Progress: 48.45%  Words/thread/sec: 8.86k  "
       ]
      },
      {
       "output_type": "stream",
       "stream": "stdout",
       "text": [
        "\r",
        "Alpha: 0.012887  Progress: 48.56%  Words/thread/sec: 8.87k  "
       ]
      },
      {
       "output_type": "stream",
       "stream": "stdout",
       "text": [
        "\r",
        "Alpha: 0.012860  Progress: 48.66%  Words/thread/sec: 8.87k  "
       ]
      },
      {
       "output_type": "stream",
       "stream": "stdout",
       "text": [
        "\r",
        "Alpha: 0.012834  Progress: 48.77%  Words/thread/sec: 8.87k  "
       ]
      },
      {
       "output_type": "stream",
       "stream": "stdout",
       "text": [
        "\r",
        "Alpha: 0.012806  Progress: 48.88%  Words/thread/sec: 8.87k  "
       ]
      },
      {
       "output_type": "stream",
       "stream": "stdout",
       "text": [
        "\r",
        "Alpha: 0.012780  Progress: 48.99%  Words/thread/sec: 8.87k  "
       ]
      },
      {
       "output_type": "stream",
       "stream": "stdout",
       "text": [
        "\r",
        "Alpha: 0.012752  Progress: 49.10%  Words/thread/sec: 8.89k  "
       ]
      },
      {
       "output_type": "stream",
       "stream": "stdout",
       "text": [
        "\r",
        "Alpha: 0.012725  Progress: 49.20%  Words/thread/sec: 8.90k  "
       ]
      },
      {
       "output_type": "stream",
       "stream": "stdout",
       "text": [
        "\r",
        "Alpha: 0.012699  Progress: 49.31%  Words/thread/sec: 8.90k  \r",
        "Alpha: 0.012672  Progress: 49.42%  Words/thread/sec: 8.92k  "
       ]
      },
      {
       "output_type": "stream",
       "stream": "stdout",
       "text": [
        "\r",
        "Alpha: 0.012646  Progress: 49.53%  Words/thread/sec: 8.87k  "
       ]
      },
      {
       "output_type": "stream",
       "stream": "stdout",
       "text": [
        "\r",
        "Alpha: 0.012617  Progress: 49.64%  Words/thread/sec: 8.86k  "
       ]
      },
      {
       "output_type": "stream",
       "stream": "stdout",
       "text": [
        "\r",
        "Alpha: 0.012591  Progress: 49.75%  Words/thread/sec: 8.86k  "
       ]
      },
      {
       "output_type": "stream",
       "stream": "stdout",
       "text": [
        "\r",
        "Alpha: 0.012563  Progress: 49.85%  Words/thread/sec: 8.88k  "
       ]
      },
      {
       "output_type": "stream",
       "stream": "stdout",
       "text": [
        "\r",
        "Alpha: 0.012537  Progress: 49.96%  Words/thread/sec: 8.88k  "
       ]
      },
      {
       "output_type": "stream",
       "stream": "stdout",
       "text": [
        "\r",
        "Alpha: 0.012510  Progress: 50.07%  Words/thread/sec: 8.88k  "
       ]
      },
      {
       "output_type": "stream",
       "stream": "stdout",
       "text": [
        "\r",
        "Alpha: 0.012483  Progress: 50.18%  Words/thread/sec: 8.86k  "
       ]
      },
      {
       "output_type": "stream",
       "stream": "stdout",
       "text": [
        "\r",
        "Alpha: 0.012456  Progress: 50.28%  Words/thread/sec: 8.88k  "
       ]
      },
      {
       "output_type": "stream",
       "stream": "stdout",
       "text": [
        "\r",
        "Alpha: 0.012429  Progress: 50.39%  Words/thread/sec: 8.89k  "
       ]
      },
      {
       "output_type": "stream",
       "stream": "stdout",
       "text": [
        "\r",
        "Alpha: 0.012402  Progress: 50.51%  Words/thread/sec: 8.91k  "
       ]
      },
      {
       "output_type": "stream",
       "stream": "stdout",
       "text": [
        "\r",
        "Alpha: 0.012373  Progress: 50.61%  Words/thread/sec: 8.91k  \r",
        "Alpha: 0.012346  Progress: 50.72%  Words/thread/sec: 8.93k  "
       ]
      },
      {
       "output_type": "stream",
       "stream": "stdout",
       "text": [
        "\r",
        "Alpha: 0.012320  Progress: 50.83%  Words/thread/sec: 8.88k  "
       ]
      },
      {
       "output_type": "stream",
       "stream": "stdout",
       "text": [
        "\r",
        "Alpha: 0.012293  Progress: 50.93%  Words/thread/sec: 8.87k  "
       ]
      },
      {
       "output_type": "stream",
       "stream": "stdout",
       "text": [
        "\r",
        "Alpha: 0.012267  Progress: 51.04%  Words/thread/sec: 8.88k  "
       ]
      },
      {
       "output_type": "stream",
       "stream": "stdout",
       "text": [
        "\r",
        "Alpha: 0.012240  Progress: 51.15%  Words/thread/sec: 8.89k  "
       ]
      },
      {
       "output_type": "stream",
       "stream": "stdout",
       "text": [
        "\r",
        "Alpha: 0.012213  Progress: 51.26%  Words/thread/sec: 8.89k  "
       ]
      },
      {
       "output_type": "stream",
       "stream": "stdout",
       "text": [
        "\r",
        "Alpha: 0.012185  Progress: 51.37%  Words/thread/sec: 8.89k  "
       ]
      },
      {
       "output_type": "stream",
       "stream": "stdout",
       "text": [
        "\r",
        "Alpha: 0.012158  Progress: 51.47%  Words/thread/sec: 8.87k  "
       ]
      },
      {
       "output_type": "stream",
       "stream": "stdout",
       "text": [
        "\r",
        "Alpha: 0.012131  Progress: 51.58%  Words/thread/sec: 8.88k  \r",
        "Alpha: 0.012104  Progress: 51.69%  Words/thread/sec: 8.90k  "
       ]
      },
      {
       "output_type": "stream",
       "stream": "stdout",
       "text": [
        "\r",
        "Alpha: 0.012078  Progress: 51.80%  Words/thread/sec: 8.91k  "
       ]
      },
      {
       "output_type": "stream",
       "stream": "stdout",
       "text": [
        "\r",
        "Alpha: 0.012051  Progress: 51.90%  Words/thread/sec: 8.91k  "
       ]
      },
      {
       "output_type": "stream",
       "stream": "stdout",
       "text": [
        "\r",
        "Alpha: 0.012025  Progress: 52.01%  Words/thread/sec: 8.93k  "
       ]
      },
      {
       "output_type": "stream",
       "stream": "stdout",
       "text": [
        "\r",
        "Alpha: 0.011997  Progress: 52.12%  Words/thread/sec: 8.86k  "
       ]
      },
      {
       "output_type": "stream",
       "stream": "stdout",
       "text": [
        "\r",
        "Alpha: 0.011971  Progress: 52.23%  Words/thread/sec: 8.88k  "
       ]
      },
      {
       "output_type": "stream",
       "stream": "stdout",
       "text": [
        "\r",
        "Alpha: 0.011942  Progress: 52.34%  Words/thread/sec: 8.89k  "
       ]
      },
      {
       "output_type": "stream",
       "stream": "stdout",
       "text": [
        "\r",
        "Alpha: 0.011915  Progress: 52.45%  Words/thread/sec: 8.89k  "
       ]
      },
      {
       "output_type": "stream",
       "stream": "stdout",
       "text": [
        "\r",
        "Alpha: 0.011889  Progress: 52.56%  Words/thread/sec: 8.90k  "
       ]
      },
      {
       "output_type": "stream",
       "stream": "stdout",
       "text": [
        "\r",
        "Alpha: 0.011861  Progress: 52.67%  Words/thread/sec: 8.89k  "
       ]
      },
      {
       "output_type": "stream",
       "stream": "stdout",
       "text": [
        "\r",
        "Alpha: 0.011834  Progress: 52.77%  Words/thread/sec: 8.87k  "
       ]
      },
      {
       "output_type": "stream",
       "stream": "stdout",
       "text": [
        "\r",
        "Alpha: 0.011807  Progress: 52.88%  Words/thread/sec: 8.89k  "
       ]
      },
      {
       "output_type": "stream",
       "stream": "stdout",
       "text": [
        "\r",
        "Alpha: 0.011780  Progress: 52.99%  Words/thread/sec: 8.90k  "
       ]
      },
      {
       "output_type": "stream",
       "stream": "stdout",
       "text": [
        "\r",
        "Alpha: 0.011753  Progress: 53.10%  Words/thread/sec: 8.91k  "
       ]
      },
      {
       "output_type": "stream",
       "stream": "stdout",
       "text": [
        "\r",
        "Alpha: 0.011726  Progress: 53.20%  Words/thread/sec: 8.92k  "
       ]
      },
      {
       "output_type": "stream",
       "stream": "stdout",
       "text": [
        "\r",
        "Alpha: 0.011699  Progress: 53.31%  Words/thread/sec: 8.93k  "
       ]
      },
      {
       "output_type": "stream",
       "stream": "stdout",
       "text": [
        "\r",
        "Alpha: 0.011673  Progress: 53.42%  Words/thread/sec: 8.87k  \r",
        "Alpha: 0.011645  Progress: 53.52%  Words/thread/sec: 8.88k  "
       ]
      },
      {
       "output_type": "stream",
       "stream": "stdout",
       "text": [
        "\r",
        "Alpha: 0.011619  Progress: 53.64%  Words/thread/sec: 8.88k  "
       ]
      },
      {
       "output_type": "stream",
       "stream": "stdout",
       "text": [
        "\r",
        "Alpha: 0.011590  Progress: 53.75%  Words/thread/sec: 8.90k  "
       ]
      },
      {
       "output_type": "stream",
       "stream": "stdout",
       "text": [
        "\r",
        "Alpha: 0.011563  Progress: 53.86%  Words/thread/sec: 8.91k  "
       ]
      },
      {
       "output_type": "stream",
       "stream": "stdout",
       "text": [
        "\r",
        "Alpha: 0.011536  Progress: 53.97%  Words/thread/sec: 8.90k  "
       ]
      },
      {
       "output_type": "stream",
       "stream": "stdout",
       "text": [
        "\r",
        "Alpha: 0.011508  Progress: 54.07%  Words/thread/sec: 8.88k  "
       ]
      },
      {
       "output_type": "stream",
       "stream": "stdout",
       "text": [
        "\r",
        "Alpha: 0.011482  Progress: 54.18%  Words/thread/sec: 8.89k  "
       ]
      },
      {
       "output_type": "stream",
       "stream": "stdout",
       "text": [
        "\r",
        "Alpha: 0.011455  Progress: 54.29%  Words/thread/sec: 8.91k  "
       ]
      },
      {
       "output_type": "stream",
       "stream": "stdout",
       "text": [
        "\r",
        "Alpha: 0.011428  Progress: 54.39%  Words/thread/sec: 8.92k  "
       ]
      },
      {
       "output_type": "stream",
       "stream": "stdout",
       "text": [
        "\r",
        "Alpha: 0.011401  Progress: 54.50%  Words/thread/sec: 8.93k  "
       ]
      },
      {
       "output_type": "stream",
       "stream": "stdout",
       "text": [
        "\r",
        "Alpha: 0.011375  Progress: 54.61%  Words/thread/sec: 8.94k  "
       ]
      },
      {
       "output_type": "stream",
       "stream": "stdout",
       "text": [
        "\r",
        "Alpha: 0.011348  Progress: 54.71%  Words/thread/sec: 8.88k  "
       ]
      },
      {
       "output_type": "stream",
       "stream": "stdout",
       "text": [
        "\r",
        "Alpha: 0.011321  Progress: 54.82%  Words/thread/sec: 8.89k  "
       ]
      },
      {
       "output_type": "stream",
       "stream": "stdout",
       "text": [
        "\r",
        "Alpha: 0.011295  Progress: 54.93%  Words/thread/sec: 8.89k  "
       ]
      },
      {
       "output_type": "stream",
       "stream": "stdout",
       "text": [
        "\r",
        "Alpha: 0.011268  Progress: 55.04%  Words/thread/sec: 8.90k  "
       ]
      },
      {
       "output_type": "stream",
       "stream": "stdout",
       "text": [
        "\r",
        "Alpha: 0.011240  Progress: 55.15%  Words/thread/sec: 8.92k  "
       ]
      },
      {
       "output_type": "stream",
       "stream": "stdout",
       "text": [
        "\r",
        "Alpha: 0.011213  Progress: 55.26%  Words/thread/sec: 8.90k  "
       ]
      },
      {
       "output_type": "stream",
       "stream": "stdout",
       "text": [
        "\r",
        "Alpha: 0.011186  Progress: 55.37%  Words/thread/sec: 8.88k  "
       ]
      },
      {
       "output_type": "stream",
       "stream": "stdout",
       "text": [
        "\r",
        "Alpha: 0.011159  Progress: 55.47%  Words/thread/sec: 8.89k  "
       ]
      },
      {
       "output_type": "stream",
       "stream": "stdout",
       "text": [
        "\r",
        "Alpha: 0.011132  Progress: 55.58%  Words/thread/sec: 8.90k  \r",
        "Alpha: 0.011105  Progress: 55.69%  Words/thread/sec: 8.92k  "
       ]
      },
      {
       "output_type": "stream",
       "stream": "stdout",
       "text": [
        "\r",
        "Alpha: 0.011078  Progress: 55.79%  Words/thread/sec: 8.93k  "
       ]
      },
      {
       "output_type": "stream",
       "stream": "stdout",
       "text": [
        "\r",
        "Alpha: 0.011052  Progress: 55.90%  Words/thread/sec: 8.94k  "
       ]
      },
      {
       "output_type": "stream",
       "stream": "stdout",
       "text": [
        "\r",
        "Alpha: 0.011025  Progress: 56.01%  Words/thread/sec: 8.88k  "
       ]
      },
      {
       "output_type": "stream",
       "stream": "stdout",
       "text": [
        "\r",
        "Alpha: 0.010998  Progress: 56.12%  Words/thread/sec: 8.89k  "
       ]
      },
      {
       "output_type": "stream",
       "stream": "stdout",
       "text": [
        "\r",
        "Alpha: 0.010971  Progress: 56.22%  Words/thread/sec: 8.89k  "
       ]
      },
      {
       "output_type": "stream",
       "stream": "stdout",
       "text": [
        "\r",
        "Alpha: 0.010944  Progress: 56.33%  Words/thread/sec: 8.90k  "
       ]
      },
      {
       "output_type": "stream",
       "stream": "stdout",
       "text": [
        "\r",
        "Alpha: 0.010917  Progress: 56.44%  Words/thread/sec: 8.92k  "
       ]
      },
      {
       "output_type": "stream",
       "stream": "stdout",
       "text": [
        "\r",
        "Alpha: 0.010890  Progress: 56.55%  Words/thread/sec: 8.91k  "
       ]
      },
      {
       "output_type": "stream",
       "stream": "stdout",
       "text": [
        "\r",
        "Alpha: 0.010863  Progress: 56.66%  Words/thread/sec: 8.89k  "
       ]
      },
      {
       "output_type": "stream",
       "stream": "stdout",
       "text": [
        "\r",
        "Alpha: 0.010836  Progress: 56.76%  Words/thread/sec: 8.89k  "
       ]
      },
      {
       "output_type": "stream",
       "stream": "stdout",
       "text": [
        "\r",
        "Alpha: 0.010809  Progress: 56.87%  Words/thread/sec: 8.90k  "
       ]
      },
      {
       "output_type": "stream",
       "stream": "stdout",
       "text": [
        "\r",
        "Alpha: 0.010782  Progress: 56.98%  Words/thread/sec: 8.92k  "
       ]
      },
      {
       "output_type": "stream",
       "stream": "stdout",
       "text": [
        "\r",
        "Alpha: 0.010756  Progress: 57.08%  Words/thread/sec: 8.92k  "
       ]
      },
      {
       "output_type": "stream",
       "stream": "stdout",
       "text": [
        "\r",
        "Alpha: 0.010729  Progress: 57.20%  Words/thread/sec: 8.93k  "
       ]
      },
      {
       "output_type": "stream",
       "stream": "stdout",
       "text": [
        "\r",
        "Alpha: 0.010701  Progress: 57.31%  Words/thread/sec: 8.90k  "
       ]
      },
      {
       "output_type": "stream",
       "stream": "stdout",
       "text": [
        "\r",
        "Alpha: 0.010673  Progress: 57.42%  Words/thread/sec: 8.90k  "
       ]
      },
      {
       "output_type": "stream",
       "stream": "stdout",
       "text": [
        "\r",
        "Alpha: 0.010646  Progress: 57.52%  Words/thread/sec: 8.90k  "
       ]
      },
      {
       "output_type": "stream",
       "stream": "stdout",
       "text": [
        "\r",
        "Alpha: 0.010620  Progress: 57.63%  Words/thread/sec: 8.91k  "
       ]
      },
      {
       "output_type": "stream",
       "stream": "stdout",
       "text": [
        "\r",
        "Alpha: 0.010592  Progress: 57.74%  Words/thread/sec: 8.92k  "
       ]
      },
      {
       "output_type": "stream",
       "stream": "stdout",
       "text": [
        "\r",
        "Alpha: 0.010565  Progress: 57.85%  Words/thread/sec: 8.91k  "
       ]
      },
      {
       "output_type": "stream",
       "stream": "stdout",
       "text": [
        "\r",
        "Alpha: 0.010537  Progress: 57.96%  Words/thread/sec: 8.89k  "
       ]
      },
      {
       "output_type": "stream",
       "stream": "stdout",
       "text": [
        "\r",
        "Alpha: 0.010510  Progress: 58.06%  Words/thread/sec: 8.90k  \r",
        "Alpha: 0.010484  Progress: 58.17%  Words/thread/sec: 8.91k  "
       ]
      },
      {
       "output_type": "stream",
       "stream": "stdout",
       "text": [
        "\r",
        "Alpha: 0.010457  Progress: 58.28%  Words/thread/sec: 8.91k  "
       ]
      },
      {
       "output_type": "stream",
       "stream": "stdout",
       "text": [
        "\r",
        "Alpha: 0.010431  Progress: 58.39%  Words/thread/sec: 8.93k  "
       ]
      },
      {
       "output_type": "stream",
       "stream": "stdout",
       "text": [
        "\r",
        "Alpha: 0.010403  Progress: 58.50%  Words/thread/sec: 8.91k  "
       ]
      },
      {
       "output_type": "stream",
       "stream": "stdout",
       "text": [
        "\r",
        "Alpha: 0.010375  Progress: 58.61%  Words/thread/sec: 8.90k  "
       ]
      },
      {
       "output_type": "stream",
       "stream": "stdout",
       "text": [
        "\r",
        "Alpha: 0.010347  Progress: 58.72%  Words/thread/sec: 8.90k  "
       ]
      },
      {
       "output_type": "stream",
       "stream": "stdout",
       "text": [
        "\r",
        "Alpha: 0.010320  Progress: 58.82%  Words/thread/sec: 8.91k  "
       ]
      },
      {
       "output_type": "stream",
       "stream": "stdout",
       "text": [
        "\r",
        "Alpha: 0.010294  Progress: 58.93%  Words/thread/sec: 8.91k  "
       ]
      },
      {
       "output_type": "stream",
       "stream": "stdout",
       "text": [
        "\r",
        "Alpha: 0.010266  Progress: 59.04%  Words/thread/sec: 8.92k  "
       ]
      },
      {
       "output_type": "stream",
       "stream": "stdout",
       "text": [
        "\r",
        "Alpha: 0.010240  Progress: 59.16%  Words/thread/sec: 8.91k  "
       ]
      },
      {
       "output_type": "stream",
       "stream": "stdout",
       "text": [
        "\r",
        "Alpha: 0.010211  Progress: 59.26%  Words/thread/sec: 8.90k  "
       ]
      },
      {
       "output_type": "stream",
       "stream": "stdout",
       "text": [
        "\r",
        "Alpha: 0.010184  Progress: 59.37%  Words/thread/sec: 8.90k  \r",
        "Alpha: 0.010157  Progress: 59.49%  Words/thread/sec: 8.91k  "
       ]
      },
      {
       "output_type": "stream",
       "stream": "stdout",
       "text": [
        "\r",
        "Alpha: 0.010129  Progress: 59.59%  Words/thread/sec: 8.92k  "
       ]
      },
      {
       "output_type": "stream",
       "stream": "stdout",
       "text": [
        "\r",
        "Alpha: 0.010102  Progress: 59.70%  Words/thread/sec: 8.93k  "
       ]
      },
      {
       "output_type": "stream",
       "stream": "stdout",
       "text": [
        "\r",
        "Alpha: 0.010075  Progress: 59.81%  Words/thread/sec: 8.90k  "
       ]
      },
      {
       "output_type": "stream",
       "stream": "stdout",
       "text": [
        "\r",
        "Alpha: 0.010046  Progress: 59.92%  Words/thread/sec: 8.91k  "
       ]
      },
      {
       "output_type": "stream",
       "stream": "stdout",
       "text": [
        "\r",
        "Alpha: 0.010019  Progress: 60.03%  Words/thread/sec: 8.91k  "
       ]
      },
      {
       "output_type": "stream",
       "stream": "stdout",
       "text": [
        "\r",
        "Alpha: 0.009993  Progress: 60.14%  Words/thread/sec: 8.92k  "
       ]
      },
      {
       "output_type": "stream",
       "stream": "stdout",
       "text": [
        "\r",
        "Alpha: 0.009966  Progress: 60.25%  Words/thread/sec: 8.92k  "
       ]
      },
      {
       "output_type": "stream",
       "stream": "stdout",
       "text": [
        "\r",
        "Alpha: 0.009939  Progress: 60.35%  Words/thread/sec: 8.92k  "
       ]
      },
      {
       "output_type": "stream",
       "stream": "stdout",
       "text": [
        "\r",
        "Alpha: 0.009912  Progress: 60.46%  Words/thread/sec: 8.91k  "
       ]
      },
      {
       "output_type": "stream",
       "stream": "stdout",
       "text": [
        "\r",
        "Alpha: 0.009885  Progress: 60.57%  Words/thread/sec: 8.90k  "
       ]
      },
      {
       "output_type": "stream",
       "stream": "stdout",
       "text": [
        "\r",
        "Alpha: 0.009858  Progress: 60.67%  Words/thread/sec: 8.90k  "
       ]
      },
      {
       "output_type": "stream",
       "stream": "stdout",
       "text": [
        "\r",
        "Alpha: 0.009831  Progress: 60.78%  Words/thread/sec: 8.91k  "
       ]
      },
      {
       "output_type": "stream",
       "stream": "stdout",
       "text": [
        "\r",
        "Alpha: 0.009804  Progress: 60.90%  Words/thread/sec: 8.91k  "
       ]
      },
      {
       "output_type": "stream",
       "stream": "stdout",
       "text": [
        "\r",
        "Alpha: 0.009775  Progress: 61.02%  Words/thread/sec: 8.91k  "
       ]
      },
      {
       "output_type": "stream",
       "stream": "stdout",
       "text": [
        "\r",
        "Alpha: 0.009746  Progress: 61.12%  Words/thread/sec: 8.91k  "
       ]
      },
      {
       "output_type": "stream",
       "stream": "stdout",
       "text": [
        "\r",
        "Alpha: 0.009720  Progress: 61.23%  Words/thread/sec: 8.91k  "
       ]
      },
      {
       "output_type": "stream",
       "stream": "stdout",
       "text": [
        "\r",
        "Alpha: 0.009692  Progress: 61.34%  Words/thread/sec: 8.92k  "
       ]
      },
      {
       "output_type": "stream",
       "stream": "stdout",
       "text": [
        "\r",
        "Alpha: 0.009666  Progress: 61.44%  Words/thread/sec: 8.92k  "
       ]
      },
      {
       "output_type": "stream",
       "stream": "stdout",
       "text": [
        "\r",
        "Alpha: 0.009639  Progress: 61.55%  Words/thread/sec: 8.93k  "
       ]
      },
      {
       "output_type": "stream",
       "stream": "stdout",
       "text": [
        "\r",
        "Alpha: 0.009612  Progress: 61.66%  Words/thread/sec: 8.92k  "
       ]
      },
      {
       "output_type": "stream",
       "stream": "stdout",
       "text": [
        "\r",
        "Alpha: 0.009585  Progress: 61.77%  Words/thread/sec: 8.92k  "
       ]
      },
      {
       "output_type": "stream",
       "stream": "stdout",
       "text": [
        "\r",
        "Alpha: 0.009558  Progress: 61.88%  Words/thread/sec: 8.90k  "
       ]
      },
      {
       "output_type": "stream",
       "stream": "stdout",
       "text": [
        "\r",
        "Alpha: 0.009531  Progress: 61.98%  Words/thread/sec: 8.90k  "
       ]
      },
      {
       "output_type": "stream",
       "stream": "stdout",
       "text": [
        "\r",
        "Alpha: 0.009505  Progress: 62.09%  Words/thread/sec: 8.91k  "
       ]
      },
      {
       "output_type": "stream",
       "stream": "stdout",
       "text": [
        "\r",
        "Alpha: 0.009477  Progress: 62.20%  Words/thread/sec: 8.91k  "
       ]
      },
      {
       "output_type": "stream",
       "stream": "stdout",
       "text": [
        "\r",
        "Alpha: 0.009451  Progress: 62.30%  Words/thread/sec: 8.90k  "
       ]
      },
      {
       "output_type": "stream",
       "stream": "stdout",
       "text": [
        "\r",
        "Alpha: 0.009424  Progress: 62.41%  Words/thread/sec: 8.91k  "
       ]
      },
      {
       "output_type": "stream",
       "stream": "stdout",
       "text": [
        "\r",
        "Alpha: 0.009398  Progress: 62.52%  Words/thread/sec: 8.92k  "
       ]
      },
      {
       "output_type": "stream",
       "stream": "stdout",
       "text": [
        "\r",
        "Alpha: 0.009371  Progress: 62.62%  Words/thread/sec: 8.93k  "
       ]
      },
      {
       "output_type": "stream",
       "stream": "stdout",
       "text": [
        "\r",
        "Alpha: 0.009344  Progress: 62.73%  Words/thread/sec: 8.93k  "
       ]
      },
      {
       "output_type": "stream",
       "stream": "stdout",
       "text": [
        "\r",
        "Alpha: 0.009317  Progress: 62.84%  Words/thread/sec: 8.93k  "
       ]
      },
      {
       "output_type": "stream",
       "stream": "stdout",
       "text": [
        "\r",
        "Alpha: 0.009290  Progress: 62.95%  Words/thread/sec: 8.93k  "
       ]
      },
      {
       "output_type": "stream",
       "stream": "stdout",
       "text": [
        "\r",
        "Alpha: 0.009264  Progress: 63.05%  Words/thread/sec: 8.92k  "
       ]
      },
      {
       "output_type": "stream",
       "stream": "stdout",
       "text": [
        "\r",
        "Alpha: 0.009236  Progress: 63.16%  Words/thread/sec: 8.90k  "
       ]
      },
      {
       "output_type": "stream",
       "stream": "stdout",
       "text": [
        "\r",
        "Alpha: 0.009209  Progress: 63.28%  Words/thread/sec: 8.90k  "
       ]
      },
      {
       "output_type": "stream",
       "stream": "stdout",
       "text": [
        "\r",
        "Alpha: 0.009181  Progress: 63.38%  Words/thread/sec: 8.91k  "
       ]
      },
      {
       "output_type": "stream",
       "stream": "stdout",
       "text": [
        "\r",
        "Alpha: 0.009154  Progress: 63.49%  Words/thread/sec: 8.89k  \r",
        "Alpha: 0.009127  Progress: 63.61%  Words/thread/sec: 8.91k  "
       ]
      },
      {
       "output_type": "stream",
       "stream": "stdout",
       "text": [
        "\r",
        "Alpha: 0.009098  Progress: 63.71%  Words/thread/sec: 8.91k  "
       ]
      },
      {
       "output_type": "stream",
       "stream": "stdout",
       "text": [
        "\r",
        "Alpha: 0.009072  Progress: 63.82%  Words/thread/sec: 8.92k  "
       ]
      },
      {
       "output_type": "stream",
       "stream": "stdout",
       "text": [
        "\r",
        "Alpha: 0.009045  Progress: 63.93%  Words/thread/sec: 8.93k  "
       ]
      },
      {
       "output_type": "stream",
       "stream": "stdout",
       "text": [
        "\r",
        "Alpha: 0.009017  Progress: 64.04%  Words/thread/sec: 8.94k  "
       ]
      },
      {
       "output_type": "stream",
       "stream": "stdout",
       "text": [
        "\r",
        "Alpha: 0.008990  Progress: 64.15%  Words/thread/sec: 8.93k  "
       ]
      },
      {
       "output_type": "stream",
       "stream": "stdout",
       "text": [
        "\r",
        "Alpha: 0.008963  Progress: 64.25%  Words/thread/sec: 8.93k  "
       ]
      },
      {
       "output_type": "stream",
       "stream": "stdout",
       "text": [
        "\r",
        "Alpha: 0.008937  Progress: 64.36%  Words/thread/sec: 8.92k  "
       ]
      },
      {
       "output_type": "stream",
       "stream": "stdout",
       "text": [
        "\r",
        "Alpha: 0.008910  Progress: 64.47%  Words/thread/sec: 8.91k  "
       ]
      },
      {
       "output_type": "stream",
       "stream": "stdout",
       "text": [
        "\r",
        "Alpha: 0.008883  Progress: 64.58%  Words/thread/sec: 8.90k  "
       ]
      },
      {
       "output_type": "stream",
       "stream": "stdout",
       "text": [
        "\r",
        "Alpha: 0.008856  Progress: 64.69%  Words/thread/sec: 8.91k  "
       ]
      },
      {
       "output_type": "stream",
       "stream": "stdout",
       "text": [
        "\r",
        "Alpha: 0.008828  Progress: 64.79%  Words/thread/sec: 8.89k  \r",
        "Alpha: 0.008801  Progress: 64.90%  Words/thread/sec: 8.91k  "
       ]
      },
      {
       "output_type": "stream",
       "stream": "stdout",
       "text": [
        "\r",
        "Alpha: 0.008775  Progress: 65.01%  Words/thread/sec: 8.91k  "
       ]
      },
      {
       "output_type": "stream",
       "stream": "stdout",
       "text": [
        "\r",
        "Alpha: 0.008748  Progress: 65.12%  Words/thread/sec: 8.92k  "
       ]
      },
      {
       "output_type": "stream",
       "stream": "stdout",
       "text": [
        "\r",
        "Alpha: 0.008721  Progress: 65.23%  Words/thread/sec: 8.93k  "
       ]
      },
      {
       "output_type": "stream",
       "stream": "stdout",
       "text": [
        "\r",
        "Alpha: 0.008693  Progress: 65.34%  Words/thread/sec: 8.94k  "
       ]
      },
      {
       "output_type": "stream",
       "stream": "stdout",
       "text": [
        "\r",
        "Alpha: 0.008665  Progress: 65.45%  Words/thread/sec: 8.93k  "
       ]
      },
      {
       "output_type": "stream",
       "stream": "stdout",
       "text": [
        "\r",
        "Alpha: 0.008638  Progress: 65.55%  Words/thread/sec: 8.93k  "
       ]
      },
      {
       "output_type": "stream",
       "stream": "stdout",
       "text": [
        "\r",
        "Alpha: 0.008612  Progress: 65.66%  Words/thread/sec: 8.93k  "
       ]
      },
      {
       "output_type": "stream",
       "stream": "stdout",
       "text": [
        "\r",
        "Alpha: 0.008585  Progress: 65.77%  Words/thread/sec: 8.91k  "
       ]
      },
      {
       "output_type": "stream",
       "stream": "stdout",
       "text": [
        "\r",
        "Alpha: 0.008558  Progress: 65.88%  Words/thread/sec: 8.90k  "
       ]
      },
      {
       "output_type": "stream",
       "stream": "stdout",
       "text": [
        "\r",
        "Alpha: 0.008530  Progress: 65.99%  Words/thread/sec: 8.92k  "
       ]
      },
      {
       "output_type": "stream",
       "stream": "stdout",
       "text": [
        "\r",
        "Alpha: 0.008504  Progress: 66.09%  Words/thread/sec: 8.90k  \r",
        "Alpha: 0.008477  Progress: 66.20%  Words/thread/sec: 8.91k  "
       ]
      },
      {
       "output_type": "stream",
       "stream": "stdout",
       "text": [
        "\r",
        "Alpha: 0.008450  Progress: 66.31%  Words/thread/sec: 8.91k  "
       ]
      },
      {
       "output_type": "stream",
       "stream": "stdout",
       "text": [
        "\r",
        "Alpha: 0.008422  Progress: 66.42%  Words/thread/sec: 8.92k  "
       ]
      },
      {
       "output_type": "stream",
       "stream": "stdout",
       "text": [
        "\r",
        "Alpha: 0.008396  Progress: 66.53%  Words/thread/sec: 8.94k  "
       ]
      },
      {
       "output_type": "stream",
       "stream": "stdout",
       "text": [
        "\r",
        "Alpha: 0.008368  Progress: 66.63%  Words/thread/sec: 8.91k  "
       ]
      },
      {
       "output_type": "stream",
       "stream": "stdout",
       "text": [
        "\r",
        "Alpha: 0.008341  Progress: 66.74%  Words/thread/sec: 8.92k  "
       ]
      },
      {
       "output_type": "stream",
       "stream": "stdout",
       "text": [
        "\r",
        "Alpha: 0.008314  Progress: 66.86%  Words/thread/sec: 8.93k  "
       ]
      },
      {
       "output_type": "stream",
       "stream": "stdout",
       "text": [
        "\r",
        "Alpha: 0.008286  Progress: 66.97%  Words/thread/sec: 8.93k  "
       ]
      },
      {
       "output_type": "stream",
       "stream": "stdout",
       "text": [
        "\r",
        "Alpha: 0.008259  Progress: 67.07%  Words/thread/sec: 8.91k  "
       ]
      },
      {
       "output_type": "stream",
       "stream": "stdout",
       "text": [
        "\r",
        "Alpha: 0.008232  Progress: 67.18%  Words/thread/sec: 8.91k  "
       ]
      },
      {
       "output_type": "stream",
       "stream": "stdout",
       "text": [
        "\r",
        "Alpha: 0.008205  Progress: 67.29%  Words/thread/sec: 8.92k  "
       ]
      },
      {
       "output_type": "stream",
       "stream": "stdout",
       "text": [
        "\r",
        "Alpha: 0.008178  Progress: 67.40%  Words/thread/sec: 8.90k  "
       ]
      },
      {
       "output_type": "stream",
       "stream": "stdout",
       "text": [
        "\r",
        "Alpha: 0.008151  Progress: 67.50%  Words/thread/sec: 8.91k  \r",
        "Alpha: 0.008124  Progress: 67.61%  Words/thread/sec: 8.92k  "
       ]
      },
      {
       "output_type": "stream",
       "stream": "stdout",
       "text": [
        "\r",
        "Alpha: 0.008098  Progress: 67.72%  Words/thread/sec: 8.93k  "
       ]
      },
      {
       "output_type": "stream",
       "stream": "stdout",
       "text": [
        "\r",
        "Alpha: 0.008071  Progress: 67.82%  Words/thread/sec: 8.93k  "
       ]
      },
      {
       "output_type": "stream",
       "stream": "stdout",
       "text": [
        "\r",
        "Alpha: 0.008044  Progress: 67.93%  Words/thread/sec: 8.91k  "
       ]
      },
      {
       "output_type": "stream",
       "stream": "stdout",
       "text": [
        "\r",
        "Alpha: 0.008017  Progress: 68.04%  Words/thread/sec: 8.92k  "
       ]
      },
      {
       "output_type": "stream",
       "stream": "stdout",
       "text": [
        "\r",
        "Alpha: 0.007990  Progress: 68.15%  Words/thread/sec: 8.92k  "
       ]
      },
      {
       "output_type": "stream",
       "stream": "stdout",
       "text": [
        "\r",
        "Alpha: 0.007963  Progress: 68.26%  Words/thread/sec: 8.92k  "
       ]
      },
      {
       "output_type": "stream",
       "stream": "stdout",
       "text": [
        "\r",
        "Alpha: 0.007934  Progress: 68.37%  Words/thread/sec: 8.92k  "
       ]
      },
      {
       "output_type": "stream",
       "stream": "stdout",
       "text": [
        "\r",
        "Alpha: 0.007907  Progress: 68.48%  Words/thread/sec: 8.91k  "
       ]
      },
      {
       "output_type": "stream",
       "stream": "stdout",
       "text": [
        "\r",
        "Alpha: 0.007880  Progress: 68.59%  Words/thread/sec: 8.92k  "
       ]
      },
      {
       "output_type": "stream",
       "stream": "stdout",
       "text": [
        "\r",
        "Alpha: 0.007853  Progress: 68.70%  Words/thread/sec: 8.91k  "
       ]
      },
      {
       "output_type": "stream",
       "stream": "stdout",
       "text": [
        "\r",
        "Alpha: 0.007825  Progress: 68.81%  Words/thread/sec: 8.91k  \r",
        "Alpha: 0.007799  Progress: 68.91%  Words/thread/sec: 8.92k  "
       ]
      },
      {
       "output_type": "stream",
       "stream": "stdout",
       "text": [
        "\r",
        "Alpha: 0.007772  Progress: 69.02%  Words/thread/sec: 8.93k  "
       ]
      },
      {
       "output_type": "stream",
       "stream": "stdout",
       "text": [
        "\r",
        "Alpha: 0.007745  Progress: 69.13%  Words/thread/sec: 8.91k  "
       ]
      },
      {
       "output_type": "stream",
       "stream": "stdout",
       "text": [
        "\r",
        "Alpha: 0.007718  Progress: 69.24%  Words/thread/sec: 8.91k  "
       ]
      },
      {
       "output_type": "stream",
       "stream": "stdout",
       "text": [
        "\r",
        "Alpha: 0.007691  Progress: 69.34%  Words/thread/sec: 8.90k  "
       ]
      },
      {
       "output_type": "stream",
       "stream": "stdout",
       "text": [
        "\r",
        "Alpha: 0.007664  Progress: 69.45%  Words/thread/sec: 8.91k  "
       ]
      },
      {
       "output_type": "stream",
       "stream": "stdout",
       "text": [
        "\r",
        "Alpha: 0.007637  Progress: 69.56%  Words/thread/sec: 8.91k  "
       ]
      },
      {
       "output_type": "stream",
       "stream": "stdout",
       "text": [
        "\r",
        "Alpha: 0.007610  Progress: 69.68%  Words/thread/sec: 8.91k  "
       ]
      },
      {
       "output_type": "stream",
       "stream": "stdout",
       "text": [
        "\r",
        "Alpha: 0.007581  Progress: 69.78%  Words/thread/sec: 8.91k  "
       ]
      },
      {
       "output_type": "stream",
       "stream": "stdout",
       "text": [
        "\r",
        "Alpha: 0.007554  Progress: 69.89%  Words/thread/sec: 8.92k  "
       ]
      },
      {
       "output_type": "stream",
       "stream": "stdout",
       "text": [
        "\r",
        "Alpha: 0.007527  Progress: 70.00%  Words/thread/sec: 8.91k  "
       ]
      },
      {
       "output_type": "stream",
       "stream": "stdout",
       "text": [
        "\r",
        "Alpha: 0.007501  Progress: 70.10%  Words/thread/sec: 8.91k  "
       ]
      },
      {
       "output_type": "stream",
       "stream": "stdout",
       "text": [
        "\r",
        "Alpha: 0.007474  Progress: 70.21%  Words/thread/sec: 8.91k  "
       ]
      },
      {
       "output_type": "stream",
       "stream": "stdout",
       "text": [
        "\r",
        "Alpha: 0.007447  Progress: 70.33%  Words/thread/sec: 8.92k  "
       ]
      },
      {
       "output_type": "stream",
       "stream": "stdout",
       "text": [
        "\r",
        "Alpha: 0.007418  Progress: 70.43%  Words/thread/sec: 8.92k  "
       ]
      },
      {
       "output_type": "stream",
       "stream": "stdout",
       "text": [
        "\r",
        "Alpha: 0.007392  Progress: 70.54%  Words/thread/sec: 8.92k  "
       ]
      },
      {
       "output_type": "stream",
       "stream": "stdout",
       "text": [
        "\r",
        "Alpha: 0.007364  Progress: 70.65%  Words/thread/sec: 8.91k  "
       ]
      },
      {
       "output_type": "stream",
       "stream": "stdout",
       "text": [
        "\r",
        "Alpha: 0.007337  Progress: 70.76%  Words/thread/sec: 8.91k  "
       ]
      },
      {
       "output_type": "stream",
       "stream": "stdout",
       "text": [
        "\r",
        "Alpha: 0.007310  Progress: 70.87%  Words/thread/sec: 8.91k  "
       ]
      },
      {
       "output_type": "stream",
       "stream": "stdout",
       "text": [
        "\r",
        "Alpha: 0.007283  Progress: 70.98%  Words/thread/sec: 8.91k  "
       ]
      },
      {
       "output_type": "stream",
       "stream": "stdout",
       "text": [
        "\r",
        "Alpha: 0.007256  Progress: 71.08%  Words/thread/sec: 8.91k  \r",
        "Alpha: 0.007229  Progress: 71.19%  Words/thread/sec: 8.92k  "
       ]
      },
      {
       "output_type": "stream",
       "stream": "stdout",
       "text": [
        "\r",
        "Alpha: 0.007202  Progress: 71.30%  Words/thread/sec: 8.92k  "
       ]
      },
      {
       "output_type": "stream",
       "stream": "stdout",
       "text": [
        "\r",
        "Alpha: 0.007175  Progress: 71.41%  Words/thread/sec: 8.92k  "
       ]
      },
      {
       "output_type": "stream",
       "stream": "stdout",
       "text": [
        "\r",
        "Alpha: 0.007148  Progress: 71.52%  Words/thread/sec: 8.92k  "
       ]
      },
      {
       "output_type": "stream",
       "stream": "stdout",
       "text": [
        "\r",
        "Alpha: 0.007121  Progress: 71.62%  Words/thread/sec: 8.92k  "
       ]
      },
      {
       "output_type": "stream",
       "stream": "stdout",
       "text": [
        "\r",
        "Alpha: 0.007094  Progress: 71.73%  Words/thread/sec: 8.93k  "
       ]
      },
      {
       "output_type": "stream",
       "stream": "stdout",
       "text": [
        "\r",
        "Alpha: 0.007067  Progress: 71.84%  Words/thread/sec: 8.92k  "
       ]
      },
      {
       "output_type": "stream",
       "stream": "stdout",
       "text": [
        "\r",
        "Alpha: 0.007040  Progress: 71.95%  Words/thread/sec: 8.91k  "
       ]
      },
      {
       "output_type": "stream",
       "stream": "stdout",
       "text": [
        "\r",
        "Alpha: 0.007014  Progress: 72.05%  Words/thread/sec: 8.92k  "
       ]
      },
      {
       "output_type": "stream",
       "stream": "stdout",
       "text": [
        "\r",
        "Alpha: 0.006987  Progress: 72.17%  Words/thread/sec: 8.91k  "
       ]
      },
      {
       "output_type": "stream",
       "stream": "stdout",
       "text": [
        "\r",
        "Alpha: 0.006959  Progress: 72.27%  Words/thread/sec: 8.90k  "
       ]
      },
      {
       "output_type": "stream",
       "stream": "stdout",
       "text": [
        "\r",
        "Alpha: 0.006932  Progress: 72.39%  Words/thread/sec: 8.90k  \r",
        "Alpha: 0.006903  Progress: 72.49%  Words/thread/sec: 8.91k  "
       ]
      },
      {
       "output_type": "stream",
       "stream": "stdout",
       "text": [
        "\r",
        "Alpha: 0.006877  Progress: 72.61%  Words/thread/sec: 8.92k  "
       ]
      },
      {
       "output_type": "stream",
       "stream": "stdout",
       "text": [
        "\r",
        "Alpha: 0.006848  Progress: 72.72%  Words/thread/sec: 8.93k  "
       ]
      },
      {
       "output_type": "stream",
       "stream": "stdout",
       "text": [
        "\r",
        "Alpha: 0.006821  Progress: 72.83%  Words/thread/sec: 8.93k  "
       ]
      },
      {
       "output_type": "stream",
       "stream": "stdout",
       "text": [
        "\r",
        "Alpha: 0.006794  Progress: 72.94%  Words/thread/sec: 8.93k  "
       ]
      },
      {
       "output_type": "stream",
       "stream": "stdout",
       "text": [
        "\r",
        "Alpha: 0.006766  Progress: 73.04%  Words/thread/sec: 8.94k  "
       ]
      },
      {
       "output_type": "stream",
       "stream": "stdout",
       "text": [
        "\r",
        "Alpha: 0.006739  Progress: 73.15%  Words/thread/sec: 8.92k  "
       ]
      },
      {
       "output_type": "stream",
       "stream": "stdout",
       "text": [
        "\r",
        "Alpha: 0.006712  Progress: 73.26%  Words/thread/sec: 8.92k  "
       ]
      },
      {
       "output_type": "stream",
       "stream": "stdout",
       "text": [
        "\r",
        "Alpha: 0.006686  Progress: 73.37%  Words/thread/sec: 8.92k  "
       ]
      },
      {
       "output_type": "stream",
       "stream": "stdout",
       "text": [
        "\r",
        "Alpha: 0.006658  Progress: 73.48%  Words/thread/sec: 8.91k  "
       ]
      },
      {
       "output_type": "stream",
       "stream": "stdout",
       "text": [
        "\r",
        "Alpha: 0.006631  Progress: 73.58%  Words/thread/sec: 8.90k  "
       ]
      },
      {
       "output_type": "stream",
       "stream": "stdout",
       "text": [
        "\r",
        "Alpha: 0.006604  Progress: 73.69%  Words/thread/sec: 8.89k  "
       ]
      },
      {
       "output_type": "stream",
       "stream": "stdout",
       "text": [
        "\r",
        "Alpha: 0.006577  Progress: 73.81%  Words/thread/sec: 8.90k  "
       ]
      },
      {
       "output_type": "stream",
       "stream": "stdout",
       "text": [
        "\r",
        "Alpha: 0.006549  Progress: 73.92%  Words/thread/sec: 8.90k  "
       ]
      },
      {
       "output_type": "stream",
       "stream": "stdout",
       "text": [
        "\r",
        "Alpha: 0.006521  Progress: 74.03%  Words/thread/sec: 8.91k  "
       ]
      },
      {
       "output_type": "stream",
       "stream": "stdout",
       "text": [
        "\r",
        "Alpha: 0.006493  Progress: 74.14%  Words/thread/sec: 8.92k  "
       ]
      },
      {
       "output_type": "stream",
       "stream": "stdout",
       "text": [
        "\r",
        "Alpha: 0.006465  Progress: 74.26%  Words/thread/sec: 8.93k  "
       ]
      },
      {
       "output_type": "stream",
       "stream": "stdout",
       "text": [
        "\r",
        "Alpha: 0.006436  Progress: 74.36%  Words/thread/sec: 8.94k  "
       ]
      },
      {
       "output_type": "stream",
       "stream": "stdout",
       "text": [
        "\r",
        "Alpha: 0.006409  Progress: 74.47%  Words/thread/sec: 8.93k  "
       ]
      },
      {
       "output_type": "stream",
       "stream": "stdout",
       "text": [
        "\r",
        "Alpha: 0.006383  Progress: 74.58%  Words/thread/sec: 8.92k  "
       ]
      },
      {
       "output_type": "stream",
       "stream": "stdout",
       "text": [
        "\r",
        "Alpha: 0.006356  Progress: 74.68%  Words/thread/sec: 8.93k  "
       ]
      },
      {
       "output_type": "stream",
       "stream": "stdout",
       "text": [
        "\r",
        "Alpha: 0.006330  Progress: 74.79%  Words/thread/sec: 8.91k  "
       ]
      },
      {
       "output_type": "stream",
       "stream": "stdout",
       "text": [
        "\r",
        "Alpha: 0.006303  Progress: 74.90%  Words/thread/sec: 8.90k  "
       ]
      },
      {
       "output_type": "stream",
       "stream": "stdout",
       "text": [
        "\r",
        "Alpha: 0.006276  Progress: 75.00%  Words/thread/sec: 8.89k  "
       ]
      },
      {
       "output_type": "stream",
       "stream": "stdout",
       "text": [
        "\r",
        "Alpha: 0.006249  Progress: 75.11%  Words/thread/sec: 8.90k  "
       ]
      },
      {
       "output_type": "stream",
       "stream": "stdout",
       "text": [
        "\r",
        "Alpha: 0.006223  Progress: 75.22%  Words/thread/sec: 8.91k  "
       ]
      },
      {
       "output_type": "stream",
       "stream": "stdout",
       "text": [
        "\r",
        "Alpha: 0.006195  Progress: 75.33%  Words/thread/sec: 8.92k  "
       ]
      },
      {
       "output_type": "stream",
       "stream": "stdout",
       "text": [
        "\r",
        "Alpha: 0.006167  Progress: 75.44%  Words/thread/sec: 8.93k  "
       ]
      },
      {
       "output_type": "stream",
       "stream": "stdout",
       "text": [
        "\r",
        "Alpha: 0.006140  Progress: 75.55%  Words/thread/sec: 8.93k  "
       ]
      },
      {
       "output_type": "stream",
       "stream": "stdout",
       "text": [
        "\r",
        "Alpha: 0.006114  Progress: 75.66%  Words/thread/sec: 8.93k  "
       ]
      },
      {
       "output_type": "stream",
       "stream": "stdout",
       "text": [
        "\r",
        "Alpha: 0.006085  Progress: 75.77%  Words/thread/sec: 8.92k  "
       ]
      },
      {
       "output_type": "stream",
       "stream": "stdout",
       "text": [
        "\r",
        "Alpha: 0.006058  Progress: 75.88%  Words/thread/sec: 8.92k  "
       ]
      },
      {
       "output_type": "stream",
       "stream": "stdout",
       "text": [
        "\r",
        "Alpha: 0.006029  Progress: 75.99%  Words/thread/sec: 8.93k  "
       ]
      },
      {
       "output_type": "stream",
       "stream": "stdout",
       "text": [
        "\r",
        "Alpha: 0.006003  Progress: 76.10%  Words/thread/sec: 8.92k  "
       ]
      },
      {
       "output_type": "stream",
       "stream": "stdout",
       "text": [
        "\r",
        "Alpha: 0.005975  Progress: 76.21%  Words/thread/sec: 8.90k  "
       ]
      },
      {
       "output_type": "stream",
       "stream": "stdout",
       "text": [
        "\r",
        "Alpha: 0.005948  Progress: 76.32%  Words/thread/sec: 8.89k  "
       ]
      },
      {
       "output_type": "stream",
       "stream": "stdout",
       "text": [
        "\r",
        "Alpha: 0.005921  Progress: 76.42%  Words/thread/sec: 8.90k  "
       ]
      },
      {
       "output_type": "stream",
       "stream": "stdout",
       "text": [
        "\r",
        "Alpha: 0.005894  Progress: 76.53%  Words/thread/sec: 8.91k  "
       ]
      },
      {
       "output_type": "stream",
       "stream": "stdout",
       "text": [
        "\r",
        "Alpha: 0.005867  Progress: 76.64%  Words/thread/sec: 8.92k  "
       ]
      },
      {
       "output_type": "stream",
       "stream": "stdout",
       "text": [
        "\r",
        "Alpha: 0.005841  Progress: 76.75%  Words/thread/sec: 8.93k  "
       ]
      },
      {
       "output_type": "stream",
       "stream": "stdout",
       "text": [
        "\r",
        "Alpha: 0.005813  Progress: 76.86%  Words/thread/sec: 8.94k  "
       ]
      },
      {
       "output_type": "stream",
       "stream": "stdout",
       "text": [
        "\r",
        "Alpha: 0.005786  Progress: 76.96%  Words/thread/sec: 8.93k  "
       ]
      },
      {
       "output_type": "stream",
       "stream": "stdout",
       "text": [
        "\r",
        "Alpha: 0.005759  Progress: 77.07%  Words/thread/sec: 8.94k  "
       ]
      },
      {
       "output_type": "stream",
       "stream": "stdout",
       "text": [
        "\r",
        "Alpha: 0.005732  Progress: 77.18%  Words/thread/sec: 8.92k  "
       ]
      },
      {
       "output_type": "stream",
       "stream": "stdout",
       "text": [
        "\r",
        "Alpha: 0.005705  Progress: 77.28%  Words/thread/sec: 8.93k  "
       ]
      },
      {
       "output_type": "stream",
       "stream": "stdout",
       "text": [
        "\r",
        "Alpha: 0.005679  Progress: 77.39%  Words/thread/sec: 8.92k  "
       ]
      },
      {
       "output_type": "stream",
       "stream": "stdout",
       "text": [
        "\r",
        "Alpha: 0.005652  Progress: 77.50%  Words/thread/sec: 8.90k  "
       ]
      },
      {
       "output_type": "stream",
       "stream": "stdout",
       "text": [
        "\r",
        "Alpha: 0.005625  Progress: 77.61%  Words/thread/sec: 8.90k  "
       ]
      },
      {
       "output_type": "stream",
       "stream": "stdout",
       "text": [
        "\r",
        "Alpha: 0.005597  Progress: 77.72%  Words/thread/sec: 8.90k  "
       ]
      },
      {
       "output_type": "stream",
       "stream": "stdout",
       "text": [
        "\r",
        "Alpha: 0.005570  Progress: 77.82%  Words/thread/sec: 8.91k  "
       ]
      },
      {
       "output_type": "stream",
       "stream": "stdout",
       "text": [
        "\r",
        "Alpha: 0.005544  Progress: 77.93%  Words/thread/sec: 8.92k  "
       ]
      },
      {
       "output_type": "stream",
       "stream": "stdout",
       "text": [
        "\r",
        "Alpha: 0.005517  Progress: 78.04%  Words/thread/sec: 8.93k  "
       ]
      },
      {
       "output_type": "stream",
       "stream": "stdout",
       "text": [
        "\r",
        "Alpha: 0.005489  Progress: 78.15%  Words/thread/sec: 8.94k  "
       ]
      },
      {
       "output_type": "stream",
       "stream": "stdout",
       "text": [
        "\r",
        "Alpha: 0.005463  Progress: 78.26%  Words/thread/sec: 8.95k  "
       ]
      },
      {
       "output_type": "stream",
       "stream": "stdout",
       "text": [
        "\r",
        "Alpha: 0.005435  Progress: 78.37%  Words/thread/sec: 8.95k  "
       ]
      },
      {
       "output_type": "stream",
       "stream": "stdout",
       "text": [
        "\r",
        "Alpha: 0.005408  Progress: 78.48%  Words/thread/sec: 8.92k  "
       ]
      },
      {
       "output_type": "stream",
       "stream": "stdout",
       "text": [
        "\r",
        "Alpha: 0.005381  Progress: 78.58%  Words/thread/sec: 8.93k  "
       ]
      },
      {
       "output_type": "stream",
       "stream": "stdout",
       "text": [
        "\r",
        "Alpha: 0.005354  Progress: 78.69%  Words/thread/sec: 8.92k  "
       ]
      },
      {
       "output_type": "stream",
       "stream": "stdout",
       "text": [
        "\r",
        "Alpha: 0.005328  Progress: 78.80%  Words/thread/sec: 8.91k  "
       ]
      },
      {
       "output_type": "stream",
       "stream": "stdout",
       "text": [
        "\r",
        "Alpha: 0.005301  Progress: 78.91%  Words/thread/sec: 8.90k  "
       ]
      },
      {
       "output_type": "stream",
       "stream": "stdout",
       "text": [
        "\r",
        "Alpha: 0.005274  Progress: 79.02%  Words/thread/sec: 8.91k  "
       ]
      },
      {
       "output_type": "stream",
       "stream": "stdout",
       "text": [
        "\r",
        "Alpha: 0.005246  Progress: 79.12%  Words/thread/sec: 8.92k  "
       ]
      },
      {
       "output_type": "stream",
       "stream": "stdout",
       "text": [
        "\r",
        "Alpha: 0.005220  Progress: 79.23%  Words/thread/sec: 8.92k  "
       ]
      },
      {
       "output_type": "stream",
       "stream": "stdout",
       "text": [
        "\r",
        "Alpha: 0.005192  Progress: 79.34%  Words/thread/sec: 8.93k  "
       ]
      },
      {
       "output_type": "stream",
       "stream": "stdout",
       "text": [
        "\r",
        "Alpha: 0.005165  Progress: 79.45%  Words/thread/sec: 8.94k  "
       ]
      },
      {
       "output_type": "stream",
       "stream": "stdout",
       "text": [
        "\r",
        "Alpha: 0.005138  Progress: 79.57%  Words/thread/sec: 8.94k  "
       ]
      },
      {
       "output_type": "stream",
       "stream": "stdout",
       "text": [
        "\r",
        "Alpha: 0.005108  Progress: 79.67%  Words/thread/sec: 8.94k  "
       ]
      },
      {
       "output_type": "stream",
       "stream": "stdout",
       "text": [
        "\r",
        "Alpha: 0.005082  Progress: 79.78%  Words/thread/sec: 8.92k  "
       ]
      },
      {
       "output_type": "stream",
       "stream": "stdout",
       "text": [
        "\r",
        "Alpha: 0.005055  Progress: 79.89%  Words/thread/sec: 8.91k  "
       ]
      },
      {
       "output_type": "stream",
       "stream": "stdout",
       "text": [
        "\r",
        "Alpha: 0.005026  Progress: 80.00%  Words/thread/sec: 8.92k  "
       ]
      },
      {
       "output_type": "stream",
       "stream": "stdout",
       "text": [
        "\r",
        "Alpha: 0.005000  Progress: 80.11%  Words/thread/sec: 8.91k  "
       ]
      },
      {
       "output_type": "stream",
       "stream": "stdout",
       "text": [
        "\r",
        "Alpha: 0.004972  Progress: 80.22%  Words/thread/sec: 8.91k  \r",
        "Alpha: 0.004946  Progress: 80.33%  Words/thread/sec: 8.92k  "
       ]
      },
      {
       "output_type": "stream",
       "stream": "stdout",
       "text": [
        "\r",
        "Alpha: 0.004918  Progress: 80.43%  Words/thread/sec: 8.92k  "
       ]
      },
      {
       "output_type": "stream",
       "stream": "stdout",
       "text": [
        "\r",
        "Alpha: 0.004892  Progress: 80.54%  Words/thread/sec: 8.93k  "
       ]
      },
      {
       "output_type": "stream",
       "stream": "stdout",
       "text": [
        "\r",
        "Alpha: 0.004864  Progress: 80.65%  Words/thread/sec: 8.94k  "
       ]
      },
      {
       "output_type": "stream",
       "stream": "stdout",
       "text": [
        "\r",
        "Alpha: 0.004837  Progress: 80.76%  Words/thread/sec: 8.94k  "
       ]
      },
      {
       "output_type": "stream",
       "stream": "stdout",
       "text": [
        "\r",
        "Alpha: 0.004811  Progress: 80.87%  Words/thread/sec: 8.94k  "
       ]
      },
      {
       "output_type": "stream",
       "stream": "stdout",
       "text": [
        "\r",
        "Alpha: 0.004784  Progress: 80.97%  Words/thread/sec: 8.94k  "
       ]
      },
      {
       "output_type": "stream",
       "stream": "stdout",
       "text": [
        "\r",
        "Alpha: 0.004757  Progress: 81.08%  Words/thread/sec: 8.92k  "
       ]
      },
      {
       "output_type": "stream",
       "stream": "stdout",
       "text": [
        "\r",
        "Alpha: 0.004730  Progress: 81.19%  Words/thread/sec: 8.91k  "
       ]
      },
      {
       "output_type": "stream",
       "stream": "stdout",
       "text": [
        "\r",
        "Alpha: 0.004703  Progress: 81.30%  Words/thread/sec: 8.91k  "
       ]
      },
      {
       "output_type": "stream",
       "stream": "stdout",
       "text": [
        "\r",
        "Alpha: 0.004674  Progress: 81.41%  Words/thread/sec: 8.92k  "
       ]
      },
      {
       "output_type": "stream",
       "stream": "stdout",
       "text": [
        "\r",
        "Alpha: 0.004646  Progress: 81.52%  Words/thread/sec: 8.91k  "
       ]
      },
      {
       "output_type": "stream",
       "stream": "stdout",
       "text": [
        "\r",
        "Alpha: 0.004620  Progress: 81.63%  Words/thread/sec: 8.92k  "
       ]
      },
      {
       "output_type": "stream",
       "stream": "stdout",
       "text": [
        "\r",
        "Alpha: 0.004593  Progress: 81.74%  Words/thread/sec: 8.92k  "
       ]
      },
      {
       "output_type": "stream",
       "stream": "stdout",
       "text": [
        "\r",
        "Alpha: 0.004565  Progress: 81.85%  Words/thread/sec: 8.93k  "
       ]
      },
      {
       "output_type": "stream",
       "stream": "stdout",
       "text": [
        "\r",
        "Alpha: 0.004539  Progress: 81.95%  Words/thread/sec: 8.94k  \r",
        "Alpha: 0.004512  Progress: 82.06%  Words/thread/sec: 8.95k  "
       ]
      },
      {
       "output_type": "stream",
       "stream": "stdout",
       "text": [
        "\r",
        "Alpha: 0.004485  Progress: 82.17%  Words/thread/sec: 8.94k  "
       ]
      },
      {
       "output_type": "stream",
       "stream": "stdout",
       "text": [
        "\r",
        "Alpha: 0.004458  Progress: 82.28%  Words/thread/sec: 8.93k  "
       ]
      },
      {
       "output_type": "stream",
       "stream": "stdout",
       "text": [
        "\r",
        "Alpha: 0.004429  Progress: 82.39%  Words/thread/sec: 8.93k  "
       ]
      },
      {
       "output_type": "stream",
       "stream": "stdout",
       "text": [
        "\r",
        "Alpha: 0.004402  Progress: 82.50%  Words/thread/sec: 8.92k  "
       ]
      },
      {
       "output_type": "stream",
       "stream": "stdout",
       "text": [
        "\r",
        "Alpha: 0.004375  Progress: 82.61%  Words/thread/sec: 8.92k  "
       ]
      },
      {
       "output_type": "stream",
       "stream": "stdout",
       "text": [
        "\r",
        "Alpha: 0.004347  Progress: 82.72%  Words/thread/sec: 8.92k  "
       ]
      },
      {
       "output_type": "stream",
       "stream": "stdout",
       "text": [
        "\r",
        "Alpha: 0.004321  Progress: 82.83%  Words/thread/sec: 8.91k  "
       ]
      },
      {
       "output_type": "stream",
       "stream": "stdout",
       "text": [
        "\r",
        "Alpha: 0.004294  Progress: 82.93%  Words/thread/sec: 8.92k  "
       ]
      },
      {
       "output_type": "stream",
       "stream": "stdout",
       "text": [
        "\r",
        "Alpha: 0.004267  Progress: 83.05%  Words/thread/sec: 8.92k  "
       ]
      },
      {
       "output_type": "stream",
       "stream": "stdout",
       "text": [
        "\r",
        "Alpha: 0.004237  Progress: 83.16%  Words/thread/sec: 8.93k  "
       ]
      },
      {
       "output_type": "stream",
       "stream": "stdout",
       "text": [
        "\r",
        "Alpha: 0.004211  Progress: 83.26%  Words/thread/sec: 8.94k  "
       ]
      },
      {
       "output_type": "stream",
       "stream": "stdout",
       "text": [
        "\r",
        "Alpha: 0.004184  Progress: 83.37%  Words/thread/sec: 8.95k  "
       ]
      },
      {
       "output_type": "stream",
       "stream": "stdout",
       "text": [
        "\r",
        "Alpha: 0.004157  Progress: 83.48%  Words/thread/sec: 8.96k  "
       ]
      },
      {
       "output_type": "stream",
       "stream": "stdout",
       "text": [
        "\r",
        "Alpha: 0.004129  Progress: 83.59%  Words/thread/sec: 8.93k  "
       ]
      },
      {
       "output_type": "stream",
       "stream": "stdout",
       "text": [
        "\r",
        "Alpha: 0.004103  Progress: 83.70%  Words/thread/sec: 8.93k  "
       ]
      },
      {
       "output_type": "stream",
       "stream": "stdout",
       "text": [
        "\r",
        "Alpha: 0.004076  Progress: 83.80%  Words/thread/sec: 8.92k  "
       ]
      },
      {
       "output_type": "stream",
       "stream": "stdout",
       "text": [
        "\r",
        "Alpha: 0.004049  Progress: 83.92%  Words/thread/sec: 8.92k  "
       ]
      },
      {
       "output_type": "stream",
       "stream": "stdout",
       "text": [
        "\r",
        "Alpha: 0.004021  Progress: 84.02%  Words/thread/sec: 8.92k  "
       ]
      },
      {
       "output_type": "stream",
       "stream": "stdout",
       "text": [
        "\r",
        "Alpha: 0.003994  Progress: 84.13%  Words/thread/sec: 8.91k  "
       ]
      },
      {
       "output_type": "stream",
       "stream": "stdout",
       "text": [
        "\r",
        "Alpha: 0.003967  Progress: 84.24%  Words/thread/sec: 8.92k  "
       ]
      },
      {
       "output_type": "stream",
       "stream": "stdout",
       "text": [
        "\r",
        "Alpha: 0.003940  Progress: 84.35%  Words/thread/sec: 8.93k  "
       ]
      },
      {
       "output_type": "stream",
       "stream": "stdout",
       "text": [
        "\r",
        "Alpha: 0.003913  Progress: 84.46%  Words/thread/sec: 8.94k  "
       ]
      },
      {
       "output_type": "stream",
       "stream": "stdout",
       "text": [
        "\r",
        "Alpha: 0.003885  Progress: 84.57%  Words/thread/sec: 8.95k  "
       ]
      },
      {
       "output_type": "stream",
       "stream": "stdout",
       "text": [
        "\r",
        "Alpha: 0.003858  Progress: 84.67%  Words/thread/sec: 8.95k  "
       ]
      },
      {
       "output_type": "stream",
       "stream": "stdout",
       "text": [
        "\r",
        "Alpha: 0.003832  Progress: 84.79%  Words/thread/sec: 8.96k  "
       ]
      },
      {
       "output_type": "stream",
       "stream": "stdout",
       "text": [
        "\r",
        "Alpha: 0.003803  Progress: 84.89%  Words/thread/sec: 8.92k  "
       ]
      },
      {
       "output_type": "stream",
       "stream": "stdout",
       "text": [
        "\r",
        "Alpha: 0.003776  Progress: 85.01%  Words/thread/sec: 8.92k  "
       ]
      },
      {
       "output_type": "stream",
       "stream": "stdout",
       "text": [
        "\r",
        "Alpha: 0.003747  Progress: 85.12%  Words/thread/sec: 8.92k  "
       ]
      },
      {
       "output_type": "stream",
       "stream": "stdout",
       "text": [
        "\r",
        "Alpha: 0.003721  Progress: 85.23%  Words/thread/sec: 8.93k  "
       ]
      },
      {
       "output_type": "stream",
       "stream": "stdout",
       "text": [
        "\r",
        "Alpha: 0.003693  Progress: 85.33%  Words/thread/sec: 8.92k  "
       ]
      },
      {
       "output_type": "stream",
       "stream": "stdout",
       "text": [
        "\r",
        "Alpha: 0.003667  Progress: 85.44%  Words/thread/sec: 8.91k  "
       ]
      },
      {
       "output_type": "stream",
       "stream": "stdout",
       "text": [
        "\r",
        "Alpha: 0.003640  Progress: 85.55%  Words/thread/sec: 8.92k  "
       ]
      },
      {
       "output_type": "stream",
       "stream": "stdout",
       "text": [
        "\r",
        "Alpha: 0.003613  Progress: 85.66%  Words/thread/sec: 8.93k  "
       ]
      },
      {
       "output_type": "stream",
       "stream": "stdout",
       "text": [
        "\r",
        "Alpha: 0.003586  Progress: 85.76%  Words/thread/sec: 8.94k  \r",
        "Alpha: 0.003559  Progress: 85.87%  Words/thread/sec: 8.95k  "
       ]
      },
      {
       "output_type": "stream",
       "stream": "stdout",
       "text": [
        "\r",
        "Alpha: 0.003532  Progress: 85.98%  Words/thread/sec: 8.96k  "
       ]
      },
      {
       "output_type": "stream",
       "stream": "stdout",
       "text": [
        "\r",
        "Alpha: 0.003504  Progress: 86.09%  Words/thread/sec: 8.97k  "
       ]
      },
      {
       "output_type": "stream",
       "stream": "stdout",
       "text": [
        "\r",
        "Alpha: 0.003478  Progress: 86.20%  Words/thread/sec: 8.93k  "
       ]
      },
      {
       "output_type": "stream",
       "stream": "stdout",
       "text": [
        "\r",
        "Alpha: 0.003450  Progress: 86.31%  Words/thread/sec: 8.91k  "
       ]
      },
      {
       "output_type": "stream",
       "stream": "stdout",
       "text": [
        "\r",
        "Alpha: 0.003423  Progress: 86.41%  Words/thread/sec: 8.92k  "
       ]
      },
      {
       "output_type": "stream",
       "stream": "stdout",
       "text": [
        "\r",
        "Alpha: 0.003396  Progress: 86.53%  Words/thread/sec: 8.93k  "
       ]
      },
      {
       "output_type": "stream",
       "stream": "stdout",
       "text": [
        "\r",
        "Alpha: 0.003368  Progress: 86.63%  Words/thread/sec: 8.91k  "
       ]
      },
      {
       "output_type": "stream",
       "stream": "stdout",
       "text": [
        "\r",
        "Alpha: 0.003341  Progress: 86.75%  Words/thread/sec: 8.92k  "
       ]
      },
      {
       "output_type": "stream",
       "stream": "stdout",
       "text": [
        "\r",
        "Alpha: 0.003312  Progress: 86.86%  Words/thread/sec: 8.92k  "
       ]
      },
      {
       "output_type": "stream",
       "stream": "stdout",
       "text": [
        "\r",
        "Alpha: 0.003285  Progress: 86.97%  Words/thread/sec: 8.93k  \r",
        "Alpha: 0.003258  Progress: 87.08%  Words/thread/sec: 8.94k  \r",
        "Alpha: 0.003230  Progress: 87.19%  Words/thread/sec: 8.95k  "
       ]
      },
      {
       "output_type": "stream",
       "stream": "stdout",
       "text": [
        "\r",
        "Alpha: 0.003203  Progress: 87.30%  Words/thread/sec: 8.96k  "
       ]
      },
      {
       "output_type": "stream",
       "stream": "stdout",
       "text": [
        "\r",
        "Alpha: 0.003176  Progress: 87.40%  Words/thread/sec: 8.96k  "
       ]
      },
      {
       "output_type": "stream",
       "stream": "stdout",
       "text": [
        "\r",
        "Alpha: 0.003149  Progress: 87.51%  Words/thread/sec: 8.93k  "
       ]
      },
      {
       "output_type": "stream",
       "stream": "stdout",
       "text": [
        "\r",
        "Alpha: 0.003122  Progress: 87.62%  Words/thread/sec: 8.92k  "
       ]
      },
      {
       "output_type": "stream",
       "stream": "stdout",
       "text": [
        "\r",
        "Alpha: 0.003094  Progress: 87.73%  Words/thread/sec: 8.93k  "
       ]
      },
      {
       "output_type": "stream",
       "stream": "stdout",
       "text": [
        "\r",
        "Alpha: 0.003067  Progress: 87.85%  Words/thread/sec: 8.91k  "
       ]
      },
      {
       "output_type": "stream",
       "stream": "stdout",
       "text": [
        "\r",
        "Alpha: 0.003038  Progress: 87.95%  Words/thread/sec: 8.91k  "
       ]
      },
      {
       "output_type": "stream",
       "stream": "stdout",
       "text": [
        "\r",
        "Alpha: 0.003012  Progress: 88.06%  Words/thread/sec: 8.92k  "
       ]
      },
      {
       "output_type": "stream",
       "stream": "stdout",
       "text": [
        "\r",
        "Alpha: 0.002985  Progress: 88.17%  Words/thread/sec: 8.92k  \r",
        "Alpha: 0.002958  Progress: 88.28%  Words/thread/sec: 8.93k  "
       ]
      },
      {
       "output_type": "stream",
       "stream": "stdout",
       "text": [
        "\r",
        "Alpha: 0.002931  Progress: 88.38%  Words/thread/sec: 8.94k  "
       ]
      },
      {
       "output_type": "stream",
       "stream": "stdout",
       "text": [
        "\r",
        "Alpha: 0.002904  Progress: 88.49%  Words/thread/sec: 8.95k  "
       ]
      },
      {
       "output_type": "stream",
       "stream": "stdout",
       "text": [
        "\r",
        "Alpha: 0.002877  Progress: 88.60%  Words/thread/sec: 8.96k  "
       ]
      },
      {
       "output_type": "stream",
       "stream": "stdout",
       "text": [
        "\r",
        "Alpha: 0.002851  Progress: 88.71%  Words/thread/sec: 8.96k  "
       ]
      },
      {
       "output_type": "stream",
       "stream": "stdout",
       "text": [
        "\r",
        "Alpha: 0.002824  Progress: 88.81%  Words/thread/sec: 8.94k  "
       ]
      },
      {
       "output_type": "stream",
       "stream": "stdout",
       "text": [
        "\r",
        "Alpha: 0.002796  Progress: 88.92%  Words/thread/sec: 8.92k  "
       ]
      },
      {
       "output_type": "stream",
       "stream": "stdout",
       "text": [
        "\r",
        "Alpha: 0.002769  Progress: 89.03%  Words/thread/sec: 8.93k  "
       ]
      },
      {
       "output_type": "stream",
       "stream": "stdout",
       "text": [
        "\r",
        "Alpha: 0.002742  Progress: 89.14%  Words/thread/sec: 8.91k  "
       ]
      },
      {
       "output_type": "stream",
       "stream": "stdout",
       "text": [
        "\r",
        "Alpha: 0.002716  Progress: 89.24%  Words/thread/sec: 8.91k  "
       ]
      },
      {
       "output_type": "stream",
       "stream": "stdout",
       "text": [
        "\r",
        "Alpha: 0.002689  Progress: 89.35%  Words/thread/sec: 8.91k  "
       ]
      },
      {
       "output_type": "stream",
       "stream": "stdout",
       "text": [
        "\r",
        "Alpha: 0.002662  Progress: 89.46%  Words/thread/sec: 8.92k  "
       ]
      },
      {
       "output_type": "stream",
       "stream": "stdout",
       "text": [
        "\r",
        "Alpha: 0.002635  Progress: 89.57%  Words/thread/sec: 8.93k  \r",
        "Alpha: 0.002608  Progress: 89.68%  Words/thread/sec: 8.94k  "
       ]
      },
      {
       "output_type": "stream",
       "stream": "stdout",
       "text": [
        "\r",
        "Alpha: 0.002581  Progress: 89.79%  Words/thread/sec: 8.95k  "
       ]
      },
      {
       "output_type": "stream",
       "stream": "stdout",
       "text": [
        "\r",
        "Alpha: 0.002552  Progress: 89.90%  Words/thread/sec: 8.95k  "
       ]
      },
      {
       "output_type": "stream",
       "stream": "stdout",
       "text": [
        "\r",
        "Alpha: 0.002525  Progress: 90.01%  Words/thread/sec: 8.96k  "
       ]
      },
      {
       "output_type": "stream",
       "stream": "stdout",
       "text": [
        "\r",
        "Alpha: 0.002498  Progress: 90.12%  Words/thread/sec: 8.94k  "
       ]
      },
      {
       "output_type": "stream",
       "stream": "stdout",
       "text": [
        "\r",
        "Alpha: 0.002471  Progress: 90.23%  Words/thread/sec: 8.93k  "
       ]
      },
      {
       "output_type": "stream",
       "stream": "stdout",
       "text": [
        "\r",
        "Alpha: 0.002444  Progress: 90.33%  Words/thread/sec: 8.93k  "
       ]
      },
      {
       "output_type": "stream",
       "stream": "stdout",
       "text": [
        "\r",
        "Alpha: 0.002417  Progress: 90.44%  Words/thread/sec: 8.91k  "
       ]
      },
      {
       "output_type": "stream",
       "stream": "stdout",
       "text": [
        "\r",
        "Alpha: 0.002390  Progress: 90.55%  Words/thread/sec: 8.91k  "
       ]
      },
      {
       "output_type": "stream",
       "stream": "stdout",
       "text": [
        "\r",
        "Alpha: 0.002364  Progress: 90.65%  Words/thread/sec: 8.92k  "
       ]
      },
      {
       "output_type": "stream",
       "stream": "stdout",
       "text": [
        "\r",
        "Alpha: 0.002337  Progress: 90.76%  Words/thread/sec: 8.92k  \r",
        "Alpha: 0.002310  Progress: 90.87%  Words/thread/sec: 8.93k  "
       ]
      },
      {
       "output_type": "stream",
       "stream": "stdout",
       "text": [
        "\r",
        "Alpha: 0.002283  Progress: 90.97%  Words/thread/sec: 8.94k  "
       ]
      },
      {
       "output_type": "stream",
       "stream": "stdout",
       "text": [
        "\r",
        "Alpha: 0.002257  Progress: 91.08%  Words/thread/sec: 8.95k  "
       ]
      },
      {
       "output_type": "stream",
       "stream": "stdout",
       "text": [
        "\r",
        "Alpha: 0.002230  Progress: 91.19%  Words/thread/sec: 8.96k  "
       ]
      },
      {
       "output_type": "stream",
       "stream": "stdout",
       "text": [
        "\r",
        "Alpha: 0.002203  Progress: 91.30%  Words/thread/sec: 8.96k  "
       ]
      },
      {
       "output_type": "stream",
       "stream": "stdout",
       "text": [
        "\r",
        "Alpha: 0.002176  Progress: 91.40%  Words/thread/sec: 8.94k  "
       ]
      },
      {
       "output_type": "stream",
       "stream": "stdout",
       "text": [
        "\r",
        "Alpha: 0.002149  Progress: 91.51%  Words/thread/sec: 8.93k  "
       ]
      },
      {
       "output_type": "stream",
       "stream": "stdout",
       "text": [
        "\r",
        "Alpha: 0.002122  Progress: 91.62%  Words/thread/sec: 8.93k  "
       ]
      },
      {
       "output_type": "stream",
       "stream": "stdout",
       "text": [
        "\r",
        "Alpha: 0.002095  Progress: 91.73%  Words/thread/sec: 8.90k  "
       ]
      },
      {
       "output_type": "stream",
       "stream": "stdout",
       "text": [
        "\r",
        "Alpha: 0.002068  Progress: 91.83%  Words/thread/sec: 8.91k  "
       ]
      },
      {
       "output_type": "stream",
       "stream": "stdout",
       "text": [
        "\r",
        "Alpha: 0.002041  Progress: 91.94%  Words/thread/sec: 8.92k  \r",
        "Alpha: 0.002014  Progress: 92.05%  Words/thread/sec: 8.93k  "
       ]
      },
      {
       "output_type": "stream",
       "stream": "stdout",
       "text": [
        "\r",
        "Alpha: 0.001987  Progress: 92.16%  Words/thread/sec: 8.93k  "
       ]
      },
      {
       "output_type": "stream",
       "stream": "stdout",
       "text": [
        "\r",
        "Alpha: 0.001960  Progress: 92.26%  Words/thread/sec: 8.94k  "
       ]
      },
      {
       "output_type": "stream",
       "stream": "stdout",
       "text": [
        "\r",
        "Alpha: 0.001934  Progress: 92.37%  Words/thread/sec: 8.95k  \r",
        "Alpha: 0.001907  Progress: 92.48%  Words/thread/sec: 8.96k  "
       ]
      },
      {
       "output_type": "stream",
       "stream": "stdout",
       "text": [
        "\r",
        "Alpha: 0.001881  Progress: 92.58%  Words/thread/sec: 8.96k  "
       ]
      },
      {
       "output_type": "stream",
       "stream": "stdout",
       "text": [
        "\r",
        "Alpha: 0.001854  Progress: 92.69%  Words/thread/sec: 8.94k  "
       ]
      },
      {
       "output_type": "stream",
       "stream": "stdout",
       "text": [
        "\r",
        "Alpha: 0.001827  Progress: 92.80%  Words/thread/sec: 8.92k  "
       ]
      },
      {
       "output_type": "stream",
       "stream": "stdout",
       "text": [
        "\r",
        "Alpha: 0.001799  Progress: 92.92%  Words/thread/sec: 8.93k  "
       ]
      },
      {
       "output_type": "stream",
       "stream": "stdout",
       "text": [
        "\r",
        "Alpha: 0.001770  Progress: 93.02%  Words/thread/sec: 8.90k  "
       ]
      },
      {
       "output_type": "stream",
       "stream": "stdout",
       "text": [
        "\r",
        "Alpha: 0.001744  Progress: 93.13%  Words/thread/sec: 8.91k  "
       ]
      },
      {
       "output_type": "stream",
       "stream": "stdout",
       "text": [
        "\r",
        "Alpha: 0.001717  Progress: 93.24%  Words/thread/sec: 8.92k  "
       ]
      },
      {
       "output_type": "stream",
       "stream": "stdout",
       "text": [
        "\r",
        "Alpha: 0.001690  Progress: 93.35%  Words/thread/sec: 8.93k  "
       ]
      },
      {
       "output_type": "stream",
       "stream": "stdout",
       "text": [
        "\r",
        "Alpha: 0.001663  Progress: 93.46%  Words/thread/sec: 8.94k  "
       ]
      },
      {
       "output_type": "stream",
       "stream": "stdout",
       "text": [
        "\r",
        "Alpha: 0.001636  Progress: 93.56%  Words/thread/sec: 8.94k  \r",
        "Alpha: 0.001609  Progress: 93.67%  Words/thread/sec: 8.95k  "
       ]
      },
      {
       "output_type": "stream",
       "stream": "stdout",
       "text": [
        "\r",
        "Alpha: 0.001582  Progress: 93.78%  Words/thread/sec: 8.95k  "
       ]
      },
      {
       "output_type": "stream",
       "stream": "stdout",
       "text": [
        "\r",
        "Alpha: 0.001555  Progress: 93.89%  Words/thread/sec: 8.95k  "
       ]
      },
      {
       "output_type": "stream",
       "stream": "stdout",
       "text": [
        "\r",
        "Alpha: 0.001528  Progress: 94.00%  Words/thread/sec: 8.95k  "
       ]
      },
      {
       "output_type": "stream",
       "stream": "stdout",
       "text": [
        "\r",
        "Alpha: 0.001501  Progress: 94.11%  Words/thread/sec: 8.92k  "
       ]
      },
      {
       "output_type": "stream",
       "stream": "stdout",
       "text": [
        "\r",
        "Alpha: 0.001474  Progress: 94.21%  Words/thread/sec: 8.92k  "
       ]
      },
      {
       "output_type": "stream",
       "stream": "stdout",
       "text": [
        "\r",
        "Alpha: 0.001447  Progress: 94.32%  Words/thread/sec: 8.90k  "
       ]
      },
      {
       "output_type": "stream",
       "stream": "stdout",
       "text": [
        "\r",
        "Alpha: 0.001421  Progress: 94.42%  Words/thread/sec: 8.91k  \r",
        "Alpha: 0.001394  Progress: 94.53%  Words/thread/sec: 8.92k  "
       ]
      },
      {
       "output_type": "stream",
       "stream": "stdout",
       "text": [
        "\r",
        "Alpha: 0.001368  Progress: 94.64%  Words/thread/sec: 8.93k  "
       ]
      },
      {
       "output_type": "stream",
       "stream": "stdout",
       "text": [
        "\r",
        "Alpha: 0.001341  Progress: 94.74%  Words/thread/sec: 8.94k  "
       ]
      },
      {
       "output_type": "stream",
       "stream": "stdout",
       "text": [
        "\r",
        "Alpha: 0.001314  Progress: 94.85%  Words/thread/sec: 8.94k  "
       ]
      },
      {
       "output_type": "stream",
       "stream": "stdout",
       "text": [
        "\r",
        "Alpha: 0.001287  Progress: 94.96%  Words/thread/sec: 8.95k  "
       ]
      },
      {
       "output_type": "stream",
       "stream": "stdout",
       "text": [
        "\r",
        "Alpha: 0.001260  Progress: 95.07%  Words/thread/sec: 8.96k  "
       ]
      },
      {
       "output_type": "stream",
       "stream": "stdout",
       "text": [
        "\r",
        "Alpha: 0.001234  Progress: 95.17%  Words/thread/sec: 8.94k  "
       ]
      },
      {
       "output_type": "stream",
       "stream": "stdout",
       "text": [
        "\r",
        "Alpha: 0.001207  Progress: 95.28%  Words/thread/sec: 8.94k  "
       ]
      },
      {
       "output_type": "stream",
       "stream": "stdout",
       "text": [
        "\r",
        "Alpha: 0.001180  Progress: 95.39%  Words/thread/sec: 8.92k  \r",
        "Alpha: 0.001153  Progress: 95.50%  Words/thread/sec: 8.93k  "
       ]
      },
      {
       "output_type": "stream",
       "stream": "stdout",
       "text": [
        "\r",
        "Alpha: 0.001126  Progress: 95.60%  Words/thread/sec: 8.91k  "
       ]
      },
      {
       "output_type": "stream",
       "stream": "stdout",
       "text": [
        "\r",
        "Alpha: 0.001099  Progress: 95.71%  Words/thread/sec: 8.91k  "
       ]
      },
      {
       "output_type": "stream",
       "stream": "stdout",
       "text": [
        "\r",
        "Alpha: 0.001073  Progress: 95.82%  Words/thread/sec: 8.92k  \r",
        "Alpha: 0.001046  Progress: 95.93%  Words/thread/sec: 8.93k  \r",
        "Alpha: 0.001019  Progress: 96.03%  Words/thread/sec: 8.94k  "
       ]
      },
      {
       "output_type": "stream",
       "stream": "stdout",
       "text": [
        "\r",
        "Alpha: 0.000991  Progress: 96.14%  Words/thread/sec: 8.94k  "
       ]
      },
      {
       "output_type": "stream",
       "stream": "stdout",
       "text": [
        "\r",
        "Alpha: 0.000965  Progress: 96.25%  Words/thread/sec: 8.95k  \r",
        "Alpha: 0.000938  Progress: 96.35%  Words/thread/sec: 8.96k  "
       ]
      },
      {
       "output_type": "stream",
       "stream": "stdout",
       "text": [
        "\r",
        "Alpha: 0.000912  Progress: 96.46%  Words/thread/sec: 8.94k  "
       ]
      },
      {
       "output_type": "stream",
       "stream": "stdout",
       "text": [
        "\r",
        "Alpha: 0.000884  Progress: 96.57%  Words/thread/sec: 8.94k  "
       ]
      },
      {
       "output_type": "stream",
       "stream": "stdout",
       "text": [
        "\r",
        "Alpha: 0.000858  Progress: 96.68%  Words/thread/sec: 8.92k  "
       ]
      },
      {
       "output_type": "stream",
       "stream": "stdout",
       "text": [
        "\r",
        "Alpha: 0.000830  Progress: 96.79%  Words/thread/sec: 8.93k  "
       ]
      },
      {
       "output_type": "stream",
       "stream": "stdout",
       "text": [
        "\r",
        "Alpha: 0.000803  Progress: 96.89%  Words/thread/sec: 8.90k  "
       ]
      },
      {
       "output_type": "stream",
       "stream": "stdout",
       "text": [
        "\r",
        "Alpha: 0.000776  Progress: 97.00%  Words/thread/sec: 8.91k  "
       ]
      },
      {
       "output_type": "stream",
       "stream": "stdout",
       "text": [
        "\r",
        "Alpha: 0.000749  Progress: 97.11%  Words/thread/sec: 8.92k  "
       ]
      },
      {
       "output_type": "stream",
       "stream": "stdout",
       "text": [
        "\r",
        "Alpha: 0.000722  Progress: 97.22%  Words/thread/sec: 8.93k  "
       ]
      },
      {
       "output_type": "stream",
       "stream": "stdout",
       "text": [
        "\r",
        "Alpha: 0.000696  Progress: 97.33%  Words/thread/sec: 8.93k  \r",
        "Alpha: 0.000667  Progress: 97.44%  Words/thread/sec: 8.94k  "
       ]
      },
      {
       "output_type": "stream",
       "stream": "stdout",
       "text": [
        "\r",
        "Alpha: 0.000640  Progress: 97.55%  Words/thread/sec: 8.95k  "
       ]
      },
      {
       "output_type": "stream",
       "stream": "stdout",
       "text": [
        "\r",
        "Alpha: 0.000613  Progress: 97.65%  Words/thread/sec: 8.96k  "
       ]
      },
      {
       "output_type": "stream",
       "stream": "stdout",
       "text": [
        "\r",
        "Alpha: 0.000587  Progress: 97.76%  Words/thread/sec: 8.94k  "
       ]
      },
      {
       "output_type": "stream",
       "stream": "stdout",
       "text": [
        "\r",
        "Alpha: 0.000560  Progress: 97.87%  Words/thread/sec: 8.94k  "
       ]
      },
      {
       "output_type": "stream",
       "stream": "stdout",
       "text": [
        "\r",
        "Alpha: 0.000533  Progress: 97.98%  Words/thread/sec: 8.93k  "
       ]
      },
      {
       "output_type": "stream",
       "stream": "stdout",
       "text": [
        "\r",
        "Alpha: 0.000506  Progress: 98.08%  Words/thread/sec: 8.90k  \r",
        "Alpha: 0.000479  Progress: 98.19%  Words/thread/sec: 8.91k  \r",
        "Alpha: 0.000452  Progress: 98.30%  Words/thread/sec: 8.92k  "
       ]
      },
      {
       "output_type": "stream",
       "stream": "stdout",
       "text": [
        "\r",
        "Alpha: 0.000425  Progress: 98.41%  Words/thread/sec: 8.92k  \r",
        "Alpha: 0.000398  Progress: 98.51%  Words/thread/sec: 8.93k  "
       ]
      },
      {
       "output_type": "stream",
       "stream": "stdout",
       "text": [
        "\r",
        "Alpha: 0.000372  Progress: 98.62%  Words/thread/sec: 8.93k  "
       ]
      },
      {
       "output_type": "stream",
       "stream": "stdout",
       "text": [
        "\r",
        "Alpha: 0.000345  Progress: 98.74%  Words/thread/sec: 8.94k  "
       ]
      },
      {
       "output_type": "stream",
       "stream": "stdout",
       "text": [
        "\r",
        "Alpha: 0.000316  Progress: 98.85%  Words/thread/sec: 8.95k  "
       ]
      },
      {
       "output_type": "stream",
       "stream": "stdout",
       "text": [
        "\r",
        "Alpha: 0.000287  Progress: 98.96%  Words/thread/sec: 8.94k  "
       ]
      },
      {
       "output_type": "stream",
       "stream": "stdout",
       "text": [
        "\r",
        "Alpha: 0.000260  Progress: 99.07%  Words/thread/sec: 8.95k  "
       ]
      },
      {
       "output_type": "stream",
       "stream": "stdout",
       "text": [
        "\r",
        "Alpha: 0.000233  Progress: 99.18%  Words/thread/sec: 8.92k  "
       ]
      },
      {
       "output_type": "stream",
       "stream": "stdout",
       "text": [
        "\r",
        "Alpha: 0.000206  Progress: 99.29%  Words/thread/sec: 8.93k  "
       ]
      },
      {
       "output_type": "stream",
       "stream": "stdout",
       "text": [
        "\r",
        "Alpha: 0.000179  Progress: 99.39%  Words/thread/sec: 8.94k  "
       ]
      },
      {
       "output_type": "stream",
       "stream": "stdout",
       "text": [
        "\r",
        "Alpha: 0.000152  Progress: 99.50%  Words/thread/sec: 8.94k  "
       ]
      },
      {
       "output_type": "stream",
       "stream": "stdout",
       "text": [
        "\r\n",
        "real\t5m3.468s\r\n",
        "user\t17m48.830s\r\n",
        "sys\t0m4.009s\r\n"
       ]
      }
     ],
     "prompt_number": 9
    },
    {
     "cell_type": "code",
     "collapsed": false,
     "input": [],
     "language": "python",
     "metadata": {},
     "outputs": []
    }
   ],
   "metadata": {}
  }
 ]
}