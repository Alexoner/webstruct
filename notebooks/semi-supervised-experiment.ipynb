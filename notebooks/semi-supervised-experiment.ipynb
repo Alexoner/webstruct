{
 "metadata": {
  "name": "semi-supervised-experiment"
 },
 "nbformat": 3,
 "nbformat_minor": 0,
 "worksheets": [
  {
   "cells": [
    {
     "cell_type": "markdown",
     "metadata": {},
     "source": [
      "## Ireland corpus"
     ]
    },
    {
     "cell_type": "markdown",
     "metadata": {},
     "source": [
      "### Build word vector with 6k Ireland pages"
     ]
    },
    {
     "cell_type": "code",
     "collapsed": false,
     "input": [
      "!time ~/github/word2vec/bin/word2vec -train ../webstruct_data/experiments/ie-pages-6k.txt -output ../webstruct_data/experiments/ie-pages-6k-vector.bin -debug 0 -cbow 0 -size 200 -window 5 -negative 0 -hs 1 -sample 1e-3 -threads 12 -binary 1"
     ],
     "language": "python",
     "metadata": {},
     "outputs": [
      {
       "output_type": "stream",
       "stream": "stdout",
       "text": [
        "Starting training using file ../webstruct_data/experiments/ie-pages-6k.txt\r\n"
       ]
      },
      {
       "output_type": "stream",
       "stream": "stdout",
       "text": [
        "\r\n",
        "real\t1m36.075s\r\n",
        "user\t3m21.795s\r\n",
        "sys\t0m0.694s\r\n"
       ]
      }
     ],
     "prompt_number": 1
    },
    {
     "cell_type": "markdown",
     "metadata": {},
     "source": [
      "### Play with Gensim"
     ]
    },
    {
     "cell_type": "code",
     "collapsed": false,
     "input": [
      "from gensim.models import word2vec\n",
      "model = word2vec.Word2Vec.load_word2vec_format('../webstruct_data/experiments/ie-pages-6k-vector.bin', binary=True)\n",
      "\n",
      "print model.most_similar(positive=['Ireland'], topn=10)\n",
      "print model.most_similar(positive=['Ireland', 'Cork'], negative=['Dublin'], topn=10)"
     ],
     "language": "python",
     "metadata": {},
     "outputs": [
      {
       "output_type": "stream",
       "stream": "stdout",
       "text": [
        "[('Ireland.', 0.66851592), ('Cork', 0.52629924), ('Limerick', 0.49888781), ('Mayo', 0.46465188), ('Wexford', 0.45152059), ('County', 0.43921545), ('Co.Kilkenny', 0.42596585), ('Ireland:', 0.42546314), ('Armagh', 0.42454562), ('Fermanagh', 0.42138886)]"
       ]
      },
      {
       "output_type": "stream",
       "stream": "stdout",
       "text": [
        "\n",
        "[('Limerick', 0.52340448), ('Ireland.', 0.50141197), ('Mayo', 0.45331755), ('Clare', 0.44646704), ('Waterford', 0.44110477), ('County', 0.42385077), ('Galway', 0.40865743), ('Donegal', 0.40553492), ('Kilkenny', 0.40232804), ('Kerry', 0.39405793)]\n"
       ]
      }
     ],
     "prompt_number": 2
    },
    {
     "cell_type": "markdown",
     "metadata": {},
     "source": [
      "### Build 500 classes with 6k Ireland pages"
     ]
    },
    {
     "cell_type": "code",
     "collapsed": false,
     "input": [
      "!time ~/github/word2vec/bin/word2vec -train ../webstruct_data/experiments/ie-pages-6k.txt -debug 0 -output ../webstruct_data/experiments/ie-pages-6k-classes.txt -cbow 0 -size 200 -window 5 -negative 0 -hs 1 -sample 1e-3 -threads 12 -classes 500\n",
      "!sort ../webstruct_data/experiments/ie-pages-6k-classes.txt -k 2 -n > ../webstruct_data/experiments/ie-6k-classes-500.txt"
     ],
     "language": "python",
     "metadata": {},
     "outputs": [
      {
       "output_type": "stream",
       "stream": "stdout",
       "text": [
        "Starting training using file ../webstruct_data/experiments/ie-pages-6k.txt\r\n"
       ]
      },
      {
       "output_type": "stream",
       "stream": "stdout",
       "text": [
        "\r\n",
        "real\t1m44.507s\r\n",
        "user\t4m3.090s\r\n",
        "sys\t0m0.716s\r\n"
       ]
      }
     ],
     "prompt_number": 3
    }
   ],
   "metadata": {}
  }
 ]
}